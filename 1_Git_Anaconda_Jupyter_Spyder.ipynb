{
 "cells": [
  {
   "cell_type": "markdown",
   "metadata": {},
   "source": [
    "# 1 Git, Anaconda, Jupyter, and Spyder"
   ]
  },
  {
   "cell_type": "markdown",
   "metadata": {},
   "source": [
    "## Git\n",
    "\n",
    "Git is a version control software that lets you keep track of the history of your code, data, and documents. To download the course materials run `$ git clone https://github.com/philipp-germann/BIST-Python-Bootcamp.git`.\n",
    "\n",
    "### Commits\n",
    "You can view your changes to tracked files using `$ git diff` and get an overview using `$ git status`. You can then stage changes using `$ git add file-name` and create a checkpoint with the staged changes using `$ git commit -m \"Commit message\"`. This message should be short, if you want to add more information skip the `-m` and an editor will open. The first line is the commit message, the second gets removed and everything else will be stored as commit message.\n",
    "\n",
    "### Remote repositories\n",
    "Your local git repository is connected to a remote repository, e.g. the one you cloned (which is the default). Remove repositories are often hosted by providers like [GitHub](https://github.com) or [GitLab](https://gitlab.com), which provide a graphical interface. You can download updates using `$ git pull` and upload your changes using `$ git push` if you have the rights.\n",
    "\n",
    "### Stash and branch\n",
    "If you need to quickly interupt your current taks to work on something else you can save and remove your unstaged changes with `$ git stash` and restore them with `$ git stash apply`. If you want to keep track of several versions of your software, e.g. a stable version and one (for each new feature) under development, you can use [branches](https://git-scm.com/docs/git-branch)."
   ]
  }
 ],
 "metadata": {
  "kernelspec": {
   "display_name": "Python [conda root]",
   "language": "python",
   "name": "conda-root-py"
  },
  "language_info": {
   "codemirror_mode": {
    "name": "ipython",
    "version": 3
   },
   "file_extension": ".py",
   "mimetype": "text/x-python",
   "name": "python",
   "nbconvert_exporter": "python",
   "pygments_lexer": "ipython3",
   "version": "3.5.2"
  }
 },
 "nbformat": 4,
 "nbformat_minor": 2
}
