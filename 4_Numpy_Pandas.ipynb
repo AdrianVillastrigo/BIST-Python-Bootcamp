{
 "cells": [
  {
   "cell_type": "markdown",
   "metadata": {},
   "source": [
    "# 4 NumPy and Pandas\n",
    "\n",
    "## Introduction\n",
    "\n",
    "After getting used to how Python works, it is the moment to begin getting our hands dirty with data analysis. We will study two packages: [NumPy](http://www.numpy.org/) is the fundamental numeric computing and linear algebra package in Python, that allows for decent data analysis. We will learn it not only for the data analysis, but more importantly because it will be a package that will be always present in our `import` section as scientists. After NumPy we will go to [Pandas](http://pandas.pydata.org/). Pandas is a dedicated data analysis package with a lot more functionalities than NumPy, making our life much easier in terms of data visualization and manipulation. All the power of Pandas will be completely unleashed in Section 5, where we will see how to visualize information in plots.\n",
    "\n",
    "As usual, we begin importing the necessary packages"
   ]
  },
  {
   "cell_type": "code",
   "execution_count": 1,
   "metadata": {},
   "outputs": [
    {
     "name": "stdout",
     "output_type": "stream",
     "text": [
      "NumPy: 1.14.3\n"
     ]
    }
   ],
   "source": [
    "import numpy as np\n",
    "print('NumPy:', np.__version__)"
   ]
  },
  {
   "cell_type": "markdown",
   "metadata": {},
   "source": [
    "## Numeric Python (NumPy)\n",
    "\n",
    "NumPy is an open-source add-on module to Python that provides common mathematical and numerical routines in pre-compiled, fast functions. These are growing into highly mature packages that provide functionality that meets, or perhaps exceeds, that\n",
    "associated with common commercial software like MATLAB. The [NumPy](http://www.numpy.org/) (Numeric Python) package provides basic routines for manipulating large arrays and matrices of numeric data. The main object NumPy works with is a *homogeneous multidimensional array*. Despite its intimidating name, these are nothing but tables of numbers, each labelled by a tuple of indices.\n",
    "\n",
    "We will now explore some capabilities of NumPy that will prove very useful not only for data analyisis, but throughout all our life with Python."
   ]
  },
  {
   "cell_type": "markdown",
   "metadata": {},
   "source": [
    "### Creating Arrays\n",
    "\n",
    "As mentioned before, the main object in NumPy is the *array*. Creating one is as easy as calling the command `array`"
   ]
  },
  {
   "cell_type": "code",
   "execution_count": 2,
   "metadata": {},
   "outputs": [
    {
     "data": {
      "text/plain": [
       "array([1, 2, 3, 4, 5, 6, 7, 8, 9])"
      ]
     },
     "execution_count": 2,
     "metadata": {},
     "output_type": "execute_result"
    }
   ],
   "source": [
    "mylist = [1, 2, 3, 4, 5, 6, 7, 8, 9]\n",
    "my1darr = np.array(mylist)\n",
    "my1darr"
   ]
  },
  {
   "cell_type": "code",
   "execution_count": 3,
   "metadata": {},
   "outputs": [
    {
     "data": {
      "text/plain": [
       "numpy.ndarray"
      ]
     },
     "execution_count": 3,
     "metadata": {},
     "output_type": "execute_result"
    }
   ],
   "source": [
    "type(my1darr)"
   ]
  },
  {
   "cell_type": "markdown",
   "metadata": {},
   "source": [
    "The same applies to multidimensional arrays"
   ]
  },
  {
   "cell_type": "code",
   "execution_count": 4,
   "metadata": {},
   "outputs": [
    {
     "data": {
      "text/plain": [
       "array([[1, 2, 3],\n",
       "       [4, 5, 6],\n",
       "       [7, 8, 9]])"
      ]
     },
     "execution_count": 4,
     "metadata": {},
     "output_type": "execute_result"
    }
   ],
   "source": [
    "my2darr = np.array([[1, 2, 3], [4, 5, 6], [7, 8, 9]])\n",
    "my2darr"
   ]
  },
  {
   "cell_type": "code",
   "execution_count": 5,
   "metadata": {},
   "outputs": [
    {
     "data": {
      "text/plain": [
       "array([[[1],\n",
       "        [2],\n",
       "        [3]],\n",
       "\n",
       "       [[4],\n",
       "        [5],\n",
       "        [6]],\n",
       "\n",
       "       [[7],\n",
       "        [8],\n",
       "        [9]]])"
      ]
     },
     "execution_count": 5,
     "metadata": {},
     "output_type": "execute_result"
    }
   ],
   "source": [
    "my3darr = np.array([  [ [1], [2], [3] ], [ [4], [5], [6] ], [ [7], [8], [9] ]  ])\n",
    "my3darr"
   ]
  },
  {
   "cell_type": "markdown",
   "metadata": {},
   "source": [
    "A NumPy array has a number of dimensions (or *axes*). To obtain the number of axes and the size of each of them you use the command `shape`. For 2-dimensional arrays (matrices), the order corresponds to (rows, columns)\n",
    "\n",
    "There are two different ways of calling the `shape` command, either with `np.shape(arr)` or `arr.shape`. This is not the only command that works in both formats, and we will be finding some more in our way."
   ]
  },
  {
   "cell_type": "code",
   "execution_count": 6,
   "metadata": {},
   "outputs": [
    {
     "name": "stdout",
     "output_type": "stream",
     "text": [
      "(9,)\n",
      "(3, 3)\n",
      "(3, 3, 1)\n",
      "(9,)\n",
      "(3, 3)\n",
      "(3, 3, 1)\n"
     ]
    }
   ],
   "source": [
    "print(my1darr.shape)\n",
    "print(my2darr.shape)\n",
    "print(my3darr.shape)\n",
    "\n",
    "print(np.shape(my1darr))\n",
    "print(np.shape(my2darr))\n",
    "print(np.shape(my3darr))"
   ]
  },
  {
   "cell_type": "markdown",
   "metadata": {},
   "source": [
    "There is one restriction with respect to the use of lists: while you could create lists with data of different type, all the data in an array has to be of the same type, and it will be converted automatically."
   ]
  },
  {
   "cell_type": "code",
   "execution_count": 7,
   "metadata": {},
   "outputs": [
    {
     "name": "stdout",
     "output_type": "stream",
     "text": [
      "1.0\n",
      "1.0\n",
      "False\n",
      "<class 'float'>\n",
      "<class 'numpy.str_'>\n"
     ]
    }
   ],
   "source": [
    "lst = [1., 'cat']\n",
    "print((lst[0]))\n",
    "\n",
    "arr = np.array(lst)\n",
    "print((arr[0]))\n",
    "\n",
    "print( type((lst[0])) == type((arr[0])) )\n",
    "\n",
    "print(type(lst[0]))\n",
    "print(type(arr[0]))"
   ]
  },
  {
   "cell_type": "markdown",
   "metadata": {},
   "source": [
    "(We will go deeper into indexing in a while)"
   ]
  },
  {
   "cell_type": "markdown",
   "metadata": {},
   "source": [
    "### Special Arrays\n",
    "\n",
    "Now we review some built-in functions that create matrices commonly used. `ones` and `zeros` return arrays of given shape and type (default is float64), filled with ones or zeros, respectively."
   ]
  },
  {
   "cell_type": "code",
   "execution_count": 8,
   "metadata": {},
   "outputs": [
    {
     "data": {
      "text/plain": [
       "array([[0., 0.],\n",
       "       [0., 0.],\n",
       "       [0., 0.]])"
      ]
     },
     "execution_count": 8,
     "metadata": {},
     "output_type": "execute_result"
    }
   ],
   "source": [
    "np.zeros((3, 2))"
   ]
  },
  {
   "cell_type": "code",
   "execution_count": 9,
   "metadata": {},
   "outputs": [
    {
     "data": {
      "text/plain": [
       "array([[[1, 1, 1, 1],\n",
       "        [1, 1, 1, 1]],\n",
       "\n",
       "       [[1, 1, 1, 1],\n",
       "        [1, 1, 1, 1]],\n",
       "\n",
       "       [[1, 1, 1, 1],\n",
       "        [1, 1, 1, 1]]], dtype=int8)"
      ]
     },
     "execution_count": 9,
     "metadata": {},
     "output_type": "execute_result"
    }
   ],
   "source": [
    "np.ones((3, 2, 4), dtype=np.int8)"
   ]
  },
  {
   "cell_type": "markdown",
   "metadata": {},
   "source": [
    "`eye(d)` returns a 2-D, dimension-$d$ array with ones on the diagonal and zeros elsewhere."
   ]
  },
  {
   "cell_type": "code",
   "execution_count": 10,
   "metadata": {},
   "outputs": [
    {
     "data": {
      "text/plain": [
       "array([[1., 0., 0.],\n",
       "       [0., 1., 0.],\n",
       "       [0., 0., 1.]])"
      ]
     },
     "execution_count": 10,
     "metadata": {},
     "output_type": "execute_result"
    }
   ],
   "source": [
    "np.eye(3)"
   ]
  },
  {
   "cell_type": "markdown",
   "metadata": {},
   "source": [
    "`eye` can also create arrays with ones in upper and lower diagonals. To achieve this, you must call `eye(d, d, k)` where $k$ denotes the diagonal (positive for above the center diagonal, negative for below), or `eye(d, k=num)`"
   ]
  },
  {
   "cell_type": "code",
   "execution_count": 11,
   "metadata": {},
   "outputs": [
    {
     "name": "stdout",
     "output_type": "stream",
     "text": [
      "[[0. 0. 1. 0. 0.]\n",
      " [0. 0. 0. 1. 0.]\n",
      " [0. 0. 0. 0. 1.]\n",
      " [0. 0. 0. 0. 0.]\n",
      " [0. 0. 0. 0. 0.]]\n"
     ]
    },
    {
     "data": {
      "text/plain": [
       "array([[0., 0., 0., 0., 0.],\n",
       "       [1., 0., 0., 0., 0.],\n",
       "       [0., 1., 0., 0., 0.],\n",
       "       [0., 0., 1., 0., 0.],\n",
       "       [0., 0., 0., 1., 0.]])"
      ]
     },
     "execution_count": 11,
     "metadata": {},
     "output_type": "execute_result"
    }
   ],
   "source": [
    "print(np.eye(5, 5, 2))\n",
    "np.eye(5, k=-1)"
   ]
  },
  {
   "cell_type": "markdown",
   "metadata": {},
   "source": [
    "`diag`, depending on the input, either constructs a diagonal array (if the input is a 1-D array) or extracts a diagonal from a matrix (if the input is a 2-D array)."
   ]
  },
  {
   "cell_type": "code",
   "execution_count": 12,
   "metadata": {
    "scrolled": true
   },
   "outputs": [
    {
     "data": {
      "text/plain": [
       "array([[0, 1, 0, 0, 0, 0, 0, 0, 0, 0],\n",
       "       [0, 0, 2, 0, 0, 0, 0, 0, 0, 0],\n",
       "       [0, 0, 0, 3, 0, 0, 0, 0, 0, 0],\n",
       "       [0, 0, 0, 0, 4, 0, 0, 0, 0, 0],\n",
       "       [0, 0, 0, 0, 0, 5, 0, 0, 0, 0],\n",
       "       [0, 0, 0, 0, 0, 0, 6, 0, 0, 0],\n",
       "       [0, 0, 0, 0, 0, 0, 0, 7, 0, 0],\n",
       "       [0, 0, 0, 0, 0, 0, 0, 0, 8, 0],\n",
       "       [0, 0, 0, 0, 0, 0, 0, 0, 0, 9],\n",
       "       [0, 0, 0, 0, 0, 0, 0, 0, 0, 0]])"
      ]
     },
     "execution_count": 12,
     "metadata": {},
     "output_type": "execute_result"
    }
   ],
   "source": [
    "np.diag(my1darr, 1)"
   ]
  },
  {
   "cell_type": "code",
   "execution_count": 13,
   "metadata": {},
   "outputs": [
    {
     "data": {
      "text/plain": [
       "array([1, 5, 9])"
      ]
     },
     "execution_count": 13,
     "metadata": {},
     "output_type": "execute_result"
    }
   ],
   "source": [
    "np.diag(my2darr)"
   ]
  },
  {
   "cell_type": "code",
   "execution_count": 14,
   "metadata": {},
   "outputs": [
    {
     "data": {
      "text/plain": [
       "array([[1, 0, 0],\n",
       "       [0, 5, 0],\n",
       "       [0, 0, 9]])"
      ]
     },
     "execution_count": 14,
     "metadata": {},
     "output_type": "execute_result"
    }
   ],
   "source": [
    "np.diag(np.diag(my2darr))"
   ]
  },
  {
   "cell_type": "markdown",
   "metadata": {},
   "source": [
    "`arange(begin, end, step)` returns evenly spaced values within a given interval. Note that the beginning point is included, but not the ending."
   ]
  },
  {
   "cell_type": "code",
   "execution_count": 15,
   "metadata": {},
   "outputs": [
    {
     "data": {
      "text/plain": [
       "array([ 0,  2,  4,  6,  8, 10, 12, 14])"
      ]
     },
     "execution_count": 15,
     "metadata": {},
     "output_type": "execute_result"
    }
   ],
   "source": [
    "myrange = np.arange(0, 16, 2) # start at 0 count up by 2, stop before 16\n",
    "myrange"
   ]
  },
  {
   "cell_type": "markdown",
   "metadata": {},
   "source": [
    "**Exercise 1**: Create an array of the first million of odd numbers, both with `arange` and using loops. Try timing both methods to see which one is faster. For that, use `%timeit`."
   ]
  },
  {
   "cell_type": "code",
   "execution_count": 16,
   "metadata": {},
   "outputs": [
    {
     "name": "stdout",
     "output_type": "stream",
     "text": [
      "5.69 ms ± 692 µs per loop (mean ± std. dev. of 7 runs, 100 loops each)\n",
      "330 ms ± 29.9 ms per loop (mean ± std. dev. of 7 runs, 1 loop each)\n"
     ]
    }
   ],
   "source": [
    "%timeit np.arange(0, 2000000, 2)\n",
    "\n",
    "%timeit [i for i in range(2000000) if i % 2 == 0]"
   ]
  },
  {
   "cell_type": "markdown",
   "metadata": {},
   "source": [
    "Similarly, `linspace(begin, end, points)` returns evenly spaced numbers over a specified interval. Here, instead of specifying the step, you specify the amount of points you want. Also with `linspace` you include the ending of the interval."
   ]
  },
  {
   "cell_type": "code",
   "execution_count": 17,
   "metadata": {},
   "outputs": [
    {
     "data": {
      "text/plain": [
       "array([ 0.,  2.,  4.,  6.,  8., 10., 12., 14.])"
      ]
     },
     "execution_count": 17,
     "metadata": {},
     "output_type": "execute_result"
    }
   ],
   "source": [
    "myline = np.linspace(0, 14, 8) # start at 0, stop at 14 and get 7 evenly spaced points\n",
    "myline"
   ]
  },
  {
   "cell_type": "code",
   "execution_count": 18,
   "metadata": {},
   "outputs": [
    {
     "name": "stdout",
     "output_type": "stream",
     "text": [
      "8\n",
      "8\n"
     ]
    }
   ],
   "source": [
    "print(len(myrange))\n",
    "print(len(myline))"
   ]
  },
  {
   "cell_type": "markdown",
   "metadata": {},
   "source": [
    "`reshape` changes the shape of an array, but not its data. This is another of the commands that can be called before or after the array."
   ]
  },
  {
   "cell_type": "code",
   "execution_count": 19,
   "metadata": {
    "scrolled": true
   },
   "outputs": [
    {
     "name": "stdout",
     "output_type": "stream",
     "text": [
      "[[ 0  2  4  6]\n",
      " [ 8 10 12 14]]\n",
      "[[ 0  2]\n",
      " [ 4  6]\n",
      " [ 8 10]\n",
      " [12 14]]\n",
      "[[ 0  2  4  6  8 10 12 14]]\n",
      "[[ 0]\n",
      " [ 2]\n",
      " [ 4]\n",
      " [ 6]\n",
      " [ 8]\n",
      " [10]\n",
      " [12]\n",
      " [14]]\n"
     ]
    }
   ],
   "source": [
    "print(np.reshape(myrange, (2, 4)))\n",
    "print(myrange.reshape(4, 2))\n",
    "\n",
    "print(np.reshape(myrange, (1, 8)))\n",
    "print(myrange.reshape(8, 1))"
   ]
  },
  {
   "cell_type": "markdown",
   "metadata": {},
   "source": [
    "Note however that, in order for these changes to be permanent, you should do a reassignment of the variable"
   ]
  },
  {
   "cell_type": "code",
   "execution_count": 20,
   "metadata": {},
   "outputs": [
    {
     "data": {
      "text/plain": [
       "array([ 0,  2,  4,  6,  8, 10, 12, 14])"
      ]
     },
     "execution_count": 20,
     "metadata": {},
     "output_type": "execute_result"
    }
   ],
   "source": [
    "myrange  # After the reshapings above, the original array stays being the same"
   ]
  },
  {
   "cell_type": "code",
   "execution_count": 21,
   "metadata": {},
   "outputs": [
    {
     "data": {
      "text/plain": [
       "array([[ 0,  2,  4,  6],\n",
       "       [ 8, 10, 12, 14]])"
      ]
     },
     "execution_count": 21,
     "metadata": {},
     "output_type": "execute_result"
    }
   ],
   "source": [
    "mynewrange = myrange.reshape(2, 4)\n",
    "mynewrange  # Now that we have reassigned it is when it definitely changes shape"
   ]
  },
  {
   "cell_type": "markdown",
   "metadata": {},
   "source": [
    "### Combining Arrays\n",
    "\n",
    "The most general command for combining arrays is `concatenate(arrs, d)`. It takes a list of arrays and concatenates them along axis $d$. Remember your 3-D array:"
   ]
  },
  {
   "cell_type": "code",
   "execution_count": 22,
   "metadata": {},
   "outputs": [
    {
     "name": "stdout",
     "output_type": "stream",
     "text": [
      "[[[1]\n",
      "  [2]\n",
      "  [3]]\n",
      "\n",
      " [[4]\n",
      "  [5]\n",
      "  [6]]\n",
      "\n",
      " [[7]\n",
      "  [8]\n",
      "  [9]]]\n",
      "(3, 3, 1)\n"
     ]
    }
   ],
   "source": [
    "print(my3darr)\n",
    "print(my3darr.shape)"
   ]
  },
  {
   "cell_type": "code",
   "execution_count": 23,
   "metadata": {},
   "outputs": [
    {
     "name": "stdout",
     "output_type": "stream",
     "text": [
      "[[[ 1]\n",
      "  [ 2]\n",
      "  [ 3]]\n",
      "\n",
      " [[ 4]\n",
      "  [ 5]\n",
      "  [ 6]]\n",
      "\n",
      " [[ 7]\n",
      "  [ 8]\n",
      "  [ 9]]\n",
      "\n",
      " [[10]\n",
      "  [20]\n",
      "  [30]]\n",
      "\n",
      " [[40]\n",
      "  [50]\n",
      "  [60]]\n",
      "\n",
      " [[70]\n",
      "  [80]\n",
      "  [90]]]\n",
      "(6, 3, 1)\n"
     ]
    }
   ],
   "source": [
    "conc_along0 = np.concatenate([my3darr, 10 * my3darr], 0)\n",
    "print(conc_along0)\n",
    "print(conc_along0.shape)"
   ]
  },
  {
   "cell_type": "code",
   "execution_count": 24,
   "metadata": {},
   "outputs": [
    {
     "name": "stdout",
     "output_type": "stream",
     "text": [
      "[[[ 1]\n",
      "  [ 2]\n",
      "  [ 3]\n",
      "  [10]\n",
      "  [20]\n",
      "  [30]]\n",
      "\n",
      " [[ 4]\n",
      "  [ 5]\n",
      "  [ 6]\n",
      "  [40]\n",
      "  [50]\n",
      "  [60]]\n",
      "\n",
      " [[ 7]\n",
      "  [ 8]\n",
      "  [ 9]\n",
      "  [70]\n",
      "  [80]\n",
      "  [90]]]\n",
      "(3, 6, 1)\n"
     ]
    }
   ],
   "source": [
    "conc_along1 = np.concatenate([my3darr, 10 * my3darr], 1)\n",
    "print(conc_along1)\n",
    "print(conc_along1.shape)"
   ]
  },
  {
   "cell_type": "code",
   "execution_count": 25,
   "metadata": {},
   "outputs": [
    {
     "name": "stdout",
     "output_type": "stream",
     "text": [
      "[[[ 1 10]\n",
      "  [ 2 20]\n",
      "  [ 3 30]]\n",
      "\n",
      " [[ 4 40]\n",
      "  [ 5 50]\n",
      "  [ 6 60]]\n",
      "\n",
      " [[ 7 70]\n",
      "  [ 8 80]\n",
      "  [ 9 90]]]\n",
      "(3, 3, 2)\n"
     ]
    }
   ],
   "source": [
    "conc_along2 = np.concatenate([my3darr, 10 * my3darr], 2)\n",
    "print(conc_along2)\n",
    "print(conc_along2.shape)"
   ]
  },
  {
   "cell_type": "markdown",
   "metadata": {},
   "source": [
    "However, for common combinations there exist special commands. Use `vstack` to stack arrays in sequence vertically (row wise), `hstack` to stack arrays in sequence horizontally (column wise)."
   ]
  },
  {
   "cell_type": "code",
   "execution_count": 26,
   "metadata": {},
   "outputs": [
    {
     "name": "stdout",
     "output_type": "stream",
     "text": [
      "[1 2 3 4 5 6 7 8 9]\n",
      "(9,)\n"
     ]
    }
   ],
   "source": [
    "print(my1darr)\n",
    "print(my1darr.shape)"
   ]
  },
  {
   "cell_type": "code",
   "execution_count": 27,
   "metadata": {},
   "outputs": [
    {
     "name": "stdout",
     "output_type": "stream",
     "text": [
      "[[ 1  2  3  4  5  6  7  8  9]\n",
      " [10 20 30 40 50 60 70 80 90]]\n",
      "\n",
      "\n",
      "[ 1  2  3  4  5  6  7  8  9 10 20 30 40 50 60 70 80 90]\n"
     ]
    }
   ],
   "source": [
    "print(np.vstack([my1darr, 10 * my1darr]))\n",
    "print('\\n')\n",
    "print(np.hstack([my1darr, 10 * my1darr]))"
   ]
  },
  {
   "cell_type": "code",
   "execution_count": 28,
   "metadata": {},
   "outputs": [
    {
     "name": "stdout",
     "output_type": "stream",
     "text": [
      "[[1 2 3]\n",
      " [4 5 6]\n",
      " [7 8 9]]\n",
      "(3, 3)\n"
     ]
    }
   ],
   "source": [
    "print(my2darr)\n",
    "print(my2darr.shape)"
   ]
  },
  {
   "cell_type": "code",
   "execution_count": 29,
   "metadata": {},
   "outputs": [
    {
     "name": "stdout",
     "output_type": "stream",
     "text": [
      "[[ 1  2  3]\n",
      " [ 4  5  6]\n",
      " [ 7  8  9]\n",
      " [10 20 30]\n",
      " [40 50 60]\n",
      " [70 80 90]]\n",
      "\n",
      "\n",
      "[[ 1  2  3 10 20 30]\n",
      " [ 4  5  6 40 50 60]\n",
      " [ 7  8  9 70 80 90]]\n"
     ]
    }
   ],
   "source": [
    "print(np.vstack([my2darr, 10 * my2darr]))\n",
    "print('\\n')\n",
    "print(np.hstack([my2darr, 10 * my2darr]))"
   ]
  },
  {
   "cell_type": "markdown",
   "metadata": {},
   "source": [
    "### Operations\n",
    "\n",
    "You can perform easily element-wise operations on arrays of any shape. Use the typical symbols, +, -, \\*, / and \\*\\* to perform element-wise addition, subtraction, multiplication, division and power."
   ]
  },
  {
   "cell_type": "code",
   "execution_count": 30,
   "metadata": {},
   "outputs": [
    {
     "name": "stdout",
     "output_type": "stream",
     "text": [
      "[1 2 3]\n",
      "[11 12 13]\n",
      "[3 6 9]\n",
      "[1.         0.5        0.33333333]\n",
      "[1.         0.62996052 0.48074986]\n",
      "[2 4 8]\n"
     ]
    }
   ],
   "source": [
    "x = np.array([1, 2, 3])\n",
    "print(x)\n",
    "print(x + 10)\n",
    "print(3 * x)\n",
    "print(1 / x)\n",
    "print(x ** (-2 / 3))\n",
    "print(2 ** x)"
   ]
  },
  {
   "cell_type": "markdown",
   "metadata": {},
   "source": [
    "Also (and obviously) these symbols can be used to operate between two arrays, which must be of the same shape. If this is the case, they also do element-wise operations"
   ]
  },
  {
   "cell_type": "code",
   "execution_count": 31,
   "metadata": {},
   "outputs": [
    {
     "name": "stdout",
     "output_type": "stream",
     "text": [
      "[5 7 9]\n",
      "[ 4 10 18]\n",
      "[0.25 0.4  0.5 ]\n",
      "[  1  32 729]\n"
     ]
    }
   ],
   "source": [
    "y = np.arange(4, 7, 1)\n",
    "print(x + y)     # [1+4, 2+5, 3+6]\n",
    "print(x * y)     # [1*4, 2*5, 3*6]\n",
    "print(x / y)     # [1/4, 2/5, 3/6]\n",
    "print(x ** y)    # [1**4, 2**5, 3**6]"
   ]
  },
  {
   "cell_type": "markdown",
   "metadata": {},
   "source": [
    "For doing vector or matrix multiplication, the command to be used is `dot`"
   ]
  },
  {
   "cell_type": "code",
   "execution_count": 32,
   "metadata": {},
   "outputs": [
    {
     "name": "stdout",
     "output_type": "stream",
     "text": [
      "[1 2 3]\n",
      "[4 5 6]\n"
     ]
    },
    {
     "data": {
      "text/plain": [
       "32"
      ]
     },
     "execution_count": 32,
     "metadata": {},
     "output_type": "execute_result"
    }
   ],
   "source": [
    "print(x)\n",
    "print(y)\n",
    "x.dot(y)  # 1*4 + 2*5 + 3*6"
   ]
  },
  {
   "cell_type": "markdown",
   "metadata": {},
   "source": [
    "With python 3.5 matrix multiplication got it's own operator"
   ]
  },
  {
   "cell_type": "code",
   "execution_count": 33,
   "metadata": {},
   "outputs": [
    {
     "name": "stdout",
     "output_type": "stream",
     "text": [
      "[1 2 3]\n",
      "[4 5 6]\n"
     ]
    },
    {
     "data": {
      "text/plain": [
       "32"
      ]
     },
     "execution_count": 33,
     "metadata": {},
     "output_type": "execute_result"
    }
   ],
   "source": [
    "print(x)\n",
    "print(y)\n",
    "x @ y  # 1*4 + 2*5 + 3*6"
   ]
  },
  {
   "cell_type": "code",
   "execution_count": 34,
   "metadata": {},
   "outputs": [
    {
     "name": "stdout",
     "output_type": "stream",
     "text": [
      "[[3 4 5]\n",
      " [4 5 6]\n",
      " [5 6 7]]\n",
      "[[0 1 0]\n",
      " [0 0 1]\n",
      " [1 0 0]]\n"
     ]
    }
   ],
   "source": [
    "X = np.array([[i + j for i in range(3, 6)] for j in range(3)])\n",
    "Y = np.diag([1, 1], 1) + np.diag([1], -2)\n",
    "\n",
    "print(X)\n",
    "print(Y)"
   ]
  },
  {
   "cell_type": "markdown",
   "metadata": {},
   "source": [
    "The operator `*` returns the elements-wise multiplication of arrays with the same shape."
   ]
  },
  {
   "cell_type": "code",
   "execution_count": 35,
   "metadata": {},
   "outputs": [
    {
     "data": {
      "text/plain": [
       "array([[0, 4, 0],\n",
       "       [0, 0, 6],\n",
       "       [5, 0, 0]])"
      ]
     },
     "execution_count": 35,
     "metadata": {},
     "output_type": "execute_result"
    }
   ],
   "source": [
    "X * Y"
   ]
  },
  {
   "cell_type": "markdown",
   "metadata": {},
   "source": [
    "The operator `@` returns the product of arrays compatible shapes."
   ]
  },
  {
   "cell_type": "code",
   "execution_count": 36,
   "metadata": {},
   "outputs": [
    {
     "data": {
      "text/plain": [
       "array([[5, 3, 4],\n",
       "       [6, 4, 5],\n",
       "       [7, 5, 6]])"
      ]
     },
     "execution_count": 36,
     "metadata": {},
     "output_type": "execute_result"
    }
   ],
   "source": [
    "X @ Y"
   ]
  },
  {
   "cell_type": "markdown",
   "metadata": {},
   "source": [
    "**Exercise 2**: Take a 10x2 matrix representing $(x1,x2)$ coordinates and transform them into polar coordinates $(r,\\theta)$.\n",
    "\n",
    "*Hint 1: the inverse transformation is given by $x1 = r\\cos\\theta$, $x2 = r\\sin\\theta$*\n",
    "\n",
    "*Hint 2: generate random numbers with the functions in numpy.random*"
   ]
  },
  {
   "cell_type": "code",
   "execution_count": 37,
   "metadata": {},
   "outputs": [
    {
     "name": "stdout",
     "output_type": "stream",
     "text": [
      "[0.76204999 1.28328499 1.04841484 1.0235242  0.79018177 0.76184656\n",
      " 0.9989484  1.07118975 0.84365048 0.73135688]\n",
      "[1.49213664 0.78953915 0.86629082 1.03912044 0.32902248 1.46562262\n",
      " 0.42149847 0.67319124 0.85020763 0.56076331]\n"
     ]
    }
   ],
   "source": [
    "z = np.random.random((10, 2))\n",
    "x1, x2 = z[:, 0], z[:, 1]\n",
    "R = np.sqrt(x1 ** 2 + x2 ** 2)\n",
    "T = np.arctan2(x2, x1)\n",
    "print(R)\n",
    "print(T)"
   ]
  },
  {
   "cell_type": "markdown",
   "metadata": {},
   "source": [
    "#### Transposing\n",
    "\n",
    "Transposition is a very important operation for linear algebra. Although NumPy is capable of correctly doing matrix-vector products correctly regardless of the orientation of the vector, it is not the case for products of matrices"
   ]
  },
  {
   "cell_type": "code",
   "execution_count": 38,
   "metadata": {},
   "outputs": [],
   "source": [
    "Z = np.arange(0, 12, 1).reshape((4, 3))"
   ]
  },
  {
   "cell_type": "code",
   "execution_count": 39,
   "metadata": {},
   "outputs": [
    {
     "name": "stdout",
     "output_type": "stream",
     "text": [
      "[[ 0  1  2]\n",
      " [ 3  4  5]\n",
      " [ 6  7  8]\n",
      " [ 9 10 11]]\n",
      "[4 5 6]\n"
     ]
    },
    {
     "data": {
      "text/plain": [
       "array([ 17,  62, 107, 152])"
      ]
     },
     "execution_count": 39,
     "metadata": {},
     "output_type": "execute_result"
    }
   ],
   "source": [
    "print(Z)\n",
    "print(y)\n",
    "Z @ y"
   ]
  },
  {
   "cell_type": "code",
   "execution_count": 40,
   "metadata": {},
   "outputs": [
    {
     "name": "stdout",
     "output_type": "stream",
     "text": [
      "[[ 0  1  2]\n",
      " [ 3  4  5]\n",
      " [ 6  7  8]\n",
      " [ 9 10 11]]\n",
      "[4 5 6]\n"
     ]
    },
    {
     "data": {
      "text/plain": [
       "array([ 17,  62, 107, 152])"
      ]
     },
     "execution_count": 40,
     "metadata": {},
     "output_type": "execute_result"
    }
   ],
   "source": [
    "print(Z)\n",
    "print(y.T)\n",
    "Z @ y.T"
   ]
  },
  {
   "cell_type": "code",
   "execution_count": 41,
   "metadata": {},
   "outputs": [
    {
     "name": "stdout",
     "output_type": "stream",
     "text": [
      "[[ 0  1  2]\n",
      " [ 3  4  5]\n",
      " [ 6  7  8]\n",
      " [ 9 10 11]]\n",
      "[[3 4 5]\n",
      " [4 5 6]\n",
      " [5 6 7]]\n"
     ]
    },
    {
     "data": {
      "text/plain": [
       "array([[ 14,  17,  20],\n",
       "       [ 50,  62,  74],\n",
       "       [ 86, 107, 128],\n",
       "       [122, 152, 182]])"
      ]
     },
     "execution_count": 41,
     "metadata": {},
     "output_type": "execute_result"
    }
   ],
   "source": [
    "print(Z)\n",
    "print(X)\n",
    "Z @ X  # (4 rows and 3 cols) @ (3 rows and 3 cols) yields (4 rows and 3 cols)"
   ]
  },
  {
   "cell_type": "code",
   "execution_count": 42,
   "metadata": {},
   "outputs": [
    {
     "name": "stdout",
     "output_type": "stream",
     "text": [
      "[[ 0  3  6  9]\n",
      " [ 1  4  7 10]\n",
      " [ 2  5  8 11]]\n",
      "[[3 4 5]\n",
      " [4 5 6]\n",
      " [5 6 7]]\n"
     ]
    }
   ],
   "source": [
    "print(Z.T)\n",
    "print(X)\n",
    "#Z.T @ X  # (3 rows and 4 cols) @ (3 rows and 3 cols) yields error"
   ]
  },
  {
   "cell_type": "markdown",
   "metadata": {},
   "source": [
    "#### Array Methods\n",
    "\n",
    "To not have to go from NumPy arrays to lists back and forth, NumPy contains some functions to know properties of your arrays. Actually, there are more of these functions than in standard Python."
   ]
  },
  {
   "cell_type": "code",
   "execution_count": 43,
   "metadata": {},
   "outputs": [
    {
     "name": "stdout",
     "output_type": "stream",
     "text": [
      "5\n",
      "-4\n",
      "3\n",
      "0.6\n",
      "3.2619012860600183\n"
     ]
    }
   ],
   "source": [
    "a = np.array([-4, -2, 1, 3, 5])\n",
    "print(a.max())\n",
    "print(a.min())\n",
    "print(a.sum())\n",
    "print(a.mean())\n",
    "print(a.std())"
   ]
  },
  {
   "cell_type": "markdown",
   "metadata": {},
   "source": [
    "Some interesting functions are `argmax` and `argmin`, which return the index of the maximum and minimum values in the array."
   ]
  },
  {
   "cell_type": "code",
   "execution_count": 44,
   "metadata": {},
   "outputs": [
    {
     "name": "stdout",
     "output_type": "stream",
     "text": [
      "4\n",
      "0\n"
     ]
    }
   ],
   "source": [
    "print(a.argmax())\n",
    "print(a.argmin())"
   ]
  },
  {
   "cell_type": "markdown",
   "metadata": {},
   "source": [
    "### Indexing/Slicing\n",
    "\n",
    "We have already seen briefly that to access individual elements you use the bracket notation: `array[ax_0, ax_1, ...]`, where the `ax_i` denotes the coordinate in the `i`-th axis. You can even use this to assign new values to your elements."
   ]
  },
  {
   "cell_type": "code",
   "execution_count": 45,
   "metadata": {},
   "outputs": [
    {
     "name": "stdout",
     "output_type": "stream",
     "text": [
      "6\n"
     ]
    },
    {
     "data": {
      "text/plain": [
       "[198, 5, 6, 7]"
      ]
     },
     "execution_count": 45,
     "metadata": {},
     "output_type": "execute_result"
    }
   ],
   "source": [
    "r = [4, 5, 6, 7]\n",
    "print(r[2])\n",
    "# Reassigning the value stored in index 0\n",
    "r[0] = 198\n",
    "r"
   ]
  },
  {
   "cell_type": "markdown",
   "metadata": {},
   "source": [
    "To select a range of rows or columns you can use a colon `:`. A second `:` can be used to indicate the step size. `array[start:stop:stepsize]`. If you leave `start` (`stop`) blank, the selection will go from the very beginning (until the very end) of the array"
   ]
  },
  {
   "cell_type": "code",
   "execution_count": 46,
   "metadata": {},
   "outputs": [
    {
     "name": "stdout",
     "output_type": "stream",
     "text": [
      "[  0   1   4   9  16  25  36  49  64  81 100 121 144]\n",
      "[ 9 16 25 36 49 64 81]\n",
      "[ 4 25 64]\n",
      "[ 64 100 144]\n",
      "[64 36 16  4  0]\n"
     ]
    }
   ],
   "source": [
    "s = np.arange(13)**2\n",
    "print(s)\n",
    "\n",
    "# Starting by index 2, until index 10, pick each element\n",
    "print(s[3:10])\n",
    "\n",
    "# Starting by index 2, until index 10, pick every 3 elements \n",
    "print(s[2:10:3])\n",
    "\n",
    "# Starting by index -5, until the end, pick every 2 elements\n",
    "print(s[-5::2])\n",
    "\n",
    "# Starting by index -5, until the end, pick every 2 elements backwards\n",
    "print(s[-5::-2])"
   ]
  },
  {
   "cell_type": "markdown",
   "metadata": {},
   "source": [
    "The same applies to matrices or higher-dimensional arrays"
   ]
  },
  {
   "cell_type": "code",
   "execution_count": 47,
   "metadata": {},
   "outputs": [
    {
     "data": {
      "text/plain": [
       "array([[ 0,  1,  2,  3,  4,  5],\n",
       "       [ 6,  7,  8,  9, 10, 11],\n",
       "       [12, 13, 14, 15, 16, 17],\n",
       "       [18, 19, 20, 21, 22, 23],\n",
       "       [24, 25, 26, 27, 28, 29],\n",
       "       [30, 31, 32, 33, 34, 35]])"
      ]
     },
     "execution_count": 47,
     "metadata": {},
     "output_type": "execute_result"
    }
   ],
   "source": [
    "r = np.arange(36).reshape((6, 6))\n",
    "r"
   ]
  },
  {
   "cell_type": "code",
   "execution_count": 48,
   "metadata": {},
   "outputs": [
    {
     "data": {
      "text/plain": [
       "array([[13, 14],\n",
       "       [19, 20],\n",
       "       [25, 26]])"
      ]
     },
     "execution_count": 48,
     "metadata": {},
     "output_type": "execute_result"
    }
   ],
   "source": [
    "# Pick rows 2 to 5, and cols 1 to 3 (remember, row 5 and col 3 not included)\n",
    "r[2:5, 1:3]"
   ]
  },
  {
   "cell_type": "markdown",
   "metadata": {},
   "source": [
    "You can also select specific rows and columns, separated by commas"
   ]
  },
  {
   "cell_type": "code",
   "execution_count": 49,
   "metadata": {},
   "outputs": [
    {
     "data": {
      "text/plain": [
       "array([[ 7,  8],\n",
       "       [19, 20],\n",
       "       [25, 26]])"
      ]
     },
     "execution_count": 49,
     "metadata": {},
     "output_type": "execute_result"
    }
   ],
   "source": [
    "# Pick rows 1, 3 and 4, and cols 1 to 3 (remember, col 3 not included)\n",
    "r[[1, 3, 4], 1:3]"
   ]
  },
  {
   "cell_type": "markdown",
   "metadata": {},
   "source": [
    "A very useful tool is *conditional indexing*, where we apply a function, assignment... only to those elements of an array that satisfy some condition"
   ]
  },
  {
   "cell_type": "code",
   "execution_count": 50,
   "metadata": {},
   "outputs": [
    {
     "data": {
      "text/plain": [
       "array([[ 0,  1,  2,  3,  4,  5],\n",
       "       [ 6,  7,  8,  9, 10, 11],\n",
       "       [12, 13, 14, 15, 16, 17],\n",
       "       [18, 19, 20, 21, 22, 23],\n",
       "       [24, 25, 26, 27, 28, 29],\n",
       "       [30, 30, 30, 30, 30, 30]])"
      ]
     },
     "execution_count": 50,
     "metadata": {},
     "output_type": "execute_result"
    }
   ],
   "source": [
    "r[r > 30] = 30\n",
    "r"
   ]
  },
  {
   "cell_type": "markdown",
   "metadata": {},
   "source": [
    "**Exercise 3**: Create a random 1-dimensional array, and find which element is closest to 0.7"
   ]
  },
  {
   "cell_type": "code",
   "execution_count": 51,
   "metadata": {},
   "outputs": [
    {
     "name": "stdout",
     "output_type": "stream",
     "text": [
      "0.708889504266799\n"
     ]
    }
   ],
   "source": [
    "Z = np.random.uniform(0,1,100)\n",
    "z = 0.7\n",
    "m = Z[np.abs(Z - z).argmin()]\n",
    "print(m)"
   ]
  },
  {
   "cell_type": "markdown",
   "metadata": {},
   "source": [
    "#### Copying Data\n",
    "\n",
    "**Be very careful with copying and modifying arrays in NumPy!** You will see the reason right now. Let's begin defining `r2` as a slice of r"
   ]
  },
  {
   "cell_type": "code",
   "execution_count": 52,
   "metadata": {},
   "outputs": [
    {
     "data": {
      "text/plain": [
       "array([[ 0,  1,  2],\n",
       "       [ 6,  7,  8],\n",
       "       [12, 13, 14]])"
      ]
     },
     "execution_count": 52,
     "metadata": {},
     "output_type": "execute_result"
    }
   ],
   "source": [
    "r2 = r[:3,:3]\n",
    "r2"
   ]
  },
  {
   "cell_type": "markdown",
   "metadata": {},
   "source": [
    "And now let's set all its elements to zero"
   ]
  },
  {
   "cell_type": "code",
   "execution_count": 53,
   "metadata": {},
   "outputs": [
    {
     "data": {
      "text/plain": [
       "array([[0, 0, 0],\n",
       "       [0, 0, 0],\n",
       "       [0, 0, 0]])"
      ]
     },
     "execution_count": 53,
     "metadata": {},
     "output_type": "execute_result"
    }
   ],
   "source": [
    "r2[:] = 0\n",
    "r2"
   ]
  },
  {
   "cell_type": "markdown",
   "metadata": {},
   "source": [
    "When looking at `r`, we see that it has also been changed!"
   ]
  },
  {
   "cell_type": "code",
   "execution_count": 54,
   "metadata": {},
   "outputs": [
    {
     "data": {
      "text/plain": [
       "array([[ 0,  0,  0,  3,  4,  5],\n",
       "       [ 0,  0,  0,  9, 10, 11],\n",
       "       [ 0,  0,  0, 15, 16, 17],\n",
       "       [18, 19, 20, 21, 22, 23],\n",
       "       [24, 25, 26, 27, 28, 29],\n",
       "       [30, 30, 30, 30, 30, 30]])"
      ]
     },
     "execution_count": 54,
     "metadata": {},
     "output_type": "execute_result"
    }
   ],
   "source": [
    "r"
   ]
  },
  {
   "cell_type": "markdown",
   "metadata": {},
   "source": [
    "The proper way of handling selections without modifying the original arrays is through the `copy` command."
   ]
  },
  {
   "cell_type": "code",
   "execution_count": 55,
   "metadata": {},
   "outputs": [
    {
     "data": {
      "text/plain": [
       "array([[ 0,  0,  0,  3,  4,  5],\n",
       "       [ 0,  0,  0,  9, 10, 11],\n",
       "       [ 0,  0,  0, 15, 16, 17],\n",
       "       [18, 19, 20, 21, 22, 23],\n",
       "       [24, 25, 26, 27, 28, 29],\n",
       "       [30, 30, 30, 30, 30, 30]])"
      ]
     },
     "execution_count": 55,
     "metadata": {},
     "output_type": "execute_result"
    }
   ],
   "source": [
    "r_copy = r.copy()\n",
    "r_copy"
   ]
  },
  {
   "cell_type": "markdown",
   "metadata": {},
   "source": [
    "Now we can safely modify `r_copy` without affecting `r`."
   ]
  },
  {
   "cell_type": "code",
   "execution_count": 56,
   "metadata": {},
   "outputs": [
    {
     "name": "stdout",
     "output_type": "stream",
     "text": [
      "f{r_copy}\n",
      "\n"
     ]
    },
    {
     "data": {
      "text/plain": [
       "array([[ 0,  0,  0,  3,  4,  5],\n",
       "       [ 0,  0,  0,  9, 10, 11],\n",
       "       [ 0,  0,  0, 15, 16, 17],\n",
       "       [18, 19, 20, 21, 22, 23],\n",
       "       [24, 25, 26, 27, 28, 29],\n",
       "       [30, 30, 30, 30, 30, 30]])"
      ]
     },
     "execution_count": 56,
     "metadata": {},
     "output_type": "execute_result"
    }
   ],
   "source": [
    "r_copy[:] = 10\n",
    "print('f{r_copy}\\n')\n",
    "r"
   ]
  },
  {
   "cell_type": "markdown",
   "metadata": {},
   "source": [
    "### Iterating Over Arrays"
   ]
  },
  {
   "cell_type": "markdown",
   "metadata": {},
   "source": [
    "Finally, you can iterate over arrays in the same way as you iterate over lists"
   ]
  },
  {
   "cell_type": "code",
   "execution_count": 57,
   "metadata": {},
   "outputs": [
    {
     "data": {
      "text/plain": [
       "array([[4, 5, 8],\n",
       "       [0, 9, 8],\n",
       "       [5, 1, 5],\n",
       "       [0, 9, 0]])"
      ]
     },
     "execution_count": 57,
     "metadata": {},
     "output_type": "execute_result"
    }
   ],
   "source": [
    "test = np.random.randint(0, 10, (4,3))\n",
    "test"
   ]
  },
  {
   "cell_type": "markdown",
   "metadata": {},
   "source": [
    "You can iterate by row:"
   ]
  },
  {
   "cell_type": "code",
   "execution_count": 58,
   "metadata": {},
   "outputs": [
    {
     "name": "stdout",
     "output_type": "stream",
     "text": [
      "[4 5 8]\n",
      "[0 9 8]\n",
      "[5 1 5]\n",
      "[0 9 0]\n"
     ]
    }
   ],
   "source": [
    "for row in test:\n",
    "    print(row)"
   ]
  },
  {
   "cell_type": "markdown",
   "metadata": {},
   "source": [
    "Or by row index"
   ]
  },
  {
   "cell_type": "code",
   "execution_count": 59,
   "metadata": {},
   "outputs": [
    {
     "name": "stdout",
     "output_type": "stream",
     "text": [
      "[4 5 8]\n",
      "[0 9 8]\n",
      "[5 1 5]\n",
      "[0 9 0]\n"
     ]
    }
   ],
   "source": [
    "for i in range(len(test)):\n",
    "    print(test[i])"
   ]
  },
  {
   "cell_type": "markdown",
   "metadata": {},
   "source": [
    "Or by row and index:"
   ]
  },
  {
   "cell_type": "code",
   "execution_count": 60,
   "metadata": {},
   "outputs": [
    {
     "name": "stdout",
     "output_type": "stream",
     "text": [
      "Row 0 is [4 5 8]\n",
      "Row 1 is [0 9 8]\n",
      "Row 2 is [5 1 5]\n",
      "Row 3 is [0 9 0]\n"
     ]
    }
   ],
   "source": [
    "for i, row in enumerate(test):\n",
    "    print(f'Row {i} is {row}')"
   ]
  },
  {
   "cell_type": "markdown",
   "metadata": {},
   "source": [
    "In the same way as with lists, you can use `zip` to iterate over multiple iterables."
   ]
  },
  {
   "cell_type": "code",
   "execution_count": 61,
   "metadata": {},
   "outputs": [
    {
     "data": {
      "text/plain": [
       "array([[16, 25, 64],\n",
       "       [ 0, 81, 64],\n",
       "       [25,  1, 25],\n",
       "       [ 0, 81,  0]], dtype=int32)"
      ]
     },
     "execution_count": 61,
     "metadata": {},
     "output_type": "execute_result"
    }
   ],
   "source": [
    "test2 = test**2\n",
    "test2"
   ]
  },
  {
   "cell_type": "code",
   "execution_count": 62,
   "metadata": {
    "scrolled": true
   },
   "outputs": [
    {
     "name": "stdout",
     "output_type": "stream",
     "text": [
      "[4 5 8] + [16 25 64] = [20 30 72]\n",
      "[0 9 8] + [ 0 81 64] = [ 0 90 72]\n",
      "[5 1 5] + [25  1 25] = [30  2 30]\n",
      "[0 9 0] + [ 0 81  0] = [ 0 90  0]\n"
     ]
    }
   ],
   "source": [
    "for i, j in zip(test, test2):\n",
    "    print(f'{i} + {j} = {i+j}')"
   ]
  },
  {
   "cell_type": "markdown",
   "metadata": {},
   "source": [
    "**Exercise 4**: Create a function that iterates over the columns of a 2-dimensional array"
   ]
  },
  {
   "cell_type": "code",
   "execution_count": 63,
   "metadata": {},
   "outputs": [
    {
     "name": "stdout",
     "output_type": "stream",
     "text": [
      "Column 0 is [[4]\n",
      " [0]\n",
      " [5]\n",
      " [0]]\n",
      "Column 1 is [[5]\n",
      " [9]\n",
      " [1]\n",
      " [9]]\n",
      "Column 2 is [[8]\n",
      " [8]\n",
      " [5]\n",
      " [0]]\n"
     ]
    }
   ],
   "source": [
    "def iterate(df):\n",
    "    for i, row in enumerate(df):\n",
    "        shp = row.shape\n",
    "        row.shape = shp + (1,)\n",
    "        print(f'Column {i} is {row}')\n",
    "\n",
    "iterate(test.T)"
   ]
  },
  {
   "cell_type": "markdown",
   "metadata": {},
   "source": [
    "### Loading and Saving Data\n",
    "\n",
    "To load and save data NumPy has the `loadtxt` and `savetxt` commands. However, they only work for two-dimensional arrays"
   ]
  },
  {
   "cell_type": "code",
   "execution_count": 64,
   "metadata": {},
   "outputs": [
    {
     "data": {
      "text/plain": [
       "array([[4., 5., 8.],\n",
       "       [0., 9., 8.],\n",
       "       [5., 1., 5.],\n",
       "       [0., 9., 0.]])"
      ]
     },
     "execution_count": 64,
     "metadata": {},
     "output_type": "execute_result"
    }
   ],
   "source": [
    "np.savetxt('numpytest.txt', test)\n",
    "np.loadtxt('numpytest.txt')"
   ]
  },
  {
   "cell_type": "markdown",
   "metadata": {},
   "source": [
    "## Pandas\n",
    "\n",
    "When dealing with numeric matrices and vectors in Python, NumPy makes life a lot easier. For more complex data, however, it leaves a bit to be desired. For those used to working with dedicated languages like R, doing data analysis directly with numpy feels like a step back. Fortunately, some nice folks have written the Python Data Analysis Library (a.k.a. [pandas](http://pandas.pydata.org/)). Pandas provides an R-like DataFrame, produces high quality plots with matplotlib, and integrates nicely with other libraries that expect NumPy arrays.\n",
    "\n",
    "Pandas works with `Series` of data, that then are arranged in `DataFrame`s. A dataframe will be the object closest to an Excel spreadsheet that you will see throughout the course (but of course, given that it is integrated in Python and can be combined with so many different packages, dataframes are much more powerful than Excel spreadsheets). The data in the series can be either qualitative or quantitative data. Creating a series is as easy as creating a NumPy array from a one-dimensional list."
   ]
  },
  {
   "cell_type": "code",
   "execution_count": 65,
   "metadata": {},
   "outputs": [
    {
     "name": "stdout",
     "output_type": "stream",
     "text": [
      "Pandas: 0.23.0\n"
     ]
    }
   ],
   "source": [
    "import pandas as pd\n",
    "print('Pandas:', pd.__version__)"
   ]
  },
  {
   "cell_type": "code",
   "execution_count": 66,
   "metadata": {},
   "outputs": [
    {
     "data": {
      "text/plain": [
       "0    Tiger\n",
       "1     Bear\n",
       "2    Moose\n",
       "dtype: object"
      ]
     },
     "execution_count": 66,
     "metadata": {},
     "output_type": "execute_result"
    }
   ],
   "source": [
    "animals = ['Tiger', 'Bear', 'Moose']\n",
    "pd.Series(animals)"
   ]
  },
  {
   "cell_type": "code",
   "execution_count": 67,
   "metadata": {},
   "outputs": [
    {
     "data": {
      "text/plain": [
       "0    1\n",
       "1    2\n",
       "2    3\n",
       "dtype: int64"
      ]
     },
     "execution_count": 67,
     "metadata": {},
     "output_type": "execute_result"
    }
   ],
   "source": [
    "numbers = [1, 2, 3]\n",
    "pd.Series(numbers)"
   ]
  },
  {
   "cell_type": "markdown",
   "metadata": {},
   "source": [
    "Notice that the series is indexed by default by integers. You can change this indexing by using a dictionary instead of a list for creating the series."
   ]
  },
  {
   "cell_type": "code",
   "execution_count": 68,
   "metadata": {},
   "outputs": [
    {
     "data": {
      "text/plain": [
       "Archery           Bhutan\n",
       "Golf            Scotland\n",
       "Sumo               Japan\n",
       "Taekwondo    South Korea\n",
       "dtype: object"
      ]
     },
     "execution_count": 68,
     "metadata": {},
     "output_type": "execute_result"
    }
   ],
   "source": [
    "sports = {'Archery': 'Bhutan',\n",
    "          'Golf': 'Scotland',\n",
    "          'Sumo': 'Japan',\n",
    "          'Taekwondo': 'South Korea'}\n",
    "s = pd.Series(sports)\n",
    "s"
   ]
  },
  {
   "cell_type": "markdown",
   "metadata": {},
   "source": [
    "On the other hand, `DataFrame`s can be built from two-dimensional arrays, with the ability of labelling columns and indexing the rows"
   ]
  },
  {
   "cell_type": "code",
   "execution_count": 69,
   "metadata": {},
   "outputs": [
    {
     "name": "stdout",
     "output_type": "stream",
     "text": [
      "<class 'pandas.core.frame.DataFrame'>\n"
     ]
    },
    {
     "data": {
      "text/html": [
       "<div>\n",
       "<style scoped>\n",
       "    .dataframe tbody tr th:only-of-type {\n",
       "        vertical-align: middle;\n",
       "    }\n",
       "\n",
       "    .dataframe tbody tr th {\n",
       "        vertical-align: top;\n",
       "    }\n",
       "\n",
       "    .dataframe thead th {\n",
       "        text-align: right;\n",
       "    }\n",
       "</style>\n",
       "<table border=\"1\" class=\"dataframe\">\n",
       "  <thead>\n",
       "    <tr style=\"text-align: right;\">\n",
       "      <th></th>\n",
       "      <th>A</th>\n",
       "      <th>B</th>\n",
       "      <th>C</th>\n",
       "      <th>D</th>\n",
       "      <th>E</th>\n",
       "      <th>F</th>\n",
       "    </tr>\n",
       "  </thead>\n",
       "  <tbody>\n",
       "    <tr>\n",
       "      <th>0</th>\n",
       "      <td>-0.662239</td>\n",
       "      <td>-0.860211</td>\n",
       "      <td>-0.693941</td>\n",
       "      <td>0.180686</td>\n",
       "      <td>0.522984</td>\n",
       "      <td>-3.488931</td>\n",
       "    </tr>\n",
       "    <tr>\n",
       "      <th>3</th>\n",
       "      <td>-1.856639</td>\n",
       "      <td>-0.741630</td>\n",
       "      <td>-0.659115</td>\n",
       "      <td>0.480230</td>\n",
       "      <td>1.427569</td>\n",
       "      <td>-1.390488</td>\n",
       "    </tr>\n",
       "    <tr>\n",
       "      <th>6</th>\n",
       "      <td>-0.622770</td>\n",
       "      <td>0.576408</td>\n",
       "      <td>-1.418174</td>\n",
       "      <td>0.234617</td>\n",
       "      <td>-2.298688</td>\n",
       "      <td>-1.664684</td>\n",
       "    </tr>\n",
       "    <tr>\n",
       "      <th>9</th>\n",
       "      <td>0.144419</td>\n",
       "      <td>-1.442894</td>\n",
       "      <td>0.542897</td>\n",
       "      <td>0.913752</td>\n",
       "      <td>-0.719872</td>\n",
       "      <td>0.172177</td>\n",
       "    </tr>\n",
       "    <tr>\n",
       "      <th>12</th>\n",
       "      <td>-2.008801</td>\n",
       "      <td>-0.105574</td>\n",
       "      <td>-0.123445</td>\n",
       "      <td>-0.103497</td>\n",
       "      <td>0.330018</td>\n",
       "      <td>1.025630</td>\n",
       "    </tr>\n",
       "    <tr>\n",
       "      <th>15</th>\n",
       "      <td>-0.648124</td>\n",
       "      <td>0.921015</td>\n",
       "      <td>-0.042529</td>\n",
       "      <td>-1.105254</td>\n",
       "      <td>-2.051500</td>\n",
       "      <td>0.686010</td>\n",
       "    </tr>\n",
       "    <tr>\n",
       "      <th>18</th>\n",
       "      <td>0.390465</td>\n",
       "      <td>0.191777</td>\n",
       "      <td>0.093593</td>\n",
       "      <td>-1.178423</td>\n",
       "      <td>-0.874159</td>\n",
       "      <td>0.755770</td>\n",
       "    </tr>\n",
       "    <tr>\n",
       "      <th>21</th>\n",
       "      <td>0.532867</td>\n",
       "      <td>1.231472</td>\n",
       "      <td>0.203445</td>\n",
       "      <td>-1.304901</td>\n",
       "      <td>1.376622</td>\n",
       "      <td>0.936794</td>\n",
       "    </tr>\n",
       "    <tr>\n",
       "      <th>24</th>\n",
       "      <td>1.406641</td>\n",
       "      <td>0.075832</td>\n",
       "      <td>-0.586003</td>\n",
       "      <td>1.272955</td>\n",
       "      <td>-0.002525</td>\n",
       "      <td>0.303566</td>\n",
       "    </tr>\n",
       "    <tr>\n",
       "      <th>27</th>\n",
       "      <td>2.423388</td>\n",
       "      <td>0.549470</td>\n",
       "      <td>1.237121</td>\n",
       "      <td>-0.966267</td>\n",
       "      <td>-0.169228</td>\n",
       "      <td>0.365107</td>\n",
       "    </tr>\n",
       "    <tr>\n",
       "      <th>30</th>\n",
       "      <td>1.171233</td>\n",
       "      <td>-0.011559</td>\n",
       "      <td>1.445732</td>\n",
       "      <td>1.081995</td>\n",
       "      <td>-0.873632</td>\n",
       "      <td>-0.106303</td>\n",
       "    </tr>\n",
       "    <tr>\n",
       "      <th>33</th>\n",
       "      <td>1.898360</td>\n",
       "      <td>0.652517</td>\n",
       "      <td>1.378836</td>\n",
       "      <td>0.455121</td>\n",
       "      <td>2.186105</td>\n",
       "      <td>-0.840829</td>\n",
       "    </tr>\n",
       "    <tr>\n",
       "      <th>36</th>\n",
       "      <td>-1.119192</td>\n",
       "      <td>1.194725</td>\n",
       "      <td>-0.210290</td>\n",
       "      <td>-1.554248</td>\n",
       "      <td>1.267378</td>\n",
       "      <td>-0.992830</td>\n",
       "    </tr>\n",
       "    <tr>\n",
       "      <th>39</th>\n",
       "      <td>-1.182892</td>\n",
       "      <td>-0.584685</td>\n",
       "      <td>0.223284</td>\n",
       "      <td>-0.906455</td>\n",
       "      <td>1.466286</td>\n",
       "      <td>0.470858</td>\n",
       "    </tr>\n",
       "    <tr>\n",
       "      <th>42</th>\n",
       "      <td>0.837229</td>\n",
       "      <td>2.846591</td>\n",
       "      <td>-1.392458</td>\n",
       "      <td>-0.552373</td>\n",
       "      <td>-0.373903</td>\n",
       "      <td>1.131297</td>\n",
       "    </tr>\n",
       "    <tr>\n",
       "      <th>45</th>\n",
       "      <td>-1.577436</td>\n",
       "      <td>-1.615295</td>\n",
       "      <td>2.258751</td>\n",
       "      <td>0.907893</td>\n",
       "      <td>0.621586</td>\n",
       "      <td>0.041228</td>\n",
       "    </tr>\n",
       "    <tr>\n",
       "      <th>48</th>\n",
       "      <td>0.184706</td>\n",
       "      <td>1.030901</td>\n",
       "      <td>-0.307690</td>\n",
       "      <td>0.017698</td>\n",
       "      <td>-1.113247</td>\n",
       "      <td>-0.341326</td>\n",
       "    </tr>\n",
       "    <tr>\n",
       "      <th>51</th>\n",
       "      <td>-0.443544</td>\n",
       "      <td>1.256209</td>\n",
       "      <td>-0.915004</td>\n",
       "      <td>-0.460423</td>\n",
       "      <td>-1.075554</td>\n",
       "      <td>0.782381</td>\n",
       "    </tr>\n",
       "    <tr>\n",
       "      <th>54</th>\n",
       "      <td>-0.463023</td>\n",
       "      <td>1.064757</td>\n",
       "      <td>0.492889</td>\n",
       "      <td>-2.099551</td>\n",
       "      <td>0.337164</td>\n",
       "      <td>0.038740</td>\n",
       "    </tr>\n",
       "    <tr>\n",
       "      <th>57</th>\n",
       "      <td>0.163257</td>\n",
       "      <td>-0.320153</td>\n",
       "      <td>-0.828842</td>\n",
       "      <td>-0.707576</td>\n",
       "      <td>-0.036121</td>\n",
       "      <td>0.925926</td>\n",
       "    </tr>\n",
       "    <tr>\n",
       "      <th>60</th>\n",
       "      <td>-0.455253</td>\n",
       "      <td>0.454515</td>\n",
       "      <td>0.042685</td>\n",
       "      <td>-0.351328</td>\n",
       "      <td>-0.082397</td>\n",
       "      <td>0.688552</td>\n",
       "    </tr>\n",
       "    <tr>\n",
       "      <th>63</th>\n",
       "      <td>0.872969</td>\n",
       "      <td>-1.197036</td>\n",
       "      <td>-1.416470</td>\n",
       "      <td>0.027047</td>\n",
       "      <td>-0.697627</td>\n",
       "      <td>1.941558</td>\n",
       "    </tr>\n",
       "    <tr>\n",
       "      <th>66</th>\n",
       "      <td>-0.234168</td>\n",
       "      <td>-0.817514</td>\n",
       "      <td>0.750103</td>\n",
       "      <td>-0.254798</td>\n",
       "      <td>1.000960</td>\n",
       "      <td>-1.318370</td>\n",
       "    </tr>\n",
       "    <tr>\n",
       "      <th>69</th>\n",
       "      <td>0.250080</td>\n",
       "      <td>2.433952</td>\n",
       "      <td>-1.024821</td>\n",
       "      <td>0.616486</td>\n",
       "      <td>0.921359</td>\n",
       "      <td>1.375667</td>\n",
       "    </tr>\n",
       "    <tr>\n",
       "      <th>72</th>\n",
       "      <td>0.651596</td>\n",
       "      <td>-0.845939</td>\n",
       "      <td>0.462452</td>\n",
       "      <td>0.735443</td>\n",
       "      <td>-0.711370</td>\n",
       "      <td>-1.232267</td>\n",
       "    </tr>\n",
       "    <tr>\n",
       "      <th>75</th>\n",
       "      <td>0.243439</td>\n",
       "      <td>-0.866282</td>\n",
       "      <td>-0.650393</td>\n",
       "      <td>0.557043</td>\n",
       "      <td>-0.743673</td>\n",
       "      <td>0.250230</td>\n",
       "    </tr>\n",
       "    <tr>\n",
       "      <th>78</th>\n",
       "      <td>1.315045</td>\n",
       "      <td>0.508681</td>\n",
       "      <td>0.086483</td>\n",
       "      <td>0.158500</td>\n",
       "      <td>-1.089519</td>\n",
       "      <td>1.257612</td>\n",
       "    </tr>\n",
       "    <tr>\n",
       "      <th>81</th>\n",
       "      <td>-0.103929</td>\n",
       "      <td>-0.184321</td>\n",
       "      <td>1.255556</td>\n",
       "      <td>0.206062</td>\n",
       "      <td>-0.450391</td>\n",
       "      <td>1.341910</td>\n",
       "    </tr>\n",
       "    <tr>\n",
       "      <th>84</th>\n",
       "      <td>0.348333</td>\n",
       "      <td>-0.067391</td>\n",
       "      <td>-1.193885</td>\n",
       "      <td>-0.198388</td>\n",
       "      <td>-0.707765</td>\n",
       "      <td>-1.167203</td>\n",
       "    </tr>\n",
       "    <tr>\n",
       "      <th>87</th>\n",
       "      <td>-1.088646</td>\n",
       "      <td>0.195031</td>\n",
       "      <td>-1.858209</td>\n",
       "      <td>1.769550</td>\n",
       "      <td>-0.489361</td>\n",
       "      <td>2.346242</td>\n",
       "    </tr>\n",
       "    <tr>\n",
       "      <th>...</th>\n",
       "      <td>...</td>\n",
       "      <td>...</td>\n",
       "      <td>...</td>\n",
       "      <td>...</td>\n",
       "      <td>...</td>\n",
       "      <td>...</td>\n",
       "    </tr>\n",
       "    <tr>\n",
       "      <th>2910</th>\n",
       "      <td>-1.389639</td>\n",
       "      <td>1.727145</td>\n",
       "      <td>-0.361653</td>\n",
       "      <td>-0.852788</td>\n",
       "      <td>-0.425885</td>\n",
       "      <td>-0.108948</td>\n",
       "    </tr>\n",
       "    <tr>\n",
       "      <th>2913</th>\n",
       "      <td>-0.040045</td>\n",
       "      <td>-0.209350</td>\n",
       "      <td>-0.681679</td>\n",
       "      <td>0.071034</td>\n",
       "      <td>0.888451</td>\n",
       "      <td>-1.148076</td>\n",
       "    </tr>\n",
       "    <tr>\n",
       "      <th>2916</th>\n",
       "      <td>0.251158</td>\n",
       "      <td>-0.208093</td>\n",
       "      <td>0.888032</td>\n",
       "      <td>1.317261</td>\n",
       "      <td>-0.921512</td>\n",
       "      <td>-1.112401</td>\n",
       "    </tr>\n",
       "    <tr>\n",
       "      <th>2919</th>\n",
       "      <td>-0.015971</td>\n",
       "      <td>-0.665285</td>\n",
       "      <td>0.812409</td>\n",
       "      <td>-0.037329</td>\n",
       "      <td>-0.814443</td>\n",
       "      <td>-0.976930</td>\n",
       "    </tr>\n",
       "    <tr>\n",
       "      <th>2922</th>\n",
       "      <td>0.988070</td>\n",
       "      <td>-1.472019</td>\n",
       "      <td>0.498081</td>\n",
       "      <td>0.723045</td>\n",
       "      <td>0.736983</td>\n",
       "      <td>-0.739199</td>\n",
       "    </tr>\n",
       "    <tr>\n",
       "      <th>2925</th>\n",
       "      <td>-0.525209</td>\n",
       "      <td>-0.508170</td>\n",
       "      <td>-0.976550</td>\n",
       "      <td>0.211672</td>\n",
       "      <td>0.127534</td>\n",
       "      <td>-0.531094</td>\n",
       "    </tr>\n",
       "    <tr>\n",
       "      <th>2928</th>\n",
       "      <td>-0.206829</td>\n",
       "      <td>-1.136227</td>\n",
       "      <td>1.222703</td>\n",
       "      <td>-1.020086</td>\n",
       "      <td>-1.194639</td>\n",
       "      <td>-1.460795</td>\n",
       "    </tr>\n",
       "    <tr>\n",
       "      <th>2931</th>\n",
       "      <td>0.660036</td>\n",
       "      <td>-0.867424</td>\n",
       "      <td>1.749561</td>\n",
       "      <td>-1.907193</td>\n",
       "      <td>1.187101</td>\n",
       "      <td>1.143186</td>\n",
       "    </tr>\n",
       "    <tr>\n",
       "      <th>2934</th>\n",
       "      <td>-1.389346</td>\n",
       "      <td>0.412858</td>\n",
       "      <td>1.281592</td>\n",
       "      <td>-0.220270</td>\n",
       "      <td>0.746414</td>\n",
       "      <td>0.268132</td>\n",
       "    </tr>\n",
       "    <tr>\n",
       "      <th>2937</th>\n",
       "      <td>-0.989099</td>\n",
       "      <td>-0.764778</td>\n",
       "      <td>1.728064</td>\n",
       "      <td>-1.753227</td>\n",
       "      <td>0.668423</td>\n",
       "      <td>0.205295</td>\n",
       "    </tr>\n",
       "    <tr>\n",
       "      <th>2940</th>\n",
       "      <td>0.066235</td>\n",
       "      <td>0.013418</td>\n",
       "      <td>-0.127443</td>\n",
       "      <td>0.920279</td>\n",
       "      <td>0.778739</td>\n",
       "      <td>0.324891</td>\n",
       "    </tr>\n",
       "    <tr>\n",
       "      <th>2943</th>\n",
       "      <td>0.766001</td>\n",
       "      <td>-0.444729</td>\n",
       "      <td>0.529763</td>\n",
       "      <td>0.097006</td>\n",
       "      <td>0.740971</td>\n",
       "      <td>0.778033</td>\n",
       "    </tr>\n",
       "    <tr>\n",
       "      <th>2946</th>\n",
       "      <td>-0.575510</td>\n",
       "      <td>-0.028591</td>\n",
       "      <td>0.961573</td>\n",
       "      <td>-0.180699</td>\n",
       "      <td>0.505551</td>\n",
       "      <td>0.103452</td>\n",
       "    </tr>\n",
       "    <tr>\n",
       "      <th>2949</th>\n",
       "      <td>0.793058</td>\n",
       "      <td>-0.167523</td>\n",
       "      <td>0.390575</td>\n",
       "      <td>-0.555347</td>\n",
       "      <td>-0.235841</td>\n",
       "      <td>0.861122</td>\n",
       "    </tr>\n",
       "    <tr>\n",
       "      <th>2952</th>\n",
       "      <td>0.020954</td>\n",
       "      <td>-0.766745</td>\n",
       "      <td>-1.091398</td>\n",
       "      <td>-0.736950</td>\n",
       "      <td>0.955327</td>\n",
       "      <td>0.490362</td>\n",
       "    </tr>\n",
       "    <tr>\n",
       "      <th>2955</th>\n",
       "      <td>-0.212434</td>\n",
       "      <td>-0.507454</td>\n",
       "      <td>1.162101</td>\n",
       "      <td>0.986214</td>\n",
       "      <td>1.339879</td>\n",
       "      <td>0.596012</td>\n",
       "    </tr>\n",
       "    <tr>\n",
       "      <th>2958</th>\n",
       "      <td>2.104469</td>\n",
       "      <td>-0.969489</td>\n",
       "      <td>0.369222</td>\n",
       "      <td>-0.354357</td>\n",
       "      <td>-1.917360</td>\n",
       "      <td>-0.851765</td>\n",
       "    </tr>\n",
       "    <tr>\n",
       "      <th>2961</th>\n",
       "      <td>-0.652028</td>\n",
       "      <td>0.166281</td>\n",
       "      <td>1.676899</td>\n",
       "      <td>-1.797303</td>\n",
       "      <td>-0.377550</td>\n",
       "      <td>-0.932451</td>\n",
       "    </tr>\n",
       "    <tr>\n",
       "      <th>2964</th>\n",
       "      <td>1.503406</td>\n",
       "      <td>-1.344736</td>\n",
       "      <td>-1.209873</td>\n",
       "      <td>1.303638</td>\n",
       "      <td>0.815233</td>\n",
       "      <td>-2.115134</td>\n",
       "    </tr>\n",
       "    <tr>\n",
       "      <th>2967</th>\n",
       "      <td>-0.388867</td>\n",
       "      <td>-0.892087</td>\n",
       "      <td>-1.630915</td>\n",
       "      <td>0.164343</td>\n",
       "      <td>-1.026591</td>\n",
       "      <td>1.154554</td>\n",
       "    </tr>\n",
       "    <tr>\n",
       "      <th>2970</th>\n",
       "      <td>-1.263666</td>\n",
       "      <td>-0.089733</td>\n",
       "      <td>0.592884</td>\n",
       "      <td>-0.193067</td>\n",
       "      <td>0.361309</td>\n",
       "      <td>-1.032630</td>\n",
       "    </tr>\n",
       "    <tr>\n",
       "      <th>2973</th>\n",
       "      <td>-0.439616</td>\n",
       "      <td>-1.109086</td>\n",
       "      <td>-0.939723</td>\n",
       "      <td>1.892993</td>\n",
       "      <td>-0.334205</td>\n",
       "      <td>-0.031487</td>\n",
       "    </tr>\n",
       "    <tr>\n",
       "      <th>2976</th>\n",
       "      <td>-0.841126</td>\n",
       "      <td>0.826552</td>\n",
       "      <td>0.371849</td>\n",
       "      <td>2.121409</td>\n",
       "      <td>-2.000888</td>\n",
       "      <td>-1.122438</td>\n",
       "    </tr>\n",
       "    <tr>\n",
       "      <th>2979</th>\n",
       "      <td>0.418268</td>\n",
       "      <td>0.899213</td>\n",
       "      <td>1.318929</td>\n",
       "      <td>-0.665430</td>\n",
       "      <td>-0.668137</td>\n",
       "      <td>0.401558</td>\n",
       "    </tr>\n",
       "    <tr>\n",
       "      <th>2982</th>\n",
       "      <td>-0.485414</td>\n",
       "      <td>-0.663386</td>\n",
       "      <td>-0.639191</td>\n",
       "      <td>0.926521</td>\n",
       "      <td>0.407382</td>\n",
       "      <td>0.348006</td>\n",
       "    </tr>\n",
       "    <tr>\n",
       "      <th>2985</th>\n",
       "      <td>0.683408</td>\n",
       "      <td>0.421711</td>\n",
       "      <td>-0.220345</td>\n",
       "      <td>0.266733</td>\n",
       "      <td>1.363646</td>\n",
       "      <td>1.694470</td>\n",
       "    </tr>\n",
       "    <tr>\n",
       "      <th>2988</th>\n",
       "      <td>-0.550528</td>\n",
       "      <td>-0.965207</td>\n",
       "      <td>1.137873</td>\n",
       "      <td>1.457458</td>\n",
       "      <td>-0.443835</td>\n",
       "      <td>-1.209277</td>\n",
       "    </tr>\n",
       "    <tr>\n",
       "      <th>2991</th>\n",
       "      <td>1.242121</td>\n",
       "      <td>0.273902</td>\n",
       "      <td>0.267935</td>\n",
       "      <td>0.701894</td>\n",
       "      <td>-1.348973</td>\n",
       "      <td>-0.487914</td>\n",
       "    </tr>\n",
       "    <tr>\n",
       "      <th>2994</th>\n",
       "      <td>0.414032</td>\n",
       "      <td>-0.061760</td>\n",
       "      <td>-0.582928</td>\n",
       "      <td>0.181520</td>\n",
       "      <td>0.624948</td>\n",
       "      <td>0.618543</td>\n",
       "    </tr>\n",
       "    <tr>\n",
       "      <th>2997</th>\n",
       "      <td>-0.543866</td>\n",
       "      <td>-0.115203</td>\n",
       "      <td>-0.379113</td>\n",
       "      <td>2.518030</td>\n",
       "      <td>-0.155285</td>\n",
       "      <td>1.529563</td>\n",
       "    </tr>\n",
       "  </tbody>\n",
       "</table>\n",
       "<p>1000 rows × 6 columns</p>\n",
       "</div>"
      ],
      "text/plain": [
       "             A         B         C         D         E         F\n",
       "0    -0.662239 -0.860211 -0.693941  0.180686  0.522984 -3.488931\n",
       "3    -1.856639 -0.741630 -0.659115  0.480230  1.427569 -1.390488\n",
       "6    -0.622770  0.576408 -1.418174  0.234617 -2.298688 -1.664684\n",
       "9     0.144419 -1.442894  0.542897  0.913752 -0.719872  0.172177\n",
       "12   -2.008801 -0.105574 -0.123445 -0.103497  0.330018  1.025630\n",
       "15   -0.648124  0.921015 -0.042529 -1.105254 -2.051500  0.686010\n",
       "18    0.390465  0.191777  0.093593 -1.178423 -0.874159  0.755770\n",
       "21    0.532867  1.231472  0.203445 -1.304901  1.376622  0.936794\n",
       "24    1.406641  0.075832 -0.586003  1.272955 -0.002525  0.303566\n",
       "27    2.423388  0.549470  1.237121 -0.966267 -0.169228  0.365107\n",
       "30    1.171233 -0.011559  1.445732  1.081995 -0.873632 -0.106303\n",
       "33    1.898360  0.652517  1.378836  0.455121  2.186105 -0.840829\n",
       "36   -1.119192  1.194725 -0.210290 -1.554248  1.267378 -0.992830\n",
       "39   -1.182892 -0.584685  0.223284 -0.906455  1.466286  0.470858\n",
       "42    0.837229  2.846591 -1.392458 -0.552373 -0.373903  1.131297\n",
       "45   -1.577436 -1.615295  2.258751  0.907893  0.621586  0.041228\n",
       "48    0.184706  1.030901 -0.307690  0.017698 -1.113247 -0.341326\n",
       "51   -0.443544  1.256209 -0.915004 -0.460423 -1.075554  0.782381\n",
       "54   -0.463023  1.064757  0.492889 -2.099551  0.337164  0.038740\n",
       "57    0.163257 -0.320153 -0.828842 -0.707576 -0.036121  0.925926\n",
       "60   -0.455253  0.454515  0.042685 -0.351328 -0.082397  0.688552\n",
       "63    0.872969 -1.197036 -1.416470  0.027047 -0.697627  1.941558\n",
       "66   -0.234168 -0.817514  0.750103 -0.254798  1.000960 -1.318370\n",
       "69    0.250080  2.433952 -1.024821  0.616486  0.921359  1.375667\n",
       "72    0.651596 -0.845939  0.462452  0.735443 -0.711370 -1.232267\n",
       "75    0.243439 -0.866282 -0.650393  0.557043 -0.743673  0.250230\n",
       "78    1.315045  0.508681  0.086483  0.158500 -1.089519  1.257612\n",
       "81   -0.103929 -0.184321  1.255556  0.206062 -0.450391  1.341910\n",
       "84    0.348333 -0.067391 -1.193885 -0.198388 -0.707765 -1.167203\n",
       "87   -1.088646  0.195031 -1.858209  1.769550 -0.489361  2.346242\n",
       "...        ...       ...       ...       ...       ...       ...\n",
       "2910 -1.389639  1.727145 -0.361653 -0.852788 -0.425885 -0.108948\n",
       "2913 -0.040045 -0.209350 -0.681679  0.071034  0.888451 -1.148076\n",
       "2916  0.251158 -0.208093  0.888032  1.317261 -0.921512 -1.112401\n",
       "2919 -0.015971 -0.665285  0.812409 -0.037329 -0.814443 -0.976930\n",
       "2922  0.988070 -1.472019  0.498081  0.723045  0.736983 -0.739199\n",
       "2925 -0.525209 -0.508170 -0.976550  0.211672  0.127534 -0.531094\n",
       "2928 -0.206829 -1.136227  1.222703 -1.020086 -1.194639 -1.460795\n",
       "2931  0.660036 -0.867424  1.749561 -1.907193  1.187101  1.143186\n",
       "2934 -1.389346  0.412858  1.281592 -0.220270  0.746414  0.268132\n",
       "2937 -0.989099 -0.764778  1.728064 -1.753227  0.668423  0.205295\n",
       "2940  0.066235  0.013418 -0.127443  0.920279  0.778739  0.324891\n",
       "2943  0.766001 -0.444729  0.529763  0.097006  0.740971  0.778033\n",
       "2946 -0.575510 -0.028591  0.961573 -0.180699  0.505551  0.103452\n",
       "2949  0.793058 -0.167523  0.390575 -0.555347 -0.235841  0.861122\n",
       "2952  0.020954 -0.766745 -1.091398 -0.736950  0.955327  0.490362\n",
       "2955 -0.212434 -0.507454  1.162101  0.986214  1.339879  0.596012\n",
       "2958  2.104469 -0.969489  0.369222 -0.354357 -1.917360 -0.851765\n",
       "2961 -0.652028  0.166281  1.676899 -1.797303 -0.377550 -0.932451\n",
       "2964  1.503406 -1.344736 -1.209873  1.303638  0.815233 -2.115134\n",
       "2967 -0.388867 -0.892087 -1.630915  0.164343 -1.026591  1.154554\n",
       "2970 -1.263666 -0.089733  0.592884 -0.193067  0.361309 -1.032630\n",
       "2973 -0.439616 -1.109086 -0.939723  1.892993 -0.334205 -0.031487\n",
       "2976 -0.841126  0.826552  0.371849  2.121409 -2.000888 -1.122438\n",
       "2979  0.418268  0.899213  1.318929 -0.665430 -0.668137  0.401558\n",
       "2982 -0.485414 -0.663386 -0.639191  0.926521  0.407382  0.348006\n",
       "2985  0.683408  0.421711 -0.220345  0.266733  1.363646  1.694470\n",
       "2988 -0.550528 -0.965207  1.137873  1.457458 -0.443835 -1.209277\n",
       "2991  1.242121  0.273902  0.267935  0.701894 -1.348973 -0.487914\n",
       "2994  0.414032 -0.061760 -0.582928  0.181520  0.624948  0.618543\n",
       "2997 -0.543866 -0.115203 -0.379113  2.518030 -0.155285  1.529563\n",
       "\n",
       "[1000 rows x 6 columns]"
      ]
     },
     "execution_count": 69,
     "metadata": {},
     "output_type": "execute_result"
    }
   ],
   "source": [
    "# Sampling a 1000 rows 6 cols 2D array from the standard normal distribution and creating DataFrame\n",
    "u = pd.DataFrame(np.random.randn(1000, 6),\n",
    "                 index=np.arange(0, 3000, 3),\n",
    "                 columns=['A', 'B', 'C', 'D', 'E', 'F'])\n",
    "\n",
    "print(type(u))\n",
    "\n",
    "u"
   ]
  },
  {
   "cell_type": "markdown",
   "metadata": {},
   "source": [
    "As you might have noticed, it is a bit ugly to deal with large dataframes. There are however some functions that allows to have an idea of the data in a frame."
   ]
  },
  {
   "cell_type": "code",
   "execution_count": 70,
   "metadata": {},
   "outputs": [
    {
     "data": {
      "text/html": [
       "<div>\n",
       "<style scoped>\n",
       "    .dataframe tbody tr th:only-of-type {\n",
       "        vertical-align: middle;\n",
       "    }\n",
       "\n",
       "    .dataframe tbody tr th {\n",
       "        vertical-align: top;\n",
       "    }\n",
       "\n",
       "    .dataframe thead th {\n",
       "        text-align: right;\n",
       "    }\n",
       "</style>\n",
       "<table border=\"1\" class=\"dataframe\">\n",
       "  <thead>\n",
       "    <tr style=\"text-align: right;\">\n",
       "      <th></th>\n",
       "      <th>A</th>\n",
       "      <th>B</th>\n",
       "      <th>C</th>\n",
       "      <th>D</th>\n",
       "      <th>E</th>\n",
       "      <th>F</th>\n",
       "    </tr>\n",
       "  </thead>\n",
       "  <tbody>\n",
       "    <tr>\n",
       "      <th>0</th>\n",
       "      <td>-0.662239</td>\n",
       "      <td>-0.860211</td>\n",
       "      <td>-0.693941</td>\n",
       "      <td>0.180686</td>\n",
       "      <td>0.522984</td>\n",
       "      <td>-3.488931</td>\n",
       "    </tr>\n",
       "    <tr>\n",
       "      <th>3</th>\n",
       "      <td>-1.856639</td>\n",
       "      <td>-0.741630</td>\n",
       "      <td>-0.659115</td>\n",
       "      <td>0.480230</td>\n",
       "      <td>1.427569</td>\n",
       "      <td>-1.390488</td>\n",
       "    </tr>\n",
       "    <tr>\n",
       "      <th>6</th>\n",
       "      <td>-0.622770</td>\n",
       "      <td>0.576408</td>\n",
       "      <td>-1.418174</td>\n",
       "      <td>0.234617</td>\n",
       "      <td>-2.298688</td>\n",
       "      <td>-1.664684</td>\n",
       "    </tr>\n",
       "    <tr>\n",
       "      <th>9</th>\n",
       "      <td>0.144419</td>\n",
       "      <td>-1.442894</td>\n",
       "      <td>0.542897</td>\n",
       "      <td>0.913752</td>\n",
       "      <td>-0.719872</td>\n",
       "      <td>0.172177</td>\n",
       "    </tr>\n",
       "    <tr>\n",
       "      <th>12</th>\n",
       "      <td>-2.008801</td>\n",
       "      <td>-0.105574</td>\n",
       "      <td>-0.123445</td>\n",
       "      <td>-0.103497</td>\n",
       "      <td>0.330018</td>\n",
       "      <td>1.025630</td>\n",
       "    </tr>\n",
       "  </tbody>\n",
       "</table>\n",
       "</div>"
      ],
      "text/plain": [
       "           A         B         C         D         E         F\n",
       "0  -0.662239 -0.860211 -0.693941  0.180686  0.522984 -3.488931\n",
       "3  -1.856639 -0.741630 -0.659115  0.480230  1.427569 -1.390488\n",
       "6  -0.622770  0.576408 -1.418174  0.234617 -2.298688 -1.664684\n",
       "9   0.144419 -1.442894  0.542897  0.913752 -0.719872  0.172177\n",
       "12 -2.008801 -0.105574 -0.123445 -0.103497  0.330018  1.025630"
      ]
     },
     "execution_count": 70,
     "metadata": {},
     "output_type": "execute_result"
    }
   ],
   "source": [
    "u.head()"
   ]
  },
  {
   "cell_type": "code",
   "execution_count": 71,
   "metadata": {},
   "outputs": [
    {
     "data": {
      "text/html": [
       "<div>\n",
       "<style scoped>\n",
       "    .dataframe tbody tr th:only-of-type {\n",
       "        vertical-align: middle;\n",
       "    }\n",
       "\n",
       "    .dataframe tbody tr th {\n",
       "        vertical-align: top;\n",
       "    }\n",
       "\n",
       "    .dataframe thead th {\n",
       "        text-align: right;\n",
       "    }\n",
       "</style>\n",
       "<table border=\"1\" class=\"dataframe\">\n",
       "  <thead>\n",
       "    <tr style=\"text-align: right;\">\n",
       "      <th></th>\n",
       "      <th>A</th>\n",
       "      <th>B</th>\n",
       "      <th>C</th>\n",
       "      <th>D</th>\n",
       "      <th>E</th>\n",
       "      <th>F</th>\n",
       "    </tr>\n",
       "  </thead>\n",
       "  <tbody>\n",
       "    <tr>\n",
       "      <th>2985</th>\n",
       "      <td>0.683408</td>\n",
       "      <td>0.421711</td>\n",
       "      <td>-0.220345</td>\n",
       "      <td>0.266733</td>\n",
       "      <td>1.363646</td>\n",
       "      <td>1.694470</td>\n",
       "    </tr>\n",
       "    <tr>\n",
       "      <th>2988</th>\n",
       "      <td>-0.550528</td>\n",
       "      <td>-0.965207</td>\n",
       "      <td>1.137873</td>\n",
       "      <td>1.457458</td>\n",
       "      <td>-0.443835</td>\n",
       "      <td>-1.209277</td>\n",
       "    </tr>\n",
       "    <tr>\n",
       "      <th>2991</th>\n",
       "      <td>1.242121</td>\n",
       "      <td>0.273902</td>\n",
       "      <td>0.267935</td>\n",
       "      <td>0.701894</td>\n",
       "      <td>-1.348973</td>\n",
       "      <td>-0.487914</td>\n",
       "    </tr>\n",
       "    <tr>\n",
       "      <th>2994</th>\n",
       "      <td>0.414032</td>\n",
       "      <td>-0.061760</td>\n",
       "      <td>-0.582928</td>\n",
       "      <td>0.181520</td>\n",
       "      <td>0.624948</td>\n",
       "      <td>0.618543</td>\n",
       "    </tr>\n",
       "    <tr>\n",
       "      <th>2997</th>\n",
       "      <td>-0.543866</td>\n",
       "      <td>-0.115203</td>\n",
       "      <td>-0.379113</td>\n",
       "      <td>2.518030</td>\n",
       "      <td>-0.155285</td>\n",
       "      <td>1.529563</td>\n",
       "    </tr>\n",
       "  </tbody>\n",
       "</table>\n",
       "</div>"
      ],
      "text/plain": [
       "             A         B         C         D         E         F\n",
       "2985  0.683408  0.421711 -0.220345  0.266733  1.363646  1.694470\n",
       "2988 -0.550528 -0.965207  1.137873  1.457458 -0.443835 -1.209277\n",
       "2991  1.242121  0.273902  0.267935  0.701894 -1.348973 -0.487914\n",
       "2994  0.414032 -0.061760 -0.582928  0.181520  0.624948  0.618543\n",
       "2997 -0.543866 -0.115203 -0.379113  2.518030 -0.155285  1.529563"
      ]
     },
     "execution_count": 71,
     "metadata": {},
     "output_type": "execute_result"
    }
   ],
   "source": [
    "u.tail()"
   ]
  },
  {
   "cell_type": "code",
   "execution_count": 72,
   "metadata": {},
   "outputs": [
    {
     "name": "stdout",
     "output_type": "stream",
     "text": [
      "<class 'pandas.core.frame.DataFrame'>\n",
      "Int64Index: 1000 entries, 0 to 2997\n",
      "Data columns (total 6 columns):\n",
      "A    1000 non-null float64\n",
      "B    1000 non-null float64\n",
      "C    1000 non-null float64\n",
      "D    1000 non-null float64\n",
      "E    1000 non-null float64\n",
      "F    1000 non-null float64\n",
      "dtypes: float64(6)\n",
      "memory usage: 54.7 KB\n"
     ]
    }
   ],
   "source": [
    "u.info()"
   ]
  },
  {
   "cell_type": "code",
   "execution_count": 73,
   "metadata": {},
   "outputs": [
    {
     "data": {
      "text/html": [
       "<div>\n",
       "<style scoped>\n",
       "    .dataframe tbody tr th:only-of-type {\n",
       "        vertical-align: middle;\n",
       "    }\n",
       "\n",
       "    .dataframe tbody tr th {\n",
       "        vertical-align: top;\n",
       "    }\n",
       "\n",
       "    .dataframe thead th {\n",
       "        text-align: right;\n",
       "    }\n",
       "</style>\n",
       "<table border=\"1\" class=\"dataframe\">\n",
       "  <thead>\n",
       "    <tr style=\"text-align: right;\">\n",
       "      <th></th>\n",
       "      <th>A</th>\n",
       "      <th>B</th>\n",
       "      <th>C</th>\n",
       "      <th>D</th>\n",
       "      <th>E</th>\n",
       "      <th>F</th>\n",
       "    </tr>\n",
       "  </thead>\n",
       "  <tbody>\n",
       "    <tr>\n",
       "      <th>count</th>\n",
       "      <td>1000.000000</td>\n",
       "      <td>1000.000000</td>\n",
       "      <td>1000.000000</td>\n",
       "      <td>1000.000000</td>\n",
       "      <td>1000.000000</td>\n",
       "      <td>1000.000000</td>\n",
       "    </tr>\n",
       "    <tr>\n",
       "      <th>mean</th>\n",
       "      <td>0.043603</td>\n",
       "      <td>-0.025890</td>\n",
       "      <td>-0.004746</td>\n",
       "      <td>-0.036378</td>\n",
       "      <td>0.038894</td>\n",
       "      <td>-0.039051</td>\n",
       "    </tr>\n",
       "    <tr>\n",
       "      <th>std</th>\n",
       "      <td>0.999383</td>\n",
       "      <td>0.978131</td>\n",
       "      <td>1.001992</td>\n",
       "      <td>1.000319</td>\n",
       "      <td>1.020122</td>\n",
       "      <td>1.020924</td>\n",
       "    </tr>\n",
       "    <tr>\n",
       "      <th>min</th>\n",
       "      <td>-2.486541</td>\n",
       "      <td>-3.525007</td>\n",
       "      <td>-3.143087</td>\n",
       "      <td>-3.113421</td>\n",
       "      <td>-2.952576</td>\n",
       "      <td>-3.488931</td>\n",
       "    </tr>\n",
       "    <tr>\n",
       "      <th>25%</th>\n",
       "      <td>-0.674280</td>\n",
       "      <td>-0.682204</td>\n",
       "      <td>-0.693943</td>\n",
       "      <td>-0.704353</td>\n",
       "      <td>-0.651564</td>\n",
       "      <td>-0.715428</td>\n",
       "    </tr>\n",
       "    <tr>\n",
       "      <th>50%</th>\n",
       "      <td>0.050285</td>\n",
       "      <td>-0.041296</td>\n",
       "      <td>-0.016096</td>\n",
       "      <td>-0.037925</td>\n",
       "      <td>-0.015326</td>\n",
       "      <td>-0.077394</td>\n",
       "    </tr>\n",
       "    <tr>\n",
       "      <th>75%</th>\n",
       "      <td>0.717496</td>\n",
       "      <td>0.628360</td>\n",
       "      <td>0.675940</td>\n",
       "      <td>0.647556</td>\n",
       "      <td>0.772890</td>\n",
       "      <td>0.643107</td>\n",
       "    </tr>\n",
       "    <tr>\n",
       "      <th>max</th>\n",
       "      <td>3.298376</td>\n",
       "      <td>3.073995</td>\n",
       "      <td>3.452285</td>\n",
       "      <td>2.769270</td>\n",
       "      <td>2.781209</td>\n",
       "      <td>3.584851</td>\n",
       "    </tr>\n",
       "  </tbody>\n",
       "</table>\n",
       "</div>"
      ],
      "text/plain": [
       "                 A            B            C            D            E  \\\n",
       "count  1000.000000  1000.000000  1000.000000  1000.000000  1000.000000   \n",
       "mean      0.043603    -0.025890    -0.004746    -0.036378     0.038894   \n",
       "std       0.999383     0.978131     1.001992     1.000319     1.020122   \n",
       "min      -2.486541    -3.525007    -3.143087    -3.113421    -2.952576   \n",
       "25%      -0.674280    -0.682204    -0.693943    -0.704353    -0.651564   \n",
       "50%       0.050285    -0.041296    -0.016096    -0.037925    -0.015326   \n",
       "75%       0.717496     0.628360     0.675940     0.647556     0.772890   \n",
       "max       3.298376     3.073995     3.452285     2.769270     2.781209   \n",
       "\n",
       "                 F  \n",
       "count  1000.000000  \n",
       "mean     -0.039051  \n",
       "std       1.020924  \n",
       "min      -3.488931  \n",
       "25%      -0.715428  \n",
       "50%      -0.077394  \n",
       "75%       0.643107  \n",
       "max       3.584851  "
      ]
     },
     "execution_count": 73,
     "metadata": {},
     "output_type": "execute_result"
    }
   ],
   "source": [
    "u.describe()"
   ]
  },
  {
   "cell_type": "markdown",
   "metadata": {},
   "source": [
    "One can also change the maximal number of rows that is displayed:"
   ]
  },
  {
   "cell_type": "code",
   "execution_count": 74,
   "metadata": {},
   "outputs": [
    {
     "data": {
      "text/html": [
       "<div>\n",
       "<style scoped>\n",
       "    .dataframe tbody tr th:only-of-type {\n",
       "        vertical-align: middle;\n",
       "    }\n",
       "\n",
       "    .dataframe tbody tr th {\n",
       "        vertical-align: top;\n",
       "    }\n",
       "\n",
       "    .dataframe thead th {\n",
       "        text-align: right;\n",
       "    }\n",
       "</style>\n",
       "<table border=\"1\" class=\"dataframe\">\n",
       "  <thead>\n",
       "    <tr style=\"text-align: right;\">\n",
       "      <th></th>\n",
       "      <th>A</th>\n",
       "      <th>B</th>\n",
       "      <th>C</th>\n",
       "      <th>D</th>\n",
       "      <th>E</th>\n",
       "      <th>F</th>\n",
       "    </tr>\n",
       "  </thead>\n",
       "  <tbody>\n",
       "    <tr>\n",
       "      <th>0</th>\n",
       "      <td>-0.662239</td>\n",
       "      <td>-0.860211</td>\n",
       "      <td>-0.693941</td>\n",
       "      <td>0.180686</td>\n",
       "      <td>0.522984</td>\n",
       "      <td>-3.488931</td>\n",
       "    </tr>\n",
       "    <tr>\n",
       "      <th>3</th>\n",
       "      <td>-1.856639</td>\n",
       "      <td>-0.741630</td>\n",
       "      <td>-0.659115</td>\n",
       "      <td>0.480230</td>\n",
       "      <td>1.427569</td>\n",
       "      <td>-1.390488</td>\n",
       "    </tr>\n",
       "    <tr>\n",
       "      <th>6</th>\n",
       "      <td>-0.622770</td>\n",
       "      <td>0.576408</td>\n",
       "      <td>-1.418174</td>\n",
       "      <td>0.234617</td>\n",
       "      <td>-2.298688</td>\n",
       "      <td>-1.664684</td>\n",
       "    </tr>\n",
       "    <tr>\n",
       "      <th>9</th>\n",
       "      <td>0.144419</td>\n",
       "      <td>-1.442894</td>\n",
       "      <td>0.542897</td>\n",
       "      <td>0.913752</td>\n",
       "      <td>-0.719872</td>\n",
       "      <td>0.172177</td>\n",
       "    </tr>\n",
       "    <tr>\n",
       "      <th>12</th>\n",
       "      <td>-2.008801</td>\n",
       "      <td>-0.105574</td>\n",
       "      <td>-0.123445</td>\n",
       "      <td>-0.103497</td>\n",
       "      <td>0.330018</td>\n",
       "      <td>1.025630</td>\n",
       "    </tr>\n",
       "    <tr>\n",
       "      <th>15</th>\n",
       "      <td>-0.648124</td>\n",
       "      <td>0.921015</td>\n",
       "      <td>-0.042529</td>\n",
       "      <td>-1.105254</td>\n",
       "      <td>-2.051500</td>\n",
       "      <td>0.686010</td>\n",
       "    </tr>\n",
       "    <tr>\n",
       "      <th>18</th>\n",
       "      <td>0.390465</td>\n",
       "      <td>0.191777</td>\n",
       "      <td>0.093593</td>\n",
       "      <td>-1.178423</td>\n",
       "      <td>-0.874159</td>\n",
       "      <td>0.755770</td>\n",
       "    </tr>\n",
       "    <tr>\n",
       "      <th>...</th>\n",
       "      <td>...</td>\n",
       "      <td>...</td>\n",
       "      <td>...</td>\n",
       "      <td>...</td>\n",
       "      <td>...</td>\n",
       "      <td>...</td>\n",
       "    </tr>\n",
       "    <tr>\n",
       "      <th>2979</th>\n",
       "      <td>0.418268</td>\n",
       "      <td>0.899213</td>\n",
       "      <td>1.318929</td>\n",
       "      <td>-0.665430</td>\n",
       "      <td>-0.668137</td>\n",
       "      <td>0.401558</td>\n",
       "    </tr>\n",
       "    <tr>\n",
       "      <th>2982</th>\n",
       "      <td>-0.485414</td>\n",
       "      <td>-0.663386</td>\n",
       "      <td>-0.639191</td>\n",
       "      <td>0.926521</td>\n",
       "      <td>0.407382</td>\n",
       "      <td>0.348006</td>\n",
       "    </tr>\n",
       "    <tr>\n",
       "      <th>2985</th>\n",
       "      <td>0.683408</td>\n",
       "      <td>0.421711</td>\n",
       "      <td>-0.220345</td>\n",
       "      <td>0.266733</td>\n",
       "      <td>1.363646</td>\n",
       "      <td>1.694470</td>\n",
       "    </tr>\n",
       "    <tr>\n",
       "      <th>2988</th>\n",
       "      <td>-0.550528</td>\n",
       "      <td>-0.965207</td>\n",
       "      <td>1.137873</td>\n",
       "      <td>1.457458</td>\n",
       "      <td>-0.443835</td>\n",
       "      <td>-1.209277</td>\n",
       "    </tr>\n",
       "    <tr>\n",
       "      <th>2991</th>\n",
       "      <td>1.242121</td>\n",
       "      <td>0.273902</td>\n",
       "      <td>0.267935</td>\n",
       "      <td>0.701894</td>\n",
       "      <td>-1.348973</td>\n",
       "      <td>-0.487914</td>\n",
       "    </tr>\n",
       "    <tr>\n",
       "      <th>2994</th>\n",
       "      <td>0.414032</td>\n",
       "      <td>-0.061760</td>\n",
       "      <td>-0.582928</td>\n",
       "      <td>0.181520</td>\n",
       "      <td>0.624948</td>\n",
       "      <td>0.618543</td>\n",
       "    </tr>\n",
       "    <tr>\n",
       "      <th>2997</th>\n",
       "      <td>-0.543866</td>\n",
       "      <td>-0.115203</td>\n",
       "      <td>-0.379113</td>\n",
       "      <td>2.518030</td>\n",
       "      <td>-0.155285</td>\n",
       "      <td>1.529563</td>\n",
       "    </tr>\n",
       "  </tbody>\n",
       "</table>\n",
       "<p>1000 rows × 6 columns</p>\n",
       "</div>"
      ],
      "text/plain": [
       "             A         B         C         D         E         F\n",
       "0    -0.662239 -0.860211 -0.693941  0.180686  0.522984 -3.488931\n",
       "3    -1.856639 -0.741630 -0.659115  0.480230  1.427569 -1.390488\n",
       "6    -0.622770  0.576408 -1.418174  0.234617 -2.298688 -1.664684\n",
       "9     0.144419 -1.442894  0.542897  0.913752 -0.719872  0.172177\n",
       "12   -2.008801 -0.105574 -0.123445 -0.103497  0.330018  1.025630\n",
       "15   -0.648124  0.921015 -0.042529 -1.105254 -2.051500  0.686010\n",
       "18    0.390465  0.191777  0.093593 -1.178423 -0.874159  0.755770\n",
       "...        ...       ...       ...       ...       ...       ...\n",
       "2979  0.418268  0.899213  1.318929 -0.665430 -0.668137  0.401558\n",
       "2982 -0.485414 -0.663386 -0.639191  0.926521  0.407382  0.348006\n",
       "2985  0.683408  0.421711 -0.220345  0.266733  1.363646  1.694470\n",
       "2988 -0.550528 -0.965207  1.137873  1.457458 -0.443835 -1.209277\n",
       "2991  1.242121  0.273902  0.267935  0.701894 -1.348973 -0.487914\n",
       "2994  0.414032 -0.061760 -0.582928  0.181520  0.624948  0.618543\n",
       "2997 -0.543866 -0.115203 -0.379113  2.518030 -0.155285  1.529563\n",
       "\n",
       "[1000 rows x 6 columns]"
      ]
     },
     "execution_count": 74,
     "metadata": {},
     "output_type": "execute_result"
    }
   ],
   "source": [
    "pd.set_option('display.max_rows', 15)\n",
    "\n",
    "u"
   ]
  },
  {
   "cell_type": "markdown",
   "metadata": {},
   "source": [
    "### Indexing/Slicing in Pandas\n",
    "\n",
    "The easiest way of accessing information in a Pandas dataframe, equivalent to the way used in NumPy, is using the `iloc` command. With this you can also set specific values, do conditional indexing... all that we have seen before in section 2.4"
   ]
  },
  {
   "cell_type": "code",
   "execution_count": 75,
   "metadata": {},
   "outputs": [
    {
     "data": {
      "text/html": [
       "<div>\n",
       "<style scoped>\n",
       "    .dataframe tbody tr th:only-of-type {\n",
       "        vertical-align: middle;\n",
       "    }\n",
       "\n",
       "    .dataframe tbody tr th {\n",
       "        vertical-align: top;\n",
       "    }\n",
       "\n",
       "    .dataframe thead th {\n",
       "        text-align: right;\n",
       "    }\n",
       "</style>\n",
       "<table border=\"1\" class=\"dataframe\">\n",
       "  <thead>\n",
       "    <tr style=\"text-align: right;\">\n",
       "      <th></th>\n",
       "      <th>A</th>\n",
       "      <th>C</th>\n",
       "      <th>F</th>\n",
       "    </tr>\n",
       "  </thead>\n",
       "  <tbody>\n",
       "    <tr>\n",
       "      <th>375</th>\n",
       "      <td>0.175071</td>\n",
       "      <td>0.564787</td>\n",
       "      <td>-0.977051</td>\n",
       "    </tr>\n",
       "    <tr>\n",
       "      <th>378</th>\n",
       "      <td>0.574764</td>\n",
       "      <td>-1.439122</td>\n",
       "      <td>-0.379785</td>\n",
       "    </tr>\n",
       "    <tr>\n",
       "      <th>381</th>\n",
       "      <td>-0.010161</td>\n",
       "      <td>0.097404</td>\n",
       "      <td>0.851237</td>\n",
       "    </tr>\n",
       "    <tr>\n",
       "      <th>384</th>\n",
       "      <td>-1.207635</td>\n",
       "      <td>-0.896451</td>\n",
       "      <td>0.507183</td>\n",
       "    </tr>\n",
       "    <tr>\n",
       "      <th>387</th>\n",
       "      <td>1.719935</td>\n",
       "      <td>-1.512461</td>\n",
       "      <td>0.811479</td>\n",
       "    </tr>\n",
       "    <tr>\n",
       "      <th>390</th>\n",
       "      <td>-0.328843</td>\n",
       "      <td>-0.356548</td>\n",
       "      <td>-2.912631</td>\n",
       "    </tr>\n",
       "    <tr>\n",
       "      <th>393</th>\n",
       "      <td>-0.155489</td>\n",
       "      <td>0.053797</td>\n",
       "      <td>-0.493593</td>\n",
       "    </tr>\n",
       "  </tbody>\n",
       "</table>\n",
       "</div>"
      ],
      "text/plain": [
       "            A         C         F\n",
       "375  0.175071  0.564787 -0.977051\n",
       "378  0.574764 -1.439122 -0.379785\n",
       "381 -0.010161  0.097404  0.851237\n",
       "384 -1.207635 -0.896451  0.507183\n",
       "387  1.719935 -1.512461  0.811479\n",
       "390 -0.328843 -0.356548 -2.912631\n",
       "393 -0.155489  0.053797 -0.493593"
      ]
     },
     "execution_count": 75,
     "metadata": {},
     "output_type": "execute_result"
    }
   ],
   "source": [
    "# Slice-in rows index 125 to 132 (132 included!) from columns index 0, 2 and 5\n",
    "u.iloc[125:132, [0, 2, 5]]"
   ]
  },
  {
   "cell_type": "markdown",
   "metadata": {},
   "source": [
    "You can also choose specific rows according to their indices with the `loc` command"
   ]
  },
  {
   "cell_type": "code",
   "execution_count": 76,
   "metadata": {},
   "outputs": [
    {
     "data": {
      "text/html": [
       "<div>\n",
       "<style scoped>\n",
       "    .dataframe tbody tr th:only-of-type {\n",
       "        vertical-align: middle;\n",
       "    }\n",
       "\n",
       "    .dataframe tbody tr th {\n",
       "        vertical-align: top;\n",
       "    }\n",
       "\n",
       "    .dataframe thead th {\n",
       "        text-align: right;\n",
       "    }\n",
       "</style>\n",
       "<table border=\"1\" class=\"dataframe\">\n",
       "  <thead>\n",
       "    <tr style=\"text-align: right;\">\n",
       "      <th></th>\n",
       "      <th>A</th>\n",
       "      <th>C</th>\n",
       "      <th>F</th>\n",
       "    </tr>\n",
       "  </thead>\n",
       "  <tbody>\n",
       "    <tr>\n",
       "      <th>375</th>\n",
       "      <td>0.175071</td>\n",
       "      <td>0.564787</td>\n",
       "      <td>-0.977051</td>\n",
       "    </tr>\n",
       "    <tr>\n",
       "      <th>378</th>\n",
       "      <td>0.574764</td>\n",
       "      <td>-1.439122</td>\n",
       "      <td>-0.379785</td>\n",
       "    </tr>\n",
       "    <tr>\n",
       "      <th>381</th>\n",
       "      <td>-0.010161</td>\n",
       "      <td>0.097404</td>\n",
       "      <td>0.851237</td>\n",
       "    </tr>\n",
       "    <tr>\n",
       "      <th>384</th>\n",
       "      <td>-1.207635</td>\n",
       "      <td>-0.896451</td>\n",
       "      <td>0.507183</td>\n",
       "    </tr>\n",
       "    <tr>\n",
       "      <th>387</th>\n",
       "      <td>1.719935</td>\n",
       "      <td>-1.512461</td>\n",
       "      <td>0.811479</td>\n",
       "    </tr>\n",
       "    <tr>\n",
       "      <th>390</th>\n",
       "      <td>-0.328843</td>\n",
       "      <td>-0.356548</td>\n",
       "      <td>-2.912631</td>\n",
       "    </tr>\n",
       "    <tr>\n",
       "      <th>393</th>\n",
       "      <td>-0.155489</td>\n",
       "      <td>0.053797</td>\n",
       "      <td>-0.493593</td>\n",
       "    </tr>\n",
       "  </tbody>\n",
       "</table>\n",
       "</div>"
      ],
      "text/plain": [
       "            A         C         F\n",
       "375  0.175071  0.564787 -0.977051\n",
       "378  0.574764 -1.439122 -0.379785\n",
       "381 -0.010161  0.097404  0.851237\n",
       "384 -1.207635 -0.896451  0.507183\n",
       "387  1.719935 -1.512461  0.811479\n",
       "390 -0.328843 -0.356548 -2.912631\n",
       "393 -0.155489  0.053797 -0.493593"
      ]
     },
     "execution_count": 76,
     "metadata": {},
     "output_type": "execute_result"
    }
   ],
   "source": [
    "# Slice-in rows 375 to 393 (393 included!) from columns A, C and F\n",
    "u.loc[375:393, ['A', 'C', 'F']]"
   ]
  },
  {
   "cell_type": "markdown",
   "metadata": {},
   "source": [
    "The usual `[]` will select specific rows according to the row number"
   ]
  },
  {
   "cell_type": "code",
   "execution_count": 77,
   "metadata": {},
   "outputs": [
    {
     "data": {
      "text/html": [
       "<div>\n",
       "<style scoped>\n",
       "    .dataframe tbody tr th:only-of-type {\n",
       "        vertical-align: middle;\n",
       "    }\n",
       "\n",
       "    .dataframe tbody tr th {\n",
       "        vertical-align: top;\n",
       "    }\n",
       "\n",
       "    .dataframe thead th {\n",
       "        text-align: right;\n",
       "    }\n",
       "</style>\n",
       "<table border=\"1\" class=\"dataframe\">\n",
       "  <thead>\n",
       "    <tr style=\"text-align: right;\">\n",
       "      <th></th>\n",
       "      <th>A</th>\n",
       "      <th>C</th>\n",
       "      <th>F</th>\n",
       "    </tr>\n",
       "  </thead>\n",
       "  <tbody>\n",
       "    <tr>\n",
       "      <th>375</th>\n",
       "      <td>0.175071</td>\n",
       "      <td>0.564787</td>\n",
       "      <td>-0.977051</td>\n",
       "    </tr>\n",
       "    <tr>\n",
       "      <th>378</th>\n",
       "      <td>0.574764</td>\n",
       "      <td>-1.439122</td>\n",
       "      <td>-0.379785</td>\n",
       "    </tr>\n",
       "    <tr>\n",
       "      <th>381</th>\n",
       "      <td>-0.010161</td>\n",
       "      <td>0.097404</td>\n",
       "      <td>0.851237</td>\n",
       "    </tr>\n",
       "    <tr>\n",
       "      <th>384</th>\n",
       "      <td>-1.207635</td>\n",
       "      <td>-0.896451</td>\n",
       "      <td>0.507183</td>\n",
       "    </tr>\n",
       "    <tr>\n",
       "      <th>387</th>\n",
       "      <td>1.719935</td>\n",
       "      <td>-1.512461</td>\n",
       "      <td>0.811479</td>\n",
       "    </tr>\n",
       "    <tr>\n",
       "      <th>390</th>\n",
       "      <td>-0.328843</td>\n",
       "      <td>-0.356548</td>\n",
       "      <td>-2.912631</td>\n",
       "    </tr>\n",
       "    <tr>\n",
       "      <th>393</th>\n",
       "      <td>-0.155489</td>\n",
       "      <td>0.053797</td>\n",
       "      <td>-0.493593</td>\n",
       "    </tr>\n",
       "  </tbody>\n",
       "</table>\n",
       "</div>"
      ],
      "text/plain": [
       "            A         C         F\n",
       "375  0.175071  0.564787 -0.977051\n",
       "378  0.574764 -1.439122 -0.379785\n",
       "381 -0.010161  0.097404  0.851237\n",
       "384 -1.207635 -0.896451  0.507183\n",
       "387  1.719935 -1.512461  0.811479\n",
       "390 -0.328843 -0.356548 -2.912631\n",
       "393 -0.155489  0.053797 -0.493593"
      ]
     },
     "execution_count": 77,
     "metadata": {},
     "output_type": "execute_result"
    }
   ],
   "source": [
    "# Slice-in rows index 125 to 132 (132 included!) from columns A, C and F\n",
    "u[125:132][['A', 'C', 'F']]"
   ]
  },
  {
   "cell_type": "markdown",
   "metadata": {},
   "source": [
    "However, there are a few different ways of accessing the data in a Pandas dataframe, that typically have a more \"direct\" connection with the actual content fo the dataframe. Individual or sets of columns can also be accessed by their column names. Choosing one single column will give a Series, while two or more will produce a DataFrame"
   ]
  },
  {
   "cell_type": "code",
   "execution_count": 78,
   "metadata": {},
   "outputs": [
    {
     "data": {
      "text/plain": [
       "0    -0.662239\n",
       "3    -1.856639\n",
       "6    -0.622770\n",
       "9     0.144419\n",
       "12   -2.008801\n",
       "Name: A, dtype: float64"
      ]
     },
     "execution_count": 78,
     "metadata": {},
     "output_type": "execute_result"
    }
   ],
   "source": [
    "u['A'].head()"
   ]
  },
  {
   "cell_type": "code",
   "execution_count": 79,
   "metadata": {},
   "outputs": [
    {
     "data": {
      "text/html": [
       "<div>\n",
       "<style scoped>\n",
       "    .dataframe tbody tr th:only-of-type {\n",
       "        vertical-align: middle;\n",
       "    }\n",
       "\n",
       "    .dataframe tbody tr th {\n",
       "        vertical-align: top;\n",
       "    }\n",
       "\n",
       "    .dataframe thead th {\n",
       "        text-align: right;\n",
       "    }\n",
       "</style>\n",
       "<table border=\"1\" class=\"dataframe\">\n",
       "  <thead>\n",
       "    <tr style=\"text-align: right;\">\n",
       "      <th></th>\n",
       "      <th>A</th>\n",
       "      <th>D</th>\n",
       "    </tr>\n",
       "  </thead>\n",
       "  <tbody>\n",
       "    <tr>\n",
       "      <th>0</th>\n",
       "      <td>-0.662239</td>\n",
       "      <td>0.180686</td>\n",
       "    </tr>\n",
       "    <tr>\n",
       "      <th>3</th>\n",
       "      <td>-1.856639</td>\n",
       "      <td>0.480230</td>\n",
       "    </tr>\n",
       "    <tr>\n",
       "      <th>6</th>\n",
       "      <td>-0.622770</td>\n",
       "      <td>0.234617</td>\n",
       "    </tr>\n",
       "    <tr>\n",
       "      <th>9</th>\n",
       "      <td>0.144419</td>\n",
       "      <td>0.913752</td>\n",
       "    </tr>\n",
       "    <tr>\n",
       "      <th>12</th>\n",
       "      <td>-2.008801</td>\n",
       "      <td>-0.103497</td>\n",
       "    </tr>\n",
       "  </tbody>\n",
       "</table>\n",
       "</div>"
      ],
      "text/plain": [
       "           A         D\n",
       "0  -0.662239  0.180686\n",
       "3  -1.856639  0.480230\n",
       "6  -0.622770  0.234617\n",
       "9   0.144419  0.913752\n",
       "12 -2.008801 -0.103497"
      ]
     },
     "execution_count": 79,
     "metadata": {},
     "output_type": "execute_result"
    }
   ],
   "source": [
    "u[['A', 'D']].head()"
   ]
  },
  {
   "cell_type": "markdown",
   "metadata": {},
   "source": [
    "Not only that, you can access a single column without the need of brackets []"
   ]
  },
  {
   "cell_type": "code",
   "execution_count": 80,
   "metadata": {},
   "outputs": [
    {
     "data": {
      "text/plain": [
       "0    -0.662239\n",
       "3    -1.856639\n",
       "6    -0.622770\n",
       "9     0.144419\n",
       "12   -2.008801\n",
       "Name: A, dtype: float64"
      ]
     },
     "execution_count": 80,
     "metadata": {},
     "output_type": "execute_result"
    }
   ],
   "source": [
    "u.A.head()"
   ]
  },
  {
   "cell_type": "markdown",
   "metadata": {},
   "source": [
    "Or, you can access just the elements that satisfy some condition"
   ]
  },
  {
   "cell_type": "code",
   "execution_count": 81,
   "metadata": {},
   "outputs": [
    {
     "data": {
      "text/html": [
       "<div>\n",
       "<style scoped>\n",
       "    .dataframe tbody tr th:only-of-type {\n",
       "        vertical-align: middle;\n",
       "    }\n",
       "\n",
       "    .dataframe tbody tr th {\n",
       "        vertical-align: top;\n",
       "    }\n",
       "\n",
       "    .dataframe thead th {\n",
       "        text-align: right;\n",
       "    }\n",
       "</style>\n",
       "<table border=\"1\" class=\"dataframe\">\n",
       "  <thead>\n",
       "    <tr style=\"text-align: right;\">\n",
       "      <th></th>\n",
       "      <th>A</th>\n",
       "      <th>B</th>\n",
       "      <th>C</th>\n",
       "      <th>D</th>\n",
       "      <th>E</th>\n",
       "      <th>F</th>\n",
       "    </tr>\n",
       "  </thead>\n",
       "  <tbody>\n",
       "    <tr>\n",
       "      <th>354</th>\n",
       "      <td>-1.190963</td>\n",
       "      <td>2.016324</td>\n",
       "      <td>-0.091702</td>\n",
       "      <td>2.751617</td>\n",
       "      <td>0.380951</td>\n",
       "      <td>0.169527</td>\n",
       "    </tr>\n",
       "    <tr>\n",
       "      <th>447</th>\n",
       "      <td>1.092366</td>\n",
       "      <td>-0.957381</td>\n",
       "      <td>0.160103</td>\n",
       "      <td>2.424202</td>\n",
       "      <td>0.461510</td>\n",
       "      <td>1.396946</td>\n",
       "    </tr>\n",
       "    <tr>\n",
       "      <th>480</th>\n",
       "      <td>1.557415</td>\n",
       "      <td>-2.231186</td>\n",
       "      <td>-1.307552</td>\n",
       "      <td>2.151007</td>\n",
       "      <td>1.596920</td>\n",
       "      <td>-1.338196</td>\n",
       "    </tr>\n",
       "    <tr>\n",
       "      <th>549</th>\n",
       "      <td>0.748195</td>\n",
       "      <td>-0.331447</td>\n",
       "      <td>-0.684377</td>\n",
       "      <td>2.290553</td>\n",
       "      <td>-1.891842</td>\n",
       "      <td>-0.171652</td>\n",
       "    </tr>\n",
       "    <tr>\n",
       "      <th>684</th>\n",
       "      <td>-1.495301</td>\n",
       "      <td>1.348423</td>\n",
       "      <td>0.879932</td>\n",
       "      <td>2.387653</td>\n",
       "      <td>-0.956090</td>\n",
       "      <td>0.008358</td>\n",
       "    </tr>\n",
       "    <tr>\n",
       "      <th>783</th>\n",
       "      <td>-1.064988</td>\n",
       "      <td>-0.934688</td>\n",
       "      <td>-1.154213</td>\n",
       "      <td>2.205864</td>\n",
       "      <td>-0.257541</td>\n",
       "      <td>-0.010576</td>\n",
       "    </tr>\n",
       "    <tr>\n",
       "      <th>1182</th>\n",
       "      <td>-0.361148</td>\n",
       "      <td>0.847534</td>\n",
       "      <td>0.017291</td>\n",
       "      <td>2.741245</td>\n",
       "      <td>1.432786</td>\n",
       "      <td>-0.161272</td>\n",
       "    </tr>\n",
       "    <tr>\n",
       "      <th>...</th>\n",
       "      <td>...</td>\n",
       "      <td>...</td>\n",
       "      <td>...</td>\n",
       "      <td>...</td>\n",
       "      <td>...</td>\n",
       "      <td>...</td>\n",
       "    </tr>\n",
       "    <tr>\n",
       "      <th>2373</th>\n",
       "      <td>-0.054766</td>\n",
       "      <td>0.107712</td>\n",
       "      <td>-0.260757</td>\n",
       "      <td>2.650631</td>\n",
       "      <td>-0.642320</td>\n",
       "      <td>-0.590547</td>\n",
       "    </tr>\n",
       "    <tr>\n",
       "      <th>2469</th>\n",
       "      <td>0.148001</td>\n",
       "      <td>0.588214</td>\n",
       "      <td>-1.115547</td>\n",
       "      <td>2.010975</td>\n",
       "      <td>-0.245087</td>\n",
       "      <td>-0.427692</td>\n",
       "    </tr>\n",
       "    <tr>\n",
       "      <th>2568</th>\n",
       "      <td>-1.233912</td>\n",
       "      <td>-0.201608</td>\n",
       "      <td>-1.213101</td>\n",
       "      <td>2.020115</td>\n",
       "      <td>-1.027933</td>\n",
       "      <td>0.887021</td>\n",
       "    </tr>\n",
       "    <tr>\n",
       "      <th>2580</th>\n",
       "      <td>-0.501586</td>\n",
       "      <td>-0.025721</td>\n",
       "      <td>0.115281</td>\n",
       "      <td>2.389310</td>\n",
       "      <td>1.562069</td>\n",
       "      <td>0.068548</td>\n",
       "    </tr>\n",
       "    <tr>\n",
       "      <th>2832</th>\n",
       "      <td>-1.871566</td>\n",
       "      <td>1.170374</td>\n",
       "      <td>-1.332351</td>\n",
       "      <td>2.059171</td>\n",
       "      <td>-0.331769</td>\n",
       "      <td>-1.030312</td>\n",
       "    </tr>\n",
       "    <tr>\n",
       "      <th>2976</th>\n",
       "      <td>-0.841126</td>\n",
       "      <td>0.826552</td>\n",
       "      <td>0.371849</td>\n",
       "      <td>2.121409</td>\n",
       "      <td>-2.000888</td>\n",
       "      <td>-1.122438</td>\n",
       "    </tr>\n",
       "    <tr>\n",
       "      <th>2997</th>\n",
       "      <td>-0.543866</td>\n",
       "      <td>-0.115203</td>\n",
       "      <td>-0.379113</td>\n",
       "      <td>2.518030</td>\n",
       "      <td>-0.155285</td>\n",
       "      <td>1.529563</td>\n",
       "    </tr>\n",
       "  </tbody>\n",
       "</table>\n",
       "<p>20 rows × 6 columns</p>\n",
       "</div>"
      ],
      "text/plain": [
       "             A         B         C         D         E         F\n",
       "354  -1.190963  2.016324 -0.091702  2.751617  0.380951  0.169527\n",
       "447   1.092366 -0.957381  0.160103  2.424202  0.461510  1.396946\n",
       "480   1.557415 -2.231186 -1.307552  2.151007  1.596920 -1.338196\n",
       "549   0.748195 -0.331447 -0.684377  2.290553 -1.891842 -0.171652\n",
       "684  -1.495301  1.348423  0.879932  2.387653 -0.956090  0.008358\n",
       "783  -1.064988 -0.934688 -1.154213  2.205864 -0.257541 -0.010576\n",
       "1182 -0.361148  0.847534  0.017291  2.741245  1.432786 -0.161272\n",
       "...        ...       ...       ...       ...       ...       ...\n",
       "2373 -0.054766  0.107712 -0.260757  2.650631 -0.642320 -0.590547\n",
       "2469  0.148001  0.588214 -1.115547  2.010975 -0.245087 -0.427692\n",
       "2568 -1.233912 -0.201608 -1.213101  2.020115 -1.027933  0.887021\n",
       "2580 -0.501586 -0.025721  0.115281  2.389310  1.562069  0.068548\n",
       "2832 -1.871566  1.170374 -1.332351  2.059171 -0.331769 -1.030312\n",
       "2976 -0.841126  0.826552  0.371849  2.121409 -2.000888 -1.122438\n",
       "2997 -0.543866 -0.115203 -0.379113  2.518030 -0.155285  1.529563\n",
       "\n",
       "[20 rows x 6 columns]"
      ]
     },
     "execution_count": 81,
     "metadata": {},
     "output_type": "execute_result"
    }
   ],
   "source": [
    "u[u.D > 2]"
   ]
  },
  {
   "cell_type": "code",
   "execution_count": 82,
   "metadata": {},
   "outputs": [
    {
     "data": {
      "text/html": [
       "<div>\n",
       "<style scoped>\n",
       "    .dataframe tbody tr th:only-of-type {\n",
       "        vertical-align: middle;\n",
       "    }\n",
       "\n",
       "    .dataframe tbody tr th {\n",
       "        vertical-align: top;\n",
       "    }\n",
       "\n",
       "    .dataframe thead th {\n",
       "        text-align: right;\n",
       "    }\n",
       "</style>\n",
       "<table border=\"1\" class=\"dataframe\">\n",
       "  <thead>\n",
       "    <tr style=\"text-align: right;\">\n",
       "      <th></th>\n",
       "      <th>A</th>\n",
       "      <th>B</th>\n",
       "      <th>C</th>\n",
       "      <th>D</th>\n",
       "      <th>E</th>\n",
       "      <th>F</th>\n",
       "    </tr>\n",
       "  </thead>\n",
       "  <tbody>\n",
       "    <tr>\n",
       "      <th>0</th>\n",
       "      <td>-0.662239</td>\n",
       "      <td>-0.860211</td>\n",
       "      <td>-0.693941</td>\n",
       "      <td>0.180686</td>\n",
       "      <td>0.522984</td>\n",
       "      <td>-3.488931</td>\n",
       "    </tr>\n",
       "    <tr>\n",
       "      <th>3</th>\n",
       "      <td>-1.856639</td>\n",
       "      <td>-0.741630</td>\n",
       "      <td>-0.659115</td>\n",
       "      <td>0.480230</td>\n",
       "      <td>1.427569</td>\n",
       "      <td>-1.390488</td>\n",
       "    </tr>\n",
       "    <tr>\n",
       "      <th>6</th>\n",
       "      <td>-0.622770</td>\n",
       "      <td>0.576408</td>\n",
       "      <td>-1.418174</td>\n",
       "      <td>0.234617</td>\n",
       "      <td>-2.298688</td>\n",
       "      <td>-1.664684</td>\n",
       "    </tr>\n",
       "    <tr>\n",
       "      <th>9</th>\n",
       "      <td>0.144419</td>\n",
       "      <td>-1.442894</td>\n",
       "      <td>0.542897</td>\n",
       "      <td>0.913752</td>\n",
       "      <td>-0.719872</td>\n",
       "      <td>0.172177</td>\n",
       "    </tr>\n",
       "    <tr>\n",
       "      <th>12</th>\n",
       "      <td>-2.008801</td>\n",
       "      <td>-0.105574</td>\n",
       "      <td>-0.123445</td>\n",
       "      <td>-0.103497</td>\n",
       "      <td>0.330018</td>\n",
       "      <td>1.025630</td>\n",
       "    </tr>\n",
       "    <tr>\n",
       "      <th>15</th>\n",
       "      <td>-0.648124</td>\n",
       "      <td>0.921015</td>\n",
       "      <td>-0.042529</td>\n",
       "      <td>-1.105254</td>\n",
       "      <td>-2.051500</td>\n",
       "      <td>0.686010</td>\n",
       "    </tr>\n",
       "    <tr>\n",
       "      <th>18</th>\n",
       "      <td>0.390465</td>\n",
       "      <td>0.191777</td>\n",
       "      <td>0.093593</td>\n",
       "      <td>-1.178423</td>\n",
       "      <td>-0.874159</td>\n",
       "      <td>0.755770</td>\n",
       "    </tr>\n",
       "    <tr>\n",
       "      <th>...</th>\n",
       "      <td>...</td>\n",
       "      <td>...</td>\n",
       "      <td>...</td>\n",
       "      <td>...</td>\n",
       "      <td>...</td>\n",
       "      <td>...</td>\n",
       "    </tr>\n",
       "    <tr>\n",
       "      <th>2973</th>\n",
       "      <td>-0.439616</td>\n",
       "      <td>-1.109086</td>\n",
       "      <td>-0.939723</td>\n",
       "      <td>1.892993</td>\n",
       "      <td>-0.334205</td>\n",
       "      <td>-0.031487</td>\n",
       "    </tr>\n",
       "    <tr>\n",
       "      <th>2979</th>\n",
       "      <td>0.418268</td>\n",
       "      <td>0.899213</td>\n",
       "      <td>1.318929</td>\n",
       "      <td>-0.665430</td>\n",
       "      <td>-0.668137</td>\n",
       "      <td>0.401558</td>\n",
       "    </tr>\n",
       "    <tr>\n",
       "      <th>2982</th>\n",
       "      <td>-0.485414</td>\n",
       "      <td>-0.663386</td>\n",
       "      <td>-0.639191</td>\n",
       "      <td>0.926521</td>\n",
       "      <td>0.407382</td>\n",
       "      <td>0.348006</td>\n",
       "    </tr>\n",
       "    <tr>\n",
       "      <th>2985</th>\n",
       "      <td>0.683408</td>\n",
       "      <td>0.421711</td>\n",
       "      <td>-0.220345</td>\n",
       "      <td>0.266733</td>\n",
       "      <td>1.363646</td>\n",
       "      <td>1.694470</td>\n",
       "    </tr>\n",
       "    <tr>\n",
       "      <th>2988</th>\n",
       "      <td>-0.550528</td>\n",
       "      <td>-0.965207</td>\n",
       "      <td>1.137873</td>\n",
       "      <td>1.457458</td>\n",
       "      <td>-0.443835</td>\n",
       "      <td>-1.209277</td>\n",
       "    </tr>\n",
       "    <tr>\n",
       "      <th>2991</th>\n",
       "      <td>1.242121</td>\n",
       "      <td>0.273902</td>\n",
       "      <td>0.267935</td>\n",
       "      <td>0.701894</td>\n",
       "      <td>-1.348973</td>\n",
       "      <td>-0.487914</td>\n",
       "    </tr>\n",
       "    <tr>\n",
       "      <th>2994</th>\n",
       "      <td>0.414032</td>\n",
       "      <td>-0.061760</td>\n",
       "      <td>-0.582928</td>\n",
       "      <td>0.181520</td>\n",
       "      <td>0.624948</td>\n",
       "      <td>0.618543</td>\n",
       "    </tr>\n",
       "  </tbody>\n",
       "</table>\n",
       "<p>980 rows × 6 columns</p>\n",
       "</div>"
      ],
      "text/plain": [
       "             A         B         C         D         E         F\n",
       "0    -0.662239 -0.860211 -0.693941  0.180686  0.522984 -3.488931\n",
       "3    -1.856639 -0.741630 -0.659115  0.480230  1.427569 -1.390488\n",
       "6    -0.622770  0.576408 -1.418174  0.234617 -2.298688 -1.664684\n",
       "9     0.144419 -1.442894  0.542897  0.913752 -0.719872  0.172177\n",
       "12   -2.008801 -0.105574 -0.123445 -0.103497  0.330018  1.025630\n",
       "15   -0.648124  0.921015 -0.042529 -1.105254 -2.051500  0.686010\n",
       "18    0.390465  0.191777  0.093593 -1.178423 -0.874159  0.755770\n",
       "...        ...       ...       ...       ...       ...       ...\n",
       "2973 -0.439616 -1.109086 -0.939723  1.892993 -0.334205 -0.031487\n",
       "2979  0.418268  0.899213  1.318929 -0.665430 -0.668137  0.401558\n",
       "2982 -0.485414 -0.663386 -0.639191  0.926521  0.407382  0.348006\n",
       "2985  0.683408  0.421711 -0.220345  0.266733  1.363646  1.694470\n",
       "2988 -0.550528 -0.965207  1.137873  1.457458 -0.443835 -1.209277\n",
       "2991  1.242121  0.273902  0.267935  0.701894 -1.348973 -0.487914\n",
       "2994  0.414032 -0.061760 -0.582928  0.181520  0.624948  0.618543\n",
       "\n",
       "[980 rows x 6 columns]"
      ]
     },
     "execution_count": 82,
     "metadata": {},
     "output_type": "execute_result"
    }
   ],
   "source": [
    "u[~(u.D > 2)]  # For the inverse of u.D > 2"
   ]
  },
  {
   "cell_type": "markdown",
   "metadata": {},
   "source": [
    "Recently `query` has been added to `DataFrame` for the same purpose. While it is less powerful than logical indexing, it is often faster and shorter (when names are longer than just `u`):"
   ]
  },
  {
   "cell_type": "code",
   "execution_count": 83,
   "metadata": {},
   "outputs": [
    {
     "data": {
      "text/html": [
       "<div>\n",
       "<style scoped>\n",
       "    .dataframe tbody tr th:only-of-type {\n",
       "        vertical-align: middle;\n",
       "    }\n",
       "\n",
       "    .dataframe tbody tr th {\n",
       "        vertical-align: top;\n",
       "    }\n",
       "\n",
       "    .dataframe thead th {\n",
       "        text-align: right;\n",
       "    }\n",
       "</style>\n",
       "<table border=\"1\" class=\"dataframe\">\n",
       "  <thead>\n",
       "    <tr style=\"text-align: right;\">\n",
       "      <th></th>\n",
       "      <th>A</th>\n",
       "      <th>B</th>\n",
       "      <th>C</th>\n",
       "      <th>D</th>\n",
       "      <th>E</th>\n",
       "      <th>F</th>\n",
       "    </tr>\n",
       "  </thead>\n",
       "  <tbody>\n",
       "    <tr>\n",
       "      <th>354</th>\n",
       "      <td>-1.190963</td>\n",
       "      <td>2.016324</td>\n",
       "      <td>-0.091702</td>\n",
       "      <td>2.751617</td>\n",
       "      <td>0.380951</td>\n",
       "      <td>0.169527</td>\n",
       "    </tr>\n",
       "    <tr>\n",
       "      <th>447</th>\n",
       "      <td>1.092366</td>\n",
       "      <td>-0.957381</td>\n",
       "      <td>0.160103</td>\n",
       "      <td>2.424202</td>\n",
       "      <td>0.461510</td>\n",
       "      <td>1.396946</td>\n",
       "    </tr>\n",
       "    <tr>\n",
       "      <th>480</th>\n",
       "      <td>1.557415</td>\n",
       "      <td>-2.231186</td>\n",
       "      <td>-1.307552</td>\n",
       "      <td>2.151007</td>\n",
       "      <td>1.596920</td>\n",
       "      <td>-1.338196</td>\n",
       "    </tr>\n",
       "    <tr>\n",
       "      <th>549</th>\n",
       "      <td>0.748195</td>\n",
       "      <td>-0.331447</td>\n",
       "      <td>-0.684377</td>\n",
       "      <td>2.290553</td>\n",
       "      <td>-1.891842</td>\n",
       "      <td>-0.171652</td>\n",
       "    </tr>\n",
       "    <tr>\n",
       "      <th>684</th>\n",
       "      <td>-1.495301</td>\n",
       "      <td>1.348423</td>\n",
       "      <td>0.879932</td>\n",
       "      <td>2.387653</td>\n",
       "      <td>-0.956090</td>\n",
       "      <td>0.008358</td>\n",
       "    </tr>\n",
       "    <tr>\n",
       "      <th>783</th>\n",
       "      <td>-1.064988</td>\n",
       "      <td>-0.934688</td>\n",
       "      <td>-1.154213</td>\n",
       "      <td>2.205864</td>\n",
       "      <td>-0.257541</td>\n",
       "      <td>-0.010576</td>\n",
       "    </tr>\n",
       "    <tr>\n",
       "      <th>1182</th>\n",
       "      <td>-0.361148</td>\n",
       "      <td>0.847534</td>\n",
       "      <td>0.017291</td>\n",
       "      <td>2.741245</td>\n",
       "      <td>1.432786</td>\n",
       "      <td>-0.161272</td>\n",
       "    </tr>\n",
       "    <tr>\n",
       "      <th>...</th>\n",
       "      <td>...</td>\n",
       "      <td>...</td>\n",
       "      <td>...</td>\n",
       "      <td>...</td>\n",
       "      <td>...</td>\n",
       "      <td>...</td>\n",
       "    </tr>\n",
       "    <tr>\n",
       "      <th>2373</th>\n",
       "      <td>-0.054766</td>\n",
       "      <td>0.107712</td>\n",
       "      <td>-0.260757</td>\n",
       "      <td>2.650631</td>\n",
       "      <td>-0.642320</td>\n",
       "      <td>-0.590547</td>\n",
       "    </tr>\n",
       "    <tr>\n",
       "      <th>2469</th>\n",
       "      <td>0.148001</td>\n",
       "      <td>0.588214</td>\n",
       "      <td>-1.115547</td>\n",
       "      <td>2.010975</td>\n",
       "      <td>-0.245087</td>\n",
       "      <td>-0.427692</td>\n",
       "    </tr>\n",
       "    <tr>\n",
       "      <th>2568</th>\n",
       "      <td>-1.233912</td>\n",
       "      <td>-0.201608</td>\n",
       "      <td>-1.213101</td>\n",
       "      <td>2.020115</td>\n",
       "      <td>-1.027933</td>\n",
       "      <td>0.887021</td>\n",
       "    </tr>\n",
       "    <tr>\n",
       "      <th>2580</th>\n",
       "      <td>-0.501586</td>\n",
       "      <td>-0.025721</td>\n",
       "      <td>0.115281</td>\n",
       "      <td>2.389310</td>\n",
       "      <td>1.562069</td>\n",
       "      <td>0.068548</td>\n",
       "    </tr>\n",
       "    <tr>\n",
       "      <th>2832</th>\n",
       "      <td>-1.871566</td>\n",
       "      <td>1.170374</td>\n",
       "      <td>-1.332351</td>\n",
       "      <td>2.059171</td>\n",
       "      <td>-0.331769</td>\n",
       "      <td>-1.030312</td>\n",
       "    </tr>\n",
       "    <tr>\n",
       "      <th>2976</th>\n",
       "      <td>-0.841126</td>\n",
       "      <td>0.826552</td>\n",
       "      <td>0.371849</td>\n",
       "      <td>2.121409</td>\n",
       "      <td>-2.000888</td>\n",
       "      <td>-1.122438</td>\n",
       "    </tr>\n",
       "    <tr>\n",
       "      <th>2997</th>\n",
       "      <td>-0.543866</td>\n",
       "      <td>-0.115203</td>\n",
       "      <td>-0.379113</td>\n",
       "      <td>2.518030</td>\n",
       "      <td>-0.155285</td>\n",
       "      <td>1.529563</td>\n",
       "    </tr>\n",
       "  </tbody>\n",
       "</table>\n",
       "<p>20 rows × 6 columns</p>\n",
       "</div>"
      ],
      "text/plain": [
       "             A         B         C         D         E         F\n",
       "354  -1.190963  2.016324 -0.091702  2.751617  0.380951  0.169527\n",
       "447   1.092366 -0.957381  0.160103  2.424202  0.461510  1.396946\n",
       "480   1.557415 -2.231186 -1.307552  2.151007  1.596920 -1.338196\n",
       "549   0.748195 -0.331447 -0.684377  2.290553 -1.891842 -0.171652\n",
       "684  -1.495301  1.348423  0.879932  2.387653 -0.956090  0.008358\n",
       "783  -1.064988 -0.934688 -1.154213  2.205864 -0.257541 -0.010576\n",
       "1182 -0.361148  0.847534  0.017291  2.741245  1.432786 -0.161272\n",
       "...        ...       ...       ...       ...       ...       ...\n",
       "2373 -0.054766  0.107712 -0.260757  2.650631 -0.642320 -0.590547\n",
       "2469  0.148001  0.588214 -1.115547  2.010975 -0.245087 -0.427692\n",
       "2568 -1.233912 -0.201608 -1.213101  2.020115 -1.027933  0.887021\n",
       "2580 -0.501586 -0.025721  0.115281  2.389310  1.562069  0.068548\n",
       "2832 -1.871566  1.170374 -1.332351  2.059171 -0.331769 -1.030312\n",
       "2976 -0.841126  0.826552  0.371849  2.121409 -2.000888 -1.122438\n",
       "2997 -0.543866 -0.115203 -0.379113  2.518030 -0.155285  1.529563\n",
       "\n",
       "[20 rows x 6 columns]"
      ]
     },
     "execution_count": 83,
     "metadata": {},
     "output_type": "execute_result"
    }
   ],
   "source": [
    "u.query('D > 2')"
   ]
  },
  {
   "cell_type": "markdown",
   "metadata": {},
   "source": [
    "### Reshaping `DataFrame`s"
   ]
  },
  {
   "cell_type": "code",
   "execution_count": 84,
   "metadata": {},
   "outputs": [
    {
     "data": {
      "text/html": [
       "<div>\n",
       "<style scoped>\n",
       "    .dataframe tbody tr th:only-of-type {\n",
       "        vertical-align: middle;\n",
       "    }\n",
       "\n",
       "    .dataframe tbody tr th {\n",
       "        vertical-align: top;\n",
       "    }\n",
       "\n",
       "    .dataframe thead th {\n",
       "        text-align: right;\n",
       "    }\n",
       "</style>\n",
       "<table border=\"1\" class=\"dataframe\">\n",
       "  <thead>\n",
       "    <tr style=\"text-align: right;\">\n",
       "      <th></th>\n",
       "      <th>sample</th>\n",
       "      <th>replicate</th>\n",
       "      <th>protein</th>\n",
       "      <th>value1</th>\n",
       "    </tr>\n",
       "  </thead>\n",
       "  <tbody>\n",
       "    <tr>\n",
       "      <th>0</th>\n",
       "      <td>A</td>\n",
       "      <td>01</td>\n",
       "      <td>P02768</td>\n",
       "      <td>-0.799373</td>\n",
       "    </tr>\n",
       "    <tr>\n",
       "      <th>1</th>\n",
       "      <td>A</td>\n",
       "      <td>02</td>\n",
       "      <td>P02768</td>\n",
       "      <td>-0.455000</td>\n",
       "    </tr>\n",
       "    <tr>\n",
       "      <th>2</th>\n",
       "      <td>A</td>\n",
       "      <td>03</td>\n",
       "      <td>P02768</td>\n",
       "      <td>-0.226954</td>\n",
       "    </tr>\n",
       "    <tr>\n",
       "      <th>3</th>\n",
       "      <td>B</td>\n",
       "      <td>01</td>\n",
       "      <td>P02768</td>\n",
       "      <td>-0.004300</td>\n",
       "    </tr>\n",
       "    <tr>\n",
       "      <th>4</th>\n",
       "      <td>B</td>\n",
       "      <td>02</td>\n",
       "      <td>P02768</td>\n",
       "      <td>0.605822</td>\n",
       "    </tr>\n",
       "    <tr>\n",
       "      <th>5</th>\n",
       "      <td>B</td>\n",
       "      <td>03</td>\n",
       "      <td>P02768</td>\n",
       "      <td>1.044721</td>\n",
       "    </tr>\n",
       "  </tbody>\n",
       "</table>\n",
       "</div>"
      ],
      "text/plain": [
       "  sample replicate protein    value1\n",
       "0      A        01  P02768 -0.799373\n",
       "1      A        02  P02768 -0.455000\n",
       "2      A        03  P02768 -0.226954\n",
       "3      B        01  P02768 -0.004300\n",
       "4      B        02  P02768  0.605822\n",
       "5      B        03  P02768  1.044721"
      ]
     },
     "execution_count": 84,
     "metadata": {},
     "output_type": "execute_result"
    }
   ],
   "source": [
    "df1 = pd.DataFrame()\n",
    "\n",
    "df1['sample'] = ['A', 'A', 'A', 'B', 'B', 'B']\n",
    "df1['replicate'] = ['01', '02', '03', '01', '02', '03']\n",
    "df1['protein'] = 'P02768'\n",
    "df1['value1'] = np.random.randn(6)\n",
    "\n",
    "df1"
   ]
  },
  {
   "cell_type": "code",
   "execution_count": 150,
   "metadata": {},
   "outputs": [
    {
     "data": {
      "text/html": [
       "<div>\n",
       "<style scoped>\n",
       "    .dataframe tbody tr th:only-of-type {\n",
       "        vertical-align: middle;\n",
       "    }\n",
       "\n",
       "    .dataframe tbody tr th {\n",
       "        vertical-align: top;\n",
       "    }\n",
       "\n",
       "    .dataframe thead th {\n",
       "        text-align: right;\n",
       "    }\n",
       "</style>\n",
       "<table border=\"1\" class=\"dataframe\">\n",
       "  <thead>\n",
       "    <tr style=\"text-align: right;\">\n",
       "      <th>sample</th>\n",
       "      <th>A</th>\n",
       "      <th>B</th>\n",
       "    </tr>\n",
       "    <tr>\n",
       "      <th>replicate</th>\n",
       "      <th></th>\n",
       "      <th></th>\n",
       "    </tr>\n",
       "  </thead>\n",
       "  <tbody>\n",
       "    <tr>\n",
       "      <th>01</th>\n",
       "      <td>-0.799373</td>\n",
       "      <td>-0.004300</td>\n",
       "    </tr>\n",
       "    <tr>\n",
       "      <th>02</th>\n",
       "      <td>-0.455000</td>\n",
       "      <td>0.605822</td>\n",
       "    </tr>\n",
       "    <tr>\n",
       "      <th>03</th>\n",
       "      <td>-0.226954</td>\n",
       "      <td>1.044721</td>\n",
       "    </tr>\n",
       "  </tbody>\n",
       "</table>\n",
       "</div>"
      ],
      "text/plain": [
       "sample            A         B\n",
       "replicate                    \n",
       "01        -0.799373 -0.004300\n",
       "02        -0.455000  0.605822\n",
       "03        -0.226954  1.044721"
      ]
     },
     "execution_count": 150,
     "metadata": {},
     "output_type": "execute_result"
    }
   ],
   "source": [
    "pivot_df1 = df1.pivot(index='replicate', columns='sample', values='value1')\n",
    "\n",
    "pivot_df1.head()"
   ]
  },
  {
   "cell_type": "markdown",
   "metadata": {},
   "source": [
    "### Computing With `DataFrames`\n",
    "\n",
    "You can calculate with `DataFrames` or their columns (which are `Series`) the same way you could with `arrays`s"
   ]
  },
  {
   "cell_type": "code",
   "execution_count": 86,
   "metadata": {},
   "outputs": [
    {
     "data": {
      "text/html": [
       "<div>\n",
       "<style scoped>\n",
       "    .dataframe tbody tr th:only-of-type {\n",
       "        vertical-align: middle;\n",
       "    }\n",
       "\n",
       "    .dataframe tbody tr th {\n",
       "        vertical-align: top;\n",
       "    }\n",
       "\n",
       "    .dataframe thead th {\n",
       "        text-align: right;\n",
       "    }\n",
       "</style>\n",
       "<table border=\"1\" class=\"dataframe\">\n",
       "  <thead>\n",
       "    <tr style=\"text-align: right;\">\n",
       "      <th></th>\n",
       "      <th>sample</th>\n",
       "      <th>replicate</th>\n",
       "      <th>protein</th>\n",
       "      <th>value1</th>\n",
       "      <th>value2</th>\n",
       "    </tr>\n",
       "  </thead>\n",
       "  <tbody>\n",
       "    <tr>\n",
       "      <th>0</th>\n",
       "      <td>A</td>\n",
       "      <td>01</td>\n",
       "      <td>P02768</td>\n",
       "      <td>-0.799373</td>\n",
       "      <td>-1.250980</td>\n",
       "    </tr>\n",
       "    <tr>\n",
       "      <th>1</th>\n",
       "      <td>A</td>\n",
       "      <td>02</td>\n",
       "      <td>P02768</td>\n",
       "      <td>-0.455000</td>\n",
       "      <td>-2.197804</td>\n",
       "    </tr>\n",
       "    <tr>\n",
       "      <th>2</th>\n",
       "      <td>A</td>\n",
       "      <td>03</td>\n",
       "      <td>P02768</td>\n",
       "      <td>-0.226954</td>\n",
       "      <td>-4.406174</td>\n",
       "    </tr>\n",
       "    <tr>\n",
       "      <th>3</th>\n",
       "      <td>B</td>\n",
       "      <td>01</td>\n",
       "      <td>P02768</td>\n",
       "      <td>-0.004300</td>\n",
       "      <td>-232.575816</td>\n",
       "    </tr>\n",
       "    <tr>\n",
       "      <th>4</th>\n",
       "      <td>B</td>\n",
       "      <td>02</td>\n",
       "      <td>P02768</td>\n",
       "      <td>0.605822</td>\n",
       "      <td>1.650651</td>\n",
       "    </tr>\n",
       "  </tbody>\n",
       "</table>\n",
       "</div>"
      ],
      "text/plain": [
       "  sample replicate protein    value1      value2\n",
       "0      A        01  P02768 -0.799373   -1.250980\n",
       "1      A        02  P02768 -0.455000   -2.197804\n",
       "2      A        03  P02768 -0.226954   -4.406174\n",
       "3      B        01  P02768 -0.004300 -232.575816\n",
       "4      B        02  P02768  0.605822    1.650651"
      ]
     },
     "execution_count": 86,
     "metadata": {},
     "output_type": "execute_result"
    }
   ],
   "source": [
    "df1['value2'] = 1 / df1['value1']\n",
    "df1.head()"
   ]
  },
  {
   "cell_type": "code",
   "execution_count": 151,
   "metadata": {},
   "outputs": [
    {
     "data": {
      "text/plain": [
       "value1     0.027486\n",
       "value2   -39.637155\n",
       "dtype: float64"
      ]
     },
     "execution_count": 151,
     "metadata": {},
     "output_type": "execute_result"
    }
   ],
   "source": [
    "np.mean(df1)"
   ]
  },
  {
   "cell_type": "markdown",
   "metadata": {},
   "source": [
    "You can apply functions to the whole dataset or specific columns with the `apply` command. `apply` acts on the whole column at a time (i.e. a Pandas `Series`), so you can compute things that depend on several values of the column, for instance the mean value. To apply functions in a real element-by-element basis the function `applymap` or `Series.apply` should be used."
   ]
  },
  {
   "cell_type": "code",
   "execution_count": 152,
   "metadata": {},
   "outputs": [
    {
     "data": {
      "text/plain": [
       "value1     0.027486\n",
       "value2   -39.637155\n",
       "dtype: float64"
      ]
     },
     "execution_count": 152,
     "metadata": {},
     "output_type": "execute_result"
    }
   ],
   "source": [
    "def mn(col):\n",
    "    return sum(col) / len(col)\n",
    "\n",
    "df1[['value1', 'value2']].apply(mn)"
   ]
  },
  {
   "cell_type": "markdown",
   "metadata": {},
   "source": [
    "While most can be directly calculated (including the given example of the mean), `apply` also works on columns with strings or categorical data, where no mathematical operations are defined. The limit is the imagination."
   ]
  },
  {
   "cell_type": "markdown",
   "metadata": {},
   "source": [
    "### Combining `DataFrames`\n",
    "\n",
    "Something we will do quite often as scientists is combining data from different sources into one single source. This can be achieved by different commands in Pandas, depending on the actual goal we want.\n",
    "\n",
    "To begin with, appending new rows of data is achieved by the command `append`."
   ]
  },
  {
   "cell_type": "code",
   "execution_count": 153,
   "metadata": {},
   "outputs": [
    {
     "data": {
      "text/html": [
       "<div>\n",
       "<style scoped>\n",
       "    .dataframe tbody tr th:only-of-type {\n",
       "        vertical-align: middle;\n",
       "    }\n",
       "\n",
       "    .dataframe tbody tr th {\n",
       "        vertical-align: top;\n",
       "    }\n",
       "\n",
       "    .dataframe thead th {\n",
       "        text-align: right;\n",
       "    }\n",
       "</style>\n",
       "<table border=\"1\" class=\"dataframe\">\n",
       "  <thead>\n",
       "    <tr style=\"text-align: right;\">\n",
       "      <th></th>\n",
       "      <th>sample</th>\n",
       "      <th>replicate</th>\n",
       "      <th>protein</th>\n",
       "      <th>value1</th>\n",
       "      <th>value2</th>\n",
       "    </tr>\n",
       "  </thead>\n",
       "  <tbody>\n",
       "    <tr>\n",
       "      <th>0</th>\n",
       "      <td>A</td>\n",
       "      <td>01</td>\n",
       "      <td>P69892</td>\n",
       "      <td>0.300071</td>\n",
       "      <td>3.332542</td>\n",
       "    </tr>\n",
       "    <tr>\n",
       "      <th>1</th>\n",
       "      <td>A</td>\n",
       "      <td>02</td>\n",
       "      <td>P69892</td>\n",
       "      <td>0.192804</td>\n",
       "      <td>5.186606</td>\n",
       "    </tr>\n",
       "    <tr>\n",
       "      <th>2</th>\n",
       "      <td>A</td>\n",
       "      <td>03</td>\n",
       "      <td>P69892</td>\n",
       "      <td>-2.002340</td>\n",
       "      <td>-0.499416</td>\n",
       "    </tr>\n",
       "    <tr>\n",
       "      <th>3</th>\n",
       "      <td>B</td>\n",
       "      <td>01</td>\n",
       "      <td>P69892</td>\n",
       "      <td>1.063775</td>\n",
       "      <td>0.940049</td>\n",
       "    </tr>\n",
       "    <tr>\n",
       "      <th>4</th>\n",
       "      <td>B</td>\n",
       "      <td>02</td>\n",
       "      <td>P69892</td>\n",
       "      <td>0.910545</td>\n",
       "      <td>1.098243</td>\n",
       "    </tr>\n",
       "    <tr>\n",
       "      <th>5</th>\n",
       "      <td>B</td>\n",
       "      <td>03</td>\n",
       "      <td>P69892</td>\n",
       "      <td>-0.509781</td>\n",
       "      <td>-1.961625</td>\n",
       "    </tr>\n",
       "  </tbody>\n",
       "</table>\n",
       "</div>"
      ],
      "text/plain": [
       "  sample replicate protein    value1    value2\n",
       "0      A        01  P69892  0.300071  3.332542\n",
       "1      A        02  P69892  0.192804  5.186606\n",
       "2      A        03  P69892 -2.002340 -0.499416\n",
       "3      B        01  P69892  1.063775  0.940049\n",
       "4      B        02  P69892  0.910545  1.098243\n",
       "5      B        03  P69892 -0.509781 -1.961625"
      ]
     },
     "execution_count": 153,
     "metadata": {},
     "output_type": "execute_result"
    }
   ],
   "source": [
    "df2 = pd.DataFrame()\n",
    "\n",
    "df2['sample'] = ['A', 'A', 'A', 'B', 'B', 'B']\n",
    "df2['replicate'] = ['01', '02', '03', '01', '02', '03']\n",
    "df2['protein'] = 'P69892'\n",
    "df2['value1'] = np.random.randn(6)\n",
    "df2['value2'] = 1 / df2['value1']\n",
    "\n",
    "df2"
   ]
  },
  {
   "cell_type": "code",
   "execution_count": 154,
   "metadata": {},
   "outputs": [
    {
     "data": {
      "text/html": [
       "<div>\n",
       "<style scoped>\n",
       "    .dataframe tbody tr th:only-of-type {\n",
       "        vertical-align: middle;\n",
       "    }\n",
       "\n",
       "    .dataframe tbody tr th {\n",
       "        vertical-align: top;\n",
       "    }\n",
       "\n",
       "    .dataframe thead th {\n",
       "        text-align: right;\n",
       "    }\n",
       "</style>\n",
       "<table border=\"1\" class=\"dataframe\">\n",
       "  <thead>\n",
       "    <tr style=\"text-align: right;\">\n",
       "      <th></th>\n",
       "      <th>sample</th>\n",
       "      <th>replicate</th>\n",
       "      <th>protein</th>\n",
       "      <th>value1</th>\n",
       "      <th>value2</th>\n",
       "    </tr>\n",
       "  </thead>\n",
       "  <tbody>\n",
       "    <tr>\n",
       "      <th>0</th>\n",
       "      <td>A</td>\n",
       "      <td>01</td>\n",
       "      <td>P02768</td>\n",
       "      <td>-0.799373</td>\n",
       "      <td>-1.250980</td>\n",
       "    </tr>\n",
       "    <tr>\n",
       "      <th>1</th>\n",
       "      <td>A</td>\n",
       "      <td>02</td>\n",
       "      <td>P02768</td>\n",
       "      <td>-0.455000</td>\n",
       "      <td>-2.197804</td>\n",
       "    </tr>\n",
       "    <tr>\n",
       "      <th>2</th>\n",
       "      <td>A</td>\n",
       "      <td>03</td>\n",
       "      <td>P02768</td>\n",
       "      <td>-0.226954</td>\n",
       "      <td>-4.406174</td>\n",
       "    </tr>\n",
       "    <tr>\n",
       "      <th>3</th>\n",
       "      <td>B</td>\n",
       "      <td>01</td>\n",
       "      <td>P02768</td>\n",
       "      <td>-0.004300</td>\n",
       "      <td>-232.575816</td>\n",
       "    </tr>\n",
       "    <tr>\n",
       "      <th>4</th>\n",
       "      <td>B</td>\n",
       "      <td>02</td>\n",
       "      <td>P02768</td>\n",
       "      <td>0.605822</td>\n",
       "      <td>1.650651</td>\n",
       "    </tr>\n",
       "    <tr>\n",
       "      <th>5</th>\n",
       "      <td>B</td>\n",
       "      <td>03</td>\n",
       "      <td>P02768</td>\n",
       "      <td>1.044721</td>\n",
       "      <td>0.957193</td>\n",
       "    </tr>\n",
       "    <tr>\n",
       "      <th>6</th>\n",
       "      <td>A</td>\n",
       "      <td>01</td>\n",
       "      <td>P69892</td>\n",
       "      <td>0.300071</td>\n",
       "      <td>3.332542</td>\n",
       "    </tr>\n",
       "    <tr>\n",
       "      <th>7</th>\n",
       "      <td>A</td>\n",
       "      <td>02</td>\n",
       "      <td>P69892</td>\n",
       "      <td>0.192804</td>\n",
       "      <td>5.186606</td>\n",
       "    </tr>\n",
       "    <tr>\n",
       "      <th>8</th>\n",
       "      <td>A</td>\n",
       "      <td>03</td>\n",
       "      <td>P69892</td>\n",
       "      <td>-2.002340</td>\n",
       "      <td>-0.499416</td>\n",
       "    </tr>\n",
       "    <tr>\n",
       "      <th>9</th>\n",
       "      <td>B</td>\n",
       "      <td>01</td>\n",
       "      <td>P69892</td>\n",
       "      <td>1.063775</td>\n",
       "      <td>0.940049</td>\n",
       "    </tr>\n",
       "    <tr>\n",
       "      <th>10</th>\n",
       "      <td>B</td>\n",
       "      <td>02</td>\n",
       "      <td>P69892</td>\n",
       "      <td>0.910545</td>\n",
       "      <td>1.098243</td>\n",
       "    </tr>\n",
       "    <tr>\n",
       "      <th>11</th>\n",
       "      <td>B</td>\n",
       "      <td>03</td>\n",
       "      <td>P69892</td>\n",
       "      <td>-0.509781</td>\n",
       "      <td>-1.961625</td>\n",
       "    </tr>\n",
       "  </tbody>\n",
       "</table>\n",
       "</div>"
      ],
      "text/plain": [
       "   sample replicate protein    value1      value2\n",
       "0       A        01  P02768 -0.799373   -1.250980\n",
       "1       A        02  P02768 -0.455000   -2.197804\n",
       "2       A        03  P02768 -0.226954   -4.406174\n",
       "3       B        01  P02768 -0.004300 -232.575816\n",
       "4       B        02  P02768  0.605822    1.650651\n",
       "5       B        03  P02768  1.044721    0.957193\n",
       "6       A        01  P69892  0.300071    3.332542\n",
       "7       A        02  P69892  0.192804    5.186606\n",
       "8       A        03  P69892 -2.002340   -0.499416\n",
       "9       B        01  P69892  1.063775    0.940049\n",
       "10      B        02  P69892  0.910545    1.098243\n",
       "11      B        03  P69892 -0.509781   -1.961625"
      ]
     },
     "execution_count": 154,
     "metadata": {},
     "output_type": "execute_result"
    }
   ],
   "source": [
    "df1.append(df2, ignore_index=True)"
   ]
  },
  {
   "cell_type": "markdown",
   "metadata": {},
   "source": [
    "The same result can be obtained with `concat`."
   ]
  },
  {
   "cell_type": "code",
   "execution_count": 155,
   "metadata": {},
   "outputs": [
    {
     "data": {
      "text/html": [
       "<div>\n",
       "<style scoped>\n",
       "    .dataframe tbody tr th:only-of-type {\n",
       "        vertical-align: middle;\n",
       "    }\n",
       "\n",
       "    .dataframe tbody tr th {\n",
       "        vertical-align: top;\n",
       "    }\n",
       "\n",
       "    .dataframe thead th {\n",
       "        text-align: right;\n",
       "    }\n",
       "</style>\n",
       "<table border=\"1\" class=\"dataframe\">\n",
       "  <thead>\n",
       "    <tr style=\"text-align: right;\">\n",
       "      <th></th>\n",
       "      <th>sample</th>\n",
       "      <th>replicate</th>\n",
       "      <th>protein</th>\n",
       "      <th>value1</th>\n",
       "      <th>value2</th>\n",
       "    </tr>\n",
       "  </thead>\n",
       "  <tbody>\n",
       "    <tr>\n",
       "      <th>0</th>\n",
       "      <td>A</td>\n",
       "      <td>01</td>\n",
       "      <td>P02768</td>\n",
       "      <td>-0.799373</td>\n",
       "      <td>-1.250980</td>\n",
       "    </tr>\n",
       "    <tr>\n",
       "      <th>1</th>\n",
       "      <td>A</td>\n",
       "      <td>02</td>\n",
       "      <td>P02768</td>\n",
       "      <td>-0.455000</td>\n",
       "      <td>-2.197804</td>\n",
       "    </tr>\n",
       "    <tr>\n",
       "      <th>2</th>\n",
       "      <td>A</td>\n",
       "      <td>03</td>\n",
       "      <td>P02768</td>\n",
       "      <td>-0.226954</td>\n",
       "      <td>-4.406174</td>\n",
       "    </tr>\n",
       "    <tr>\n",
       "      <th>3</th>\n",
       "      <td>B</td>\n",
       "      <td>01</td>\n",
       "      <td>P02768</td>\n",
       "      <td>-0.004300</td>\n",
       "      <td>-232.575816</td>\n",
       "    </tr>\n",
       "    <tr>\n",
       "      <th>4</th>\n",
       "      <td>B</td>\n",
       "      <td>02</td>\n",
       "      <td>P02768</td>\n",
       "      <td>0.605822</td>\n",
       "      <td>1.650651</td>\n",
       "    </tr>\n",
       "    <tr>\n",
       "      <th>5</th>\n",
       "      <td>B</td>\n",
       "      <td>03</td>\n",
       "      <td>P02768</td>\n",
       "      <td>1.044721</td>\n",
       "      <td>0.957193</td>\n",
       "    </tr>\n",
       "    <tr>\n",
       "      <th>6</th>\n",
       "      <td>A</td>\n",
       "      <td>01</td>\n",
       "      <td>P69892</td>\n",
       "      <td>0.300071</td>\n",
       "      <td>3.332542</td>\n",
       "    </tr>\n",
       "    <tr>\n",
       "      <th>7</th>\n",
       "      <td>A</td>\n",
       "      <td>02</td>\n",
       "      <td>P69892</td>\n",
       "      <td>0.192804</td>\n",
       "      <td>5.186606</td>\n",
       "    </tr>\n",
       "    <tr>\n",
       "      <th>8</th>\n",
       "      <td>A</td>\n",
       "      <td>03</td>\n",
       "      <td>P69892</td>\n",
       "      <td>-2.002340</td>\n",
       "      <td>-0.499416</td>\n",
       "    </tr>\n",
       "    <tr>\n",
       "      <th>9</th>\n",
       "      <td>B</td>\n",
       "      <td>01</td>\n",
       "      <td>P69892</td>\n",
       "      <td>1.063775</td>\n",
       "      <td>0.940049</td>\n",
       "    </tr>\n",
       "    <tr>\n",
       "      <th>10</th>\n",
       "      <td>B</td>\n",
       "      <td>02</td>\n",
       "      <td>P69892</td>\n",
       "      <td>0.910545</td>\n",
       "      <td>1.098243</td>\n",
       "    </tr>\n",
       "    <tr>\n",
       "      <th>11</th>\n",
       "      <td>B</td>\n",
       "      <td>03</td>\n",
       "      <td>P69892</td>\n",
       "      <td>-0.509781</td>\n",
       "      <td>-1.961625</td>\n",
       "    </tr>\n",
       "  </tbody>\n",
       "</table>\n",
       "</div>"
      ],
      "text/plain": [
       "   sample replicate protein    value1      value2\n",
       "0       A        01  P02768 -0.799373   -1.250980\n",
       "1       A        02  P02768 -0.455000   -2.197804\n",
       "2       A        03  P02768 -0.226954   -4.406174\n",
       "3       B        01  P02768 -0.004300 -232.575816\n",
       "4       B        02  P02768  0.605822    1.650651\n",
       "5       B        03  P02768  1.044721    0.957193\n",
       "6       A        01  P69892  0.300071    3.332542\n",
       "7       A        02  P69892  0.192804    5.186606\n",
       "8       A        03  P69892 -2.002340   -0.499416\n",
       "9       B        01  P69892  1.063775    0.940049\n",
       "10      B        02  P69892  0.910545    1.098243\n",
       "11      B        03  P69892 -0.509781   -1.961625"
      ]
     },
     "execution_count": 155,
     "metadata": {},
     "output_type": "execute_result"
    }
   ],
   "source": [
    "df = pd.concat([df1, df2], ignore_index=True)\n",
    "\n",
    "df"
   ]
  },
  {
   "cell_type": "markdown",
   "metadata": {},
   "source": [
    "### Grouping Data"
   ]
  },
  {
   "cell_type": "code",
   "execution_count": 156,
   "metadata": {},
   "outputs": [
    {
     "data": {
      "text/html": [
       "<div>\n",
       "<style scoped>\n",
       "    .dataframe tbody tr th:only-of-type {\n",
       "        vertical-align: middle;\n",
       "    }\n",
       "\n",
       "    .dataframe tbody tr th {\n",
       "        vertical-align: top;\n",
       "    }\n",
       "\n",
       "    .dataframe thead th {\n",
       "        text-align: right;\n",
       "    }\n",
       "</style>\n",
       "<table border=\"1\" class=\"dataframe\">\n",
       "  <thead>\n",
       "    <tr style=\"text-align: right;\">\n",
       "      <th></th>\n",
       "      <th>value1</th>\n",
       "      <th>value2</th>\n",
       "    </tr>\n",
       "    <tr>\n",
       "      <th>protein</th>\n",
       "      <th></th>\n",
       "      <th></th>\n",
       "    </tr>\n",
       "  </thead>\n",
       "  <tbody>\n",
       "    <tr>\n",
       "      <th>P02768</th>\n",
       "      <td>0.164916</td>\n",
       "      <td>-237.822930</td>\n",
       "    </tr>\n",
       "    <tr>\n",
       "      <th>P69892</th>\n",
       "      <td>-0.044926</td>\n",
       "      <td>8.096399</td>\n",
       "    </tr>\n",
       "  </tbody>\n",
       "</table>\n",
       "</div>"
      ],
      "text/plain": [
       "           value1      value2\n",
       "protein                      \n",
       "P02768   0.164916 -237.822930\n",
       "P69892  -0.044926    8.096399"
      ]
     },
     "execution_count": 156,
     "metadata": {},
     "output_type": "execute_result"
    }
   ],
   "source": [
    "df.groupby('protein').agg(sum)"
   ]
  },
  {
   "cell_type": "code",
   "execution_count": 157,
   "metadata": {},
   "outputs": [
    {
     "data": {
      "text/html": [
       "<div>\n",
       "<style scoped>\n",
       "    .dataframe tbody tr th:only-of-type {\n",
       "        vertical-align: middle;\n",
       "    }\n",
       "\n",
       "    .dataframe tbody tr th {\n",
       "        vertical-align: top;\n",
       "    }\n",
       "\n",
       "    .dataframe thead th {\n",
       "        text-align: right;\n",
       "    }\n",
       "</style>\n",
       "<table border=\"1\" class=\"dataframe\">\n",
       "  <thead>\n",
       "    <tr style=\"text-align: right;\">\n",
       "      <th></th>\n",
       "      <th></th>\n",
       "      <th>value1</th>\n",
       "      <th>value2</th>\n",
       "    </tr>\n",
       "    <tr>\n",
       "      <th>protein</th>\n",
       "      <th>sample</th>\n",
       "      <th></th>\n",
       "      <th></th>\n",
       "    </tr>\n",
       "  </thead>\n",
       "  <tbody>\n",
       "    <tr>\n",
       "      <th rowspan=\"2\" valign=\"top\">P02768</th>\n",
       "      <th>A</th>\n",
       "      <td>-1.481327</td>\n",
       "      <td>-7.854958</td>\n",
       "    </tr>\n",
       "    <tr>\n",
       "      <th>B</th>\n",
       "      <td>1.646243</td>\n",
       "      <td>-229.967973</td>\n",
       "    </tr>\n",
       "    <tr>\n",
       "      <th rowspan=\"2\" valign=\"top\">P69892</th>\n",
       "      <th>A</th>\n",
       "      <td>-1.509464</td>\n",
       "      <td>8.019732</td>\n",
       "    </tr>\n",
       "    <tr>\n",
       "      <th>B</th>\n",
       "      <td>1.464538</td>\n",
       "      <td>0.076667</td>\n",
       "    </tr>\n",
       "  </tbody>\n",
       "</table>\n",
       "</div>"
      ],
      "text/plain": [
       "                  value1      value2\n",
       "protein sample                      \n",
       "P02768  A      -1.481327   -7.854958\n",
       "        B       1.646243 -229.967973\n",
       "P69892  A      -1.509464    8.019732\n",
       "        B       1.464538    0.076667"
      ]
     },
     "execution_count": 157,
     "metadata": {},
     "output_type": "execute_result"
    }
   ],
   "source": [
    "df.groupby(['protein', 'sample']).agg(sum)"
   ]
  },
  {
   "cell_type": "code",
   "execution_count": 158,
   "metadata": {},
   "outputs": [
    {
     "data": {
      "text/html": [
       "<div>\n",
       "<style scoped>\n",
       "    .dataframe tbody tr th:only-of-type {\n",
       "        vertical-align: middle;\n",
       "    }\n",
       "\n",
       "    .dataframe tbody tr th {\n",
       "        vertical-align: top;\n",
       "    }\n",
       "\n",
       "    .dataframe thead th {\n",
       "        text-align: right;\n",
       "    }\n",
       "</style>\n",
       "<table border=\"1\" class=\"dataframe\">\n",
       "  <thead>\n",
       "    <tr style=\"text-align: right;\">\n",
       "      <th></th>\n",
       "      <th></th>\n",
       "      <th></th>\n",
       "      <th>value1</th>\n",
       "      <th>value2</th>\n",
       "    </tr>\n",
       "    <tr>\n",
       "      <th>protein</th>\n",
       "      <th>sample</th>\n",
       "      <th>replicate</th>\n",
       "      <th></th>\n",
       "      <th></th>\n",
       "    </tr>\n",
       "  </thead>\n",
       "  <tbody>\n",
       "    <tr>\n",
       "      <th rowspan=\"6\" valign=\"top\">P02768</th>\n",
       "      <th rowspan=\"3\" valign=\"top\">A</th>\n",
       "      <th>01</th>\n",
       "      <td>-0.799373</td>\n",
       "      <td>-1.250980</td>\n",
       "    </tr>\n",
       "    <tr>\n",
       "      <th>02</th>\n",
       "      <td>-0.455000</td>\n",
       "      <td>-2.197804</td>\n",
       "    </tr>\n",
       "    <tr>\n",
       "      <th>03</th>\n",
       "      <td>-0.226954</td>\n",
       "      <td>-4.406174</td>\n",
       "    </tr>\n",
       "    <tr>\n",
       "      <th rowspan=\"3\" valign=\"top\">B</th>\n",
       "      <th>01</th>\n",
       "      <td>-0.004300</td>\n",
       "      <td>-232.575816</td>\n",
       "    </tr>\n",
       "    <tr>\n",
       "      <th>02</th>\n",
       "      <td>0.605822</td>\n",
       "      <td>1.650651</td>\n",
       "    </tr>\n",
       "    <tr>\n",
       "      <th>03</th>\n",
       "      <td>1.044721</td>\n",
       "      <td>0.957193</td>\n",
       "    </tr>\n",
       "    <tr>\n",
       "      <th rowspan=\"6\" valign=\"top\">P69892</th>\n",
       "      <th rowspan=\"3\" valign=\"top\">A</th>\n",
       "      <th>01</th>\n",
       "      <td>0.300071</td>\n",
       "      <td>3.332542</td>\n",
       "    </tr>\n",
       "    <tr>\n",
       "      <th>02</th>\n",
       "      <td>0.192804</td>\n",
       "      <td>5.186606</td>\n",
       "    </tr>\n",
       "    <tr>\n",
       "      <th>03</th>\n",
       "      <td>-2.002340</td>\n",
       "      <td>-0.499416</td>\n",
       "    </tr>\n",
       "    <tr>\n",
       "      <th rowspan=\"3\" valign=\"top\">B</th>\n",
       "      <th>01</th>\n",
       "      <td>1.063775</td>\n",
       "      <td>0.940049</td>\n",
       "    </tr>\n",
       "    <tr>\n",
       "      <th>02</th>\n",
       "      <td>0.910545</td>\n",
       "      <td>1.098243</td>\n",
       "    </tr>\n",
       "    <tr>\n",
       "      <th>03</th>\n",
       "      <td>-0.509781</td>\n",
       "      <td>-1.961625</td>\n",
       "    </tr>\n",
       "  </tbody>\n",
       "</table>\n",
       "</div>"
      ],
      "text/plain": [
       "                            value1      value2\n",
       "protein sample replicate                      \n",
       "P02768  A      01        -0.799373   -1.250980\n",
       "               02        -0.455000   -2.197804\n",
       "               03        -0.226954   -4.406174\n",
       "        B      01        -0.004300 -232.575816\n",
       "               02         0.605822    1.650651\n",
       "               03         1.044721    0.957193\n",
       "P69892  A      01         0.300071    3.332542\n",
       "               02         0.192804    5.186606\n",
       "               03        -2.002340   -0.499416\n",
       "        B      01         1.063775    0.940049\n",
       "               02         0.910545    1.098243\n",
       "               03        -0.509781   -1.961625"
      ]
     },
     "execution_count": 158,
     "metadata": {},
     "output_type": "execute_result"
    }
   ],
   "source": [
    "df.groupby(['protein', 'sample', 'replicate']).agg(sum)"
   ]
  },
  {
   "cell_type": "code",
   "execution_count": 161,
   "metadata": {},
   "outputs": [
    {
     "data": {
      "text/html": [
       "<div>\n",
       "<style scoped>\n",
       "    .dataframe tbody tr th:only-of-type {\n",
       "        vertical-align: middle;\n",
       "    }\n",
       "\n",
       "    .dataframe tbody tr th {\n",
       "        vertical-align: top;\n",
       "    }\n",
       "\n",
       "    .dataframe thead th {\n",
       "        text-align: right;\n",
       "    }\n",
       "</style>\n",
       "<table border=\"1\" class=\"dataframe\">\n",
       "  <thead>\n",
       "    <tr style=\"text-align: right;\">\n",
       "      <th></th>\n",
       "      <th>replicate</th>\n",
       "      <th>value1</th>\n",
       "      <th>value2</th>\n",
       "    </tr>\n",
       "  </thead>\n",
       "  <tbody>\n",
       "    <tr>\n",
       "      <th>0</th>\n",
       "      <td>1.700502e+09</td>\n",
       "      <td>0.027486</td>\n",
       "      <td>-39.637155</td>\n",
       "    </tr>\n",
       "    <tr>\n",
       "      <th>1</th>\n",
       "      <td>1.700502e+09</td>\n",
       "      <td>0.027486</td>\n",
       "      <td>-39.637155</td>\n",
       "    </tr>\n",
       "    <tr>\n",
       "      <th>2</th>\n",
       "      <td>1.700502e+09</td>\n",
       "      <td>0.027486</td>\n",
       "      <td>-39.637155</td>\n",
       "    </tr>\n",
       "    <tr>\n",
       "      <th>3</th>\n",
       "      <td>1.700502e+09</td>\n",
       "      <td>0.027486</td>\n",
       "      <td>-39.637155</td>\n",
       "    </tr>\n",
       "    <tr>\n",
       "      <th>4</th>\n",
       "      <td>1.700502e+09</td>\n",
       "      <td>0.027486</td>\n",
       "      <td>-39.637155</td>\n",
       "    </tr>\n",
       "    <tr>\n",
       "      <th>5</th>\n",
       "      <td>1.700502e+09</td>\n",
       "      <td>0.027486</td>\n",
       "      <td>-39.637155</td>\n",
       "    </tr>\n",
       "    <tr>\n",
       "      <th>6</th>\n",
       "      <td>1.700502e+09</td>\n",
       "      <td>-0.007488</td>\n",
       "      <td>1.349400</td>\n",
       "    </tr>\n",
       "    <tr>\n",
       "      <th>7</th>\n",
       "      <td>1.700502e+09</td>\n",
       "      <td>-0.007488</td>\n",
       "      <td>1.349400</td>\n",
       "    </tr>\n",
       "    <tr>\n",
       "      <th>8</th>\n",
       "      <td>1.700502e+09</td>\n",
       "      <td>-0.007488</td>\n",
       "      <td>1.349400</td>\n",
       "    </tr>\n",
       "    <tr>\n",
       "      <th>9</th>\n",
       "      <td>1.700502e+09</td>\n",
       "      <td>-0.007488</td>\n",
       "      <td>1.349400</td>\n",
       "    </tr>\n",
       "    <tr>\n",
       "      <th>10</th>\n",
       "      <td>1.700502e+09</td>\n",
       "      <td>-0.007488</td>\n",
       "      <td>1.349400</td>\n",
       "    </tr>\n",
       "    <tr>\n",
       "      <th>11</th>\n",
       "      <td>1.700502e+09</td>\n",
       "      <td>-0.007488</td>\n",
       "      <td>1.349400</td>\n",
       "    </tr>\n",
       "  </tbody>\n",
       "</table>\n",
       "</div>"
      ],
      "text/plain": [
       "       replicate    value1     value2\n",
       "0   1.700502e+09  0.027486 -39.637155\n",
       "1   1.700502e+09  0.027486 -39.637155\n",
       "2   1.700502e+09  0.027486 -39.637155\n",
       "3   1.700502e+09  0.027486 -39.637155\n",
       "4   1.700502e+09  0.027486 -39.637155\n",
       "5   1.700502e+09  0.027486 -39.637155\n",
       "6   1.700502e+09 -0.007488   1.349400\n",
       "7   1.700502e+09 -0.007488   1.349400\n",
       "8   1.700502e+09 -0.007488   1.349400\n",
       "9   1.700502e+09 -0.007488   1.349400\n",
       "10  1.700502e+09 -0.007488   1.349400\n",
       "11  1.700502e+09 -0.007488   1.349400"
      ]
     },
     "execution_count": 161,
     "metadata": {},
     "output_type": "execute_result"
    }
   ],
   "source": [
    "df.groupby('protein').transform(np.mean)"
   ]
  },
  {
   "cell_type": "code",
   "execution_count": 114,
   "metadata": {},
   "outputs": [
    {
     "data": {
      "text/html": [
       "<div>\n",
       "<style scoped>\n",
       "    .dataframe tbody tr th:only-of-type {\n",
       "        vertical-align: middle;\n",
       "    }\n",
       "\n",
       "    .dataframe tbody tr th {\n",
       "        vertical-align: top;\n",
       "    }\n",
       "\n",
       "    .dataframe thead th {\n",
       "        text-align: right;\n",
       "    }\n",
       "</style>\n",
       "<table border=\"1\" class=\"dataframe\">\n",
       "  <thead>\n",
       "    <tr style=\"text-align: right;\">\n",
       "      <th></th>\n",
       "      <th>value1</th>\n",
       "      <th>value2</th>\n",
       "    </tr>\n",
       "  </thead>\n",
       "  <tbody>\n",
       "    <tr>\n",
       "      <th>0</th>\n",
       "      <td>0.027486</td>\n",
       "      <td>-39.637155</td>\n",
       "    </tr>\n",
       "    <tr>\n",
       "      <th>1</th>\n",
       "      <td>0.027486</td>\n",
       "      <td>-39.637155</td>\n",
       "    </tr>\n",
       "    <tr>\n",
       "      <th>2</th>\n",
       "      <td>0.027486</td>\n",
       "      <td>-39.637155</td>\n",
       "    </tr>\n",
       "    <tr>\n",
       "      <th>3</th>\n",
       "      <td>0.027486</td>\n",
       "      <td>-39.637155</td>\n",
       "    </tr>\n",
       "    <tr>\n",
       "      <th>4</th>\n",
       "      <td>0.027486</td>\n",
       "      <td>-39.637155</td>\n",
       "    </tr>\n",
       "    <tr>\n",
       "      <th>5</th>\n",
       "      <td>0.027486</td>\n",
       "      <td>-39.637155</td>\n",
       "    </tr>\n",
       "    <tr>\n",
       "      <th>6</th>\n",
       "      <td>0.258036</td>\n",
       "      <td>-1.046025</td>\n",
       "    </tr>\n",
       "    <tr>\n",
       "      <th>7</th>\n",
       "      <td>0.258036</td>\n",
       "      <td>-1.046025</td>\n",
       "    </tr>\n",
       "    <tr>\n",
       "      <th>8</th>\n",
       "      <td>0.258036</td>\n",
       "      <td>-1.046025</td>\n",
       "    </tr>\n",
       "    <tr>\n",
       "      <th>9</th>\n",
       "      <td>0.258036</td>\n",
       "      <td>-1.046025</td>\n",
       "    </tr>\n",
       "    <tr>\n",
       "      <th>10</th>\n",
       "      <td>0.258036</td>\n",
       "      <td>-1.046025</td>\n",
       "    </tr>\n",
       "    <tr>\n",
       "      <th>11</th>\n",
       "      <td>0.258036</td>\n",
       "      <td>-1.046025</td>\n",
       "    </tr>\n",
       "  </tbody>\n",
       "</table>\n",
       "</div>"
      ],
      "text/plain": [
       "      value1     value2\n",
       "0   0.027486 -39.637155\n",
       "1   0.027486 -39.637155\n",
       "2   0.027486 -39.637155\n",
       "3   0.027486 -39.637155\n",
       "4   0.027486 -39.637155\n",
       "5   0.027486 -39.637155\n",
       "6   0.258036  -1.046025\n",
       "7   0.258036  -1.046025\n",
       "8   0.258036  -1.046025\n",
       "9   0.258036  -1.046025\n",
       "10  0.258036  -1.046025\n",
       "11  0.258036  -1.046025"
      ]
     },
     "execution_count": 114,
     "metadata": {},
     "output_type": "execute_result"
    }
   ],
   "source": [
    "df.groupby('protein')['value1', 'value2'].transform(np.mean)"
   ]
  },
  {
   "cell_type": "code",
   "execution_count": 162,
   "metadata": {},
   "outputs": [
    {
     "name": "stdout",
     "output_type": "stream",
     "text": [
      "  sample replicate protein    value1    value2\n",
      "0      A        01  P02768 -0.799373 -1.250980\n",
      "1      A        02  P02768 -0.455000 -2.197804\n",
      "2      A        03  P02768 -0.226954 -4.406174\n",
      "('P02768', 'A') --> mean value1: -0.49377574651694944\n",
      "      mean value2: -2.618319192097318\n",
      "\n",
      "  sample replicate protein    value1      value2\n",
      "3      B        01  P02768 -0.004300 -232.575816\n",
      "4      B        02  P02768  0.605822    1.650651\n",
      "5      B        03  P02768  1.044721    0.957193\n",
      "('P02768', 'B') --> mean value1: 0.5487477471544414\n",
      "      mean value2: -76.65599087675166\n",
      "\n",
      "  sample replicate protein    value1    value2\n",
      "6      A        01  P69892  0.300071  3.332542\n",
      "7      A        02  P69892  0.192804  5.186606\n",
      "8      A        03  P69892 -2.002340 -0.499416\n",
      "('P69892', 'A') --> mean value1: -0.5031547793839836\n",
      "      mean value2: 2.673244002156377\n",
      "\n",
      "   sample replicate protein    value1    value2\n",
      "9       B        01  P69892  1.063775  0.940049\n",
      "10      B        02  P69892  0.910545  1.098243\n",
      "11      B        03  P69892 -0.509781 -1.961625\n",
      "('P69892', 'B') --> mean value1: 0.48817947647012644\n",
      "      mean value2: 0.02555566146511586\n",
      "\n"
     ]
    }
   ],
   "source": [
    "for g, g_df in df.groupby(['protein', 'sample']):\n",
    "    print(g_df)\n",
    "    print(f\"{g} --> mean value1: {np.mean(g_df['value1'])}\")\n",
    "    print(f\"      mean value2: {np.mean(g_df['value2'])}\\n\")"
   ]
  },
  {
   "cell_type": "code",
   "execution_count": 163,
   "metadata": {},
   "outputs": [
    {
     "data": {
      "text/html": [
       "<div>\n",
       "<style scoped>\n",
       "    .dataframe tbody tr th:only-of-type {\n",
       "        vertical-align: middle;\n",
       "    }\n",
       "\n",
       "    .dataframe tbody tr th {\n",
       "        vertical-align: top;\n",
       "    }\n",
       "\n",
       "    .dataframe thead tr th {\n",
       "        text-align: left;\n",
       "    }\n",
       "\n",
       "    .dataframe thead tr:last-of-type th {\n",
       "        text-align: right;\n",
       "    }\n",
       "</style>\n",
       "<table border=\"1\" class=\"dataframe\">\n",
       "  <thead>\n",
       "    <tr>\n",
       "      <th></th>\n",
       "      <th></th>\n",
       "      <th colspan=\"8\" halign=\"left\">value1</th>\n",
       "      <th colspan=\"8\" halign=\"left\">value2</th>\n",
       "    </tr>\n",
       "    <tr>\n",
       "      <th></th>\n",
       "      <th></th>\n",
       "      <th>count</th>\n",
       "      <th>mean</th>\n",
       "      <th>std</th>\n",
       "      <th>min</th>\n",
       "      <th>25%</th>\n",
       "      <th>50%</th>\n",
       "      <th>75%</th>\n",
       "      <th>max</th>\n",
       "      <th>count</th>\n",
       "      <th>mean</th>\n",
       "      <th>std</th>\n",
       "      <th>min</th>\n",
       "      <th>25%</th>\n",
       "      <th>50%</th>\n",
       "      <th>75%</th>\n",
       "      <th>max</th>\n",
       "    </tr>\n",
       "    <tr>\n",
       "      <th>protein</th>\n",
       "      <th>sample</th>\n",
       "      <th></th>\n",
       "      <th></th>\n",
       "      <th></th>\n",
       "      <th></th>\n",
       "      <th></th>\n",
       "      <th></th>\n",
       "      <th></th>\n",
       "      <th></th>\n",
       "      <th></th>\n",
       "      <th></th>\n",
       "      <th></th>\n",
       "      <th></th>\n",
       "      <th></th>\n",
       "      <th></th>\n",
       "      <th></th>\n",
       "      <th></th>\n",
       "    </tr>\n",
       "  </thead>\n",
       "  <tbody>\n",
       "    <tr>\n",
       "      <th rowspan=\"2\" valign=\"top\">P02768</th>\n",
       "      <th>A</th>\n",
       "      <td>3.0</td>\n",
       "      <td>-0.493776</td>\n",
       "      <td>0.288173</td>\n",
       "      <td>-0.799373</td>\n",
       "      <td>-0.627186</td>\n",
       "      <td>-0.455000</td>\n",
       "      <td>-0.340977</td>\n",
       "      <td>-0.226954</td>\n",
       "      <td>3.0</td>\n",
       "      <td>-2.618319</td>\n",
       "      <td>1.619085</td>\n",
       "      <td>-4.406174</td>\n",
       "      <td>-3.301989</td>\n",
       "      <td>-2.197804</td>\n",
       "      <td>-1.724392</td>\n",
       "      <td>-1.250980</td>\n",
       "    </tr>\n",
       "    <tr>\n",
       "      <th>B</th>\n",
       "      <td>3.0</td>\n",
       "      <td>0.548748</td>\n",
       "      <td>0.526834</td>\n",
       "      <td>-0.004300</td>\n",
       "      <td>0.300761</td>\n",
       "      <td>0.605822</td>\n",
       "      <td>0.825271</td>\n",
       "      <td>1.044721</td>\n",
       "      <td>3.0</td>\n",
       "      <td>-76.655991</td>\n",
       "      <td>135.030975</td>\n",
       "      <td>-232.575816</td>\n",
       "      <td>-115.809312</td>\n",
       "      <td>0.957193</td>\n",
       "      <td>1.303922</td>\n",
       "      <td>1.650651</td>\n",
       "    </tr>\n",
       "    <tr>\n",
       "      <th rowspan=\"2\" valign=\"top\">P69892</th>\n",
       "      <th>A</th>\n",
       "      <td>3.0</td>\n",
       "      <td>-0.503155</td>\n",
       "      <td>1.299440</td>\n",
       "      <td>-2.002340</td>\n",
       "      <td>-0.904768</td>\n",
       "      <td>0.192804</td>\n",
       "      <td>0.246438</td>\n",
       "      <td>0.300071</td>\n",
       "      <td>3.0</td>\n",
       "      <td>2.673244</td>\n",
       "      <td>2.899779</td>\n",
       "      <td>-0.499416</td>\n",
       "      <td>1.416563</td>\n",
       "      <td>3.332542</td>\n",
       "      <td>4.259574</td>\n",
       "      <td>5.186606</td>\n",
       "    </tr>\n",
       "    <tr>\n",
       "      <th>B</th>\n",
       "      <td>3.0</td>\n",
       "      <td>0.488179</td>\n",
       "      <td>0.867649</td>\n",
       "      <td>-0.509781</td>\n",
       "      <td>0.200382</td>\n",
       "      <td>0.910545</td>\n",
       "      <td>0.987160</td>\n",
       "      <td>1.063775</td>\n",
       "      <td>3.0</td>\n",
       "      <td>0.025556</td>\n",
       "      <td>1.722765</td>\n",
       "      <td>-1.961625</td>\n",
       "      <td>-0.510788</td>\n",
       "      <td>0.940049</td>\n",
       "      <td>1.019146</td>\n",
       "      <td>1.098243</td>\n",
       "    </tr>\n",
       "  </tbody>\n",
       "</table>\n",
       "</div>"
      ],
      "text/plain": [
       "               value1                                                    \\\n",
       "                count      mean       std       min       25%       50%   \n",
       "protein sample                                                            \n",
       "P02768  A         3.0 -0.493776  0.288173 -0.799373 -0.627186 -0.455000   \n",
       "        B         3.0  0.548748  0.526834 -0.004300  0.300761  0.605822   \n",
       "P69892  A         3.0 -0.503155  1.299440 -2.002340 -0.904768  0.192804   \n",
       "        B         3.0  0.488179  0.867649 -0.509781  0.200382  0.910545   \n",
       "\n",
       "                                   value2                                     \\\n",
       "                     75%       max  count       mean         std         min   \n",
       "protein sample                                                                 \n",
       "P02768  A      -0.340977 -0.226954    3.0  -2.618319    1.619085   -4.406174   \n",
       "        B       0.825271  1.044721    3.0 -76.655991  135.030975 -232.575816   \n",
       "P69892  A       0.246438  0.300071    3.0   2.673244    2.899779   -0.499416   \n",
       "        B       0.987160  1.063775    3.0   0.025556    1.722765   -1.961625   \n",
       "\n",
       "                                                          \n",
       "                       25%       50%       75%       max  \n",
       "protein sample                                            \n",
       "P02768  A        -3.301989 -2.197804 -1.724392 -1.250980  \n",
       "        B      -115.809312  0.957193  1.303922  1.650651  \n",
       "P69892  A         1.416563  3.332542  4.259574  5.186606  \n",
       "        B        -0.510788  0.940049  1.019146  1.098243  "
      ]
     },
     "execution_count": 163,
     "metadata": {},
     "output_type": "execute_result"
    }
   ],
   "source": [
    "df.groupby(['protein', 'sample']).describe()"
   ]
  },
  {
   "cell_type": "code",
   "execution_count": 164,
   "metadata": {},
   "outputs": [
    {
     "data": {
      "text/html": [
       "<div>\n",
       "<style scoped>\n",
       "    .dataframe tbody tr th:only-of-type {\n",
       "        vertical-align: middle;\n",
       "    }\n",
       "\n",
       "    .dataframe tbody tr th {\n",
       "        vertical-align: top;\n",
       "    }\n",
       "\n",
       "    .dataframe thead tr th {\n",
       "        text-align: left;\n",
       "    }\n",
       "\n",
       "    .dataframe thead tr:last-of-type th {\n",
       "        text-align: right;\n",
       "    }\n",
       "</style>\n",
       "<table border=\"1\" class=\"dataframe\">\n",
       "  <thead>\n",
       "    <tr>\n",
       "      <th></th>\n",
       "      <th colspan=\"2\" halign=\"left\">value1</th>\n",
       "      <th colspan=\"2\" halign=\"left\">value2</th>\n",
       "    </tr>\n",
       "    <tr>\n",
       "      <th>sample</th>\n",
       "      <th>A</th>\n",
       "      <th>B</th>\n",
       "      <th>A</th>\n",
       "      <th>B</th>\n",
       "    </tr>\n",
       "    <tr>\n",
       "      <th>protein</th>\n",
       "      <th></th>\n",
       "      <th></th>\n",
       "      <th></th>\n",
       "      <th></th>\n",
       "    </tr>\n",
       "  </thead>\n",
       "  <tbody>\n",
       "    <tr>\n",
       "      <th>P02768</th>\n",
       "      <td>-0.493776</td>\n",
       "      <td>0.548748</td>\n",
       "      <td>-2.618319</td>\n",
       "      <td>-76.655991</td>\n",
       "    </tr>\n",
       "    <tr>\n",
       "      <th>P69892</th>\n",
       "      <td>-0.503155</td>\n",
       "      <td>0.488179</td>\n",
       "      <td>2.673244</td>\n",
       "      <td>0.025556</td>\n",
       "    </tr>\n",
       "  </tbody>\n",
       "</table>\n",
       "</div>"
      ],
      "text/plain": [
       "           value1              value2           \n",
       "sample          A         B         A          B\n",
       "protein                                         \n",
       "P02768  -0.493776  0.548748 -2.618319 -76.655991\n",
       "P69892  -0.503155  0.488179  2.673244   0.025556"
      ]
     },
     "execution_count": 164,
     "metadata": {},
     "output_type": "execute_result"
    }
   ],
   "source": [
    "df.pivot_table(index='protein',\n",
    "               columns='sample', \n",
    "               aggfunc='mean')"
   ]
  },
  {
   "cell_type": "code",
   "execution_count": 165,
   "metadata": {},
   "outputs": [
    {
     "data": {
      "text/html": [
       "<div>\n",
       "<style scoped>\n",
       "    .dataframe tbody tr th:only-of-type {\n",
       "        vertical-align: middle;\n",
       "    }\n",
       "\n",
       "    .dataframe tbody tr th {\n",
       "        vertical-align: top;\n",
       "    }\n",
       "\n",
       "    .dataframe thead tr th {\n",
       "        text-align: left;\n",
       "    }\n",
       "\n",
       "    .dataframe thead tr:last-of-type th {\n",
       "        text-align: right;\n",
       "    }\n",
       "</style>\n",
       "<table border=\"1\" class=\"dataframe\">\n",
       "  <thead>\n",
       "    <tr>\n",
       "      <th></th>\n",
       "      <th colspan=\"2\" halign=\"left\">value1</th>\n",
       "      <th colspan=\"2\" halign=\"left\">value2</th>\n",
       "    </tr>\n",
       "    <tr>\n",
       "      <th>sample</th>\n",
       "      <th>A</th>\n",
       "      <th>B</th>\n",
       "      <th>A</th>\n",
       "      <th>B</th>\n",
       "    </tr>\n",
       "    <tr>\n",
       "      <th>protein</th>\n",
       "      <th></th>\n",
       "      <th></th>\n",
       "      <th></th>\n",
       "      <th></th>\n",
       "    </tr>\n",
       "  </thead>\n",
       "  <tbody>\n",
       "    <tr>\n",
       "      <th>P02768</th>\n",
       "      <td>-0.799373</td>\n",
       "      <td>-0.004300</td>\n",
       "      <td>-1.250980</td>\n",
       "      <td>1.650651</td>\n",
       "    </tr>\n",
       "    <tr>\n",
       "      <th>P69892</th>\n",
       "      <td>-2.002340</td>\n",
       "      <td>-0.509781</td>\n",
       "      <td>5.186606</td>\n",
       "      <td>1.098243</td>\n",
       "    </tr>\n",
       "  </tbody>\n",
       "</table>\n",
       "</div>"
      ],
      "text/plain": [
       "           value1              value2          \n",
       "sample          A         B         A         B\n",
       "protein                                        \n",
       "P02768  -0.799373 -0.004300 -1.250980  1.650651\n",
       "P69892  -2.002340 -0.509781  5.186606  1.098243"
      ]
     },
     "execution_count": 165,
     "metadata": {},
     "output_type": "execute_result"
    }
   ],
   "source": [
    "df.pivot_table(index='protein',\n",
    "               columns='sample',\n",
    "               aggfunc={'value1': min,\n",
    "                        'value2': max})"
   ]
  },
  {
   "cell_type": "markdown",
   "metadata": {},
   "source": [
    "### Loading and saving dataframes\n",
    "\n",
    "To load and save Pandas dataframes we will use the `to_csv` and `read_csv` commands"
   ]
  },
  {
   "cell_type": "code",
   "execution_count": 143,
   "metadata": {},
   "outputs": [
    {
     "data": {
      "text/html": [
       "<div>\n",
       "<style scoped>\n",
       "    .dataframe tbody tr th:only-of-type {\n",
       "        vertical-align: middle;\n",
       "    }\n",
       "\n",
       "    .dataframe tbody tr th {\n",
       "        vertical-align: top;\n",
       "    }\n",
       "\n",
       "    .dataframe thead th {\n",
       "        text-align: right;\n",
       "    }\n",
       "</style>\n",
       "<table border=\"1\" class=\"dataframe\">\n",
       "  <thead>\n",
       "    <tr style=\"text-align: right;\">\n",
       "      <th></th>\n",
       "      <th>sample</th>\n",
       "      <th>replicate</th>\n",
       "      <th>protein</th>\n",
       "      <th>value1</th>\n",
       "      <th>value2</th>\n",
       "    </tr>\n",
       "  </thead>\n",
       "  <tbody>\n",
       "    <tr>\n",
       "      <th>0</th>\n",
       "      <td>A</td>\n",
       "      <td>1</td>\n",
       "      <td>P02768</td>\n",
       "      <td>-0.799373</td>\n",
       "      <td>-1.250980</td>\n",
       "    </tr>\n",
       "    <tr>\n",
       "      <th>1</th>\n",
       "      <td>A</td>\n",
       "      <td>2</td>\n",
       "      <td>P02768</td>\n",
       "      <td>-0.455000</td>\n",
       "      <td>-2.197804</td>\n",
       "    </tr>\n",
       "    <tr>\n",
       "      <th>2</th>\n",
       "      <td>A</td>\n",
       "      <td>3</td>\n",
       "      <td>P02768</td>\n",
       "      <td>-0.226954</td>\n",
       "      <td>-4.406174</td>\n",
       "    </tr>\n",
       "    <tr>\n",
       "      <th>3</th>\n",
       "      <td>B</td>\n",
       "      <td>1</td>\n",
       "      <td>P02768</td>\n",
       "      <td>-0.004300</td>\n",
       "      <td>-232.575816</td>\n",
       "    </tr>\n",
       "    <tr>\n",
       "      <th>4</th>\n",
       "      <td>B</td>\n",
       "      <td>2</td>\n",
       "      <td>P02768</td>\n",
       "      <td>0.605822</td>\n",
       "      <td>1.650651</td>\n",
       "    </tr>\n",
       "    <tr>\n",
       "      <th>5</th>\n",
       "      <td>B</td>\n",
       "      <td>3</td>\n",
       "      <td>P02768</td>\n",
       "      <td>1.044721</td>\n",
       "      <td>0.957193</td>\n",
       "    </tr>\n",
       "    <tr>\n",
       "      <th>6</th>\n",
       "      <td>A</td>\n",
       "      <td>1</td>\n",
       "      <td>P69892</td>\n",
       "      <td>-0.282452</td>\n",
       "      <td>-3.540424</td>\n",
       "    </tr>\n",
       "    <tr>\n",
       "      <th>7</th>\n",
       "      <td>A</td>\n",
       "      <td>2</td>\n",
       "      <td>P69892</td>\n",
       "      <td>-0.631005</td>\n",
       "      <td>-1.584773</td>\n",
       "    </tr>\n",
       "    <tr>\n",
       "      <th>8</th>\n",
       "      <td>A</td>\n",
       "      <td>3</td>\n",
       "      <td>P69892</td>\n",
       "      <td>0.200593</td>\n",
       "      <td>4.985230</td>\n",
       "    </tr>\n",
       "    <tr>\n",
       "      <th>9</th>\n",
       "      <td>B</td>\n",
       "      <td>1</td>\n",
       "      <td>P69892</td>\n",
       "      <td>1.725466</td>\n",
       "      <td>0.579554</td>\n",
       "    </tr>\n",
       "    <tr>\n",
       "      <th>10</th>\n",
       "      <td>B</td>\n",
       "      <td>2</td>\n",
       "      <td>P69892</td>\n",
       "      <td>-0.121392</td>\n",
       "      <td>-8.237797</td>\n",
       "    </tr>\n",
       "    <tr>\n",
       "      <th>11</th>\n",
       "      <td>B</td>\n",
       "      <td>3</td>\n",
       "      <td>P69892</td>\n",
       "      <td>0.657004</td>\n",
       "      <td>1.522061</td>\n",
       "    </tr>\n",
       "  </tbody>\n",
       "</table>\n",
       "</div>"
      ],
      "text/plain": [
       "   sample  replicate protein    value1      value2\n",
       "0       A          1  P02768 -0.799373   -1.250980\n",
       "1       A          2  P02768 -0.455000   -2.197804\n",
       "2       A          3  P02768 -0.226954   -4.406174\n",
       "3       B          1  P02768 -0.004300 -232.575816\n",
       "4       B          2  P02768  0.605822    1.650651\n",
       "5       B          3  P02768  1.044721    0.957193\n",
       "6       A          1  P69892 -0.282452   -3.540424\n",
       "7       A          2  P69892 -0.631005   -1.584773\n",
       "8       A          3  P69892  0.200593    4.985230\n",
       "9       B          1  P69892  1.725466    0.579554\n",
       "10      B          2  P69892 -0.121392   -8.237797\n",
       "11      B          3  P69892  0.657004    1.522061"
      ]
     },
     "execution_count": 143,
     "metadata": {},
     "output_type": "execute_result"
    }
   ],
   "source": [
    "df.to_csv('test.csv')\n",
    "pd.read_csv('test.csv', index_col=0)"
   ]
  },
  {
   "cell_type": "markdown",
   "metadata": {},
   "source": [
    "But, as an addition, Pandas has special commands to load and save Excel spreadsheets (yay!). However, to use it you'll need the `openpyxl` and `xlrd` packages."
   ]
  },
  {
   "cell_type": "code",
   "execution_count": 144,
   "metadata": {},
   "outputs": [
    {
     "data": {
      "text/html": [
       "<div>\n",
       "<style scoped>\n",
       "    .dataframe tbody tr th:only-of-type {\n",
       "        vertical-align: middle;\n",
       "    }\n",
       "\n",
       "    .dataframe tbody tr th {\n",
       "        vertical-align: top;\n",
       "    }\n",
       "\n",
       "    .dataframe thead th {\n",
       "        text-align: right;\n",
       "    }\n",
       "</style>\n",
       "<table border=\"1\" class=\"dataframe\">\n",
       "  <thead>\n",
       "    <tr style=\"text-align: right;\">\n",
       "      <th></th>\n",
       "      <th>sample</th>\n",
       "      <th>replicate</th>\n",
       "      <th>protein</th>\n",
       "      <th>value1</th>\n",
       "      <th>value2</th>\n",
       "    </tr>\n",
       "  </thead>\n",
       "  <tbody>\n",
       "    <tr>\n",
       "      <th>0</th>\n",
       "      <td>A</td>\n",
       "      <td>1</td>\n",
       "      <td>P02768</td>\n",
       "      <td>-0.799373</td>\n",
       "      <td>-1.250980</td>\n",
       "    </tr>\n",
       "    <tr>\n",
       "      <th>1</th>\n",
       "      <td>A</td>\n",
       "      <td>2</td>\n",
       "      <td>P02768</td>\n",
       "      <td>-0.455000</td>\n",
       "      <td>-2.197804</td>\n",
       "    </tr>\n",
       "    <tr>\n",
       "      <th>2</th>\n",
       "      <td>A</td>\n",
       "      <td>3</td>\n",
       "      <td>P02768</td>\n",
       "      <td>-0.226954</td>\n",
       "      <td>-4.406174</td>\n",
       "    </tr>\n",
       "    <tr>\n",
       "      <th>3</th>\n",
       "      <td>B</td>\n",
       "      <td>1</td>\n",
       "      <td>P02768</td>\n",
       "      <td>-0.004300</td>\n",
       "      <td>-232.575816</td>\n",
       "    </tr>\n",
       "    <tr>\n",
       "      <th>4</th>\n",
       "      <td>B</td>\n",
       "      <td>2</td>\n",
       "      <td>P02768</td>\n",
       "      <td>0.605822</td>\n",
       "      <td>1.650651</td>\n",
       "    </tr>\n",
       "    <tr>\n",
       "      <th>5</th>\n",
       "      <td>B</td>\n",
       "      <td>3</td>\n",
       "      <td>P02768</td>\n",
       "      <td>1.044721</td>\n",
       "      <td>0.957193</td>\n",
       "    </tr>\n",
       "    <tr>\n",
       "      <th>6</th>\n",
       "      <td>A</td>\n",
       "      <td>1</td>\n",
       "      <td>P69892</td>\n",
       "      <td>-0.282452</td>\n",
       "      <td>-3.540424</td>\n",
       "    </tr>\n",
       "    <tr>\n",
       "      <th>7</th>\n",
       "      <td>A</td>\n",
       "      <td>2</td>\n",
       "      <td>P69892</td>\n",
       "      <td>-0.631005</td>\n",
       "      <td>-1.584773</td>\n",
       "    </tr>\n",
       "    <tr>\n",
       "      <th>8</th>\n",
       "      <td>A</td>\n",
       "      <td>3</td>\n",
       "      <td>P69892</td>\n",
       "      <td>0.200593</td>\n",
       "      <td>4.985230</td>\n",
       "    </tr>\n",
       "    <tr>\n",
       "      <th>9</th>\n",
       "      <td>B</td>\n",
       "      <td>1</td>\n",
       "      <td>P69892</td>\n",
       "      <td>1.725466</td>\n",
       "      <td>0.579554</td>\n",
       "    </tr>\n",
       "    <tr>\n",
       "      <th>10</th>\n",
       "      <td>B</td>\n",
       "      <td>2</td>\n",
       "      <td>P69892</td>\n",
       "      <td>-0.121392</td>\n",
       "      <td>-8.237797</td>\n",
       "    </tr>\n",
       "    <tr>\n",
       "      <th>11</th>\n",
       "      <td>B</td>\n",
       "      <td>3</td>\n",
       "      <td>P69892</td>\n",
       "      <td>0.657004</td>\n",
       "      <td>1.522061</td>\n",
       "    </tr>\n",
       "  </tbody>\n",
       "</table>\n",
       "</div>"
      ],
      "text/plain": [
       "   sample  replicate protein    value1      value2\n",
       "0       A          1  P02768 -0.799373   -1.250980\n",
       "1       A          2  P02768 -0.455000   -2.197804\n",
       "2       A          3  P02768 -0.226954   -4.406174\n",
       "3       B          1  P02768 -0.004300 -232.575816\n",
       "4       B          2  P02768  0.605822    1.650651\n",
       "5       B          3  P02768  1.044721    0.957193\n",
       "6       A          1  P69892 -0.282452   -3.540424\n",
       "7       A          2  P69892 -0.631005   -1.584773\n",
       "8       A          3  P69892  0.200593    4.985230\n",
       "9       B          1  P69892  1.725466    0.579554\n",
       "10      B          2  P69892 -0.121392   -8.237797\n",
       "11      B          3  P69892  0.657004    1.522061"
      ]
     },
     "execution_count": 144,
     "metadata": {},
     "output_type": "execute_result"
    }
   ],
   "source": [
    "df.to_excel('test.xlsx', sheet_name='My sheet')\n",
    "pd.read_excel('test.xlsx', 'My sheet', index_col=0)"
   ]
  },
  {
   "cell_type": "markdown",
   "metadata": {},
   "source": [
    "**Exercise 5**: Download [this dataset](https://raw.githubusercontent.com/ChihChengLiang/pokemongor/master/data-raw/pokemons.csv) and load it, using the first column as the index. Take a look at it, and do the following things:\n",
    "- Choose the columns 'Identifier', 'BaseStamina', 'BaseAttack', 'BaseDefense', 'Type1' and 'Type2' \n",
    "- Create a function that lowercases strings and apply it to 'Type1' and 'Type2' (*Extra: just capitalize the strings, i.e., leave the first letter uppercase and lowercase the rest*)\n",
    "- Create a function that returns a Boolean value (don't be afraif by this, it is a function that returns either True or False) that tells if a Pokémon has high stamina (BaseStamina>170) or not. Store this information in a new column and show the list of Pokémon with high stamina\n",
    "- Show the instructor the last 15 rows of your dataset"
   ]
  },
  {
   "cell_type": "code",
   "execution_count": 145,
   "metadata": {},
   "outputs": [
    {
     "name": "stdout",
     "output_type": "stream",
     "text": [
      "PkMn\n",
      "31      Nidoqueen\n",
      "36       Clefable\n",
      "39     Jigglypuff\n",
      "40     Wigglytuff\n",
      "59       Arcanine\n",
      "62      Poliwrath\n",
      "68        Machamp\n",
      "          ...    \n",
      "143       Snorlax\n",
      "144      Articuno\n",
      "145        Zapdos\n",
      "146       Moltres\n",
      "149     Dragonite\n",
      "150        Mewtwo\n",
      "151           Mew\n",
      "Name: Identifier, Length: 26, dtype: object\n"
     ]
    },
    {
     "data": {
      "text/html": [
       "<div>\n",
       "<style scoped>\n",
       "    .dataframe tbody tr th:only-of-type {\n",
       "        vertical-align: middle;\n",
       "    }\n",
       "\n",
       "    .dataframe tbody tr th {\n",
       "        vertical-align: top;\n",
       "    }\n",
       "\n",
       "    .dataframe thead th {\n",
       "        text-align: right;\n",
       "    }\n",
       "</style>\n",
       "<table border=\"1\" class=\"dataframe\">\n",
       "  <thead>\n",
       "    <tr style=\"text-align: right;\">\n",
       "      <th></th>\n",
       "      <th>Identifier</th>\n",
       "      <th>BaseStamina</th>\n",
       "      <th>BaseAttack</th>\n",
       "      <th>BaseDefense</th>\n",
       "      <th>Type1</th>\n",
       "      <th>Type2</th>\n",
       "      <th>HighStamina</th>\n",
       "    </tr>\n",
       "    <tr>\n",
       "      <th>PkMn</th>\n",
       "      <th></th>\n",
       "      <th></th>\n",
       "      <th></th>\n",
       "      <th></th>\n",
       "      <th></th>\n",
       "      <th></th>\n",
       "      <th></th>\n",
       "    </tr>\n",
       "  </thead>\n",
       "  <tbody>\n",
       "    <tr>\n",
       "      <th>137</th>\n",
       "      <td>Porygon</td>\n",
       "      <td>130</td>\n",
       "      <td>156</td>\n",
       "      <td>158</td>\n",
       "      <td>Normal</td>\n",
       "      <td>None</td>\n",
       "      <td>False</td>\n",
       "    </tr>\n",
       "    <tr>\n",
       "      <th>138</th>\n",
       "      <td>Omanyte</td>\n",
       "      <td>70</td>\n",
       "      <td>132</td>\n",
       "      <td>160</td>\n",
       "      <td>Rock</td>\n",
       "      <td>Water</td>\n",
       "      <td>False</td>\n",
       "    </tr>\n",
       "    <tr>\n",
       "      <th>139</th>\n",
       "      <td>Omastar</td>\n",
       "      <td>140</td>\n",
       "      <td>180</td>\n",
       "      <td>202</td>\n",
       "      <td>Rock</td>\n",
       "      <td>Water</td>\n",
       "      <td>False</td>\n",
       "    </tr>\n",
       "    <tr>\n",
       "      <th>140</th>\n",
       "      <td>Kabuto</td>\n",
       "      <td>60</td>\n",
       "      <td>148</td>\n",
       "      <td>142</td>\n",
       "      <td>Rock</td>\n",
       "      <td>Water</td>\n",
       "      <td>False</td>\n",
       "    </tr>\n",
       "    <tr>\n",
       "      <th>141</th>\n",
       "      <td>Kabutops</td>\n",
       "      <td>120</td>\n",
       "      <td>190</td>\n",
       "      <td>190</td>\n",
       "      <td>Rock</td>\n",
       "      <td>Water</td>\n",
       "      <td>False</td>\n",
       "    </tr>\n",
       "    <tr>\n",
       "      <th>142</th>\n",
       "      <td>Aerodactyl</td>\n",
       "      <td>160</td>\n",
       "      <td>182</td>\n",
       "      <td>162</td>\n",
       "      <td>Rock</td>\n",
       "      <td>Flying</td>\n",
       "      <td>False</td>\n",
       "    </tr>\n",
       "    <tr>\n",
       "      <th>143</th>\n",
       "      <td>Snorlax</td>\n",
       "      <td>320</td>\n",
       "      <td>180</td>\n",
       "      <td>180</td>\n",
       "      <td>Normal</td>\n",
       "      <td>None</td>\n",
       "      <td>True</td>\n",
       "    </tr>\n",
       "    <tr>\n",
       "      <th>144</th>\n",
       "      <td>Articuno</td>\n",
       "      <td>180</td>\n",
       "      <td>198</td>\n",
       "      <td>242</td>\n",
       "      <td>Ice</td>\n",
       "      <td>Flying</td>\n",
       "      <td>True</td>\n",
       "    </tr>\n",
       "    <tr>\n",
       "      <th>145</th>\n",
       "      <td>Zapdos</td>\n",
       "      <td>180</td>\n",
       "      <td>232</td>\n",
       "      <td>194</td>\n",
       "      <td>Electric</td>\n",
       "      <td>Flying</td>\n",
       "      <td>True</td>\n",
       "    </tr>\n",
       "    <tr>\n",
       "      <th>146</th>\n",
       "      <td>Moltres</td>\n",
       "      <td>180</td>\n",
       "      <td>242</td>\n",
       "      <td>194</td>\n",
       "      <td>Fire</td>\n",
       "      <td>Flying</td>\n",
       "      <td>True</td>\n",
       "    </tr>\n",
       "    <tr>\n",
       "      <th>147</th>\n",
       "      <td>Dratini</td>\n",
       "      <td>82</td>\n",
       "      <td>128</td>\n",
       "      <td>110</td>\n",
       "      <td>Dragon</td>\n",
       "      <td>None</td>\n",
       "      <td>False</td>\n",
       "    </tr>\n",
       "    <tr>\n",
       "      <th>148</th>\n",
       "      <td>Dragonair</td>\n",
       "      <td>122</td>\n",
       "      <td>170</td>\n",
       "      <td>152</td>\n",
       "      <td>Dragon</td>\n",
       "      <td>None</td>\n",
       "      <td>False</td>\n",
       "    </tr>\n",
       "    <tr>\n",
       "      <th>149</th>\n",
       "      <td>Dragonite</td>\n",
       "      <td>182</td>\n",
       "      <td>250</td>\n",
       "      <td>212</td>\n",
       "      <td>Dragon</td>\n",
       "      <td>Flying</td>\n",
       "      <td>True</td>\n",
       "    </tr>\n",
       "    <tr>\n",
       "      <th>150</th>\n",
       "      <td>Mewtwo</td>\n",
       "      <td>212</td>\n",
       "      <td>284</td>\n",
       "      <td>202</td>\n",
       "      <td>Psychic</td>\n",
       "      <td>None</td>\n",
       "      <td>True</td>\n",
       "    </tr>\n",
       "    <tr>\n",
       "      <th>151</th>\n",
       "      <td>Mew</td>\n",
       "      <td>200</td>\n",
       "      <td>220</td>\n",
       "      <td>220</td>\n",
       "      <td>Psychic</td>\n",
       "      <td>None</td>\n",
       "      <td>True</td>\n",
       "    </tr>\n",
       "  </tbody>\n",
       "</table>\n",
       "</div>"
      ],
      "text/plain": [
       "      Identifier  BaseStamina  BaseAttack  BaseDefense     Type1   Type2  \\\n",
       "PkMn                                                                       \n",
       "137      Porygon          130         156          158    Normal    None   \n",
       "138      Omanyte           70         132          160      Rock   Water   \n",
       "139      Omastar          140         180          202      Rock   Water   \n",
       "140       Kabuto           60         148          142      Rock   Water   \n",
       "141     Kabutops          120         190          190      Rock   Water   \n",
       "142   Aerodactyl          160         182          162      Rock  Flying   \n",
       "143      Snorlax          320         180          180    Normal    None   \n",
       "144     Articuno          180         198          242       Ice  Flying   \n",
       "145       Zapdos          180         232          194  Electric  Flying   \n",
       "146      Moltres          180         242          194      Fire  Flying   \n",
       "147      Dratini           82         128          110    Dragon    None   \n",
       "148    Dragonair          122         170          152    Dragon    None   \n",
       "149    Dragonite          182         250          212    Dragon  Flying   \n",
       "150       Mewtwo          212         284          202   Psychic    None   \n",
       "151          Mew          200         220          220   Psychic    None   \n",
       "\n",
       "      HighStamina  \n",
       "PkMn               \n",
       "137         False  \n",
       "138         False  \n",
       "139         False  \n",
       "140         False  \n",
       "141         False  \n",
       "142         False  \n",
       "143          True  \n",
       "144          True  \n",
       "145          True  \n",
       "146          True  \n",
       "147         False  \n",
       "148         False  \n",
       "149          True  \n",
       "150          True  \n",
       "151          True  "
      ]
     },
     "execution_count": 145,
     "metadata": {},
     "output_type": "execute_result"
    }
   ],
   "source": [
    "df = pd.read_csv('https://raw.githubusercontent.com/ChihChengLiang/pokemongor/master/data-raw/pokemons.csv', \n",
    "                 index_col=0)\n",
    "\n",
    "df = df[['Identifier', 'BaseStamina', 'BaseAttack', 'BaseDefense', 'Type1', 'Type2']]\n",
    "\n",
    "capitalize = lambda st: st.capitalize()\n",
    "\n",
    "for col in ['Type1', 'Type2']:\n",
    "    df[col] = df[col].apply(capitalize)\n",
    "    \n",
    "def highstamina(x):\n",
    "    return True if x > 170 else False\n",
    "\n",
    "df['HighStamina'] = df.BaseStamina.apply(highstamina)\n",
    "\n",
    "print(df[df['HighStamina'] == True].Identifier)\n",
    "\n",
    "df.tail(15)"
   ]
  }
 ],
 "metadata": {
  "jupytext": {
   "comment_magics": true,
   "text_representation": {
    "extension": ".py",
    "format_name": "percent",
    "format_version": "1.2",
    "jupytext_version": "0.8.6rc1"
   }
  },
  "kernelspec": {
   "display_name": "Python 3",
   "language": "python",
   "name": "python3"
  },
  "language_info": {
   "codemirror_mode": {
    "name": "ipython",
    "version": 3
   },
   "file_extension": ".py",
   "mimetype": "text/x-python",
   "name": "python",
   "nbconvert_exporter": "python",
   "pygments_lexer": "ipython3",
   "version": "3.6.5"
  },
  "toc": {
   "base_numbering": 1,
   "nav_menu": {},
   "number_sections": true,
   "sideBar": true,
   "skip_h1_title": false,
   "title_cell": "Table of Contents",
   "title_sidebar": "Contents",
   "toc_cell": false,
   "toc_position": {
    "height": "calc(100% - 180px)",
    "left": "10px",
    "top": "150px",
    "width": "418px"
   },
   "toc_section_display": true,
   "toc_window_display": true
  },
  "varInspector": {
   "cols": {
    "lenName": 16,
    "lenType": 16,
    "lenVar": 40
   },
   "kernels_config": {
    "python": {
     "delete_cmd_postfix": "",
     "delete_cmd_prefix": "del ",
     "library": "var_list.py",
     "varRefreshCmd": "print(var_dic_list())"
    },
    "r": {
     "delete_cmd_postfix": ") ",
     "delete_cmd_prefix": "rm(",
     "library": "var_list.r",
     "varRefreshCmd": "cat(var_dic_list()) "
    }
   },
   "oldHeight": 331.518518,
   "position": {
    "height": "353px",
    "left": "595.965px",
    "right": "20px",
    "top": "2.91667px",
    "width": "629px"
   },
   "types_to_exclude": [
    "module",
    "function",
    "builtin_function_or_method",
    "instance",
    "_Feature"
   ],
   "varInspector_section_display": "block",
   "window_display": false
  }
 },
 "nbformat": 4,
 "nbformat_minor": 2
}
