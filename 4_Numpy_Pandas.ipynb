{
 "cells": [
  {
   "cell_type": "markdown",
   "metadata": {},
   "source": [
    "# 4 NumPy and Pandas\n",
    "\n",
    "## Introduction\n",
    "\n",
    "After getting used to how Python works, it is the moment to begin getting our hands dirty with data analysis. We will study two packages: [NumPy](http://www.numpy.org/) is the fundamental numeric computing and linear algebra package in Python, that allows for decent data analysis. We will learn it not only for the data analysis, but more importantly because it will be a package that will be always present in our `import` section as scientists. After NumPy we will go to [Pandas](http://pandas.pydata.org/). Pandas is a dedicated data analysis package with a lot more functionalities than NumPy, making our life much easier in terms of data visualization and manipulation. All the power of Pandas will be completely unleashed in Section 5, where we will see how to visualize information in plots.\n",
    "\n",
    "As usual, we begin importing the necessary packages"
   ]
  },
  {
   "cell_type": "code",
   "execution_count": 1,
   "metadata": {},
   "outputs": [
    {
     "name": "stdout",
     "output_type": "stream",
     "text": [
      "NumPy: 1.13.1\n",
      "Pandas: 0.20.3\n"
     ]
    }
   ],
   "source": [
    "import numpy as np\n",
    "import pandas as pd\n",
    "print(\"NumPy:\", np.__version__)\n",
    "print(\"Pandas:\", pd.__version__)"
   ]
  },
  {
   "cell_type": "markdown",
   "metadata": {},
   "source": [
    "## Numeric Python (NumPy)\n",
    "\n",
    "NumPy is an open-source add-on module to Python that provides common mathematical and numerical routines in pre-compiled, fast functions. These are growing into highly mature packages that provide functionality that meets, or perhaps exceeds, that\n",
    "associated with common commercial software like MATLAB. The [NumPy](http://www.numpy.org/) (Numeric Python) package provides basic routines for manipulating large arrays and matrices of numeric data. The main object NumPy works with is a *homogeneous multidimensional array*. Despite its intimidating name, these are nothing but tables of numbers, each labelled by a tuple of indices.\n",
    "\n",
    "We will now explore some capabilities of NumPy that will prove very useful not only for data analyisis, but throughout all our life with Python."
   ]
  },
  {
   "cell_type": "markdown",
   "metadata": {},
   "source": [
    "### Creating Arrays\n",
    "\n",
    "As mentioned before, the main object in NumPy is the *array*. Creating one is as easy as calling the command `array`"
   ]
  },
  {
   "cell_type": "code",
   "execution_count": 2,
   "metadata": {},
   "outputs": [
    {
     "data": {
      "text/plain": [
       "array([1, 2, 3])"
      ]
     },
     "execution_count": 2,
     "metadata": {},
     "output_type": "execute_result"
    }
   ],
   "source": [
    "mylist = [1, 2, 3]\n",
    "x = np.array(mylist)\n",
    "x"
   ]
  },
  {
   "cell_type": "code",
   "execution_count": 3,
   "metadata": {},
   "outputs": [
    {
     "data": {
      "text/plain": [
       "numpy.ndarray"
      ]
     },
     "execution_count": 3,
     "metadata": {},
     "output_type": "execute_result"
    }
   ],
   "source": [
    "type(x)"
   ]
  },
  {
   "cell_type": "markdown",
   "metadata": {},
   "source": [
    "The same applies to multidimensional arrays"
   ]
  },
  {
   "cell_type": "code",
   "execution_count": 4,
   "metadata": {},
   "outputs": [
    {
     "data": {
      "text/plain": [
       "array([[[ 7,  8,  9],\n",
       "        [10, 11, 12]],\n",
       "\n",
       "       [[ 1,  2,  3],\n",
       "        [ 4,  5,  6]]])"
      ]
     },
     "execution_count": 4,
     "metadata": {},
     "output_type": "execute_result"
    }
   ],
   "source": [
    "m = np.array([[[7, 8, 9], [10, 11, 12]], [[1, 2, 3], [4, 5, 6]]])\n",
    "m"
   ]
  },
  {
   "cell_type": "markdown",
   "metadata": {},
   "source": [
    "There is one restriction with respect to the use of lists: while you could create lists with data of different type, all the data in an array has to be of the same type, and it will be converted automatically."
   ]
  },
  {
   "cell_type": "code",
   "execution_count": 5,
   "metadata": {},
   "outputs": [
    {
     "name": "stdout",
     "output_type": "stream",
     "text": [
      "<class 'float'>\n",
      "<class 'numpy.str_'>\n"
     ]
    }
   ],
   "source": [
    "lst = [1., 'cat']\n",
    "print(type(lst[0]))\n",
    "\n",
    "arr = np.array(lst)\n",
    "print(type(arr[0]))"
   ]
  },
  {
   "cell_type": "markdown",
   "metadata": {},
   "source": [
    "(We will go deeper into indexing in a while)\n",
    "\n",
    "-----\n",
    "A NumPy array has a number of dimensions (or *axes*). To obtain the number of axes and the size of each of them you use the command `shape`. For 2-dimensional arrays (matrices), the order corresponds to (rows, columns)\n",
    "\n",
    "There are two different ways of calling the `shape` command, either with `np.shape(arr)` or `arr.shape`. This is not the only command that works in both formats, and we will be finding some more in our way."
   ]
  },
  {
   "cell_type": "code",
   "execution_count": 6,
   "metadata": {},
   "outputs": [
    {
     "name": "stdout",
     "output_type": "stream",
     "text": [
      "(3,)\n",
      "(2, 2, 3)\n"
     ]
    }
   ],
   "source": [
    "print(x.shape)\n",
    "print(np.shape(m))"
   ]
  },
  {
   "cell_type": "markdown",
   "metadata": {},
   "source": [
    "### Special Arrays\n",
    "\n",
    "Now we review some built-in functions that create matrices commonly used. `ones` and `zeros` return arrays of given shape and type (default is float64), filled with ones or zeros, respectively."
   ]
  },
  {
   "cell_type": "code",
   "execution_count": 7,
   "metadata": {
    "collapsed": true
   },
   "outputs": [],
   "source": [
    "array_zeros=np.zeros((3, 2))\n",
    "array_ones=np.ones((3, 2, 4), dtype=np.int8)"
   ]
  },
  {
   "cell_type": "code",
   "execution_count": 8,
   "metadata": {},
   "outputs": [
    {
     "data": {
      "text/plain": [
       "array([[ 0.,  0.],\n",
       "       [ 0.,  0.],\n",
       "       [ 0.,  0.]])"
      ]
     },
     "execution_count": 8,
     "metadata": {},
     "output_type": "execute_result"
    }
   ],
   "source": [
    "array_zeros"
   ]
  },
  {
   "cell_type": "code",
   "execution_count": 9,
   "metadata": {},
   "outputs": [
    {
     "data": {
      "text/plain": [
       "array([[[1, 1, 1, 1],\n",
       "        [1, 1, 1, 1]],\n",
       "\n",
       "       [[1, 1, 1, 1],\n",
       "        [1, 1, 1, 1]],\n",
       "\n",
       "       [[1, 1, 1, 1],\n",
       "        [1, 1, 1, 1]]], dtype=int8)"
      ]
     },
     "execution_count": 9,
     "metadata": {},
     "output_type": "execute_result"
    }
   ],
   "source": [
    "array_ones"
   ]
  },
  {
   "cell_type": "markdown",
   "metadata": {},
   "source": [
    "`eye(d)` returns a 2-D, dimension-$d$ array with ones on the diagonal and zeros elsewhere."
   ]
  },
  {
   "cell_type": "code",
   "execution_count": 10,
   "metadata": {},
   "outputs": [
    {
     "data": {
      "text/plain": [
       "array([[ 1.,  0.,  0.],\n",
       "       [ 0.,  1.,  0.],\n",
       "       [ 0.,  0.,  1.]])"
      ]
     },
     "execution_count": 10,
     "metadata": {},
     "output_type": "execute_result"
    }
   ],
   "source": [
    "np.eye(3)"
   ]
  },
  {
   "cell_type": "markdown",
   "metadata": {},
   "source": [
    "`eye` can also create arrays with ones in upper and lower diagonals. To achieve this, you must call `eye(d, d, k)` where $k$ denotes the diagonal (positive for above the center diagonal, negative for below), or `eye(d, k=num)`"
   ]
  },
  {
   "cell_type": "code",
   "execution_count": 11,
   "metadata": {},
   "outputs": [
    {
     "name": "stdout",
     "output_type": "stream",
     "text": [
      "[[ 0.  0.  1.  0.  0.]\n",
      " [ 0.  0.  0.  1.  0.]\n",
      " [ 0.  0.  0.  0.  1.]\n",
      " [ 0.  0.  0.  0.  0.]\n",
      " [ 0.  0.  0.  0.  0.]]\n"
     ]
    },
    {
     "data": {
      "text/plain": [
       "array([[ 0.,  0.,  0.,  0.,  0.],\n",
       "       [ 1.,  0.,  0.,  0.,  0.],\n",
       "       [ 0.,  1.,  0.,  0.,  0.],\n",
       "       [ 0.,  0.,  1.,  0.,  0.],\n",
       "       [ 0.,  0.,  0.,  1.,  0.]])"
      ]
     },
     "execution_count": 11,
     "metadata": {},
     "output_type": "execute_result"
    }
   ],
   "source": [
    "print(np.eye(5, 5, 2))\n",
    "np.eye(5, k=-1)"
   ]
  },
  {
   "cell_type": "markdown",
   "metadata": {},
   "source": [
    "`diag`, depending on the input, either extracts a diagonal from a matrix (if the input is a 2-D array), or constructs a diagonal array (if the input is a vector)."
   ]
  },
  {
   "cell_type": "code",
   "execution_count": 12,
   "metadata": {},
   "outputs": [
    {
     "data": {
      "text/plain": [
       "array([[0, 1, 0, 0],\n",
       "       [0, 0, 2, 0],\n",
       "       [0, 0, 0, 3],\n",
       "       [0, 0, 0, 0]])"
      ]
     },
     "execution_count": 12,
     "metadata": {},
     "output_type": "execute_result"
    }
   ],
   "source": [
    "np.diag(x, 1)"
   ]
  },
  {
   "cell_type": "code",
   "execution_count": 13,
   "metadata": {},
   "outputs": [
    {
     "name": "stdout",
     "output_type": "stream",
     "text": [
      "[ 1  6 11 16]\n"
     ]
    },
    {
     "data": {
      "text/plain": [
       "array([[ 1,  0,  0,  0],\n",
       "       [ 0,  6,  0,  0],\n",
       "       [ 0,  0, 11,  0],\n",
       "       [ 0,  0,  0, 16]])"
      ]
     },
     "execution_count": 13,
     "metadata": {},
     "output_type": "execute_result"
    }
   ],
   "source": [
    "y = np.array([[1, 2, 3, 4], [5, 6, 7, 8], [9, 10, 11, 12], [13, 14, 15, 16]])\n",
    "print(np.diag(y))\n",
    "np.diag(np.diag(y))"
   ]
  },
  {
   "cell_type": "markdown",
   "metadata": {},
   "source": [
    "`arange(begin, end, step)` returns evenly spaced values within a given interval. Note that the beginning point is included, but not the ending."
   ]
  },
  {
   "cell_type": "code",
   "execution_count": 14,
   "metadata": {},
   "outputs": [
    {
     "data": {
      "text/plain": [
       "array([ 0,  2,  4,  6,  8, 10, 12, 14, 16, 18, 20, 22, 24, 26, 28])"
      ]
     },
     "execution_count": 14,
     "metadata": {},
     "output_type": "execute_result"
    }
   ],
   "source": [
    "n = np.arange(0, 30, 2) # start at 0 count up by 2, stop before 30\n",
    "n"
   ]
  },
  {
   "cell_type": "code",
   "execution_count": 15,
   "metadata": {},
   "outputs": [
    {
     "data": {
      "text/plain": [
       "15"
      ]
     },
     "execution_count": 15,
     "metadata": {},
     "output_type": "execute_result"
    }
   ],
   "source": [
    "len(n)"
   ]
  },
  {
   "cell_type": "markdown",
   "metadata": {},
   "source": [
    "**Exercise 1 **: Create an array of the first million of odd numbers, both with `arange` and using loops. Try timing both methods to see which one is faster. For that, use `%timeit`."
   ]
  },
  {
   "cell_type": "code",
   "execution_count": 16,
   "metadata": {},
   "outputs": [
    {
     "name": "stdout",
     "output_type": "stream",
     "text": [
      "1.33 ms ± 78.9 µs per loop (mean ± std. dev. of 7 runs, 1000 loops each)\n",
      "205 ms ± 19.3 ms per loop (mean ± std. dev. of 7 runs, 1 loop each)\n"
     ]
    }
   ],
   "source": [
    "%timeit np.arange(0, 2e6, 2)\n",
    "\n",
    "%timeit [i for i in range(2000000) if i % 2 == 0]"
   ]
  },
  {
   "cell_type": "markdown",
   "metadata": {},
   "source": [
    "Similarly, `linspace(begin, end, points)` returns evenly spaced numbers over a specified interval. Here, instead of specifying the step, you specify the amount of points you want. Also with `linspace` you include the ending of the interval."
   ]
  },
  {
   "cell_type": "code",
   "execution_count": 17,
   "metadata": {},
   "outputs": [
    {
     "data": {
      "text/plain": [
       "array([  0.        ,   2.14285714,   4.28571429,   6.42857143,\n",
       "         8.57142857,  10.71428571,  12.85714286,  15.        ,\n",
       "        17.14285714,  19.28571429,  21.42857143,  23.57142857,\n",
       "        25.71428571,  27.85714286,  30.        ])"
      ]
     },
     "execution_count": 17,
     "metadata": {},
     "output_type": "execute_result"
    }
   ],
   "source": [
    "o = np.linspace(0, 30, 15)\n",
    "o"
   ]
  },
  {
   "cell_type": "code",
   "execution_count": 18,
   "metadata": {},
   "outputs": [
    {
     "data": {
      "text/plain": [
       "15"
      ]
     },
     "execution_count": 18,
     "metadata": {},
     "output_type": "execute_result"
    }
   ],
   "source": [
    "len(o)"
   ]
  },
  {
   "cell_type": "markdown",
   "metadata": {},
   "source": [
    "`reshape` changes the shape of an array, but not its data. This is another of the commands that can be called before or after the array."
   ]
  },
  {
   "cell_type": "code",
   "execution_count": 19,
   "metadata": {
    "scrolled": true
   },
   "outputs": [
    {
     "name": "stdout",
     "output_type": "stream",
     "text": [
      "[[ 0  2  4  6  8]\n",
      " [10 12 14 16 18]\n",
      " [20 22 24 26 28]]\n"
     ]
    },
    {
     "data": {
      "text/plain": [
       "array([[ 0,  2,  4],\n",
       "       [ 6,  8, 10],\n",
       "       [12, 14, 16],\n",
       "       [18, 20, 22],\n",
       "       [24, 26, 28]])"
      ]
     },
     "execution_count": 19,
     "metadata": {},
     "output_type": "execute_result"
    }
   ],
   "source": [
    "print(n.reshape(3, 5))\n",
    "np.reshape(n, (5, 3))"
   ]
  },
  {
   "cell_type": "markdown",
   "metadata": {},
   "source": [
    "Note however that, in order for these changes to be permanent, you should do a reassignment of the variable"
   ]
  },
  {
   "cell_type": "code",
   "execution_count": 20,
   "metadata": {},
   "outputs": [
    {
     "name": "stdout",
     "output_type": "stream",
     "text": [
      "[ 0  2  4  6  8 10 12 14 16 18 20 22 24 26 28]\n"
     ]
    },
    {
     "data": {
      "text/plain": [
       "array([[ 0,  2,  4,  6,  8],\n",
       "       [10, 12, 14, 16, 18],\n",
       "       [20, 22, 24, 26, 28]])"
      ]
     },
     "execution_count": 20,
     "metadata": {},
     "output_type": "execute_result"
    }
   ],
   "source": [
    "print(n)  # After the reshapings above, the original array stays being the same\n",
    "\n",
    "n = n.reshape(3, 5)\n",
    "n   # Now that we have reassigned it is when it definitely changes shape"
   ]
  },
  {
   "cell_type": "markdown",
   "metadata": {},
   "source": [
    "### Combining Arrays\n",
    "\n",
    "The most general command for combining arrays is `concatenate(arrs, d)`. It takes a list of arrays and concatenates them along axis $d$"
   ]
  },
  {
   "cell_type": "code",
   "execution_count": 21,
   "metadata": {},
   "outputs": [
    {
     "data": {
      "text/plain": [
       "array([[[ 1.,  1.],\n",
       "        [ 1.,  1.]],\n",
       "\n",
       "       [[ 1.,  1.],\n",
       "        [ 1.,  1.]]])"
      ]
     },
     "execution_count": 21,
     "metadata": {},
     "output_type": "execute_result"
    }
   ],
   "source": [
    "p = np.ones([2, 2, 2])\n",
    "p"
   ]
  },
  {
   "cell_type": "code",
   "execution_count": 22,
   "metadata": {},
   "outputs": [
    {
     "data": {
      "text/plain": [
       "array([[[ 1.,  1.],\n",
       "        [ 1.,  1.]],\n",
       "\n",
       "       [[ 1.,  1.],\n",
       "        [ 1.,  1.]],\n",
       "\n",
       "       [[ 2.,  2.],\n",
       "        [ 2.,  2.]],\n",
       "\n",
       "       [[ 2.,  2.],\n",
       "        [ 2.,  2.]]])"
      ]
     },
     "execution_count": 22,
     "metadata": {},
     "output_type": "execute_result"
    }
   ],
   "source": [
    "np.concatenate([p, 2 * p], 0)"
   ]
  },
  {
   "cell_type": "code",
   "execution_count": 23,
   "metadata": {},
   "outputs": [
    {
     "data": {
      "text/plain": [
       "array([[[ 1.,  1.],\n",
       "        [ 1.,  1.],\n",
       "        [ 2.,  2.],\n",
       "        [ 2.,  2.]],\n",
       "\n",
       "       [[ 1.,  1.],\n",
       "        [ 1.,  1.],\n",
       "        [ 2.,  2.],\n",
       "        [ 2.,  2.]]])"
      ]
     },
     "execution_count": 23,
     "metadata": {},
     "output_type": "execute_result"
    }
   ],
   "source": [
    "np.concatenate([p, 2 * p], 1)"
   ]
  },
  {
   "cell_type": "code",
   "execution_count": 24,
   "metadata": {},
   "outputs": [
    {
     "data": {
      "text/plain": [
       "array([[[ 1.,  1.,  2.,  2.],\n",
       "        [ 1.,  1.,  2.,  2.]],\n",
       "\n",
       "       [[ 1.,  1.,  2.,  2.],\n",
       "        [ 1.,  1.,  2.,  2.]]])"
      ]
     },
     "execution_count": 24,
     "metadata": {},
     "output_type": "execute_result"
    }
   ],
   "source": [
    "np.concatenate([p, 2 * p], 2)"
   ]
  },
  {
   "cell_type": "markdown",
   "metadata": {},
   "source": [
    "However, for common combinations there exist special commands. Use `vstack` to stack arrays in sequence vertically (row wise), `hstack` to stack arrays in sequence horizontally (column wise), and `block` to create arrays out of blocks (only available in versions 1.13.0+)"
   ]
  },
  {
   "cell_type": "code",
   "execution_count": 25,
   "metadata": {},
   "outputs": [
    {
     "data": {
      "text/plain": [
       "array([[ 1.,  1.],\n",
       "       [ 1.,  1.],\n",
       "       [ 2.,  2.],\n",
       "       [ 2.,  2.]])"
      ]
     },
     "execution_count": 25,
     "metadata": {},
     "output_type": "execute_result"
    }
   ],
   "source": [
    "q = np.ones((2, 2))\n",
    "np.vstack([q, 2 * q])"
   ]
  },
  {
   "cell_type": "code",
   "execution_count": 26,
   "metadata": {},
   "outputs": [
    {
     "data": {
      "text/plain": [
       "array([[ 1.,  1.,  2.,  2.],\n",
       "       [ 1.,  1.,  2.,  2.]])"
      ]
     },
     "execution_count": 26,
     "metadata": {},
     "output_type": "execute_result"
    }
   ],
   "source": [
    "np.hstack([q, 2 * q])"
   ]
  },
  {
   "cell_type": "code",
   "execution_count": 27,
   "metadata": {},
   "outputs": [
    {
     "data": {
      "text/plain": [
       "array([[ 1.,  1.,  0.,  0.],\n",
       "       [ 1.,  1.,  0.,  0.],\n",
       "       [ 0.,  0.,  2.,  2.],\n",
       "       [ 0.,  0.,  2.,  2.]])"
      ]
     },
     "execution_count": 27,
     "metadata": {},
     "output_type": "execute_result"
    }
   ],
   "source": [
    "np.block([[q, np.zeros((2, 2))], [np.zeros((2, 2)), 2 * q]])"
   ]
  },
  {
   "cell_type": "markdown",
   "metadata": {},
   "source": [
    "### Operations\n",
    "\n",
    "You can perform easily element-wise operations on arrays of any shape. Use the typical symbols, +, -, \\*, / and \\*\\* to perform element-wise addition, subtraction, multiplication, division and power."
   ]
  },
  {
   "cell_type": "code",
   "execution_count": 28,
   "metadata": {},
   "outputs": [
    {
     "name": "stdout",
     "output_type": "stream",
     "text": [
      "[1 2 3]\n",
      "[11 12 13]\n",
      "[3 6 9]\n",
      "[ 1.          0.5         0.33333333]\n",
      "[ 1.          0.62996052  0.48074986]\n",
      "[2 4 8]\n"
     ]
    }
   ],
   "source": [
    "x = np.array([1, 2, 3])\n",
    "print(x)\n",
    "print(x + 10)\n",
    "print(3 * x)\n",
    "print(1 / x)\n",
    "print(x ** (-2 / 3))\n",
    "print(2 ** x)"
   ]
  },
  {
   "cell_type": "markdown",
   "metadata": {},
   "source": [
    "Also (and obviously) these symbols can be used to operate between two arrays, which must be of the same shape. If this is the case, they also do element-wise operations"
   ]
  },
  {
   "cell_type": "code",
   "execution_count": 29,
   "metadata": {},
   "outputs": [
    {
     "name": "stdout",
     "output_type": "stream",
     "text": [
      "[5 7 9]\n",
      "[ 4 10 18]\n",
      "[ 0.25  0.4   0.5 ]\n",
      "[  1  32 729]\n"
     ]
    }
   ],
   "source": [
    "y = np.arange(4, 7, 1)\n",
    "print(x + y)     # [1+4, 2+5, 3+6]\n",
    "print(x * y)     # [1*4, 2*5, 3*6]\n",
    "print(x / y)     # [1/4, 2/5, 3/6]\n",
    "print(x ** y)    # [1**4, 2**5, 3**6]"
   ]
  },
  {
   "cell_type": "markdown",
   "metadata": {},
   "source": [
    "For doing vector or matrix multiplication, the command to be used is `dot`"
   ]
  },
  {
   "cell_type": "code",
   "execution_count": 30,
   "metadata": {},
   "outputs": [
    {
     "data": {
      "text/plain": [
       "32"
      ]
     },
     "execution_count": 30,
     "metadata": {},
     "output_type": "execute_result"
    }
   ],
   "source": [
    "x.dot(y) # 1*4 + 2*5 + 3*6"
   ]
  },
  {
   "cell_type": "markdown",
   "metadata": {},
   "source": [
    "With python 3.5 matrix multiplication got it's own operator"
   ]
  },
  {
   "cell_type": "code",
   "execution_count": 31,
   "metadata": {},
   "outputs": [
    {
     "data": {
      "text/plain": [
       "32"
      ]
     },
     "execution_count": 31,
     "metadata": {},
     "output_type": "execute_result"
    }
   ],
   "source": [
    "x@y"
   ]
  },
  {
   "cell_type": "code",
   "execution_count": 32,
   "metadata": {},
   "outputs": [
    {
     "name": "stdout",
     "output_type": "stream",
     "text": [
      "[[3 4 5]\n",
      " [4 5 6]\n",
      " [5 6 7]]\n",
      "\n",
      "[[0 4 0]\n",
      " [0 0 6]\n",
      " [5 0 0]]\n"
     ]
    },
    {
     "data": {
      "text/plain": [
       "array([[5, 3, 4],\n",
       "       [6, 4, 5],\n",
       "       [7, 5, 6]])"
      ]
     },
     "execution_count": 32,
     "metadata": {},
     "output_type": "execute_result"
    }
   ],
   "source": [
    "X = np.array([[i + j for i in range(3, 6)] for j in range(3)])\n",
    "Y = np.diag([1, 1], 1) + np.diag([1], -2)\n",
    "\n",
    "print('{}\\n'.format(X))\n",
    "print(X * Y)\n",
    "np.dot(X, Y)"
   ]
  },
  {
   "cell_type": "markdown",
   "metadata": {},
   "source": [
    "**Exercise 2**: Take a 10x2 matrix representing $(x1,x2)$ coordinates and transform them into polar coordinates $(r,\\theta)$.\n",
    "\n",
    "*Hint 1: the inverse transformation is given by $x1 = r\\cos\\theta$, $x2 = r\\sin\\theta$*\n",
    "\n",
    "*Hint 2: generate random numbers with the functions in numpy.random*"
   ]
  },
  {
   "cell_type": "code",
   "execution_count": 33,
   "metadata": {},
   "outputs": [
    {
     "name": "stdout",
     "output_type": "stream",
     "text": [
      "[ 0.49187787  0.86147824  0.09652313  1.07134449  0.23563597  0.8080187\n",
      "  1.02958228  0.97876822  1.17093622  0.724055  ]\n",
      "[ 1.28205603  0.46005395  1.36401115  0.91389023  1.07227256  0.13162298\n",
      "  0.95084025  1.37842551  0.98868773  0.07887391]\n"
     ]
    }
   ],
   "source": [
    "z = np.random.random((10, 2))\n",
    "x1, x2 = z[:, 0], z[:, 1]\n",
    "R = np.sqrt(x1 ** 2 + x2 ** 2)\n",
    "T = np.arctan2(x2, x1)\n",
    "print(R)\n",
    "print(T)"
   ]
  },
  {
   "cell_type": "markdown",
   "metadata": {},
   "source": [
    "#### Transposing\n",
    "\n",
    "Transposition is a very important operation for linear algebra. Although NumPy is capable of correctly doing matrix-vector products correctly regardless of the orientation of the vector, it is not the case for products of matrices"
   ]
  },
  {
   "cell_type": "code",
   "execution_count": 34,
   "metadata": {
    "collapsed": true
   },
   "outputs": [],
   "source": [
    "Z = np.arange(0, 12, 1).reshape((4, 3))"
   ]
  },
  {
   "cell_type": "code",
   "execution_count": 35,
   "metadata": {},
   "outputs": [
    {
     "data": {
      "text/plain": [
       "array([ 17,  62, 107, 152])"
      ]
     },
     "execution_count": 35,
     "metadata": {},
     "output_type": "execute_result"
    }
   ],
   "source": [
    "np.dot(Z, y)"
   ]
  },
  {
   "cell_type": "code",
   "execution_count": 36,
   "metadata": {},
   "outputs": [
    {
     "data": {
      "text/plain": [
       "array([ 17,  62, 107, 152])"
      ]
     },
     "execution_count": 36,
     "metadata": {},
     "output_type": "execute_result"
    }
   ],
   "source": [
    "np.dot(Z, y.T)"
   ]
  },
  {
   "cell_type": "code",
   "execution_count": 37,
   "metadata": {},
   "outputs": [
    {
     "data": {
      "text/plain": [
       "array([[ 14,  17,  20],\n",
       "       [ 50,  62,  74],\n",
       "       [ 86, 107, 128],\n",
       "       [122, 152, 182]])"
      ]
     },
     "execution_count": 37,
     "metadata": {},
     "output_type": "execute_result"
    }
   ],
   "source": [
    "Z.dot(X)"
   ]
  },
  {
   "cell_type": "code",
   "execution_count": 38,
   "metadata": {},
   "outputs": [
    {
     "ename": "ValueError",
     "evalue": "shapes (3,4) and (3,3) not aligned: 4 (dim 1) != 3 (dim 0)",
     "output_type": "error",
     "traceback": [
      "\u001b[0;31m---------------------------------------------------------------------------\u001b[0m",
      "\u001b[0;31mValueError\u001b[0m                                Traceback (most recent call last)",
      "\u001b[0;32m<ipython-input-38-7da420228c9f>\u001b[0m in \u001b[0;36m<module>\u001b[0;34m()\u001b[0m\n\u001b[0;32m----> 1\u001b[0;31m \u001b[0;34m(\u001b[0m\u001b[0mZ\u001b[0m\u001b[0;34m.\u001b[0m\u001b[0mT\u001b[0m\u001b[0;34m)\u001b[0m\u001b[0;34m.\u001b[0m\u001b[0mdot\u001b[0m\u001b[0;34m(\u001b[0m\u001b[0mX\u001b[0m\u001b[0;34m)\u001b[0m\u001b[0;34m\u001b[0m\u001b[0m\n\u001b[0m",
      "\u001b[0;31mValueError\u001b[0m: shapes (3,4) and (3,3) not aligned: 4 (dim 1) != 3 (dim 0)"
     ]
    }
   ],
   "source": [
    "(Z.T).dot(X)"
   ]
  },
  {
   "cell_type": "markdown",
   "metadata": {},
   "source": [
    "#### Array Methods\n",
    "\n",
    "To not have to go from NumPy arrays to lists back and forth, NumPy contains some functions to know properties of your arrays. Actually, there are more of these functions than in standard Python."
   ]
  },
  {
   "cell_type": "code",
   "execution_count": 39,
   "metadata": {},
   "outputs": [
    {
     "name": "stdout",
     "output_type": "stream",
     "text": [
      "5\n",
      "-4\n",
      "3\n",
      "0.6\n",
      "3.26190128606\n"
     ]
    }
   ],
   "source": [
    "a = np.array([-4, -2, 1, 3, 5])\n",
    "print(a.max())\n",
    "print(a.min())\n",
    "print(a.sum())\n",
    "print(a.mean())\n",
    "print(a.std())"
   ]
  },
  {
   "cell_type": "markdown",
   "metadata": {},
   "source": [
    "Some interesting functions are `argmax` and `argmin`, which return the index of the maximum and minimum values in the array."
   ]
  },
  {
   "cell_type": "code",
   "execution_count": 40,
   "metadata": {},
   "outputs": [
    {
     "name": "stdout",
     "output_type": "stream",
     "text": [
      "4\n",
      "0\n"
     ]
    }
   ],
   "source": [
    "print(a.argmax())\n",
    "print(a.argmin())"
   ]
  },
  {
   "cell_type": "markdown",
   "metadata": {},
   "source": [
    "### Indexing/Slicing\n",
    "\n",
    "We have already seen briefly that to access individual elements you use the bracket notation: `array[ax_0, ax_1, ...]`, where the `ax_i` denotes the coordinate in the `i`-th axis. You can even use this to assign new values to your elements."
   ]
  },
  {
   "cell_type": "code",
   "execution_count": 41,
   "metadata": {},
   "outputs": [
    {
     "name": "stdout",
     "output_type": "stream",
     "text": [
      "6\n"
     ]
    },
    {
     "data": {
      "text/plain": [
       "[198, 5, 6, 7]"
      ]
     },
     "execution_count": 41,
     "metadata": {},
     "output_type": "execute_result"
    }
   ],
   "source": [
    "r = [4, 5, 6, 7]\n",
    "print(r[2])\n",
    "r[0] = 198\n",
    "r"
   ]
  },
  {
   "cell_type": "markdown",
   "metadata": {},
   "source": [
    "To select a range of rows or columns you can use a colon :. A second : can be used to indicate the step size. `array[start:stop:stepsize]`. If you leave `start` (`stop`) blank, the selection will go from the very beginning (until the very end) of the array"
   ]
  },
  {
   "cell_type": "code",
   "execution_count": 42,
   "metadata": {},
   "outputs": [
    {
     "name": "stdout",
     "output_type": "stream",
     "text": [
      "[  0   1   4   9  16  25  36  49  64  81 100 121 144]\n",
      "[ 9 16 25 36 49 64]\n",
      "[ 4 25 64]\n"
     ]
    },
    {
     "data": {
      "text/plain": [
       "array([64, 36, 16,  4,  0])"
      ]
     },
     "execution_count": 42,
     "metadata": {},
     "output_type": "execute_result"
    }
   ],
   "source": [
    "s = np.arange(13)**2\n",
    "print(s)\n",
    "print(s[3:9])\n",
    "print(s[2:10:3])\n",
    "s[-5::-2]"
   ]
  },
  {
   "cell_type": "markdown",
   "metadata": {},
   "source": [
    "The same applies to matrices or higher-dimensional arrays"
   ]
  },
  {
   "cell_type": "code",
   "execution_count": 43,
   "metadata": {},
   "outputs": [
    {
     "data": {
      "text/plain": [
       "array([[ 0,  1,  2,  3,  4,  5],\n",
       "       [ 6,  7,  8,  9, 10, 11],\n",
       "       [12, 13, 14, 15, 16, 17],\n",
       "       [18, 19, 20, 21, 22, 23],\n",
       "       [24, 25, 26, 27, 28, 29],\n",
       "       [30, 31, 32, 33, 34, 35]])"
      ]
     },
     "execution_count": 43,
     "metadata": {},
     "output_type": "execute_result"
    }
   ],
   "source": [
    "r = np.arange(36).reshape((6, 6))\n",
    "r"
   ]
  },
  {
   "cell_type": "code",
   "execution_count": 44,
   "metadata": {},
   "outputs": [
    {
     "data": {
      "text/plain": [
       "array([[13, 14],\n",
       "       [19, 20],\n",
       "       [25, 26]])"
      ]
     },
     "execution_count": 44,
     "metadata": {},
     "output_type": "execute_result"
    }
   ],
   "source": [
    "r[2:5, 1:3]"
   ]
  },
  {
   "cell_type": "markdown",
   "metadata": {},
   "source": [
    "You can also select specific rows and columns, separated by commas"
   ]
  },
  {
   "cell_type": "code",
   "execution_count": 45,
   "metadata": {},
   "outputs": [
    {
     "data": {
      "text/plain": [
       "array([[ 7,  8],\n",
       "       [19, 20],\n",
       "       [25, 26]])"
      ]
     },
     "execution_count": 45,
     "metadata": {},
     "output_type": "execute_result"
    }
   ],
   "source": [
    "r[[1, 3, 4], 1:3]"
   ]
  },
  {
   "cell_type": "markdown",
   "metadata": {},
   "source": [
    "A very useful tool is *conditional indexing*, where we apply a function, assignment... only to those elements of an array that satisfy some condition"
   ]
  },
  {
   "cell_type": "code",
   "execution_count": 46,
   "metadata": {},
   "outputs": [
    {
     "data": {
      "text/plain": [
       "array([[ 0,  1,  2,  3,  4,  5],\n",
       "       [ 6,  7,  8,  9, 10, 11],\n",
       "       [12, 13, 14, 15, 16, 17],\n",
       "       [18, 19, 20, 21, 22, 23],\n",
       "       [24, 25, 26, 27, 28, 29],\n",
       "       [30, 30, 30, 30, 30, 30]])"
      ]
     },
     "execution_count": 46,
     "metadata": {},
     "output_type": "execute_result"
    }
   ],
   "source": [
    "r[r > 30] = 30\n",
    "r"
   ]
  },
  {
   "cell_type": "markdown",
   "metadata": {},
   "source": [
    "**Exercise 3**: Create a random 1-dimensional array, and find which element is closest to 0.7"
   ]
  },
  {
   "cell_type": "code",
   "execution_count": 47,
   "metadata": {},
   "outputs": [
    {
     "name": "stdout",
     "output_type": "stream",
     "text": [
      "0.706215519643\n"
     ]
    }
   ],
   "source": [
    "Z = np.random.uniform(0,1,100)\n",
    "z = 0.7\n",
    "m = Z[np.abs(Z - z).argmin()]\n",
    "print(m)"
   ]
  },
  {
   "cell_type": "markdown",
   "metadata": {},
   "source": [
    "#### Copying Data\n",
    "\n",
    "**Be very careful with copying and modifying arrays in NumPy!** You will see the reason right now. Let's begin defining `r2` as a slice of r"
   ]
  },
  {
   "cell_type": "code",
   "execution_count": 48,
   "metadata": {},
   "outputs": [
    {
     "data": {
      "text/plain": [
       "array([[ 0,  1,  2],\n",
       "       [ 6,  7,  8],\n",
       "       [12, 13, 14]])"
      ]
     },
     "execution_count": 48,
     "metadata": {},
     "output_type": "execute_result"
    }
   ],
   "source": [
    "r2 = r[:3,:3]\n",
    "r2"
   ]
  },
  {
   "cell_type": "markdown",
   "metadata": {},
   "source": [
    "And now let's set all its elements to zero"
   ]
  },
  {
   "cell_type": "code",
   "execution_count": 49,
   "metadata": {},
   "outputs": [
    {
     "data": {
      "text/plain": [
       "array([[0, 0, 0],\n",
       "       [0, 0, 0],\n",
       "       [0, 0, 0]])"
      ]
     },
     "execution_count": 49,
     "metadata": {},
     "output_type": "execute_result"
    }
   ],
   "source": [
    "r2[:] = 0\n",
    "r2"
   ]
  },
  {
   "cell_type": "markdown",
   "metadata": {},
   "source": [
    "When looking at `r`, we see that it has also been changed!"
   ]
  },
  {
   "cell_type": "code",
   "execution_count": 50,
   "metadata": {},
   "outputs": [
    {
     "data": {
      "text/plain": [
       "array([[ 0,  0,  0,  3,  4,  5],\n",
       "       [ 0,  0,  0,  9, 10, 11],\n",
       "       [ 0,  0,  0, 15, 16, 17],\n",
       "       [18, 19, 20, 21, 22, 23],\n",
       "       [24, 25, 26, 27, 28, 29],\n",
       "       [30, 30, 30, 30, 30, 30]])"
      ]
     },
     "execution_count": 50,
     "metadata": {},
     "output_type": "execute_result"
    }
   ],
   "source": [
    "r"
   ]
  },
  {
   "cell_type": "markdown",
   "metadata": {},
   "source": [
    "The proper way of handling selections without modifying the original arrays is through the `copy` command."
   ]
  },
  {
   "cell_type": "code",
   "execution_count": 51,
   "metadata": {},
   "outputs": [
    {
     "data": {
      "text/plain": [
       "array([[ 0,  0,  0,  3,  4,  5],\n",
       "       [ 0,  0,  0,  9, 10, 11],\n",
       "       [ 0,  0,  0, 15, 16, 17],\n",
       "       [18, 19, 20, 21, 22, 23],\n",
       "       [24, 25, 26, 27, 28, 29],\n",
       "       [30, 30, 30, 30, 30, 30]])"
      ]
     },
     "execution_count": 51,
     "metadata": {},
     "output_type": "execute_result"
    }
   ],
   "source": [
    "r_copy = r.copy()\n",
    "r_copy"
   ]
  },
  {
   "cell_type": "markdown",
   "metadata": {},
   "source": [
    "Now we can safely modify `r_copy` without affecting `r`."
   ]
  },
  {
   "cell_type": "code",
   "execution_count": 52,
   "metadata": {},
   "outputs": [
    {
     "name": "stdout",
     "output_type": "stream",
     "text": [
      "[[10 10 10 10 10 10]\n",
      " [10 10 10 10 10 10]\n",
      " [10 10 10 10 10 10]\n",
      " [10 10 10 10 10 10]\n",
      " [10 10 10 10 10 10]\n",
      " [10 10 10 10 10 10]]\n",
      "\n"
     ]
    },
    {
     "data": {
      "text/plain": [
       "array([[ 0,  0,  0,  3,  4,  5],\n",
       "       [ 0,  0,  0,  9, 10, 11],\n",
       "       [ 0,  0,  0, 15, 16, 17],\n",
       "       [18, 19, 20, 21, 22, 23],\n",
       "       [24, 25, 26, 27, 28, 29],\n",
       "       [30, 30, 30, 30, 30, 30]])"
      ]
     },
     "execution_count": 52,
     "metadata": {},
     "output_type": "execute_result"
    }
   ],
   "source": [
    "r_copy[:] = 10\n",
    "print('{}\\n'.format(r_copy))\n",
    "r"
   ]
  },
  {
   "cell_type": "markdown",
   "metadata": {},
   "source": [
    "### Iterating Over Arrays"
   ]
  },
  {
   "cell_type": "markdown",
   "metadata": {},
   "source": [
    "Finally, you can iterate over arrays in the same way as you iterate over lists"
   ]
  },
  {
   "cell_type": "code",
   "execution_count": 53,
   "metadata": {},
   "outputs": [
    {
     "data": {
      "text/plain": [
       "array([[6, 2, 3],\n",
       "       [4, 3, 9],\n",
       "       [7, 1, 7],\n",
       "       [9, 1, 5]])"
      ]
     },
     "execution_count": 53,
     "metadata": {},
     "output_type": "execute_result"
    }
   ],
   "source": [
    "test = np.random.randint(0, 10, (4,3))\n",
    "test"
   ]
  },
  {
   "cell_type": "markdown",
   "metadata": {},
   "source": [
    "You can iterate by row:"
   ]
  },
  {
   "cell_type": "code",
   "execution_count": 54,
   "metadata": {},
   "outputs": [
    {
     "name": "stdout",
     "output_type": "stream",
     "text": [
      "[6 2 3]\n",
      "[4 3 9]\n",
      "[7 1 7]\n",
      "[9 1 5]\n"
     ]
    }
   ],
   "source": [
    "for row in test:\n",
    "    print(row)"
   ]
  },
  {
   "cell_type": "markdown",
   "metadata": {},
   "source": [
    "Or by row index"
   ]
  },
  {
   "cell_type": "code",
   "execution_count": 55,
   "metadata": {},
   "outputs": [
    {
     "name": "stdout",
     "output_type": "stream",
     "text": [
      "[6 2 3]\n",
      "[4 3 9]\n",
      "[7 1 7]\n",
      "[9 1 5]\n"
     ]
    }
   ],
   "source": [
    "for i in range(len(test)):\n",
    "    print(test[i])"
   ]
  },
  {
   "cell_type": "markdown",
   "metadata": {},
   "source": [
    "Or by row and index:"
   ]
  },
  {
   "cell_type": "code",
   "execution_count": 56,
   "metadata": {},
   "outputs": [
    {
     "name": "stdout",
     "output_type": "stream",
     "text": [
      "Row 0 is [6 2 3]\n",
      "Row 1 is [4 3 9]\n",
      "Row 2 is [7 1 7]\n",
      "Row 3 is [9 1 5]\n"
     ]
    }
   ],
   "source": [
    "for i, row in enumerate(test):\n",
    "    print('Row {} is {}'.format(i, row))"
   ]
  },
  {
   "cell_type": "markdown",
   "metadata": {},
   "source": [
    "In the same way as with lists, you can use `zip` to iterate over multiple iterables."
   ]
  },
  {
   "cell_type": "code",
   "execution_count": 57,
   "metadata": {},
   "outputs": [
    {
     "data": {
      "text/plain": [
       "array([[36,  4,  9],\n",
       "       [16,  9, 81],\n",
       "       [49,  1, 49],\n",
       "       [81,  1, 25]])"
      ]
     },
     "execution_count": 57,
     "metadata": {},
     "output_type": "execute_result"
    }
   ],
   "source": [
    "test2 = test**2\n",
    "test2"
   ]
  },
  {
   "cell_type": "code",
   "execution_count": 58,
   "metadata": {
    "scrolled": true
   },
   "outputs": [
    {
     "name": "stdout",
     "output_type": "stream",
     "text": [
      "[6 2 3] + [36  4  9] = [42  6 12]\n",
      "[4 3 9] + [16  9 81] = [20 12 90]\n",
      "[7 1 7] + [49  1 49] = [56  2 56]\n",
      "[9 1 5] + [81  1 25] = [90  2 30]\n"
     ]
    }
   ],
   "source": [
    "for i, j in zip(test, test2):\n",
    "    print('{} + {} = {}'.format(i, j, i + j))"
   ]
  },
  {
   "cell_type": "markdown",
   "metadata": {},
   "source": [
    "**Exercise 4**: Create a function that iterates over the columns of a 2-dimensional array"
   ]
  },
  {
   "cell_type": "code",
   "execution_count": 59,
   "metadata": {},
   "outputs": [
    {
     "name": "stdout",
     "output_type": "stream",
     "text": [
      "Column 0 is [[6]\n",
      " [4]\n",
      " [7]\n",
      " [9]]\n",
      "Column 1 is [[2]\n",
      " [3]\n",
      " [1]\n",
      " [1]]\n",
      "Column 2 is [[3]\n",
      " [9]\n",
      " [7]\n",
      " [5]]\n"
     ]
    }
   ],
   "source": [
    "def iterate(df):\n",
    "    for i, row in enumerate(df):\n",
    "        shp = row.shape\n",
    "        row.shape = shp + (1,)\n",
    "        print('Column {} is {}'.format(i, row))\n",
    "\n",
    "iterate(test.T)"
   ]
  },
  {
   "cell_type": "markdown",
   "metadata": {},
   "source": [
    "### Loading and Saving Data\n",
    "\n",
    "To load and save data NumPy has the `loadtxt` and `savetxt` commands. However, they only work for two-dimensional arrays"
   ]
  },
  {
   "cell_type": "code",
   "execution_count": 60,
   "metadata": {},
   "outputs": [
    {
     "data": {
      "text/plain": [
       "array([[ 6.,  2.,  3.],\n",
       "       [ 4.,  3.,  9.],\n",
       "       [ 7.,  1.,  7.],\n",
       "       [ 9.,  1.,  5.]])"
      ]
     },
     "execution_count": 60,
     "metadata": {},
     "output_type": "execute_result"
    }
   ],
   "source": [
    "np.savetxt('numpytest.txt', test)\n",
    "np.loadtxt('numpytest.txt')"
   ]
  },
  {
   "cell_type": "markdown",
   "metadata": {},
   "source": [
    "## Pandas\n",
    "\n",
    "When dealing with numeric matrices and vectors in Python, NumPy makes life a lot easier. For more complex data, however, it leaves a bit to be desired. For those used to working with dedicated languages like R, doing data analysis directly with numpy feels like a step back. Fortunately, some nice folks have written the Python Data Analysis Library (a.k.a. [pandas](http://pandas.pydata.org/)). Pandas provides an R-like DataFrame, produces high quality plots with matplotlib, and integrates nicely with other libraries that expect NumPy arrays.\n",
    "\n",
    "Pandas works with `Series` of data, that then are arranged in `DataFrame`s. A dataframe will be the object closest to an Excel spreadsheet that you will see throughout the course (but of course, given that it is integrated in Python and can be combined with so many different packages, dataframes are much more powerful than Excel spreadsheets). The data in the series can be either qualitative or quantitative data. Creating a series is as easy as creating a NumPy array from a one-dimensional list."
   ]
  },
  {
   "cell_type": "code",
   "execution_count": 61,
   "metadata": {},
   "outputs": [
    {
     "data": {
      "text/plain": [
       "0    Tiger\n",
       "1     Bear\n",
       "2    Moose\n",
       "dtype: object"
      ]
     },
     "execution_count": 61,
     "metadata": {},
     "output_type": "execute_result"
    }
   ],
   "source": [
    "animals = ['Tiger', 'Bear', 'Moose']\n",
    "pd.Series(animals)"
   ]
  },
  {
   "cell_type": "code",
   "execution_count": 62,
   "metadata": {},
   "outputs": [
    {
     "data": {
      "text/plain": [
       "0    1\n",
       "1    2\n",
       "2    3\n",
       "dtype: int64"
      ]
     },
     "execution_count": 62,
     "metadata": {},
     "output_type": "execute_result"
    }
   ],
   "source": [
    "numbers = [1, 2, 3]\n",
    "pd.Series(numbers)"
   ]
  },
  {
   "cell_type": "markdown",
   "metadata": {},
   "source": [
    "Notice that the series is indexed by default by integers. You can change this indexing by using a dictionary instead of a list for creating the series."
   ]
  },
  {
   "cell_type": "code",
   "execution_count": 63,
   "metadata": {},
   "outputs": [
    {
     "data": {
      "text/plain": [
       "Archery           Bhutan\n",
       "Golf            Scotland\n",
       "Sumo               Japan\n",
       "Taekwondo    South Korea\n",
       "dtype: object"
      ]
     },
     "execution_count": 63,
     "metadata": {},
     "output_type": "execute_result"
    }
   ],
   "source": [
    "sports = {'Archery': 'Bhutan',\n",
    "          'Golf': 'Scotland',\n",
    "          'Sumo': 'Japan',\n",
    "          'Taekwondo': 'South Korea'}\n",
    "s = pd.Series(sports)\n",
    "s"
   ]
  },
  {
   "cell_type": "markdown",
   "metadata": {},
   "source": [
    "On the other hand, `DataFrame`s can be built from two-dimensional arrays, with the ability of labelling columns and indexing the rows"
   ]
  },
  {
   "cell_type": "code",
   "execution_count": 64,
   "metadata": {},
   "outputs": [
    {
     "data": {
      "text/html": [
       "<div>\n",
       "<style>\n",
       "    .dataframe thead tr:only-child th {\n",
       "        text-align: right;\n",
       "    }\n",
       "\n",
       "    .dataframe thead th {\n",
       "        text-align: left;\n",
       "    }\n",
       "\n",
       "    .dataframe tbody tr th {\n",
       "        vertical-align: top;\n",
       "    }\n",
       "</style>\n",
       "<table border=\"1\" class=\"dataframe\">\n",
       "  <thead>\n",
       "    <tr style=\"text-align: right;\">\n",
       "      <th></th>\n",
       "      <th>A</th>\n",
       "      <th>B</th>\n",
       "      <th>C</th>\n",
       "      <th>D</th>\n",
       "      <th>E</th>\n",
       "      <th>F</th>\n",
       "    </tr>\n",
       "  </thead>\n",
       "  <tbody>\n",
       "    <tr>\n",
       "      <th>0</th>\n",
       "      <td>-0.486390</td>\n",
       "      <td>1.006064</td>\n",
       "      <td>0.321450</td>\n",
       "      <td>0.539001</td>\n",
       "      <td>0.967269</td>\n",
       "      <td>0.826700</td>\n",
       "    </tr>\n",
       "    <tr>\n",
       "      <th>3</th>\n",
       "      <td>2.400124</td>\n",
       "      <td>0.357823</td>\n",
       "      <td>0.400378</td>\n",
       "      <td>1.625708</td>\n",
       "      <td>0.272849</td>\n",
       "      <td>-0.415272</td>\n",
       "    </tr>\n",
       "    <tr>\n",
       "      <th>6</th>\n",
       "      <td>-0.485364</td>\n",
       "      <td>0.058415</td>\n",
       "      <td>-0.289454</td>\n",
       "      <td>1.695473</td>\n",
       "      <td>-0.519594</td>\n",
       "      <td>-0.116215</td>\n",
       "    </tr>\n",
       "    <tr>\n",
       "      <th>9</th>\n",
       "      <td>0.126916</td>\n",
       "      <td>1.599085</td>\n",
       "      <td>1.027031</td>\n",
       "      <td>-0.966302</td>\n",
       "      <td>-0.312185</td>\n",
       "      <td>-1.000940</td>\n",
       "    </tr>\n",
       "    <tr>\n",
       "      <th>12</th>\n",
       "      <td>1.656042</td>\n",
       "      <td>0.746992</td>\n",
       "      <td>0.581831</td>\n",
       "      <td>-0.269498</td>\n",
       "      <td>-0.885463</td>\n",
       "      <td>-1.678499</td>\n",
       "    </tr>\n",
       "    <tr>\n",
       "      <th>15</th>\n",
       "      <td>-0.599577</td>\n",
       "      <td>1.150801</td>\n",
       "      <td>-1.374039</td>\n",
       "      <td>-2.478844</td>\n",
       "      <td>0.375244</td>\n",
       "      <td>-1.147043</td>\n",
       "    </tr>\n",
       "    <tr>\n",
       "      <th>18</th>\n",
       "      <td>-0.912522</td>\n",
       "      <td>0.355907</td>\n",
       "      <td>-1.080131</td>\n",
       "      <td>-1.374392</td>\n",
       "      <td>-0.733674</td>\n",
       "      <td>-0.442884</td>\n",
       "    </tr>\n",
       "    <tr>\n",
       "      <th>21</th>\n",
       "      <td>-0.875569</td>\n",
       "      <td>-0.473255</td>\n",
       "      <td>-0.547435</td>\n",
       "      <td>0.793215</td>\n",
       "      <td>-0.107531</td>\n",
       "      <td>0.862464</td>\n",
       "    </tr>\n",
       "    <tr>\n",
       "      <th>24</th>\n",
       "      <td>1.533748</td>\n",
       "      <td>1.179712</td>\n",
       "      <td>-1.677763</td>\n",
       "      <td>-0.471846</td>\n",
       "      <td>-0.897669</td>\n",
       "      <td>-0.454207</td>\n",
       "    </tr>\n",
       "    <tr>\n",
       "      <th>27</th>\n",
       "      <td>-0.051302</td>\n",
       "      <td>2.127357</td>\n",
       "      <td>0.801260</td>\n",
       "      <td>-1.002258</td>\n",
       "      <td>0.856915</td>\n",
       "      <td>-0.278422</td>\n",
       "    </tr>\n",
       "    <tr>\n",
       "      <th>30</th>\n",
       "      <td>0.890435</td>\n",
       "      <td>-0.629608</td>\n",
       "      <td>-0.538587</td>\n",
       "      <td>0.151643</td>\n",
       "      <td>0.078088</td>\n",
       "      <td>-0.671726</td>\n",
       "    </tr>\n",
       "    <tr>\n",
       "      <th>33</th>\n",
       "      <td>0.898467</td>\n",
       "      <td>1.372391</td>\n",
       "      <td>0.844704</td>\n",
       "      <td>-1.623268</td>\n",
       "      <td>-0.143715</td>\n",
       "      <td>-0.030636</td>\n",
       "    </tr>\n",
       "    <tr>\n",
       "      <th>36</th>\n",
       "      <td>0.968105</td>\n",
       "      <td>1.209681</td>\n",
       "      <td>-1.024959</td>\n",
       "      <td>2.014902</td>\n",
       "      <td>-0.837118</td>\n",
       "      <td>1.971436</td>\n",
       "    </tr>\n",
       "    <tr>\n",
       "      <th>39</th>\n",
       "      <td>0.752046</td>\n",
       "      <td>-1.135508</td>\n",
       "      <td>-1.143866</td>\n",
       "      <td>-1.158633</td>\n",
       "      <td>0.041458</td>\n",
       "      <td>1.400493</td>\n",
       "    </tr>\n",
       "    <tr>\n",
       "      <th>42</th>\n",
       "      <td>0.807033</td>\n",
       "      <td>0.264685</td>\n",
       "      <td>0.529943</td>\n",
       "      <td>0.385121</td>\n",
       "      <td>-1.476369</td>\n",
       "      <td>-0.989553</td>\n",
       "    </tr>\n",
       "    <tr>\n",
       "      <th>45</th>\n",
       "      <td>-0.968112</td>\n",
       "      <td>0.838967</td>\n",
       "      <td>-0.525675</td>\n",
       "      <td>0.037711</td>\n",
       "      <td>0.739999</td>\n",
       "      <td>0.387780</td>\n",
       "    </tr>\n",
       "    <tr>\n",
       "      <th>48</th>\n",
       "      <td>-0.004151</td>\n",
       "      <td>0.929277</td>\n",
       "      <td>0.354432</td>\n",
       "      <td>1.369246</td>\n",
       "      <td>1.645019</td>\n",
       "      <td>1.615283</td>\n",
       "    </tr>\n",
       "    <tr>\n",
       "      <th>51</th>\n",
       "      <td>2.791861</td>\n",
       "      <td>0.018670</td>\n",
       "      <td>-1.053684</td>\n",
       "      <td>0.497809</td>\n",
       "      <td>1.744013</td>\n",
       "      <td>-0.944426</td>\n",
       "    </tr>\n",
       "    <tr>\n",
       "      <th>54</th>\n",
       "      <td>0.421063</td>\n",
       "      <td>1.586485</td>\n",
       "      <td>1.210293</td>\n",
       "      <td>0.635509</td>\n",
       "      <td>0.902434</td>\n",
       "      <td>-0.895842</td>\n",
       "    </tr>\n",
       "    <tr>\n",
       "      <th>57</th>\n",
       "      <td>0.544965</td>\n",
       "      <td>-0.510496</td>\n",
       "      <td>0.076188</td>\n",
       "      <td>0.230262</td>\n",
       "      <td>1.613266</td>\n",
       "      <td>-1.164069</td>\n",
       "    </tr>\n",
       "    <tr>\n",
       "      <th>60</th>\n",
       "      <td>0.014930</td>\n",
       "      <td>0.397993</td>\n",
       "      <td>0.224944</td>\n",
       "      <td>-1.509285</td>\n",
       "      <td>0.940167</td>\n",
       "      <td>1.365971</td>\n",
       "    </tr>\n",
       "    <tr>\n",
       "      <th>63</th>\n",
       "      <td>0.219509</td>\n",
       "      <td>0.505074</td>\n",
       "      <td>-0.100002</td>\n",
       "      <td>1.792895</td>\n",
       "      <td>0.225734</td>\n",
       "      <td>-1.272991</td>\n",
       "    </tr>\n",
       "    <tr>\n",
       "      <th>66</th>\n",
       "      <td>1.787977</td>\n",
       "      <td>-1.535172</td>\n",
       "      <td>1.218502</td>\n",
       "      <td>-0.965560</td>\n",
       "      <td>0.337063</td>\n",
       "      <td>0.285236</td>\n",
       "    </tr>\n",
       "    <tr>\n",
       "      <th>69</th>\n",
       "      <td>1.200903</td>\n",
       "      <td>-1.594836</td>\n",
       "      <td>0.334670</td>\n",
       "      <td>0.488374</td>\n",
       "      <td>0.880156</td>\n",
       "      <td>0.646622</td>\n",
       "    </tr>\n",
       "    <tr>\n",
       "      <th>72</th>\n",
       "      <td>-0.858045</td>\n",
       "      <td>-0.885338</td>\n",
       "      <td>-0.219164</td>\n",
       "      <td>2.018379</td>\n",
       "      <td>1.082300</td>\n",
       "      <td>-0.168884</td>\n",
       "    </tr>\n",
       "    <tr>\n",
       "      <th>75</th>\n",
       "      <td>0.141045</td>\n",
       "      <td>1.318812</td>\n",
       "      <td>-0.451973</td>\n",
       "      <td>2.118345</td>\n",
       "      <td>-0.776782</td>\n",
       "      <td>0.430845</td>\n",
       "    </tr>\n",
       "    <tr>\n",
       "      <th>78</th>\n",
       "      <td>-0.434456</td>\n",
       "      <td>0.859744</td>\n",
       "      <td>-0.267306</td>\n",
       "      <td>-0.250474</td>\n",
       "      <td>1.284816</td>\n",
       "      <td>0.139293</td>\n",
       "    </tr>\n",
       "    <tr>\n",
       "      <th>81</th>\n",
       "      <td>-0.471995</td>\n",
       "      <td>0.461743</td>\n",
       "      <td>-0.933235</td>\n",
       "      <td>1.086010</td>\n",
       "      <td>1.156255</td>\n",
       "      <td>0.011029</td>\n",
       "    </tr>\n",
       "    <tr>\n",
       "      <th>84</th>\n",
       "      <td>0.338068</td>\n",
       "      <td>0.569003</td>\n",
       "      <td>0.475323</td>\n",
       "      <td>0.132249</td>\n",
       "      <td>-0.928181</td>\n",
       "      <td>-0.219376</td>\n",
       "    </tr>\n",
       "    <tr>\n",
       "      <th>87</th>\n",
       "      <td>-1.341857</td>\n",
       "      <td>-0.174481</td>\n",
       "      <td>-1.916150</td>\n",
       "      <td>1.251773</td>\n",
       "      <td>2.121511</td>\n",
       "      <td>-1.343819</td>\n",
       "    </tr>\n",
       "    <tr>\n",
       "      <th>...</th>\n",
       "      <td>...</td>\n",
       "      <td>...</td>\n",
       "      <td>...</td>\n",
       "      <td>...</td>\n",
       "      <td>...</td>\n",
       "      <td>...</td>\n",
       "    </tr>\n",
       "    <tr>\n",
       "      <th>2910</th>\n",
       "      <td>-0.103908</td>\n",
       "      <td>0.172065</td>\n",
       "      <td>0.865109</td>\n",
       "      <td>0.570274</td>\n",
       "      <td>-0.794574</td>\n",
       "      <td>-0.721609</td>\n",
       "    </tr>\n",
       "    <tr>\n",
       "      <th>2913</th>\n",
       "      <td>1.941453</td>\n",
       "      <td>-0.172584</td>\n",
       "      <td>0.819111</td>\n",
       "      <td>-1.518545</td>\n",
       "      <td>-0.971808</td>\n",
       "      <td>1.140873</td>\n",
       "    </tr>\n",
       "    <tr>\n",
       "      <th>2916</th>\n",
       "      <td>-1.002884</td>\n",
       "      <td>2.646222</td>\n",
       "      <td>1.682343</td>\n",
       "      <td>0.719269</td>\n",
       "      <td>-0.348128</td>\n",
       "      <td>0.110747</td>\n",
       "    </tr>\n",
       "    <tr>\n",
       "      <th>2919</th>\n",
       "      <td>0.128021</td>\n",
       "      <td>1.334755</td>\n",
       "      <td>-0.085092</td>\n",
       "      <td>0.474602</td>\n",
       "      <td>-0.493769</td>\n",
       "      <td>0.107727</td>\n",
       "    </tr>\n",
       "    <tr>\n",
       "      <th>2922</th>\n",
       "      <td>-0.875423</td>\n",
       "      <td>0.460520</td>\n",
       "      <td>-0.779785</td>\n",
       "      <td>0.284604</td>\n",
       "      <td>0.858395</td>\n",
       "      <td>-0.322807</td>\n",
       "    </tr>\n",
       "    <tr>\n",
       "      <th>2925</th>\n",
       "      <td>-0.357314</td>\n",
       "      <td>-0.957049</td>\n",
       "      <td>-1.728277</td>\n",
       "      <td>0.314301</td>\n",
       "      <td>1.496883</td>\n",
       "      <td>0.680951</td>\n",
       "    </tr>\n",
       "    <tr>\n",
       "      <th>2928</th>\n",
       "      <td>0.571785</td>\n",
       "      <td>0.712115</td>\n",
       "      <td>-0.953699</td>\n",
       "      <td>-0.217702</td>\n",
       "      <td>0.736807</td>\n",
       "      <td>1.118588</td>\n",
       "    </tr>\n",
       "    <tr>\n",
       "      <th>2931</th>\n",
       "      <td>-1.123076</td>\n",
       "      <td>-0.746646</td>\n",
       "      <td>-1.233317</td>\n",
       "      <td>-1.524507</td>\n",
       "      <td>0.771299</td>\n",
       "      <td>-0.463037</td>\n",
       "    </tr>\n",
       "    <tr>\n",
       "      <th>2934</th>\n",
       "      <td>-0.164677</td>\n",
       "      <td>-0.956259</td>\n",
       "      <td>-0.413584</td>\n",
       "      <td>-0.136122</td>\n",
       "      <td>0.285828</td>\n",
       "      <td>0.622753</td>\n",
       "    </tr>\n",
       "    <tr>\n",
       "      <th>2937</th>\n",
       "      <td>-0.783937</td>\n",
       "      <td>0.011081</td>\n",
       "      <td>-0.380387</td>\n",
       "      <td>-1.897177</td>\n",
       "      <td>0.672644</td>\n",
       "      <td>0.255565</td>\n",
       "    </tr>\n",
       "    <tr>\n",
       "      <th>2940</th>\n",
       "      <td>0.302601</td>\n",
       "      <td>-1.203350</td>\n",
       "      <td>-0.348406</td>\n",
       "      <td>1.572813</td>\n",
       "      <td>1.718035</td>\n",
       "      <td>1.833360</td>\n",
       "    </tr>\n",
       "    <tr>\n",
       "      <th>2943</th>\n",
       "      <td>-0.165133</td>\n",
       "      <td>1.164564</td>\n",
       "      <td>1.274052</td>\n",
       "      <td>-0.225683</td>\n",
       "      <td>-0.074910</td>\n",
       "      <td>-0.017333</td>\n",
       "    </tr>\n",
       "    <tr>\n",
       "      <th>2946</th>\n",
       "      <td>-0.180485</td>\n",
       "      <td>-0.328879</td>\n",
       "      <td>-2.020654</td>\n",
       "      <td>0.049166</td>\n",
       "      <td>1.354548</td>\n",
       "      <td>-0.812376</td>\n",
       "    </tr>\n",
       "    <tr>\n",
       "      <th>2949</th>\n",
       "      <td>-1.805850</td>\n",
       "      <td>-0.029158</td>\n",
       "      <td>0.984106</td>\n",
       "      <td>-0.601257</td>\n",
       "      <td>0.159671</td>\n",
       "      <td>-0.087560</td>\n",
       "    </tr>\n",
       "    <tr>\n",
       "      <th>2952</th>\n",
       "      <td>-0.871729</td>\n",
       "      <td>-0.869082</td>\n",
       "      <td>-0.097081</td>\n",
       "      <td>-0.098217</td>\n",
       "      <td>0.144713</td>\n",
       "      <td>0.177416</td>\n",
       "    </tr>\n",
       "    <tr>\n",
       "      <th>2955</th>\n",
       "      <td>0.304855</td>\n",
       "      <td>-0.730931</td>\n",
       "      <td>0.385327</td>\n",
       "      <td>0.511779</td>\n",
       "      <td>0.322430</td>\n",
       "      <td>0.044808</td>\n",
       "    </tr>\n",
       "    <tr>\n",
       "      <th>2958</th>\n",
       "      <td>-0.731189</td>\n",
       "      <td>0.209960</td>\n",
       "      <td>0.479687</td>\n",
       "      <td>0.831041</td>\n",
       "      <td>-0.358416</td>\n",
       "      <td>-0.288705</td>\n",
       "    </tr>\n",
       "    <tr>\n",
       "      <th>2961</th>\n",
       "      <td>-0.449455</td>\n",
       "      <td>-1.543244</td>\n",
       "      <td>-1.839800</td>\n",
       "      <td>-0.901192</td>\n",
       "      <td>-0.577996</td>\n",
       "      <td>-0.466067</td>\n",
       "    </tr>\n",
       "    <tr>\n",
       "      <th>2964</th>\n",
       "      <td>-1.545436</td>\n",
       "      <td>-0.005503</td>\n",
       "      <td>-0.941426</td>\n",
       "      <td>0.091104</td>\n",
       "      <td>-0.733067</td>\n",
       "      <td>0.833001</td>\n",
       "    </tr>\n",
       "    <tr>\n",
       "      <th>2967</th>\n",
       "      <td>-0.103569</td>\n",
       "      <td>1.004182</td>\n",
       "      <td>1.423020</td>\n",
       "      <td>-1.106816</td>\n",
       "      <td>-0.491260</td>\n",
       "      <td>0.758803</td>\n",
       "    </tr>\n",
       "    <tr>\n",
       "      <th>2970</th>\n",
       "      <td>-0.953438</td>\n",
       "      <td>-0.595328</td>\n",
       "      <td>0.810105</td>\n",
       "      <td>0.281188</td>\n",
       "      <td>-0.441127</td>\n",
       "      <td>-0.077448</td>\n",
       "    </tr>\n",
       "    <tr>\n",
       "      <th>2973</th>\n",
       "      <td>-2.824601</td>\n",
       "      <td>-0.484782</td>\n",
       "      <td>-0.110566</td>\n",
       "      <td>1.300086</td>\n",
       "      <td>-0.078114</td>\n",
       "      <td>0.006849</td>\n",
       "    </tr>\n",
       "    <tr>\n",
       "      <th>2976</th>\n",
       "      <td>1.121195</td>\n",
       "      <td>0.130817</td>\n",
       "      <td>-1.094877</td>\n",
       "      <td>0.222777</td>\n",
       "      <td>-0.292675</td>\n",
       "      <td>-1.336767</td>\n",
       "    </tr>\n",
       "    <tr>\n",
       "      <th>2979</th>\n",
       "      <td>2.024362</td>\n",
       "      <td>1.572801</td>\n",
       "      <td>1.819986</td>\n",
       "      <td>-0.799127</td>\n",
       "      <td>0.277014</td>\n",
       "      <td>0.025134</td>\n",
       "    </tr>\n",
       "    <tr>\n",
       "      <th>2982</th>\n",
       "      <td>0.599294</td>\n",
       "      <td>1.025102</td>\n",
       "      <td>-1.433774</td>\n",
       "      <td>-3.430698</td>\n",
       "      <td>0.610022</td>\n",
       "      <td>0.375678</td>\n",
       "    </tr>\n",
       "    <tr>\n",
       "      <th>2985</th>\n",
       "      <td>-0.049410</td>\n",
       "      <td>-0.421436</td>\n",
       "      <td>-0.118905</td>\n",
       "      <td>0.845203</td>\n",
       "      <td>0.424697</td>\n",
       "      <td>0.591122</td>\n",
       "    </tr>\n",
       "    <tr>\n",
       "      <th>2988</th>\n",
       "      <td>0.385888</td>\n",
       "      <td>-0.141475</td>\n",
       "      <td>0.282936</td>\n",
       "      <td>-0.553130</td>\n",
       "      <td>0.087001</td>\n",
       "      <td>0.146126</td>\n",
       "    </tr>\n",
       "    <tr>\n",
       "      <th>2991</th>\n",
       "      <td>-0.051031</td>\n",
       "      <td>-0.339346</td>\n",
       "      <td>-1.124901</td>\n",
       "      <td>0.120227</td>\n",
       "      <td>-0.086591</td>\n",
       "      <td>0.109190</td>\n",
       "    </tr>\n",
       "    <tr>\n",
       "      <th>2994</th>\n",
       "      <td>-0.150851</td>\n",
       "      <td>0.171049</td>\n",
       "      <td>0.301247</td>\n",
       "      <td>0.653709</td>\n",
       "      <td>0.049595</td>\n",
       "      <td>1.170720</td>\n",
       "    </tr>\n",
       "    <tr>\n",
       "      <th>2997</th>\n",
       "      <td>-1.529875</td>\n",
       "      <td>-1.813296</td>\n",
       "      <td>-1.989128</td>\n",
       "      <td>1.279956</td>\n",
       "      <td>-0.511653</td>\n",
       "      <td>1.587069</td>\n",
       "    </tr>\n",
       "  </tbody>\n",
       "</table>\n",
       "<p>1000 rows × 6 columns</p>\n",
       "</div>"
      ],
      "text/plain": [
       "             A         B         C         D         E         F\n",
       "0    -0.486390  1.006064  0.321450  0.539001  0.967269  0.826700\n",
       "3     2.400124  0.357823  0.400378  1.625708  0.272849 -0.415272\n",
       "6    -0.485364  0.058415 -0.289454  1.695473 -0.519594 -0.116215\n",
       "9     0.126916  1.599085  1.027031 -0.966302 -0.312185 -1.000940\n",
       "12    1.656042  0.746992  0.581831 -0.269498 -0.885463 -1.678499\n",
       "15   -0.599577  1.150801 -1.374039 -2.478844  0.375244 -1.147043\n",
       "18   -0.912522  0.355907 -1.080131 -1.374392 -0.733674 -0.442884\n",
       "21   -0.875569 -0.473255 -0.547435  0.793215 -0.107531  0.862464\n",
       "24    1.533748  1.179712 -1.677763 -0.471846 -0.897669 -0.454207\n",
       "27   -0.051302  2.127357  0.801260 -1.002258  0.856915 -0.278422\n",
       "30    0.890435 -0.629608 -0.538587  0.151643  0.078088 -0.671726\n",
       "33    0.898467  1.372391  0.844704 -1.623268 -0.143715 -0.030636\n",
       "36    0.968105  1.209681 -1.024959  2.014902 -0.837118  1.971436\n",
       "39    0.752046 -1.135508 -1.143866 -1.158633  0.041458  1.400493\n",
       "42    0.807033  0.264685  0.529943  0.385121 -1.476369 -0.989553\n",
       "45   -0.968112  0.838967 -0.525675  0.037711  0.739999  0.387780\n",
       "48   -0.004151  0.929277  0.354432  1.369246  1.645019  1.615283\n",
       "51    2.791861  0.018670 -1.053684  0.497809  1.744013 -0.944426\n",
       "54    0.421063  1.586485  1.210293  0.635509  0.902434 -0.895842\n",
       "57    0.544965 -0.510496  0.076188  0.230262  1.613266 -1.164069\n",
       "60    0.014930  0.397993  0.224944 -1.509285  0.940167  1.365971\n",
       "63    0.219509  0.505074 -0.100002  1.792895  0.225734 -1.272991\n",
       "66    1.787977 -1.535172  1.218502 -0.965560  0.337063  0.285236\n",
       "69    1.200903 -1.594836  0.334670  0.488374  0.880156  0.646622\n",
       "72   -0.858045 -0.885338 -0.219164  2.018379  1.082300 -0.168884\n",
       "75    0.141045  1.318812 -0.451973  2.118345 -0.776782  0.430845\n",
       "78   -0.434456  0.859744 -0.267306 -0.250474  1.284816  0.139293\n",
       "81   -0.471995  0.461743 -0.933235  1.086010  1.156255  0.011029\n",
       "84    0.338068  0.569003  0.475323  0.132249 -0.928181 -0.219376\n",
       "87   -1.341857 -0.174481 -1.916150  1.251773  2.121511 -1.343819\n",
       "...        ...       ...       ...       ...       ...       ...\n",
       "2910 -0.103908  0.172065  0.865109  0.570274 -0.794574 -0.721609\n",
       "2913  1.941453 -0.172584  0.819111 -1.518545 -0.971808  1.140873\n",
       "2916 -1.002884  2.646222  1.682343  0.719269 -0.348128  0.110747\n",
       "2919  0.128021  1.334755 -0.085092  0.474602 -0.493769  0.107727\n",
       "2922 -0.875423  0.460520 -0.779785  0.284604  0.858395 -0.322807\n",
       "2925 -0.357314 -0.957049 -1.728277  0.314301  1.496883  0.680951\n",
       "2928  0.571785  0.712115 -0.953699 -0.217702  0.736807  1.118588\n",
       "2931 -1.123076 -0.746646 -1.233317 -1.524507  0.771299 -0.463037\n",
       "2934 -0.164677 -0.956259 -0.413584 -0.136122  0.285828  0.622753\n",
       "2937 -0.783937  0.011081 -0.380387 -1.897177  0.672644  0.255565\n",
       "2940  0.302601 -1.203350 -0.348406  1.572813  1.718035  1.833360\n",
       "2943 -0.165133  1.164564  1.274052 -0.225683 -0.074910 -0.017333\n",
       "2946 -0.180485 -0.328879 -2.020654  0.049166  1.354548 -0.812376\n",
       "2949 -1.805850 -0.029158  0.984106 -0.601257  0.159671 -0.087560\n",
       "2952 -0.871729 -0.869082 -0.097081 -0.098217  0.144713  0.177416\n",
       "2955  0.304855 -0.730931  0.385327  0.511779  0.322430  0.044808\n",
       "2958 -0.731189  0.209960  0.479687  0.831041 -0.358416 -0.288705\n",
       "2961 -0.449455 -1.543244 -1.839800 -0.901192 -0.577996 -0.466067\n",
       "2964 -1.545436 -0.005503 -0.941426  0.091104 -0.733067  0.833001\n",
       "2967 -0.103569  1.004182  1.423020 -1.106816 -0.491260  0.758803\n",
       "2970 -0.953438 -0.595328  0.810105  0.281188 -0.441127 -0.077448\n",
       "2973 -2.824601 -0.484782 -0.110566  1.300086 -0.078114  0.006849\n",
       "2976  1.121195  0.130817 -1.094877  0.222777 -0.292675 -1.336767\n",
       "2979  2.024362  1.572801  1.819986 -0.799127  0.277014  0.025134\n",
       "2982  0.599294  1.025102 -1.433774 -3.430698  0.610022  0.375678\n",
       "2985 -0.049410 -0.421436 -0.118905  0.845203  0.424697  0.591122\n",
       "2988  0.385888 -0.141475  0.282936 -0.553130  0.087001  0.146126\n",
       "2991 -0.051031 -0.339346 -1.124901  0.120227 -0.086591  0.109190\n",
       "2994 -0.150851  0.171049  0.301247  0.653709  0.049595  1.170720\n",
       "2997 -1.529875 -1.813296 -1.989128  1.279956 -0.511653  1.587069\n",
       "\n",
       "[1000 rows x 6 columns]"
      ]
     },
     "execution_count": 64,
     "metadata": {},
     "output_type": "execute_result"
    }
   ],
   "source": [
    "u = pd.DataFrame(np.random.randn(1000,6), index=np.arange(0, 3000, 3), columns=['A', 'B', 'C', 'D', 'E', 'F'])\n",
    "u"
   ]
  },
  {
   "cell_type": "markdown",
   "metadata": {},
   "source": [
    "As you might have noticed, it is a bit ugly to deal with large dataframes. There are however some functions that allows to have an idea of the data in a frame."
   ]
  },
  {
   "cell_type": "code",
   "execution_count": 65,
   "metadata": {},
   "outputs": [
    {
     "data": {
      "text/html": [
       "<div>\n",
       "<style>\n",
       "    .dataframe thead tr:only-child th {\n",
       "        text-align: right;\n",
       "    }\n",
       "\n",
       "    .dataframe thead th {\n",
       "        text-align: left;\n",
       "    }\n",
       "\n",
       "    .dataframe tbody tr th {\n",
       "        vertical-align: top;\n",
       "    }\n",
       "</style>\n",
       "<table border=\"1\" class=\"dataframe\">\n",
       "  <thead>\n",
       "    <tr style=\"text-align: right;\">\n",
       "      <th></th>\n",
       "      <th>A</th>\n",
       "      <th>B</th>\n",
       "      <th>C</th>\n",
       "      <th>D</th>\n",
       "      <th>E</th>\n",
       "      <th>F</th>\n",
       "    </tr>\n",
       "  </thead>\n",
       "  <tbody>\n",
       "    <tr>\n",
       "      <th>0</th>\n",
       "      <td>-0.486390</td>\n",
       "      <td>1.006064</td>\n",
       "      <td>0.321450</td>\n",
       "      <td>0.539001</td>\n",
       "      <td>0.967269</td>\n",
       "      <td>0.826700</td>\n",
       "    </tr>\n",
       "    <tr>\n",
       "      <th>3</th>\n",
       "      <td>2.400124</td>\n",
       "      <td>0.357823</td>\n",
       "      <td>0.400378</td>\n",
       "      <td>1.625708</td>\n",
       "      <td>0.272849</td>\n",
       "      <td>-0.415272</td>\n",
       "    </tr>\n",
       "    <tr>\n",
       "      <th>6</th>\n",
       "      <td>-0.485364</td>\n",
       "      <td>0.058415</td>\n",
       "      <td>-0.289454</td>\n",
       "      <td>1.695473</td>\n",
       "      <td>-0.519594</td>\n",
       "      <td>-0.116215</td>\n",
       "    </tr>\n",
       "    <tr>\n",
       "      <th>9</th>\n",
       "      <td>0.126916</td>\n",
       "      <td>1.599085</td>\n",
       "      <td>1.027031</td>\n",
       "      <td>-0.966302</td>\n",
       "      <td>-0.312185</td>\n",
       "      <td>-1.000940</td>\n",
       "    </tr>\n",
       "    <tr>\n",
       "      <th>12</th>\n",
       "      <td>1.656042</td>\n",
       "      <td>0.746992</td>\n",
       "      <td>0.581831</td>\n",
       "      <td>-0.269498</td>\n",
       "      <td>-0.885463</td>\n",
       "      <td>-1.678499</td>\n",
       "    </tr>\n",
       "  </tbody>\n",
       "</table>\n",
       "</div>"
      ],
      "text/plain": [
       "           A         B         C         D         E         F\n",
       "0  -0.486390  1.006064  0.321450  0.539001  0.967269  0.826700\n",
       "3   2.400124  0.357823  0.400378  1.625708  0.272849 -0.415272\n",
       "6  -0.485364  0.058415 -0.289454  1.695473 -0.519594 -0.116215\n",
       "9   0.126916  1.599085  1.027031 -0.966302 -0.312185 -1.000940\n",
       "12  1.656042  0.746992  0.581831 -0.269498 -0.885463 -1.678499"
      ]
     },
     "execution_count": 65,
     "metadata": {},
     "output_type": "execute_result"
    }
   ],
   "source": [
    "u.head()"
   ]
  },
  {
   "cell_type": "code",
   "execution_count": 66,
   "metadata": {},
   "outputs": [
    {
     "data": {
      "text/html": [
       "<div>\n",
       "<style>\n",
       "    .dataframe thead tr:only-child th {\n",
       "        text-align: right;\n",
       "    }\n",
       "\n",
       "    .dataframe thead th {\n",
       "        text-align: left;\n",
       "    }\n",
       "\n",
       "    .dataframe tbody tr th {\n",
       "        vertical-align: top;\n",
       "    }\n",
       "</style>\n",
       "<table border=\"1\" class=\"dataframe\">\n",
       "  <thead>\n",
       "    <tr style=\"text-align: right;\">\n",
       "      <th></th>\n",
       "      <th>A</th>\n",
       "      <th>B</th>\n",
       "      <th>C</th>\n",
       "      <th>D</th>\n",
       "      <th>E</th>\n",
       "      <th>F</th>\n",
       "    </tr>\n",
       "  </thead>\n",
       "  <tbody>\n",
       "    <tr>\n",
       "      <th>2985</th>\n",
       "      <td>-0.049410</td>\n",
       "      <td>-0.421436</td>\n",
       "      <td>-0.118905</td>\n",
       "      <td>0.845203</td>\n",
       "      <td>0.424697</td>\n",
       "      <td>0.591122</td>\n",
       "    </tr>\n",
       "    <tr>\n",
       "      <th>2988</th>\n",
       "      <td>0.385888</td>\n",
       "      <td>-0.141475</td>\n",
       "      <td>0.282936</td>\n",
       "      <td>-0.553130</td>\n",
       "      <td>0.087001</td>\n",
       "      <td>0.146126</td>\n",
       "    </tr>\n",
       "    <tr>\n",
       "      <th>2991</th>\n",
       "      <td>-0.051031</td>\n",
       "      <td>-0.339346</td>\n",
       "      <td>-1.124901</td>\n",
       "      <td>0.120227</td>\n",
       "      <td>-0.086591</td>\n",
       "      <td>0.109190</td>\n",
       "    </tr>\n",
       "    <tr>\n",
       "      <th>2994</th>\n",
       "      <td>-0.150851</td>\n",
       "      <td>0.171049</td>\n",
       "      <td>0.301247</td>\n",
       "      <td>0.653709</td>\n",
       "      <td>0.049595</td>\n",
       "      <td>1.170720</td>\n",
       "    </tr>\n",
       "    <tr>\n",
       "      <th>2997</th>\n",
       "      <td>-1.529875</td>\n",
       "      <td>-1.813296</td>\n",
       "      <td>-1.989128</td>\n",
       "      <td>1.279956</td>\n",
       "      <td>-0.511653</td>\n",
       "      <td>1.587069</td>\n",
       "    </tr>\n",
       "  </tbody>\n",
       "</table>\n",
       "</div>"
      ],
      "text/plain": [
       "             A         B         C         D         E         F\n",
       "2985 -0.049410 -0.421436 -0.118905  0.845203  0.424697  0.591122\n",
       "2988  0.385888 -0.141475  0.282936 -0.553130  0.087001  0.146126\n",
       "2991 -0.051031 -0.339346 -1.124901  0.120227 -0.086591  0.109190\n",
       "2994 -0.150851  0.171049  0.301247  0.653709  0.049595  1.170720\n",
       "2997 -1.529875 -1.813296 -1.989128  1.279956 -0.511653  1.587069"
      ]
     },
     "execution_count": 66,
     "metadata": {},
     "output_type": "execute_result"
    }
   ],
   "source": [
    "u.tail()"
   ]
  },
  {
   "cell_type": "code",
   "execution_count": 67,
   "metadata": {},
   "outputs": [
    {
     "data": {
      "text/html": [
       "<div>\n",
       "<style>\n",
       "    .dataframe thead tr:only-child th {\n",
       "        text-align: right;\n",
       "    }\n",
       "\n",
       "    .dataframe thead th {\n",
       "        text-align: left;\n",
       "    }\n",
       "\n",
       "    .dataframe tbody tr th {\n",
       "        vertical-align: top;\n",
       "    }\n",
       "</style>\n",
       "<table border=\"1\" class=\"dataframe\">\n",
       "  <thead>\n",
       "    <tr style=\"text-align: right;\">\n",
       "      <th></th>\n",
       "      <th>A</th>\n",
       "      <th>B</th>\n",
       "      <th>C</th>\n",
       "      <th>D</th>\n",
       "      <th>E</th>\n",
       "      <th>F</th>\n",
       "    </tr>\n",
       "  </thead>\n",
       "  <tbody>\n",
       "    <tr>\n",
       "      <th>count</th>\n",
       "      <td>1000.000000</td>\n",
       "      <td>1000.000000</td>\n",
       "      <td>1000.000000</td>\n",
       "      <td>1000.000000</td>\n",
       "      <td>1000.000000</td>\n",
       "      <td>1000.000000</td>\n",
       "    </tr>\n",
       "    <tr>\n",
       "      <th>mean</th>\n",
       "      <td>0.003606</td>\n",
       "      <td>0.072535</td>\n",
       "      <td>-0.034625</td>\n",
       "      <td>-0.021335</td>\n",
       "      <td>-0.012738</td>\n",
       "      <td>0.028699</td>\n",
       "    </tr>\n",
       "    <tr>\n",
       "      <th>std</th>\n",
       "      <td>1.022266</td>\n",
       "      <td>1.005751</td>\n",
       "      <td>1.008314</td>\n",
       "      <td>1.034881</td>\n",
       "      <td>1.019030</td>\n",
       "      <td>1.007661</td>\n",
       "    </tr>\n",
       "    <tr>\n",
       "      <th>min</th>\n",
       "      <td>-3.727366</td>\n",
       "      <td>-3.377907</td>\n",
       "      <td>-3.640897</td>\n",
       "      <td>-3.430698</td>\n",
       "      <td>-3.318951</td>\n",
       "      <td>-3.234716</td>\n",
       "    </tr>\n",
       "    <tr>\n",
       "      <th>25%</th>\n",
       "      <td>-0.682101</td>\n",
       "      <td>-0.607918</td>\n",
       "      <td>-0.730713</td>\n",
       "      <td>-0.706849</td>\n",
       "      <td>-0.702791</td>\n",
       "      <td>-0.676170</td>\n",
       "    </tr>\n",
       "    <tr>\n",
       "      <th>50%</th>\n",
       "      <td>-0.004479</td>\n",
       "      <td>0.111144</td>\n",
       "      <td>-0.033035</td>\n",
       "      <td>0.011561</td>\n",
       "      <td>0.000659</td>\n",
       "      <td>0.074180</td>\n",
       "    </tr>\n",
       "    <tr>\n",
       "      <th>75%</th>\n",
       "      <td>0.748163</td>\n",
       "      <td>0.747249</td>\n",
       "      <td>0.667122</td>\n",
       "      <td>0.641024</td>\n",
       "      <td>0.694101</td>\n",
       "      <td>0.733811</td>\n",
       "    </tr>\n",
       "    <tr>\n",
       "      <th>max</th>\n",
       "      <td>2.791861</td>\n",
       "      <td>3.291482</td>\n",
       "      <td>3.810366</td>\n",
       "      <td>3.144464</td>\n",
       "      <td>2.999393</td>\n",
       "      <td>2.877106</td>\n",
       "    </tr>\n",
       "  </tbody>\n",
       "</table>\n",
       "</div>"
      ],
      "text/plain": [
       "                 A            B            C            D            E  \\\n",
       "count  1000.000000  1000.000000  1000.000000  1000.000000  1000.000000   \n",
       "mean      0.003606     0.072535    -0.034625    -0.021335    -0.012738   \n",
       "std       1.022266     1.005751     1.008314     1.034881     1.019030   \n",
       "min      -3.727366    -3.377907    -3.640897    -3.430698    -3.318951   \n",
       "25%      -0.682101    -0.607918    -0.730713    -0.706849    -0.702791   \n",
       "50%      -0.004479     0.111144    -0.033035     0.011561     0.000659   \n",
       "75%       0.748163     0.747249     0.667122     0.641024     0.694101   \n",
       "max       2.791861     3.291482     3.810366     3.144464     2.999393   \n",
       "\n",
       "                 F  \n",
       "count  1000.000000  \n",
       "mean      0.028699  \n",
       "std       1.007661  \n",
       "min      -3.234716  \n",
       "25%      -0.676170  \n",
       "50%       0.074180  \n",
       "75%       0.733811  \n",
       "max       2.877106  "
      ]
     },
     "execution_count": 67,
     "metadata": {},
     "output_type": "execute_result"
    }
   ],
   "source": [
    "u.describe()"
   ]
  },
  {
   "cell_type": "markdown",
   "metadata": {},
   "source": [
    "### Indexing/Slicing in Pandas\n",
    "\n",
    "The easiest way of accessing information in a Pandas dataframe, equivalent to the way used in NumPy, is using the `iloc` command. With this you can also set specific values, do conditional indexing... all that we have seen before in section 2.4"
   ]
  },
  {
   "cell_type": "code",
   "execution_count": 68,
   "metadata": {},
   "outputs": [
    {
     "data": {
      "text/html": [
       "<div>\n",
       "<style>\n",
       "    .dataframe thead tr:only-child th {\n",
       "        text-align: right;\n",
       "    }\n",
       "\n",
       "    .dataframe thead th {\n",
       "        text-align: left;\n",
       "    }\n",
       "\n",
       "    .dataframe tbody tr th {\n",
       "        vertical-align: top;\n",
       "    }\n",
       "</style>\n",
       "<table border=\"1\" class=\"dataframe\">\n",
       "  <thead>\n",
       "    <tr style=\"text-align: right;\">\n",
       "      <th></th>\n",
       "      <th>A</th>\n",
       "      <th>C</th>\n",
       "      <th>F</th>\n",
       "    </tr>\n",
       "  </thead>\n",
       "  <tbody>\n",
       "    <tr>\n",
       "      <th>375</th>\n",
       "      <td>0.087548</td>\n",
       "      <td>-1.038510</td>\n",
       "      <td>1.562728</td>\n",
       "    </tr>\n",
       "    <tr>\n",
       "      <th>378</th>\n",
       "      <td>0.170242</td>\n",
       "      <td>-0.706325</td>\n",
       "      <td>-1.905718</td>\n",
       "    </tr>\n",
       "    <tr>\n",
       "      <th>381</th>\n",
       "      <td>0.254539</td>\n",
       "      <td>0.256863</td>\n",
       "      <td>-0.274089</td>\n",
       "    </tr>\n",
       "    <tr>\n",
       "      <th>384</th>\n",
       "      <td>0.007908</td>\n",
       "      <td>1.359674</td>\n",
       "      <td>-0.353677</td>\n",
       "    </tr>\n",
       "    <tr>\n",
       "      <th>387</th>\n",
       "      <td>0.462825</td>\n",
       "      <td>0.883289</td>\n",
       "      <td>-0.594398</td>\n",
       "    </tr>\n",
       "    <tr>\n",
       "      <th>390</th>\n",
       "      <td>0.565687</td>\n",
       "      <td>0.750447</td>\n",
       "      <td>-1.254893</td>\n",
       "    </tr>\n",
       "    <tr>\n",
       "      <th>393</th>\n",
       "      <td>0.883862</td>\n",
       "      <td>-0.090684</td>\n",
       "      <td>1.961763</td>\n",
       "    </tr>\n",
       "  </tbody>\n",
       "</table>\n",
       "</div>"
      ],
      "text/plain": [
       "            A         C         F\n",
       "375  0.087548 -1.038510  1.562728\n",
       "378  0.170242 -0.706325 -1.905718\n",
       "381  0.254539  0.256863 -0.274089\n",
       "384  0.007908  1.359674 -0.353677\n",
       "387  0.462825  0.883289 -0.594398\n",
       "390  0.565687  0.750447 -1.254893\n",
       "393  0.883862 -0.090684  1.961763"
      ]
     },
     "execution_count": 68,
     "metadata": {},
     "output_type": "execute_result"
    }
   ],
   "source": [
    "u.iloc[125:132,[0, 2, 5]]"
   ]
  },
  {
   "cell_type": "markdown",
   "metadata": {},
   "source": [
    "However, there are a few different ways of accessing the data in a Pandas dataframe, that typically have a more \"direct\" connection with the actual content fo the dataframe. Individual or sets of columns can also be accessed by their column names. Choosing one single column will give a Series, while two or more will produce a Dataset"
   ]
  },
  {
   "cell_type": "code",
   "execution_count": 69,
   "metadata": {},
   "outputs": [
    {
     "data": {
      "text/plain": [
       "0    -0.486390\n",
       "3     2.400124\n",
       "6    -0.485364\n",
       "9     0.126916\n",
       "12    1.656042\n",
       "Name: A, dtype: float64"
      ]
     },
     "execution_count": 69,
     "metadata": {},
     "output_type": "execute_result"
    }
   ],
   "source": [
    "u['A'].head()"
   ]
  },
  {
   "cell_type": "code",
   "execution_count": 70,
   "metadata": {},
   "outputs": [
    {
     "data": {
      "text/html": [
       "<div>\n",
       "<style>\n",
       "    .dataframe thead tr:only-child th {\n",
       "        text-align: right;\n",
       "    }\n",
       "\n",
       "    .dataframe thead th {\n",
       "        text-align: left;\n",
       "    }\n",
       "\n",
       "    .dataframe tbody tr th {\n",
       "        vertical-align: top;\n",
       "    }\n",
       "</style>\n",
       "<table border=\"1\" class=\"dataframe\">\n",
       "  <thead>\n",
       "    <tr style=\"text-align: right;\">\n",
       "      <th></th>\n",
       "      <th>A</th>\n",
       "      <th>D</th>\n",
       "    </tr>\n",
       "  </thead>\n",
       "  <tbody>\n",
       "    <tr>\n",
       "      <th>0</th>\n",
       "      <td>-0.486390</td>\n",
       "      <td>0.539001</td>\n",
       "    </tr>\n",
       "    <tr>\n",
       "      <th>3</th>\n",
       "      <td>2.400124</td>\n",
       "      <td>1.625708</td>\n",
       "    </tr>\n",
       "    <tr>\n",
       "      <th>6</th>\n",
       "      <td>-0.485364</td>\n",
       "      <td>1.695473</td>\n",
       "    </tr>\n",
       "    <tr>\n",
       "      <th>9</th>\n",
       "      <td>0.126916</td>\n",
       "      <td>-0.966302</td>\n",
       "    </tr>\n",
       "    <tr>\n",
       "      <th>12</th>\n",
       "      <td>1.656042</td>\n",
       "      <td>-0.269498</td>\n",
       "    </tr>\n",
       "  </tbody>\n",
       "</table>\n",
       "</div>"
      ],
      "text/plain": [
       "           A         D\n",
       "0  -0.486390  0.539001\n",
       "3   2.400124  1.625708\n",
       "6  -0.485364  1.695473\n",
       "9   0.126916 -0.966302\n",
       "12  1.656042 -0.269498"
      ]
     },
     "execution_count": 70,
     "metadata": {},
     "output_type": "execute_result"
    }
   ],
   "source": [
    "u[['A', 'D']].head()"
   ]
  },
  {
   "cell_type": "markdown",
   "metadata": {},
   "source": [
    "Not only that, you can access a single column without the need of brackets []"
   ]
  },
  {
   "cell_type": "code",
   "execution_count": 71,
   "metadata": {},
   "outputs": [
    {
     "data": {
      "text/plain": [
       "0    -0.486390\n",
       "3     2.400124\n",
       "6    -0.485364\n",
       "9     0.126916\n",
       "12    1.656042\n",
       "Name: A, dtype: float64"
      ]
     },
     "execution_count": 71,
     "metadata": {},
     "output_type": "execute_result"
    }
   ],
   "source": [
    "u.A.head()"
   ]
  },
  {
   "cell_type": "markdown",
   "metadata": {},
   "source": [
    "The usual [] will select specific rows according to the row number"
   ]
  },
  {
   "cell_type": "code",
   "execution_count": 72,
   "metadata": {
    "scrolled": false
   },
   "outputs": [
    {
     "data": {
      "text/html": [
       "<div>\n",
       "<style>\n",
       "    .dataframe thead tr:only-child th {\n",
       "        text-align: right;\n",
       "    }\n",
       "\n",
       "    .dataframe thead th {\n",
       "        text-align: left;\n",
       "    }\n",
       "\n",
       "    .dataframe tbody tr th {\n",
       "        vertical-align: top;\n",
       "    }\n",
       "</style>\n",
       "<table border=\"1\" class=\"dataframe\">\n",
       "  <thead>\n",
       "    <tr style=\"text-align: right;\">\n",
       "      <th></th>\n",
       "      <th>B</th>\n",
       "      <th>C</th>\n",
       "      <th>F</th>\n",
       "    </tr>\n",
       "  </thead>\n",
       "  <tbody>\n",
       "    <tr>\n",
       "      <th>0</th>\n",
       "      <td>1.006064</td>\n",
       "      <td>0.321450</td>\n",
       "      <td>0.826700</td>\n",
       "    </tr>\n",
       "    <tr>\n",
       "      <th>3</th>\n",
       "      <td>0.357823</td>\n",
       "      <td>0.400378</td>\n",
       "      <td>-0.415272</td>\n",
       "    </tr>\n",
       "    <tr>\n",
       "      <th>6</th>\n",
       "      <td>0.058415</td>\n",
       "      <td>-0.289454</td>\n",
       "      <td>-0.116215</td>\n",
       "    </tr>\n",
       "    <tr>\n",
       "      <th>9</th>\n",
       "      <td>1.599085</td>\n",
       "      <td>1.027031</td>\n",
       "      <td>-1.000940</td>\n",
       "    </tr>\n",
       "    <tr>\n",
       "      <th>12</th>\n",
       "      <td>0.746992</td>\n",
       "      <td>0.581831</td>\n",
       "      <td>-1.678499</td>\n",
       "    </tr>\n",
       "    <tr>\n",
       "      <th>15</th>\n",
       "      <td>1.150801</td>\n",
       "      <td>-1.374039</td>\n",
       "      <td>-1.147043</td>\n",
       "    </tr>\n",
       "    <tr>\n",
       "      <th>18</th>\n",
       "      <td>0.355907</td>\n",
       "      <td>-1.080131</td>\n",
       "      <td>-0.442884</td>\n",
       "    </tr>\n",
       "    <tr>\n",
       "      <th>21</th>\n",
       "      <td>-0.473255</td>\n",
       "      <td>-0.547435</td>\n",
       "      <td>0.862464</td>\n",
       "    </tr>\n",
       "    <tr>\n",
       "      <th>24</th>\n",
       "      <td>1.179712</td>\n",
       "      <td>-1.677763</td>\n",
       "      <td>-0.454207</td>\n",
       "    </tr>\n",
       "    <tr>\n",
       "      <th>27</th>\n",
       "      <td>2.127357</td>\n",
       "      <td>0.801260</td>\n",
       "      <td>-0.278422</td>\n",
       "    </tr>\n",
       "  </tbody>\n",
       "</table>\n",
       "</div>"
      ],
      "text/plain": [
       "           B         C         F\n",
       "0   1.006064  0.321450  0.826700\n",
       "3   0.357823  0.400378 -0.415272\n",
       "6   0.058415 -0.289454 -0.116215\n",
       "9   1.599085  1.027031 -1.000940\n",
       "12  0.746992  0.581831 -1.678499\n",
       "15  1.150801 -1.374039 -1.147043\n",
       "18  0.355907 -1.080131 -0.442884\n",
       "21 -0.473255 -0.547435  0.862464\n",
       "24  1.179712 -1.677763 -0.454207\n",
       "27  2.127357  0.801260 -0.278422"
      ]
     },
     "execution_count": 72,
     "metadata": {},
     "output_type": "execute_result"
    }
   ],
   "source": [
    "u[0:10][list('BCF')]"
   ]
  },
  {
   "cell_type": "markdown",
   "metadata": {},
   "source": [
    "You can also choose specific rows according to their indices with the `loc` command"
   ]
  },
  {
   "cell_type": "code",
   "execution_count": 73,
   "metadata": {},
   "outputs": [
    {
     "data": {
      "text/html": [
       "<div>\n",
       "<style>\n",
       "    .dataframe thead tr:only-child th {\n",
       "        text-align: right;\n",
       "    }\n",
       "\n",
       "    .dataframe thead th {\n",
       "        text-align: left;\n",
       "    }\n",
       "\n",
       "    .dataframe tbody tr th {\n",
       "        vertical-align: top;\n",
       "    }\n",
       "</style>\n",
       "<table border=\"1\" class=\"dataframe\">\n",
       "  <thead>\n",
       "    <tr style=\"text-align: right;\">\n",
       "      <th></th>\n",
       "      <th>A</th>\n",
       "      <th>B</th>\n",
       "      <th>C</th>\n",
       "      <th>D</th>\n",
       "      <th>E</th>\n",
       "      <th>F</th>\n",
       "    </tr>\n",
       "  </thead>\n",
       "  <tbody>\n",
       "    <tr>\n",
       "      <th>6</th>\n",
       "      <td>-0.485364</td>\n",
       "      <td>0.058415</td>\n",
       "      <td>-0.289454</td>\n",
       "      <td>1.695473</td>\n",
       "      <td>-0.519594</td>\n",
       "      <td>-0.116215</td>\n",
       "    </tr>\n",
       "    <tr>\n",
       "      <th>9</th>\n",
       "      <td>0.126916</td>\n",
       "      <td>1.599085</td>\n",
       "      <td>1.027031</td>\n",
       "      <td>-0.966302</td>\n",
       "      <td>-0.312185</td>\n",
       "      <td>-1.000940</td>\n",
       "    </tr>\n",
       "    <tr>\n",
       "      <th>12</th>\n",
       "      <td>1.656042</td>\n",
       "      <td>0.746992</td>\n",
       "      <td>0.581831</td>\n",
       "      <td>-0.269498</td>\n",
       "      <td>-0.885463</td>\n",
       "      <td>-1.678499</td>\n",
       "    </tr>\n",
       "    <tr>\n",
       "      <th>15</th>\n",
       "      <td>-0.599577</td>\n",
       "      <td>1.150801</td>\n",
       "      <td>-1.374039</td>\n",
       "      <td>-2.478844</td>\n",
       "      <td>0.375244</td>\n",
       "      <td>-1.147043</td>\n",
       "    </tr>\n",
       "  </tbody>\n",
       "</table>\n",
       "</div>"
      ],
      "text/plain": [
       "           A         B         C         D         E         F\n",
       "6  -0.485364  0.058415 -0.289454  1.695473 -0.519594 -0.116215\n",
       "9   0.126916  1.599085  1.027031 -0.966302 -0.312185 -1.000940\n",
       "12  1.656042  0.746992  0.581831 -0.269498 -0.885463 -1.678499\n",
       "15 -0.599577  1.150801 -1.374039 -2.478844  0.375244 -1.147043"
      ]
     },
     "execution_count": 73,
     "metadata": {},
     "output_type": "execute_result"
    }
   ],
   "source": [
    "u.loc[6:15]"
   ]
  },
  {
   "cell_type": "markdown",
   "metadata": {},
   "source": [
    "Or, you can access just the elements that satisfy some condition"
   ]
  },
  {
   "cell_type": "code",
   "execution_count": 74,
   "metadata": {},
   "outputs": [
    {
     "data": {
      "text/html": [
       "<div>\n",
       "<style>\n",
       "    .dataframe thead tr:only-child th {\n",
       "        text-align: right;\n",
       "    }\n",
       "\n",
       "    .dataframe thead th {\n",
       "        text-align: left;\n",
       "    }\n",
       "\n",
       "    .dataframe tbody tr th {\n",
       "        vertical-align: top;\n",
       "    }\n",
       "</style>\n",
       "<table border=\"1\" class=\"dataframe\">\n",
       "  <thead>\n",
       "    <tr style=\"text-align: right;\">\n",
       "      <th></th>\n",
       "      <th>A</th>\n",
       "      <th>B</th>\n",
       "      <th>C</th>\n",
       "      <th>D</th>\n",
       "      <th>E</th>\n",
       "      <th>F</th>\n",
       "    </tr>\n",
       "  </thead>\n",
       "  <tbody>\n",
       "    <tr>\n",
       "      <th>36</th>\n",
       "      <td>0.968105</td>\n",
       "      <td>1.209681</td>\n",
       "      <td>-1.024959</td>\n",
       "      <td>2.014902</td>\n",
       "      <td>-0.837118</td>\n",
       "      <td>1.971436</td>\n",
       "    </tr>\n",
       "    <tr>\n",
       "      <th>72</th>\n",
       "      <td>-0.858045</td>\n",
       "      <td>-0.885338</td>\n",
       "      <td>-0.219164</td>\n",
       "      <td>2.018379</td>\n",
       "      <td>1.082300</td>\n",
       "      <td>-0.168884</td>\n",
       "    </tr>\n",
       "    <tr>\n",
       "      <th>75</th>\n",
       "      <td>0.141045</td>\n",
       "      <td>1.318812</td>\n",
       "      <td>-0.451973</td>\n",
       "      <td>2.118345</td>\n",
       "      <td>-0.776782</td>\n",
       "      <td>0.430845</td>\n",
       "    </tr>\n",
       "    <tr>\n",
       "      <th>297</th>\n",
       "      <td>-0.139421</td>\n",
       "      <td>1.642056</td>\n",
       "      <td>0.444386</td>\n",
       "      <td>2.607057</td>\n",
       "      <td>-1.524716</td>\n",
       "      <td>-1.102453</td>\n",
       "    </tr>\n",
       "    <tr>\n",
       "      <th>369</th>\n",
       "      <td>-0.939105</td>\n",
       "      <td>-0.659259</td>\n",
       "      <td>1.038402</td>\n",
       "      <td>2.338393</td>\n",
       "      <td>-1.444747</td>\n",
       "      <td>0.219624</td>\n",
       "    </tr>\n",
       "    <tr>\n",
       "      <th>396</th>\n",
       "      <td>-1.258892</td>\n",
       "      <td>0.522062</td>\n",
       "      <td>0.118400</td>\n",
       "      <td>2.317091</td>\n",
       "      <td>-1.975992</td>\n",
       "      <td>2.088000</td>\n",
       "    </tr>\n",
       "    <tr>\n",
       "      <th>423</th>\n",
       "      <td>0.829726</td>\n",
       "      <td>0.384305</td>\n",
       "      <td>-0.255447</td>\n",
       "      <td>2.590151</td>\n",
       "      <td>0.318381</td>\n",
       "      <td>0.321130</td>\n",
       "    </tr>\n",
       "    <tr>\n",
       "      <th>747</th>\n",
       "      <td>0.180803</td>\n",
       "      <td>-0.168061</td>\n",
       "      <td>1.024848</td>\n",
       "      <td>3.144464</td>\n",
       "      <td>-0.531328</td>\n",
       "      <td>0.468991</td>\n",
       "    </tr>\n",
       "    <tr>\n",
       "      <th>906</th>\n",
       "      <td>-0.579028</td>\n",
       "      <td>-0.812402</td>\n",
       "      <td>1.928433</td>\n",
       "      <td>2.189363</td>\n",
       "      <td>-1.870593</td>\n",
       "      <td>-0.080945</td>\n",
       "    </tr>\n",
       "    <tr>\n",
       "      <th>972</th>\n",
       "      <td>0.508881</td>\n",
       "      <td>0.316569</td>\n",
       "      <td>-2.398584</td>\n",
       "      <td>2.345536</td>\n",
       "      <td>0.655461</td>\n",
       "      <td>1.621037</td>\n",
       "    </tr>\n",
       "    <tr>\n",
       "      <th>1155</th>\n",
       "      <td>1.377076</td>\n",
       "      <td>0.121989</td>\n",
       "      <td>1.531763</td>\n",
       "      <td>2.097647</td>\n",
       "      <td>1.495285</td>\n",
       "      <td>0.662651</td>\n",
       "    </tr>\n",
       "    <tr>\n",
       "      <th>1200</th>\n",
       "      <td>0.237674</td>\n",
       "      <td>0.553704</td>\n",
       "      <td>1.311406</td>\n",
       "      <td>2.021933</td>\n",
       "      <td>1.655326</td>\n",
       "      <td>0.560579</td>\n",
       "    </tr>\n",
       "    <tr>\n",
       "      <th>1284</th>\n",
       "      <td>0.613719</td>\n",
       "      <td>-1.069622</td>\n",
       "      <td>-0.356617</td>\n",
       "      <td>2.902930</td>\n",
       "      <td>-1.882570</td>\n",
       "      <td>1.125197</td>\n",
       "    </tr>\n",
       "    <tr>\n",
       "      <th>1410</th>\n",
       "      <td>-0.692410</td>\n",
       "      <td>1.249636</td>\n",
       "      <td>-0.468295</td>\n",
       "      <td>2.504633</td>\n",
       "      <td>0.344653</td>\n",
       "      <td>-0.983399</td>\n",
       "    </tr>\n",
       "    <tr>\n",
       "      <th>1542</th>\n",
       "      <td>-1.218466</td>\n",
       "      <td>-1.307905</td>\n",
       "      <td>1.439579</td>\n",
       "      <td>2.030202</td>\n",
       "      <td>0.880691</td>\n",
       "      <td>0.349449</td>\n",
       "    </tr>\n",
       "    <tr>\n",
       "      <th>1545</th>\n",
       "      <td>-0.795326</td>\n",
       "      <td>1.637831</td>\n",
       "      <td>-0.720797</td>\n",
       "      <td>3.071453</td>\n",
       "      <td>-1.174544</td>\n",
       "      <td>-1.143020</td>\n",
       "    </tr>\n",
       "    <tr>\n",
       "      <th>1674</th>\n",
       "      <td>0.226720</td>\n",
       "      <td>-0.832528</td>\n",
       "      <td>-0.010493</td>\n",
       "      <td>2.920399</td>\n",
       "      <td>1.311452</td>\n",
       "      <td>0.152185</td>\n",
       "    </tr>\n",
       "    <tr>\n",
       "      <th>1692</th>\n",
       "      <td>-0.318562</td>\n",
       "      <td>0.882907</td>\n",
       "      <td>-0.053103</td>\n",
       "      <td>2.457979</td>\n",
       "      <td>0.356630</td>\n",
       "      <td>-0.639370</td>\n",
       "    </tr>\n",
       "    <tr>\n",
       "      <th>1797</th>\n",
       "      <td>0.035744</td>\n",
       "      <td>1.235725</td>\n",
       "      <td>-0.524402</td>\n",
       "      <td>2.152208</td>\n",
       "      <td>-0.637144</td>\n",
       "      <td>-1.017276</td>\n",
       "    </tr>\n",
       "    <tr>\n",
       "      <th>1902</th>\n",
       "      <td>-0.499741</td>\n",
       "      <td>0.470271</td>\n",
       "      <td>0.721999</td>\n",
       "      <td>2.071643</td>\n",
       "      <td>0.319955</td>\n",
       "      <td>1.012490</td>\n",
       "    </tr>\n",
       "    <tr>\n",
       "      <th>2055</th>\n",
       "      <td>-0.721962</td>\n",
       "      <td>0.444672</td>\n",
       "      <td>-3.640897</td>\n",
       "      <td>2.382251</td>\n",
       "      <td>-2.313719</td>\n",
       "      <td>-0.948939</td>\n",
       "    </tr>\n",
       "    <tr>\n",
       "      <th>2223</th>\n",
       "      <td>0.861751</td>\n",
       "      <td>-2.388922</td>\n",
       "      <td>0.976400</td>\n",
       "      <td>2.361192</td>\n",
       "      <td>-1.012845</td>\n",
       "      <td>0.524826</td>\n",
       "    </tr>\n",
       "    <tr>\n",
       "      <th>2286</th>\n",
       "      <td>-2.072057</td>\n",
       "      <td>-0.677751</td>\n",
       "      <td>-0.464646</td>\n",
       "      <td>2.089259</td>\n",
       "      <td>0.532221</td>\n",
       "      <td>0.984135</td>\n",
       "    </tr>\n",
       "    <tr>\n",
       "      <th>2517</th>\n",
       "      <td>0.088943</td>\n",
       "      <td>0.796699</td>\n",
       "      <td>-1.154465</td>\n",
       "      <td>2.123651</td>\n",
       "      <td>-1.236171</td>\n",
       "      <td>1.770905</td>\n",
       "    </tr>\n",
       "    <tr>\n",
       "      <th>2619</th>\n",
       "      <td>-0.265623</td>\n",
       "      <td>1.969601</td>\n",
       "      <td>-0.122572</td>\n",
       "      <td>2.024209</td>\n",
       "      <td>0.518032</td>\n",
       "      <td>0.961724</td>\n",
       "    </tr>\n",
       "    <tr>\n",
       "      <th>2757</th>\n",
       "      <td>1.809499</td>\n",
       "      <td>-1.334946</td>\n",
       "      <td>0.617888</td>\n",
       "      <td>2.061619</td>\n",
       "      <td>-1.505878</td>\n",
       "      <td>-0.165551</td>\n",
       "    </tr>\n",
       "    <tr>\n",
       "      <th>2796</th>\n",
       "      <td>0.771429</td>\n",
       "      <td>-1.033978</td>\n",
       "      <td>-1.039393</td>\n",
       "      <td>2.829567</td>\n",
       "      <td>0.023117</td>\n",
       "      <td>1.111027</td>\n",
       "    </tr>\n",
       "    <tr>\n",
       "      <th>2838</th>\n",
       "      <td>1.101989</td>\n",
       "      <td>-0.439136</td>\n",
       "      <td>1.201865</td>\n",
       "      <td>2.172643</td>\n",
       "      <td>-0.606109</td>\n",
       "      <td>1.663842</td>\n",
       "    </tr>\n",
       "  </tbody>\n",
       "</table>\n",
       "</div>"
      ],
      "text/plain": [
       "             A         B         C         D         E         F\n",
       "36    0.968105  1.209681 -1.024959  2.014902 -0.837118  1.971436\n",
       "72   -0.858045 -0.885338 -0.219164  2.018379  1.082300 -0.168884\n",
       "75    0.141045  1.318812 -0.451973  2.118345 -0.776782  0.430845\n",
       "297  -0.139421  1.642056  0.444386  2.607057 -1.524716 -1.102453\n",
       "369  -0.939105 -0.659259  1.038402  2.338393 -1.444747  0.219624\n",
       "396  -1.258892  0.522062  0.118400  2.317091 -1.975992  2.088000\n",
       "423   0.829726  0.384305 -0.255447  2.590151  0.318381  0.321130\n",
       "747   0.180803 -0.168061  1.024848  3.144464 -0.531328  0.468991\n",
       "906  -0.579028 -0.812402  1.928433  2.189363 -1.870593 -0.080945\n",
       "972   0.508881  0.316569 -2.398584  2.345536  0.655461  1.621037\n",
       "1155  1.377076  0.121989  1.531763  2.097647  1.495285  0.662651\n",
       "1200  0.237674  0.553704  1.311406  2.021933  1.655326  0.560579\n",
       "1284  0.613719 -1.069622 -0.356617  2.902930 -1.882570  1.125197\n",
       "1410 -0.692410  1.249636 -0.468295  2.504633  0.344653 -0.983399\n",
       "1542 -1.218466 -1.307905  1.439579  2.030202  0.880691  0.349449\n",
       "1545 -0.795326  1.637831 -0.720797  3.071453 -1.174544 -1.143020\n",
       "1674  0.226720 -0.832528 -0.010493  2.920399  1.311452  0.152185\n",
       "1692 -0.318562  0.882907 -0.053103  2.457979  0.356630 -0.639370\n",
       "1797  0.035744  1.235725 -0.524402  2.152208 -0.637144 -1.017276\n",
       "1902 -0.499741  0.470271  0.721999  2.071643  0.319955  1.012490\n",
       "2055 -0.721962  0.444672 -3.640897  2.382251 -2.313719 -0.948939\n",
       "2223  0.861751 -2.388922  0.976400  2.361192 -1.012845  0.524826\n",
       "2286 -2.072057 -0.677751 -0.464646  2.089259  0.532221  0.984135\n",
       "2517  0.088943  0.796699 -1.154465  2.123651 -1.236171  1.770905\n",
       "2619 -0.265623  1.969601 -0.122572  2.024209  0.518032  0.961724\n",
       "2757  1.809499 -1.334946  0.617888  2.061619 -1.505878 -0.165551\n",
       "2796  0.771429 -1.033978 -1.039393  2.829567  0.023117  1.111027\n",
       "2838  1.101989 -0.439136  1.201865  2.172643 -0.606109  1.663842"
      ]
     },
     "execution_count": 74,
     "metadata": {},
     "output_type": "execute_result"
    }
   ],
   "source": [
    "u[u.D > 2]"
   ]
  },
  {
   "cell_type": "markdown",
   "metadata": {},
   "source": [
    "### Applying Functions\n",
    "\n",
    "An interesting capability of Pandas is that you can apply functions to the whole dataset or specific columns with the `apply` command"
   ]
  },
  {
   "cell_type": "code",
   "execution_count": 75,
   "metadata": {},
   "outputs": [
    {
     "data": {
      "text/plain": [
       "0     1.209629\n",
       "3    -2.408059\n",
       "6    -8.604762\n",
       "9    -0.999061\n",
       "12   -0.595770\n",
       "Name: F, dtype: float64"
      ]
     },
     "execution_count": 75,
     "metadata": {},
     "output_type": "execute_result"
    }
   ],
   "source": [
    "def func(x):\n",
    "    return 1 / x\n",
    "\n",
    "u['F'] = u['F'].apply(func)\n",
    "u['F'].head()"
   ]
  },
  {
   "cell_type": "markdown",
   "metadata": {},
   "source": [
    "`apply` acts on the whole column at a time, so you can compute things that depend on several values of the column, for instance the mean value. To apply functions in a real element-by-element basis the function `applymap` should be used."
   ]
  },
  {
   "cell_type": "code",
   "execution_count": 76,
   "metadata": {},
   "outputs": [
    {
     "data": {
      "text/plain": [
       "A    0.003606\n",
       "B    0.072535\n",
       "C   -0.034625\n",
       "D   -0.021335\n",
       "E   -0.012738\n",
       "F    4.031046\n",
       "dtype: float64"
      ]
     },
     "execution_count": 76,
     "metadata": {},
     "output_type": "execute_result"
    }
   ],
   "source": [
    "def mn(col):\n",
    "    return sum(col) / len(col)\n",
    "\n",
    "u.apply(mn)"
   ]
  },
  {
   "cell_type": "markdown",
   "metadata": {},
   "source": [
    "Functions can also be applied to columns with strings or categorical data. The limit is the imagination.\n",
    "\n",
    "\n",
    "### Combining `DataFrames`\n",
    "\n",
    "Something we will do quite often as scientists is combining data from different sources into one single source. This can be achieved by different commands in Pandas, depending on the actual goal we want.\n",
    "\n",
    "To begin with, appending new rows of data is achieved by the command `append`."
   ]
  },
  {
   "cell_type": "code",
   "execution_count": 77,
   "metadata": {},
   "outputs": [
    {
     "data": {
      "text/html": [
       "<div>\n",
       "<style>\n",
       "    .dataframe thead tr:only-child th {\n",
       "        text-align: right;\n",
       "    }\n",
       "\n",
       "    .dataframe thead th {\n",
       "        text-align: left;\n",
       "    }\n",
       "\n",
       "    .dataframe tbody tr th {\n",
       "        vertical-align: top;\n",
       "    }\n",
       "</style>\n",
       "<table border=\"1\" class=\"dataframe\">\n",
       "  <thead>\n",
       "    <tr style=\"text-align: right;\">\n",
       "      <th></th>\n",
       "      <th>A</th>\n",
       "      <th>B</th>\n",
       "      <th>C</th>\n",
       "      <th>D</th>\n",
       "      <th>E</th>\n",
       "      <th>F</th>\n",
       "    </tr>\n",
       "  </thead>\n",
       "  <tbody>\n",
       "    <tr>\n",
       "      <th>3003</th>\n",
       "      <td>1.0</td>\n",
       "      <td>1.0</td>\n",
       "      <td>1.0</td>\n",
       "      <td>1.0</td>\n",
       "      <td>1.0</td>\n",
       "      <td>1.0</td>\n",
       "    </tr>\n",
       "    <tr>\n",
       "      <th>3006</th>\n",
       "      <td>1.0</td>\n",
       "      <td>1.0</td>\n",
       "      <td>1.0</td>\n",
       "      <td>1.0</td>\n",
       "      <td>1.0</td>\n",
       "      <td>1.0</td>\n",
       "    </tr>\n",
       "    <tr>\n",
       "      <th>3009</th>\n",
       "      <td>1.0</td>\n",
       "      <td>1.0</td>\n",
       "      <td>1.0</td>\n",
       "      <td>1.0</td>\n",
       "      <td>1.0</td>\n",
       "      <td>1.0</td>\n",
       "    </tr>\n",
       "    <tr>\n",
       "      <th>3012</th>\n",
       "      <td>1.0</td>\n",
       "      <td>1.0</td>\n",
       "      <td>1.0</td>\n",
       "      <td>1.0</td>\n",
       "      <td>1.0</td>\n",
       "      <td>1.0</td>\n",
       "    </tr>\n",
       "    <tr>\n",
       "      <th>3015</th>\n",
       "      <td>1.0</td>\n",
       "      <td>1.0</td>\n",
       "      <td>1.0</td>\n",
       "      <td>1.0</td>\n",
       "      <td>1.0</td>\n",
       "      <td>1.0</td>\n",
       "    </tr>\n",
       "  </tbody>\n",
       "</table>\n",
       "</div>"
      ],
      "text/plain": [
       "        A    B    C    D    E    F\n",
       "3003  1.0  1.0  1.0  1.0  1.0  1.0\n",
       "3006  1.0  1.0  1.0  1.0  1.0  1.0\n",
       "3009  1.0  1.0  1.0  1.0  1.0  1.0\n",
       "3012  1.0  1.0  1.0  1.0  1.0  1.0\n",
       "3015  1.0  1.0  1.0  1.0  1.0  1.0"
      ]
     },
     "execution_count": 77,
     "metadata": {},
     "output_type": "execute_result"
    }
   ],
   "source": [
    "newdata = pd.DataFrame(np.ones((5, 6)), index=np.arange(3003, 3018, 3), columns=list('ABCDEF'))\n",
    "newdata"
   ]
  },
  {
   "cell_type": "code",
   "execution_count": 78,
   "metadata": {},
   "outputs": [
    {
     "data": {
      "text/html": [
       "<div>\n",
       "<style>\n",
       "    .dataframe thead tr:only-child th {\n",
       "        text-align: right;\n",
       "    }\n",
       "\n",
       "    .dataframe thead th {\n",
       "        text-align: left;\n",
       "    }\n",
       "\n",
       "    .dataframe tbody tr th {\n",
       "        vertical-align: top;\n",
       "    }\n",
       "</style>\n",
       "<table border=\"1\" class=\"dataframe\">\n",
       "  <thead>\n",
       "    <tr style=\"text-align: right;\">\n",
       "      <th></th>\n",
       "      <th>A</th>\n",
       "      <th>B</th>\n",
       "      <th>C</th>\n",
       "      <th>D</th>\n",
       "      <th>E</th>\n",
       "      <th>F</th>\n",
       "    </tr>\n",
       "  </thead>\n",
       "  <tbody>\n",
       "    <tr>\n",
       "      <th>2985</th>\n",
       "      <td>-0.049410</td>\n",
       "      <td>-0.421436</td>\n",
       "      <td>-0.118905</td>\n",
       "      <td>0.845203</td>\n",
       "      <td>0.424697</td>\n",
       "      <td>1.691699</td>\n",
       "    </tr>\n",
       "    <tr>\n",
       "      <th>2988</th>\n",
       "      <td>0.385888</td>\n",
       "      <td>-0.141475</td>\n",
       "      <td>0.282936</td>\n",
       "      <td>-0.553130</td>\n",
       "      <td>0.087001</td>\n",
       "      <td>6.843422</td>\n",
       "    </tr>\n",
       "    <tr>\n",
       "      <th>2991</th>\n",
       "      <td>-0.051031</td>\n",
       "      <td>-0.339346</td>\n",
       "      <td>-1.124901</td>\n",
       "      <td>0.120227</td>\n",
       "      <td>-0.086591</td>\n",
       "      <td>9.158365</td>\n",
       "    </tr>\n",
       "    <tr>\n",
       "      <th>2994</th>\n",
       "      <td>-0.150851</td>\n",
       "      <td>0.171049</td>\n",
       "      <td>0.301247</td>\n",
       "      <td>0.653709</td>\n",
       "      <td>0.049595</td>\n",
       "      <td>0.854175</td>\n",
       "    </tr>\n",
       "    <tr>\n",
       "      <th>2997</th>\n",
       "      <td>-1.529875</td>\n",
       "      <td>-1.813296</td>\n",
       "      <td>-1.989128</td>\n",
       "      <td>1.279956</td>\n",
       "      <td>-0.511653</td>\n",
       "      <td>0.630092</td>\n",
       "    </tr>\n",
       "    <tr>\n",
       "      <th>3003</th>\n",
       "      <td>1.000000</td>\n",
       "      <td>1.000000</td>\n",
       "      <td>1.000000</td>\n",
       "      <td>1.000000</td>\n",
       "      <td>1.000000</td>\n",
       "      <td>1.000000</td>\n",
       "    </tr>\n",
       "    <tr>\n",
       "      <th>3006</th>\n",
       "      <td>1.000000</td>\n",
       "      <td>1.000000</td>\n",
       "      <td>1.000000</td>\n",
       "      <td>1.000000</td>\n",
       "      <td>1.000000</td>\n",
       "      <td>1.000000</td>\n",
       "    </tr>\n",
       "    <tr>\n",
       "      <th>3009</th>\n",
       "      <td>1.000000</td>\n",
       "      <td>1.000000</td>\n",
       "      <td>1.000000</td>\n",
       "      <td>1.000000</td>\n",
       "      <td>1.000000</td>\n",
       "      <td>1.000000</td>\n",
       "    </tr>\n",
       "    <tr>\n",
       "      <th>3012</th>\n",
       "      <td>1.000000</td>\n",
       "      <td>1.000000</td>\n",
       "      <td>1.000000</td>\n",
       "      <td>1.000000</td>\n",
       "      <td>1.000000</td>\n",
       "      <td>1.000000</td>\n",
       "    </tr>\n",
       "    <tr>\n",
       "      <th>3015</th>\n",
       "      <td>1.000000</td>\n",
       "      <td>1.000000</td>\n",
       "      <td>1.000000</td>\n",
       "      <td>1.000000</td>\n",
       "      <td>1.000000</td>\n",
       "      <td>1.000000</td>\n",
       "    </tr>\n",
       "  </tbody>\n",
       "</table>\n",
       "</div>"
      ],
      "text/plain": [
       "             A         B         C         D         E         F\n",
       "2985 -0.049410 -0.421436 -0.118905  0.845203  0.424697  1.691699\n",
       "2988  0.385888 -0.141475  0.282936 -0.553130  0.087001  6.843422\n",
       "2991 -0.051031 -0.339346 -1.124901  0.120227 -0.086591  9.158365\n",
       "2994 -0.150851  0.171049  0.301247  0.653709  0.049595  0.854175\n",
       "2997 -1.529875 -1.813296 -1.989128  1.279956 -0.511653  0.630092\n",
       "3003  1.000000  1.000000  1.000000  1.000000  1.000000  1.000000\n",
       "3006  1.000000  1.000000  1.000000  1.000000  1.000000  1.000000\n",
       "3009  1.000000  1.000000  1.000000  1.000000  1.000000  1.000000\n",
       "3012  1.000000  1.000000  1.000000  1.000000  1.000000  1.000000\n",
       "3015  1.000000  1.000000  1.000000  1.000000  1.000000  1.000000"
      ]
     },
     "execution_count": 78,
     "metadata": {},
     "output_type": "execute_result"
    }
   ],
   "source": [
    "unew = u.append(newdata)\n",
    "unew.tail(10)"
   ]
  },
  {
   "cell_type": "markdown",
   "metadata": {},
   "source": [
    "The same result can be obtained with `concat`."
   ]
  },
  {
   "cell_type": "code",
   "execution_count": 79,
   "metadata": {},
   "outputs": [
    {
     "data": {
      "text/html": [
       "<div>\n",
       "<style>\n",
       "    .dataframe thead tr:only-child th {\n",
       "        text-align: right;\n",
       "    }\n",
       "\n",
       "    .dataframe thead th {\n",
       "        text-align: left;\n",
       "    }\n",
       "\n",
       "    .dataframe tbody tr th {\n",
       "        vertical-align: top;\n",
       "    }\n",
       "</style>\n",
       "<table border=\"1\" class=\"dataframe\">\n",
       "  <thead>\n",
       "    <tr style=\"text-align: right;\">\n",
       "      <th></th>\n",
       "      <th>A</th>\n",
       "      <th>B</th>\n",
       "      <th>C</th>\n",
       "      <th>D</th>\n",
       "      <th>E</th>\n",
       "      <th>F</th>\n",
       "    </tr>\n",
       "  </thead>\n",
       "  <tbody>\n",
       "    <tr>\n",
       "      <th>2985</th>\n",
       "      <td>-0.049410</td>\n",
       "      <td>-0.421436</td>\n",
       "      <td>-0.118905</td>\n",
       "      <td>0.845203</td>\n",
       "      <td>0.424697</td>\n",
       "      <td>1.691699</td>\n",
       "    </tr>\n",
       "    <tr>\n",
       "      <th>2988</th>\n",
       "      <td>0.385888</td>\n",
       "      <td>-0.141475</td>\n",
       "      <td>0.282936</td>\n",
       "      <td>-0.553130</td>\n",
       "      <td>0.087001</td>\n",
       "      <td>6.843422</td>\n",
       "    </tr>\n",
       "    <tr>\n",
       "      <th>2991</th>\n",
       "      <td>-0.051031</td>\n",
       "      <td>-0.339346</td>\n",
       "      <td>-1.124901</td>\n",
       "      <td>0.120227</td>\n",
       "      <td>-0.086591</td>\n",
       "      <td>9.158365</td>\n",
       "    </tr>\n",
       "    <tr>\n",
       "      <th>2994</th>\n",
       "      <td>-0.150851</td>\n",
       "      <td>0.171049</td>\n",
       "      <td>0.301247</td>\n",
       "      <td>0.653709</td>\n",
       "      <td>0.049595</td>\n",
       "      <td>0.854175</td>\n",
       "    </tr>\n",
       "    <tr>\n",
       "      <th>2997</th>\n",
       "      <td>-1.529875</td>\n",
       "      <td>-1.813296</td>\n",
       "      <td>-1.989128</td>\n",
       "      <td>1.279956</td>\n",
       "      <td>-0.511653</td>\n",
       "      <td>0.630092</td>\n",
       "    </tr>\n",
       "    <tr>\n",
       "      <th>3003</th>\n",
       "      <td>1.000000</td>\n",
       "      <td>1.000000</td>\n",
       "      <td>1.000000</td>\n",
       "      <td>1.000000</td>\n",
       "      <td>1.000000</td>\n",
       "      <td>1.000000</td>\n",
       "    </tr>\n",
       "    <tr>\n",
       "      <th>3006</th>\n",
       "      <td>1.000000</td>\n",
       "      <td>1.000000</td>\n",
       "      <td>1.000000</td>\n",
       "      <td>1.000000</td>\n",
       "      <td>1.000000</td>\n",
       "      <td>1.000000</td>\n",
       "    </tr>\n",
       "    <tr>\n",
       "      <th>3009</th>\n",
       "      <td>1.000000</td>\n",
       "      <td>1.000000</td>\n",
       "      <td>1.000000</td>\n",
       "      <td>1.000000</td>\n",
       "      <td>1.000000</td>\n",
       "      <td>1.000000</td>\n",
       "    </tr>\n",
       "    <tr>\n",
       "      <th>3012</th>\n",
       "      <td>1.000000</td>\n",
       "      <td>1.000000</td>\n",
       "      <td>1.000000</td>\n",
       "      <td>1.000000</td>\n",
       "      <td>1.000000</td>\n",
       "      <td>1.000000</td>\n",
       "    </tr>\n",
       "    <tr>\n",
       "      <th>3015</th>\n",
       "      <td>1.000000</td>\n",
       "      <td>1.000000</td>\n",
       "      <td>1.000000</td>\n",
       "      <td>1.000000</td>\n",
       "      <td>1.000000</td>\n",
       "      <td>1.000000</td>\n",
       "    </tr>\n",
       "  </tbody>\n",
       "</table>\n",
       "</div>"
      ],
      "text/plain": [
       "             A         B         C         D         E         F\n",
       "2985 -0.049410 -0.421436 -0.118905  0.845203  0.424697  1.691699\n",
       "2988  0.385888 -0.141475  0.282936 -0.553130  0.087001  6.843422\n",
       "2991 -0.051031 -0.339346 -1.124901  0.120227 -0.086591  9.158365\n",
       "2994 -0.150851  0.171049  0.301247  0.653709  0.049595  0.854175\n",
       "2997 -1.529875 -1.813296 -1.989128  1.279956 -0.511653  0.630092\n",
       "3003  1.000000  1.000000  1.000000  1.000000  1.000000  1.000000\n",
       "3006  1.000000  1.000000  1.000000  1.000000  1.000000  1.000000\n",
       "3009  1.000000  1.000000  1.000000  1.000000  1.000000  1.000000\n",
       "3012  1.000000  1.000000  1.000000  1.000000  1.000000  1.000000\n",
       "3015  1.000000  1.000000  1.000000  1.000000  1.000000  1.000000"
      ]
     },
     "execution_count": 79,
     "metadata": {},
     "output_type": "execute_result"
    }
   ],
   "source": [
    "pd.concat([u, newdata]).tail(10)"
   ]
  },
  {
   "cell_type": "markdown",
   "metadata": {},
   "source": [
    "New columns of data can just be asigned or added with the command `join`."
   ]
  },
  {
   "cell_type": "code",
   "execution_count": 80,
   "metadata": {},
   "outputs": [
    {
     "data": {
      "text/html": [
       "<div>\n",
       "<style>\n",
       "    .dataframe thead tr:only-child th {\n",
       "        text-align: right;\n",
       "    }\n",
       "\n",
       "    .dataframe thead th {\n",
       "        text-align: left;\n",
       "    }\n",
       "\n",
       "    .dataframe tbody tr th {\n",
       "        vertical-align: top;\n",
       "    }\n",
       "</style>\n",
       "<table border=\"1\" class=\"dataframe\">\n",
       "  <thead>\n",
       "    <tr style=\"text-align: right;\">\n",
       "      <th></th>\n",
       "      <th>A</th>\n",
       "      <th>B</th>\n",
       "      <th>C</th>\n",
       "      <th>D</th>\n",
       "      <th>E</th>\n",
       "      <th>F</th>\n",
       "      <th>G</th>\n",
       "      <th>H</th>\n",
       "    </tr>\n",
       "  </thead>\n",
       "  <tbody>\n",
       "    <tr>\n",
       "      <th>0</th>\n",
       "      <td>-0.486390</td>\n",
       "      <td>1.006064</td>\n",
       "      <td>0.321450</td>\n",
       "      <td>0.539001</td>\n",
       "      <td>0.967269</td>\n",
       "      <td>1.209629</td>\n",
       "      <td>666</td>\n",
       "      <td>1337.0</td>\n",
       "    </tr>\n",
       "    <tr>\n",
       "      <th>3</th>\n",
       "      <td>2.400124</td>\n",
       "      <td>0.357823</td>\n",
       "      <td>0.400378</td>\n",
       "      <td>1.625708</td>\n",
       "      <td>0.272849</td>\n",
       "      <td>-2.408059</td>\n",
       "      <td>666</td>\n",
       "      <td>1337.0</td>\n",
       "    </tr>\n",
       "    <tr>\n",
       "      <th>6</th>\n",
       "      <td>-0.485364</td>\n",
       "      <td>0.058415</td>\n",
       "      <td>-0.289454</td>\n",
       "      <td>1.695473</td>\n",
       "      <td>-0.519594</td>\n",
       "      <td>-8.604762</td>\n",
       "      <td>666</td>\n",
       "      <td>1337.0</td>\n",
       "    </tr>\n",
       "    <tr>\n",
       "      <th>9</th>\n",
       "      <td>0.126916</td>\n",
       "      <td>1.599085</td>\n",
       "      <td>1.027031</td>\n",
       "      <td>-0.966302</td>\n",
       "      <td>-0.312185</td>\n",
       "      <td>-0.999061</td>\n",
       "      <td>666</td>\n",
       "      <td>1337.0</td>\n",
       "    </tr>\n",
       "    <tr>\n",
       "      <th>12</th>\n",
       "      <td>1.656042</td>\n",
       "      <td>0.746992</td>\n",
       "      <td>0.581831</td>\n",
       "      <td>-0.269498</td>\n",
       "      <td>-0.885463</td>\n",
       "      <td>-0.595770</td>\n",
       "      <td>666</td>\n",
       "      <td>1337.0</td>\n",
       "    </tr>\n",
       "  </tbody>\n",
       "</table>\n",
       "</div>"
      ],
      "text/plain": [
       "           A         B         C         D         E         F    G       H\n",
       "0  -0.486390  1.006064  0.321450  0.539001  0.967269  1.209629  666  1337.0\n",
       "3   2.400124  0.357823  0.400378  1.625708  0.272849 -2.408059  666  1337.0\n",
       "6  -0.485364  0.058415 -0.289454  1.695473 -0.519594 -8.604762  666  1337.0\n",
       "9   0.126916  1.599085  1.027031 -0.966302 -0.312185 -0.999061  666  1337.0\n",
       "12  1.656042  0.746992  0.581831 -0.269498 -0.885463 -0.595770  666  1337.0"
      ]
     },
     "execution_count": 80,
     "metadata": {},
     "output_type": "execute_result"
    }
   ],
   "source": [
    "u['G'] = 666\n",
    "newcol = pd.Series(np.ones(1000,) * 1337, name='H')\n",
    "u.join(newcol).head()"
   ]
  },
  {
   "cell_type": "markdown",
   "metadata": {},
   "source": [
    "### Loading and saving dataframes\n",
    "\n",
    "To load and save Pandas dataframes we will use the `to_csv` and `read_csv` commands"
   ]
  },
  {
   "cell_type": "code",
   "execution_count": 81,
   "metadata": {},
   "outputs": [
    {
     "data": {
      "text/html": [
       "<div>\n",
       "<style>\n",
       "    .dataframe thead tr:only-child th {\n",
       "        text-align: right;\n",
       "    }\n",
       "\n",
       "    .dataframe thead th {\n",
       "        text-align: left;\n",
       "    }\n",
       "\n",
       "    .dataframe tbody tr th {\n",
       "        vertical-align: top;\n",
       "    }\n",
       "</style>\n",
       "<table border=\"1\" class=\"dataframe\">\n",
       "  <thead>\n",
       "    <tr style=\"text-align: right;\">\n",
       "      <th></th>\n",
       "      <th>A</th>\n",
       "      <th>B</th>\n",
       "      <th>C</th>\n",
       "      <th>D</th>\n",
       "      <th>E</th>\n",
       "      <th>F</th>\n",
       "      <th>G</th>\n",
       "    </tr>\n",
       "  </thead>\n",
       "  <tbody>\n",
       "    <tr>\n",
       "      <th>0</th>\n",
       "      <td>-0.486390</td>\n",
       "      <td>1.006064</td>\n",
       "      <td>0.321450</td>\n",
       "      <td>0.539001</td>\n",
       "      <td>0.967269</td>\n",
       "      <td>1.209629</td>\n",
       "      <td>666</td>\n",
       "    </tr>\n",
       "    <tr>\n",
       "      <th>3</th>\n",
       "      <td>2.400124</td>\n",
       "      <td>0.357823</td>\n",
       "      <td>0.400378</td>\n",
       "      <td>1.625708</td>\n",
       "      <td>0.272849</td>\n",
       "      <td>-2.408059</td>\n",
       "      <td>666</td>\n",
       "    </tr>\n",
       "    <tr>\n",
       "      <th>6</th>\n",
       "      <td>-0.485364</td>\n",
       "      <td>0.058415</td>\n",
       "      <td>-0.289454</td>\n",
       "      <td>1.695473</td>\n",
       "      <td>-0.519594</td>\n",
       "      <td>-8.604762</td>\n",
       "      <td>666</td>\n",
       "    </tr>\n",
       "    <tr>\n",
       "      <th>9</th>\n",
       "      <td>0.126916</td>\n",
       "      <td>1.599085</td>\n",
       "      <td>1.027031</td>\n",
       "      <td>-0.966302</td>\n",
       "      <td>-0.312185</td>\n",
       "      <td>-0.999061</td>\n",
       "      <td>666</td>\n",
       "    </tr>\n",
       "    <tr>\n",
       "      <th>12</th>\n",
       "      <td>1.656042</td>\n",
       "      <td>0.746992</td>\n",
       "      <td>0.581831</td>\n",
       "      <td>-0.269498</td>\n",
       "      <td>-0.885463</td>\n",
       "      <td>-0.595770</td>\n",
       "      <td>666</td>\n",
       "    </tr>\n",
       "  </tbody>\n",
       "</table>\n",
       "</div>"
      ],
      "text/plain": [
       "           A         B         C         D         E         F    G\n",
       "0  -0.486390  1.006064  0.321450  0.539001  0.967269  1.209629  666\n",
       "3   2.400124  0.357823  0.400378  1.625708  0.272849 -2.408059  666\n",
       "6  -0.485364  0.058415 -0.289454  1.695473 -0.519594 -8.604762  666\n",
       "9   0.126916  1.599085  1.027031 -0.966302 -0.312185 -0.999061  666\n",
       "12  1.656042  0.746992  0.581831 -0.269498 -0.885463 -0.595770  666"
      ]
     },
     "execution_count": 81,
     "metadata": {},
     "output_type": "execute_result"
    }
   ],
   "source": [
    "u.to_csv('test.csv')\n",
    "v = pd.read_csv('test.csv', index_col=0)\n",
    "v.head()"
   ]
  },
  {
   "cell_type": "markdown",
   "metadata": {},
   "source": [
    "But, as an addition, Pandas has special commands to load and save Excel spreadsheets (yay!). However, to use it you'll need the `openpyxl` and `xlrd` packages."
   ]
  },
  {
   "cell_type": "code",
   "execution_count": 82,
   "metadata": {},
   "outputs": [
    {
     "data": {
      "text/html": [
       "<div>\n",
       "<style>\n",
       "    .dataframe thead tr:only-child th {\n",
       "        text-align: right;\n",
       "    }\n",
       "\n",
       "    .dataframe thead th {\n",
       "        text-align: left;\n",
       "    }\n",
       "\n",
       "    .dataframe tbody tr th {\n",
       "        vertical-align: top;\n",
       "    }\n",
       "</style>\n",
       "<table border=\"1\" class=\"dataframe\">\n",
       "  <thead>\n",
       "    <tr style=\"text-align: right;\">\n",
       "      <th></th>\n",
       "      <th>A</th>\n",
       "      <th>B</th>\n",
       "      <th>C</th>\n",
       "      <th>D</th>\n",
       "      <th>E</th>\n",
       "      <th>F</th>\n",
       "      <th>G</th>\n",
       "    </tr>\n",
       "  </thead>\n",
       "  <tbody>\n",
       "    <tr>\n",
       "      <th>0</th>\n",
       "      <td>-0.486390</td>\n",
       "      <td>1.006064</td>\n",
       "      <td>0.321450</td>\n",
       "      <td>0.539001</td>\n",
       "      <td>0.967269</td>\n",
       "      <td>1.209629</td>\n",
       "      <td>666</td>\n",
       "    </tr>\n",
       "    <tr>\n",
       "      <th>3</th>\n",
       "      <td>2.400124</td>\n",
       "      <td>0.357823</td>\n",
       "      <td>0.400378</td>\n",
       "      <td>1.625708</td>\n",
       "      <td>0.272849</td>\n",
       "      <td>-2.408059</td>\n",
       "      <td>666</td>\n",
       "    </tr>\n",
       "    <tr>\n",
       "      <th>6</th>\n",
       "      <td>-0.485364</td>\n",
       "      <td>0.058415</td>\n",
       "      <td>-0.289454</td>\n",
       "      <td>1.695473</td>\n",
       "      <td>-0.519594</td>\n",
       "      <td>-8.604762</td>\n",
       "      <td>666</td>\n",
       "    </tr>\n",
       "    <tr>\n",
       "      <th>9</th>\n",
       "      <td>0.126916</td>\n",
       "      <td>1.599085</td>\n",
       "      <td>1.027031</td>\n",
       "      <td>-0.966302</td>\n",
       "      <td>-0.312185</td>\n",
       "      <td>-0.999061</td>\n",
       "      <td>666</td>\n",
       "    </tr>\n",
       "    <tr>\n",
       "      <th>12</th>\n",
       "      <td>1.656042</td>\n",
       "      <td>0.746992</td>\n",
       "      <td>0.581831</td>\n",
       "      <td>-0.269498</td>\n",
       "      <td>-0.885463</td>\n",
       "      <td>-0.595770</td>\n",
       "      <td>666</td>\n",
       "    </tr>\n",
       "  </tbody>\n",
       "</table>\n",
       "</div>"
      ],
      "text/plain": [
       "           A         B         C         D         E         F    G\n",
       "0  -0.486390  1.006064  0.321450  0.539001  0.967269  1.209629  666\n",
       "3   2.400124  0.357823  0.400378  1.625708  0.272849 -2.408059  666\n",
       "6  -0.485364  0.058415 -0.289454  1.695473 -0.519594 -8.604762  666\n",
       "9   0.126916  1.599085  1.027031 -0.966302 -0.312185 -0.999061  666\n",
       "12  1.656042  0.746992  0.581831 -0.269498 -0.885463 -0.595770  666"
      ]
     },
     "execution_count": 82,
     "metadata": {},
     "output_type": "execute_result"
    }
   ],
   "source": [
    "u.to_excel('test.xlsx', sheet_name='My sheet')\n",
    "pd.read_excel('test.xlsx', 'My sheet', index_col=0).head()"
   ]
  },
  {
   "cell_type": "markdown",
   "metadata": {},
   "source": [
    "**Exercise 5**: Download [this dataset](https://raw.githubusercontent.com/ChihChengLiang/pokemongor/master/data-raw/pokemons.csv) and load it, using the first column as the index. Take a look at it, and do the following things:\n",
    "- Choose the columns 'Identifier', 'BaseStamina', 'BaseAttack', 'BaseDefense', 'Type1' and 'Type2' \n",
    "- Create a function that lowercases strings and apply it to 'Type1' and 'Type2' (*Extra: just capitalize the strings, i.e., leave the first letter uppercase and lowercase the rest*)\n",
    "- Create a function that returns a Boolean value (don't be afraif by this, it is a function that returns either True or False) that tells if a Pokémon has high stamina (BaseStamina>170) or not. Store this information in a new column and show the list of Pokémon with high stamina\n",
    "- Show the instructor the last 15 rows of your dataset"
   ]
  },
  {
   "cell_type": "code",
   "execution_count": 83,
   "metadata": {},
   "outputs": [
    {
     "name": "stdout",
     "output_type": "stream",
     "text": [
      "PkMn\n",
      "31      Nidoqueen\n",
      "36       Clefable\n",
      "39     Jigglypuff\n",
      "40     Wigglytuff\n",
      "59       Arcanine\n",
      "62      Poliwrath\n",
      "68        Machamp\n",
      "79       Slowpoke\n",
      "80        Slowbro\n",
      "87        Dewgong\n",
      "89            Muk\n",
      "103     Exeggutor\n",
      "108     Lickitung\n",
      "112        Rhydon\n",
      "113       Chansey\n",
      "115    Kangaskhan\n",
      "130      Gyarados\n",
      "131        Lapras\n",
      "134      Vaporeon\n",
      "143       Snorlax\n",
      "144      Articuno\n",
      "145        Zapdos\n",
      "146       Moltres\n",
      "149     Dragonite\n",
      "150        Mewtwo\n",
      "151           Mew\n",
      "Name: Identifier, dtype: object\n"
     ]
    },
    {
     "data": {
      "text/html": [
       "<div>\n",
       "<style>\n",
       "    .dataframe thead tr:only-child th {\n",
       "        text-align: right;\n",
       "    }\n",
       "\n",
       "    .dataframe thead th {\n",
       "        text-align: left;\n",
       "    }\n",
       "\n",
       "    .dataframe tbody tr th {\n",
       "        vertical-align: top;\n",
       "    }\n",
       "</style>\n",
       "<table border=\"1\" class=\"dataframe\">\n",
       "  <thead>\n",
       "    <tr style=\"text-align: right;\">\n",
       "      <th></th>\n",
       "      <th>Identifier</th>\n",
       "      <th>BaseStamina</th>\n",
       "      <th>BaseAttack</th>\n",
       "      <th>BaseDefense</th>\n",
       "      <th>Type1</th>\n",
       "      <th>Type2</th>\n",
       "      <th>HighStamina</th>\n",
       "    </tr>\n",
       "    <tr>\n",
       "      <th>PkMn</th>\n",
       "      <th></th>\n",
       "      <th></th>\n",
       "      <th></th>\n",
       "      <th></th>\n",
       "      <th></th>\n",
       "      <th></th>\n",
       "      <th></th>\n",
       "    </tr>\n",
       "  </thead>\n",
       "  <tbody>\n",
       "    <tr>\n",
       "      <th>137</th>\n",
       "      <td>Porygon</td>\n",
       "      <td>130</td>\n",
       "      <td>156</td>\n",
       "      <td>158</td>\n",
       "      <td>Normal</td>\n",
       "      <td>None</td>\n",
       "      <td>False</td>\n",
       "    </tr>\n",
       "    <tr>\n",
       "      <th>138</th>\n",
       "      <td>Omanyte</td>\n",
       "      <td>70</td>\n",
       "      <td>132</td>\n",
       "      <td>160</td>\n",
       "      <td>Rock</td>\n",
       "      <td>Water</td>\n",
       "      <td>False</td>\n",
       "    </tr>\n",
       "    <tr>\n",
       "      <th>139</th>\n",
       "      <td>Omastar</td>\n",
       "      <td>140</td>\n",
       "      <td>180</td>\n",
       "      <td>202</td>\n",
       "      <td>Rock</td>\n",
       "      <td>Water</td>\n",
       "      <td>False</td>\n",
       "    </tr>\n",
       "    <tr>\n",
       "      <th>140</th>\n",
       "      <td>Kabuto</td>\n",
       "      <td>60</td>\n",
       "      <td>148</td>\n",
       "      <td>142</td>\n",
       "      <td>Rock</td>\n",
       "      <td>Water</td>\n",
       "      <td>False</td>\n",
       "    </tr>\n",
       "    <tr>\n",
       "      <th>141</th>\n",
       "      <td>Kabutops</td>\n",
       "      <td>120</td>\n",
       "      <td>190</td>\n",
       "      <td>190</td>\n",
       "      <td>Rock</td>\n",
       "      <td>Water</td>\n",
       "      <td>False</td>\n",
       "    </tr>\n",
       "    <tr>\n",
       "      <th>142</th>\n",
       "      <td>Aerodactyl</td>\n",
       "      <td>160</td>\n",
       "      <td>182</td>\n",
       "      <td>162</td>\n",
       "      <td>Rock</td>\n",
       "      <td>Flying</td>\n",
       "      <td>False</td>\n",
       "    </tr>\n",
       "    <tr>\n",
       "      <th>143</th>\n",
       "      <td>Snorlax</td>\n",
       "      <td>320</td>\n",
       "      <td>180</td>\n",
       "      <td>180</td>\n",
       "      <td>Normal</td>\n",
       "      <td>None</td>\n",
       "      <td>True</td>\n",
       "    </tr>\n",
       "    <tr>\n",
       "      <th>144</th>\n",
       "      <td>Articuno</td>\n",
       "      <td>180</td>\n",
       "      <td>198</td>\n",
       "      <td>242</td>\n",
       "      <td>Ice</td>\n",
       "      <td>Flying</td>\n",
       "      <td>True</td>\n",
       "    </tr>\n",
       "    <tr>\n",
       "      <th>145</th>\n",
       "      <td>Zapdos</td>\n",
       "      <td>180</td>\n",
       "      <td>232</td>\n",
       "      <td>194</td>\n",
       "      <td>Electric</td>\n",
       "      <td>Flying</td>\n",
       "      <td>True</td>\n",
       "    </tr>\n",
       "    <tr>\n",
       "      <th>146</th>\n",
       "      <td>Moltres</td>\n",
       "      <td>180</td>\n",
       "      <td>242</td>\n",
       "      <td>194</td>\n",
       "      <td>Fire</td>\n",
       "      <td>Flying</td>\n",
       "      <td>True</td>\n",
       "    </tr>\n",
       "    <tr>\n",
       "      <th>147</th>\n",
       "      <td>Dratini</td>\n",
       "      <td>82</td>\n",
       "      <td>128</td>\n",
       "      <td>110</td>\n",
       "      <td>Dragon</td>\n",
       "      <td>None</td>\n",
       "      <td>False</td>\n",
       "    </tr>\n",
       "    <tr>\n",
       "      <th>148</th>\n",
       "      <td>Dragonair</td>\n",
       "      <td>122</td>\n",
       "      <td>170</td>\n",
       "      <td>152</td>\n",
       "      <td>Dragon</td>\n",
       "      <td>None</td>\n",
       "      <td>False</td>\n",
       "    </tr>\n",
       "    <tr>\n",
       "      <th>149</th>\n",
       "      <td>Dragonite</td>\n",
       "      <td>182</td>\n",
       "      <td>250</td>\n",
       "      <td>212</td>\n",
       "      <td>Dragon</td>\n",
       "      <td>Flying</td>\n",
       "      <td>True</td>\n",
       "    </tr>\n",
       "    <tr>\n",
       "      <th>150</th>\n",
       "      <td>Mewtwo</td>\n",
       "      <td>212</td>\n",
       "      <td>284</td>\n",
       "      <td>202</td>\n",
       "      <td>Psychic</td>\n",
       "      <td>None</td>\n",
       "      <td>True</td>\n",
       "    </tr>\n",
       "    <tr>\n",
       "      <th>151</th>\n",
       "      <td>Mew</td>\n",
       "      <td>200</td>\n",
       "      <td>220</td>\n",
       "      <td>220</td>\n",
       "      <td>Psychic</td>\n",
       "      <td>None</td>\n",
       "      <td>True</td>\n",
       "    </tr>\n",
       "  </tbody>\n",
       "</table>\n",
       "</div>"
      ],
      "text/plain": [
       "      Identifier  BaseStamina  BaseAttack  BaseDefense     Type1   Type2  \\\n",
       "PkMn                                                                       \n",
       "137      Porygon          130         156          158    Normal    None   \n",
       "138      Omanyte           70         132          160      Rock   Water   \n",
       "139      Omastar          140         180          202      Rock   Water   \n",
       "140       Kabuto           60         148          142      Rock   Water   \n",
       "141     Kabutops          120         190          190      Rock   Water   \n",
       "142   Aerodactyl          160         182          162      Rock  Flying   \n",
       "143      Snorlax          320         180          180    Normal    None   \n",
       "144     Articuno          180         198          242       Ice  Flying   \n",
       "145       Zapdos          180         232          194  Electric  Flying   \n",
       "146      Moltres          180         242          194      Fire  Flying   \n",
       "147      Dratini           82         128          110    Dragon    None   \n",
       "148    Dragonair          122         170          152    Dragon    None   \n",
       "149    Dragonite          182         250          212    Dragon  Flying   \n",
       "150       Mewtwo          212         284          202   Psychic    None   \n",
       "151          Mew          200         220          220   Psychic    None   \n",
       "\n",
       "      HighStamina  \n",
       "PkMn               \n",
       "137         False  \n",
       "138         False  \n",
       "139         False  \n",
       "140         False  \n",
       "141         False  \n",
       "142         False  \n",
       "143          True  \n",
       "144          True  \n",
       "145          True  \n",
       "146          True  \n",
       "147         False  \n",
       "148         False  \n",
       "149          True  \n",
       "150          True  \n",
       "151          True  "
      ]
     },
     "execution_count": 83,
     "metadata": {},
     "output_type": "execute_result"
    }
   ],
   "source": [
    "df = pd.read_csv('https://raw.githubusercontent.com/ChihChengLiang/pokemongor/master/data-raw/pokemons.csv', index_col=0)\n",
    "\n",
    "df = df[['Identifier', 'BaseStamina', 'BaseAttack', 'BaseDefense', 'Type1', 'Type2']]\n",
    "\n",
    "capitalize = lambda st: st.capitalize()\n",
    "\n",
    "for col in ['Type1', 'Type2']:\n",
    "    df[col] = df[col].apply(capitalize)\n",
    "    \n",
    "def highstamina(x):\n",
    "    return True if x > 170 else False\n",
    "\n",
    "df['HighStamina'] = df.BaseStamina.apply(highstamina)\n",
    "\n",
    "print(df[df['HighStamina'] == True].Identifier)\n",
    "\n",
    "df.tail(15)"
   ]
  },
  {
   "cell_type": "code",
   "execution_count": 84,
   "metadata": {
    "collapsed": true
   },
   "outputs": [],
   "source": [
    "import pandas as pd\n",
    "\n",
    "df = pd.read_csv('https://raw.githubusercontent.com/ChihChengLiang/pokemongor/master/data-raw/pokemons.csv', index_col=0)\n",
    "\n",
    "df = df[['Identifier', 'BaseStamina', 'BaseAttack', 'BaseDefense', 'Type1', 'Type2']]"
   ]
  },
  {
   "cell_type": "code",
   "execution_count": 85,
   "metadata": {},
   "outputs": [
    {
     "data": {
      "text/html": [
       "<div>\n",
       "<style>\n",
       "    .dataframe thead tr:only-child th {\n",
       "        text-align: right;\n",
       "    }\n",
       "\n",
       "    .dataframe thead th {\n",
       "        text-align: left;\n",
       "    }\n",
       "\n",
       "    .dataframe tbody tr th {\n",
       "        vertical-align: top;\n",
       "    }\n",
       "</style>\n",
       "<table border=\"1\" class=\"dataframe\">\n",
       "  <thead>\n",
       "    <tr style=\"text-align: right;\">\n",
       "      <th></th>\n",
       "      <th>Identifier</th>\n",
       "      <th>BaseStamina</th>\n",
       "      <th>BaseAttack</th>\n",
       "      <th>BaseDefense</th>\n",
       "      <th>Type1</th>\n",
       "      <th>Type2</th>\n",
       "    </tr>\n",
       "    <tr>\n",
       "      <th>PkMn</th>\n",
       "      <th></th>\n",
       "      <th></th>\n",
       "      <th></th>\n",
       "      <th></th>\n",
       "      <th></th>\n",
       "      <th></th>\n",
       "    </tr>\n",
       "  </thead>\n",
       "  <tbody>\n",
       "    <tr>\n",
       "      <th>1</th>\n",
       "      <td>Bulbasaur</td>\n",
       "      <td>90</td>\n",
       "      <td>126</td>\n",
       "      <td>126</td>\n",
       "      <td>GRASS</td>\n",
       "      <td>POISON</td>\n",
       "    </tr>\n",
       "    <tr>\n",
       "      <th>2</th>\n",
       "      <td>Ivysaur</td>\n",
       "      <td>120</td>\n",
       "      <td>156</td>\n",
       "      <td>158</td>\n",
       "      <td>GRASS</td>\n",
       "      <td>POISON</td>\n",
       "    </tr>\n",
       "    <tr>\n",
       "      <th>3</th>\n",
       "      <td>Venusaur</td>\n",
       "      <td>160</td>\n",
       "      <td>198</td>\n",
       "      <td>200</td>\n",
       "      <td>GRASS</td>\n",
       "      <td>POISON</td>\n",
       "    </tr>\n",
       "    <tr>\n",
       "      <th>4</th>\n",
       "      <td>Charmander</td>\n",
       "      <td>78</td>\n",
       "      <td>128</td>\n",
       "      <td>108</td>\n",
       "      <td>FIRE</td>\n",
       "      <td>NONE</td>\n",
       "    </tr>\n",
       "    <tr>\n",
       "      <th>5</th>\n",
       "      <td>Charmeleon</td>\n",
       "      <td>116</td>\n",
       "      <td>160</td>\n",
       "      <td>140</td>\n",
       "      <td>FIRE</td>\n",
       "      <td>NONE</td>\n",
       "    </tr>\n",
       "    <tr>\n",
       "      <th>6</th>\n",
       "      <td>Charizard</td>\n",
       "      <td>156</td>\n",
       "      <td>212</td>\n",
       "      <td>182</td>\n",
       "      <td>FIRE</td>\n",
       "      <td>FLYING</td>\n",
       "    </tr>\n",
       "    <tr>\n",
       "      <th>7</th>\n",
       "      <td>Squirtle</td>\n",
       "      <td>88</td>\n",
       "      <td>112</td>\n",
       "      <td>142</td>\n",
       "      <td>WATER</td>\n",
       "      <td>NONE</td>\n",
       "    </tr>\n",
       "    <tr>\n",
       "      <th>8</th>\n",
       "      <td>Wartortle</td>\n",
       "      <td>118</td>\n",
       "      <td>144</td>\n",
       "      <td>176</td>\n",
       "      <td>WATER</td>\n",
       "      <td>NONE</td>\n",
       "    </tr>\n",
       "    <tr>\n",
       "      <th>9</th>\n",
       "      <td>Blastoise</td>\n",
       "      <td>158</td>\n",
       "      <td>186</td>\n",
       "      <td>222</td>\n",
       "      <td>WATER</td>\n",
       "      <td>NONE</td>\n",
       "    </tr>\n",
       "    <tr>\n",
       "      <th>10</th>\n",
       "      <td>Caterpie</td>\n",
       "      <td>90</td>\n",
       "      <td>62</td>\n",
       "      <td>66</td>\n",
       "      <td>BUG</td>\n",
       "      <td>NONE</td>\n",
       "    </tr>\n",
       "    <tr>\n",
       "      <th>11</th>\n",
       "      <td>Metapod</td>\n",
       "      <td>100</td>\n",
       "      <td>56</td>\n",
       "      <td>86</td>\n",
       "      <td>BUG</td>\n",
       "      <td>NONE</td>\n",
       "    </tr>\n",
       "    <tr>\n",
       "      <th>12</th>\n",
       "      <td>Butterfree</td>\n",
       "      <td>120</td>\n",
       "      <td>144</td>\n",
       "      <td>144</td>\n",
       "      <td>BUG</td>\n",
       "      <td>FLYING</td>\n",
       "    </tr>\n",
       "    <tr>\n",
       "      <th>13</th>\n",
       "      <td>Weedle</td>\n",
       "      <td>80</td>\n",
       "      <td>68</td>\n",
       "      <td>64</td>\n",
       "      <td>BUG</td>\n",
       "      <td>POISON</td>\n",
       "    </tr>\n",
       "    <tr>\n",
       "      <th>14</th>\n",
       "      <td>Kakuna</td>\n",
       "      <td>90</td>\n",
       "      <td>62</td>\n",
       "      <td>82</td>\n",
       "      <td>BUG</td>\n",
       "      <td>POISON</td>\n",
       "    </tr>\n",
       "    <tr>\n",
       "      <th>15</th>\n",
       "      <td>Beedrill</td>\n",
       "      <td>130</td>\n",
       "      <td>144</td>\n",
       "      <td>130</td>\n",
       "      <td>BUG</td>\n",
       "      <td>POISON</td>\n",
       "    </tr>\n",
       "    <tr>\n",
       "      <th>16</th>\n",
       "      <td>Pidgey</td>\n",
       "      <td>80</td>\n",
       "      <td>94</td>\n",
       "      <td>90</td>\n",
       "      <td>NORMAL</td>\n",
       "      <td>FLYING</td>\n",
       "    </tr>\n",
       "    <tr>\n",
       "      <th>17</th>\n",
       "      <td>Pidgeotto</td>\n",
       "      <td>126</td>\n",
       "      <td>126</td>\n",
       "      <td>122</td>\n",
       "      <td>NORMAL</td>\n",
       "      <td>FLYING</td>\n",
       "    </tr>\n",
       "    <tr>\n",
       "      <th>18</th>\n",
       "      <td>Pidgeot</td>\n",
       "      <td>166</td>\n",
       "      <td>170</td>\n",
       "      <td>166</td>\n",
       "      <td>NORMAL</td>\n",
       "      <td>FLYING</td>\n",
       "    </tr>\n",
       "    <tr>\n",
       "      <th>19</th>\n",
       "      <td>Rattata</td>\n",
       "      <td>60</td>\n",
       "      <td>92</td>\n",
       "      <td>86</td>\n",
       "      <td>NORMAL</td>\n",
       "      <td>NONE</td>\n",
       "    </tr>\n",
       "    <tr>\n",
       "      <th>20</th>\n",
       "      <td>Raticate</td>\n",
       "      <td>110</td>\n",
       "      <td>146</td>\n",
       "      <td>150</td>\n",
       "      <td>NORMAL</td>\n",
       "      <td>NONE</td>\n",
       "    </tr>\n",
       "    <tr>\n",
       "      <th>21</th>\n",
       "      <td>Spearow</td>\n",
       "      <td>80</td>\n",
       "      <td>102</td>\n",
       "      <td>78</td>\n",
       "      <td>NORMAL</td>\n",
       "      <td>FLYING</td>\n",
       "    </tr>\n",
       "    <tr>\n",
       "      <th>22</th>\n",
       "      <td>Fearow</td>\n",
       "      <td>130</td>\n",
       "      <td>168</td>\n",
       "      <td>146</td>\n",
       "      <td>NORMAL</td>\n",
       "      <td>FLYING</td>\n",
       "    </tr>\n",
       "    <tr>\n",
       "      <th>23</th>\n",
       "      <td>Ekans</td>\n",
       "      <td>70</td>\n",
       "      <td>112</td>\n",
       "      <td>112</td>\n",
       "      <td>POISON</td>\n",
       "      <td>NONE</td>\n",
       "    </tr>\n",
       "    <tr>\n",
       "      <th>24</th>\n",
       "      <td>Arbok</td>\n",
       "      <td>120</td>\n",
       "      <td>166</td>\n",
       "      <td>166</td>\n",
       "      <td>POISON</td>\n",
       "      <td>NONE</td>\n",
       "    </tr>\n",
       "    <tr>\n",
       "      <th>25</th>\n",
       "      <td>Pikachu</td>\n",
       "      <td>70</td>\n",
       "      <td>124</td>\n",
       "      <td>108</td>\n",
       "      <td>ELECTRIC</td>\n",
       "      <td>NONE</td>\n",
       "    </tr>\n",
       "    <tr>\n",
       "      <th>26</th>\n",
       "      <td>Raichu</td>\n",
       "      <td>120</td>\n",
       "      <td>200</td>\n",
       "      <td>154</td>\n",
       "      <td>ELECTRIC</td>\n",
       "      <td>NONE</td>\n",
       "    </tr>\n",
       "    <tr>\n",
       "      <th>27</th>\n",
       "      <td>Sandshrew</td>\n",
       "      <td>100</td>\n",
       "      <td>90</td>\n",
       "      <td>114</td>\n",
       "      <td>GROUND</td>\n",
       "      <td>NONE</td>\n",
       "    </tr>\n",
       "    <tr>\n",
       "      <th>28</th>\n",
       "      <td>Sandslash</td>\n",
       "      <td>150</td>\n",
       "      <td>150</td>\n",
       "      <td>172</td>\n",
       "      <td>GROUND</td>\n",
       "      <td>NONE</td>\n",
       "    </tr>\n",
       "    <tr>\n",
       "      <th>29</th>\n",
       "      <td>Nidoran</td>\n",
       "      <td>110</td>\n",
       "      <td>100</td>\n",
       "      <td>104</td>\n",
       "      <td>POISON</td>\n",
       "      <td>NONE</td>\n",
       "    </tr>\n",
       "    <tr>\n",
       "      <th>30</th>\n",
       "      <td>Nidorina</td>\n",
       "      <td>140</td>\n",
       "      <td>132</td>\n",
       "      <td>136</td>\n",
       "      <td>POISON</td>\n",
       "      <td>NONE</td>\n",
       "    </tr>\n",
       "    <tr>\n",
       "      <th>...</th>\n",
       "      <td>...</td>\n",
       "      <td>...</td>\n",
       "      <td>...</td>\n",
       "      <td>...</td>\n",
       "      <td>...</td>\n",
       "      <td>...</td>\n",
       "    </tr>\n",
       "    <tr>\n",
       "      <th>109</th>\n",
       "      <td>Koffing</td>\n",
       "      <td>80</td>\n",
       "      <td>136</td>\n",
       "      <td>142</td>\n",
       "      <td>POISON</td>\n",
       "      <td>NONE</td>\n",
       "    </tr>\n",
       "    <tr>\n",
       "      <th>110</th>\n",
       "      <td>Weezing</td>\n",
       "      <td>130</td>\n",
       "      <td>190</td>\n",
       "      <td>198</td>\n",
       "      <td>POISON</td>\n",
       "      <td>NONE</td>\n",
       "    </tr>\n",
       "    <tr>\n",
       "      <th>111</th>\n",
       "      <td>Rhyhorn</td>\n",
       "      <td>160</td>\n",
       "      <td>110</td>\n",
       "      <td>116</td>\n",
       "      <td>GROUND</td>\n",
       "      <td>ROCK</td>\n",
       "    </tr>\n",
       "    <tr>\n",
       "      <th>114</th>\n",
       "      <td>Tangela</td>\n",
       "      <td>130</td>\n",
       "      <td>164</td>\n",
       "      <td>152</td>\n",
       "      <td>GRASS</td>\n",
       "      <td>NONE</td>\n",
       "    </tr>\n",
       "    <tr>\n",
       "      <th>116</th>\n",
       "      <td>Horsea</td>\n",
       "      <td>60</td>\n",
       "      <td>122</td>\n",
       "      <td>100</td>\n",
       "      <td>WATER</td>\n",
       "      <td>NONE</td>\n",
       "    </tr>\n",
       "    <tr>\n",
       "      <th>117</th>\n",
       "      <td>Seadra</td>\n",
       "      <td>110</td>\n",
       "      <td>176</td>\n",
       "      <td>150</td>\n",
       "      <td>WATER</td>\n",
       "      <td>NONE</td>\n",
       "    </tr>\n",
       "    <tr>\n",
       "      <th>118</th>\n",
       "      <td>Goldeen</td>\n",
       "      <td>90</td>\n",
       "      <td>112</td>\n",
       "      <td>126</td>\n",
       "      <td>WATER</td>\n",
       "      <td>NONE</td>\n",
       "    </tr>\n",
       "    <tr>\n",
       "      <th>119</th>\n",
       "      <td>Seaking</td>\n",
       "      <td>160</td>\n",
       "      <td>172</td>\n",
       "      <td>160</td>\n",
       "      <td>WATER</td>\n",
       "      <td>NONE</td>\n",
       "    </tr>\n",
       "    <tr>\n",
       "      <th>120</th>\n",
       "      <td>Staryu</td>\n",
       "      <td>60</td>\n",
       "      <td>130</td>\n",
       "      <td>128</td>\n",
       "      <td>WATER</td>\n",
       "      <td>NONE</td>\n",
       "    </tr>\n",
       "    <tr>\n",
       "      <th>121</th>\n",
       "      <td>Starmie</td>\n",
       "      <td>120</td>\n",
       "      <td>194</td>\n",
       "      <td>192</td>\n",
       "      <td>WATER</td>\n",
       "      <td>PSYCHIC</td>\n",
       "    </tr>\n",
       "    <tr>\n",
       "      <th>122</th>\n",
       "      <td>Mime</td>\n",
       "      <td>80</td>\n",
       "      <td>154</td>\n",
       "      <td>196</td>\n",
       "      <td>PSYCHIC</td>\n",
       "      <td>FAIRY</td>\n",
       "    </tr>\n",
       "    <tr>\n",
       "      <th>123</th>\n",
       "      <td>Scyther</td>\n",
       "      <td>140</td>\n",
       "      <td>176</td>\n",
       "      <td>180</td>\n",
       "      <td>BUG</td>\n",
       "      <td>FLYING</td>\n",
       "    </tr>\n",
       "    <tr>\n",
       "      <th>124</th>\n",
       "      <td>Jynx</td>\n",
       "      <td>130</td>\n",
       "      <td>172</td>\n",
       "      <td>134</td>\n",
       "      <td>ICE</td>\n",
       "      <td>PSYCHIC</td>\n",
       "    </tr>\n",
       "    <tr>\n",
       "      <th>125</th>\n",
       "      <td>Electabuzz</td>\n",
       "      <td>130</td>\n",
       "      <td>198</td>\n",
       "      <td>160</td>\n",
       "      <td>ELECTRIC</td>\n",
       "      <td>NONE</td>\n",
       "    </tr>\n",
       "    <tr>\n",
       "      <th>126</th>\n",
       "      <td>Magmar</td>\n",
       "      <td>130</td>\n",
       "      <td>214</td>\n",
       "      <td>158</td>\n",
       "      <td>FIRE</td>\n",
       "      <td>NONE</td>\n",
       "    </tr>\n",
       "    <tr>\n",
       "      <th>127</th>\n",
       "      <td>Pinsir</td>\n",
       "      <td>130</td>\n",
       "      <td>184</td>\n",
       "      <td>186</td>\n",
       "      <td>BUG</td>\n",
       "      <td>NONE</td>\n",
       "    </tr>\n",
       "    <tr>\n",
       "      <th>128</th>\n",
       "      <td>Tauros</td>\n",
       "      <td>150</td>\n",
       "      <td>148</td>\n",
       "      <td>184</td>\n",
       "      <td>NORMAL</td>\n",
       "      <td>NONE</td>\n",
       "    </tr>\n",
       "    <tr>\n",
       "      <th>129</th>\n",
       "      <td>Magikarp</td>\n",
       "      <td>40</td>\n",
       "      <td>42</td>\n",
       "      <td>84</td>\n",
       "      <td>WATER</td>\n",
       "      <td>NONE</td>\n",
       "    </tr>\n",
       "    <tr>\n",
       "      <th>132</th>\n",
       "      <td>Ditto</td>\n",
       "      <td>96</td>\n",
       "      <td>110</td>\n",
       "      <td>110</td>\n",
       "      <td>NORMAL</td>\n",
       "      <td>NONE</td>\n",
       "    </tr>\n",
       "    <tr>\n",
       "      <th>133</th>\n",
       "      <td>Eevee</td>\n",
       "      <td>110</td>\n",
       "      <td>114</td>\n",
       "      <td>128</td>\n",
       "      <td>NORMAL</td>\n",
       "      <td>NONE</td>\n",
       "    </tr>\n",
       "    <tr>\n",
       "      <th>135</th>\n",
       "      <td>Jolteon</td>\n",
       "      <td>130</td>\n",
       "      <td>192</td>\n",
       "      <td>174</td>\n",
       "      <td>ELECTRIC</td>\n",
       "      <td>NONE</td>\n",
       "    </tr>\n",
       "    <tr>\n",
       "      <th>136</th>\n",
       "      <td>Flareon</td>\n",
       "      <td>130</td>\n",
       "      <td>238</td>\n",
       "      <td>178</td>\n",
       "      <td>FIRE</td>\n",
       "      <td>NONE</td>\n",
       "    </tr>\n",
       "    <tr>\n",
       "      <th>137</th>\n",
       "      <td>Porygon</td>\n",
       "      <td>130</td>\n",
       "      <td>156</td>\n",
       "      <td>158</td>\n",
       "      <td>NORMAL</td>\n",
       "      <td>NONE</td>\n",
       "    </tr>\n",
       "    <tr>\n",
       "      <th>138</th>\n",
       "      <td>Omanyte</td>\n",
       "      <td>70</td>\n",
       "      <td>132</td>\n",
       "      <td>160</td>\n",
       "      <td>ROCK</td>\n",
       "      <td>WATER</td>\n",
       "    </tr>\n",
       "    <tr>\n",
       "      <th>139</th>\n",
       "      <td>Omastar</td>\n",
       "      <td>140</td>\n",
       "      <td>180</td>\n",
       "      <td>202</td>\n",
       "      <td>ROCK</td>\n",
       "      <td>WATER</td>\n",
       "    </tr>\n",
       "    <tr>\n",
       "      <th>140</th>\n",
       "      <td>Kabuto</td>\n",
       "      <td>60</td>\n",
       "      <td>148</td>\n",
       "      <td>142</td>\n",
       "      <td>ROCK</td>\n",
       "      <td>WATER</td>\n",
       "    </tr>\n",
       "    <tr>\n",
       "      <th>141</th>\n",
       "      <td>Kabutops</td>\n",
       "      <td>120</td>\n",
       "      <td>190</td>\n",
       "      <td>190</td>\n",
       "      <td>ROCK</td>\n",
       "      <td>WATER</td>\n",
       "    </tr>\n",
       "    <tr>\n",
       "      <th>142</th>\n",
       "      <td>Aerodactyl</td>\n",
       "      <td>160</td>\n",
       "      <td>182</td>\n",
       "      <td>162</td>\n",
       "      <td>ROCK</td>\n",
       "      <td>FLYING</td>\n",
       "    </tr>\n",
       "    <tr>\n",
       "      <th>147</th>\n",
       "      <td>Dratini</td>\n",
       "      <td>82</td>\n",
       "      <td>128</td>\n",
       "      <td>110</td>\n",
       "      <td>DRAGON</td>\n",
       "      <td>NONE</td>\n",
       "    </tr>\n",
       "    <tr>\n",
       "      <th>148</th>\n",
       "      <td>Dragonair</td>\n",
       "      <td>122</td>\n",
       "      <td>170</td>\n",
       "      <td>152</td>\n",
       "      <td>DRAGON</td>\n",
       "      <td>NONE</td>\n",
       "    </tr>\n",
       "  </tbody>\n",
       "</table>\n",
       "<p>125 rows × 6 columns</p>\n",
       "</div>"
      ],
      "text/plain": [
       "      Identifier  BaseStamina  BaseAttack  BaseDefense     Type1    Type2\n",
       "PkMn                                                                     \n",
       "1      Bulbasaur           90         126          126     GRASS   POISON\n",
       "2        Ivysaur          120         156          158     GRASS   POISON\n",
       "3       Venusaur          160         198          200     GRASS   POISON\n",
       "4     Charmander           78         128          108      FIRE     NONE\n",
       "5     Charmeleon          116         160          140      FIRE     NONE\n",
       "6      Charizard          156         212          182      FIRE   FLYING\n",
       "7       Squirtle           88         112          142     WATER     NONE\n",
       "8      Wartortle          118         144          176     WATER     NONE\n",
       "9      Blastoise          158         186          222     WATER     NONE\n",
       "10      Caterpie           90          62           66       BUG     NONE\n",
       "11       Metapod          100          56           86       BUG     NONE\n",
       "12    Butterfree          120         144          144       BUG   FLYING\n",
       "13        Weedle           80          68           64       BUG   POISON\n",
       "14        Kakuna           90          62           82       BUG   POISON\n",
       "15      Beedrill          130         144          130       BUG   POISON\n",
       "16        Pidgey           80          94           90    NORMAL   FLYING\n",
       "17     Pidgeotto          126         126          122    NORMAL   FLYING\n",
       "18       Pidgeot          166         170          166    NORMAL   FLYING\n",
       "19       Rattata           60          92           86    NORMAL     NONE\n",
       "20      Raticate          110         146          150    NORMAL     NONE\n",
       "21       Spearow           80         102           78    NORMAL   FLYING\n",
       "22        Fearow          130         168          146    NORMAL   FLYING\n",
       "23         Ekans           70         112          112    POISON     NONE\n",
       "24         Arbok          120         166          166    POISON     NONE\n",
       "25       Pikachu           70         124          108  ELECTRIC     NONE\n",
       "26        Raichu          120         200          154  ELECTRIC     NONE\n",
       "27     Sandshrew          100          90          114    GROUND     NONE\n",
       "28     Sandslash          150         150          172    GROUND     NONE\n",
       "29       Nidoran          110         100          104    POISON     NONE\n",
       "30      Nidorina          140         132          136    POISON     NONE\n",
       "...          ...          ...         ...          ...       ...      ...\n",
       "109      Koffing           80         136          142    POISON     NONE\n",
       "110      Weezing          130         190          198    POISON     NONE\n",
       "111      Rhyhorn          160         110          116    GROUND     ROCK\n",
       "114      Tangela          130         164          152     GRASS     NONE\n",
       "116       Horsea           60         122          100     WATER     NONE\n",
       "117       Seadra          110         176          150     WATER     NONE\n",
       "118      Goldeen           90         112          126     WATER     NONE\n",
       "119      Seaking          160         172          160     WATER     NONE\n",
       "120       Staryu           60         130          128     WATER     NONE\n",
       "121      Starmie          120         194          192     WATER  PSYCHIC\n",
       "122         Mime           80         154          196   PSYCHIC    FAIRY\n",
       "123      Scyther          140         176          180       BUG   FLYING\n",
       "124         Jynx          130         172          134       ICE  PSYCHIC\n",
       "125   Electabuzz          130         198          160  ELECTRIC     NONE\n",
       "126       Magmar          130         214          158      FIRE     NONE\n",
       "127       Pinsir          130         184          186       BUG     NONE\n",
       "128       Tauros          150         148          184    NORMAL     NONE\n",
       "129     Magikarp           40          42           84     WATER     NONE\n",
       "132        Ditto           96         110          110    NORMAL     NONE\n",
       "133        Eevee          110         114          128    NORMAL     NONE\n",
       "135      Jolteon          130         192          174  ELECTRIC     NONE\n",
       "136      Flareon          130         238          178      FIRE     NONE\n",
       "137      Porygon          130         156          158    NORMAL     NONE\n",
       "138      Omanyte           70         132          160      ROCK    WATER\n",
       "139      Omastar          140         180          202      ROCK    WATER\n",
       "140       Kabuto           60         148          142      ROCK    WATER\n",
       "141     Kabutops          120         190          190      ROCK    WATER\n",
       "142   Aerodactyl          160         182          162      ROCK   FLYING\n",
       "147      Dratini           82         128          110    DRAGON     NONE\n",
       "148    Dragonair          122         170          152    DRAGON     NONE\n",
       "\n",
       "[125 rows x 6 columns]"
      ]
     },
     "execution_count": 85,
     "metadata": {},
     "output_type": "execute_result"
    }
   ],
   "source": [
    "df[~(df.BaseStamina > 170)]"
   ]
  }
 ],
 "metadata": {
  "kernelspec": {
   "display_name": "Python [default]",
   "language": "python",
   "name": "python3"
  },
  "language_info": {
   "codemirror_mode": {
    "name": "ipython",
    "version": 3
   },
   "file_extension": ".py",
   "mimetype": "text/x-python",
   "name": "python",
   "nbconvert_exporter": "python",
   "pygments_lexer": "ipython3",
   "version": "3.6.2"
  }
 },
 "nbformat": 4,
 "nbformat_minor": 2
}
