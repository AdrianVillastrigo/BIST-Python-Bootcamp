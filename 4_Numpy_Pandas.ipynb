{
 "cells": [
  {
   "cell_type": "markdown",
   "metadata": {},
   "source": [
    "# 4 NumPy and Pandas\n",
    "\n",
    "## Introduction\n",
    "\n",
    "After getting used to how Python works, it is the moment to begin getting our hands dirty with data analysis. We will study two packages: [NumPy](http://www.numpy.org/) is the fundamental numeric computing and linear algebra package in Python, that allows for decent data analysis. We will learn it not only for the data analysis, but more importantly because it will be a package that will be always present in our `import` section as scientists. After NumPy we will go to [Pandas](http://pandas.pydata.org/). Pandas is a dedicated data analysis package with a lot more functionalities than NumPy, making our life much easier in terms of data visualization and manipulation. All the power of Pandas will be completely unleashed in Section 5, where we will see how to visualize information in plots.\n",
    "\n",
    "As usual, we begin importing the necessary packages"
   ]
  },
  {
   "cell_type": "code",
   "execution_count": 1,
   "metadata": {},
   "outputs": [
    {
     "name": "stdout",
     "output_type": "stream",
     "text": [
      "NumPy: 1.15.0\n",
      "Pandas: 0.23.4\n"
     ]
    }
   ],
   "source": [
    "import numpy as np\n",
    "import pandas as pd\n",
    "print(\"NumPy:\", np.__version__)\n",
    "print(\"Pandas:\", pd.__version__)"
   ]
  },
  {
   "cell_type": "markdown",
   "metadata": {},
   "source": [
    "## Numeric Python (NumPy)\n",
    "\n",
    "NumPy is an open-source add-on module to Python that provides common mathematical and numerical routines in pre-compiled, fast functions. These are growing into highly mature packages that provide functionality that meets, or perhaps exceeds, that\n",
    "associated with common commercial software like MATLAB. The [NumPy](http://www.numpy.org/) (Numeric Python) package provides basic routines for manipulating large arrays and matrices of numeric data. The main object NumPy works with is a *homogeneous multidimensional array*. Despite its intimidating name, these are nothing but tables of numbers, each labelled by a tuple of indices.\n",
    "\n",
    "We will now explore some capabilities of NumPy that will prove very useful not only for data analyisis, but throughout all our life with Python."
   ]
  },
  {
   "cell_type": "markdown",
   "metadata": {},
   "source": [
    "### Creating Arrays\n",
    "\n",
    "As mentioned before, the main object in NumPy is the *array*. Creating one is as easy as calling the command `array`"
   ]
  },
  {
   "cell_type": "code",
   "execution_count": 2,
   "metadata": {},
   "outputs": [
    {
     "data": {
      "text/plain": [
       "array([1, 2, 3])"
      ]
     },
     "execution_count": 2,
     "metadata": {},
     "output_type": "execute_result"
    }
   ],
   "source": [
    "mylist = [1, 2, 3]\n",
    "x = np.array(mylist)\n",
    "x"
   ]
  },
  {
   "cell_type": "code",
   "execution_count": 3,
   "metadata": {},
   "outputs": [
    {
     "data": {
      "text/plain": [
       "numpy.ndarray"
      ]
     },
     "execution_count": 3,
     "metadata": {},
     "output_type": "execute_result"
    }
   ],
   "source": [
    "type(x)"
   ]
  },
  {
   "cell_type": "markdown",
   "metadata": {},
   "source": [
    "The same applies to multidimensional arrays"
   ]
  },
  {
   "cell_type": "code",
   "execution_count": 4,
   "metadata": {},
   "outputs": [
    {
     "data": {
      "text/plain": [
       "array([[[ 7,  8,  9],\n",
       "        [10, 11, 12]],\n",
       "\n",
       "       [[ 1,  2,  3],\n",
       "        [ 4,  5,  6]]])"
      ]
     },
     "execution_count": 4,
     "metadata": {},
     "output_type": "execute_result"
    }
   ],
   "source": [
    "m = np.array([[[7, 8, 9], [10, 11, 12]], [[1, 2, 3], [4, 5, 6]]])\n",
    "m"
   ]
  },
  {
   "cell_type": "markdown",
   "metadata": {},
   "source": [
    "There is one restriction with respect to the use of lists: while you could create lists with data of different type, all the data in an array has to be of the same type, and it will be converted automatically."
   ]
  },
  {
   "cell_type": "code",
   "execution_count": 5,
   "metadata": {},
   "outputs": [
    {
     "name": "stdout",
     "output_type": "stream",
     "text": [
      "<class 'float'>\n",
      "<class 'numpy.str_'>\n"
     ]
    }
   ],
   "source": [
    "lst = [1., 'cat']\n",
    "print(type(lst[0]))\n",
    "\n",
    "arr = np.array(lst)\n",
    "print(type(arr[0]))"
   ]
  },
  {
   "cell_type": "markdown",
   "metadata": {},
   "source": [
    "(We will go deeper into indexing in a while)\n",
    "\n",
    "-----\n",
    "A NumPy array has a number of dimensions (or *axes*). To obtain the number of axes and the size of each of them you use the command `shape`. For 2-dimensional arrays (matrices), the order corresponds to (rows, columns)\n",
    "\n",
    "There are two different ways of calling the `shape` command, either with `np.shape(arr)` or `arr.shape`. This is not the only command that works in both formats, and we will be finding some more in our way."
   ]
  },
  {
   "cell_type": "code",
   "execution_count": 6,
   "metadata": {},
   "outputs": [
    {
     "name": "stdout",
     "output_type": "stream",
     "text": [
      "(3,)\n",
      "(2, 2, 3)\n"
     ]
    }
   ],
   "source": [
    "print(x.shape)\n",
    "print(np.shape(m))"
   ]
  },
  {
   "cell_type": "markdown",
   "metadata": {},
   "source": [
    "### Special Arrays\n",
    "\n",
    "Now we review some built-in functions that create matrices commonly used. `ones` and `zeros` return arrays of given shape and type (default is float64), filled with ones or zeros, respectively."
   ]
  },
  {
   "cell_type": "code",
   "execution_count": 7,
   "metadata": {
    "collapsed": true
   },
   "outputs": [],
   "source": [
    "array_zeros=np.zeros((3, 2))\n",
    "array_ones=np.ones((3, 2, 4), dtype=np.int8)"
   ]
  },
  {
   "cell_type": "code",
   "execution_count": 8,
   "metadata": {},
   "outputs": [
    {
     "data": {
      "text/plain": [
       "array([[0., 0.],\n",
       "       [0., 0.],\n",
       "       [0., 0.]])"
      ]
     },
     "execution_count": 8,
     "metadata": {},
     "output_type": "execute_result"
    }
   ],
   "source": [
    "array_zeros"
   ]
  },
  {
   "cell_type": "code",
   "execution_count": 9,
   "metadata": {},
   "outputs": [
    {
     "data": {
      "text/plain": [
       "array([[[1, 1, 1, 1],\n",
       "        [1, 1, 1, 1]],\n",
       "\n",
       "       [[1, 1, 1, 1],\n",
       "        [1, 1, 1, 1]],\n",
       "\n",
       "       [[1, 1, 1, 1],\n",
       "        [1, 1, 1, 1]]], dtype=int8)"
      ]
     },
     "execution_count": 9,
     "metadata": {},
     "output_type": "execute_result"
    }
   ],
   "source": [
    "array_ones"
   ]
  },
  {
   "cell_type": "markdown",
   "metadata": {},
   "source": [
    "`eye(d)` returns a 2-D, dimension-$d$ array with ones on the diagonal and zeros elsewhere."
   ]
  },
  {
   "cell_type": "code",
   "execution_count": 10,
   "metadata": {},
   "outputs": [
    {
     "data": {
      "text/plain": [
       "array([[1., 0., 0.],\n",
       "       [0., 1., 0.],\n",
       "       [0., 0., 1.]])"
      ]
     },
     "execution_count": 10,
     "metadata": {},
     "output_type": "execute_result"
    }
   ],
   "source": [
    "np.eye(3)"
   ]
  },
  {
   "cell_type": "markdown",
   "metadata": {},
   "source": [
    "`eye` can also create arrays with ones in upper and lower diagonals. To achieve this, you must call `eye(d, d, k)` where $k$ denotes the diagonal (positive for above the center diagonal, negative for below), or `eye(d, k=num)`"
   ]
  },
  {
   "cell_type": "code",
   "execution_count": 11,
   "metadata": {},
   "outputs": [
    {
     "name": "stdout",
     "output_type": "stream",
     "text": [
      "[[0. 0. 1. 0. 0.]\n",
      " [0. 0. 0. 1. 0.]\n",
      " [0. 0. 0. 0. 1.]\n",
      " [0. 0. 0. 0. 0.]\n",
      " [0. 0. 0. 0. 0.]]\n"
     ]
    },
    {
     "data": {
      "text/plain": [
       "array([[0., 0., 0., 0., 0.],\n",
       "       [1., 0., 0., 0., 0.],\n",
       "       [0., 1., 0., 0., 0.],\n",
       "       [0., 0., 1., 0., 0.],\n",
       "       [0., 0., 0., 1., 0.]])"
      ]
     },
     "execution_count": 11,
     "metadata": {},
     "output_type": "execute_result"
    }
   ],
   "source": [
    "print(np.eye(5, 5, 2))\n",
    "np.eye(5, k=-1)"
   ]
  },
  {
   "cell_type": "markdown",
   "metadata": {},
   "source": [
    "`diag`, depending on the input, either extracts a diagonal from a matrix (if the input is a 2-D array), or constructs a diagonal array (if the input is a vector)."
   ]
  },
  {
   "cell_type": "code",
   "execution_count": 12,
   "metadata": {},
   "outputs": [
    {
     "data": {
      "text/plain": [
       "array([[0, 1, 0, 0],\n",
       "       [0, 0, 2, 0],\n",
       "       [0, 0, 0, 3],\n",
       "       [0, 0, 0, 0]])"
      ]
     },
     "execution_count": 12,
     "metadata": {},
     "output_type": "execute_result"
    }
   ],
   "source": [
    "np.diag(x, 1)"
   ]
  },
  {
   "cell_type": "code",
   "execution_count": 13,
   "metadata": {},
   "outputs": [
    {
     "name": "stdout",
     "output_type": "stream",
     "text": [
      "[ 1  6 11 16]\n"
     ]
    },
    {
     "data": {
      "text/plain": [
       "array([[ 1,  0,  0,  0],\n",
       "       [ 0,  6,  0,  0],\n",
       "       [ 0,  0, 11,  0],\n",
       "       [ 0,  0,  0, 16]])"
      ]
     },
     "execution_count": 13,
     "metadata": {},
     "output_type": "execute_result"
    }
   ],
   "source": [
    "y = np.array([[1, 2, 3, 4], [5, 6, 7, 8], [9, 10, 11, 12], [13, 14, 15, 16]])\n",
    "print(np.diag(y))\n",
    "np.diag(np.diag(y))"
   ]
  },
  {
   "cell_type": "markdown",
   "metadata": {},
   "source": [
    "`arange(begin, end, step)` returns evenly spaced values within a given interval. Note that the beginning point is included, but not the ending."
   ]
  },
  {
   "cell_type": "code",
   "execution_count": 14,
   "metadata": {},
   "outputs": [
    {
     "data": {
      "text/plain": [
       "array([ 0,  2,  4,  6,  8, 10, 12, 14, 16, 18, 20, 22, 24, 26, 28])"
      ]
     },
     "execution_count": 14,
     "metadata": {},
     "output_type": "execute_result"
    }
   ],
   "source": [
    "n = np.arange(0, 30, 2) # start at 0 count up by 2, stop before 30\n",
    "n"
   ]
  },
  {
   "cell_type": "code",
   "execution_count": 15,
   "metadata": {},
   "outputs": [
    {
     "data": {
      "text/plain": [
       "15"
      ]
     },
     "execution_count": 15,
     "metadata": {},
     "output_type": "execute_result"
    }
   ],
   "source": [
    "len(n)"
   ]
  },
  {
   "cell_type": "markdown",
   "metadata": {},
   "source": [
    "**Exercise 1**: Create an array of the first million of odd numbers, both with `arange` and using loops. Try timing both methods to see which one is faster. For that, use `%timeit`."
   ]
  },
  {
   "cell_type": "code",
   "execution_count": 16,
   "metadata": {},
   "outputs": [
    {
     "name": "stdout",
     "output_type": "stream",
     "text": [
      "473 µs ± 1.29 µs per loop (mean ± std. dev. of 7 runs, 1000 loops each)\n",
      "88 ms ± 631 µs per loop (mean ± std. dev. of 7 runs, 10 loops each)\n"
     ]
    }
   ],
   "source": [
    "%timeit np.arange(0, 2e6, 2)\n",
    "\n",
    "%timeit [i for i in range(2000000) if i % 2 == 0]"
   ]
  },
  {
   "cell_type": "markdown",
   "metadata": {},
   "source": [
    "Similarly, `linspace(begin, end, points)` returns evenly spaced numbers over a specified interval. Here, instead of specifying the step, you specify the amount of points you want. Also with `linspace` you include the ending of the interval."
   ]
  },
  {
   "cell_type": "code",
   "execution_count": 17,
   "metadata": {},
   "outputs": [
    {
     "data": {
      "text/plain": [
       "array([ 0.        ,  2.14285714,  4.28571429,  6.42857143,  8.57142857,\n",
       "       10.71428571, 12.85714286, 15.        , 17.14285714, 19.28571429,\n",
       "       21.42857143, 23.57142857, 25.71428571, 27.85714286, 30.        ])"
      ]
     },
     "execution_count": 17,
     "metadata": {},
     "output_type": "execute_result"
    }
   ],
   "source": [
    "o = np.linspace(0, 30, 15)\n",
    "o"
   ]
  },
  {
   "cell_type": "code",
   "execution_count": 18,
   "metadata": {},
   "outputs": [
    {
     "data": {
      "text/plain": [
       "15"
      ]
     },
     "execution_count": 18,
     "metadata": {},
     "output_type": "execute_result"
    }
   ],
   "source": [
    "len(o)"
   ]
  },
  {
   "cell_type": "markdown",
   "metadata": {},
   "source": [
    "`reshape` changes the shape of an array, but not its data. This is another of the commands that can be called before or after the array."
   ]
  },
  {
   "cell_type": "code",
   "execution_count": 19,
   "metadata": {
    "scrolled": true
   },
   "outputs": [
    {
     "name": "stdout",
     "output_type": "stream",
     "text": [
      "[[ 0  2  4  6  8]\n",
      " [10 12 14 16 18]\n",
      " [20 22 24 26 28]]\n"
     ]
    },
    {
     "data": {
      "text/plain": [
       "array([[ 0,  2,  4],\n",
       "       [ 6,  8, 10],\n",
       "       [12, 14, 16],\n",
       "       [18, 20, 22],\n",
       "       [24, 26, 28]])"
      ]
     },
     "execution_count": 19,
     "metadata": {},
     "output_type": "execute_result"
    }
   ],
   "source": [
    "print(n.reshape(3, 5))\n",
    "np.reshape(n, (5, 3))"
   ]
  },
  {
   "cell_type": "markdown",
   "metadata": {},
   "source": [
    "Note however that, in order for these changes to be permanent, you should do a reassignment of the variable"
   ]
  },
  {
   "cell_type": "code",
   "execution_count": 20,
   "metadata": {},
   "outputs": [
    {
     "name": "stdout",
     "output_type": "stream",
     "text": [
      "[ 0  2  4  6  8 10 12 14 16 18 20 22 24 26 28]\n"
     ]
    },
    {
     "data": {
      "text/plain": [
       "array([[ 0,  2,  4,  6,  8],\n",
       "       [10, 12, 14, 16, 18],\n",
       "       [20, 22, 24, 26, 28]])"
      ]
     },
     "execution_count": 20,
     "metadata": {},
     "output_type": "execute_result"
    }
   ],
   "source": [
    "print(n)  # After the reshapings above, the original array stays being the same\n",
    "\n",
    "n = n.reshape(3, 5)\n",
    "n   # Now that we have reassigned it is when it definitely changes shape"
   ]
  },
  {
   "cell_type": "markdown",
   "metadata": {},
   "source": [
    "### Combining Arrays\n",
    "\n",
    "The most general command for combining arrays is `concatenate(arrs, d)`. It takes a list of arrays and concatenates them along axis $d$"
   ]
  },
  {
   "cell_type": "code",
   "execution_count": 21,
   "metadata": {},
   "outputs": [
    {
     "data": {
      "text/plain": [
       "array([[[1., 1.],\n",
       "        [1., 1.]],\n",
       "\n",
       "       [[1., 1.],\n",
       "        [1., 1.]]])"
      ]
     },
     "execution_count": 21,
     "metadata": {},
     "output_type": "execute_result"
    }
   ],
   "source": [
    "p = np.ones([2, 2, 2])\n",
    "p"
   ]
  },
  {
   "cell_type": "code",
   "execution_count": 22,
   "metadata": {},
   "outputs": [
    {
     "data": {
      "text/plain": [
       "array([[[1., 1.],\n",
       "        [1., 1.]],\n",
       "\n",
       "       [[1., 1.],\n",
       "        [1., 1.]],\n",
       "\n",
       "       [[2., 2.],\n",
       "        [2., 2.]],\n",
       "\n",
       "       [[2., 2.],\n",
       "        [2., 2.]]])"
      ]
     },
     "execution_count": 22,
     "metadata": {},
     "output_type": "execute_result"
    }
   ],
   "source": [
    "np.concatenate([p, 2 * p], 0)"
   ]
  },
  {
   "cell_type": "code",
   "execution_count": 23,
   "metadata": {},
   "outputs": [
    {
     "data": {
      "text/plain": [
       "array([[[1., 1.],\n",
       "        [1., 1.],\n",
       "        [2., 2.],\n",
       "        [2., 2.]],\n",
       "\n",
       "       [[1., 1.],\n",
       "        [1., 1.],\n",
       "        [2., 2.],\n",
       "        [2., 2.]]])"
      ]
     },
     "execution_count": 23,
     "metadata": {},
     "output_type": "execute_result"
    }
   ],
   "source": [
    "np.concatenate([p, 2 * p], 1)"
   ]
  },
  {
   "cell_type": "code",
   "execution_count": 24,
   "metadata": {},
   "outputs": [
    {
     "data": {
      "text/plain": [
       "array([[[1., 1., 2., 2.],\n",
       "        [1., 1., 2., 2.]],\n",
       "\n",
       "       [[1., 1., 2., 2.],\n",
       "        [1., 1., 2., 2.]]])"
      ]
     },
     "execution_count": 24,
     "metadata": {},
     "output_type": "execute_result"
    }
   ],
   "source": [
    "np.concatenate([p, 2 * p], 2)"
   ]
  },
  {
   "cell_type": "markdown",
   "metadata": {},
   "source": [
    "However, for common combinations there exist special commands. Use `vstack` to stack arrays in sequence vertically (row wise), `hstack` to stack arrays in sequence horizontally (column wise), and `block` to create arrays out of blocks (only available in versions 1.13.0+)"
   ]
  },
  {
   "cell_type": "code",
   "execution_count": 25,
   "metadata": {},
   "outputs": [
    {
     "data": {
      "text/plain": [
       "array([[1., 1.],\n",
       "       [1., 1.],\n",
       "       [2., 2.],\n",
       "       [2., 2.]])"
      ]
     },
     "execution_count": 25,
     "metadata": {},
     "output_type": "execute_result"
    }
   ],
   "source": [
    "q = np.ones((2, 2))\n",
    "np.vstack([q, 2 * q])"
   ]
  },
  {
   "cell_type": "code",
   "execution_count": 26,
   "metadata": {},
   "outputs": [
    {
     "data": {
      "text/plain": [
       "array([[1., 1., 2., 2.],\n",
       "       [1., 1., 2., 2.]])"
      ]
     },
     "execution_count": 26,
     "metadata": {},
     "output_type": "execute_result"
    }
   ],
   "source": [
    "np.hstack([q, 2 * q])"
   ]
  },
  {
   "cell_type": "code",
   "execution_count": 27,
   "metadata": {},
   "outputs": [
    {
     "data": {
      "text/plain": [
       "array([[1., 1., 0., 0.],\n",
       "       [1., 1., 0., 0.],\n",
       "       [0., 0., 2., 2.],\n",
       "       [0., 0., 2., 2.]])"
      ]
     },
     "execution_count": 27,
     "metadata": {},
     "output_type": "execute_result"
    }
   ],
   "source": [
    "np.block([[q, np.zeros((2, 2))], [np.zeros((2, 2)), 2 * q]])"
   ]
  },
  {
   "cell_type": "markdown",
   "metadata": {},
   "source": [
    "### Operations\n",
    "\n",
    "You can perform easily element-wise operations on arrays of any shape. Use the typical symbols, +, -, \\*, / and \\*\\* to perform element-wise addition, subtraction, multiplication, division and power."
   ]
  },
  {
   "cell_type": "code",
   "execution_count": 28,
   "metadata": {},
   "outputs": [
    {
     "name": "stdout",
     "output_type": "stream",
     "text": [
      "[1 2 3]\n",
      "[11 12 13]\n",
      "[3 6 9]\n",
      "[1.         0.5        0.33333333]\n",
      "[1.         0.62996052 0.48074986]\n",
      "[2 4 8]\n"
     ]
    }
   ],
   "source": [
    "x = np.array([1, 2, 3])\n",
    "print(x)\n",
    "print(x + 10)\n",
    "print(3 * x)\n",
    "print(1 / x)\n",
    "print(x ** (-2 / 3))\n",
    "print(2 ** x)"
   ]
  },
  {
   "cell_type": "markdown",
   "metadata": {},
   "source": [
    "Also (and obviously) these symbols can be used to operate between two arrays, which must be of the same shape. If this is the case, they also do element-wise operations"
   ]
  },
  {
   "cell_type": "code",
   "execution_count": 29,
   "metadata": {},
   "outputs": [
    {
     "name": "stdout",
     "output_type": "stream",
     "text": [
      "[5 7 9]\n",
      "[ 4 10 18]\n",
      "[0.25 0.4  0.5 ]\n",
      "[  1  32 729]\n"
     ]
    }
   ],
   "source": [
    "y = np.arange(4, 7, 1)\n",
    "print(x + y)     # [1+4, 2+5, 3+6]\n",
    "print(x * y)     # [1*4, 2*5, 3*6]\n",
    "print(x / y)     # [1/4, 2/5, 3/6]\n",
    "print(x ** y)    # [1**4, 2**5, 3**6]"
   ]
  },
  {
   "cell_type": "markdown",
   "metadata": {},
   "source": [
    "For doing vector or matrix multiplication, the command to be used is `dot`"
   ]
  },
  {
   "cell_type": "code",
   "execution_count": 30,
   "metadata": {},
   "outputs": [
    {
     "data": {
      "text/plain": [
       "32"
      ]
     },
     "execution_count": 30,
     "metadata": {},
     "output_type": "execute_result"
    }
   ],
   "source": [
    "x.dot(y) # 1*4 + 2*5 + 3*6"
   ]
  },
  {
   "cell_type": "markdown",
   "metadata": {},
   "source": [
    "With python 3.5 matrix multiplication got it's own operator"
   ]
  },
  {
   "cell_type": "code",
   "execution_count": 31,
   "metadata": {},
   "outputs": [
    {
     "data": {
      "text/plain": [
       "32"
      ]
     },
     "execution_count": 31,
     "metadata": {},
     "output_type": "execute_result"
    }
   ],
   "source": [
    "x@y"
   ]
  },
  {
   "cell_type": "code",
   "execution_count": 32,
   "metadata": {},
   "outputs": [
    {
     "name": "stdout",
     "output_type": "stream",
     "text": [
      "[[3 4 5]\n",
      " [4 5 6]\n",
      " [5 6 7]]\n",
      "\n",
      "[[0 4 0]\n",
      " [0 0 6]\n",
      " [5 0 0]]\n"
     ]
    },
    {
     "data": {
      "text/plain": [
       "array([[5, 3, 4],\n",
       "       [6, 4, 5],\n",
       "       [7, 5, 6]])"
      ]
     },
     "execution_count": 32,
     "metadata": {},
     "output_type": "execute_result"
    }
   ],
   "source": [
    "X = np.array([[i + j for i in range(3, 6)] for j in range(3)])\n",
    "Y = np.diag([1, 1], 1) + np.diag([1], -2)\n",
    "\n",
    "print('{}\\n'.format(X))\n",
    "print(X * Y)\n",
    "np.dot(X, Y)"
   ]
  },
  {
   "cell_type": "markdown",
   "metadata": {},
   "source": [
    "**Exercise 2**: Take a 10x2 matrix representing $(x1,x2)$ coordinates and transform them into polar coordinates $(r,\\theta)$.\n",
    "\n",
    "*Hint 1: the inverse transformation is given by $x1 = r\\cos\\theta$, $x2 = r\\sin\\theta$*\n",
    "\n",
    "*Hint 2: generate random numbers with the functions in numpy.random*"
   ]
  },
  {
   "cell_type": "code",
   "execution_count": 33,
   "metadata": {},
   "outputs": [
    {
     "name": "stdout",
     "output_type": "stream",
     "text": [
      "[0.69254624 0.69830701 0.57132173 0.89188587 0.29925014 0.28653816\n",
      " 1.24824649 0.89788709 0.78615101 1.00057153]\n",
      "[1.47063331 0.62256783 0.06639133 0.5449192  1.46714486 0.37345224\n",
      " 0.81141022 0.03207796 1.21337778 1.36550297]\n"
     ]
    }
   ],
   "source": [
    "z = np.random.random((10, 2))\n",
    "x1, x2 = z[:, 0], z[:, 1]\n",
    "R = np.sqrt(x1 ** 2 + x2 ** 2)\n",
    "T = np.arctan2(x2, x1)\n",
    "print(R)\n",
    "print(T)"
   ]
  },
  {
   "cell_type": "markdown",
   "metadata": {},
   "source": [
    "#### Transposing\n",
    "\n",
    "Transposition is a very important operation for linear algebra. Although NumPy is capable of correctly doing matrix-vector products correctly regardless of the orientation of the vector, it is not the case for products of matrices"
   ]
  },
  {
   "cell_type": "code",
   "execution_count": 34,
   "metadata": {
    "collapsed": true
   },
   "outputs": [],
   "source": [
    "Z = np.arange(0, 12, 1).reshape((4, 3))"
   ]
  },
  {
   "cell_type": "code",
   "execution_count": 35,
   "metadata": {},
   "outputs": [
    {
     "data": {
      "text/plain": [
       "array([ 17,  62, 107, 152])"
      ]
     },
     "execution_count": 35,
     "metadata": {},
     "output_type": "execute_result"
    }
   ],
   "source": [
    "np.dot(Z, y)"
   ]
  },
  {
   "cell_type": "code",
   "execution_count": 36,
   "metadata": {},
   "outputs": [
    {
     "data": {
      "text/plain": [
       "array([ 17,  62, 107, 152])"
      ]
     },
     "execution_count": 36,
     "metadata": {},
     "output_type": "execute_result"
    }
   ],
   "source": [
    "np.dot(Z, y.T)"
   ]
  },
  {
   "cell_type": "code",
   "execution_count": 37,
   "metadata": {},
   "outputs": [
    {
     "data": {
      "text/plain": [
       "array([[ 14,  17,  20],\n",
       "       [ 50,  62,  74],\n",
       "       [ 86, 107, 128],\n",
       "       [122, 152, 182]])"
      ]
     },
     "execution_count": 37,
     "metadata": {},
     "output_type": "execute_result"
    }
   ],
   "source": [
    "Z.dot(X)"
   ]
  },
  {
   "cell_type": "code",
   "execution_count": 38,
   "metadata": {},
   "outputs": [
    {
     "ename": "ValueError",
     "evalue": "shapes (3,4) and (3,3) not aligned: 4 (dim 1) != 3 (dim 0)",
     "output_type": "error",
     "traceback": [
      "\u001b[0;31m---------------------------------------------------------------------------\u001b[0m",
      "\u001b[0;31mValueError\u001b[0m                                Traceback (most recent call last)",
      "\u001b[0;32m<ipython-input-38-2e11f30e177d>\u001b[0m in \u001b[0;36m<module>\u001b[0;34m()\u001b[0m\n\u001b[0;32m----> 1\u001b[0;31m \u001b[0;34m(\u001b[0m\u001b[0mZ\u001b[0m\u001b[0;34m.\u001b[0m\u001b[0mT\u001b[0m\u001b[0;34m)\u001b[0m\u001b[0;34m.\u001b[0m\u001b[0mdot\u001b[0m\u001b[0;34m(\u001b[0m\u001b[0mX\u001b[0m\u001b[0;34m)\u001b[0m\u001b[0;34m\u001b[0m\u001b[0m\n\u001b[0m",
      "\u001b[0;31mValueError\u001b[0m: shapes (3,4) and (3,3) not aligned: 4 (dim 1) != 3 (dim 0)"
     ]
    }
   ],
   "source": [
    "(Z.T).dot(X)"
   ]
  },
  {
   "cell_type": "markdown",
   "metadata": {},
   "source": [
    "#### Array Methods\n",
    "\n",
    "To not have to go from NumPy arrays to lists back and forth, NumPy contains some functions to know properties of your arrays. Actually, there are more of these functions than in standard Python."
   ]
  },
  {
   "cell_type": "code",
   "execution_count": 39,
   "metadata": {},
   "outputs": [
    {
     "name": "stdout",
     "output_type": "stream",
     "text": [
      "5\n",
      "-4\n",
      "3\n",
      "0.6\n",
      "3.2619012860600183\n"
     ]
    }
   ],
   "source": [
    "a = np.array([-4, -2, 1, 3, 5])\n",
    "print(a.max())\n",
    "print(a.min())\n",
    "print(a.sum())\n",
    "print(a.mean())\n",
    "print(a.std())"
   ]
  },
  {
   "cell_type": "markdown",
   "metadata": {},
   "source": [
    "Some interesting functions are `argmax` and `argmin`, which return the index of the maximum and minimum values in the array."
   ]
  },
  {
   "cell_type": "code",
   "execution_count": 40,
   "metadata": {},
   "outputs": [
    {
     "name": "stdout",
     "output_type": "stream",
     "text": [
      "4\n",
      "0\n"
     ]
    }
   ],
   "source": [
    "print(a.argmax())\n",
    "print(a.argmin())"
   ]
  },
  {
   "cell_type": "markdown",
   "metadata": {},
   "source": [
    "### Indexing/Slicing\n",
    "\n",
    "We have already seen briefly that to access individual elements you use the bracket notation: `array[ax_0, ax_1, ...]`, where the `ax_i` denotes the coordinate in the `i`-th axis. You can even use this to assign new values to your elements."
   ]
  },
  {
   "cell_type": "code",
   "execution_count": 41,
   "metadata": {},
   "outputs": [
    {
     "name": "stdout",
     "output_type": "stream",
     "text": [
      "6\n"
     ]
    },
    {
     "data": {
      "text/plain": [
       "[198, 5, 6, 7]"
      ]
     },
     "execution_count": 41,
     "metadata": {},
     "output_type": "execute_result"
    }
   ],
   "source": [
    "r = [4, 5, 6, 7]\n",
    "print(r[2])\n",
    "r[0] = 198\n",
    "r"
   ]
  },
  {
   "cell_type": "markdown",
   "metadata": {},
   "source": [
    "To select a range of rows or columns you can use a colon :. A second : can be used to indicate the step size. `array[start:stop:stepsize]`. If you leave `start` (`stop`) blank, the selection will go from the very beginning (until the very end) of the array"
   ]
  },
  {
   "cell_type": "code",
   "execution_count": 42,
   "metadata": {},
   "outputs": [
    {
     "name": "stdout",
     "output_type": "stream",
     "text": [
      "[  0   1   4   9  16  25  36  49  64  81 100 121 144]\n",
      "[ 9 16 25 36 49 64]\n",
      "[ 4 25 64]\n"
     ]
    },
    {
     "data": {
      "text/plain": [
       "array([64, 36, 16,  4,  0])"
      ]
     },
     "execution_count": 42,
     "metadata": {},
     "output_type": "execute_result"
    }
   ],
   "source": [
    "s = np.arange(13)**2\n",
    "print(s)\n",
    "print(s[3:9])\n",
    "print(s[2:10:3])\n",
    "s[-5::-2]"
   ]
  },
  {
   "cell_type": "markdown",
   "metadata": {},
   "source": [
    "The same applies to matrices or higher-dimensional arrays"
   ]
  },
  {
   "cell_type": "code",
   "execution_count": 43,
   "metadata": {},
   "outputs": [
    {
     "data": {
      "text/plain": [
       "array([[ 0,  1,  2,  3,  4,  5],\n",
       "       [ 6,  7,  8,  9, 10, 11],\n",
       "       [12, 13, 14, 15, 16, 17],\n",
       "       [18, 19, 20, 21, 22, 23],\n",
       "       [24, 25, 26, 27, 28, 29],\n",
       "       [30, 31, 32, 33, 34, 35]])"
      ]
     },
     "execution_count": 43,
     "metadata": {},
     "output_type": "execute_result"
    }
   ],
   "source": [
    "r = np.arange(36).reshape((6, 6))\n",
    "r"
   ]
  },
  {
   "cell_type": "code",
   "execution_count": 44,
   "metadata": {},
   "outputs": [
    {
     "data": {
      "text/plain": [
       "array([[13, 14],\n",
       "       [19, 20],\n",
       "       [25, 26]])"
      ]
     },
     "execution_count": 44,
     "metadata": {},
     "output_type": "execute_result"
    }
   ],
   "source": [
    "r[2:5, 1:3]"
   ]
  },
  {
   "cell_type": "markdown",
   "metadata": {},
   "source": [
    "You can also select specific rows and columns, separated by commas"
   ]
  },
  {
   "cell_type": "code",
   "execution_count": 45,
   "metadata": {},
   "outputs": [
    {
     "data": {
      "text/plain": [
       "array([[ 7,  8],\n",
       "       [19, 20],\n",
       "       [25, 26]])"
      ]
     },
     "execution_count": 45,
     "metadata": {},
     "output_type": "execute_result"
    }
   ],
   "source": [
    "r[[1, 3, 4], 1:3]"
   ]
  },
  {
   "cell_type": "markdown",
   "metadata": {},
   "source": [
    "A very useful tool is *conditional indexing*, where we apply a function, assignment... only to those elements of an array that satisfy some condition"
   ]
  },
  {
   "cell_type": "code",
   "execution_count": 46,
   "metadata": {},
   "outputs": [
    {
     "data": {
      "text/plain": [
       "array([[ 0,  1,  2,  3,  4,  5],\n",
       "       [ 6,  7,  8,  9, 10, 11],\n",
       "       [12, 13, 14, 15, 16, 17],\n",
       "       [18, 19, 20, 21, 22, 23],\n",
       "       [24, 25, 26, 27, 28, 29],\n",
       "       [30, 30, 30, 30, 30, 30]])"
      ]
     },
     "execution_count": 46,
     "metadata": {},
     "output_type": "execute_result"
    }
   ],
   "source": [
    "r[r > 30] = 30\n",
    "r"
   ]
  },
  {
   "cell_type": "markdown",
   "metadata": {},
   "source": [
    "**Exercise 3**: Create a random 1-dimensional array, and find which element is closest to 0.7"
   ]
  },
  {
   "cell_type": "code",
   "execution_count": 47,
   "metadata": {},
   "outputs": [
    {
     "name": "stdout",
     "output_type": "stream",
     "text": [
      "0.6963990158401812\n"
     ]
    }
   ],
   "source": [
    "Z = np.random.uniform(0,1,100)\n",
    "z = 0.7\n",
    "m = Z[np.abs(Z - z).argmin()]\n",
    "print(m)"
   ]
  },
  {
   "cell_type": "markdown",
   "metadata": {},
   "source": [
    "#### Copying Data\n",
    "\n",
    "**Be very careful with copying and modifying arrays in NumPy!** You will see the reason right now. Let's begin defining `r2` as a slice of r"
   ]
  },
  {
   "cell_type": "code",
   "execution_count": 48,
   "metadata": {},
   "outputs": [
    {
     "data": {
      "text/plain": [
       "array([[ 0,  1,  2],\n",
       "       [ 6,  7,  8],\n",
       "       [12, 13, 14]])"
      ]
     },
     "execution_count": 48,
     "metadata": {},
     "output_type": "execute_result"
    }
   ],
   "source": [
    "r2 = r[:3,:3]\n",
    "r2"
   ]
  },
  {
   "cell_type": "markdown",
   "metadata": {},
   "source": [
    "And now let's set all its elements to zero"
   ]
  },
  {
   "cell_type": "code",
   "execution_count": 49,
   "metadata": {},
   "outputs": [
    {
     "data": {
      "text/plain": [
       "array([[0, 0, 0],\n",
       "       [0, 0, 0],\n",
       "       [0, 0, 0]])"
      ]
     },
     "execution_count": 49,
     "metadata": {},
     "output_type": "execute_result"
    }
   ],
   "source": [
    "r2[:] = 0\n",
    "r2"
   ]
  },
  {
   "cell_type": "markdown",
   "metadata": {},
   "source": [
    "When looking at `r`, we see that it has also been changed!"
   ]
  },
  {
   "cell_type": "code",
   "execution_count": 50,
   "metadata": {},
   "outputs": [
    {
     "data": {
      "text/plain": [
       "array([[ 0,  0,  0,  3,  4,  5],\n",
       "       [ 0,  0,  0,  9, 10, 11],\n",
       "       [ 0,  0,  0, 15, 16, 17],\n",
       "       [18, 19, 20, 21, 22, 23],\n",
       "       [24, 25, 26, 27, 28, 29],\n",
       "       [30, 30, 30, 30, 30, 30]])"
      ]
     },
     "execution_count": 50,
     "metadata": {},
     "output_type": "execute_result"
    }
   ],
   "source": [
    "r"
   ]
  },
  {
   "cell_type": "markdown",
   "metadata": {},
   "source": [
    "The proper way of handling selections without modifying the original arrays is through the `copy` command."
   ]
  },
  {
   "cell_type": "code",
   "execution_count": 51,
   "metadata": {},
   "outputs": [
    {
     "data": {
      "text/plain": [
       "array([[ 0,  0,  0,  3,  4,  5],\n",
       "       [ 0,  0,  0,  9, 10, 11],\n",
       "       [ 0,  0,  0, 15, 16, 17],\n",
       "       [18, 19, 20, 21, 22, 23],\n",
       "       [24, 25, 26, 27, 28, 29],\n",
       "       [30, 30, 30, 30, 30, 30]])"
      ]
     },
     "execution_count": 51,
     "metadata": {},
     "output_type": "execute_result"
    }
   ],
   "source": [
    "r_copy = r.copy()\n",
    "r_copy"
   ]
  },
  {
   "cell_type": "markdown",
   "metadata": {},
   "source": [
    "Now we can safely modify `r_copy` without affecting `r`."
   ]
  },
  {
   "cell_type": "code",
   "execution_count": 52,
   "metadata": {},
   "outputs": [
    {
     "name": "stdout",
     "output_type": "stream",
     "text": [
      "[[10 10 10 10 10 10]\n",
      " [10 10 10 10 10 10]\n",
      " [10 10 10 10 10 10]\n",
      " [10 10 10 10 10 10]\n",
      " [10 10 10 10 10 10]\n",
      " [10 10 10 10 10 10]]\n",
      "\n"
     ]
    },
    {
     "data": {
      "text/plain": [
       "array([[ 0,  0,  0,  3,  4,  5],\n",
       "       [ 0,  0,  0,  9, 10, 11],\n",
       "       [ 0,  0,  0, 15, 16, 17],\n",
       "       [18, 19, 20, 21, 22, 23],\n",
       "       [24, 25, 26, 27, 28, 29],\n",
       "       [30, 30, 30, 30, 30, 30]])"
      ]
     },
     "execution_count": 52,
     "metadata": {},
     "output_type": "execute_result"
    }
   ],
   "source": [
    "r_copy[:] = 10\n",
    "print('{}\\n'.format(r_copy))\n",
    "r"
   ]
  },
  {
   "cell_type": "markdown",
   "metadata": {},
   "source": [
    "### Iterating Over Arrays"
   ]
  },
  {
   "cell_type": "markdown",
   "metadata": {},
   "source": [
    "Finally, you can iterate over arrays in the same way as you iterate over lists"
   ]
  },
  {
   "cell_type": "code",
   "execution_count": 53,
   "metadata": {},
   "outputs": [
    {
     "data": {
      "text/plain": [
       "array([[6, 7, 8],\n",
       "       [7, 6, 1],\n",
       "       [2, 3, 5],\n",
       "       [2, 3, 1]])"
      ]
     },
     "execution_count": 53,
     "metadata": {},
     "output_type": "execute_result"
    }
   ],
   "source": [
    "test = np.random.randint(0, 10, (4,3))\n",
    "test"
   ]
  },
  {
   "cell_type": "markdown",
   "metadata": {},
   "source": [
    "You can iterate by row:"
   ]
  },
  {
   "cell_type": "code",
   "execution_count": 54,
   "metadata": {},
   "outputs": [
    {
     "name": "stdout",
     "output_type": "stream",
     "text": [
      "[6 7 8]\n",
      "[7 6 1]\n",
      "[2 3 5]\n",
      "[2 3 1]\n"
     ]
    }
   ],
   "source": [
    "for row in test:\n",
    "    print(row)"
   ]
  },
  {
   "cell_type": "markdown",
   "metadata": {},
   "source": [
    "Or by row index"
   ]
  },
  {
   "cell_type": "code",
   "execution_count": 55,
   "metadata": {},
   "outputs": [
    {
     "name": "stdout",
     "output_type": "stream",
     "text": [
      "[6 7 8]\n",
      "[7 6 1]\n",
      "[2 3 5]\n",
      "[2 3 1]\n"
     ]
    }
   ],
   "source": [
    "for i in range(len(test)):\n",
    "    print(test[i])"
   ]
  },
  {
   "cell_type": "markdown",
   "metadata": {},
   "source": [
    "Or by row and index:"
   ]
  },
  {
   "cell_type": "code",
   "execution_count": 56,
   "metadata": {},
   "outputs": [
    {
     "name": "stdout",
     "output_type": "stream",
     "text": [
      "Row 0 is [6 7 8]\n",
      "Row 1 is [7 6 1]\n",
      "Row 2 is [2 3 5]\n",
      "Row 3 is [2 3 1]\n"
     ]
    }
   ],
   "source": [
    "for i, row in enumerate(test):\n",
    "    print('Row {} is {}'.format(i, row))"
   ]
  },
  {
   "cell_type": "markdown",
   "metadata": {},
   "source": [
    "In the same way as with lists, you can use `zip` to iterate over multiple iterables."
   ]
  },
  {
   "cell_type": "code",
   "execution_count": 57,
   "metadata": {},
   "outputs": [
    {
     "data": {
      "text/plain": [
       "array([[36, 49, 64],\n",
       "       [49, 36,  1],\n",
       "       [ 4,  9, 25],\n",
       "       [ 4,  9,  1]])"
      ]
     },
     "execution_count": 57,
     "metadata": {},
     "output_type": "execute_result"
    }
   ],
   "source": [
    "test2 = test**2\n",
    "test2"
   ]
  },
  {
   "cell_type": "code",
   "execution_count": 58,
   "metadata": {
    "scrolled": true
   },
   "outputs": [
    {
     "name": "stdout",
     "output_type": "stream",
     "text": [
      "[6 7 8] + [36 49 64] = [42 56 72]\n",
      "[7 6 1] + [49 36  1] = [56 42  2]\n",
      "[2 3 5] + [ 4  9 25] = [ 6 12 30]\n",
      "[2 3 1] + [4 9 1] = [ 6 12  2]\n"
     ]
    }
   ],
   "source": [
    "for i, j in zip(test, test2):\n",
    "    print('{} + {} = {}'.format(i, j, i + j))"
   ]
  },
  {
   "cell_type": "markdown",
   "metadata": {},
   "source": [
    "**Exercise 4**: Create a function that iterates over the columns of a 2-dimensional array"
   ]
  },
  {
   "cell_type": "code",
   "execution_count": 59,
   "metadata": {},
   "outputs": [
    {
     "name": "stdout",
     "output_type": "stream",
     "text": [
      "Column 0 is [[6]\n",
      " [7]\n",
      " [2]\n",
      " [2]]\n",
      "Column 1 is [[7]\n",
      " [6]\n",
      " [3]\n",
      " [3]]\n",
      "Column 2 is [[8]\n",
      " [1]\n",
      " [5]\n",
      " [1]]\n"
     ]
    }
   ],
   "source": [
    "def iterate(df):\n",
    "    for i, row in enumerate(df):\n",
    "        shp = row.shape\n",
    "        row.shape = shp + (1,)\n",
    "        print('Column {} is {}'.format(i, row))\n",
    "\n",
    "iterate(test.T)"
   ]
  },
  {
   "cell_type": "markdown",
   "metadata": {},
   "source": [
    "### Loading and Saving Data\n",
    "\n",
    "To load and save data NumPy has the `loadtxt` and `savetxt` commands. However, they only work for two-dimensional arrays"
   ]
  },
  {
   "cell_type": "code",
   "execution_count": 60,
   "metadata": {},
   "outputs": [
    {
     "data": {
      "text/plain": [
       "array([[6., 7., 8.],\n",
       "       [7., 6., 1.],\n",
       "       [2., 3., 5.],\n",
       "       [2., 3., 1.]])"
      ]
     },
     "execution_count": 60,
     "metadata": {},
     "output_type": "execute_result"
    }
   ],
   "source": [
    "np.savetxt('numpytest.txt', test)\n",
    "np.loadtxt('numpytest.txt')"
   ]
  },
  {
   "cell_type": "markdown",
   "metadata": {},
   "source": [
    "## Pandas\n",
    "\n",
    "When dealing with numeric matrices and vectors in Python, NumPy makes life a lot easier. For more complex data, however, it leaves a bit to be desired. For those used to working with dedicated languages like R, doing data analysis directly with numpy feels like a step back. Fortunately, some nice folks have written the Python Data Analysis Library (a.k.a. [pandas](http://pandas.pydata.org/)). Pandas provides an R-like DataFrame, produces high quality plots with matplotlib, and integrates nicely with other libraries that expect NumPy arrays.\n",
    "\n",
    "Pandas works with `Series` of data, that then are arranged in `DataFrame`s. A dataframe will be the object closest to an Excel spreadsheet that you will see throughout the course (but of course, given that it is integrated in Python and can be combined with so many different packages, dataframes are much more powerful than Excel spreadsheets). The data in the series can be either qualitative or quantitative data. Creating a series is as easy as creating a NumPy array from a one-dimensional list."
   ]
  },
  {
   "cell_type": "code",
   "execution_count": 61,
   "metadata": {},
   "outputs": [
    {
     "data": {
      "text/plain": [
       "0    Tiger\n",
       "1     Bear\n",
       "2    Moose\n",
       "dtype: object"
      ]
     },
     "execution_count": 61,
     "metadata": {},
     "output_type": "execute_result"
    }
   ],
   "source": [
    "animals = ['Tiger', 'Bear', 'Moose']\n",
    "pd.Series(animals)"
   ]
  },
  {
   "cell_type": "code",
   "execution_count": 62,
   "metadata": {},
   "outputs": [
    {
     "data": {
      "text/plain": [
       "0    1\n",
       "1    2\n",
       "2    3\n",
       "dtype: int64"
      ]
     },
     "execution_count": 62,
     "metadata": {},
     "output_type": "execute_result"
    }
   ],
   "source": [
    "numbers = [1, 2, 3]\n",
    "pd.Series(numbers)"
   ]
  },
  {
   "cell_type": "markdown",
   "metadata": {},
   "source": [
    "Notice that the series is indexed by default by integers. You can change this indexing by using a dictionary instead of a list for creating the series."
   ]
  },
  {
   "cell_type": "code",
   "execution_count": 63,
   "metadata": {},
   "outputs": [
    {
     "data": {
      "text/plain": [
       "Archery           Bhutan\n",
       "Golf            Scotland\n",
       "Sumo               Japan\n",
       "Taekwondo    South Korea\n",
       "dtype: object"
      ]
     },
     "execution_count": 63,
     "metadata": {},
     "output_type": "execute_result"
    }
   ],
   "source": [
    "sports = {'Archery': 'Bhutan',\n",
    "          'Golf': 'Scotland',\n",
    "          'Sumo': 'Japan',\n",
    "          'Taekwondo': 'South Korea'}\n",
    "s = pd.Series(sports)\n",
    "s"
   ]
  },
  {
   "cell_type": "markdown",
   "metadata": {},
   "source": [
    "On the other hand, `DataFrame`s can be built from two-dimensional arrays, with the ability of labelling columns and indexing the rows"
   ]
  },
  {
   "cell_type": "code",
   "execution_count": 64,
   "metadata": {},
   "outputs": [
    {
     "data": {
      "text/html": [
       "<div>\n",
       "<style scoped>\n",
       "    .dataframe tbody tr th:only-of-type {\n",
       "        vertical-align: middle;\n",
       "    }\n",
       "\n",
       "    .dataframe tbody tr th {\n",
       "        vertical-align: top;\n",
       "    }\n",
       "\n",
       "    .dataframe thead th {\n",
       "        text-align: right;\n",
       "    }\n",
       "</style>\n",
       "<table border=\"1\" class=\"dataframe\">\n",
       "  <thead>\n",
       "    <tr style=\"text-align: right;\">\n",
       "      <th></th>\n",
       "      <th>A</th>\n",
       "      <th>B</th>\n",
       "      <th>C</th>\n",
       "      <th>D</th>\n",
       "      <th>E</th>\n",
       "      <th>F</th>\n",
       "    </tr>\n",
       "  </thead>\n",
       "  <tbody>\n",
       "    <tr>\n",
       "      <th>0</th>\n",
       "      <td>-0.656352</td>\n",
       "      <td>-1.828935</td>\n",
       "      <td>1.356624</td>\n",
       "      <td>-2.031876</td>\n",
       "      <td>0.714026</td>\n",
       "      <td>0.322131</td>\n",
       "    </tr>\n",
       "    <tr>\n",
       "      <th>3</th>\n",
       "      <td>-0.731898</td>\n",
       "      <td>-0.040749</td>\n",
       "      <td>2.087230</td>\n",
       "      <td>-0.186705</td>\n",
       "      <td>0.925189</td>\n",
       "      <td>-0.028877</td>\n",
       "    </tr>\n",
       "    <tr>\n",
       "      <th>6</th>\n",
       "      <td>0.279463</td>\n",
       "      <td>-0.903286</td>\n",
       "      <td>0.542951</td>\n",
       "      <td>0.245455</td>\n",
       "      <td>0.736812</td>\n",
       "      <td>0.523788</td>\n",
       "    </tr>\n",
       "    <tr>\n",
       "      <th>9</th>\n",
       "      <td>0.517327</td>\n",
       "      <td>0.176194</td>\n",
       "      <td>0.106239</td>\n",
       "      <td>-2.695502</td>\n",
       "      <td>-0.318348</td>\n",
       "      <td>-0.046300</td>\n",
       "    </tr>\n",
       "    <tr>\n",
       "      <th>12</th>\n",
       "      <td>-0.657431</td>\n",
       "      <td>-0.841408</td>\n",
       "      <td>-1.749269</td>\n",
       "      <td>0.056158</td>\n",
       "      <td>0.171432</td>\n",
       "      <td>-0.185184</td>\n",
       "    </tr>\n",
       "    <tr>\n",
       "      <th>15</th>\n",
       "      <td>-1.037143</td>\n",
       "      <td>0.993396</td>\n",
       "      <td>-0.460049</td>\n",
       "      <td>-0.727853</td>\n",
       "      <td>0.166404</td>\n",
       "      <td>0.770176</td>\n",
       "    </tr>\n",
       "    <tr>\n",
       "      <th>18</th>\n",
       "      <td>-1.154023</td>\n",
       "      <td>-0.686064</td>\n",
       "      <td>0.810068</td>\n",
       "      <td>-0.190371</td>\n",
       "      <td>0.958805</td>\n",
       "      <td>1.154928</td>\n",
       "    </tr>\n",
       "    <tr>\n",
       "      <th>21</th>\n",
       "      <td>-0.914291</td>\n",
       "      <td>0.224959</td>\n",
       "      <td>-0.658206</td>\n",
       "      <td>0.519325</td>\n",
       "      <td>-1.308979</td>\n",
       "      <td>0.584807</td>\n",
       "    </tr>\n",
       "    <tr>\n",
       "      <th>24</th>\n",
       "      <td>1.628173</td>\n",
       "      <td>-0.720387</td>\n",
       "      <td>0.026391</td>\n",
       "      <td>-0.730022</td>\n",
       "      <td>-0.307067</td>\n",
       "      <td>0.607703</td>\n",
       "    </tr>\n",
       "    <tr>\n",
       "      <th>27</th>\n",
       "      <td>-1.441548</td>\n",
       "      <td>-1.112996</td>\n",
       "      <td>-0.461846</td>\n",
       "      <td>-0.284627</td>\n",
       "      <td>0.312223</td>\n",
       "      <td>0.981884</td>\n",
       "    </tr>\n",
       "    <tr>\n",
       "      <th>30</th>\n",
       "      <td>-0.947833</td>\n",
       "      <td>0.504739</td>\n",
       "      <td>-0.185189</td>\n",
       "      <td>-0.915074</td>\n",
       "      <td>0.229380</td>\n",
       "      <td>0.950733</td>\n",
       "    </tr>\n",
       "    <tr>\n",
       "      <th>33</th>\n",
       "      <td>0.568704</td>\n",
       "      <td>-1.389992</td>\n",
       "      <td>1.060209</td>\n",
       "      <td>-2.030606</td>\n",
       "      <td>-1.889857</td>\n",
       "      <td>-0.653558</td>\n",
       "    </tr>\n",
       "    <tr>\n",
       "      <th>36</th>\n",
       "      <td>-0.216113</td>\n",
       "      <td>-0.156034</td>\n",
       "      <td>1.933680</td>\n",
       "      <td>-0.522886</td>\n",
       "      <td>0.591404</td>\n",
       "      <td>0.029560</td>\n",
       "    </tr>\n",
       "    <tr>\n",
       "      <th>39</th>\n",
       "      <td>0.435046</td>\n",
       "      <td>-0.544043</td>\n",
       "      <td>1.637750</td>\n",
       "      <td>2.895750</td>\n",
       "      <td>1.379531</td>\n",
       "      <td>0.798775</td>\n",
       "    </tr>\n",
       "    <tr>\n",
       "      <th>42</th>\n",
       "      <td>-1.387401</td>\n",
       "      <td>1.338303</td>\n",
       "      <td>0.575036</td>\n",
       "      <td>1.903666</td>\n",
       "      <td>-1.222214</td>\n",
       "      <td>0.913095</td>\n",
       "    </tr>\n",
       "    <tr>\n",
       "      <th>45</th>\n",
       "      <td>0.043583</td>\n",
       "      <td>1.872543</td>\n",
       "      <td>1.121038</td>\n",
       "      <td>0.506077</td>\n",
       "      <td>-1.575384</td>\n",
       "      <td>-0.688967</td>\n",
       "    </tr>\n",
       "    <tr>\n",
       "      <th>48</th>\n",
       "      <td>-0.024903</td>\n",
       "      <td>-0.564044</td>\n",
       "      <td>1.552075</td>\n",
       "      <td>1.876975</td>\n",
       "      <td>0.645534</td>\n",
       "      <td>-0.864259</td>\n",
       "    </tr>\n",
       "    <tr>\n",
       "      <th>51</th>\n",
       "      <td>0.718277</td>\n",
       "      <td>-1.142199</td>\n",
       "      <td>2.006196</td>\n",
       "      <td>0.889505</td>\n",
       "      <td>-1.922738</td>\n",
       "      <td>-1.291521</td>\n",
       "    </tr>\n",
       "    <tr>\n",
       "      <th>54</th>\n",
       "      <td>0.794272</td>\n",
       "      <td>-0.946418</td>\n",
       "      <td>-0.274722</td>\n",
       "      <td>-1.416130</td>\n",
       "      <td>0.660384</td>\n",
       "      <td>0.159691</td>\n",
       "    </tr>\n",
       "    <tr>\n",
       "      <th>57</th>\n",
       "      <td>0.260719</td>\n",
       "      <td>1.146021</td>\n",
       "      <td>0.632784</td>\n",
       "      <td>-0.871521</td>\n",
       "      <td>-0.015575</td>\n",
       "      <td>-0.180701</td>\n",
       "    </tr>\n",
       "    <tr>\n",
       "      <th>60</th>\n",
       "      <td>1.030691</td>\n",
       "      <td>-0.106644</td>\n",
       "      <td>-0.732406</td>\n",
       "      <td>-0.502540</td>\n",
       "      <td>-0.341653</td>\n",
       "      <td>-1.179198</td>\n",
       "    </tr>\n",
       "    <tr>\n",
       "      <th>63</th>\n",
       "      <td>2.530912</td>\n",
       "      <td>-0.733424</td>\n",
       "      <td>0.928991</td>\n",
       "      <td>1.054350</td>\n",
       "      <td>0.789200</td>\n",
       "      <td>0.789650</td>\n",
       "    </tr>\n",
       "    <tr>\n",
       "      <th>66</th>\n",
       "      <td>1.636331</td>\n",
       "      <td>1.130697</td>\n",
       "      <td>-0.850719</td>\n",
       "      <td>1.471830</td>\n",
       "      <td>-1.873937</td>\n",
       "      <td>-2.008805</td>\n",
       "    </tr>\n",
       "    <tr>\n",
       "      <th>69</th>\n",
       "      <td>0.397095</td>\n",
       "      <td>1.751420</td>\n",
       "      <td>0.445183</td>\n",
       "      <td>-0.780480</td>\n",
       "      <td>1.585932</td>\n",
       "      <td>1.137160</td>\n",
       "    </tr>\n",
       "    <tr>\n",
       "      <th>72</th>\n",
       "      <td>1.132345</td>\n",
       "      <td>-0.023577</td>\n",
       "      <td>0.071814</td>\n",
       "      <td>1.007650</td>\n",
       "      <td>0.129902</td>\n",
       "      <td>0.049196</td>\n",
       "    </tr>\n",
       "    <tr>\n",
       "      <th>75</th>\n",
       "      <td>0.333982</td>\n",
       "      <td>0.236107</td>\n",
       "      <td>0.635188</td>\n",
       "      <td>1.849073</td>\n",
       "      <td>-1.798078</td>\n",
       "      <td>0.049288</td>\n",
       "    </tr>\n",
       "    <tr>\n",
       "      <th>78</th>\n",
       "      <td>1.019885</td>\n",
       "      <td>-1.843097</td>\n",
       "      <td>-3.298523</td>\n",
       "      <td>-0.140224</td>\n",
       "      <td>0.971712</td>\n",
       "      <td>1.667694</td>\n",
       "    </tr>\n",
       "    <tr>\n",
       "      <th>81</th>\n",
       "      <td>-1.008793</td>\n",
       "      <td>0.670729</td>\n",
       "      <td>1.083114</td>\n",
       "      <td>-1.600656</td>\n",
       "      <td>0.909832</td>\n",
       "      <td>-0.877123</td>\n",
       "    </tr>\n",
       "    <tr>\n",
       "      <th>84</th>\n",
       "      <td>-0.303486</td>\n",
       "      <td>0.088631</td>\n",
       "      <td>1.389573</td>\n",
       "      <td>-0.563821</td>\n",
       "      <td>-1.755843</td>\n",
       "      <td>-1.314920</td>\n",
       "    </tr>\n",
       "    <tr>\n",
       "      <th>87</th>\n",
       "      <td>1.310600</td>\n",
       "      <td>0.876379</td>\n",
       "      <td>-2.317219</td>\n",
       "      <td>0.963812</td>\n",
       "      <td>-1.570543</td>\n",
       "      <td>0.507540</td>\n",
       "    </tr>\n",
       "    <tr>\n",
       "      <th>...</th>\n",
       "      <td>...</td>\n",
       "      <td>...</td>\n",
       "      <td>...</td>\n",
       "      <td>...</td>\n",
       "      <td>...</td>\n",
       "      <td>...</td>\n",
       "    </tr>\n",
       "    <tr>\n",
       "      <th>2910</th>\n",
       "      <td>-0.528498</td>\n",
       "      <td>1.581053</td>\n",
       "      <td>1.286878</td>\n",
       "      <td>-1.025929</td>\n",
       "      <td>0.801995</td>\n",
       "      <td>1.095970</td>\n",
       "    </tr>\n",
       "    <tr>\n",
       "      <th>2913</th>\n",
       "      <td>0.388897</td>\n",
       "      <td>-1.146886</td>\n",
       "      <td>1.076750</td>\n",
       "      <td>0.289971</td>\n",
       "      <td>-0.487025</td>\n",
       "      <td>-0.651288</td>\n",
       "    </tr>\n",
       "    <tr>\n",
       "      <th>2916</th>\n",
       "      <td>-0.308890</td>\n",
       "      <td>0.203227</td>\n",
       "      <td>0.921380</td>\n",
       "      <td>-0.958388</td>\n",
       "      <td>-0.946860</td>\n",
       "      <td>0.245081</td>\n",
       "    </tr>\n",
       "    <tr>\n",
       "      <th>2919</th>\n",
       "      <td>-2.233455</td>\n",
       "      <td>-0.624194</td>\n",
       "      <td>0.659391</td>\n",
       "      <td>0.685796</td>\n",
       "      <td>1.117574</td>\n",
       "      <td>1.225124</td>\n",
       "    </tr>\n",
       "    <tr>\n",
       "      <th>2922</th>\n",
       "      <td>-0.888760</td>\n",
       "      <td>-0.957599</td>\n",
       "      <td>-0.207529</td>\n",
       "      <td>-0.849583</td>\n",
       "      <td>0.429894</td>\n",
       "      <td>0.130599</td>\n",
       "    </tr>\n",
       "    <tr>\n",
       "      <th>2925</th>\n",
       "      <td>0.755002</td>\n",
       "      <td>-0.752930</td>\n",
       "      <td>0.327339</td>\n",
       "      <td>-0.590601</td>\n",
       "      <td>0.419428</td>\n",
       "      <td>-0.787615</td>\n",
       "    </tr>\n",
       "    <tr>\n",
       "      <th>2928</th>\n",
       "      <td>1.375938</td>\n",
       "      <td>-1.317993</td>\n",
       "      <td>1.328645</td>\n",
       "      <td>-0.563896</td>\n",
       "      <td>0.083813</td>\n",
       "      <td>0.542842</td>\n",
       "    </tr>\n",
       "    <tr>\n",
       "      <th>2931</th>\n",
       "      <td>-0.044718</td>\n",
       "      <td>0.790248</td>\n",
       "      <td>0.420722</td>\n",
       "      <td>0.994663</td>\n",
       "      <td>0.254418</td>\n",
       "      <td>-1.143327</td>\n",
       "    </tr>\n",
       "    <tr>\n",
       "      <th>2934</th>\n",
       "      <td>0.066534</td>\n",
       "      <td>0.248576</td>\n",
       "      <td>-1.932202</td>\n",
       "      <td>-0.634495</td>\n",
       "      <td>0.253297</td>\n",
       "      <td>-0.043896</td>\n",
       "    </tr>\n",
       "    <tr>\n",
       "      <th>2937</th>\n",
       "      <td>-0.810081</td>\n",
       "      <td>0.196221</td>\n",
       "      <td>-0.906477</td>\n",
       "      <td>0.014183</td>\n",
       "      <td>0.132089</td>\n",
       "      <td>-0.714560</td>\n",
       "    </tr>\n",
       "    <tr>\n",
       "      <th>2940</th>\n",
       "      <td>0.578489</td>\n",
       "      <td>0.687239</td>\n",
       "      <td>-0.836666</td>\n",
       "      <td>-1.466127</td>\n",
       "      <td>0.208678</td>\n",
       "      <td>0.894421</td>\n",
       "    </tr>\n",
       "    <tr>\n",
       "      <th>2943</th>\n",
       "      <td>-0.655296</td>\n",
       "      <td>-0.660953</td>\n",
       "      <td>0.896690</td>\n",
       "      <td>-0.690608</td>\n",
       "      <td>-1.096920</td>\n",
       "      <td>-2.059588</td>\n",
       "    </tr>\n",
       "    <tr>\n",
       "      <th>2946</th>\n",
       "      <td>1.613580</td>\n",
       "      <td>2.678219</td>\n",
       "      <td>-1.777081</td>\n",
       "      <td>-0.270872</td>\n",
       "      <td>-0.489450</td>\n",
       "      <td>-0.493806</td>\n",
       "    </tr>\n",
       "    <tr>\n",
       "      <th>2949</th>\n",
       "      <td>-0.478901</td>\n",
       "      <td>-0.860028</td>\n",
       "      <td>-0.340989</td>\n",
       "      <td>-0.260792</td>\n",
       "      <td>2.734018</td>\n",
       "      <td>-0.645707</td>\n",
       "    </tr>\n",
       "    <tr>\n",
       "      <th>2952</th>\n",
       "      <td>0.547063</td>\n",
       "      <td>0.607223</td>\n",
       "      <td>0.267722</td>\n",
       "      <td>-0.752940</td>\n",
       "      <td>-0.124947</td>\n",
       "      <td>-0.837595</td>\n",
       "    </tr>\n",
       "    <tr>\n",
       "      <th>2955</th>\n",
       "      <td>-0.172851</td>\n",
       "      <td>-0.930117</td>\n",
       "      <td>-0.110616</td>\n",
       "      <td>2.308126</td>\n",
       "      <td>0.192292</td>\n",
       "      <td>0.063374</td>\n",
       "    </tr>\n",
       "    <tr>\n",
       "      <th>2958</th>\n",
       "      <td>1.078689</td>\n",
       "      <td>2.337766</td>\n",
       "      <td>0.739069</td>\n",
       "      <td>-1.583211</td>\n",
       "      <td>-0.318322</td>\n",
       "      <td>0.982989</td>\n",
       "    </tr>\n",
       "    <tr>\n",
       "      <th>2961</th>\n",
       "      <td>0.013385</td>\n",
       "      <td>-0.230946</td>\n",
       "      <td>1.112972</td>\n",
       "      <td>-0.971575</td>\n",
       "      <td>0.667050</td>\n",
       "      <td>1.328941</td>\n",
       "    </tr>\n",
       "    <tr>\n",
       "      <th>2964</th>\n",
       "      <td>0.682707</td>\n",
       "      <td>0.668586</td>\n",
       "      <td>-0.299152</td>\n",
       "      <td>0.778902</td>\n",
       "      <td>2.846381</td>\n",
       "      <td>-0.774174</td>\n",
       "    </tr>\n",
       "    <tr>\n",
       "      <th>2967</th>\n",
       "      <td>0.163111</td>\n",
       "      <td>1.517941</td>\n",
       "      <td>0.162560</td>\n",
       "      <td>0.708776</td>\n",
       "      <td>-1.574712</td>\n",
       "      <td>1.029939</td>\n",
       "    </tr>\n",
       "    <tr>\n",
       "      <th>2970</th>\n",
       "      <td>-1.241298</td>\n",
       "      <td>-1.225870</td>\n",
       "      <td>-0.736026</td>\n",
       "      <td>0.544167</td>\n",
       "      <td>0.466127</td>\n",
       "      <td>1.869085</td>\n",
       "    </tr>\n",
       "    <tr>\n",
       "      <th>2973</th>\n",
       "      <td>-0.296662</td>\n",
       "      <td>1.044049</td>\n",
       "      <td>-1.000297</td>\n",
       "      <td>-0.536798</td>\n",
       "      <td>3.037953</td>\n",
       "      <td>0.133445</td>\n",
       "    </tr>\n",
       "    <tr>\n",
       "      <th>2976</th>\n",
       "      <td>0.381042</td>\n",
       "      <td>-0.960889</td>\n",
       "      <td>-0.039585</td>\n",
       "      <td>2.300440</td>\n",
       "      <td>-0.901716</td>\n",
       "      <td>-1.267716</td>\n",
       "    </tr>\n",
       "    <tr>\n",
       "      <th>2979</th>\n",
       "      <td>0.367820</td>\n",
       "      <td>-0.089890</td>\n",
       "      <td>1.165992</td>\n",
       "      <td>-1.048818</td>\n",
       "      <td>0.474310</td>\n",
       "      <td>0.042712</td>\n",
       "    </tr>\n",
       "    <tr>\n",
       "      <th>2982</th>\n",
       "      <td>0.037483</td>\n",
       "      <td>0.878178</td>\n",
       "      <td>-0.245404</td>\n",
       "      <td>-0.800555</td>\n",
       "      <td>1.433961</td>\n",
       "      <td>1.664625</td>\n",
       "    </tr>\n",
       "    <tr>\n",
       "      <th>2985</th>\n",
       "      <td>-1.443039</td>\n",
       "      <td>-0.873042</td>\n",
       "      <td>0.286502</td>\n",
       "      <td>0.131774</td>\n",
       "      <td>-0.812787</td>\n",
       "      <td>-0.432542</td>\n",
       "    </tr>\n",
       "    <tr>\n",
       "      <th>2988</th>\n",
       "      <td>0.636137</td>\n",
       "      <td>-0.465677</td>\n",
       "      <td>0.677833</td>\n",
       "      <td>-0.541540</td>\n",
       "      <td>-0.302328</td>\n",
       "      <td>-0.929792</td>\n",
       "    </tr>\n",
       "    <tr>\n",
       "      <th>2991</th>\n",
       "      <td>1.428879</td>\n",
       "      <td>-0.855440</td>\n",
       "      <td>0.539704</td>\n",
       "      <td>-1.497891</td>\n",
       "      <td>0.004913</td>\n",
       "      <td>0.093641</td>\n",
       "    </tr>\n",
       "    <tr>\n",
       "      <th>2994</th>\n",
       "      <td>0.746677</td>\n",
       "      <td>0.246700</td>\n",
       "      <td>0.726296</td>\n",
       "      <td>1.238024</td>\n",
       "      <td>0.333257</td>\n",
       "      <td>-1.383022</td>\n",
       "    </tr>\n",
       "    <tr>\n",
       "      <th>2997</th>\n",
       "      <td>2.054665</td>\n",
       "      <td>0.848563</td>\n",
       "      <td>-0.652124</td>\n",
       "      <td>-1.153524</td>\n",
       "      <td>-0.171251</td>\n",
       "      <td>-0.056290</td>\n",
       "    </tr>\n",
       "  </tbody>\n",
       "</table>\n",
       "<p>1000 rows × 6 columns</p>\n",
       "</div>"
      ],
      "text/plain": [
       "             A         B         C         D         E         F\n",
       "0    -0.656352 -1.828935  1.356624 -2.031876  0.714026  0.322131\n",
       "3    -0.731898 -0.040749  2.087230 -0.186705  0.925189 -0.028877\n",
       "6     0.279463 -0.903286  0.542951  0.245455  0.736812  0.523788\n",
       "9     0.517327  0.176194  0.106239 -2.695502 -0.318348 -0.046300\n",
       "12   -0.657431 -0.841408 -1.749269  0.056158  0.171432 -0.185184\n",
       "15   -1.037143  0.993396 -0.460049 -0.727853  0.166404  0.770176\n",
       "18   -1.154023 -0.686064  0.810068 -0.190371  0.958805  1.154928\n",
       "21   -0.914291  0.224959 -0.658206  0.519325 -1.308979  0.584807\n",
       "24    1.628173 -0.720387  0.026391 -0.730022 -0.307067  0.607703\n",
       "27   -1.441548 -1.112996 -0.461846 -0.284627  0.312223  0.981884\n",
       "30   -0.947833  0.504739 -0.185189 -0.915074  0.229380  0.950733\n",
       "33    0.568704 -1.389992  1.060209 -2.030606 -1.889857 -0.653558\n",
       "36   -0.216113 -0.156034  1.933680 -0.522886  0.591404  0.029560\n",
       "39    0.435046 -0.544043  1.637750  2.895750  1.379531  0.798775\n",
       "42   -1.387401  1.338303  0.575036  1.903666 -1.222214  0.913095\n",
       "45    0.043583  1.872543  1.121038  0.506077 -1.575384 -0.688967\n",
       "48   -0.024903 -0.564044  1.552075  1.876975  0.645534 -0.864259\n",
       "51    0.718277 -1.142199  2.006196  0.889505 -1.922738 -1.291521\n",
       "54    0.794272 -0.946418 -0.274722 -1.416130  0.660384  0.159691\n",
       "57    0.260719  1.146021  0.632784 -0.871521 -0.015575 -0.180701\n",
       "60    1.030691 -0.106644 -0.732406 -0.502540 -0.341653 -1.179198\n",
       "63    2.530912 -0.733424  0.928991  1.054350  0.789200  0.789650\n",
       "66    1.636331  1.130697 -0.850719  1.471830 -1.873937 -2.008805\n",
       "69    0.397095  1.751420  0.445183 -0.780480  1.585932  1.137160\n",
       "72    1.132345 -0.023577  0.071814  1.007650  0.129902  0.049196\n",
       "75    0.333982  0.236107  0.635188  1.849073 -1.798078  0.049288\n",
       "78    1.019885 -1.843097 -3.298523 -0.140224  0.971712  1.667694\n",
       "81   -1.008793  0.670729  1.083114 -1.600656  0.909832 -0.877123\n",
       "84   -0.303486  0.088631  1.389573 -0.563821 -1.755843 -1.314920\n",
       "87    1.310600  0.876379 -2.317219  0.963812 -1.570543  0.507540\n",
       "...        ...       ...       ...       ...       ...       ...\n",
       "2910 -0.528498  1.581053  1.286878 -1.025929  0.801995  1.095970\n",
       "2913  0.388897 -1.146886  1.076750  0.289971 -0.487025 -0.651288\n",
       "2916 -0.308890  0.203227  0.921380 -0.958388 -0.946860  0.245081\n",
       "2919 -2.233455 -0.624194  0.659391  0.685796  1.117574  1.225124\n",
       "2922 -0.888760 -0.957599 -0.207529 -0.849583  0.429894  0.130599\n",
       "2925  0.755002 -0.752930  0.327339 -0.590601  0.419428 -0.787615\n",
       "2928  1.375938 -1.317993  1.328645 -0.563896  0.083813  0.542842\n",
       "2931 -0.044718  0.790248  0.420722  0.994663  0.254418 -1.143327\n",
       "2934  0.066534  0.248576 -1.932202 -0.634495  0.253297 -0.043896\n",
       "2937 -0.810081  0.196221 -0.906477  0.014183  0.132089 -0.714560\n",
       "2940  0.578489  0.687239 -0.836666 -1.466127  0.208678  0.894421\n",
       "2943 -0.655296 -0.660953  0.896690 -0.690608 -1.096920 -2.059588\n",
       "2946  1.613580  2.678219 -1.777081 -0.270872 -0.489450 -0.493806\n",
       "2949 -0.478901 -0.860028 -0.340989 -0.260792  2.734018 -0.645707\n",
       "2952  0.547063  0.607223  0.267722 -0.752940 -0.124947 -0.837595\n",
       "2955 -0.172851 -0.930117 -0.110616  2.308126  0.192292  0.063374\n",
       "2958  1.078689  2.337766  0.739069 -1.583211 -0.318322  0.982989\n",
       "2961  0.013385 -0.230946  1.112972 -0.971575  0.667050  1.328941\n",
       "2964  0.682707  0.668586 -0.299152  0.778902  2.846381 -0.774174\n",
       "2967  0.163111  1.517941  0.162560  0.708776 -1.574712  1.029939\n",
       "2970 -1.241298 -1.225870 -0.736026  0.544167  0.466127  1.869085\n",
       "2973 -0.296662  1.044049 -1.000297 -0.536798  3.037953  0.133445\n",
       "2976  0.381042 -0.960889 -0.039585  2.300440 -0.901716 -1.267716\n",
       "2979  0.367820 -0.089890  1.165992 -1.048818  0.474310  0.042712\n",
       "2982  0.037483  0.878178 -0.245404 -0.800555  1.433961  1.664625\n",
       "2985 -1.443039 -0.873042  0.286502  0.131774 -0.812787 -0.432542\n",
       "2988  0.636137 -0.465677  0.677833 -0.541540 -0.302328 -0.929792\n",
       "2991  1.428879 -0.855440  0.539704 -1.497891  0.004913  0.093641\n",
       "2994  0.746677  0.246700  0.726296  1.238024  0.333257 -1.383022\n",
       "2997  2.054665  0.848563 -0.652124 -1.153524 -0.171251 -0.056290\n",
       "\n",
       "[1000 rows x 6 columns]"
      ]
     },
     "execution_count": 64,
     "metadata": {},
     "output_type": "execute_result"
    }
   ],
   "source": [
    "u = pd.DataFrame(np.random.randn(1000,6), index=np.arange(0, 3000, 3), \n",
    "                 columns=['A', 'B', 'C', 'D', 'E', 'F'])\n",
    "u"
   ]
  },
  {
   "cell_type": "markdown",
   "metadata": {},
   "source": [
    "As you might have noticed, it is a bit ugly to deal with large dataframes. There are however some functions that allows to have an idea of the data in a frame."
   ]
  },
  {
   "cell_type": "code",
   "execution_count": 65,
   "metadata": {},
   "outputs": [
    {
     "data": {
      "text/html": [
       "<div>\n",
       "<style scoped>\n",
       "    .dataframe tbody tr th:only-of-type {\n",
       "        vertical-align: middle;\n",
       "    }\n",
       "\n",
       "    .dataframe tbody tr th {\n",
       "        vertical-align: top;\n",
       "    }\n",
       "\n",
       "    .dataframe thead th {\n",
       "        text-align: right;\n",
       "    }\n",
       "</style>\n",
       "<table border=\"1\" class=\"dataframe\">\n",
       "  <thead>\n",
       "    <tr style=\"text-align: right;\">\n",
       "      <th></th>\n",
       "      <th>A</th>\n",
       "      <th>B</th>\n",
       "      <th>C</th>\n",
       "      <th>D</th>\n",
       "      <th>E</th>\n",
       "      <th>F</th>\n",
       "    </tr>\n",
       "  </thead>\n",
       "  <tbody>\n",
       "    <tr>\n",
       "      <th>0</th>\n",
       "      <td>-0.656352</td>\n",
       "      <td>-1.828935</td>\n",
       "      <td>1.356624</td>\n",
       "      <td>-2.031876</td>\n",
       "      <td>0.714026</td>\n",
       "      <td>0.322131</td>\n",
       "    </tr>\n",
       "    <tr>\n",
       "      <th>3</th>\n",
       "      <td>-0.731898</td>\n",
       "      <td>-0.040749</td>\n",
       "      <td>2.087230</td>\n",
       "      <td>-0.186705</td>\n",
       "      <td>0.925189</td>\n",
       "      <td>-0.028877</td>\n",
       "    </tr>\n",
       "    <tr>\n",
       "      <th>6</th>\n",
       "      <td>0.279463</td>\n",
       "      <td>-0.903286</td>\n",
       "      <td>0.542951</td>\n",
       "      <td>0.245455</td>\n",
       "      <td>0.736812</td>\n",
       "      <td>0.523788</td>\n",
       "    </tr>\n",
       "    <tr>\n",
       "      <th>9</th>\n",
       "      <td>0.517327</td>\n",
       "      <td>0.176194</td>\n",
       "      <td>0.106239</td>\n",
       "      <td>-2.695502</td>\n",
       "      <td>-0.318348</td>\n",
       "      <td>-0.046300</td>\n",
       "    </tr>\n",
       "    <tr>\n",
       "      <th>12</th>\n",
       "      <td>-0.657431</td>\n",
       "      <td>-0.841408</td>\n",
       "      <td>-1.749269</td>\n",
       "      <td>0.056158</td>\n",
       "      <td>0.171432</td>\n",
       "      <td>-0.185184</td>\n",
       "    </tr>\n",
       "  </tbody>\n",
       "</table>\n",
       "</div>"
      ],
      "text/plain": [
       "           A         B         C         D         E         F\n",
       "0  -0.656352 -1.828935  1.356624 -2.031876  0.714026  0.322131\n",
       "3  -0.731898 -0.040749  2.087230 -0.186705  0.925189 -0.028877\n",
       "6   0.279463 -0.903286  0.542951  0.245455  0.736812  0.523788\n",
       "9   0.517327  0.176194  0.106239 -2.695502 -0.318348 -0.046300\n",
       "12 -0.657431 -0.841408 -1.749269  0.056158  0.171432 -0.185184"
      ]
     },
     "execution_count": 65,
     "metadata": {},
     "output_type": "execute_result"
    }
   ],
   "source": [
    "u.head()"
   ]
  },
  {
   "cell_type": "code",
   "execution_count": 66,
   "metadata": {},
   "outputs": [
    {
     "data": {
      "text/html": [
       "<div>\n",
       "<style scoped>\n",
       "    .dataframe tbody tr th:only-of-type {\n",
       "        vertical-align: middle;\n",
       "    }\n",
       "\n",
       "    .dataframe tbody tr th {\n",
       "        vertical-align: top;\n",
       "    }\n",
       "\n",
       "    .dataframe thead th {\n",
       "        text-align: right;\n",
       "    }\n",
       "</style>\n",
       "<table border=\"1\" class=\"dataframe\">\n",
       "  <thead>\n",
       "    <tr style=\"text-align: right;\">\n",
       "      <th></th>\n",
       "      <th>A</th>\n",
       "      <th>B</th>\n",
       "      <th>C</th>\n",
       "      <th>D</th>\n",
       "      <th>E</th>\n",
       "      <th>F</th>\n",
       "    </tr>\n",
       "  </thead>\n",
       "  <tbody>\n",
       "    <tr>\n",
       "      <th>2985</th>\n",
       "      <td>-1.443039</td>\n",
       "      <td>-0.873042</td>\n",
       "      <td>0.286502</td>\n",
       "      <td>0.131774</td>\n",
       "      <td>-0.812787</td>\n",
       "      <td>-0.432542</td>\n",
       "    </tr>\n",
       "    <tr>\n",
       "      <th>2988</th>\n",
       "      <td>0.636137</td>\n",
       "      <td>-0.465677</td>\n",
       "      <td>0.677833</td>\n",
       "      <td>-0.541540</td>\n",
       "      <td>-0.302328</td>\n",
       "      <td>-0.929792</td>\n",
       "    </tr>\n",
       "    <tr>\n",
       "      <th>2991</th>\n",
       "      <td>1.428879</td>\n",
       "      <td>-0.855440</td>\n",
       "      <td>0.539704</td>\n",
       "      <td>-1.497891</td>\n",
       "      <td>0.004913</td>\n",
       "      <td>0.093641</td>\n",
       "    </tr>\n",
       "    <tr>\n",
       "      <th>2994</th>\n",
       "      <td>0.746677</td>\n",
       "      <td>0.246700</td>\n",
       "      <td>0.726296</td>\n",
       "      <td>1.238024</td>\n",
       "      <td>0.333257</td>\n",
       "      <td>-1.383022</td>\n",
       "    </tr>\n",
       "    <tr>\n",
       "      <th>2997</th>\n",
       "      <td>2.054665</td>\n",
       "      <td>0.848563</td>\n",
       "      <td>-0.652124</td>\n",
       "      <td>-1.153524</td>\n",
       "      <td>-0.171251</td>\n",
       "      <td>-0.056290</td>\n",
       "    </tr>\n",
       "  </tbody>\n",
       "</table>\n",
       "</div>"
      ],
      "text/plain": [
       "             A         B         C         D         E         F\n",
       "2985 -1.443039 -0.873042  0.286502  0.131774 -0.812787 -0.432542\n",
       "2988  0.636137 -0.465677  0.677833 -0.541540 -0.302328 -0.929792\n",
       "2991  1.428879 -0.855440  0.539704 -1.497891  0.004913  0.093641\n",
       "2994  0.746677  0.246700  0.726296  1.238024  0.333257 -1.383022\n",
       "2997  2.054665  0.848563 -0.652124 -1.153524 -0.171251 -0.056290"
      ]
     },
     "execution_count": 66,
     "metadata": {},
     "output_type": "execute_result"
    }
   ],
   "source": [
    "u.tail()"
   ]
  },
  {
   "cell_type": "code",
   "execution_count": 67,
   "metadata": {},
   "outputs": [
    {
     "data": {
      "text/html": [
       "<div>\n",
       "<style scoped>\n",
       "    .dataframe tbody tr th:only-of-type {\n",
       "        vertical-align: middle;\n",
       "    }\n",
       "\n",
       "    .dataframe tbody tr th {\n",
       "        vertical-align: top;\n",
       "    }\n",
       "\n",
       "    .dataframe thead th {\n",
       "        text-align: right;\n",
       "    }\n",
       "</style>\n",
       "<table border=\"1\" class=\"dataframe\">\n",
       "  <thead>\n",
       "    <tr style=\"text-align: right;\">\n",
       "      <th></th>\n",
       "      <th>A</th>\n",
       "      <th>B</th>\n",
       "      <th>C</th>\n",
       "      <th>D</th>\n",
       "      <th>E</th>\n",
       "      <th>F</th>\n",
       "    </tr>\n",
       "  </thead>\n",
       "  <tbody>\n",
       "    <tr>\n",
       "      <th>count</th>\n",
       "      <td>1000.000000</td>\n",
       "      <td>1000.000000</td>\n",
       "      <td>1000.000000</td>\n",
       "      <td>1000.000000</td>\n",
       "      <td>1000.000000</td>\n",
       "      <td>1000.000000</td>\n",
       "    </tr>\n",
       "    <tr>\n",
       "      <th>mean</th>\n",
       "      <td>0.021276</td>\n",
       "      <td>-0.015718</td>\n",
       "      <td>-0.001859</td>\n",
       "      <td>0.009421</td>\n",
       "      <td>-0.017174</td>\n",
       "      <td>0.051858</td>\n",
       "    </tr>\n",
       "    <tr>\n",
       "      <th>std</th>\n",
       "      <td>0.978987</td>\n",
       "      <td>1.019808</td>\n",
       "      <td>0.992385</td>\n",
       "      <td>0.989330</td>\n",
       "      <td>0.991654</td>\n",
       "      <td>1.019828</td>\n",
       "    </tr>\n",
       "    <tr>\n",
       "      <th>min</th>\n",
       "      <td>-3.388593</td>\n",
       "      <td>-2.991824</td>\n",
       "      <td>-3.298523</td>\n",
       "      <td>-2.706775</td>\n",
       "      <td>-2.871235</td>\n",
       "      <td>-2.988653</td>\n",
       "    </tr>\n",
       "    <tr>\n",
       "      <th>25%</th>\n",
       "      <td>-0.645020</td>\n",
       "      <td>-0.714591</td>\n",
       "      <td>-0.711553</td>\n",
       "      <td>-0.688415</td>\n",
       "      <td>-0.662433</td>\n",
       "      <td>-0.619081</td>\n",
       "    </tr>\n",
       "    <tr>\n",
       "      <th>50%</th>\n",
       "      <td>0.013383</td>\n",
       "      <td>-0.030724</td>\n",
       "      <td>-0.006858</td>\n",
       "      <td>-0.011506</td>\n",
       "      <td>0.004806</td>\n",
       "      <td>0.087382</td>\n",
       "    </tr>\n",
       "    <tr>\n",
       "      <th>75%</th>\n",
       "      <td>0.712798</td>\n",
       "      <td>0.639428</td>\n",
       "      <td>0.718376</td>\n",
       "      <td>0.685899</td>\n",
       "      <td>0.662050</td>\n",
       "      <td>0.762712</td>\n",
       "    </tr>\n",
       "    <tr>\n",
       "      <th>max</th>\n",
       "      <td>3.761690</td>\n",
       "      <td>3.445405</td>\n",
       "      <td>3.179276</td>\n",
       "      <td>3.255549</td>\n",
       "      <td>3.037953</td>\n",
       "      <td>3.512409</td>\n",
       "    </tr>\n",
       "  </tbody>\n",
       "</table>\n",
       "</div>"
      ],
      "text/plain": [
       "                 A            B            C            D            E  \\\n",
       "count  1000.000000  1000.000000  1000.000000  1000.000000  1000.000000   \n",
       "mean      0.021276    -0.015718    -0.001859     0.009421    -0.017174   \n",
       "std       0.978987     1.019808     0.992385     0.989330     0.991654   \n",
       "min      -3.388593    -2.991824    -3.298523    -2.706775    -2.871235   \n",
       "25%      -0.645020    -0.714591    -0.711553    -0.688415    -0.662433   \n",
       "50%       0.013383    -0.030724    -0.006858    -0.011506     0.004806   \n",
       "75%       0.712798     0.639428     0.718376     0.685899     0.662050   \n",
       "max       3.761690     3.445405     3.179276     3.255549     3.037953   \n",
       "\n",
       "                 F  \n",
       "count  1000.000000  \n",
       "mean      0.051858  \n",
       "std       1.019828  \n",
       "min      -2.988653  \n",
       "25%      -0.619081  \n",
       "50%       0.087382  \n",
       "75%       0.762712  \n",
       "max       3.512409  "
      ]
     },
     "execution_count": 67,
     "metadata": {},
     "output_type": "execute_result"
    }
   ],
   "source": [
    "u.describe()"
   ]
  },
  {
   "cell_type": "markdown",
   "metadata": {},
   "source": [
    "One can also change the maximal number of rows that is displayed:"
   ]
  },
  {
   "cell_type": "code",
   "execution_count": 68,
   "metadata": {},
   "outputs": [],
   "source": [
    "pd.set_option('display.max_rows', 15)"
   ]
  },
  {
   "cell_type": "markdown",
   "metadata": {},
   "source": [
    "`Pandas` can also generate random `DataFrames` for testing:"
   ]
  },
  {
   "cell_type": "code",
   "execution_count": 69,
   "metadata": {},
   "outputs": [
    {
     "data": {
      "text/html": [
       "<div>\n",
       "<style scoped>\n",
       "    .dataframe tbody tr th:only-of-type {\n",
       "        vertical-align: middle;\n",
       "    }\n",
       "\n",
       "    .dataframe tbody tr th {\n",
       "        vertical-align: top;\n",
       "    }\n",
       "\n",
       "    .dataframe thead th {\n",
       "        text-align: right;\n",
       "    }\n",
       "</style>\n",
       "<table border=\"1\" class=\"dataframe\">\n",
       "  <thead>\n",
       "    <tr style=\"text-align: right;\">\n",
       "      <th></th>\n",
       "      <th>A</th>\n",
       "      <th>B</th>\n",
       "      <th>C</th>\n",
       "      <th>D</th>\n",
       "    </tr>\n",
       "  </thead>\n",
       "  <tbody>\n",
       "    <tr>\n",
       "      <th>IMkPQoYk8c</th>\n",
       "      <td>-0.524647</td>\n",
       "      <td>1.590209</td>\n",
       "      <td>1.635992</td>\n",
       "      <td>2.214842</td>\n",
       "    </tr>\n",
       "    <tr>\n",
       "      <th>XkE2GTueIU</th>\n",
       "      <td>0.004372</td>\n",
       "      <td>-0.504213</td>\n",
       "      <td>0.960424</td>\n",
       "      <td>-0.060892</td>\n",
       "    </tr>\n",
       "    <tr>\n",
       "      <th>AgJDnr0Bun</th>\n",
       "      <td>0.874894</td>\n",
       "      <td>0.042252</td>\n",
       "      <td>-0.681422</td>\n",
       "      <td>0.652912</td>\n",
       "    </tr>\n",
       "    <tr>\n",
       "      <th>eA4yB0V0Y4</th>\n",
       "      <td>-1.697171</td>\n",
       "      <td>0.586966</td>\n",
       "      <td>0.364229</td>\n",
       "      <td>0.719895</td>\n",
       "    </tr>\n",
       "    <tr>\n",
       "      <th>TQB9Pnno30</th>\n",
       "      <td>0.463265</td>\n",
       "      <td>0.313215</td>\n",
       "      <td>-0.865998</td>\n",
       "      <td>-0.094642</td>\n",
       "    </tr>\n",
       "  </tbody>\n",
       "</table>\n",
       "</div>"
      ],
      "text/plain": [
       "                   A         B         C         D\n",
       "IMkPQoYk8c -0.524647  1.590209  1.635992  2.214842\n",
       "XkE2GTueIU  0.004372 -0.504213  0.960424 -0.060892\n",
       "AgJDnr0Bun  0.874894  0.042252 -0.681422  0.652912\n",
       "eA4yB0V0Y4 -1.697171  0.586966  0.364229  0.719895\n",
       "TQB9Pnno30  0.463265  0.313215 -0.865998 -0.094642"
      ]
     },
     "execution_count": 69,
     "metadata": {},
     "output_type": "execute_result"
    }
   ],
   "source": [
    "import pandas.util.testing as tm\n",
    "\n",
    "tm.makeDataFrame().head()"
   ]
  },
  {
   "cell_type": "markdown",
   "metadata": {},
   "source": [
    "### Indexing/Slicing in Pandas\n",
    "\n",
    "The easiest way of accessing information in a Pandas dataframe, equivalent to the way used in NumPy, is using the `iloc` command. With this you can also set specific values, do conditional indexing... all that we have seen before in section 2.4"
   ]
  },
  {
   "cell_type": "code",
   "execution_count": 70,
   "metadata": {},
   "outputs": [
    {
     "data": {
      "text/html": [
       "<div>\n",
       "<style scoped>\n",
       "    .dataframe tbody tr th:only-of-type {\n",
       "        vertical-align: middle;\n",
       "    }\n",
       "\n",
       "    .dataframe tbody tr th {\n",
       "        vertical-align: top;\n",
       "    }\n",
       "\n",
       "    .dataframe thead th {\n",
       "        text-align: right;\n",
       "    }\n",
       "</style>\n",
       "<table border=\"1\" class=\"dataframe\">\n",
       "  <thead>\n",
       "    <tr style=\"text-align: right;\">\n",
       "      <th></th>\n",
       "      <th>A</th>\n",
       "      <th>C</th>\n",
       "      <th>F</th>\n",
       "    </tr>\n",
       "  </thead>\n",
       "  <tbody>\n",
       "    <tr>\n",
       "      <th>375</th>\n",
       "      <td>0.047315</td>\n",
       "      <td>-1.462825</td>\n",
       "      <td>-0.449300</td>\n",
       "    </tr>\n",
       "    <tr>\n",
       "      <th>378</th>\n",
       "      <td>2.132679</td>\n",
       "      <td>0.117482</td>\n",
       "      <td>1.993029</td>\n",
       "    </tr>\n",
       "    <tr>\n",
       "      <th>381</th>\n",
       "      <td>-0.323788</td>\n",
       "      <td>-0.948980</td>\n",
       "      <td>0.780710</td>\n",
       "    </tr>\n",
       "    <tr>\n",
       "      <th>384</th>\n",
       "      <td>0.717457</td>\n",
       "      <td>0.439078</td>\n",
       "      <td>0.921090</td>\n",
       "    </tr>\n",
       "    <tr>\n",
       "      <th>387</th>\n",
       "      <td>-0.196388</td>\n",
       "      <td>-1.221562</td>\n",
       "      <td>-0.949684</td>\n",
       "    </tr>\n",
       "    <tr>\n",
       "      <th>390</th>\n",
       "      <td>-0.327326</td>\n",
       "      <td>-0.667344</td>\n",
       "      <td>0.693266</td>\n",
       "    </tr>\n",
       "    <tr>\n",
       "      <th>393</th>\n",
       "      <td>1.961462</td>\n",
       "      <td>-0.890454</td>\n",
       "      <td>-0.931758</td>\n",
       "    </tr>\n",
       "  </tbody>\n",
       "</table>\n",
       "</div>"
      ],
      "text/plain": [
       "            A         C         F\n",
       "375  0.047315 -1.462825 -0.449300\n",
       "378  2.132679  0.117482  1.993029\n",
       "381 -0.323788 -0.948980  0.780710\n",
       "384  0.717457  0.439078  0.921090\n",
       "387 -0.196388 -1.221562 -0.949684\n",
       "390 -0.327326 -0.667344  0.693266\n",
       "393  1.961462 -0.890454 -0.931758"
      ]
     },
     "execution_count": 70,
     "metadata": {},
     "output_type": "execute_result"
    }
   ],
   "source": [
    "u.iloc[125:132,[0, 2, 5]]"
   ]
  },
  {
   "cell_type": "markdown",
   "metadata": {},
   "source": [
    "However, there are a few different ways of accessing the data in a Pandas dataframe, that typically have a more \"direct\" connection with the actual content fo the dataframe. Individual or sets of columns can also be accessed by their column names. Choosing one single column will give a Series, while two or more will produce a Dataset"
   ]
  },
  {
   "cell_type": "code",
   "execution_count": 71,
   "metadata": {},
   "outputs": [
    {
     "data": {
      "text/plain": [
       "0    -0.656352\n",
       "3    -0.731898\n",
       "6     0.279463\n",
       "9     0.517327\n",
       "12   -0.657431\n",
       "Name: A, dtype: float64"
      ]
     },
     "execution_count": 71,
     "metadata": {},
     "output_type": "execute_result"
    }
   ],
   "source": [
    "u['A'].head()"
   ]
  },
  {
   "cell_type": "code",
   "execution_count": 72,
   "metadata": {},
   "outputs": [
    {
     "data": {
      "text/html": [
       "<div>\n",
       "<style scoped>\n",
       "    .dataframe tbody tr th:only-of-type {\n",
       "        vertical-align: middle;\n",
       "    }\n",
       "\n",
       "    .dataframe tbody tr th {\n",
       "        vertical-align: top;\n",
       "    }\n",
       "\n",
       "    .dataframe thead th {\n",
       "        text-align: right;\n",
       "    }\n",
       "</style>\n",
       "<table border=\"1\" class=\"dataframe\">\n",
       "  <thead>\n",
       "    <tr style=\"text-align: right;\">\n",
       "      <th></th>\n",
       "      <th>A</th>\n",
       "      <th>D</th>\n",
       "    </tr>\n",
       "  </thead>\n",
       "  <tbody>\n",
       "    <tr>\n",
       "      <th>0</th>\n",
       "      <td>-0.656352</td>\n",
       "      <td>-2.031876</td>\n",
       "    </tr>\n",
       "    <tr>\n",
       "      <th>3</th>\n",
       "      <td>-0.731898</td>\n",
       "      <td>-0.186705</td>\n",
       "    </tr>\n",
       "    <tr>\n",
       "      <th>6</th>\n",
       "      <td>0.279463</td>\n",
       "      <td>0.245455</td>\n",
       "    </tr>\n",
       "    <tr>\n",
       "      <th>9</th>\n",
       "      <td>0.517327</td>\n",
       "      <td>-2.695502</td>\n",
       "    </tr>\n",
       "    <tr>\n",
       "      <th>12</th>\n",
       "      <td>-0.657431</td>\n",
       "      <td>0.056158</td>\n",
       "    </tr>\n",
       "  </tbody>\n",
       "</table>\n",
       "</div>"
      ],
      "text/plain": [
       "           A         D\n",
       "0  -0.656352 -2.031876\n",
       "3  -0.731898 -0.186705\n",
       "6   0.279463  0.245455\n",
       "9   0.517327 -2.695502\n",
       "12 -0.657431  0.056158"
      ]
     },
     "execution_count": 72,
     "metadata": {},
     "output_type": "execute_result"
    }
   ],
   "source": [
    "u[['A', 'D']].head()"
   ]
  },
  {
   "cell_type": "markdown",
   "metadata": {},
   "source": [
    "Not only that, you can access a single column without the need of brackets []"
   ]
  },
  {
   "cell_type": "code",
   "execution_count": 73,
   "metadata": {},
   "outputs": [
    {
     "data": {
      "text/plain": [
       "0    -0.656352\n",
       "3    -0.731898\n",
       "6     0.279463\n",
       "9     0.517327\n",
       "12   -0.657431\n",
       "Name: A, dtype: float64"
      ]
     },
     "execution_count": 73,
     "metadata": {},
     "output_type": "execute_result"
    }
   ],
   "source": [
    "u.A.head()"
   ]
  },
  {
   "cell_type": "markdown",
   "metadata": {},
   "source": [
    "The usual [] will select specific rows according to the row number"
   ]
  },
  {
   "cell_type": "code",
   "execution_count": 74,
   "metadata": {
    "scrolled": false
   },
   "outputs": [
    {
     "data": {
      "text/html": [
       "<div>\n",
       "<style scoped>\n",
       "    .dataframe tbody tr th:only-of-type {\n",
       "        vertical-align: middle;\n",
       "    }\n",
       "\n",
       "    .dataframe tbody tr th {\n",
       "        vertical-align: top;\n",
       "    }\n",
       "\n",
       "    .dataframe thead th {\n",
       "        text-align: right;\n",
       "    }\n",
       "</style>\n",
       "<table border=\"1\" class=\"dataframe\">\n",
       "  <thead>\n",
       "    <tr style=\"text-align: right;\">\n",
       "      <th></th>\n",
       "      <th>B</th>\n",
       "      <th>C</th>\n",
       "      <th>F</th>\n",
       "    </tr>\n",
       "  </thead>\n",
       "  <tbody>\n",
       "    <tr>\n",
       "      <th>0</th>\n",
       "      <td>-1.828935</td>\n",
       "      <td>1.356624</td>\n",
       "      <td>0.322131</td>\n",
       "    </tr>\n",
       "    <tr>\n",
       "      <th>3</th>\n",
       "      <td>-0.040749</td>\n",
       "      <td>2.087230</td>\n",
       "      <td>-0.028877</td>\n",
       "    </tr>\n",
       "    <tr>\n",
       "      <th>6</th>\n",
       "      <td>-0.903286</td>\n",
       "      <td>0.542951</td>\n",
       "      <td>0.523788</td>\n",
       "    </tr>\n",
       "    <tr>\n",
       "      <th>9</th>\n",
       "      <td>0.176194</td>\n",
       "      <td>0.106239</td>\n",
       "      <td>-0.046300</td>\n",
       "    </tr>\n",
       "    <tr>\n",
       "      <th>12</th>\n",
       "      <td>-0.841408</td>\n",
       "      <td>-1.749269</td>\n",
       "      <td>-0.185184</td>\n",
       "    </tr>\n",
       "    <tr>\n",
       "      <th>15</th>\n",
       "      <td>0.993396</td>\n",
       "      <td>-0.460049</td>\n",
       "      <td>0.770176</td>\n",
       "    </tr>\n",
       "    <tr>\n",
       "      <th>18</th>\n",
       "      <td>-0.686064</td>\n",
       "      <td>0.810068</td>\n",
       "      <td>1.154928</td>\n",
       "    </tr>\n",
       "    <tr>\n",
       "      <th>21</th>\n",
       "      <td>0.224959</td>\n",
       "      <td>-0.658206</td>\n",
       "      <td>0.584807</td>\n",
       "    </tr>\n",
       "    <tr>\n",
       "      <th>24</th>\n",
       "      <td>-0.720387</td>\n",
       "      <td>0.026391</td>\n",
       "      <td>0.607703</td>\n",
       "    </tr>\n",
       "    <tr>\n",
       "      <th>27</th>\n",
       "      <td>-1.112996</td>\n",
       "      <td>-0.461846</td>\n",
       "      <td>0.981884</td>\n",
       "    </tr>\n",
       "  </tbody>\n",
       "</table>\n",
       "</div>"
      ],
      "text/plain": [
       "           B         C         F\n",
       "0  -1.828935  1.356624  0.322131\n",
       "3  -0.040749  2.087230 -0.028877\n",
       "6  -0.903286  0.542951  0.523788\n",
       "9   0.176194  0.106239 -0.046300\n",
       "12 -0.841408 -1.749269 -0.185184\n",
       "15  0.993396 -0.460049  0.770176\n",
       "18 -0.686064  0.810068  1.154928\n",
       "21  0.224959 -0.658206  0.584807\n",
       "24 -0.720387  0.026391  0.607703\n",
       "27 -1.112996 -0.461846  0.981884"
      ]
     },
     "execution_count": 74,
     "metadata": {},
     "output_type": "execute_result"
    }
   ],
   "source": [
    "u[0:10][list('BCF')]"
   ]
  },
  {
   "cell_type": "markdown",
   "metadata": {},
   "source": [
    "You can also choose specific rows according to their indices with the `loc` command"
   ]
  },
  {
   "cell_type": "code",
   "execution_count": 75,
   "metadata": {},
   "outputs": [
    {
     "data": {
      "text/html": [
       "<div>\n",
       "<style scoped>\n",
       "    .dataframe tbody tr th:only-of-type {\n",
       "        vertical-align: middle;\n",
       "    }\n",
       "\n",
       "    .dataframe tbody tr th {\n",
       "        vertical-align: top;\n",
       "    }\n",
       "\n",
       "    .dataframe thead th {\n",
       "        text-align: right;\n",
       "    }\n",
       "</style>\n",
       "<table border=\"1\" class=\"dataframe\">\n",
       "  <thead>\n",
       "    <tr style=\"text-align: right;\">\n",
       "      <th></th>\n",
       "      <th>A</th>\n",
       "      <th>B</th>\n",
       "      <th>C</th>\n",
       "      <th>D</th>\n",
       "      <th>E</th>\n",
       "      <th>F</th>\n",
       "    </tr>\n",
       "  </thead>\n",
       "  <tbody>\n",
       "    <tr>\n",
       "      <th>6</th>\n",
       "      <td>0.279463</td>\n",
       "      <td>-0.903286</td>\n",
       "      <td>0.542951</td>\n",
       "      <td>0.245455</td>\n",
       "      <td>0.736812</td>\n",
       "      <td>0.523788</td>\n",
       "    </tr>\n",
       "    <tr>\n",
       "      <th>9</th>\n",
       "      <td>0.517327</td>\n",
       "      <td>0.176194</td>\n",
       "      <td>0.106239</td>\n",
       "      <td>-2.695502</td>\n",
       "      <td>-0.318348</td>\n",
       "      <td>-0.046300</td>\n",
       "    </tr>\n",
       "    <tr>\n",
       "      <th>12</th>\n",
       "      <td>-0.657431</td>\n",
       "      <td>-0.841408</td>\n",
       "      <td>-1.749269</td>\n",
       "      <td>0.056158</td>\n",
       "      <td>0.171432</td>\n",
       "      <td>-0.185184</td>\n",
       "    </tr>\n",
       "    <tr>\n",
       "      <th>15</th>\n",
       "      <td>-1.037143</td>\n",
       "      <td>0.993396</td>\n",
       "      <td>-0.460049</td>\n",
       "      <td>-0.727853</td>\n",
       "      <td>0.166404</td>\n",
       "      <td>0.770176</td>\n",
       "    </tr>\n",
       "  </tbody>\n",
       "</table>\n",
       "</div>"
      ],
      "text/plain": [
       "           A         B         C         D         E         F\n",
       "6   0.279463 -0.903286  0.542951  0.245455  0.736812  0.523788\n",
       "9   0.517327  0.176194  0.106239 -2.695502 -0.318348 -0.046300\n",
       "12 -0.657431 -0.841408 -1.749269  0.056158  0.171432 -0.185184\n",
       "15 -1.037143  0.993396 -0.460049 -0.727853  0.166404  0.770176"
      ]
     },
     "execution_count": 75,
     "metadata": {},
     "output_type": "execute_result"
    }
   ],
   "source": [
    "u.loc[6:15]"
   ]
  },
  {
   "cell_type": "markdown",
   "metadata": {},
   "source": [
    "Or, you can access just the elements that satisfy some condition"
   ]
  },
  {
   "cell_type": "code",
   "execution_count": 76,
   "metadata": {},
   "outputs": [
    {
     "data": {
      "text/html": [
       "<div>\n",
       "<style scoped>\n",
       "    .dataframe tbody tr th:only-of-type {\n",
       "        vertical-align: middle;\n",
       "    }\n",
       "\n",
       "    .dataframe tbody tr th {\n",
       "        vertical-align: top;\n",
       "    }\n",
       "\n",
       "    .dataframe thead th {\n",
       "        text-align: right;\n",
       "    }\n",
       "</style>\n",
       "<table border=\"1\" class=\"dataframe\">\n",
       "  <thead>\n",
       "    <tr style=\"text-align: right;\">\n",
       "      <th></th>\n",
       "      <th>A</th>\n",
       "      <th>B</th>\n",
       "      <th>C</th>\n",
       "      <th>D</th>\n",
       "      <th>E</th>\n",
       "      <th>F</th>\n",
       "    </tr>\n",
       "  </thead>\n",
       "  <tbody>\n",
       "    <tr>\n",
       "      <th>39</th>\n",
       "      <td>0.435046</td>\n",
       "      <td>-0.544043</td>\n",
       "      <td>1.637750</td>\n",
       "      <td>2.895750</td>\n",
       "      <td>1.379531</td>\n",
       "      <td>0.798775</td>\n",
       "    </tr>\n",
       "    <tr>\n",
       "      <th>99</th>\n",
       "      <td>-0.094774</td>\n",
       "      <td>-0.665736</td>\n",
       "      <td>1.552407</td>\n",
       "      <td>2.484055</td>\n",
       "      <td>1.136062</td>\n",
       "      <td>0.736097</td>\n",
       "    </tr>\n",
       "    <tr>\n",
       "      <th>306</th>\n",
       "      <td>0.092871</td>\n",
       "      <td>-1.361800</td>\n",
       "      <td>0.338033</td>\n",
       "      <td>2.363529</td>\n",
       "      <td>-0.908800</td>\n",
       "      <td>1.423810</td>\n",
       "    </tr>\n",
       "    <tr>\n",
       "      <th>825</th>\n",
       "      <td>-0.888468</td>\n",
       "      <td>-0.266553</td>\n",
       "      <td>0.818580</td>\n",
       "      <td>2.878886</td>\n",
       "      <td>0.828940</td>\n",
       "      <td>0.016108</td>\n",
       "    </tr>\n",
       "    <tr>\n",
       "      <th>870</th>\n",
       "      <td>0.222661</td>\n",
       "      <td>-1.034132</td>\n",
       "      <td>0.212929</td>\n",
       "      <td>2.097422</td>\n",
       "      <td>0.629296</td>\n",
       "      <td>0.326917</td>\n",
       "    </tr>\n",
       "    <tr>\n",
       "      <th>888</th>\n",
       "      <td>-0.153532</td>\n",
       "      <td>1.212852</td>\n",
       "      <td>0.568124</td>\n",
       "      <td>2.472144</td>\n",
       "      <td>0.888389</td>\n",
       "      <td>-2.479979</td>\n",
       "    </tr>\n",
       "    <tr>\n",
       "      <th>990</th>\n",
       "      <td>0.859739</td>\n",
       "      <td>1.685374</td>\n",
       "      <td>-0.291760</td>\n",
       "      <td>2.646811</td>\n",
       "      <td>1.512756</td>\n",
       "      <td>-0.023077</td>\n",
       "    </tr>\n",
       "    <tr>\n",
       "      <th>...</th>\n",
       "      <td>...</td>\n",
       "      <td>...</td>\n",
       "      <td>...</td>\n",
       "      <td>...</td>\n",
       "      <td>...</td>\n",
       "      <td>...</td>\n",
       "    </tr>\n",
       "    <tr>\n",
       "      <th>2514</th>\n",
       "      <td>2.282413</td>\n",
       "      <td>-2.456859</td>\n",
       "      <td>-0.788048</td>\n",
       "      <td>2.768054</td>\n",
       "      <td>-0.077328</td>\n",
       "      <td>1.039673</td>\n",
       "    </tr>\n",
       "    <tr>\n",
       "      <th>2721</th>\n",
       "      <td>0.491507</td>\n",
       "      <td>0.291946</td>\n",
       "      <td>-0.985068</td>\n",
       "      <td>2.708964</td>\n",
       "      <td>-0.535695</td>\n",
       "      <td>1.716421</td>\n",
       "    </tr>\n",
       "    <tr>\n",
       "      <th>2748</th>\n",
       "      <td>-0.155888</td>\n",
       "      <td>-0.747057</td>\n",
       "      <td>2.140343</td>\n",
       "      <td>2.173648</td>\n",
       "      <td>-1.742419</td>\n",
       "      <td>-0.411200</td>\n",
       "    </tr>\n",
       "    <tr>\n",
       "      <th>2820</th>\n",
       "      <td>0.715476</td>\n",
       "      <td>-0.082398</td>\n",
       "      <td>0.190740</td>\n",
       "      <td>2.420269</td>\n",
       "      <td>-0.346754</td>\n",
       "      <td>-2.488403</td>\n",
       "    </tr>\n",
       "    <tr>\n",
       "      <th>2898</th>\n",
       "      <td>-0.611926</td>\n",
       "      <td>-1.698457</td>\n",
       "      <td>-0.698390</td>\n",
       "      <td>2.390378</td>\n",
       "      <td>-1.492945</td>\n",
       "      <td>0.692597</td>\n",
       "    </tr>\n",
       "    <tr>\n",
       "      <th>2955</th>\n",
       "      <td>-0.172851</td>\n",
       "      <td>-0.930117</td>\n",
       "      <td>-0.110616</td>\n",
       "      <td>2.308126</td>\n",
       "      <td>0.192292</td>\n",
       "      <td>0.063374</td>\n",
       "    </tr>\n",
       "    <tr>\n",
       "      <th>2976</th>\n",
       "      <td>0.381042</td>\n",
       "      <td>-0.960889</td>\n",
       "      <td>-0.039585</td>\n",
       "      <td>2.300440</td>\n",
       "      <td>-0.901716</td>\n",
       "      <td>-1.267716</td>\n",
       "    </tr>\n",
       "  </tbody>\n",
       "</table>\n",
       "<p>24 rows × 6 columns</p>\n",
       "</div>"
      ],
      "text/plain": [
       "             A         B         C         D         E         F\n",
       "39    0.435046 -0.544043  1.637750  2.895750  1.379531  0.798775\n",
       "99   -0.094774 -0.665736  1.552407  2.484055  1.136062  0.736097\n",
       "306   0.092871 -1.361800  0.338033  2.363529 -0.908800  1.423810\n",
       "825  -0.888468 -0.266553  0.818580  2.878886  0.828940  0.016108\n",
       "870   0.222661 -1.034132  0.212929  2.097422  0.629296  0.326917\n",
       "888  -0.153532  1.212852  0.568124  2.472144  0.888389 -2.479979\n",
       "990   0.859739  1.685374 -0.291760  2.646811  1.512756 -0.023077\n",
       "...        ...       ...       ...       ...       ...       ...\n",
       "2514  2.282413 -2.456859 -0.788048  2.768054 -0.077328  1.039673\n",
       "2721  0.491507  0.291946 -0.985068  2.708964 -0.535695  1.716421\n",
       "2748 -0.155888 -0.747057  2.140343  2.173648 -1.742419 -0.411200\n",
       "2820  0.715476 -0.082398  0.190740  2.420269 -0.346754 -2.488403\n",
       "2898 -0.611926 -1.698457 -0.698390  2.390378 -1.492945  0.692597\n",
       "2955 -0.172851 -0.930117 -0.110616  2.308126  0.192292  0.063374\n",
       "2976  0.381042 -0.960889 -0.039585  2.300440 -0.901716 -1.267716\n",
       "\n",
       "[24 rows x 6 columns]"
      ]
     },
     "execution_count": 76,
     "metadata": {},
     "output_type": "execute_result"
    }
   ],
   "source": [
    "u[u.D > 2]"
   ]
  },
  {
   "cell_type": "code",
   "execution_count": 77,
   "metadata": {},
   "outputs": [
    {
     "data": {
      "text/html": [
       "<div>\n",
       "<style scoped>\n",
       "    .dataframe tbody tr th:only-of-type {\n",
       "        vertical-align: middle;\n",
       "    }\n",
       "\n",
       "    .dataframe tbody tr th {\n",
       "        vertical-align: top;\n",
       "    }\n",
       "\n",
       "    .dataframe thead th {\n",
       "        text-align: right;\n",
       "    }\n",
       "</style>\n",
       "<table border=\"1\" class=\"dataframe\">\n",
       "  <thead>\n",
       "    <tr style=\"text-align: right;\">\n",
       "      <th></th>\n",
       "      <th>A</th>\n",
       "      <th>B</th>\n",
       "      <th>C</th>\n",
       "      <th>D</th>\n",
       "      <th>E</th>\n",
       "      <th>F</th>\n",
       "    </tr>\n",
       "  </thead>\n",
       "  <tbody>\n",
       "    <tr>\n",
       "      <th>0</th>\n",
       "      <td>-0.656352</td>\n",
       "      <td>-1.828935</td>\n",
       "      <td>1.356624</td>\n",
       "      <td>-2.031876</td>\n",
       "      <td>0.714026</td>\n",
       "      <td>0.322131</td>\n",
       "    </tr>\n",
       "    <tr>\n",
       "      <th>3</th>\n",
       "      <td>-0.731898</td>\n",
       "      <td>-0.040749</td>\n",
       "      <td>2.087230</td>\n",
       "      <td>-0.186705</td>\n",
       "      <td>0.925189</td>\n",
       "      <td>-0.028877</td>\n",
       "    </tr>\n",
       "    <tr>\n",
       "      <th>6</th>\n",
       "      <td>0.279463</td>\n",
       "      <td>-0.903286</td>\n",
       "      <td>0.542951</td>\n",
       "      <td>0.245455</td>\n",
       "      <td>0.736812</td>\n",
       "      <td>0.523788</td>\n",
       "    </tr>\n",
       "    <tr>\n",
       "      <th>9</th>\n",
       "      <td>0.517327</td>\n",
       "      <td>0.176194</td>\n",
       "      <td>0.106239</td>\n",
       "      <td>-2.695502</td>\n",
       "      <td>-0.318348</td>\n",
       "      <td>-0.046300</td>\n",
       "    </tr>\n",
       "    <tr>\n",
       "      <th>12</th>\n",
       "      <td>-0.657431</td>\n",
       "      <td>-0.841408</td>\n",
       "      <td>-1.749269</td>\n",
       "      <td>0.056158</td>\n",
       "      <td>0.171432</td>\n",
       "      <td>-0.185184</td>\n",
       "    </tr>\n",
       "    <tr>\n",
       "      <th>15</th>\n",
       "      <td>-1.037143</td>\n",
       "      <td>0.993396</td>\n",
       "      <td>-0.460049</td>\n",
       "      <td>-0.727853</td>\n",
       "      <td>0.166404</td>\n",
       "      <td>0.770176</td>\n",
       "    </tr>\n",
       "    <tr>\n",
       "      <th>18</th>\n",
       "      <td>-1.154023</td>\n",
       "      <td>-0.686064</td>\n",
       "      <td>0.810068</td>\n",
       "      <td>-0.190371</td>\n",
       "      <td>0.958805</td>\n",
       "      <td>1.154928</td>\n",
       "    </tr>\n",
       "    <tr>\n",
       "      <th>...</th>\n",
       "      <td>...</td>\n",
       "      <td>...</td>\n",
       "      <td>...</td>\n",
       "      <td>...</td>\n",
       "      <td>...</td>\n",
       "      <td>...</td>\n",
       "    </tr>\n",
       "    <tr>\n",
       "      <th>2979</th>\n",
       "      <td>0.367820</td>\n",
       "      <td>-0.089890</td>\n",
       "      <td>1.165992</td>\n",
       "      <td>-1.048818</td>\n",
       "      <td>0.474310</td>\n",
       "      <td>0.042712</td>\n",
       "    </tr>\n",
       "    <tr>\n",
       "      <th>2982</th>\n",
       "      <td>0.037483</td>\n",
       "      <td>0.878178</td>\n",
       "      <td>-0.245404</td>\n",
       "      <td>-0.800555</td>\n",
       "      <td>1.433961</td>\n",
       "      <td>1.664625</td>\n",
       "    </tr>\n",
       "    <tr>\n",
       "      <th>2985</th>\n",
       "      <td>-1.443039</td>\n",
       "      <td>-0.873042</td>\n",
       "      <td>0.286502</td>\n",
       "      <td>0.131774</td>\n",
       "      <td>-0.812787</td>\n",
       "      <td>-0.432542</td>\n",
       "    </tr>\n",
       "    <tr>\n",
       "      <th>2988</th>\n",
       "      <td>0.636137</td>\n",
       "      <td>-0.465677</td>\n",
       "      <td>0.677833</td>\n",
       "      <td>-0.541540</td>\n",
       "      <td>-0.302328</td>\n",
       "      <td>-0.929792</td>\n",
       "    </tr>\n",
       "    <tr>\n",
       "      <th>2991</th>\n",
       "      <td>1.428879</td>\n",
       "      <td>-0.855440</td>\n",
       "      <td>0.539704</td>\n",
       "      <td>-1.497891</td>\n",
       "      <td>0.004913</td>\n",
       "      <td>0.093641</td>\n",
       "    </tr>\n",
       "    <tr>\n",
       "      <th>2994</th>\n",
       "      <td>0.746677</td>\n",
       "      <td>0.246700</td>\n",
       "      <td>0.726296</td>\n",
       "      <td>1.238024</td>\n",
       "      <td>0.333257</td>\n",
       "      <td>-1.383022</td>\n",
       "    </tr>\n",
       "    <tr>\n",
       "      <th>2997</th>\n",
       "      <td>2.054665</td>\n",
       "      <td>0.848563</td>\n",
       "      <td>-0.652124</td>\n",
       "      <td>-1.153524</td>\n",
       "      <td>-0.171251</td>\n",
       "      <td>-0.056290</td>\n",
       "    </tr>\n",
       "  </tbody>\n",
       "</table>\n",
       "<p>976 rows × 6 columns</p>\n",
       "</div>"
      ],
      "text/plain": [
       "             A         B         C         D         E         F\n",
       "0    -0.656352 -1.828935  1.356624 -2.031876  0.714026  0.322131\n",
       "3    -0.731898 -0.040749  2.087230 -0.186705  0.925189 -0.028877\n",
       "6     0.279463 -0.903286  0.542951  0.245455  0.736812  0.523788\n",
       "9     0.517327  0.176194  0.106239 -2.695502 -0.318348 -0.046300\n",
       "12   -0.657431 -0.841408 -1.749269  0.056158  0.171432 -0.185184\n",
       "15   -1.037143  0.993396 -0.460049 -0.727853  0.166404  0.770176\n",
       "18   -1.154023 -0.686064  0.810068 -0.190371  0.958805  1.154928\n",
       "...        ...       ...       ...       ...       ...       ...\n",
       "2979  0.367820 -0.089890  1.165992 -1.048818  0.474310  0.042712\n",
       "2982  0.037483  0.878178 -0.245404 -0.800555  1.433961  1.664625\n",
       "2985 -1.443039 -0.873042  0.286502  0.131774 -0.812787 -0.432542\n",
       "2988  0.636137 -0.465677  0.677833 -0.541540 -0.302328 -0.929792\n",
       "2991  1.428879 -0.855440  0.539704 -1.497891  0.004913  0.093641\n",
       "2994  0.746677  0.246700  0.726296  1.238024  0.333257 -1.383022\n",
       "2997  2.054665  0.848563 -0.652124 -1.153524 -0.171251 -0.056290\n",
       "\n",
       "[976 rows x 6 columns]"
      ]
     },
     "execution_count": 77,
     "metadata": {},
     "output_type": "execute_result"
    }
   ],
   "source": [
    "u[~(u.D > 2)]  # For the inverse of u.D > 2"
   ]
  },
  {
   "cell_type": "markdown",
   "metadata": {},
   "source": [
    "Recently `query` has been added to `DataFrame` for the same purpose. While it is less powerful than logical indexing, it is often faster and shorter (when names are longer than just `u`):"
   ]
  },
  {
   "cell_type": "code",
   "execution_count": 78,
   "metadata": {},
   "outputs": [
    {
     "data": {
      "text/html": [
       "<div>\n",
       "<style scoped>\n",
       "    .dataframe tbody tr th:only-of-type {\n",
       "        vertical-align: middle;\n",
       "    }\n",
       "\n",
       "    .dataframe tbody tr th {\n",
       "        vertical-align: top;\n",
       "    }\n",
       "\n",
       "    .dataframe thead th {\n",
       "        text-align: right;\n",
       "    }\n",
       "</style>\n",
       "<table border=\"1\" class=\"dataframe\">\n",
       "  <thead>\n",
       "    <tr style=\"text-align: right;\">\n",
       "      <th></th>\n",
       "      <th>A</th>\n",
       "      <th>B</th>\n",
       "      <th>C</th>\n",
       "      <th>D</th>\n",
       "      <th>E</th>\n",
       "      <th>F</th>\n",
       "    </tr>\n",
       "  </thead>\n",
       "  <tbody>\n",
       "    <tr>\n",
       "      <th>39</th>\n",
       "      <td>0.435046</td>\n",
       "      <td>-0.544043</td>\n",
       "      <td>1.637750</td>\n",
       "      <td>2.895750</td>\n",
       "      <td>1.379531</td>\n",
       "      <td>0.798775</td>\n",
       "    </tr>\n",
       "    <tr>\n",
       "      <th>99</th>\n",
       "      <td>-0.094774</td>\n",
       "      <td>-0.665736</td>\n",
       "      <td>1.552407</td>\n",
       "      <td>2.484055</td>\n",
       "      <td>1.136062</td>\n",
       "      <td>0.736097</td>\n",
       "    </tr>\n",
       "    <tr>\n",
       "      <th>306</th>\n",
       "      <td>0.092871</td>\n",
       "      <td>-1.361800</td>\n",
       "      <td>0.338033</td>\n",
       "      <td>2.363529</td>\n",
       "      <td>-0.908800</td>\n",
       "      <td>1.423810</td>\n",
       "    </tr>\n",
       "    <tr>\n",
       "      <th>825</th>\n",
       "      <td>-0.888468</td>\n",
       "      <td>-0.266553</td>\n",
       "      <td>0.818580</td>\n",
       "      <td>2.878886</td>\n",
       "      <td>0.828940</td>\n",
       "      <td>0.016108</td>\n",
       "    </tr>\n",
       "    <tr>\n",
       "      <th>870</th>\n",
       "      <td>0.222661</td>\n",
       "      <td>-1.034132</td>\n",
       "      <td>0.212929</td>\n",
       "      <td>2.097422</td>\n",
       "      <td>0.629296</td>\n",
       "      <td>0.326917</td>\n",
       "    </tr>\n",
       "    <tr>\n",
       "      <th>888</th>\n",
       "      <td>-0.153532</td>\n",
       "      <td>1.212852</td>\n",
       "      <td>0.568124</td>\n",
       "      <td>2.472144</td>\n",
       "      <td>0.888389</td>\n",
       "      <td>-2.479979</td>\n",
       "    </tr>\n",
       "    <tr>\n",
       "      <th>990</th>\n",
       "      <td>0.859739</td>\n",
       "      <td>1.685374</td>\n",
       "      <td>-0.291760</td>\n",
       "      <td>2.646811</td>\n",
       "      <td>1.512756</td>\n",
       "      <td>-0.023077</td>\n",
       "    </tr>\n",
       "    <tr>\n",
       "      <th>...</th>\n",
       "      <td>...</td>\n",
       "      <td>...</td>\n",
       "      <td>...</td>\n",
       "      <td>...</td>\n",
       "      <td>...</td>\n",
       "      <td>...</td>\n",
       "    </tr>\n",
       "    <tr>\n",
       "      <th>2514</th>\n",
       "      <td>2.282413</td>\n",
       "      <td>-2.456859</td>\n",
       "      <td>-0.788048</td>\n",
       "      <td>2.768054</td>\n",
       "      <td>-0.077328</td>\n",
       "      <td>1.039673</td>\n",
       "    </tr>\n",
       "    <tr>\n",
       "      <th>2721</th>\n",
       "      <td>0.491507</td>\n",
       "      <td>0.291946</td>\n",
       "      <td>-0.985068</td>\n",
       "      <td>2.708964</td>\n",
       "      <td>-0.535695</td>\n",
       "      <td>1.716421</td>\n",
       "    </tr>\n",
       "    <tr>\n",
       "      <th>2748</th>\n",
       "      <td>-0.155888</td>\n",
       "      <td>-0.747057</td>\n",
       "      <td>2.140343</td>\n",
       "      <td>2.173648</td>\n",
       "      <td>-1.742419</td>\n",
       "      <td>-0.411200</td>\n",
       "    </tr>\n",
       "    <tr>\n",
       "      <th>2820</th>\n",
       "      <td>0.715476</td>\n",
       "      <td>-0.082398</td>\n",
       "      <td>0.190740</td>\n",
       "      <td>2.420269</td>\n",
       "      <td>-0.346754</td>\n",
       "      <td>-2.488403</td>\n",
       "    </tr>\n",
       "    <tr>\n",
       "      <th>2898</th>\n",
       "      <td>-0.611926</td>\n",
       "      <td>-1.698457</td>\n",
       "      <td>-0.698390</td>\n",
       "      <td>2.390378</td>\n",
       "      <td>-1.492945</td>\n",
       "      <td>0.692597</td>\n",
       "    </tr>\n",
       "    <tr>\n",
       "      <th>2955</th>\n",
       "      <td>-0.172851</td>\n",
       "      <td>-0.930117</td>\n",
       "      <td>-0.110616</td>\n",
       "      <td>2.308126</td>\n",
       "      <td>0.192292</td>\n",
       "      <td>0.063374</td>\n",
       "    </tr>\n",
       "    <tr>\n",
       "      <th>2976</th>\n",
       "      <td>0.381042</td>\n",
       "      <td>-0.960889</td>\n",
       "      <td>-0.039585</td>\n",
       "      <td>2.300440</td>\n",
       "      <td>-0.901716</td>\n",
       "      <td>-1.267716</td>\n",
       "    </tr>\n",
       "  </tbody>\n",
       "</table>\n",
       "<p>24 rows × 6 columns</p>\n",
       "</div>"
      ],
      "text/plain": [
       "             A         B         C         D         E         F\n",
       "39    0.435046 -0.544043  1.637750  2.895750  1.379531  0.798775\n",
       "99   -0.094774 -0.665736  1.552407  2.484055  1.136062  0.736097\n",
       "306   0.092871 -1.361800  0.338033  2.363529 -0.908800  1.423810\n",
       "825  -0.888468 -0.266553  0.818580  2.878886  0.828940  0.016108\n",
       "870   0.222661 -1.034132  0.212929  2.097422  0.629296  0.326917\n",
       "888  -0.153532  1.212852  0.568124  2.472144  0.888389 -2.479979\n",
       "990   0.859739  1.685374 -0.291760  2.646811  1.512756 -0.023077\n",
       "...        ...       ...       ...       ...       ...       ...\n",
       "2514  2.282413 -2.456859 -0.788048  2.768054 -0.077328  1.039673\n",
       "2721  0.491507  0.291946 -0.985068  2.708964 -0.535695  1.716421\n",
       "2748 -0.155888 -0.747057  2.140343  2.173648 -1.742419 -0.411200\n",
       "2820  0.715476 -0.082398  0.190740  2.420269 -0.346754 -2.488403\n",
       "2898 -0.611926 -1.698457 -0.698390  2.390378 -1.492945  0.692597\n",
       "2955 -0.172851 -0.930117 -0.110616  2.308126  0.192292  0.063374\n",
       "2976  0.381042 -0.960889 -0.039585  2.300440 -0.901716 -1.267716\n",
       "\n",
       "[24 rows x 6 columns]"
      ]
     },
     "execution_count": 78,
     "metadata": {},
     "output_type": "execute_result"
    }
   ],
   "source": [
    "u.query('D > 2')"
   ]
  },
  {
   "cell_type": "markdown",
   "metadata": {},
   "source": [
    "### Computing With `DataFrames`\n",
    "\n",
    "You can calculate with `DataFrames` or their columns (which are `Series`) the same way you could with `arrays`s"
   ]
  },
  {
   "cell_type": "code",
   "execution_count": 79,
   "metadata": {},
   "outputs": [
    {
     "data": {
      "text/plain": [
       "0      3.104331\n",
       "3    -34.629224\n",
       "6      1.909168\n",
       "9    -21.598144\n",
       "12    -5.400024\n",
       "Name: F, dtype: float64"
      ]
     },
     "execution_count": 79,
     "metadata": {},
     "output_type": "execute_result"
    }
   ],
   "source": [
    "u['F'] = 1 / u['F']\n",
    "u['F'].head()"
   ]
  },
  {
   "cell_type": "code",
   "execution_count": 80,
   "metadata": {},
   "outputs": [
    {
     "data": {
      "text/plain": [
       "A    0.021276\n",
       "B   -0.015718\n",
       "C   -0.001859\n",
       "D    0.009421\n",
       "E   -0.017174\n",
       "F    1.123963\n",
       "dtype: float64"
      ]
     },
     "execution_count": 80,
     "metadata": {},
     "output_type": "execute_result"
    }
   ],
   "source": [
    "np.mean(u)"
   ]
  },
  {
   "cell_type": "markdown",
   "metadata": {},
   "source": [
    "You can apply functions to the whole dataset or specific columns with the `apply` command. `apply` acts on the whole column at a time (i.e. a Pandas `Series`), so you can compute things that depend on several values of the column, for instance the mean value. To apply functions in a real element-by-element basis the function `applymap` or `Series.apply` should be used."
   ]
  },
  {
   "cell_type": "code",
   "execution_count": 81,
   "metadata": {},
   "outputs": [
    {
     "data": {
      "text/plain": [
       "A    0.021276\n",
       "B   -0.015718\n",
       "C   -0.001859\n",
       "D    0.009421\n",
       "E   -0.017174\n",
       "F    1.123963\n",
       "dtype: float64"
      ]
     },
     "execution_count": 81,
     "metadata": {},
     "output_type": "execute_result"
    }
   ],
   "source": [
    "def mn(col):\n",
    "    return sum(col) / len(col)\n",
    "\n",
    "u.apply(mn)"
   ]
  },
  {
   "cell_type": "markdown",
   "metadata": {},
   "source": [
    "While most can be directly calculated (including the given example of the mean), `apply` also works on columns with strings or categorical data, where no mathematical operations are defined. The limit is the imagination."
   ]
  },
  {
   "cell_type": "markdown",
   "metadata": {},
   "source": [
    "### Combining `DataFrames`\n",
    "\n",
    "Something we will do quite often as scientists is combining data from different sources into one single source. This can be achieved by different commands in Pandas, depending on the actual goal we want.\n",
    "\n",
    "To begin with, appending new rows of data is achieved by the command `append`."
   ]
  },
  {
   "cell_type": "code",
   "execution_count": 82,
   "metadata": {},
   "outputs": [
    {
     "data": {
      "text/html": [
       "<div>\n",
       "<style scoped>\n",
       "    .dataframe tbody tr th:only-of-type {\n",
       "        vertical-align: middle;\n",
       "    }\n",
       "\n",
       "    .dataframe tbody tr th {\n",
       "        vertical-align: top;\n",
       "    }\n",
       "\n",
       "    .dataframe thead th {\n",
       "        text-align: right;\n",
       "    }\n",
       "</style>\n",
       "<table border=\"1\" class=\"dataframe\">\n",
       "  <thead>\n",
       "    <tr style=\"text-align: right;\">\n",
       "      <th></th>\n",
       "      <th>A</th>\n",
       "      <th>B</th>\n",
       "      <th>C</th>\n",
       "      <th>D</th>\n",
       "      <th>E</th>\n",
       "      <th>F</th>\n",
       "    </tr>\n",
       "  </thead>\n",
       "  <tbody>\n",
       "    <tr>\n",
       "      <th>3003</th>\n",
       "      <td>1.0</td>\n",
       "      <td>1.0</td>\n",
       "      <td>1.0</td>\n",
       "      <td>1.0</td>\n",
       "      <td>1.0</td>\n",
       "      <td>1.0</td>\n",
       "    </tr>\n",
       "    <tr>\n",
       "      <th>3006</th>\n",
       "      <td>1.0</td>\n",
       "      <td>1.0</td>\n",
       "      <td>1.0</td>\n",
       "      <td>1.0</td>\n",
       "      <td>1.0</td>\n",
       "      <td>1.0</td>\n",
       "    </tr>\n",
       "    <tr>\n",
       "      <th>3009</th>\n",
       "      <td>1.0</td>\n",
       "      <td>1.0</td>\n",
       "      <td>1.0</td>\n",
       "      <td>1.0</td>\n",
       "      <td>1.0</td>\n",
       "      <td>1.0</td>\n",
       "    </tr>\n",
       "    <tr>\n",
       "      <th>3012</th>\n",
       "      <td>1.0</td>\n",
       "      <td>1.0</td>\n",
       "      <td>1.0</td>\n",
       "      <td>1.0</td>\n",
       "      <td>1.0</td>\n",
       "      <td>1.0</td>\n",
       "    </tr>\n",
       "    <tr>\n",
       "      <th>3015</th>\n",
       "      <td>1.0</td>\n",
       "      <td>1.0</td>\n",
       "      <td>1.0</td>\n",
       "      <td>1.0</td>\n",
       "      <td>1.0</td>\n",
       "      <td>1.0</td>\n",
       "    </tr>\n",
       "  </tbody>\n",
       "</table>\n",
       "</div>"
      ],
      "text/plain": [
       "        A    B    C    D    E    F\n",
       "3003  1.0  1.0  1.0  1.0  1.0  1.0\n",
       "3006  1.0  1.0  1.0  1.0  1.0  1.0\n",
       "3009  1.0  1.0  1.0  1.0  1.0  1.0\n",
       "3012  1.0  1.0  1.0  1.0  1.0  1.0\n",
       "3015  1.0  1.0  1.0  1.0  1.0  1.0"
      ]
     },
     "execution_count": 82,
     "metadata": {},
     "output_type": "execute_result"
    }
   ],
   "source": [
    "newdata = pd.DataFrame(np.ones((5, 6)), index=np.arange(3003, 3018, 3), columns=list('ABCDEF'))\n",
    "newdata"
   ]
  },
  {
   "cell_type": "code",
   "execution_count": 83,
   "metadata": {},
   "outputs": [
    {
     "data": {
      "text/html": [
       "<div>\n",
       "<style scoped>\n",
       "    .dataframe tbody tr th:only-of-type {\n",
       "        vertical-align: middle;\n",
       "    }\n",
       "\n",
       "    .dataframe tbody tr th {\n",
       "        vertical-align: top;\n",
       "    }\n",
       "\n",
       "    .dataframe thead th {\n",
       "        text-align: right;\n",
       "    }\n",
       "</style>\n",
       "<table border=\"1\" class=\"dataframe\">\n",
       "  <thead>\n",
       "    <tr style=\"text-align: right;\">\n",
       "      <th></th>\n",
       "      <th>A</th>\n",
       "      <th>B</th>\n",
       "      <th>C</th>\n",
       "      <th>D</th>\n",
       "      <th>E</th>\n",
       "      <th>F</th>\n",
       "    </tr>\n",
       "  </thead>\n",
       "  <tbody>\n",
       "    <tr>\n",
       "      <th>2985</th>\n",
       "      <td>-1.443039</td>\n",
       "      <td>-0.873042</td>\n",
       "      <td>0.286502</td>\n",
       "      <td>0.131774</td>\n",
       "      <td>-0.812787</td>\n",
       "      <td>-2.311916</td>\n",
       "    </tr>\n",
       "    <tr>\n",
       "      <th>2988</th>\n",
       "      <td>0.636137</td>\n",
       "      <td>-0.465677</td>\n",
       "      <td>0.677833</td>\n",
       "      <td>-0.541540</td>\n",
       "      <td>-0.302328</td>\n",
       "      <td>-1.075509</td>\n",
       "    </tr>\n",
       "    <tr>\n",
       "      <th>2991</th>\n",
       "      <td>1.428879</td>\n",
       "      <td>-0.855440</td>\n",
       "      <td>0.539704</td>\n",
       "      <td>-1.497891</td>\n",
       "      <td>0.004913</td>\n",
       "      <td>10.679053</td>\n",
       "    </tr>\n",
       "    <tr>\n",
       "      <th>2994</th>\n",
       "      <td>0.746677</td>\n",
       "      <td>0.246700</td>\n",
       "      <td>0.726296</td>\n",
       "      <td>1.238024</td>\n",
       "      <td>0.333257</td>\n",
       "      <td>-0.723054</td>\n",
       "    </tr>\n",
       "    <tr>\n",
       "      <th>2997</th>\n",
       "      <td>2.054665</td>\n",
       "      <td>0.848563</td>\n",
       "      <td>-0.652124</td>\n",
       "      <td>-1.153524</td>\n",
       "      <td>-0.171251</td>\n",
       "      <td>-17.765266</td>\n",
       "    </tr>\n",
       "    <tr>\n",
       "      <th>3003</th>\n",
       "      <td>1.000000</td>\n",
       "      <td>1.000000</td>\n",
       "      <td>1.000000</td>\n",
       "      <td>1.000000</td>\n",
       "      <td>1.000000</td>\n",
       "      <td>1.000000</td>\n",
       "    </tr>\n",
       "    <tr>\n",
       "      <th>3006</th>\n",
       "      <td>1.000000</td>\n",
       "      <td>1.000000</td>\n",
       "      <td>1.000000</td>\n",
       "      <td>1.000000</td>\n",
       "      <td>1.000000</td>\n",
       "      <td>1.000000</td>\n",
       "    </tr>\n",
       "    <tr>\n",
       "      <th>3009</th>\n",
       "      <td>1.000000</td>\n",
       "      <td>1.000000</td>\n",
       "      <td>1.000000</td>\n",
       "      <td>1.000000</td>\n",
       "      <td>1.000000</td>\n",
       "      <td>1.000000</td>\n",
       "    </tr>\n",
       "    <tr>\n",
       "      <th>3012</th>\n",
       "      <td>1.000000</td>\n",
       "      <td>1.000000</td>\n",
       "      <td>1.000000</td>\n",
       "      <td>1.000000</td>\n",
       "      <td>1.000000</td>\n",
       "      <td>1.000000</td>\n",
       "    </tr>\n",
       "    <tr>\n",
       "      <th>3015</th>\n",
       "      <td>1.000000</td>\n",
       "      <td>1.000000</td>\n",
       "      <td>1.000000</td>\n",
       "      <td>1.000000</td>\n",
       "      <td>1.000000</td>\n",
       "      <td>1.000000</td>\n",
       "    </tr>\n",
       "  </tbody>\n",
       "</table>\n",
       "</div>"
      ],
      "text/plain": [
       "             A         B         C         D         E          F\n",
       "2985 -1.443039 -0.873042  0.286502  0.131774 -0.812787  -2.311916\n",
       "2988  0.636137 -0.465677  0.677833 -0.541540 -0.302328  -1.075509\n",
       "2991  1.428879 -0.855440  0.539704 -1.497891  0.004913  10.679053\n",
       "2994  0.746677  0.246700  0.726296  1.238024  0.333257  -0.723054\n",
       "2997  2.054665  0.848563 -0.652124 -1.153524 -0.171251 -17.765266\n",
       "3003  1.000000  1.000000  1.000000  1.000000  1.000000   1.000000\n",
       "3006  1.000000  1.000000  1.000000  1.000000  1.000000   1.000000\n",
       "3009  1.000000  1.000000  1.000000  1.000000  1.000000   1.000000\n",
       "3012  1.000000  1.000000  1.000000  1.000000  1.000000   1.000000\n",
       "3015  1.000000  1.000000  1.000000  1.000000  1.000000   1.000000"
      ]
     },
     "execution_count": 83,
     "metadata": {},
     "output_type": "execute_result"
    }
   ],
   "source": [
    "unew = u.append(newdata)\n",
    "unew.tail(10)"
   ]
  },
  {
   "cell_type": "markdown",
   "metadata": {},
   "source": [
    "The same result can be obtained with `concat`."
   ]
  },
  {
   "cell_type": "code",
   "execution_count": 84,
   "metadata": {},
   "outputs": [
    {
     "data": {
      "text/html": [
       "<div>\n",
       "<style scoped>\n",
       "    .dataframe tbody tr th:only-of-type {\n",
       "        vertical-align: middle;\n",
       "    }\n",
       "\n",
       "    .dataframe tbody tr th {\n",
       "        vertical-align: top;\n",
       "    }\n",
       "\n",
       "    .dataframe thead th {\n",
       "        text-align: right;\n",
       "    }\n",
       "</style>\n",
       "<table border=\"1\" class=\"dataframe\">\n",
       "  <thead>\n",
       "    <tr style=\"text-align: right;\">\n",
       "      <th></th>\n",
       "      <th>A</th>\n",
       "      <th>B</th>\n",
       "      <th>C</th>\n",
       "      <th>D</th>\n",
       "      <th>E</th>\n",
       "      <th>F</th>\n",
       "    </tr>\n",
       "  </thead>\n",
       "  <tbody>\n",
       "    <tr>\n",
       "      <th>2985</th>\n",
       "      <td>-1.443039</td>\n",
       "      <td>-0.873042</td>\n",
       "      <td>0.286502</td>\n",
       "      <td>0.131774</td>\n",
       "      <td>-0.812787</td>\n",
       "      <td>-2.311916</td>\n",
       "    </tr>\n",
       "    <tr>\n",
       "      <th>2988</th>\n",
       "      <td>0.636137</td>\n",
       "      <td>-0.465677</td>\n",
       "      <td>0.677833</td>\n",
       "      <td>-0.541540</td>\n",
       "      <td>-0.302328</td>\n",
       "      <td>-1.075509</td>\n",
       "    </tr>\n",
       "    <tr>\n",
       "      <th>2991</th>\n",
       "      <td>1.428879</td>\n",
       "      <td>-0.855440</td>\n",
       "      <td>0.539704</td>\n",
       "      <td>-1.497891</td>\n",
       "      <td>0.004913</td>\n",
       "      <td>10.679053</td>\n",
       "    </tr>\n",
       "    <tr>\n",
       "      <th>2994</th>\n",
       "      <td>0.746677</td>\n",
       "      <td>0.246700</td>\n",
       "      <td>0.726296</td>\n",
       "      <td>1.238024</td>\n",
       "      <td>0.333257</td>\n",
       "      <td>-0.723054</td>\n",
       "    </tr>\n",
       "    <tr>\n",
       "      <th>2997</th>\n",
       "      <td>2.054665</td>\n",
       "      <td>0.848563</td>\n",
       "      <td>-0.652124</td>\n",
       "      <td>-1.153524</td>\n",
       "      <td>-0.171251</td>\n",
       "      <td>-17.765266</td>\n",
       "    </tr>\n",
       "    <tr>\n",
       "      <th>3003</th>\n",
       "      <td>1.000000</td>\n",
       "      <td>1.000000</td>\n",
       "      <td>1.000000</td>\n",
       "      <td>1.000000</td>\n",
       "      <td>1.000000</td>\n",
       "      <td>1.000000</td>\n",
       "    </tr>\n",
       "    <tr>\n",
       "      <th>3006</th>\n",
       "      <td>1.000000</td>\n",
       "      <td>1.000000</td>\n",
       "      <td>1.000000</td>\n",
       "      <td>1.000000</td>\n",
       "      <td>1.000000</td>\n",
       "      <td>1.000000</td>\n",
       "    </tr>\n",
       "    <tr>\n",
       "      <th>3009</th>\n",
       "      <td>1.000000</td>\n",
       "      <td>1.000000</td>\n",
       "      <td>1.000000</td>\n",
       "      <td>1.000000</td>\n",
       "      <td>1.000000</td>\n",
       "      <td>1.000000</td>\n",
       "    </tr>\n",
       "    <tr>\n",
       "      <th>3012</th>\n",
       "      <td>1.000000</td>\n",
       "      <td>1.000000</td>\n",
       "      <td>1.000000</td>\n",
       "      <td>1.000000</td>\n",
       "      <td>1.000000</td>\n",
       "      <td>1.000000</td>\n",
       "    </tr>\n",
       "    <tr>\n",
       "      <th>3015</th>\n",
       "      <td>1.000000</td>\n",
       "      <td>1.000000</td>\n",
       "      <td>1.000000</td>\n",
       "      <td>1.000000</td>\n",
       "      <td>1.000000</td>\n",
       "      <td>1.000000</td>\n",
       "    </tr>\n",
       "  </tbody>\n",
       "</table>\n",
       "</div>"
      ],
      "text/plain": [
       "             A         B         C         D         E          F\n",
       "2985 -1.443039 -0.873042  0.286502  0.131774 -0.812787  -2.311916\n",
       "2988  0.636137 -0.465677  0.677833 -0.541540 -0.302328  -1.075509\n",
       "2991  1.428879 -0.855440  0.539704 -1.497891  0.004913  10.679053\n",
       "2994  0.746677  0.246700  0.726296  1.238024  0.333257  -0.723054\n",
       "2997  2.054665  0.848563 -0.652124 -1.153524 -0.171251 -17.765266\n",
       "3003  1.000000  1.000000  1.000000  1.000000  1.000000   1.000000\n",
       "3006  1.000000  1.000000  1.000000  1.000000  1.000000   1.000000\n",
       "3009  1.000000  1.000000  1.000000  1.000000  1.000000   1.000000\n",
       "3012  1.000000  1.000000  1.000000  1.000000  1.000000   1.000000\n",
       "3015  1.000000  1.000000  1.000000  1.000000  1.000000   1.000000"
      ]
     },
     "execution_count": 84,
     "metadata": {},
     "output_type": "execute_result"
    }
   ],
   "source": [
    "pd.concat([u, newdata]).tail(10)"
   ]
  },
  {
   "cell_type": "markdown",
   "metadata": {},
   "source": [
    "New columns of data can just be asigned or added with the command `join`."
   ]
  },
  {
   "cell_type": "code",
   "execution_count": 85,
   "metadata": {},
   "outputs": [
    {
     "data": {
      "text/html": [
       "<div>\n",
       "<style scoped>\n",
       "    .dataframe tbody tr th:only-of-type {\n",
       "        vertical-align: middle;\n",
       "    }\n",
       "\n",
       "    .dataframe tbody tr th {\n",
       "        vertical-align: top;\n",
       "    }\n",
       "\n",
       "    .dataframe thead th {\n",
       "        text-align: right;\n",
       "    }\n",
       "</style>\n",
       "<table border=\"1\" class=\"dataframe\">\n",
       "  <thead>\n",
       "    <tr style=\"text-align: right;\">\n",
       "      <th></th>\n",
       "      <th>A</th>\n",
       "      <th>B</th>\n",
       "      <th>C</th>\n",
       "      <th>D</th>\n",
       "      <th>E</th>\n",
       "      <th>F</th>\n",
       "      <th>G</th>\n",
       "    </tr>\n",
       "  </thead>\n",
       "  <tbody>\n",
       "    <tr>\n",
       "      <th>2985</th>\n",
       "      <td>-1.443039</td>\n",
       "      <td>-0.873042</td>\n",
       "      <td>0.286502</td>\n",
       "      <td>0.131774</td>\n",
       "      <td>-0.812787</td>\n",
       "      <td>-2.311916</td>\n",
       "      <td>b</td>\n",
       "    </tr>\n",
       "    <tr>\n",
       "      <th>2988</th>\n",
       "      <td>0.636137</td>\n",
       "      <td>-0.465677</td>\n",
       "      <td>0.677833</td>\n",
       "      <td>-0.541540</td>\n",
       "      <td>-0.302328</td>\n",
       "      <td>-1.075509</td>\n",
       "      <td>a</td>\n",
       "    </tr>\n",
       "    <tr>\n",
       "      <th>2991</th>\n",
       "      <td>1.428879</td>\n",
       "      <td>-0.855440</td>\n",
       "      <td>0.539704</td>\n",
       "      <td>-1.497891</td>\n",
       "      <td>0.004913</td>\n",
       "      <td>10.679053</td>\n",
       "      <td>c</td>\n",
       "    </tr>\n",
       "    <tr>\n",
       "      <th>2994</th>\n",
       "      <td>0.746677</td>\n",
       "      <td>0.246700</td>\n",
       "      <td>0.726296</td>\n",
       "      <td>1.238024</td>\n",
       "      <td>0.333257</td>\n",
       "      <td>-0.723054</td>\n",
       "      <td>c</td>\n",
       "    </tr>\n",
       "    <tr>\n",
       "      <th>2997</th>\n",
       "      <td>2.054665</td>\n",
       "      <td>0.848563</td>\n",
       "      <td>-0.652124</td>\n",
       "      <td>-1.153524</td>\n",
       "      <td>-0.171251</td>\n",
       "      <td>-17.765266</td>\n",
       "      <td>b</td>\n",
       "    </tr>\n",
       "  </tbody>\n",
       "</table>\n",
       "</div>"
      ],
      "text/plain": [
       "             A         B         C         D         E          F  G\n",
       "2985 -1.443039 -0.873042  0.286502  0.131774 -0.812787  -2.311916  b\n",
       "2988  0.636137 -0.465677  0.677833 -0.541540 -0.302328  -1.075509  a\n",
       "2991  1.428879 -0.855440  0.539704 -1.497891  0.004913  10.679053  c\n",
       "2994  0.746677  0.246700  0.726296  1.238024  0.333257  -0.723054  c\n",
       "2997  2.054665  0.848563 -0.652124 -1.153524 -0.171251 -17.765266  b"
      ]
     },
     "execution_count": 85,
     "metadata": {},
     "output_type": "execute_result"
    }
   ],
   "source": [
    "u['G'] = np.random.choice(['a', 'b', 'c'], len(u))\n",
    "u.tail()"
   ]
  },
  {
   "cell_type": "markdown",
   "metadata": {},
   "source": [
    "### Grouping Data"
   ]
  },
  {
   "cell_type": "code",
   "execution_count": 86,
   "metadata": {},
   "outputs": [
    {
     "name": "stdout",
     "output_type": "stream",
     "text": [
      "a: 0.04803418405004595\n",
      "b: 2.961722616193067\n",
      "c: 0.29664938440176003\n"
     ]
    }
   ],
   "source": [
    "for h, group in u.groupby('G'):\n",
    "    print('{}: {}'.format(h, np.mean(group['F'])))"
   ]
  },
  {
   "cell_type": "code",
   "execution_count": 87,
   "metadata": {},
   "outputs": [
    {
     "data": {
      "text/html": [
       "<div>\n",
       "<style scoped>\n",
       "    .dataframe tbody tr th:only-of-type {\n",
       "        vertical-align: middle;\n",
       "    }\n",
       "\n",
       "    .dataframe tbody tr th {\n",
       "        vertical-align: top;\n",
       "    }\n",
       "\n",
       "    .dataframe thead tr th {\n",
       "        text-align: left;\n",
       "    }\n",
       "\n",
       "    .dataframe thead tr:last-of-type th {\n",
       "        text-align: right;\n",
       "    }\n",
       "</style>\n",
       "<table border=\"1\" class=\"dataframe\">\n",
       "  <thead>\n",
       "    <tr>\n",
       "      <th></th>\n",
       "      <th colspan=\"8\" halign=\"left\">A</th>\n",
       "      <th colspan=\"2\" halign=\"left\">B</th>\n",
       "      <th>...</th>\n",
       "      <th colspan=\"2\" halign=\"left\">E</th>\n",
       "      <th colspan=\"8\" halign=\"left\">F</th>\n",
       "    </tr>\n",
       "    <tr>\n",
       "      <th></th>\n",
       "      <th>count</th>\n",
       "      <th>mean</th>\n",
       "      <th>std</th>\n",
       "      <th>min</th>\n",
       "      <th>25%</th>\n",
       "      <th>50%</th>\n",
       "      <th>75%</th>\n",
       "      <th>max</th>\n",
       "      <th>count</th>\n",
       "      <th>mean</th>\n",
       "      <th>...</th>\n",
       "      <th>75%</th>\n",
       "      <th>max</th>\n",
       "      <th>count</th>\n",
       "      <th>mean</th>\n",
       "      <th>std</th>\n",
       "      <th>min</th>\n",
       "      <th>25%</th>\n",
       "      <th>50%</th>\n",
       "      <th>75%</th>\n",
       "      <th>max</th>\n",
       "    </tr>\n",
       "    <tr>\n",
       "      <th>G</th>\n",
       "      <th></th>\n",
       "      <th></th>\n",
       "      <th></th>\n",
       "      <th></th>\n",
       "      <th></th>\n",
       "      <th></th>\n",
       "      <th></th>\n",
       "      <th></th>\n",
       "      <th></th>\n",
       "      <th></th>\n",
       "      <th></th>\n",
       "      <th></th>\n",
       "      <th></th>\n",
       "      <th></th>\n",
       "      <th></th>\n",
       "      <th></th>\n",
       "      <th></th>\n",
       "      <th></th>\n",
       "      <th></th>\n",
       "      <th></th>\n",
       "      <th></th>\n",
       "    </tr>\n",
       "  </thead>\n",
       "  <tbody>\n",
       "    <tr>\n",
       "      <th>a</th>\n",
       "      <td>317.0</td>\n",
       "      <td>0.107822</td>\n",
       "      <td>0.990977</td>\n",
       "      <td>-2.799957</td>\n",
       "      <td>-0.432288</td>\n",
       "      <td>0.103228</td>\n",
       "      <td>0.777953</td>\n",
       "      <td>3.761690</td>\n",
       "      <td>317.0</td>\n",
       "      <td>-0.063263</td>\n",
       "      <td>...</td>\n",
       "      <td>0.690932</td>\n",
       "      <td>2.962746</td>\n",
       "      <td>317.0</td>\n",
       "      <td>0.048034</td>\n",
       "      <td>9.309405</td>\n",
       "      <td>-43.935627</td>\n",
       "      <td>-1.545327</td>\n",
       "      <td>-0.334599</td>\n",
       "      <td>1.341564</td>\n",
       "      <td>100.023294</td>\n",
       "    </tr>\n",
       "    <tr>\n",
       "      <th>b</th>\n",
       "      <td>340.0</td>\n",
       "      <td>-0.012748</td>\n",
       "      <td>1.006200</td>\n",
       "      <td>-3.388593</td>\n",
       "      <td>-0.741570</td>\n",
       "      <td>-0.076684</td>\n",
       "      <td>0.603936</td>\n",
       "      <td>2.768763</td>\n",
       "      <td>340.0</td>\n",
       "      <td>-0.001625</td>\n",
       "      <td>...</td>\n",
       "      <td>0.696759</td>\n",
       "      <td>3.037953</td>\n",
       "      <td>340.0</td>\n",
       "      <td>2.961723</td>\n",
       "      <td>48.818677</td>\n",
       "      <td>-344.542678</td>\n",
       "      <td>-1.124981</td>\n",
       "      <td>0.693144</td>\n",
       "      <td>1.732119</td>\n",
       "      <td>723.150867</td>\n",
       "    </tr>\n",
       "    <tr>\n",
       "      <th>c</th>\n",
       "      <td>343.0</td>\n",
       "      <td>-0.024982</td>\n",
       "      <td>0.937233</td>\n",
       "      <td>-2.646094</td>\n",
       "      <td>-0.659933</td>\n",
       "      <td>-0.038974</td>\n",
       "      <td>0.612174</td>\n",
       "      <td>2.540335</td>\n",
       "      <td>343.0</td>\n",
       "      <td>0.014253</td>\n",
       "      <td>...</td>\n",
       "      <td>0.568424</td>\n",
       "      <td>2.734018</td>\n",
       "      <td>343.0</td>\n",
       "      <td>0.296649</td>\n",
       "      <td>8.047534</td>\n",
       "      <td>-71.486370</td>\n",
       "      <td>-1.403432</td>\n",
       "      <td>0.578978</td>\n",
       "      <td>1.427959</td>\n",
       "      <td>71.942956</td>\n",
       "    </tr>\n",
       "  </tbody>\n",
       "</table>\n",
       "<p>3 rows × 48 columns</p>\n",
       "</div>"
      ],
      "text/plain": [
       "       A                                                              \\\n",
       "   count      mean       std       min       25%       50%       75%   \n",
       "G                                                                      \n",
       "a  317.0  0.107822  0.990977 -2.799957 -0.432288  0.103228  0.777953   \n",
       "b  340.0 -0.012748  1.006200 -3.388593 -0.741570 -0.076684  0.603936   \n",
       "c  343.0 -0.024982  0.937233 -2.646094 -0.659933 -0.038974  0.612174   \n",
       "\n",
       "                 B               ...             E                F            \\\n",
       "        max  count      mean     ...           75%       max  count      mean   \n",
       "G                                ...                                            \n",
       "a  3.761690  317.0 -0.063263     ...      0.690932  2.962746  317.0  0.048034   \n",
       "b  2.768763  340.0 -0.001625     ...      0.696759  3.037953  340.0  2.961723   \n",
       "c  2.540335  343.0  0.014253     ...      0.568424  2.734018  343.0  0.296649   \n",
       "\n",
       "                                                                    \n",
       "         std         min       25%       50%       75%         max  \n",
       "G                                                                   \n",
       "a   9.309405  -43.935627 -1.545327 -0.334599  1.341564  100.023294  \n",
       "b  48.818677 -344.542678 -1.124981  0.693144  1.732119  723.150867  \n",
       "c   8.047534  -71.486370 -1.403432  0.578978  1.427959   71.942956  \n",
       "\n",
       "[3 rows x 48 columns]"
      ]
     },
     "execution_count": 87,
     "metadata": {},
     "output_type": "execute_result"
    }
   ],
   "source": [
    "u.groupby('G').describe()"
   ]
  },
  {
   "cell_type": "markdown",
   "metadata": {},
   "source": [
    "### Loading and saving dataframes\n",
    "\n",
    "To load and save Pandas dataframes we will use the `to_csv` and `read_csv` commands"
   ]
  },
  {
   "cell_type": "code",
   "execution_count": 88,
   "metadata": {},
   "outputs": [
    {
     "data": {
      "text/html": [
       "<div>\n",
       "<style scoped>\n",
       "    .dataframe tbody tr th:only-of-type {\n",
       "        vertical-align: middle;\n",
       "    }\n",
       "\n",
       "    .dataframe tbody tr th {\n",
       "        vertical-align: top;\n",
       "    }\n",
       "\n",
       "    .dataframe thead th {\n",
       "        text-align: right;\n",
       "    }\n",
       "</style>\n",
       "<table border=\"1\" class=\"dataframe\">\n",
       "  <thead>\n",
       "    <tr style=\"text-align: right;\">\n",
       "      <th></th>\n",
       "      <th>A</th>\n",
       "      <th>B</th>\n",
       "      <th>C</th>\n",
       "      <th>D</th>\n",
       "      <th>E</th>\n",
       "      <th>F</th>\n",
       "      <th>G</th>\n",
       "    </tr>\n",
       "  </thead>\n",
       "  <tbody>\n",
       "    <tr>\n",
       "      <th>0</th>\n",
       "      <td>-0.656352</td>\n",
       "      <td>-1.828935</td>\n",
       "      <td>1.356624</td>\n",
       "      <td>-2.031876</td>\n",
       "      <td>0.714026</td>\n",
       "      <td>3.104331</td>\n",
       "      <td>c</td>\n",
       "    </tr>\n",
       "    <tr>\n",
       "      <th>3</th>\n",
       "      <td>-0.731898</td>\n",
       "      <td>-0.040749</td>\n",
       "      <td>2.087230</td>\n",
       "      <td>-0.186705</td>\n",
       "      <td>0.925189</td>\n",
       "      <td>-34.629224</td>\n",
       "      <td>a</td>\n",
       "    </tr>\n",
       "    <tr>\n",
       "      <th>6</th>\n",
       "      <td>0.279463</td>\n",
       "      <td>-0.903286</td>\n",
       "      <td>0.542951</td>\n",
       "      <td>0.245455</td>\n",
       "      <td>0.736812</td>\n",
       "      <td>1.909168</td>\n",
       "      <td>c</td>\n",
       "    </tr>\n",
       "    <tr>\n",
       "      <th>9</th>\n",
       "      <td>0.517327</td>\n",
       "      <td>0.176194</td>\n",
       "      <td>0.106239</td>\n",
       "      <td>-2.695502</td>\n",
       "      <td>-0.318348</td>\n",
       "      <td>-21.598144</td>\n",
       "      <td>a</td>\n",
       "    </tr>\n",
       "    <tr>\n",
       "      <th>12</th>\n",
       "      <td>-0.657431</td>\n",
       "      <td>-0.841408</td>\n",
       "      <td>-1.749269</td>\n",
       "      <td>0.056158</td>\n",
       "      <td>0.171432</td>\n",
       "      <td>-5.400024</td>\n",
       "      <td>b</td>\n",
       "    </tr>\n",
       "  </tbody>\n",
       "</table>\n",
       "</div>"
      ],
      "text/plain": [
       "           A         B         C         D         E          F  G\n",
       "0  -0.656352 -1.828935  1.356624 -2.031876  0.714026   3.104331  c\n",
       "3  -0.731898 -0.040749  2.087230 -0.186705  0.925189 -34.629224  a\n",
       "6   0.279463 -0.903286  0.542951  0.245455  0.736812   1.909168  c\n",
       "9   0.517327  0.176194  0.106239 -2.695502 -0.318348 -21.598144  a\n",
       "12 -0.657431 -0.841408 -1.749269  0.056158  0.171432  -5.400024  b"
      ]
     },
     "execution_count": 88,
     "metadata": {},
     "output_type": "execute_result"
    }
   ],
   "source": [
    "u.to_csv('test.csv')\n",
    "v = pd.read_csv('test.csv', index_col=0)\n",
    "v.head()"
   ]
  },
  {
   "cell_type": "markdown",
   "metadata": {},
   "source": [
    "But, as an addition, Pandas has special commands to load and save Excel spreadsheets (yay!). However, to use it you'll need the `openpyxl` and `xlrd` packages."
   ]
  },
  {
   "cell_type": "code",
   "execution_count": 89,
   "metadata": {},
   "outputs": [
    {
     "data": {
      "text/html": [
       "<div>\n",
       "<style scoped>\n",
       "    .dataframe tbody tr th:only-of-type {\n",
       "        vertical-align: middle;\n",
       "    }\n",
       "\n",
       "    .dataframe tbody tr th {\n",
       "        vertical-align: top;\n",
       "    }\n",
       "\n",
       "    .dataframe thead th {\n",
       "        text-align: right;\n",
       "    }\n",
       "</style>\n",
       "<table border=\"1\" class=\"dataframe\">\n",
       "  <thead>\n",
       "    <tr style=\"text-align: right;\">\n",
       "      <th></th>\n",
       "      <th>A</th>\n",
       "      <th>B</th>\n",
       "      <th>C</th>\n",
       "      <th>D</th>\n",
       "      <th>E</th>\n",
       "      <th>F</th>\n",
       "      <th>G</th>\n",
       "    </tr>\n",
       "  </thead>\n",
       "  <tbody>\n",
       "    <tr>\n",
       "      <th>0</th>\n",
       "      <td>-0.656352</td>\n",
       "      <td>-1.828935</td>\n",
       "      <td>1.356624</td>\n",
       "      <td>-2.031876</td>\n",
       "      <td>0.714026</td>\n",
       "      <td>3.104331</td>\n",
       "      <td>c</td>\n",
       "    </tr>\n",
       "    <tr>\n",
       "      <th>3</th>\n",
       "      <td>-0.731898</td>\n",
       "      <td>-0.040749</td>\n",
       "      <td>2.087230</td>\n",
       "      <td>-0.186705</td>\n",
       "      <td>0.925189</td>\n",
       "      <td>-34.629224</td>\n",
       "      <td>a</td>\n",
       "    </tr>\n",
       "    <tr>\n",
       "      <th>6</th>\n",
       "      <td>0.279463</td>\n",
       "      <td>-0.903286</td>\n",
       "      <td>0.542951</td>\n",
       "      <td>0.245455</td>\n",
       "      <td>0.736812</td>\n",
       "      <td>1.909168</td>\n",
       "      <td>c</td>\n",
       "    </tr>\n",
       "    <tr>\n",
       "      <th>9</th>\n",
       "      <td>0.517327</td>\n",
       "      <td>0.176194</td>\n",
       "      <td>0.106239</td>\n",
       "      <td>-2.695502</td>\n",
       "      <td>-0.318348</td>\n",
       "      <td>-21.598144</td>\n",
       "      <td>a</td>\n",
       "    </tr>\n",
       "    <tr>\n",
       "      <th>12</th>\n",
       "      <td>-0.657431</td>\n",
       "      <td>-0.841408</td>\n",
       "      <td>-1.749269</td>\n",
       "      <td>0.056158</td>\n",
       "      <td>0.171432</td>\n",
       "      <td>-5.400024</td>\n",
       "      <td>b</td>\n",
       "    </tr>\n",
       "  </tbody>\n",
       "</table>\n",
       "</div>"
      ],
      "text/plain": [
       "           A         B         C         D         E          F  G\n",
       "0  -0.656352 -1.828935  1.356624 -2.031876  0.714026   3.104331  c\n",
       "3  -0.731898 -0.040749  2.087230 -0.186705  0.925189 -34.629224  a\n",
       "6   0.279463 -0.903286  0.542951  0.245455  0.736812   1.909168  c\n",
       "9   0.517327  0.176194  0.106239 -2.695502 -0.318348 -21.598144  a\n",
       "12 -0.657431 -0.841408 -1.749269  0.056158  0.171432  -5.400024  b"
      ]
     },
     "execution_count": 89,
     "metadata": {},
     "output_type": "execute_result"
    }
   ],
   "source": [
    "u.to_excel('test.xlsx', sheet_name='My sheet')\n",
    "pd.read_excel('test.xlsx', 'My sheet', index_col=0).head()"
   ]
  },
  {
   "cell_type": "markdown",
   "metadata": {},
   "source": [
    "**Exercise 5**: Download [this dataset](https://raw.githubusercontent.com/ChihChengLiang/pokemongor/master/data-raw/pokemons.csv) and load it, using the first column as the index. Take a look at it, and do the following things:\n",
    "- Choose the columns 'Identifier', 'BaseStamina', 'BaseAttack', 'BaseDefense', 'Type1' and 'Type2' \n",
    "- Create a function that lowercases strings and apply it to 'Type1' and 'Type2' (*Extra: just capitalize the strings, i.e., leave the first letter uppercase and lowercase the rest*)\n",
    "- Create a function that returns a Boolean value (don't be afraif by this, it is a function that returns either True or False) that tells if a Pokémon has high stamina (BaseStamina>170) or not. Store this information in a new column and show the list of Pokémon with high stamina\n",
    "- Show the instructor the last 15 rows of your dataset"
   ]
  },
  {
   "cell_type": "code",
   "execution_count": 90,
   "metadata": {},
   "outputs": [
    {
     "name": "stdout",
     "output_type": "stream",
     "text": [
      "PkMn\n",
      "31      Nidoqueen\n",
      "36       Clefable\n",
      "39     Jigglypuff\n",
      "40     Wigglytuff\n",
      "59       Arcanine\n",
      "62      Poliwrath\n",
      "68        Machamp\n",
      "          ...    \n",
      "143       Snorlax\n",
      "144      Articuno\n",
      "145        Zapdos\n",
      "146       Moltres\n",
      "149     Dragonite\n",
      "150        Mewtwo\n",
      "151           Mew\n",
      "Name: Identifier, Length: 26, dtype: object\n"
     ]
    },
    {
     "data": {
      "text/html": [
       "<div>\n",
       "<style scoped>\n",
       "    .dataframe tbody tr th:only-of-type {\n",
       "        vertical-align: middle;\n",
       "    }\n",
       "\n",
       "    .dataframe tbody tr th {\n",
       "        vertical-align: top;\n",
       "    }\n",
       "\n",
       "    .dataframe thead th {\n",
       "        text-align: right;\n",
       "    }\n",
       "</style>\n",
       "<table border=\"1\" class=\"dataframe\">\n",
       "  <thead>\n",
       "    <tr style=\"text-align: right;\">\n",
       "      <th></th>\n",
       "      <th>Identifier</th>\n",
       "      <th>BaseStamina</th>\n",
       "      <th>BaseAttack</th>\n",
       "      <th>BaseDefense</th>\n",
       "      <th>Type1</th>\n",
       "      <th>Type2</th>\n",
       "      <th>HighStamina</th>\n",
       "    </tr>\n",
       "    <tr>\n",
       "      <th>PkMn</th>\n",
       "      <th></th>\n",
       "      <th></th>\n",
       "      <th></th>\n",
       "      <th></th>\n",
       "      <th></th>\n",
       "      <th></th>\n",
       "      <th></th>\n",
       "    </tr>\n",
       "  </thead>\n",
       "  <tbody>\n",
       "    <tr>\n",
       "      <th>137</th>\n",
       "      <td>Porygon</td>\n",
       "      <td>130</td>\n",
       "      <td>156</td>\n",
       "      <td>158</td>\n",
       "      <td>Normal</td>\n",
       "      <td>None</td>\n",
       "      <td>False</td>\n",
       "    </tr>\n",
       "    <tr>\n",
       "      <th>138</th>\n",
       "      <td>Omanyte</td>\n",
       "      <td>70</td>\n",
       "      <td>132</td>\n",
       "      <td>160</td>\n",
       "      <td>Rock</td>\n",
       "      <td>Water</td>\n",
       "      <td>False</td>\n",
       "    </tr>\n",
       "    <tr>\n",
       "      <th>139</th>\n",
       "      <td>Omastar</td>\n",
       "      <td>140</td>\n",
       "      <td>180</td>\n",
       "      <td>202</td>\n",
       "      <td>Rock</td>\n",
       "      <td>Water</td>\n",
       "      <td>False</td>\n",
       "    </tr>\n",
       "    <tr>\n",
       "      <th>140</th>\n",
       "      <td>Kabuto</td>\n",
       "      <td>60</td>\n",
       "      <td>148</td>\n",
       "      <td>142</td>\n",
       "      <td>Rock</td>\n",
       "      <td>Water</td>\n",
       "      <td>False</td>\n",
       "    </tr>\n",
       "    <tr>\n",
       "      <th>141</th>\n",
       "      <td>Kabutops</td>\n",
       "      <td>120</td>\n",
       "      <td>190</td>\n",
       "      <td>190</td>\n",
       "      <td>Rock</td>\n",
       "      <td>Water</td>\n",
       "      <td>False</td>\n",
       "    </tr>\n",
       "    <tr>\n",
       "      <th>142</th>\n",
       "      <td>Aerodactyl</td>\n",
       "      <td>160</td>\n",
       "      <td>182</td>\n",
       "      <td>162</td>\n",
       "      <td>Rock</td>\n",
       "      <td>Flying</td>\n",
       "      <td>False</td>\n",
       "    </tr>\n",
       "    <tr>\n",
       "      <th>143</th>\n",
       "      <td>Snorlax</td>\n",
       "      <td>320</td>\n",
       "      <td>180</td>\n",
       "      <td>180</td>\n",
       "      <td>Normal</td>\n",
       "      <td>None</td>\n",
       "      <td>True</td>\n",
       "    </tr>\n",
       "    <tr>\n",
       "      <th>144</th>\n",
       "      <td>Articuno</td>\n",
       "      <td>180</td>\n",
       "      <td>198</td>\n",
       "      <td>242</td>\n",
       "      <td>Ice</td>\n",
       "      <td>Flying</td>\n",
       "      <td>True</td>\n",
       "    </tr>\n",
       "    <tr>\n",
       "      <th>145</th>\n",
       "      <td>Zapdos</td>\n",
       "      <td>180</td>\n",
       "      <td>232</td>\n",
       "      <td>194</td>\n",
       "      <td>Electric</td>\n",
       "      <td>Flying</td>\n",
       "      <td>True</td>\n",
       "    </tr>\n",
       "    <tr>\n",
       "      <th>146</th>\n",
       "      <td>Moltres</td>\n",
       "      <td>180</td>\n",
       "      <td>242</td>\n",
       "      <td>194</td>\n",
       "      <td>Fire</td>\n",
       "      <td>Flying</td>\n",
       "      <td>True</td>\n",
       "    </tr>\n",
       "    <tr>\n",
       "      <th>147</th>\n",
       "      <td>Dratini</td>\n",
       "      <td>82</td>\n",
       "      <td>128</td>\n",
       "      <td>110</td>\n",
       "      <td>Dragon</td>\n",
       "      <td>None</td>\n",
       "      <td>False</td>\n",
       "    </tr>\n",
       "    <tr>\n",
       "      <th>148</th>\n",
       "      <td>Dragonair</td>\n",
       "      <td>122</td>\n",
       "      <td>170</td>\n",
       "      <td>152</td>\n",
       "      <td>Dragon</td>\n",
       "      <td>None</td>\n",
       "      <td>False</td>\n",
       "    </tr>\n",
       "    <tr>\n",
       "      <th>149</th>\n",
       "      <td>Dragonite</td>\n",
       "      <td>182</td>\n",
       "      <td>250</td>\n",
       "      <td>212</td>\n",
       "      <td>Dragon</td>\n",
       "      <td>Flying</td>\n",
       "      <td>True</td>\n",
       "    </tr>\n",
       "    <tr>\n",
       "      <th>150</th>\n",
       "      <td>Mewtwo</td>\n",
       "      <td>212</td>\n",
       "      <td>284</td>\n",
       "      <td>202</td>\n",
       "      <td>Psychic</td>\n",
       "      <td>None</td>\n",
       "      <td>True</td>\n",
       "    </tr>\n",
       "    <tr>\n",
       "      <th>151</th>\n",
       "      <td>Mew</td>\n",
       "      <td>200</td>\n",
       "      <td>220</td>\n",
       "      <td>220</td>\n",
       "      <td>Psychic</td>\n",
       "      <td>None</td>\n",
       "      <td>True</td>\n",
       "    </tr>\n",
       "  </tbody>\n",
       "</table>\n",
       "</div>"
      ],
      "text/plain": [
       "      Identifier  BaseStamina  BaseAttack  BaseDefense     Type1   Type2  \\\n",
       "PkMn                                                                       \n",
       "137      Porygon          130         156          158    Normal    None   \n",
       "138      Omanyte           70         132          160      Rock   Water   \n",
       "139      Omastar          140         180          202      Rock   Water   \n",
       "140       Kabuto           60         148          142      Rock   Water   \n",
       "141     Kabutops          120         190          190      Rock   Water   \n",
       "142   Aerodactyl          160         182          162      Rock  Flying   \n",
       "143      Snorlax          320         180          180    Normal    None   \n",
       "144     Articuno          180         198          242       Ice  Flying   \n",
       "145       Zapdos          180         232          194  Electric  Flying   \n",
       "146      Moltres          180         242          194      Fire  Flying   \n",
       "147      Dratini           82         128          110    Dragon    None   \n",
       "148    Dragonair          122         170          152    Dragon    None   \n",
       "149    Dragonite          182         250          212    Dragon  Flying   \n",
       "150       Mewtwo          212         284          202   Psychic    None   \n",
       "151          Mew          200         220          220   Psychic    None   \n",
       "\n",
       "      HighStamina  \n",
       "PkMn               \n",
       "137         False  \n",
       "138         False  \n",
       "139         False  \n",
       "140         False  \n",
       "141         False  \n",
       "142         False  \n",
       "143          True  \n",
       "144          True  \n",
       "145          True  \n",
       "146          True  \n",
       "147         False  \n",
       "148         False  \n",
       "149          True  \n",
       "150          True  \n",
       "151          True  "
      ]
     },
     "execution_count": 90,
     "metadata": {},
     "output_type": "execute_result"
    }
   ],
   "source": [
    "df = pd.read_csv('https://raw.githubusercontent.com/ChihChengLiang/pokemongor/master/data-raw/pokemons.csv', \n",
    "                 index_col=0)\n",
    "\n",
    "df = df[['Identifier', 'BaseStamina', 'BaseAttack', 'BaseDefense', 'Type1', 'Type2']]\n",
    "\n",
    "capitalize = lambda st: st.capitalize()\n",
    "\n",
    "for col in ['Type1', 'Type2']:\n",
    "    df[col] = df[col].apply(capitalize)\n",
    "    \n",
    "def highstamina(x):\n",
    "    return True if x > 170 else False\n",
    "\n",
    "df['HighStamina'] = df.BaseStamina.apply(highstamina)\n",
    "\n",
    "print(df[df['HighStamina'] == True].Identifier)\n",
    "\n",
    "df.tail(15)"
   ]
  }
 ],
 "metadata": {
  "kernelspec": {
   "display_name": "Python 3",
   "language": "python",
   "name": "python3"
  },
  "language_info": {
   "codemirror_mode": {
    "name": "ipython",
    "version": 3
   },
   "file_extension": ".py",
   "mimetype": "text/x-python",
   "name": "python",
   "nbconvert_exporter": "python",
   "pygments_lexer": "ipython3",
   "version": "3.6.6"
  }
 },
 "nbformat": 4,
 "nbformat_minor": 2
}
