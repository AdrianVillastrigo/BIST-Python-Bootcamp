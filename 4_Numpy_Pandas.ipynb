{
 "cells": [
  {
   "cell_type": "markdown",
   "metadata": {},
   "source": [
    "# 4 NumPy and Pandas\n",
    "\n",
    "## Introduction\n",
    "\n",
    "After getting used to how Python works, it is the moment to begin getting our hands dirty with data analysis. We will study two packages: [NumPy](http://www.numpy.org/) is the fundamental numeric computing and linear algebra package in Python, that allows for decent data analysis. We will learn it not only for the data analysis, but more importantly because it will be a package that will be always present in our `import` section as scientists. After NumPy we will go to [Pandas](http://pandas.pydata.org/). Pandas is a dedicated data analysis package with a lot more functionalities than NumPy, making our life much easier in terms of data visualization and manipulation. All the power of Pandas will be completely unleashed in Section 5, where we will see how to visualize information in plots.\n",
    "\n",
    "As usual, we begin importing the necessary packages"
   ]
  },
  {
   "cell_type": "code",
   "execution_count": 1,
   "metadata": {},
   "outputs": [
    {
     "name": "stdout",
     "output_type": "stream",
     "text": [
      "NumPy: 1.13.3\n",
      "Pandas: 0.22.0\n"
     ]
    }
   ],
   "source": [
    "import numpy as np\n",
    "import pandas as pd\n",
    "print('NumPy:', np.__version__)\n",
    "print('Pandas:', pd.__version__)"
   ]
  },
  {
   "cell_type": "markdown",
   "metadata": {},
   "source": [
    "## Numeric Python (NumPy)\n",
    "\n",
    "NumPy is an open-source add-on module to Python that provides common mathematical and numerical routines in pre-compiled, fast functions. These are growing into highly mature packages that provide functionality that meets, or perhaps exceeds, that\n",
    "associated with common commercial software like MATLAB. The [NumPy](http://www.numpy.org/) (Numeric Python) package provides basic routines for manipulating large arrays and matrices of numeric data. The main object NumPy works with is a *homogeneous multidimensional array*. Despite its intimidating name, these are nothing but tables of numbers, each labelled by a tuple of indices.\n",
    "\n",
    "We will now explore some capabilities of NumPy that will prove very useful not only for data analyisis, but throughout all our life with Python."
   ]
  },
  {
   "cell_type": "markdown",
   "metadata": {},
   "source": [
    "### Creating Arrays\n",
    "\n",
    "As mentioned before, the main object in NumPy is the *array*. Creating one is as easy as calling the command `array`"
   ]
  },
  {
   "cell_type": "code",
   "execution_count": 2,
   "metadata": {},
   "outputs": [
    {
     "data": {
      "text/plain": [
       "array([1, 2, 3])"
      ]
     },
     "execution_count": 2,
     "metadata": {},
     "output_type": "execute_result"
    }
   ],
   "source": [
    "mylist = [1, 2, 3]\n",
    "x = np.array(mylist)\n",
    "x"
   ]
  },
  {
   "cell_type": "code",
   "execution_count": 3,
   "metadata": {},
   "outputs": [
    {
     "data": {
      "text/plain": [
       "numpy.ndarray"
      ]
     },
     "execution_count": 3,
     "metadata": {},
     "output_type": "execute_result"
    }
   ],
   "source": [
    "type(x)"
   ]
  },
  {
   "cell_type": "markdown",
   "metadata": {},
   "source": [
    "The same applies to multidimensional arrays"
   ]
  },
  {
   "cell_type": "code",
   "execution_count": 4,
   "metadata": {},
   "outputs": [
    {
     "data": {
      "text/plain": [
       "array([[[ 7,  8,  9],\n",
       "        [10, 11, 12]],\n",
       "\n",
       "       [[ 1,  2,  3],\n",
       "        [ 4,  5,  6]]])"
      ]
     },
     "execution_count": 4,
     "metadata": {},
     "output_type": "execute_result"
    }
   ],
   "source": [
    "m = np.array([[[7, 8, 9], [10, 11, 12]], [[1, 2, 3], [4, 5, 6]]])\n",
    "m"
   ]
  },
  {
   "cell_type": "markdown",
   "metadata": {},
   "source": [
    "There is one restriction with respect to the use of lists: while you could create lists with data of different type, all the data in an array has to be of the same type, and it will be converted automatically."
   ]
  },
  {
   "cell_type": "code",
   "execution_count": 5,
   "metadata": {},
   "outputs": [
    {
     "name": "stdout",
     "output_type": "stream",
     "text": [
      "<class 'float'>\n",
      "<class 'numpy.str_'>\n"
     ]
    }
   ],
   "source": [
    "lst = [1., 'cat']\n",
    "print(type(lst[0]))\n",
    "\n",
    "arr = np.array(lst)\n",
    "print(type(arr[0]))"
   ]
  },
  {
   "cell_type": "markdown",
   "metadata": {},
   "source": [
    "(We will go deeper into indexing in a while)\n",
    "\n",
    "-----\n",
    "A NumPy array has a number of dimensions (or *axes*). To obtain the number of axes and the size of each of them you use the command `shape`. For 2-dimensional arrays (matrices), the order corresponds to (rows, columns)\n",
    "\n",
    "There are two different ways of calling the `shape` command, either with `np.shape(arr)` or `arr.shape`. This is not the only command that works in both formats, and we will be finding some more in our way."
   ]
  },
  {
   "cell_type": "code",
   "execution_count": 6,
   "metadata": {},
   "outputs": [
    {
     "name": "stdout",
     "output_type": "stream",
     "text": [
      "(3,)\n",
      "(2, 2, 3)\n"
     ]
    }
   ],
   "source": [
    "print(x.shape)\n",
    "print(np.shape(m))"
   ]
  },
  {
   "cell_type": "markdown",
   "metadata": {},
   "source": [
    "### Special Arrays\n",
    "\n",
    "Now we review some built-in functions that create matrices commonly used. `ones` and `zeros` return arrays of given shape and type (default is float64), filled with ones or zeros, respectively."
   ]
  },
  {
   "cell_type": "code",
   "execution_count": 7,
   "metadata": {
    "collapsed": true
   },
   "outputs": [],
   "source": [
    "array_zeros=np.zeros((3, 2))\n",
    "array_ones=np.ones((3, 2, 4), dtype=np.int8)"
   ]
  },
  {
   "cell_type": "code",
   "execution_count": 8,
   "metadata": {},
   "outputs": [
    {
     "data": {
      "text/plain": [
       "array([[ 0.,  0.],\n",
       "       [ 0.,  0.],\n",
       "       [ 0.,  0.]])"
      ]
     },
     "execution_count": 8,
     "metadata": {},
     "output_type": "execute_result"
    }
   ],
   "source": [
    "array_zeros"
   ]
  },
  {
   "cell_type": "code",
   "execution_count": 9,
   "metadata": {},
   "outputs": [
    {
     "data": {
      "text/plain": [
       "array([[[1, 1, 1, 1],\n",
       "        [1, 1, 1, 1]],\n",
       "\n",
       "       [[1, 1, 1, 1],\n",
       "        [1, 1, 1, 1]],\n",
       "\n",
       "       [[1, 1, 1, 1],\n",
       "        [1, 1, 1, 1]]], dtype=int8)"
      ]
     },
     "execution_count": 9,
     "metadata": {},
     "output_type": "execute_result"
    }
   ],
   "source": [
    "array_ones"
   ]
  },
  {
   "cell_type": "markdown",
   "metadata": {},
   "source": [
    "`eye(d)` returns a 2-D, dimension-$d$ array with ones on the diagonal and zeros elsewhere."
   ]
  },
  {
   "cell_type": "code",
   "execution_count": 10,
   "metadata": {},
   "outputs": [
    {
     "data": {
      "text/plain": [
       "array([[ 1.,  0.,  0.],\n",
       "       [ 0.,  1.,  0.],\n",
       "       [ 0.,  0.,  1.]])"
      ]
     },
     "execution_count": 10,
     "metadata": {},
     "output_type": "execute_result"
    }
   ],
   "source": [
    "np.eye(3)"
   ]
  },
  {
   "cell_type": "markdown",
   "metadata": {},
   "source": [
    "`eye` can also create arrays with ones in upper and lower diagonals. To achieve this, you must call `eye(d, d, k)` where $k$ denotes the diagonal (positive for above the center diagonal, negative for below), or `eye(d, k=num)`"
   ]
  },
  {
   "cell_type": "code",
   "execution_count": 11,
   "metadata": {},
   "outputs": [
    {
     "name": "stdout",
     "output_type": "stream",
     "text": [
      "[[ 0.  0.  1.  0.  0.]\n",
      " [ 0.  0.  0.  1.  0.]\n",
      " [ 0.  0.  0.  0.  1.]\n",
      " [ 0.  0.  0.  0.  0.]\n",
      " [ 0.  0.  0.  0.  0.]]\n"
     ]
    },
    {
     "data": {
      "text/plain": [
       "array([[ 0.,  0.,  0.,  0.,  0.],\n",
       "       [ 1.,  0.,  0.,  0.,  0.],\n",
       "       [ 0.,  1.,  0.,  0.,  0.],\n",
       "       [ 0.,  0.,  1.,  0.,  0.],\n",
       "       [ 0.,  0.,  0.,  1.,  0.]])"
      ]
     },
     "execution_count": 11,
     "metadata": {},
     "output_type": "execute_result"
    }
   ],
   "source": [
    "print(np.eye(5, 5, 2))\n",
    "np.eye(5, k=-1)"
   ]
  },
  {
   "cell_type": "markdown",
   "metadata": {},
   "source": [
    "`diag`, depending on the input, either extracts a diagonal from a matrix (if the input is a 2-D array), or constructs a diagonal array (if the input is a vector)."
   ]
  },
  {
   "cell_type": "code",
   "execution_count": 12,
   "metadata": {},
   "outputs": [
    {
     "data": {
      "text/plain": [
       "array([[0, 1, 0, 0],\n",
       "       [0, 0, 2, 0],\n",
       "       [0, 0, 0, 3],\n",
       "       [0, 0, 0, 0]])"
      ]
     },
     "execution_count": 12,
     "metadata": {},
     "output_type": "execute_result"
    }
   ],
   "source": [
    "np.diag(x, 1)"
   ]
  },
  {
   "cell_type": "code",
   "execution_count": 13,
   "metadata": {},
   "outputs": [
    {
     "name": "stdout",
     "output_type": "stream",
     "text": [
      "[ 1  6 11 16]\n"
     ]
    },
    {
     "data": {
      "text/plain": [
       "array([[ 1,  0,  0,  0],\n",
       "       [ 0,  6,  0,  0],\n",
       "       [ 0,  0, 11,  0],\n",
       "       [ 0,  0,  0, 16]])"
      ]
     },
     "execution_count": 13,
     "metadata": {},
     "output_type": "execute_result"
    }
   ],
   "source": [
    "y = np.array([[1, 2, 3, 4], [5, 6, 7, 8], [9, 10, 11, 12], [13, 14, 15, 16]])\n",
    "print(np.diag(y))\n",
    "np.diag(np.diag(y))"
   ]
  },
  {
   "cell_type": "markdown",
   "metadata": {},
   "source": [
    "`arange(begin, end, step)` returns evenly spaced values within a given interval. Note that the beginning point is included, but not the ending."
   ]
  },
  {
   "cell_type": "code",
   "execution_count": 14,
   "metadata": {},
   "outputs": [
    {
     "data": {
      "text/plain": [
       "array([ 0,  2,  4,  6,  8, 10, 12, 14, 16, 18, 20, 22, 24, 26, 28])"
      ]
     },
     "execution_count": 14,
     "metadata": {},
     "output_type": "execute_result"
    }
   ],
   "source": [
    "n = np.arange(0, 30, 2) # start at 0 count up by 2, stop before 30\n",
    "n"
   ]
  },
  {
   "cell_type": "code",
   "execution_count": 15,
   "metadata": {},
   "outputs": [
    {
     "data": {
      "text/plain": [
       "15"
      ]
     },
     "execution_count": 15,
     "metadata": {},
     "output_type": "execute_result"
    }
   ],
   "source": [
    "len(n)"
   ]
  },
  {
   "cell_type": "markdown",
   "metadata": {},
   "source": [
    "**Exercise 1**: Create an array of the first million of odd numbers, both with `arange` and using loops. Try timing both methods to see which one is faster. For that, use `%timeit`."
   ]
  },
  {
   "cell_type": "code",
   "execution_count": 16,
   "metadata": {},
   "outputs": [
    {
     "name": "stdout",
     "output_type": "stream",
     "text": [
      "966 µs ± 55.9 µs per loop (mean ± std. dev. of 7 runs, 1000 loops each)\n",
      "207 ms ± 2.86 ms per loop (mean ± std. dev. of 7 runs, 1 loop each)\n"
     ]
    }
   ],
   "source": [
    "%timeit np.arange(0, 2e6, 2)\n",
    "\n",
    "%timeit [i for i in range(2000000) if i % 2 == 0]"
   ]
  },
  {
   "cell_type": "markdown",
   "metadata": {},
   "source": [
    "Similarly, `linspace(begin, end, points)` returns evenly spaced numbers over a specified interval. Here, instead of specifying the step, you specify the amount of points you want. Also with `linspace` you include the ending of the interval."
   ]
  },
  {
   "cell_type": "code",
   "execution_count": 17,
   "metadata": {},
   "outputs": [
    {
     "data": {
      "text/plain": [
       "array([  0.        ,   2.14285714,   4.28571429,   6.42857143,\n",
       "         8.57142857,  10.71428571,  12.85714286,  15.        ,\n",
       "        17.14285714,  19.28571429,  21.42857143,  23.57142857,\n",
       "        25.71428571,  27.85714286,  30.        ])"
      ]
     },
     "execution_count": 17,
     "metadata": {},
     "output_type": "execute_result"
    }
   ],
   "source": [
    "o = np.linspace(0, 30, 15)\n",
    "o"
   ]
  },
  {
   "cell_type": "code",
   "execution_count": 18,
   "metadata": {},
   "outputs": [
    {
     "data": {
      "text/plain": [
       "15"
      ]
     },
     "execution_count": 18,
     "metadata": {},
     "output_type": "execute_result"
    }
   ],
   "source": [
    "len(o)"
   ]
  },
  {
   "cell_type": "markdown",
   "metadata": {},
   "source": [
    "`reshape` changes the shape of an array, but not its data. This is another of the commands that can be called before or after the array."
   ]
  },
  {
   "cell_type": "code",
   "execution_count": 19,
   "metadata": {
    "scrolled": true
   },
   "outputs": [
    {
     "name": "stdout",
     "output_type": "stream",
     "text": [
      "[[ 0  2  4  6  8]\n",
      " [10 12 14 16 18]\n",
      " [20 22 24 26 28]]\n"
     ]
    },
    {
     "data": {
      "text/plain": [
       "array([[ 0,  2,  4],\n",
       "       [ 6,  8, 10],\n",
       "       [12, 14, 16],\n",
       "       [18, 20, 22],\n",
       "       [24, 26, 28]])"
      ]
     },
     "execution_count": 19,
     "metadata": {},
     "output_type": "execute_result"
    }
   ],
   "source": [
    "print(n.reshape(3, 5))\n",
    "np.reshape(n, (5, 3))"
   ]
  },
  {
   "cell_type": "markdown",
   "metadata": {},
   "source": [
    "Note however that, in order for these changes to be permanent, you should do a reassignment of the variable"
   ]
  },
  {
   "cell_type": "code",
   "execution_count": 20,
   "metadata": {},
   "outputs": [
    {
     "name": "stdout",
     "output_type": "stream",
     "text": [
      "[ 0  2  4  6  8 10 12 14 16 18 20 22 24 26 28]\n"
     ]
    },
    {
     "data": {
      "text/plain": [
       "array([[ 0,  2,  4,  6,  8],\n",
       "       [10, 12, 14, 16, 18],\n",
       "       [20, 22, 24, 26, 28]])"
      ]
     },
     "execution_count": 20,
     "metadata": {},
     "output_type": "execute_result"
    }
   ],
   "source": [
    "print(n)  # After the reshapings above, the original array stays being the same\n",
    "\n",
    "n = n.reshape(3, 5)\n",
    "n   # Now that we have reassigned it is when it definitely changes shape"
   ]
  },
  {
   "cell_type": "markdown",
   "metadata": {},
   "source": [
    "### Combining Arrays\n",
    "\n",
    "The most general command for combining arrays is `concatenate(arrs, d)`. It takes a list of arrays and concatenates them along axis $d$"
   ]
  },
  {
   "cell_type": "code",
   "execution_count": 21,
   "metadata": {},
   "outputs": [
    {
     "data": {
      "text/plain": [
       "array([[[ 1.,  1.],\n",
       "        [ 1.,  1.]],\n",
       "\n",
       "       [[ 1.,  1.],\n",
       "        [ 1.,  1.]]])"
      ]
     },
     "execution_count": 21,
     "metadata": {},
     "output_type": "execute_result"
    }
   ],
   "source": [
    "p = np.ones([2, 2, 2])\n",
    "p"
   ]
  },
  {
   "cell_type": "code",
   "execution_count": 22,
   "metadata": {},
   "outputs": [
    {
     "data": {
      "text/plain": [
       "array([[[ 1.,  1.],\n",
       "        [ 1.,  1.]],\n",
       "\n",
       "       [[ 1.,  1.],\n",
       "        [ 1.,  1.]],\n",
       "\n",
       "       [[ 2.,  2.],\n",
       "        [ 2.,  2.]],\n",
       "\n",
       "       [[ 2.,  2.],\n",
       "        [ 2.,  2.]]])"
      ]
     },
     "execution_count": 22,
     "metadata": {},
     "output_type": "execute_result"
    }
   ],
   "source": [
    "np.concatenate([p, 2 * p], 0)"
   ]
  },
  {
   "cell_type": "code",
   "execution_count": 23,
   "metadata": {},
   "outputs": [
    {
     "data": {
      "text/plain": [
       "array([[[ 1.,  1.],\n",
       "        [ 1.,  1.],\n",
       "        [ 2.,  2.],\n",
       "        [ 2.,  2.]],\n",
       "\n",
       "       [[ 1.,  1.],\n",
       "        [ 1.,  1.],\n",
       "        [ 2.,  2.],\n",
       "        [ 2.,  2.]]])"
      ]
     },
     "execution_count": 23,
     "metadata": {},
     "output_type": "execute_result"
    }
   ],
   "source": [
    "np.concatenate([p, 2 * p], 1)"
   ]
  },
  {
   "cell_type": "code",
   "execution_count": 24,
   "metadata": {},
   "outputs": [
    {
     "data": {
      "text/plain": [
       "array([[[ 1.,  1.,  2.,  2.],\n",
       "        [ 1.,  1.,  2.,  2.]],\n",
       "\n",
       "       [[ 1.,  1.,  2.,  2.],\n",
       "        [ 1.,  1.,  2.,  2.]]])"
      ]
     },
     "execution_count": 24,
     "metadata": {},
     "output_type": "execute_result"
    }
   ],
   "source": [
    "np.concatenate([p, 2 * p], 2)"
   ]
  },
  {
   "cell_type": "markdown",
   "metadata": {},
   "source": [
    "However, for common combinations there exist special commands. Use `vstack` to stack arrays in sequence vertically (row wise), `hstack` to stack arrays in sequence horizontally (column wise), and `block` to create arrays out of blocks (only available in versions 1.13.0+)"
   ]
  },
  {
   "cell_type": "code",
   "execution_count": 25,
   "metadata": {},
   "outputs": [
    {
     "data": {
      "text/plain": [
       "array([[ 1.,  1.],\n",
       "       [ 1.,  1.],\n",
       "       [ 2.,  2.],\n",
       "       [ 2.,  2.]])"
      ]
     },
     "execution_count": 25,
     "metadata": {},
     "output_type": "execute_result"
    }
   ],
   "source": [
    "q = np.ones((2, 2))\n",
    "np.vstack([q, 2 * q])"
   ]
  },
  {
   "cell_type": "code",
   "execution_count": 26,
   "metadata": {},
   "outputs": [
    {
     "data": {
      "text/plain": [
       "array([[ 1.,  1.,  2.,  2.],\n",
       "       [ 1.,  1.,  2.,  2.]])"
      ]
     },
     "execution_count": 26,
     "metadata": {},
     "output_type": "execute_result"
    }
   ],
   "source": [
    "np.hstack([q, 2 * q])"
   ]
  },
  {
   "cell_type": "code",
   "execution_count": 27,
   "metadata": {},
   "outputs": [
    {
     "data": {
      "text/plain": [
       "array([[ 1.,  1.,  0.,  0.],\n",
       "       [ 1.,  1.,  0.,  0.],\n",
       "       [ 0.,  0.,  2.,  2.],\n",
       "       [ 0.,  0.,  2.,  2.]])"
      ]
     },
     "execution_count": 27,
     "metadata": {},
     "output_type": "execute_result"
    }
   ],
   "source": [
    "np.block([[q, np.zeros((2, 2))], [np.zeros((2, 2)), 2 * q]])"
   ]
  },
  {
   "cell_type": "markdown",
   "metadata": {},
   "source": [
    "### Operations\n",
    "\n",
    "You can perform easily element-wise operations on arrays of any shape. Use the typical symbols, +, -, \\*, / and \\*\\* to perform element-wise addition, subtraction, multiplication, division and power."
   ]
  },
  {
   "cell_type": "code",
   "execution_count": 28,
   "metadata": {},
   "outputs": [
    {
     "name": "stdout",
     "output_type": "stream",
     "text": [
      "[1 2 3]\n",
      "[11 12 13]\n",
      "[3 6 9]\n",
      "[ 1.          0.5         0.33333333]\n",
      "[ 1.          0.62996052  0.48074986]\n",
      "[2 4 8]\n"
     ]
    }
   ],
   "source": [
    "x = np.array([1, 2, 3])\n",
    "print(x)\n",
    "print(x + 10)\n",
    "print(3 * x)\n",
    "print(1 / x)\n",
    "print(x ** (-2 / 3))\n",
    "print(2 ** x)"
   ]
  },
  {
   "cell_type": "markdown",
   "metadata": {},
   "source": [
    "Also (and obviously) these symbols can be used to operate between two arrays, which must be of the same shape. If this is the case, they also do element-wise operations"
   ]
  },
  {
   "cell_type": "code",
   "execution_count": 29,
   "metadata": {},
   "outputs": [
    {
     "name": "stdout",
     "output_type": "stream",
     "text": [
      "[5 7 9]\n",
      "[ 4 10 18]\n",
      "[ 0.25  0.4   0.5 ]\n",
      "[  1  32 729]\n"
     ]
    }
   ],
   "source": [
    "y = np.arange(4, 7, 1)\n",
    "print(x + y)     # [1+4, 2+5, 3+6]\n",
    "print(x * y)     # [1*4, 2*5, 3*6]\n",
    "print(x / y)     # [1/4, 2/5, 3/6]\n",
    "print(x ** y)    # [1**4, 2**5, 3**6]"
   ]
  },
  {
   "cell_type": "markdown",
   "metadata": {},
   "source": [
    "For doing vector or matrix multiplication, the command to be used is `dot`"
   ]
  },
  {
   "cell_type": "code",
   "execution_count": 30,
   "metadata": {},
   "outputs": [
    {
     "data": {
      "text/plain": [
       "32"
      ]
     },
     "execution_count": 30,
     "metadata": {},
     "output_type": "execute_result"
    }
   ],
   "source": [
    "x.dot(y) # 1*4 + 2*5 + 3*6"
   ]
  },
  {
   "cell_type": "markdown",
   "metadata": {},
   "source": [
    "With python 3.5 matrix multiplication got it's own operator"
   ]
  },
  {
   "cell_type": "code",
   "execution_count": 31,
   "metadata": {},
   "outputs": [
    {
     "data": {
      "text/plain": [
       "32"
      ]
     },
     "execution_count": 31,
     "metadata": {},
     "output_type": "execute_result"
    }
   ],
   "source": [
    "x@y"
   ]
  },
  {
   "cell_type": "code",
   "execution_count": 32,
   "metadata": {},
   "outputs": [
    {
     "name": "stdout",
     "output_type": "stream",
     "text": [
      "[[3 4 5]\n",
      " [4 5 6]\n",
      " [5 6 7]]\n",
      "\n",
      "[[0 4 0]\n",
      " [0 0 6]\n",
      " [5 0 0]]\n"
     ]
    },
    {
     "data": {
      "text/plain": [
       "array([[5, 3, 4],\n",
       "       [6, 4, 5],\n",
       "       [7, 5, 6]])"
      ]
     },
     "execution_count": 32,
     "metadata": {},
     "output_type": "execute_result"
    }
   ],
   "source": [
    "X = np.array([[i + j for i in range(3, 6)] for j in range(3)])\n",
    "Y = np.diag([1, 1], 1) + np.diag([1], -2)\n",
    "\n",
    "print('{}\\n'.format(X))\n",
    "print(X * Y)\n",
    "np.dot(X, Y)"
   ]
  },
  {
   "cell_type": "markdown",
   "metadata": {},
   "source": [
    "**Exercise 2**: Take a 10x2 matrix representing $(x1,x2)$ coordinates and transform them into polar coordinates $(r,\\theta)$.\n",
    "\n",
    "*Hint 1: the inverse transformation is given by $x1 = r\\cos\\theta$, $x2 = r\\sin\\theta$*\n",
    "\n",
    "*Hint 2: generate random numbers with the functions in numpy.random*"
   ]
  },
  {
   "cell_type": "code",
   "execution_count": 33,
   "metadata": {},
   "outputs": [
    {
     "name": "stdout",
     "output_type": "stream",
     "text": [
      "[ 0.88919595  0.67700298  0.43657171  0.99695062  0.09369465  0.42234775\n",
      "  0.9362286   0.56539581  1.01339843  0.72450275]\n",
      "[ 0.08591593  1.31038962  1.40461825  0.53314706  1.36699826  1.2306954\n",
      "  0.49694134  0.68438617  0.83524534  1.54853991]\n"
     ]
    }
   ],
   "source": [
    "z = np.random.random((10, 2))\n",
    "x1, x2 = z[:, 0], z[:, 1]\n",
    "R = np.sqrt(x1 ** 2 + x2 ** 2)\n",
    "T = np.arctan2(x2, x1)\n",
    "print(R)\n",
    "print(T)"
   ]
  },
  {
   "cell_type": "markdown",
   "metadata": {},
   "source": [
    "#### Transposing\n",
    "\n",
    "Transposition is a very important operation for linear algebra. Although NumPy is capable of correctly doing matrix-vector products correctly regardless of the orientation of the vector, it is not the case for products of matrices"
   ]
  },
  {
   "cell_type": "code",
   "execution_count": 34,
   "metadata": {
    "collapsed": true
   },
   "outputs": [],
   "source": [
    "Z = np.arange(0, 12, 1).reshape((4, 3))"
   ]
  },
  {
   "cell_type": "code",
   "execution_count": 35,
   "metadata": {},
   "outputs": [
    {
     "data": {
      "text/plain": [
       "array([ 17,  62, 107, 152])"
      ]
     },
     "execution_count": 35,
     "metadata": {},
     "output_type": "execute_result"
    }
   ],
   "source": [
    "np.dot(Z, y)"
   ]
  },
  {
   "cell_type": "code",
   "execution_count": 36,
   "metadata": {},
   "outputs": [
    {
     "data": {
      "text/plain": [
       "array([ 17,  62, 107, 152])"
      ]
     },
     "execution_count": 36,
     "metadata": {},
     "output_type": "execute_result"
    }
   ],
   "source": [
    "np.dot(Z, y.T)"
   ]
  },
  {
   "cell_type": "code",
   "execution_count": 37,
   "metadata": {},
   "outputs": [
    {
     "data": {
      "text/plain": [
       "array([[ 14,  17,  20],\n",
       "       [ 50,  62,  74],\n",
       "       [ 86, 107, 128],\n",
       "       [122, 152, 182]])"
      ]
     },
     "execution_count": 37,
     "metadata": {},
     "output_type": "execute_result"
    }
   ],
   "source": [
    "Z.dot(X)"
   ]
  },
  {
   "cell_type": "code",
   "execution_count": 38,
   "metadata": {},
   "outputs": [
    {
     "ename": "ValueError",
     "evalue": "shapes (3,4) and (3,3) not aligned: 4 (dim 1) != 3 (dim 0)",
     "output_type": "error",
     "traceback": [
      "\u001b[0;31m---------------------------------------------------------------------------\u001b[0m",
      "\u001b[0;31mValueError\u001b[0m                                Traceback (most recent call last)",
      "\u001b[0;32m<ipython-input-38-2e11f30e177d>\u001b[0m in \u001b[0;36m<module>\u001b[0;34m()\u001b[0m\n\u001b[0;32m----> 1\u001b[0;31m \u001b[0;34m(\u001b[0m\u001b[0mZ\u001b[0m\u001b[0;34m.\u001b[0m\u001b[0mT\u001b[0m\u001b[0;34m)\u001b[0m\u001b[0;34m.\u001b[0m\u001b[0mdot\u001b[0m\u001b[0;34m(\u001b[0m\u001b[0mX\u001b[0m\u001b[0;34m)\u001b[0m\u001b[0;34m\u001b[0m\u001b[0m\n\u001b[0m",
      "\u001b[0;31mValueError\u001b[0m: shapes (3,4) and (3,3) not aligned: 4 (dim 1) != 3 (dim 0)"
     ]
    }
   ],
   "source": [
    "(Z.T).dot(X)"
   ]
  },
  {
   "cell_type": "markdown",
   "metadata": {},
   "source": [
    "#### Array Methods\n",
    "\n",
    "To not have to go from NumPy arrays to lists back and forth, NumPy contains some functions to know properties of your arrays. Actually, there are more of these functions than in standard Python."
   ]
  },
  {
   "cell_type": "code",
   "execution_count": 39,
   "metadata": {},
   "outputs": [
    {
     "name": "stdout",
     "output_type": "stream",
     "text": [
      "5\n",
      "-4\n",
      "3\n",
      "0.6\n",
      "3.26190128606\n"
     ]
    }
   ],
   "source": [
    "a = np.array([-4, -2, 1, 3, 5])\n",
    "print(a.max())\n",
    "print(a.min())\n",
    "print(a.sum())\n",
    "print(a.mean())\n",
    "print(a.std())"
   ]
  },
  {
   "cell_type": "markdown",
   "metadata": {},
   "source": [
    "Some interesting functions are `argmax` and `argmin`, which return the index of the maximum and minimum values in the array."
   ]
  },
  {
   "cell_type": "code",
   "execution_count": 40,
   "metadata": {},
   "outputs": [
    {
     "name": "stdout",
     "output_type": "stream",
     "text": [
      "4\n",
      "0\n"
     ]
    }
   ],
   "source": [
    "print(a.argmax())\n",
    "print(a.argmin())"
   ]
  },
  {
   "cell_type": "markdown",
   "metadata": {},
   "source": [
    "### Indexing/Slicing\n",
    "\n",
    "We have already seen briefly that to access individual elements you use the bracket notation: `array[ax_0, ax_1, ...]`, where the `ax_i` denotes the coordinate in the `i`-th axis. You can even use this to assign new values to your elements."
   ]
  },
  {
   "cell_type": "code",
   "execution_count": 41,
   "metadata": {},
   "outputs": [
    {
     "name": "stdout",
     "output_type": "stream",
     "text": [
      "6\n"
     ]
    },
    {
     "data": {
      "text/plain": [
       "[198, 5, 6, 7]"
      ]
     },
     "execution_count": 41,
     "metadata": {},
     "output_type": "execute_result"
    }
   ],
   "source": [
    "r = [4, 5, 6, 7]\n",
    "print(r[2])\n",
    "r[0] = 198\n",
    "r"
   ]
  },
  {
   "cell_type": "markdown",
   "metadata": {},
   "source": [
    "To select a range of rows or columns you can use a colon :. A second : can be used to indicate the step size. `array[start:stop:stepsize]`. If you leave `start` (`stop`) blank, the selection will go from the very beginning (until the very end) of the array"
   ]
  },
  {
   "cell_type": "code",
   "execution_count": 42,
   "metadata": {},
   "outputs": [
    {
     "name": "stdout",
     "output_type": "stream",
     "text": [
      "[  0   1   4   9  16  25  36  49  64  81 100 121 144]\n",
      "[ 9 16 25 36 49 64]\n",
      "[ 4 25 64]\n"
     ]
    },
    {
     "data": {
      "text/plain": [
       "array([64, 36, 16,  4,  0])"
      ]
     },
     "execution_count": 42,
     "metadata": {},
     "output_type": "execute_result"
    }
   ],
   "source": [
    "s = np.arange(13)**2\n",
    "print(s)\n",
    "print(s[3:9])\n",
    "print(s[2:10:3])\n",
    "s[-5::-2]"
   ]
  },
  {
   "cell_type": "markdown",
   "metadata": {},
   "source": [
    "The same applies to matrices or higher-dimensional arrays"
   ]
  },
  {
   "cell_type": "code",
   "execution_count": 43,
   "metadata": {},
   "outputs": [
    {
     "data": {
      "text/plain": [
       "array([[ 0,  1,  2,  3,  4,  5],\n",
       "       [ 6,  7,  8,  9, 10, 11],\n",
       "       [12, 13, 14, 15, 16, 17],\n",
       "       [18, 19, 20, 21, 22, 23],\n",
       "       [24, 25, 26, 27, 28, 29],\n",
       "       [30, 31, 32, 33, 34, 35]])"
      ]
     },
     "execution_count": 43,
     "metadata": {},
     "output_type": "execute_result"
    }
   ],
   "source": [
    "r = np.arange(36).reshape((6, 6))\n",
    "r"
   ]
  },
  {
   "cell_type": "code",
   "execution_count": 44,
   "metadata": {},
   "outputs": [
    {
     "data": {
      "text/plain": [
       "array([[13, 14],\n",
       "       [19, 20],\n",
       "       [25, 26]])"
      ]
     },
     "execution_count": 44,
     "metadata": {},
     "output_type": "execute_result"
    }
   ],
   "source": [
    "r[2:5, 1:3]"
   ]
  },
  {
   "cell_type": "markdown",
   "metadata": {},
   "source": [
    "You can also select specific rows and columns, separated by commas"
   ]
  },
  {
   "cell_type": "code",
   "execution_count": 45,
   "metadata": {},
   "outputs": [
    {
     "data": {
      "text/plain": [
       "array([[ 7,  8],\n",
       "       [19, 20],\n",
       "       [25, 26]])"
      ]
     },
     "execution_count": 45,
     "metadata": {},
     "output_type": "execute_result"
    }
   ],
   "source": [
    "r[[1, 3, 4], 1:3]"
   ]
  },
  {
   "cell_type": "markdown",
   "metadata": {},
   "source": [
    "A very useful tool is *conditional indexing*, where we apply a function, assignment... only to those elements of an array that satisfy some condition"
   ]
  },
  {
   "cell_type": "code",
   "execution_count": 46,
   "metadata": {},
   "outputs": [
    {
     "data": {
      "text/plain": [
       "array([[ 0,  1,  2,  3,  4,  5],\n",
       "       [ 6,  7,  8,  9, 10, 11],\n",
       "       [12, 13, 14, 15, 16, 17],\n",
       "       [18, 19, 20, 21, 22, 23],\n",
       "       [24, 25, 26, 27, 28, 29],\n",
       "       [30, 30, 30, 30, 30, 30]])"
      ]
     },
     "execution_count": 46,
     "metadata": {},
     "output_type": "execute_result"
    }
   ],
   "source": [
    "r[r > 30] = 30\n",
    "r"
   ]
  },
  {
   "cell_type": "markdown",
   "metadata": {},
   "source": [
    "**Exercise 3**: Create a random 1-dimensional array, and find which element is closest to 0.7"
   ]
  },
  {
   "cell_type": "code",
   "execution_count": 47,
   "metadata": {},
   "outputs": [
    {
     "name": "stdout",
     "output_type": "stream",
     "text": [
      "0.705902515629\n"
     ]
    }
   ],
   "source": [
    "Z = np.random.uniform(0,1,100)\n",
    "z = 0.7\n",
    "m = Z[np.abs(Z - z).argmin()]\n",
    "print(m)"
   ]
  },
  {
   "cell_type": "markdown",
   "metadata": {},
   "source": [
    "#### Copying Data\n",
    "\n",
    "**Be very careful with copying and modifying arrays in NumPy!** You will see the reason right now. Let's begin defining `r2` as a slice of r"
   ]
  },
  {
   "cell_type": "code",
   "execution_count": 48,
   "metadata": {},
   "outputs": [
    {
     "data": {
      "text/plain": [
       "array([[ 0,  1,  2],\n",
       "       [ 6,  7,  8],\n",
       "       [12, 13, 14]])"
      ]
     },
     "execution_count": 48,
     "metadata": {},
     "output_type": "execute_result"
    }
   ],
   "source": [
    "r2 = r[:3,:3]\n",
    "r2"
   ]
  },
  {
   "cell_type": "markdown",
   "metadata": {},
   "source": [
    "And now let's set all its elements to zero"
   ]
  },
  {
   "cell_type": "code",
   "execution_count": 49,
   "metadata": {},
   "outputs": [
    {
     "data": {
      "text/plain": [
       "array([[0, 0, 0],\n",
       "       [0, 0, 0],\n",
       "       [0, 0, 0]])"
      ]
     },
     "execution_count": 49,
     "metadata": {},
     "output_type": "execute_result"
    }
   ],
   "source": [
    "r2[:] = 0\n",
    "r2"
   ]
  },
  {
   "cell_type": "markdown",
   "metadata": {},
   "source": [
    "When looking at `r`, we see that it has also been changed!"
   ]
  },
  {
   "cell_type": "code",
   "execution_count": 50,
   "metadata": {},
   "outputs": [
    {
     "data": {
      "text/plain": [
       "array([[ 0,  0,  0,  3,  4,  5],\n",
       "       [ 0,  0,  0,  9, 10, 11],\n",
       "       [ 0,  0,  0, 15, 16, 17],\n",
       "       [18, 19, 20, 21, 22, 23],\n",
       "       [24, 25, 26, 27, 28, 29],\n",
       "       [30, 30, 30, 30, 30, 30]])"
      ]
     },
     "execution_count": 50,
     "metadata": {},
     "output_type": "execute_result"
    }
   ],
   "source": [
    "r"
   ]
  },
  {
   "cell_type": "markdown",
   "metadata": {},
   "source": [
    "The proper way of handling selections without modifying the original arrays is through the `copy` command."
   ]
  },
  {
   "cell_type": "code",
   "execution_count": 51,
   "metadata": {},
   "outputs": [
    {
     "data": {
      "text/plain": [
       "array([[ 0,  0,  0,  3,  4,  5],\n",
       "       [ 0,  0,  0,  9, 10, 11],\n",
       "       [ 0,  0,  0, 15, 16, 17],\n",
       "       [18, 19, 20, 21, 22, 23],\n",
       "       [24, 25, 26, 27, 28, 29],\n",
       "       [30, 30, 30, 30, 30, 30]])"
      ]
     },
     "execution_count": 51,
     "metadata": {},
     "output_type": "execute_result"
    }
   ],
   "source": [
    "r_copy = r.copy()\n",
    "r_copy"
   ]
  },
  {
   "cell_type": "markdown",
   "metadata": {},
   "source": [
    "Now we can safely modify `r_copy` without affecting `r`."
   ]
  },
  {
   "cell_type": "code",
   "execution_count": 52,
   "metadata": {},
   "outputs": [
    {
     "name": "stdout",
     "output_type": "stream",
     "text": [
      "[[10 10 10 10 10 10]\n",
      " [10 10 10 10 10 10]\n",
      " [10 10 10 10 10 10]\n",
      " [10 10 10 10 10 10]\n",
      " [10 10 10 10 10 10]\n",
      " [10 10 10 10 10 10]]\n",
      "\n"
     ]
    },
    {
     "data": {
      "text/plain": [
       "array([[ 0,  0,  0,  3,  4,  5],\n",
       "       [ 0,  0,  0,  9, 10, 11],\n",
       "       [ 0,  0,  0, 15, 16, 17],\n",
       "       [18, 19, 20, 21, 22, 23],\n",
       "       [24, 25, 26, 27, 28, 29],\n",
       "       [30, 30, 30, 30, 30, 30]])"
      ]
     },
     "execution_count": 52,
     "metadata": {},
     "output_type": "execute_result"
    }
   ],
   "source": [
    "r_copy[:] = 10\n",
    "print('{}\\n'.format(r_copy))\n",
    "r"
   ]
  },
  {
   "cell_type": "markdown",
   "metadata": {},
   "source": [
    "### Iterating Over Arrays"
   ]
  },
  {
   "cell_type": "markdown",
   "metadata": {},
   "source": [
    "Finally, you can iterate over arrays in the same way as you iterate over lists"
   ]
  },
  {
   "cell_type": "code",
   "execution_count": 53,
   "metadata": {},
   "outputs": [
    {
     "data": {
      "text/plain": [
       "array([[1, 6, 0],\n",
       "       [4, 8, 0],\n",
       "       [2, 1, 6],\n",
       "       [1, 7, 4]])"
      ]
     },
     "execution_count": 53,
     "metadata": {},
     "output_type": "execute_result"
    }
   ],
   "source": [
    "test = np.random.randint(0, 10, (4,3))\n",
    "test"
   ]
  },
  {
   "cell_type": "markdown",
   "metadata": {},
   "source": [
    "You can iterate by row:"
   ]
  },
  {
   "cell_type": "code",
   "execution_count": 54,
   "metadata": {},
   "outputs": [
    {
     "name": "stdout",
     "output_type": "stream",
     "text": [
      "[1 6 0]\n",
      "[4 8 0]\n",
      "[2 1 6]\n",
      "[1 7 4]\n"
     ]
    }
   ],
   "source": [
    "for row in test:\n",
    "    print(row)"
   ]
  },
  {
   "cell_type": "markdown",
   "metadata": {},
   "source": [
    "Or by row index"
   ]
  },
  {
   "cell_type": "code",
   "execution_count": 55,
   "metadata": {},
   "outputs": [
    {
     "name": "stdout",
     "output_type": "stream",
     "text": [
      "[1 6 0]\n",
      "[4 8 0]\n",
      "[2 1 6]\n",
      "[1 7 4]\n"
     ]
    }
   ],
   "source": [
    "for i in range(len(test)):\n",
    "    print(test[i])"
   ]
  },
  {
   "cell_type": "markdown",
   "metadata": {},
   "source": [
    "Or by row and index:"
   ]
  },
  {
   "cell_type": "code",
   "execution_count": 56,
   "metadata": {},
   "outputs": [
    {
     "name": "stdout",
     "output_type": "stream",
     "text": [
      "Row 0 is [1 6 0]\n",
      "Row 1 is [4 8 0]\n",
      "Row 2 is [2 1 6]\n",
      "Row 3 is [1 7 4]\n"
     ]
    }
   ],
   "source": [
    "for i, row in enumerate(test):\n",
    "    print('Row {} is {}'.format(i, row))"
   ]
  },
  {
   "cell_type": "markdown",
   "metadata": {},
   "source": [
    "In the same way as with lists, you can use `zip` to iterate over multiple iterables."
   ]
  },
  {
   "cell_type": "code",
   "execution_count": 57,
   "metadata": {},
   "outputs": [
    {
     "data": {
      "text/plain": [
       "array([[ 1, 36,  0],\n",
       "       [16, 64,  0],\n",
       "       [ 4,  1, 36],\n",
       "       [ 1, 49, 16]])"
      ]
     },
     "execution_count": 57,
     "metadata": {},
     "output_type": "execute_result"
    }
   ],
   "source": [
    "test2 = test**2\n",
    "test2"
   ]
  },
  {
   "cell_type": "code",
   "execution_count": 58,
   "metadata": {
    "scrolled": true
   },
   "outputs": [
    {
     "name": "stdout",
     "output_type": "stream",
     "text": [
      "[1 6 0] + [ 1 36  0] = [ 2 42  0]\n",
      "[4 8 0] + [16 64  0] = [20 72  0]\n",
      "[2 1 6] + [ 4  1 36] = [ 6  2 42]\n",
      "[1 7 4] + [ 1 49 16] = [ 2 56 20]\n"
     ]
    }
   ],
   "source": [
    "for i, j in zip(test, test2):\n",
    "    print('{} + {} = {}'.format(i, j, i + j))"
   ]
  },
  {
   "cell_type": "markdown",
   "metadata": {},
   "source": [
    "**Exercise 4**: Create a function that iterates over the columns of a 2-dimensional array"
   ]
  },
  {
   "cell_type": "code",
   "execution_count": 59,
   "metadata": {},
   "outputs": [
    {
     "name": "stdout",
     "output_type": "stream",
     "text": [
      "Column 0 is [[1]\n",
      " [4]\n",
      " [2]\n",
      " [1]]\n",
      "Column 1 is [[6]\n",
      " [8]\n",
      " [1]\n",
      " [7]]\n",
      "Column 2 is [[0]\n",
      " [0]\n",
      " [6]\n",
      " [4]]\n"
     ]
    }
   ],
   "source": [
    "def iterate(df):\n",
    "    for i, row in enumerate(df):\n",
    "        shp = row.shape\n",
    "        row.shape = shp + (1,)\n",
    "        print('Column {} is {}'.format(i, row))\n",
    "\n",
    "iterate(test.T)"
   ]
  },
  {
   "cell_type": "markdown",
   "metadata": {},
   "source": [
    "### Loading and Saving Data\n",
    "\n",
    "To load and save data NumPy has the `loadtxt` and `savetxt` commands. However, they only work for two-dimensional arrays"
   ]
  },
  {
   "cell_type": "code",
   "execution_count": 60,
   "metadata": {},
   "outputs": [
    {
     "data": {
      "text/plain": [
       "array([[ 1.,  6.,  0.],\n",
       "       [ 4.,  8.,  0.],\n",
       "       [ 2.,  1.,  6.],\n",
       "       [ 1.,  7.,  4.]])"
      ]
     },
     "execution_count": 60,
     "metadata": {},
     "output_type": "execute_result"
    }
   ],
   "source": [
    "np.savetxt('numpytest.txt', test)\n",
    "np.loadtxt('numpytest.txt')"
   ]
  },
  {
   "cell_type": "markdown",
   "metadata": {},
   "source": [
    "## Pandas\n",
    "\n",
    "When dealing with numeric matrices and vectors in Python, NumPy makes life a lot easier. For more complex data, however, it leaves a bit to be desired. For those used to working with dedicated languages like R, doing data analysis directly with numpy feels like a step back. Fortunately, some nice folks have written the Python Data Analysis Library (a.k.a. [pandas](http://pandas.pydata.org/)). Pandas provides an R-like DataFrame, produces high quality plots with matplotlib, and integrates nicely with other libraries that expect NumPy arrays.\n",
    "\n",
    "Pandas works with `Series` of data, that then are arranged in `DataFrame`s. A dataframe will be the object closest to an Excel spreadsheet that you will see throughout the course (but of course, given that it is integrated in Python and can be combined with so many different packages, dataframes are much more powerful than Excel spreadsheets). The data in the series can be either qualitative or quantitative data. Creating a series is as easy as creating a NumPy array from a one-dimensional list."
   ]
  },
  {
   "cell_type": "code",
   "execution_count": 61,
   "metadata": {},
   "outputs": [
    {
     "data": {
      "text/plain": [
       "0    Tiger\n",
       "1     Bear\n",
       "2    Moose\n",
       "dtype: object"
      ]
     },
     "execution_count": 61,
     "metadata": {},
     "output_type": "execute_result"
    }
   ],
   "source": [
    "animals = ['Tiger', 'Bear', 'Moose']\n",
    "pd.Series(animals)"
   ]
  },
  {
   "cell_type": "code",
   "execution_count": 62,
   "metadata": {},
   "outputs": [
    {
     "data": {
      "text/plain": [
       "0    1\n",
       "1    2\n",
       "2    3\n",
       "dtype: int64"
      ]
     },
     "execution_count": 62,
     "metadata": {},
     "output_type": "execute_result"
    }
   ],
   "source": [
    "numbers = [1, 2, 3]\n",
    "pd.Series(numbers)"
   ]
  },
  {
   "cell_type": "markdown",
   "metadata": {},
   "source": [
    "Notice that the series is indexed by default by integers. You can change this indexing by using a dictionary instead of a list for creating the series."
   ]
  },
  {
   "cell_type": "code",
   "execution_count": 63,
   "metadata": {},
   "outputs": [
    {
     "data": {
      "text/plain": [
       "Archery           Bhutan\n",
       "Golf            Scotland\n",
       "Sumo               Japan\n",
       "Taekwondo    South Korea\n",
       "dtype: object"
      ]
     },
     "execution_count": 63,
     "metadata": {},
     "output_type": "execute_result"
    }
   ],
   "source": [
    "sports = {'Archery': 'Bhutan',\n",
    "          'Golf': 'Scotland',\n",
    "          'Sumo': 'Japan',\n",
    "          'Taekwondo': 'South Korea'}\n",
    "s = pd.Series(sports)\n",
    "s"
   ]
  },
  {
   "cell_type": "markdown",
   "metadata": {},
   "source": [
    "On the other hand, `DataFrame`s can be built from two-dimensional arrays, with the ability of labelling columns and indexing the rows"
   ]
  },
  {
   "cell_type": "code",
   "execution_count": 64,
   "metadata": {},
   "outputs": [
    {
     "data": {
      "text/html": [
       "<div>\n",
       "<style scoped>\n",
       "    .dataframe tbody tr th:only-of-type {\n",
       "        vertical-align: middle;\n",
       "    }\n",
       "\n",
       "    .dataframe tbody tr th {\n",
       "        vertical-align: top;\n",
       "    }\n",
       "\n",
       "    .dataframe thead th {\n",
       "        text-align: right;\n",
       "    }\n",
       "</style>\n",
       "<table border=\"1\" class=\"dataframe\">\n",
       "  <thead>\n",
       "    <tr style=\"text-align: right;\">\n",
       "      <th></th>\n",
       "      <th>A</th>\n",
       "      <th>B</th>\n",
       "      <th>C</th>\n",
       "      <th>D</th>\n",
       "      <th>E</th>\n",
       "      <th>F</th>\n",
       "    </tr>\n",
       "  </thead>\n",
       "  <tbody>\n",
       "    <tr>\n",
       "      <th>0</th>\n",
       "      <td>-0.761486</td>\n",
       "      <td>-1.856963</td>\n",
       "      <td>-0.259506</td>\n",
       "      <td>-0.965839</td>\n",
       "      <td>0.595335</td>\n",
       "      <td>-1.393989</td>\n",
       "    </tr>\n",
       "    <tr>\n",
       "      <th>3</th>\n",
       "      <td>0.730582</td>\n",
       "      <td>-1.933338</td>\n",
       "      <td>0.159036</td>\n",
       "      <td>-0.303658</td>\n",
       "      <td>0.285985</td>\n",
       "      <td>-0.015358</td>\n",
       "    </tr>\n",
       "    <tr>\n",
       "      <th>6</th>\n",
       "      <td>1.181648</td>\n",
       "      <td>-0.308067</td>\n",
       "      <td>0.194845</td>\n",
       "      <td>-0.110363</td>\n",
       "      <td>-0.377039</td>\n",
       "      <td>-0.563322</td>\n",
       "    </tr>\n",
       "    <tr>\n",
       "      <th>9</th>\n",
       "      <td>-0.207188</td>\n",
       "      <td>0.887225</td>\n",
       "      <td>-0.089879</td>\n",
       "      <td>1.535221</td>\n",
       "      <td>-0.178550</td>\n",
       "      <td>-0.119188</td>\n",
       "    </tr>\n",
       "    <tr>\n",
       "      <th>12</th>\n",
       "      <td>-1.452087</td>\n",
       "      <td>-1.678056</td>\n",
       "      <td>0.442135</td>\n",
       "      <td>0.815065</td>\n",
       "      <td>-0.788070</td>\n",
       "      <td>0.865199</td>\n",
       "    </tr>\n",
       "    <tr>\n",
       "      <th>15</th>\n",
       "      <td>-0.312236</td>\n",
       "      <td>0.405971</td>\n",
       "      <td>-0.916694</td>\n",
       "      <td>-1.570857</td>\n",
       "      <td>-1.808676</td>\n",
       "      <td>-0.601334</td>\n",
       "    </tr>\n",
       "    <tr>\n",
       "      <th>18</th>\n",
       "      <td>-0.520655</td>\n",
       "      <td>0.520683</td>\n",
       "      <td>-0.420893</td>\n",
       "      <td>0.866483</td>\n",
       "      <td>0.707625</td>\n",
       "      <td>-0.457042</td>\n",
       "    </tr>\n",
       "    <tr>\n",
       "      <th>21</th>\n",
       "      <td>-0.763168</td>\n",
       "      <td>1.941782</td>\n",
       "      <td>-0.345903</td>\n",
       "      <td>-1.078514</td>\n",
       "      <td>-2.348245</td>\n",
       "      <td>-0.507215</td>\n",
       "    </tr>\n",
       "    <tr>\n",
       "      <th>24</th>\n",
       "      <td>0.286458</td>\n",
       "      <td>-0.203965</td>\n",
       "      <td>2.202701</td>\n",
       "      <td>0.305345</td>\n",
       "      <td>-0.373617</td>\n",
       "      <td>-0.516685</td>\n",
       "    </tr>\n",
       "    <tr>\n",
       "      <th>27</th>\n",
       "      <td>0.483357</td>\n",
       "      <td>0.582012</td>\n",
       "      <td>0.151425</td>\n",
       "      <td>-0.280406</td>\n",
       "      <td>-1.193848</td>\n",
       "      <td>0.074661</td>\n",
       "    </tr>\n",
       "    <tr>\n",
       "      <th>30</th>\n",
       "      <td>0.251333</td>\n",
       "      <td>-0.984670</td>\n",
       "      <td>-1.126600</td>\n",
       "      <td>1.437455</td>\n",
       "      <td>1.144455</td>\n",
       "      <td>0.916344</td>\n",
       "    </tr>\n",
       "    <tr>\n",
       "      <th>33</th>\n",
       "      <td>0.501224</td>\n",
       "      <td>-1.196463</td>\n",
       "      <td>-0.890707</td>\n",
       "      <td>-0.330306</td>\n",
       "      <td>1.701601</td>\n",
       "      <td>0.195782</td>\n",
       "    </tr>\n",
       "    <tr>\n",
       "      <th>36</th>\n",
       "      <td>-0.493956</td>\n",
       "      <td>-1.001679</td>\n",
       "      <td>-0.944730</td>\n",
       "      <td>0.740723</td>\n",
       "      <td>0.359925</td>\n",
       "      <td>1.290009</td>\n",
       "    </tr>\n",
       "    <tr>\n",
       "      <th>39</th>\n",
       "      <td>-0.616836</td>\n",
       "      <td>0.040601</td>\n",
       "      <td>0.839057</td>\n",
       "      <td>0.233386</td>\n",
       "      <td>0.572832</td>\n",
       "      <td>-0.672458</td>\n",
       "    </tr>\n",
       "    <tr>\n",
       "      <th>42</th>\n",
       "      <td>-1.017777</td>\n",
       "      <td>0.913523</td>\n",
       "      <td>-2.204982</td>\n",
       "      <td>-0.398876</td>\n",
       "      <td>1.027856</td>\n",
       "      <td>-0.112541</td>\n",
       "    </tr>\n",
       "    <tr>\n",
       "      <th>45</th>\n",
       "      <td>1.037946</td>\n",
       "      <td>1.087577</td>\n",
       "      <td>-0.024363</td>\n",
       "      <td>-1.386254</td>\n",
       "      <td>-0.700079</td>\n",
       "      <td>-0.451928</td>\n",
       "    </tr>\n",
       "    <tr>\n",
       "      <th>48</th>\n",
       "      <td>0.590588</td>\n",
       "      <td>1.912149</td>\n",
       "      <td>0.382943</td>\n",
       "      <td>1.103702</td>\n",
       "      <td>-0.174166</td>\n",
       "      <td>-0.475542</td>\n",
       "    </tr>\n",
       "    <tr>\n",
       "      <th>51</th>\n",
       "      <td>0.123948</td>\n",
       "      <td>-1.953421</td>\n",
       "      <td>-0.829696</td>\n",
       "      <td>0.385270</td>\n",
       "      <td>-1.386090</td>\n",
       "      <td>0.290291</td>\n",
       "    </tr>\n",
       "    <tr>\n",
       "      <th>54</th>\n",
       "      <td>-0.775569</td>\n",
       "      <td>2.293993</td>\n",
       "      <td>-0.889644</td>\n",
       "      <td>-0.786743</td>\n",
       "      <td>0.471794</td>\n",
       "      <td>0.610733</td>\n",
       "    </tr>\n",
       "    <tr>\n",
       "      <th>57</th>\n",
       "      <td>0.237778</td>\n",
       "      <td>-2.610199</td>\n",
       "      <td>-0.629762</td>\n",
       "      <td>0.555422</td>\n",
       "      <td>0.843687</td>\n",
       "      <td>-2.165088</td>\n",
       "    </tr>\n",
       "    <tr>\n",
       "      <th>60</th>\n",
       "      <td>-0.971872</td>\n",
       "      <td>1.174113</td>\n",
       "      <td>0.521214</td>\n",
       "      <td>0.634707</td>\n",
       "      <td>0.373459</td>\n",
       "      <td>1.213645</td>\n",
       "    </tr>\n",
       "    <tr>\n",
       "      <th>63</th>\n",
       "      <td>1.167321</td>\n",
       "      <td>0.057173</td>\n",
       "      <td>0.485950</td>\n",
       "      <td>0.605712</td>\n",
       "      <td>-0.307385</td>\n",
       "      <td>-1.319829</td>\n",
       "    </tr>\n",
       "    <tr>\n",
       "      <th>66</th>\n",
       "      <td>0.159974</td>\n",
       "      <td>-1.433897</td>\n",
       "      <td>0.605769</td>\n",
       "      <td>0.010578</td>\n",
       "      <td>-2.978682</td>\n",
       "      <td>-0.352156</td>\n",
       "    </tr>\n",
       "    <tr>\n",
       "      <th>69</th>\n",
       "      <td>-0.782439</td>\n",
       "      <td>1.053819</td>\n",
       "      <td>0.533252</td>\n",
       "      <td>0.878424</td>\n",
       "      <td>-0.269466</td>\n",
       "      <td>0.495181</td>\n",
       "    </tr>\n",
       "    <tr>\n",
       "      <th>72</th>\n",
       "      <td>0.891193</td>\n",
       "      <td>0.364128</td>\n",
       "      <td>0.178855</td>\n",
       "      <td>-1.640823</td>\n",
       "      <td>1.809076</td>\n",
       "      <td>-0.263593</td>\n",
       "    </tr>\n",
       "    <tr>\n",
       "      <th>75</th>\n",
       "      <td>0.051243</td>\n",
       "      <td>-0.263917</td>\n",
       "      <td>0.640288</td>\n",
       "      <td>-2.158057</td>\n",
       "      <td>-0.508163</td>\n",
       "      <td>1.132559</td>\n",
       "    </tr>\n",
       "    <tr>\n",
       "      <th>78</th>\n",
       "      <td>-1.096922</td>\n",
       "      <td>-1.401145</td>\n",
       "      <td>0.833753</td>\n",
       "      <td>-1.807646</td>\n",
       "      <td>-1.168890</td>\n",
       "      <td>1.390710</td>\n",
       "    </tr>\n",
       "    <tr>\n",
       "      <th>81</th>\n",
       "      <td>-0.988110</td>\n",
       "      <td>-0.369140</td>\n",
       "      <td>-0.237166</td>\n",
       "      <td>-1.303915</td>\n",
       "      <td>0.888377</td>\n",
       "      <td>1.142403</td>\n",
       "    </tr>\n",
       "    <tr>\n",
       "      <th>84</th>\n",
       "      <td>-0.865377</td>\n",
       "      <td>0.323423</td>\n",
       "      <td>0.492383</td>\n",
       "      <td>1.370745</td>\n",
       "      <td>-0.021754</td>\n",
       "      <td>-1.719541</td>\n",
       "    </tr>\n",
       "    <tr>\n",
       "      <th>87</th>\n",
       "      <td>0.321882</td>\n",
       "      <td>1.381522</td>\n",
       "      <td>-0.674172</td>\n",
       "      <td>-1.083496</td>\n",
       "      <td>1.914568</td>\n",
       "      <td>1.028375</td>\n",
       "    </tr>\n",
       "    <tr>\n",
       "      <th>...</th>\n",
       "      <td>...</td>\n",
       "      <td>...</td>\n",
       "      <td>...</td>\n",
       "      <td>...</td>\n",
       "      <td>...</td>\n",
       "      <td>...</td>\n",
       "    </tr>\n",
       "    <tr>\n",
       "      <th>2910</th>\n",
       "      <td>0.314307</td>\n",
       "      <td>-0.431866</td>\n",
       "      <td>1.527405</td>\n",
       "      <td>0.601484</td>\n",
       "      <td>-0.160716</td>\n",
       "      <td>1.314302</td>\n",
       "    </tr>\n",
       "    <tr>\n",
       "      <th>2913</th>\n",
       "      <td>0.257940</td>\n",
       "      <td>-0.099765</td>\n",
       "      <td>1.157054</td>\n",
       "      <td>-0.060946</td>\n",
       "      <td>-0.494843</td>\n",
       "      <td>0.341643</td>\n",
       "    </tr>\n",
       "    <tr>\n",
       "      <th>2916</th>\n",
       "      <td>-0.428302</td>\n",
       "      <td>1.507066</td>\n",
       "      <td>0.611729</td>\n",
       "      <td>-0.332719</td>\n",
       "      <td>-0.196556</td>\n",
       "      <td>0.423443</td>\n",
       "    </tr>\n",
       "    <tr>\n",
       "      <th>2919</th>\n",
       "      <td>0.349743</td>\n",
       "      <td>-0.282030</td>\n",
       "      <td>0.196447</td>\n",
       "      <td>0.002695</td>\n",
       "      <td>0.136590</td>\n",
       "      <td>0.401846</td>\n",
       "    </tr>\n",
       "    <tr>\n",
       "      <th>2922</th>\n",
       "      <td>-0.307028</td>\n",
       "      <td>-0.791913</td>\n",
       "      <td>-0.265240</td>\n",
       "      <td>0.125383</td>\n",
       "      <td>-1.003613</td>\n",
       "      <td>-1.160399</td>\n",
       "    </tr>\n",
       "    <tr>\n",
       "      <th>2925</th>\n",
       "      <td>0.219177</td>\n",
       "      <td>0.940110</td>\n",
       "      <td>0.781867</td>\n",
       "      <td>0.126816</td>\n",
       "      <td>0.161123</td>\n",
       "      <td>1.089183</td>\n",
       "    </tr>\n",
       "    <tr>\n",
       "      <th>2928</th>\n",
       "      <td>-1.196400</td>\n",
       "      <td>-0.184507</td>\n",
       "      <td>1.962129</td>\n",
       "      <td>-0.343204</td>\n",
       "      <td>1.436841</td>\n",
       "      <td>-1.038041</td>\n",
       "    </tr>\n",
       "    <tr>\n",
       "      <th>2931</th>\n",
       "      <td>-0.272810</td>\n",
       "      <td>0.410523</td>\n",
       "      <td>0.541178</td>\n",
       "      <td>-0.793986</td>\n",
       "      <td>0.742207</td>\n",
       "      <td>2.590795</td>\n",
       "    </tr>\n",
       "    <tr>\n",
       "      <th>2934</th>\n",
       "      <td>-0.439342</td>\n",
       "      <td>0.136602</td>\n",
       "      <td>-0.225461</td>\n",
       "      <td>0.364491</td>\n",
       "      <td>1.802063</td>\n",
       "      <td>-0.582919</td>\n",
       "    </tr>\n",
       "    <tr>\n",
       "      <th>2937</th>\n",
       "      <td>0.225935</td>\n",
       "      <td>1.015986</td>\n",
       "      <td>-1.177095</td>\n",
       "      <td>-0.971220</td>\n",
       "      <td>0.236631</td>\n",
       "      <td>0.891794</td>\n",
       "    </tr>\n",
       "    <tr>\n",
       "      <th>2940</th>\n",
       "      <td>-0.252398</td>\n",
       "      <td>-0.012515</td>\n",
       "      <td>-0.207346</td>\n",
       "      <td>-0.493030</td>\n",
       "      <td>-0.983243</td>\n",
       "      <td>-0.657357</td>\n",
       "    </tr>\n",
       "    <tr>\n",
       "      <th>2943</th>\n",
       "      <td>0.868827</td>\n",
       "      <td>-0.624654</td>\n",
       "      <td>0.365266</td>\n",
       "      <td>-1.029895</td>\n",
       "      <td>-0.904947</td>\n",
       "      <td>0.933805</td>\n",
       "    </tr>\n",
       "    <tr>\n",
       "      <th>2946</th>\n",
       "      <td>-1.673025</td>\n",
       "      <td>-0.421382</td>\n",
       "      <td>2.676548</td>\n",
       "      <td>-1.360665</td>\n",
       "      <td>-0.999639</td>\n",
       "      <td>-0.409515</td>\n",
       "    </tr>\n",
       "    <tr>\n",
       "      <th>2949</th>\n",
       "      <td>-0.629402</td>\n",
       "      <td>-0.742095</td>\n",
       "      <td>0.559815</td>\n",
       "      <td>-1.556713</td>\n",
       "      <td>-2.251803</td>\n",
       "      <td>-1.368577</td>\n",
       "    </tr>\n",
       "    <tr>\n",
       "      <th>2952</th>\n",
       "      <td>0.025487</td>\n",
       "      <td>-0.217591</td>\n",
       "      <td>0.182265</td>\n",
       "      <td>-1.496190</td>\n",
       "      <td>0.499133</td>\n",
       "      <td>-0.494414</td>\n",
       "    </tr>\n",
       "    <tr>\n",
       "      <th>2955</th>\n",
       "      <td>-1.311549</td>\n",
       "      <td>-1.553367</td>\n",
       "      <td>-0.267299</td>\n",
       "      <td>1.937489</td>\n",
       "      <td>-1.462930</td>\n",
       "      <td>0.015008</td>\n",
       "    </tr>\n",
       "    <tr>\n",
       "      <th>2958</th>\n",
       "      <td>-0.629710</td>\n",
       "      <td>-1.414470</td>\n",
       "      <td>0.165272</td>\n",
       "      <td>-0.123763</td>\n",
       "      <td>-0.774348</td>\n",
       "      <td>2.061785</td>\n",
       "    </tr>\n",
       "    <tr>\n",
       "      <th>2961</th>\n",
       "      <td>-0.018643</td>\n",
       "      <td>-2.001437</td>\n",
       "      <td>-0.692074</td>\n",
       "      <td>2.882349</td>\n",
       "      <td>-0.027989</td>\n",
       "      <td>-0.864119</td>\n",
       "    </tr>\n",
       "    <tr>\n",
       "      <th>2964</th>\n",
       "      <td>-1.199184</td>\n",
       "      <td>-2.128532</td>\n",
       "      <td>-1.322724</td>\n",
       "      <td>-0.951057</td>\n",
       "      <td>-0.370693</td>\n",
       "      <td>0.145449</td>\n",
       "    </tr>\n",
       "    <tr>\n",
       "      <th>2967</th>\n",
       "      <td>0.720639</td>\n",
       "      <td>-1.539494</td>\n",
       "      <td>0.966309</td>\n",
       "      <td>1.557915</td>\n",
       "      <td>0.100207</td>\n",
       "      <td>0.188154</td>\n",
       "    </tr>\n",
       "    <tr>\n",
       "      <th>2970</th>\n",
       "      <td>1.483731</td>\n",
       "      <td>0.821352</td>\n",
       "      <td>0.872577</td>\n",
       "      <td>-1.694163</td>\n",
       "      <td>1.452975</td>\n",
       "      <td>1.234305</td>\n",
       "    </tr>\n",
       "    <tr>\n",
       "      <th>2973</th>\n",
       "      <td>-0.203272</td>\n",
       "      <td>-1.026092</td>\n",
       "      <td>-0.303214</td>\n",
       "      <td>-0.634275</td>\n",
       "      <td>0.454736</td>\n",
       "      <td>0.541063</td>\n",
       "    </tr>\n",
       "    <tr>\n",
       "      <th>2976</th>\n",
       "      <td>-0.519535</td>\n",
       "      <td>-1.405036</td>\n",
       "      <td>-0.218642</td>\n",
       "      <td>0.372721</td>\n",
       "      <td>0.585361</td>\n",
       "      <td>0.018672</td>\n",
       "    </tr>\n",
       "    <tr>\n",
       "      <th>2979</th>\n",
       "      <td>0.419742</td>\n",
       "      <td>0.763683</td>\n",
       "      <td>-0.111488</td>\n",
       "      <td>-0.397157</td>\n",
       "      <td>-1.451003</td>\n",
       "      <td>1.081199</td>\n",
       "    </tr>\n",
       "    <tr>\n",
       "      <th>2982</th>\n",
       "      <td>1.542049</td>\n",
       "      <td>-0.929883</td>\n",
       "      <td>-2.279710</td>\n",
       "      <td>0.352081</td>\n",
       "      <td>-0.345532</td>\n",
       "      <td>0.163429</td>\n",
       "    </tr>\n",
       "    <tr>\n",
       "      <th>2985</th>\n",
       "      <td>-0.779326</td>\n",
       "      <td>0.424736</td>\n",
       "      <td>0.548876</td>\n",
       "      <td>-2.316646</td>\n",
       "      <td>1.518206</td>\n",
       "      <td>0.038710</td>\n",
       "    </tr>\n",
       "    <tr>\n",
       "      <th>2988</th>\n",
       "      <td>1.245536</td>\n",
       "      <td>1.010383</td>\n",
       "      <td>-1.802921</td>\n",
       "      <td>-2.585215</td>\n",
       "      <td>0.362162</td>\n",
       "      <td>-0.180893</td>\n",
       "    </tr>\n",
       "    <tr>\n",
       "      <th>2991</th>\n",
       "      <td>0.752105</td>\n",
       "      <td>-1.444161</td>\n",
       "      <td>-0.507737</td>\n",
       "      <td>0.018064</td>\n",
       "      <td>1.158738</td>\n",
       "      <td>-0.461061</td>\n",
       "    </tr>\n",
       "    <tr>\n",
       "      <th>2994</th>\n",
       "      <td>-0.688970</td>\n",
       "      <td>0.508954</td>\n",
       "      <td>-0.110612</td>\n",
       "      <td>-0.657601</td>\n",
       "      <td>-1.061930</td>\n",
       "      <td>0.050378</td>\n",
       "    </tr>\n",
       "    <tr>\n",
       "      <th>2997</th>\n",
       "      <td>0.208066</td>\n",
       "      <td>1.819959</td>\n",
       "      <td>-1.461952</td>\n",
       "      <td>1.949032</td>\n",
       "      <td>-0.814686</td>\n",
       "      <td>-0.153806</td>\n",
       "    </tr>\n",
       "  </tbody>\n",
       "</table>\n",
       "<p>1000 rows × 6 columns</p>\n",
       "</div>"
      ],
      "text/plain": [
       "             A         B         C         D         E         F\n",
       "0    -0.761486 -1.856963 -0.259506 -0.965839  0.595335 -1.393989\n",
       "3     0.730582 -1.933338  0.159036 -0.303658  0.285985 -0.015358\n",
       "6     1.181648 -0.308067  0.194845 -0.110363 -0.377039 -0.563322\n",
       "9    -0.207188  0.887225 -0.089879  1.535221 -0.178550 -0.119188\n",
       "12   -1.452087 -1.678056  0.442135  0.815065 -0.788070  0.865199\n",
       "15   -0.312236  0.405971 -0.916694 -1.570857 -1.808676 -0.601334\n",
       "18   -0.520655  0.520683 -0.420893  0.866483  0.707625 -0.457042\n",
       "21   -0.763168  1.941782 -0.345903 -1.078514 -2.348245 -0.507215\n",
       "24    0.286458 -0.203965  2.202701  0.305345 -0.373617 -0.516685\n",
       "27    0.483357  0.582012  0.151425 -0.280406 -1.193848  0.074661\n",
       "30    0.251333 -0.984670 -1.126600  1.437455  1.144455  0.916344\n",
       "33    0.501224 -1.196463 -0.890707 -0.330306  1.701601  0.195782\n",
       "36   -0.493956 -1.001679 -0.944730  0.740723  0.359925  1.290009\n",
       "39   -0.616836  0.040601  0.839057  0.233386  0.572832 -0.672458\n",
       "42   -1.017777  0.913523 -2.204982 -0.398876  1.027856 -0.112541\n",
       "45    1.037946  1.087577 -0.024363 -1.386254 -0.700079 -0.451928\n",
       "48    0.590588  1.912149  0.382943  1.103702 -0.174166 -0.475542\n",
       "51    0.123948 -1.953421 -0.829696  0.385270 -1.386090  0.290291\n",
       "54   -0.775569  2.293993 -0.889644 -0.786743  0.471794  0.610733\n",
       "57    0.237778 -2.610199 -0.629762  0.555422  0.843687 -2.165088\n",
       "60   -0.971872  1.174113  0.521214  0.634707  0.373459  1.213645\n",
       "63    1.167321  0.057173  0.485950  0.605712 -0.307385 -1.319829\n",
       "66    0.159974 -1.433897  0.605769  0.010578 -2.978682 -0.352156\n",
       "69   -0.782439  1.053819  0.533252  0.878424 -0.269466  0.495181\n",
       "72    0.891193  0.364128  0.178855 -1.640823  1.809076 -0.263593\n",
       "75    0.051243 -0.263917  0.640288 -2.158057 -0.508163  1.132559\n",
       "78   -1.096922 -1.401145  0.833753 -1.807646 -1.168890  1.390710\n",
       "81   -0.988110 -0.369140 -0.237166 -1.303915  0.888377  1.142403\n",
       "84   -0.865377  0.323423  0.492383  1.370745 -0.021754 -1.719541\n",
       "87    0.321882  1.381522 -0.674172 -1.083496  1.914568  1.028375\n",
       "...        ...       ...       ...       ...       ...       ...\n",
       "2910  0.314307 -0.431866  1.527405  0.601484 -0.160716  1.314302\n",
       "2913  0.257940 -0.099765  1.157054 -0.060946 -0.494843  0.341643\n",
       "2916 -0.428302  1.507066  0.611729 -0.332719 -0.196556  0.423443\n",
       "2919  0.349743 -0.282030  0.196447  0.002695  0.136590  0.401846\n",
       "2922 -0.307028 -0.791913 -0.265240  0.125383 -1.003613 -1.160399\n",
       "2925  0.219177  0.940110  0.781867  0.126816  0.161123  1.089183\n",
       "2928 -1.196400 -0.184507  1.962129 -0.343204  1.436841 -1.038041\n",
       "2931 -0.272810  0.410523  0.541178 -0.793986  0.742207  2.590795\n",
       "2934 -0.439342  0.136602 -0.225461  0.364491  1.802063 -0.582919\n",
       "2937  0.225935  1.015986 -1.177095 -0.971220  0.236631  0.891794\n",
       "2940 -0.252398 -0.012515 -0.207346 -0.493030 -0.983243 -0.657357\n",
       "2943  0.868827 -0.624654  0.365266 -1.029895 -0.904947  0.933805\n",
       "2946 -1.673025 -0.421382  2.676548 -1.360665 -0.999639 -0.409515\n",
       "2949 -0.629402 -0.742095  0.559815 -1.556713 -2.251803 -1.368577\n",
       "2952  0.025487 -0.217591  0.182265 -1.496190  0.499133 -0.494414\n",
       "2955 -1.311549 -1.553367 -0.267299  1.937489 -1.462930  0.015008\n",
       "2958 -0.629710 -1.414470  0.165272 -0.123763 -0.774348  2.061785\n",
       "2961 -0.018643 -2.001437 -0.692074  2.882349 -0.027989 -0.864119\n",
       "2964 -1.199184 -2.128532 -1.322724 -0.951057 -0.370693  0.145449\n",
       "2967  0.720639 -1.539494  0.966309  1.557915  0.100207  0.188154\n",
       "2970  1.483731  0.821352  0.872577 -1.694163  1.452975  1.234305\n",
       "2973 -0.203272 -1.026092 -0.303214 -0.634275  0.454736  0.541063\n",
       "2976 -0.519535 -1.405036 -0.218642  0.372721  0.585361  0.018672\n",
       "2979  0.419742  0.763683 -0.111488 -0.397157 -1.451003  1.081199\n",
       "2982  1.542049 -0.929883 -2.279710  0.352081 -0.345532  0.163429\n",
       "2985 -0.779326  0.424736  0.548876 -2.316646  1.518206  0.038710\n",
       "2988  1.245536  1.010383 -1.802921 -2.585215  0.362162 -0.180893\n",
       "2991  0.752105 -1.444161 -0.507737  0.018064  1.158738 -0.461061\n",
       "2994 -0.688970  0.508954 -0.110612 -0.657601 -1.061930  0.050378\n",
       "2997  0.208066  1.819959 -1.461952  1.949032 -0.814686 -0.153806\n",
       "\n",
       "[1000 rows x 6 columns]"
      ]
     },
     "execution_count": 64,
     "metadata": {},
     "output_type": "execute_result"
    }
   ],
   "source": [
    "u = pd.DataFrame(np.random.randn(1000,6), index=np.arange(0, 3000, 3), \n",
    "                 columns=['A', 'B', 'C', 'D', 'E', 'F'])\n",
    "u"
   ]
  },
  {
   "cell_type": "markdown",
   "metadata": {},
   "source": [
    "As you might have noticed, it is a bit ugly to deal with large dataframes. There are however some functions that allows to have an idea of the data in a frame."
   ]
  },
  {
   "cell_type": "code",
   "execution_count": 65,
   "metadata": {},
   "outputs": [
    {
     "data": {
      "text/html": [
       "<div>\n",
       "<style scoped>\n",
       "    .dataframe tbody tr th:only-of-type {\n",
       "        vertical-align: middle;\n",
       "    }\n",
       "\n",
       "    .dataframe tbody tr th {\n",
       "        vertical-align: top;\n",
       "    }\n",
       "\n",
       "    .dataframe thead th {\n",
       "        text-align: right;\n",
       "    }\n",
       "</style>\n",
       "<table border=\"1\" class=\"dataframe\">\n",
       "  <thead>\n",
       "    <tr style=\"text-align: right;\">\n",
       "      <th></th>\n",
       "      <th>A</th>\n",
       "      <th>B</th>\n",
       "      <th>C</th>\n",
       "      <th>D</th>\n",
       "      <th>E</th>\n",
       "      <th>F</th>\n",
       "    </tr>\n",
       "  </thead>\n",
       "  <tbody>\n",
       "    <tr>\n",
       "      <th>0</th>\n",
       "      <td>-0.761486</td>\n",
       "      <td>-1.856963</td>\n",
       "      <td>-0.259506</td>\n",
       "      <td>-0.965839</td>\n",
       "      <td>0.595335</td>\n",
       "      <td>-1.393989</td>\n",
       "    </tr>\n",
       "    <tr>\n",
       "      <th>3</th>\n",
       "      <td>0.730582</td>\n",
       "      <td>-1.933338</td>\n",
       "      <td>0.159036</td>\n",
       "      <td>-0.303658</td>\n",
       "      <td>0.285985</td>\n",
       "      <td>-0.015358</td>\n",
       "    </tr>\n",
       "    <tr>\n",
       "      <th>6</th>\n",
       "      <td>1.181648</td>\n",
       "      <td>-0.308067</td>\n",
       "      <td>0.194845</td>\n",
       "      <td>-0.110363</td>\n",
       "      <td>-0.377039</td>\n",
       "      <td>-0.563322</td>\n",
       "    </tr>\n",
       "    <tr>\n",
       "      <th>9</th>\n",
       "      <td>-0.207188</td>\n",
       "      <td>0.887225</td>\n",
       "      <td>-0.089879</td>\n",
       "      <td>1.535221</td>\n",
       "      <td>-0.178550</td>\n",
       "      <td>-0.119188</td>\n",
       "    </tr>\n",
       "    <tr>\n",
       "      <th>12</th>\n",
       "      <td>-1.452087</td>\n",
       "      <td>-1.678056</td>\n",
       "      <td>0.442135</td>\n",
       "      <td>0.815065</td>\n",
       "      <td>-0.788070</td>\n",
       "      <td>0.865199</td>\n",
       "    </tr>\n",
       "  </tbody>\n",
       "</table>\n",
       "</div>"
      ],
      "text/plain": [
       "           A         B         C         D         E         F\n",
       "0  -0.761486 -1.856963 -0.259506 -0.965839  0.595335 -1.393989\n",
       "3   0.730582 -1.933338  0.159036 -0.303658  0.285985 -0.015358\n",
       "6   1.181648 -0.308067  0.194845 -0.110363 -0.377039 -0.563322\n",
       "9  -0.207188  0.887225 -0.089879  1.535221 -0.178550 -0.119188\n",
       "12 -1.452087 -1.678056  0.442135  0.815065 -0.788070  0.865199"
      ]
     },
     "execution_count": 65,
     "metadata": {},
     "output_type": "execute_result"
    }
   ],
   "source": [
    "u.head()"
   ]
  },
  {
   "cell_type": "code",
   "execution_count": 66,
   "metadata": {},
   "outputs": [
    {
     "data": {
      "text/html": [
       "<div>\n",
       "<style scoped>\n",
       "    .dataframe tbody tr th:only-of-type {\n",
       "        vertical-align: middle;\n",
       "    }\n",
       "\n",
       "    .dataframe tbody tr th {\n",
       "        vertical-align: top;\n",
       "    }\n",
       "\n",
       "    .dataframe thead th {\n",
       "        text-align: right;\n",
       "    }\n",
       "</style>\n",
       "<table border=\"1\" class=\"dataframe\">\n",
       "  <thead>\n",
       "    <tr style=\"text-align: right;\">\n",
       "      <th></th>\n",
       "      <th>A</th>\n",
       "      <th>B</th>\n",
       "      <th>C</th>\n",
       "      <th>D</th>\n",
       "      <th>E</th>\n",
       "      <th>F</th>\n",
       "    </tr>\n",
       "  </thead>\n",
       "  <tbody>\n",
       "    <tr>\n",
       "      <th>2985</th>\n",
       "      <td>-0.779326</td>\n",
       "      <td>0.424736</td>\n",
       "      <td>0.548876</td>\n",
       "      <td>-2.316646</td>\n",
       "      <td>1.518206</td>\n",
       "      <td>0.038710</td>\n",
       "    </tr>\n",
       "    <tr>\n",
       "      <th>2988</th>\n",
       "      <td>1.245536</td>\n",
       "      <td>1.010383</td>\n",
       "      <td>-1.802921</td>\n",
       "      <td>-2.585215</td>\n",
       "      <td>0.362162</td>\n",
       "      <td>-0.180893</td>\n",
       "    </tr>\n",
       "    <tr>\n",
       "      <th>2991</th>\n",
       "      <td>0.752105</td>\n",
       "      <td>-1.444161</td>\n",
       "      <td>-0.507737</td>\n",
       "      <td>0.018064</td>\n",
       "      <td>1.158738</td>\n",
       "      <td>-0.461061</td>\n",
       "    </tr>\n",
       "    <tr>\n",
       "      <th>2994</th>\n",
       "      <td>-0.688970</td>\n",
       "      <td>0.508954</td>\n",
       "      <td>-0.110612</td>\n",
       "      <td>-0.657601</td>\n",
       "      <td>-1.061930</td>\n",
       "      <td>0.050378</td>\n",
       "    </tr>\n",
       "    <tr>\n",
       "      <th>2997</th>\n",
       "      <td>0.208066</td>\n",
       "      <td>1.819959</td>\n",
       "      <td>-1.461952</td>\n",
       "      <td>1.949032</td>\n",
       "      <td>-0.814686</td>\n",
       "      <td>-0.153806</td>\n",
       "    </tr>\n",
       "  </tbody>\n",
       "</table>\n",
       "</div>"
      ],
      "text/plain": [
       "             A         B         C         D         E         F\n",
       "2985 -0.779326  0.424736  0.548876 -2.316646  1.518206  0.038710\n",
       "2988  1.245536  1.010383 -1.802921 -2.585215  0.362162 -0.180893\n",
       "2991  0.752105 -1.444161 -0.507737  0.018064  1.158738 -0.461061\n",
       "2994 -0.688970  0.508954 -0.110612 -0.657601 -1.061930  0.050378\n",
       "2997  0.208066  1.819959 -1.461952  1.949032 -0.814686 -0.153806"
      ]
     },
     "execution_count": 66,
     "metadata": {},
     "output_type": "execute_result"
    }
   ],
   "source": [
    "u.tail()"
   ]
  },
  {
   "cell_type": "code",
   "execution_count": 67,
   "metadata": {},
   "outputs": [
    {
     "data": {
      "text/html": [
       "<div>\n",
       "<style scoped>\n",
       "    .dataframe tbody tr th:only-of-type {\n",
       "        vertical-align: middle;\n",
       "    }\n",
       "\n",
       "    .dataframe tbody tr th {\n",
       "        vertical-align: top;\n",
       "    }\n",
       "\n",
       "    .dataframe thead th {\n",
       "        text-align: right;\n",
       "    }\n",
       "</style>\n",
       "<table border=\"1\" class=\"dataframe\">\n",
       "  <thead>\n",
       "    <tr style=\"text-align: right;\">\n",
       "      <th></th>\n",
       "      <th>A</th>\n",
       "      <th>B</th>\n",
       "      <th>C</th>\n",
       "      <th>D</th>\n",
       "      <th>E</th>\n",
       "      <th>F</th>\n",
       "    </tr>\n",
       "  </thead>\n",
       "  <tbody>\n",
       "    <tr>\n",
       "      <th>count</th>\n",
       "      <td>1000.000000</td>\n",
       "      <td>1000.000000</td>\n",
       "      <td>1000.000000</td>\n",
       "      <td>1000.000000</td>\n",
       "      <td>1000.000000</td>\n",
       "      <td>1000.000000</td>\n",
       "    </tr>\n",
       "    <tr>\n",
       "      <th>mean</th>\n",
       "      <td>-0.050794</td>\n",
       "      <td>0.061913</td>\n",
       "      <td>-0.025466</td>\n",
       "      <td>0.045786</td>\n",
       "      <td>0.022753</td>\n",
       "      <td>-0.060224</td>\n",
       "    </tr>\n",
       "    <tr>\n",
       "      <th>std</th>\n",
       "      <td>1.020710</td>\n",
       "      <td>1.005581</td>\n",
       "      <td>0.993343</td>\n",
       "      <td>1.005364</td>\n",
       "      <td>1.025786</td>\n",
       "      <td>1.005457</td>\n",
       "    </tr>\n",
       "    <tr>\n",
       "      <th>min</th>\n",
       "      <td>-3.205216</td>\n",
       "      <td>-3.110890</td>\n",
       "      <td>-3.052732</td>\n",
       "      <td>-2.773758</td>\n",
       "      <td>-3.470618</td>\n",
       "      <td>-3.867963</td>\n",
       "    </tr>\n",
       "    <tr>\n",
       "      <th>25%</th>\n",
       "      <td>-0.751474</td>\n",
       "      <td>-0.631540</td>\n",
       "      <td>-0.695884</td>\n",
       "      <td>-0.640073</td>\n",
       "      <td>-0.654438</td>\n",
       "      <td>-0.764999</td>\n",
       "    </tr>\n",
       "    <tr>\n",
       "      <th>50%</th>\n",
       "      <td>-0.061007</td>\n",
       "      <td>0.098579</td>\n",
       "      <td>-0.029510</td>\n",
       "      <td>0.047236</td>\n",
       "      <td>0.037100</td>\n",
       "      <td>-0.037634</td>\n",
       "    </tr>\n",
       "    <tr>\n",
       "      <th>75%</th>\n",
       "      <td>0.650328</td>\n",
       "      <td>0.757897</td>\n",
       "      <td>0.647189</td>\n",
       "      <td>0.720574</td>\n",
       "      <td>0.731039</td>\n",
       "      <td>0.604459</td>\n",
       "    </tr>\n",
       "    <tr>\n",
       "      <th>max</th>\n",
       "      <td>3.796625</td>\n",
       "      <td>3.126197</td>\n",
       "      <td>2.889348</td>\n",
       "      <td>2.913861</td>\n",
       "      <td>3.159995</td>\n",
       "      <td>4.216350</td>\n",
       "    </tr>\n",
       "  </tbody>\n",
       "</table>\n",
       "</div>"
      ],
      "text/plain": [
       "                 A            B            C            D            E  \\\n",
       "count  1000.000000  1000.000000  1000.000000  1000.000000  1000.000000   \n",
       "mean     -0.050794     0.061913    -0.025466     0.045786     0.022753   \n",
       "std       1.020710     1.005581     0.993343     1.005364     1.025786   \n",
       "min      -3.205216    -3.110890    -3.052732    -2.773758    -3.470618   \n",
       "25%      -0.751474    -0.631540    -0.695884    -0.640073    -0.654438   \n",
       "50%      -0.061007     0.098579    -0.029510     0.047236     0.037100   \n",
       "75%       0.650328     0.757897     0.647189     0.720574     0.731039   \n",
       "max       3.796625     3.126197     2.889348     2.913861     3.159995   \n",
       "\n",
       "                 F  \n",
       "count  1000.000000  \n",
       "mean     -0.060224  \n",
       "std       1.005457  \n",
       "min      -3.867963  \n",
       "25%      -0.764999  \n",
       "50%      -0.037634  \n",
       "75%       0.604459  \n",
       "max       4.216350  "
      ]
     },
     "execution_count": 67,
     "metadata": {},
     "output_type": "execute_result"
    }
   ],
   "source": [
    "u.describe()"
   ]
  },
  {
   "cell_type": "markdown",
   "metadata": {},
   "source": [
    "One can also change the maximal number of rows that is displayed:"
   ]
  },
  {
   "cell_type": "code",
   "execution_count": 68,
   "metadata": {},
   "outputs": [],
   "source": [
    "pd.set_option('display.max_rows', 15)"
   ]
  },
  {
   "cell_type": "markdown",
   "metadata": {},
   "source": [
    "`Pandas` can also generate random `DataFrames` for testing:"
   ]
  },
  {
   "cell_type": "code",
   "execution_count": 69,
   "metadata": {},
   "outputs": [
    {
     "data": {
      "text/html": [
       "<div>\n",
       "<style scoped>\n",
       "    .dataframe tbody tr th:only-of-type {\n",
       "        vertical-align: middle;\n",
       "    }\n",
       "\n",
       "    .dataframe tbody tr th {\n",
       "        vertical-align: top;\n",
       "    }\n",
       "\n",
       "    .dataframe thead th {\n",
       "        text-align: right;\n",
       "    }\n",
       "</style>\n",
       "<table border=\"1\" class=\"dataframe\">\n",
       "  <thead>\n",
       "    <tr style=\"text-align: right;\">\n",
       "      <th></th>\n",
       "      <th>A</th>\n",
       "      <th>B</th>\n",
       "      <th>C</th>\n",
       "      <th>D</th>\n",
       "    </tr>\n",
       "  </thead>\n",
       "  <tbody>\n",
       "    <tr>\n",
       "      <th>P08BTc9mdE</th>\n",
       "      <td>-0.527469</td>\n",
       "      <td>-0.273173</td>\n",
       "      <td>-0.636832</td>\n",
       "      <td>-0.156654</td>\n",
       "    </tr>\n",
       "    <tr>\n",
       "      <th>pxObI8gZh6</th>\n",
       "      <td>-0.993787</td>\n",
       "      <td>-1.260044</td>\n",
       "      <td>0.165435</td>\n",
       "      <td>0.716617</td>\n",
       "    </tr>\n",
       "    <tr>\n",
       "      <th>S81GD7fAO0</th>\n",
       "      <td>0.649611</td>\n",
       "      <td>-0.345573</td>\n",
       "      <td>-0.476357</td>\n",
       "      <td>-0.430727</td>\n",
       "    </tr>\n",
       "    <tr>\n",
       "      <th>r2d2zMxxmv</th>\n",
       "      <td>-0.426132</td>\n",
       "      <td>-0.282060</td>\n",
       "      <td>-0.055078</td>\n",
       "      <td>0.638711</td>\n",
       "    </tr>\n",
       "    <tr>\n",
       "      <th>jaKW4OkQ0V</th>\n",
       "      <td>-0.669180</td>\n",
       "      <td>-0.251879</td>\n",
       "      <td>0.949884</td>\n",
       "      <td>-1.117098</td>\n",
       "    </tr>\n",
       "  </tbody>\n",
       "</table>\n",
       "</div>"
      ],
      "text/plain": [
       "                   A         B         C         D\n",
       "P08BTc9mdE -0.527469 -0.273173 -0.636832 -0.156654\n",
       "pxObI8gZh6 -0.993787 -1.260044  0.165435  0.716617\n",
       "S81GD7fAO0  0.649611 -0.345573 -0.476357 -0.430727\n",
       "r2d2zMxxmv -0.426132 -0.282060 -0.055078  0.638711\n",
       "jaKW4OkQ0V -0.669180 -0.251879  0.949884 -1.117098"
      ]
     },
     "execution_count": 69,
     "metadata": {},
     "output_type": "execute_result"
    }
   ],
   "source": [
    "import pandas.util.testing as tm\n",
    "\n",
    "tm.makeDataFrame().head()"
   ]
  },
  {
   "cell_type": "markdown",
   "metadata": {},
   "source": [
    "### Indexing/Slicing in Pandas\n",
    "\n",
    "The easiest way of accessing information in a Pandas dataframe, equivalent to the way used in NumPy, is using the `iloc` command. With this you can also set specific values, do conditional indexing... all that we have seen before in section 2.4"
   ]
  },
  {
   "cell_type": "code",
   "execution_count": 70,
   "metadata": {},
   "outputs": [
    {
     "data": {
      "text/html": [
       "<div>\n",
       "<style scoped>\n",
       "    .dataframe tbody tr th:only-of-type {\n",
       "        vertical-align: middle;\n",
       "    }\n",
       "\n",
       "    .dataframe tbody tr th {\n",
       "        vertical-align: top;\n",
       "    }\n",
       "\n",
       "    .dataframe thead th {\n",
       "        text-align: right;\n",
       "    }\n",
       "</style>\n",
       "<table border=\"1\" class=\"dataframe\">\n",
       "  <thead>\n",
       "    <tr style=\"text-align: right;\">\n",
       "      <th></th>\n",
       "      <th>A</th>\n",
       "      <th>C</th>\n",
       "      <th>F</th>\n",
       "    </tr>\n",
       "  </thead>\n",
       "  <tbody>\n",
       "    <tr>\n",
       "      <th>375</th>\n",
       "      <td>-0.636038</td>\n",
       "      <td>0.116078</td>\n",
       "      <td>-0.488360</td>\n",
       "    </tr>\n",
       "    <tr>\n",
       "      <th>378</th>\n",
       "      <td>-0.950089</td>\n",
       "      <td>-2.232674</td>\n",
       "      <td>-0.784635</td>\n",
       "    </tr>\n",
       "    <tr>\n",
       "      <th>381</th>\n",
       "      <td>1.168677</td>\n",
       "      <td>-0.428499</td>\n",
       "      <td>-0.069833</td>\n",
       "    </tr>\n",
       "    <tr>\n",
       "      <th>384</th>\n",
       "      <td>-1.268749</td>\n",
       "      <td>1.368481</td>\n",
       "      <td>0.612919</td>\n",
       "    </tr>\n",
       "    <tr>\n",
       "      <th>387</th>\n",
       "      <td>0.008765</td>\n",
       "      <td>-0.606459</td>\n",
       "      <td>0.171234</td>\n",
       "    </tr>\n",
       "    <tr>\n",
       "      <th>390</th>\n",
       "      <td>-0.212263</td>\n",
       "      <td>-0.327441</td>\n",
       "      <td>-0.592471</td>\n",
       "    </tr>\n",
       "    <tr>\n",
       "      <th>393</th>\n",
       "      <td>0.801593</td>\n",
       "      <td>-1.103829</td>\n",
       "      <td>-1.240144</td>\n",
       "    </tr>\n",
       "  </tbody>\n",
       "</table>\n",
       "</div>"
      ],
      "text/plain": [
       "            A         C         F\n",
       "375 -0.636038  0.116078 -0.488360\n",
       "378 -0.950089 -2.232674 -0.784635\n",
       "381  1.168677 -0.428499 -0.069833\n",
       "384 -1.268749  1.368481  0.612919\n",
       "387  0.008765 -0.606459  0.171234\n",
       "390 -0.212263 -0.327441 -0.592471\n",
       "393  0.801593 -1.103829 -1.240144"
      ]
     },
     "execution_count": 70,
     "metadata": {},
     "output_type": "execute_result"
    }
   ],
   "source": [
    "u.iloc[125:132,[0, 2, 5]]"
   ]
  },
  {
   "cell_type": "markdown",
   "metadata": {},
   "source": [
    "However, there are a few different ways of accessing the data in a Pandas dataframe, that typically have a more \"direct\" connection with the actual content fo the dataframe. Individual or sets of columns can also be accessed by their column names. Choosing one single column will give a Series, while two or more will produce a Dataset"
   ]
  },
  {
   "cell_type": "code",
   "execution_count": 71,
   "metadata": {},
   "outputs": [
    {
     "data": {
      "text/plain": [
       "0    -0.761486\n",
       "3     0.730582\n",
       "6     1.181648\n",
       "9    -0.207188\n",
       "12   -1.452087\n",
       "Name: A, dtype: float64"
      ]
     },
     "execution_count": 71,
     "metadata": {},
     "output_type": "execute_result"
    }
   ],
   "source": [
    "u['A'].head()"
   ]
  },
  {
   "cell_type": "code",
   "execution_count": 72,
   "metadata": {},
   "outputs": [
    {
     "data": {
      "text/html": [
       "<div>\n",
       "<style scoped>\n",
       "    .dataframe tbody tr th:only-of-type {\n",
       "        vertical-align: middle;\n",
       "    }\n",
       "\n",
       "    .dataframe tbody tr th {\n",
       "        vertical-align: top;\n",
       "    }\n",
       "\n",
       "    .dataframe thead th {\n",
       "        text-align: right;\n",
       "    }\n",
       "</style>\n",
       "<table border=\"1\" class=\"dataframe\">\n",
       "  <thead>\n",
       "    <tr style=\"text-align: right;\">\n",
       "      <th></th>\n",
       "      <th>A</th>\n",
       "      <th>D</th>\n",
       "    </tr>\n",
       "  </thead>\n",
       "  <tbody>\n",
       "    <tr>\n",
       "      <th>0</th>\n",
       "      <td>-0.761486</td>\n",
       "      <td>-0.965839</td>\n",
       "    </tr>\n",
       "    <tr>\n",
       "      <th>3</th>\n",
       "      <td>0.730582</td>\n",
       "      <td>-0.303658</td>\n",
       "    </tr>\n",
       "    <tr>\n",
       "      <th>6</th>\n",
       "      <td>1.181648</td>\n",
       "      <td>-0.110363</td>\n",
       "    </tr>\n",
       "    <tr>\n",
       "      <th>9</th>\n",
       "      <td>-0.207188</td>\n",
       "      <td>1.535221</td>\n",
       "    </tr>\n",
       "    <tr>\n",
       "      <th>12</th>\n",
       "      <td>-1.452087</td>\n",
       "      <td>0.815065</td>\n",
       "    </tr>\n",
       "  </tbody>\n",
       "</table>\n",
       "</div>"
      ],
      "text/plain": [
       "           A         D\n",
       "0  -0.761486 -0.965839\n",
       "3   0.730582 -0.303658\n",
       "6   1.181648 -0.110363\n",
       "9  -0.207188  1.535221\n",
       "12 -1.452087  0.815065"
      ]
     },
     "execution_count": 72,
     "metadata": {},
     "output_type": "execute_result"
    }
   ],
   "source": [
    "u[['A', 'D']].head()"
   ]
  },
  {
   "cell_type": "markdown",
   "metadata": {},
   "source": [
    "Not only that, you can access a single column without the need of brackets []"
   ]
  },
  {
   "cell_type": "code",
   "execution_count": 73,
   "metadata": {},
   "outputs": [
    {
     "data": {
      "text/plain": [
       "0    -0.761486\n",
       "3     0.730582\n",
       "6     1.181648\n",
       "9    -0.207188\n",
       "12   -1.452087\n",
       "Name: A, dtype: float64"
      ]
     },
     "execution_count": 73,
     "metadata": {},
     "output_type": "execute_result"
    }
   ],
   "source": [
    "u.A.head()"
   ]
  },
  {
   "cell_type": "markdown",
   "metadata": {},
   "source": [
    "The usual [] will select specific rows according to the row number"
   ]
  },
  {
   "cell_type": "code",
   "execution_count": 74,
   "metadata": {
    "scrolled": false
   },
   "outputs": [
    {
     "data": {
      "text/html": [
       "<div>\n",
       "<style scoped>\n",
       "    .dataframe tbody tr th:only-of-type {\n",
       "        vertical-align: middle;\n",
       "    }\n",
       "\n",
       "    .dataframe tbody tr th {\n",
       "        vertical-align: top;\n",
       "    }\n",
       "\n",
       "    .dataframe thead th {\n",
       "        text-align: right;\n",
       "    }\n",
       "</style>\n",
       "<table border=\"1\" class=\"dataframe\">\n",
       "  <thead>\n",
       "    <tr style=\"text-align: right;\">\n",
       "      <th></th>\n",
       "      <th>B</th>\n",
       "      <th>C</th>\n",
       "      <th>F</th>\n",
       "    </tr>\n",
       "  </thead>\n",
       "  <tbody>\n",
       "    <tr>\n",
       "      <th>0</th>\n",
       "      <td>-1.856963</td>\n",
       "      <td>-0.259506</td>\n",
       "      <td>-1.393989</td>\n",
       "    </tr>\n",
       "    <tr>\n",
       "      <th>3</th>\n",
       "      <td>-1.933338</td>\n",
       "      <td>0.159036</td>\n",
       "      <td>-0.015358</td>\n",
       "    </tr>\n",
       "    <tr>\n",
       "      <th>6</th>\n",
       "      <td>-0.308067</td>\n",
       "      <td>0.194845</td>\n",
       "      <td>-0.563322</td>\n",
       "    </tr>\n",
       "    <tr>\n",
       "      <th>9</th>\n",
       "      <td>0.887225</td>\n",
       "      <td>-0.089879</td>\n",
       "      <td>-0.119188</td>\n",
       "    </tr>\n",
       "    <tr>\n",
       "      <th>12</th>\n",
       "      <td>-1.678056</td>\n",
       "      <td>0.442135</td>\n",
       "      <td>0.865199</td>\n",
       "    </tr>\n",
       "    <tr>\n",
       "      <th>15</th>\n",
       "      <td>0.405971</td>\n",
       "      <td>-0.916694</td>\n",
       "      <td>-0.601334</td>\n",
       "    </tr>\n",
       "    <tr>\n",
       "      <th>18</th>\n",
       "      <td>0.520683</td>\n",
       "      <td>-0.420893</td>\n",
       "      <td>-0.457042</td>\n",
       "    </tr>\n",
       "    <tr>\n",
       "      <th>21</th>\n",
       "      <td>1.941782</td>\n",
       "      <td>-0.345903</td>\n",
       "      <td>-0.507215</td>\n",
       "    </tr>\n",
       "    <tr>\n",
       "      <th>24</th>\n",
       "      <td>-0.203965</td>\n",
       "      <td>2.202701</td>\n",
       "      <td>-0.516685</td>\n",
       "    </tr>\n",
       "    <tr>\n",
       "      <th>27</th>\n",
       "      <td>0.582012</td>\n",
       "      <td>0.151425</td>\n",
       "      <td>0.074661</td>\n",
       "    </tr>\n",
       "  </tbody>\n",
       "</table>\n",
       "</div>"
      ],
      "text/plain": [
       "           B         C         F\n",
       "0  -1.856963 -0.259506 -1.393989\n",
       "3  -1.933338  0.159036 -0.015358\n",
       "6  -0.308067  0.194845 -0.563322\n",
       "9   0.887225 -0.089879 -0.119188\n",
       "12 -1.678056  0.442135  0.865199\n",
       "15  0.405971 -0.916694 -0.601334\n",
       "18  0.520683 -0.420893 -0.457042\n",
       "21  1.941782 -0.345903 -0.507215\n",
       "24 -0.203965  2.202701 -0.516685\n",
       "27  0.582012  0.151425  0.074661"
      ]
     },
     "execution_count": 74,
     "metadata": {},
     "output_type": "execute_result"
    }
   ],
   "source": [
    "u[0:10][list('BCF')]"
   ]
  },
  {
   "cell_type": "markdown",
   "metadata": {},
   "source": [
    "You can also choose specific rows according to their indices with the `loc` command"
   ]
  },
  {
   "cell_type": "code",
   "execution_count": 75,
   "metadata": {},
   "outputs": [
    {
     "data": {
      "text/html": [
       "<div>\n",
       "<style scoped>\n",
       "    .dataframe tbody tr th:only-of-type {\n",
       "        vertical-align: middle;\n",
       "    }\n",
       "\n",
       "    .dataframe tbody tr th {\n",
       "        vertical-align: top;\n",
       "    }\n",
       "\n",
       "    .dataframe thead th {\n",
       "        text-align: right;\n",
       "    }\n",
       "</style>\n",
       "<table border=\"1\" class=\"dataframe\">\n",
       "  <thead>\n",
       "    <tr style=\"text-align: right;\">\n",
       "      <th></th>\n",
       "      <th>A</th>\n",
       "      <th>B</th>\n",
       "      <th>C</th>\n",
       "      <th>D</th>\n",
       "      <th>E</th>\n",
       "      <th>F</th>\n",
       "    </tr>\n",
       "  </thead>\n",
       "  <tbody>\n",
       "    <tr>\n",
       "      <th>6</th>\n",
       "      <td>1.181648</td>\n",
       "      <td>-0.308067</td>\n",
       "      <td>0.194845</td>\n",
       "      <td>-0.110363</td>\n",
       "      <td>-0.377039</td>\n",
       "      <td>-0.563322</td>\n",
       "    </tr>\n",
       "    <tr>\n",
       "      <th>9</th>\n",
       "      <td>-0.207188</td>\n",
       "      <td>0.887225</td>\n",
       "      <td>-0.089879</td>\n",
       "      <td>1.535221</td>\n",
       "      <td>-0.178550</td>\n",
       "      <td>-0.119188</td>\n",
       "    </tr>\n",
       "    <tr>\n",
       "      <th>12</th>\n",
       "      <td>-1.452087</td>\n",
       "      <td>-1.678056</td>\n",
       "      <td>0.442135</td>\n",
       "      <td>0.815065</td>\n",
       "      <td>-0.788070</td>\n",
       "      <td>0.865199</td>\n",
       "    </tr>\n",
       "    <tr>\n",
       "      <th>15</th>\n",
       "      <td>-0.312236</td>\n",
       "      <td>0.405971</td>\n",
       "      <td>-0.916694</td>\n",
       "      <td>-1.570857</td>\n",
       "      <td>-1.808676</td>\n",
       "      <td>-0.601334</td>\n",
       "    </tr>\n",
       "  </tbody>\n",
       "</table>\n",
       "</div>"
      ],
      "text/plain": [
       "           A         B         C         D         E         F\n",
       "6   1.181648 -0.308067  0.194845 -0.110363 -0.377039 -0.563322\n",
       "9  -0.207188  0.887225 -0.089879  1.535221 -0.178550 -0.119188\n",
       "12 -1.452087 -1.678056  0.442135  0.815065 -0.788070  0.865199\n",
       "15 -0.312236  0.405971 -0.916694 -1.570857 -1.808676 -0.601334"
      ]
     },
     "execution_count": 75,
     "metadata": {},
     "output_type": "execute_result"
    }
   ],
   "source": [
    "u.loc[6:15]"
   ]
  },
  {
   "cell_type": "markdown",
   "metadata": {},
   "source": [
    "Or, you can access just the elements that satisfy some condition"
   ]
  },
  {
   "cell_type": "code",
   "execution_count": 76,
   "metadata": {},
   "outputs": [
    {
     "data": {
      "text/html": [
       "<div>\n",
       "<style scoped>\n",
       "    .dataframe tbody tr th:only-of-type {\n",
       "        vertical-align: middle;\n",
       "    }\n",
       "\n",
       "    .dataframe tbody tr th {\n",
       "        vertical-align: top;\n",
       "    }\n",
       "\n",
       "    .dataframe thead th {\n",
       "        text-align: right;\n",
       "    }\n",
       "</style>\n",
       "<table border=\"1\" class=\"dataframe\">\n",
       "  <thead>\n",
       "    <tr style=\"text-align: right;\">\n",
       "      <th></th>\n",
       "      <th>A</th>\n",
       "      <th>B</th>\n",
       "      <th>C</th>\n",
       "      <th>D</th>\n",
       "      <th>E</th>\n",
       "      <th>F</th>\n",
       "    </tr>\n",
       "  </thead>\n",
       "  <tbody>\n",
       "    <tr>\n",
       "      <th>96</th>\n",
       "      <td>-1.062619</td>\n",
       "      <td>-0.326839</td>\n",
       "      <td>0.698481</td>\n",
       "      <td>2.260445</td>\n",
       "      <td>-0.480326</td>\n",
       "      <td>-0.030888</td>\n",
       "    </tr>\n",
       "    <tr>\n",
       "      <th>231</th>\n",
       "      <td>-0.062075</td>\n",
       "      <td>1.700715</td>\n",
       "      <td>0.004098</td>\n",
       "      <td>2.265953</td>\n",
       "      <td>0.971236</td>\n",
       "      <td>-1.165149</td>\n",
       "    </tr>\n",
       "    <tr>\n",
       "      <th>243</th>\n",
       "      <td>-1.548629</td>\n",
       "      <td>-0.682061</td>\n",
       "      <td>-0.988246</td>\n",
       "      <td>2.101512</td>\n",
       "      <td>-0.281365</td>\n",
       "      <td>0.165648</td>\n",
       "    </tr>\n",
       "    <tr>\n",
       "      <th>294</th>\n",
       "      <td>1.536812</td>\n",
       "      <td>-0.065230</td>\n",
       "      <td>0.089026</td>\n",
       "      <td>2.173031</td>\n",
       "      <td>-0.229206</td>\n",
       "      <td>3.471096</td>\n",
       "    </tr>\n",
       "    <tr>\n",
       "      <th>717</th>\n",
       "      <td>1.043050</td>\n",
       "      <td>-0.596884</td>\n",
       "      <td>-2.254242</td>\n",
       "      <td>2.728187</td>\n",
       "      <td>0.597010</td>\n",
       "      <td>1.541664</td>\n",
       "    </tr>\n",
       "    <tr>\n",
       "      <th>984</th>\n",
       "      <td>0.697663</td>\n",
       "      <td>-0.625542</td>\n",
       "      <td>-0.445807</td>\n",
       "      <td>2.276466</td>\n",
       "      <td>-0.918990</td>\n",
       "      <td>-0.303464</td>\n",
       "    </tr>\n",
       "    <tr>\n",
       "      <th>1092</th>\n",
       "      <td>0.038387</td>\n",
       "      <td>-0.155476</td>\n",
       "      <td>-0.253734</td>\n",
       "      <td>2.684383</td>\n",
       "      <td>0.774636</td>\n",
       "      <td>0.283066</td>\n",
       "    </tr>\n",
       "    <tr>\n",
       "      <th>...</th>\n",
       "      <td>...</td>\n",
       "      <td>...</td>\n",
       "      <td>...</td>\n",
       "      <td>...</td>\n",
       "      <td>...</td>\n",
       "      <td>...</td>\n",
       "    </tr>\n",
       "    <tr>\n",
       "      <th>2313</th>\n",
       "      <td>-0.205846</td>\n",
       "      <td>-1.757420</td>\n",
       "      <td>-1.705877</td>\n",
       "      <td>2.100689</td>\n",
       "      <td>-2.208538</td>\n",
       "      <td>-1.132553</td>\n",
       "    </tr>\n",
       "    <tr>\n",
       "      <th>2343</th>\n",
       "      <td>-1.878500</td>\n",
       "      <td>-1.878065</td>\n",
       "      <td>0.689921</td>\n",
       "      <td>2.751148</td>\n",
       "      <td>-0.482695</td>\n",
       "      <td>-1.619270</td>\n",
       "    </tr>\n",
       "    <tr>\n",
       "      <th>2361</th>\n",
       "      <td>-3.205216</td>\n",
       "      <td>1.287279</td>\n",
       "      <td>-0.571579</td>\n",
       "      <td>2.167375</td>\n",
       "      <td>-1.650644</td>\n",
       "      <td>0.358632</td>\n",
       "    </tr>\n",
       "    <tr>\n",
       "      <th>2430</th>\n",
       "      <td>0.580814</td>\n",
       "      <td>-0.215444</td>\n",
       "      <td>-1.704029</td>\n",
       "      <td>2.505435</td>\n",
       "      <td>2.415872</td>\n",
       "      <td>0.450578</td>\n",
       "    </tr>\n",
       "    <tr>\n",
       "      <th>2589</th>\n",
       "      <td>-1.093291</td>\n",
       "      <td>-0.069399</td>\n",
       "      <td>-0.168713</td>\n",
       "      <td>2.109153</td>\n",
       "      <td>0.723736</td>\n",
       "      <td>0.105442</td>\n",
       "    </tr>\n",
       "    <tr>\n",
       "      <th>2751</th>\n",
       "      <td>2.553238</td>\n",
       "      <td>0.060056</td>\n",
       "      <td>-0.290016</td>\n",
       "      <td>2.663297</td>\n",
       "      <td>1.081204</td>\n",
       "      <td>-0.416994</td>\n",
       "    </tr>\n",
       "    <tr>\n",
       "      <th>2961</th>\n",
       "      <td>-0.018643</td>\n",
       "      <td>-2.001437</td>\n",
       "      <td>-0.692074</td>\n",
       "      <td>2.882349</td>\n",
       "      <td>-0.027989</td>\n",
       "      <td>-0.864119</td>\n",
       "    </tr>\n",
       "  </tbody>\n",
       "</table>\n",
       "<p>29 rows × 6 columns</p>\n",
       "</div>"
      ],
      "text/plain": [
       "             A         B         C         D         E         F\n",
       "96   -1.062619 -0.326839  0.698481  2.260445 -0.480326 -0.030888\n",
       "231  -0.062075  1.700715  0.004098  2.265953  0.971236 -1.165149\n",
       "243  -1.548629 -0.682061 -0.988246  2.101512 -0.281365  0.165648\n",
       "294   1.536812 -0.065230  0.089026  2.173031 -0.229206  3.471096\n",
       "717   1.043050 -0.596884 -2.254242  2.728187  0.597010  1.541664\n",
       "984   0.697663 -0.625542 -0.445807  2.276466 -0.918990 -0.303464\n",
       "1092  0.038387 -0.155476 -0.253734  2.684383  0.774636  0.283066\n",
       "...        ...       ...       ...       ...       ...       ...\n",
       "2313 -0.205846 -1.757420 -1.705877  2.100689 -2.208538 -1.132553\n",
       "2343 -1.878500 -1.878065  0.689921  2.751148 -0.482695 -1.619270\n",
       "2361 -3.205216  1.287279 -0.571579  2.167375 -1.650644  0.358632\n",
       "2430  0.580814 -0.215444 -1.704029  2.505435  2.415872  0.450578\n",
       "2589 -1.093291 -0.069399 -0.168713  2.109153  0.723736  0.105442\n",
       "2751  2.553238  0.060056 -0.290016  2.663297  1.081204 -0.416994\n",
       "2961 -0.018643 -2.001437 -0.692074  2.882349 -0.027989 -0.864119\n",
       "\n",
       "[29 rows x 6 columns]"
      ]
     },
     "execution_count": 76,
     "metadata": {},
     "output_type": "execute_result"
    }
   ],
   "source": [
    "u[u.D > 2]"
   ]
  },
  {
   "cell_type": "code",
   "execution_count": 77,
   "metadata": {},
   "outputs": [
    {
     "data": {
      "text/html": [
       "<div>\n",
       "<style scoped>\n",
       "    .dataframe tbody tr th:only-of-type {\n",
       "        vertical-align: middle;\n",
       "    }\n",
       "\n",
       "    .dataframe tbody tr th {\n",
       "        vertical-align: top;\n",
       "    }\n",
       "\n",
       "    .dataframe thead th {\n",
       "        text-align: right;\n",
       "    }\n",
       "</style>\n",
       "<table border=\"1\" class=\"dataframe\">\n",
       "  <thead>\n",
       "    <tr style=\"text-align: right;\">\n",
       "      <th></th>\n",
       "      <th>A</th>\n",
       "      <th>B</th>\n",
       "      <th>C</th>\n",
       "      <th>D</th>\n",
       "      <th>E</th>\n",
       "      <th>F</th>\n",
       "    </tr>\n",
       "  </thead>\n",
       "  <tbody>\n",
       "    <tr>\n",
       "      <th>0</th>\n",
       "      <td>-0.761486</td>\n",
       "      <td>-1.856963</td>\n",
       "      <td>-0.259506</td>\n",
       "      <td>-0.965839</td>\n",
       "      <td>0.595335</td>\n",
       "      <td>-1.393989</td>\n",
       "    </tr>\n",
       "    <tr>\n",
       "      <th>3</th>\n",
       "      <td>0.730582</td>\n",
       "      <td>-1.933338</td>\n",
       "      <td>0.159036</td>\n",
       "      <td>-0.303658</td>\n",
       "      <td>0.285985</td>\n",
       "      <td>-0.015358</td>\n",
       "    </tr>\n",
       "    <tr>\n",
       "      <th>6</th>\n",
       "      <td>1.181648</td>\n",
       "      <td>-0.308067</td>\n",
       "      <td>0.194845</td>\n",
       "      <td>-0.110363</td>\n",
       "      <td>-0.377039</td>\n",
       "      <td>-0.563322</td>\n",
       "    </tr>\n",
       "    <tr>\n",
       "      <th>9</th>\n",
       "      <td>-0.207188</td>\n",
       "      <td>0.887225</td>\n",
       "      <td>-0.089879</td>\n",
       "      <td>1.535221</td>\n",
       "      <td>-0.178550</td>\n",
       "      <td>-0.119188</td>\n",
       "    </tr>\n",
       "    <tr>\n",
       "      <th>12</th>\n",
       "      <td>-1.452087</td>\n",
       "      <td>-1.678056</td>\n",
       "      <td>0.442135</td>\n",
       "      <td>0.815065</td>\n",
       "      <td>-0.788070</td>\n",
       "      <td>0.865199</td>\n",
       "    </tr>\n",
       "    <tr>\n",
       "      <th>15</th>\n",
       "      <td>-0.312236</td>\n",
       "      <td>0.405971</td>\n",
       "      <td>-0.916694</td>\n",
       "      <td>-1.570857</td>\n",
       "      <td>-1.808676</td>\n",
       "      <td>-0.601334</td>\n",
       "    </tr>\n",
       "    <tr>\n",
       "      <th>18</th>\n",
       "      <td>-0.520655</td>\n",
       "      <td>0.520683</td>\n",
       "      <td>-0.420893</td>\n",
       "      <td>0.866483</td>\n",
       "      <td>0.707625</td>\n",
       "      <td>-0.457042</td>\n",
       "    </tr>\n",
       "    <tr>\n",
       "      <th>...</th>\n",
       "      <td>...</td>\n",
       "      <td>...</td>\n",
       "      <td>...</td>\n",
       "      <td>...</td>\n",
       "      <td>...</td>\n",
       "      <td>...</td>\n",
       "    </tr>\n",
       "    <tr>\n",
       "      <th>2979</th>\n",
       "      <td>0.419742</td>\n",
       "      <td>0.763683</td>\n",
       "      <td>-0.111488</td>\n",
       "      <td>-0.397157</td>\n",
       "      <td>-1.451003</td>\n",
       "      <td>1.081199</td>\n",
       "    </tr>\n",
       "    <tr>\n",
       "      <th>2982</th>\n",
       "      <td>1.542049</td>\n",
       "      <td>-0.929883</td>\n",
       "      <td>-2.279710</td>\n",
       "      <td>0.352081</td>\n",
       "      <td>-0.345532</td>\n",
       "      <td>0.163429</td>\n",
       "    </tr>\n",
       "    <tr>\n",
       "      <th>2985</th>\n",
       "      <td>-0.779326</td>\n",
       "      <td>0.424736</td>\n",
       "      <td>0.548876</td>\n",
       "      <td>-2.316646</td>\n",
       "      <td>1.518206</td>\n",
       "      <td>0.038710</td>\n",
       "    </tr>\n",
       "    <tr>\n",
       "      <th>2988</th>\n",
       "      <td>1.245536</td>\n",
       "      <td>1.010383</td>\n",
       "      <td>-1.802921</td>\n",
       "      <td>-2.585215</td>\n",
       "      <td>0.362162</td>\n",
       "      <td>-0.180893</td>\n",
       "    </tr>\n",
       "    <tr>\n",
       "      <th>2991</th>\n",
       "      <td>0.752105</td>\n",
       "      <td>-1.444161</td>\n",
       "      <td>-0.507737</td>\n",
       "      <td>0.018064</td>\n",
       "      <td>1.158738</td>\n",
       "      <td>-0.461061</td>\n",
       "    </tr>\n",
       "    <tr>\n",
       "      <th>2994</th>\n",
       "      <td>-0.688970</td>\n",
       "      <td>0.508954</td>\n",
       "      <td>-0.110612</td>\n",
       "      <td>-0.657601</td>\n",
       "      <td>-1.061930</td>\n",
       "      <td>0.050378</td>\n",
       "    </tr>\n",
       "    <tr>\n",
       "      <th>2997</th>\n",
       "      <td>0.208066</td>\n",
       "      <td>1.819959</td>\n",
       "      <td>-1.461952</td>\n",
       "      <td>1.949032</td>\n",
       "      <td>-0.814686</td>\n",
       "      <td>-0.153806</td>\n",
       "    </tr>\n",
       "  </tbody>\n",
       "</table>\n",
       "<p>971 rows × 6 columns</p>\n",
       "</div>"
      ],
      "text/plain": [
       "             A         B         C         D         E         F\n",
       "0    -0.761486 -1.856963 -0.259506 -0.965839  0.595335 -1.393989\n",
       "3     0.730582 -1.933338  0.159036 -0.303658  0.285985 -0.015358\n",
       "6     1.181648 -0.308067  0.194845 -0.110363 -0.377039 -0.563322\n",
       "9    -0.207188  0.887225 -0.089879  1.535221 -0.178550 -0.119188\n",
       "12   -1.452087 -1.678056  0.442135  0.815065 -0.788070  0.865199\n",
       "15   -0.312236  0.405971 -0.916694 -1.570857 -1.808676 -0.601334\n",
       "18   -0.520655  0.520683 -0.420893  0.866483  0.707625 -0.457042\n",
       "...        ...       ...       ...       ...       ...       ...\n",
       "2979  0.419742  0.763683 -0.111488 -0.397157 -1.451003  1.081199\n",
       "2982  1.542049 -0.929883 -2.279710  0.352081 -0.345532  0.163429\n",
       "2985 -0.779326  0.424736  0.548876 -2.316646  1.518206  0.038710\n",
       "2988  1.245536  1.010383 -1.802921 -2.585215  0.362162 -0.180893\n",
       "2991  0.752105 -1.444161 -0.507737  0.018064  1.158738 -0.461061\n",
       "2994 -0.688970  0.508954 -0.110612 -0.657601 -1.061930  0.050378\n",
       "2997  0.208066  1.819959 -1.461952  1.949032 -0.814686 -0.153806\n",
       "\n",
       "[971 rows x 6 columns]"
      ]
     },
     "execution_count": 77,
     "metadata": {},
     "output_type": "execute_result"
    }
   ],
   "source": [
    "u[~(u.D > 2)]  # For the inverse of u.D > 2"
   ]
  },
  {
   "cell_type": "markdown",
   "metadata": {},
   "source": [
    "Recently `query` has been added to `DataFrame` for the same purpose. While it is less powerful than logical indexing, it is often faster and shorter (when names are longer than just `u`):"
   ]
  },
  {
   "cell_type": "code",
   "execution_count": 78,
   "metadata": {},
   "outputs": [
    {
     "data": {
      "text/html": [
       "<div>\n",
       "<style scoped>\n",
       "    .dataframe tbody tr th:only-of-type {\n",
       "        vertical-align: middle;\n",
       "    }\n",
       "\n",
       "    .dataframe tbody tr th {\n",
       "        vertical-align: top;\n",
       "    }\n",
       "\n",
       "    .dataframe thead th {\n",
       "        text-align: right;\n",
       "    }\n",
       "</style>\n",
       "<table border=\"1\" class=\"dataframe\">\n",
       "  <thead>\n",
       "    <tr style=\"text-align: right;\">\n",
       "      <th></th>\n",
       "      <th>A</th>\n",
       "      <th>B</th>\n",
       "      <th>C</th>\n",
       "      <th>D</th>\n",
       "      <th>E</th>\n",
       "      <th>F</th>\n",
       "    </tr>\n",
       "  </thead>\n",
       "  <tbody>\n",
       "    <tr>\n",
       "      <th>96</th>\n",
       "      <td>-1.062619</td>\n",
       "      <td>-0.326839</td>\n",
       "      <td>0.698481</td>\n",
       "      <td>2.260445</td>\n",
       "      <td>-0.480326</td>\n",
       "      <td>-0.030888</td>\n",
       "    </tr>\n",
       "    <tr>\n",
       "      <th>231</th>\n",
       "      <td>-0.062075</td>\n",
       "      <td>1.700715</td>\n",
       "      <td>0.004098</td>\n",
       "      <td>2.265953</td>\n",
       "      <td>0.971236</td>\n",
       "      <td>-1.165149</td>\n",
       "    </tr>\n",
       "    <tr>\n",
       "      <th>243</th>\n",
       "      <td>-1.548629</td>\n",
       "      <td>-0.682061</td>\n",
       "      <td>-0.988246</td>\n",
       "      <td>2.101512</td>\n",
       "      <td>-0.281365</td>\n",
       "      <td>0.165648</td>\n",
       "    </tr>\n",
       "    <tr>\n",
       "      <th>294</th>\n",
       "      <td>1.536812</td>\n",
       "      <td>-0.065230</td>\n",
       "      <td>0.089026</td>\n",
       "      <td>2.173031</td>\n",
       "      <td>-0.229206</td>\n",
       "      <td>3.471096</td>\n",
       "    </tr>\n",
       "    <tr>\n",
       "      <th>717</th>\n",
       "      <td>1.043050</td>\n",
       "      <td>-0.596884</td>\n",
       "      <td>-2.254242</td>\n",
       "      <td>2.728187</td>\n",
       "      <td>0.597010</td>\n",
       "      <td>1.541664</td>\n",
       "    </tr>\n",
       "    <tr>\n",
       "      <th>984</th>\n",
       "      <td>0.697663</td>\n",
       "      <td>-0.625542</td>\n",
       "      <td>-0.445807</td>\n",
       "      <td>2.276466</td>\n",
       "      <td>-0.918990</td>\n",
       "      <td>-0.303464</td>\n",
       "    </tr>\n",
       "    <tr>\n",
       "      <th>1092</th>\n",
       "      <td>0.038387</td>\n",
       "      <td>-0.155476</td>\n",
       "      <td>-0.253734</td>\n",
       "      <td>2.684383</td>\n",
       "      <td>0.774636</td>\n",
       "      <td>0.283066</td>\n",
       "    </tr>\n",
       "    <tr>\n",
       "      <th>...</th>\n",
       "      <td>...</td>\n",
       "      <td>...</td>\n",
       "      <td>...</td>\n",
       "      <td>...</td>\n",
       "      <td>...</td>\n",
       "      <td>...</td>\n",
       "    </tr>\n",
       "    <tr>\n",
       "      <th>2313</th>\n",
       "      <td>-0.205846</td>\n",
       "      <td>-1.757420</td>\n",
       "      <td>-1.705877</td>\n",
       "      <td>2.100689</td>\n",
       "      <td>-2.208538</td>\n",
       "      <td>-1.132553</td>\n",
       "    </tr>\n",
       "    <tr>\n",
       "      <th>2343</th>\n",
       "      <td>-1.878500</td>\n",
       "      <td>-1.878065</td>\n",
       "      <td>0.689921</td>\n",
       "      <td>2.751148</td>\n",
       "      <td>-0.482695</td>\n",
       "      <td>-1.619270</td>\n",
       "    </tr>\n",
       "    <tr>\n",
       "      <th>2361</th>\n",
       "      <td>-3.205216</td>\n",
       "      <td>1.287279</td>\n",
       "      <td>-0.571579</td>\n",
       "      <td>2.167375</td>\n",
       "      <td>-1.650644</td>\n",
       "      <td>0.358632</td>\n",
       "    </tr>\n",
       "    <tr>\n",
       "      <th>2430</th>\n",
       "      <td>0.580814</td>\n",
       "      <td>-0.215444</td>\n",
       "      <td>-1.704029</td>\n",
       "      <td>2.505435</td>\n",
       "      <td>2.415872</td>\n",
       "      <td>0.450578</td>\n",
       "    </tr>\n",
       "    <tr>\n",
       "      <th>2589</th>\n",
       "      <td>-1.093291</td>\n",
       "      <td>-0.069399</td>\n",
       "      <td>-0.168713</td>\n",
       "      <td>2.109153</td>\n",
       "      <td>0.723736</td>\n",
       "      <td>0.105442</td>\n",
       "    </tr>\n",
       "    <tr>\n",
       "      <th>2751</th>\n",
       "      <td>2.553238</td>\n",
       "      <td>0.060056</td>\n",
       "      <td>-0.290016</td>\n",
       "      <td>2.663297</td>\n",
       "      <td>1.081204</td>\n",
       "      <td>-0.416994</td>\n",
       "    </tr>\n",
       "    <tr>\n",
       "      <th>2961</th>\n",
       "      <td>-0.018643</td>\n",
       "      <td>-2.001437</td>\n",
       "      <td>-0.692074</td>\n",
       "      <td>2.882349</td>\n",
       "      <td>-0.027989</td>\n",
       "      <td>-0.864119</td>\n",
       "    </tr>\n",
       "  </tbody>\n",
       "</table>\n",
       "<p>29 rows × 6 columns</p>\n",
       "</div>"
      ],
      "text/plain": [
       "             A         B         C         D         E         F\n",
       "96   -1.062619 -0.326839  0.698481  2.260445 -0.480326 -0.030888\n",
       "231  -0.062075  1.700715  0.004098  2.265953  0.971236 -1.165149\n",
       "243  -1.548629 -0.682061 -0.988246  2.101512 -0.281365  0.165648\n",
       "294   1.536812 -0.065230  0.089026  2.173031 -0.229206  3.471096\n",
       "717   1.043050 -0.596884 -2.254242  2.728187  0.597010  1.541664\n",
       "984   0.697663 -0.625542 -0.445807  2.276466 -0.918990 -0.303464\n",
       "1092  0.038387 -0.155476 -0.253734  2.684383  0.774636  0.283066\n",
       "...        ...       ...       ...       ...       ...       ...\n",
       "2313 -0.205846 -1.757420 -1.705877  2.100689 -2.208538 -1.132553\n",
       "2343 -1.878500 -1.878065  0.689921  2.751148 -0.482695 -1.619270\n",
       "2361 -3.205216  1.287279 -0.571579  2.167375 -1.650644  0.358632\n",
       "2430  0.580814 -0.215444 -1.704029  2.505435  2.415872  0.450578\n",
       "2589 -1.093291 -0.069399 -0.168713  2.109153  0.723736  0.105442\n",
       "2751  2.553238  0.060056 -0.290016  2.663297  1.081204 -0.416994\n",
       "2961 -0.018643 -2.001437 -0.692074  2.882349 -0.027989 -0.864119\n",
       "\n",
       "[29 rows x 6 columns]"
      ]
     },
     "execution_count": 78,
     "metadata": {},
     "output_type": "execute_result"
    }
   ],
   "source": [
    "u.query('D > 2')"
   ]
  },
  {
   "cell_type": "markdown",
   "metadata": {},
   "source": [
    "### Reshaping `DataFrame`s"
   ]
  },
  {
   "cell_type": "code",
   "execution_count": 132,
   "metadata": {},
   "outputs": [
    {
     "data": {
      "text/html": [
       "<div>\n",
       "<style scoped>\n",
       "    .dataframe tbody tr th:only-of-type {\n",
       "        vertical-align: middle;\n",
       "    }\n",
       "\n",
       "    .dataframe tbody tr th {\n",
       "        vertical-align: top;\n",
       "    }\n",
       "\n",
       "    .dataframe thead th {\n",
       "        text-align: right;\n",
       "    }\n",
       "</style>\n",
       "<table border=\"1\" class=\"dataframe\">\n",
       "  <thead>\n",
       "    <tr style=\"text-align: right;\">\n",
       "      <th>G</th>\n",
       "      <th>a</th>\n",
       "      <th>b</th>\n",
       "      <th>c</th>\n",
       "    </tr>\n",
       "    <tr>\n",
       "      <th>E</th>\n",
       "      <th></th>\n",
       "      <th></th>\n",
       "      <th></th>\n",
       "    </tr>\n",
       "  </thead>\n",
       "  <tbody>\n",
       "    <tr>\n",
       "      <th>-3.470618</th>\n",
       "      <td>-0.525781</td>\n",
       "      <td>NaN</td>\n",
       "      <td>NaN</td>\n",
       "    </tr>\n",
       "    <tr>\n",
       "      <th>-2.978682</th>\n",
       "      <td>NaN</td>\n",
       "      <td>0.159974</td>\n",
       "      <td>NaN</td>\n",
       "    </tr>\n",
       "    <tr>\n",
       "      <th>-2.668974</th>\n",
       "      <td>NaN</td>\n",
       "      <td>-1.407538</td>\n",
       "      <td>NaN</td>\n",
       "    </tr>\n",
       "    <tr>\n",
       "      <th>-2.587076</th>\n",
       "      <td>NaN</td>\n",
       "      <td>0.782683</td>\n",
       "      <td>NaN</td>\n",
       "    </tr>\n",
       "    <tr>\n",
       "      <th>-2.485586</th>\n",
       "      <td>-1.196322</td>\n",
       "      <td>NaN</td>\n",
       "      <td>NaN</td>\n",
       "    </tr>\n",
       "    <tr>\n",
       "      <th>-2.457113</th>\n",
       "      <td>NaN</td>\n",
       "      <td>NaN</td>\n",
       "      <td>0.591406</td>\n",
       "    </tr>\n",
       "    <tr>\n",
       "      <th>-2.439570</th>\n",
       "      <td>NaN</td>\n",
       "      <td>NaN</td>\n",
       "      <td>-0.315309</td>\n",
       "    </tr>\n",
       "    <tr>\n",
       "      <th>...</th>\n",
       "      <td>...</td>\n",
       "      <td>...</td>\n",
       "      <td>...</td>\n",
       "    </tr>\n",
       "    <tr>\n",
       "      <th>2.471763</th>\n",
       "      <td>NaN</td>\n",
       "      <td>NaN</td>\n",
       "      <td>0.588655</td>\n",
       "    </tr>\n",
       "    <tr>\n",
       "      <th>2.523968</th>\n",
       "      <td>0.968783</td>\n",
       "      <td>NaN</td>\n",
       "      <td>NaN</td>\n",
       "    </tr>\n",
       "    <tr>\n",
       "      <th>2.528503</th>\n",
       "      <td>NaN</td>\n",
       "      <td>NaN</td>\n",
       "      <td>0.737061</td>\n",
       "    </tr>\n",
       "    <tr>\n",
       "      <th>2.686937</th>\n",
       "      <td>NaN</td>\n",
       "      <td>-0.392155</td>\n",
       "      <td>NaN</td>\n",
       "    </tr>\n",
       "    <tr>\n",
       "      <th>2.829819</th>\n",
       "      <td>NaN</td>\n",
       "      <td>NaN</td>\n",
       "      <td>1.453957</td>\n",
       "    </tr>\n",
       "    <tr>\n",
       "      <th>3.060963</th>\n",
       "      <td>NaN</td>\n",
       "      <td>1.390720</td>\n",
       "      <td>NaN</td>\n",
       "    </tr>\n",
       "    <tr>\n",
       "      <th>3.159995</th>\n",
       "      <td>0.190599</td>\n",
       "      <td>NaN</td>\n",
       "      <td>NaN</td>\n",
       "    </tr>\n",
       "  </tbody>\n",
       "</table>\n",
       "<p>1000 rows × 3 columns</p>\n",
       "</div>"
      ],
      "text/plain": [
       "G                 a         b         c\n",
       "E                                      \n",
       "-3.470618 -0.525781       NaN       NaN\n",
       "-2.978682       NaN  0.159974       NaN\n",
       "-2.668974       NaN -1.407538       NaN\n",
       "-2.587076       NaN  0.782683       NaN\n",
       "-2.485586 -1.196322       NaN       NaN\n",
       "-2.457113       NaN       NaN  0.591406\n",
       "-2.439570       NaN       NaN -0.315309\n",
       "...             ...       ...       ...\n",
       " 2.471763       NaN       NaN  0.588655\n",
       " 2.523968  0.968783       NaN       NaN\n",
       " 2.528503       NaN       NaN  0.737061\n",
       " 2.686937       NaN -0.392155       NaN\n",
       " 2.829819       NaN       NaN  1.453957\n",
       " 3.060963       NaN  1.390720       NaN\n",
       " 3.159995  0.190599       NaN       NaN\n",
       "\n",
       "[1000 rows x 3 columns]"
      ]
     },
     "execution_count": 132,
     "metadata": {},
     "output_type": "execute_result"
    }
   ],
   "source": [
    "u.pivot(index='E', columns='G', values='A')"
   ]
  },
  {
   "cell_type": "code",
   "execution_count": 136,
   "metadata": {},
   "outputs": [
    {
     "data": {
      "text/plain": [
       "0     A   -0.761486\n",
       "      B    -1.85696\n",
       "      C   -0.259506\n",
       "      D   -0.965839\n",
       "      E    0.595335\n",
       "      F   -0.717366\n",
       "      G           b\n",
       "             ...   \n",
       "2997  A    0.208066\n",
       "      B     1.81996\n",
       "      C    -1.46195\n",
       "      D     1.94903\n",
       "      E   -0.814686\n",
       "      F    -6.50169\n",
       "      G           b\n",
       "Length: 7000, dtype: object"
      ]
     },
     "execution_count": 136,
     "metadata": {},
     "output_type": "execute_result"
    }
   ],
   "source": [
    "u.stack()"
   ]
  },
  {
   "cell_type": "code",
   "execution_count": 137,
   "metadata": {},
   "outputs": [
    {
     "data": {
      "text/plain": [
       "A  0      -0.761486\n",
       "   3       0.730582\n",
       "   6        1.18165\n",
       "   9      -0.207188\n",
       "   12      -1.45209\n",
       "   15     -0.312236\n",
       "   18     -0.520655\n",
       "             ...   \n",
       "G  2979           a\n",
       "   2982           a\n",
       "   2985           a\n",
       "   2988           c\n",
       "   2991           b\n",
       "   2994           a\n",
       "   2997           b\n",
       "Length: 7000, dtype: object"
      ]
     },
     "execution_count": 137,
     "metadata": {},
     "output_type": "execute_result"
    }
   ],
   "source": [
    "u.unstack()"
   ]
  },
  {
   "cell_type": "code",
   "execution_count": 138,
   "metadata": {},
   "outputs": [
    {
     "data": {
      "text/html": [
       "<div>\n",
       "<style scoped>\n",
       "    .dataframe tbody tr th:only-of-type {\n",
       "        vertical-align: middle;\n",
       "    }\n",
       "\n",
       "    .dataframe tbody tr th {\n",
       "        vertical-align: top;\n",
       "    }\n",
       "\n",
       "    .dataframe thead th {\n",
       "        text-align: right;\n",
       "    }\n",
       "</style>\n",
       "<table border=\"1\" class=\"dataframe\">\n",
       "  <thead>\n",
       "    <tr style=\"text-align: right;\">\n",
       "      <th></th>\n",
       "      <th>A</th>\n",
       "      <th>B</th>\n",
       "      <th>C</th>\n",
       "      <th>D</th>\n",
       "      <th>E</th>\n",
       "      <th>F</th>\n",
       "      <th>G</th>\n",
       "    </tr>\n",
       "  </thead>\n",
       "  <tbody>\n",
       "    <tr>\n",
       "      <th>0</th>\n",
       "      <td>-0.761486</td>\n",
       "      <td>-1.85696</td>\n",
       "      <td>-0.259506</td>\n",
       "      <td>-0.965839</td>\n",
       "      <td>0.595335</td>\n",
       "      <td>-0.717366</td>\n",
       "      <td>b</td>\n",
       "    </tr>\n",
       "    <tr>\n",
       "      <th>3</th>\n",
       "      <td>0.730582</td>\n",
       "      <td>-1.93334</td>\n",
       "      <td>0.159036</td>\n",
       "      <td>-0.303658</td>\n",
       "      <td>0.285985</td>\n",
       "      <td>-65.1111</td>\n",
       "      <td>c</td>\n",
       "    </tr>\n",
       "    <tr>\n",
       "      <th>6</th>\n",
       "      <td>1.18165</td>\n",
       "      <td>-0.308067</td>\n",
       "      <td>0.194845</td>\n",
       "      <td>-0.110363</td>\n",
       "      <td>-0.377039</td>\n",
       "      <td>-1.77518</td>\n",
       "      <td>c</td>\n",
       "    </tr>\n",
       "    <tr>\n",
       "      <th>9</th>\n",
       "      <td>-0.207188</td>\n",
       "      <td>0.887225</td>\n",
       "      <td>-0.0898789</td>\n",
       "      <td>1.53522</td>\n",
       "      <td>-0.17855</td>\n",
       "      <td>-8.39008</td>\n",
       "      <td>b</td>\n",
       "    </tr>\n",
       "    <tr>\n",
       "      <th>12</th>\n",
       "      <td>-1.45209</td>\n",
       "      <td>-1.67806</td>\n",
       "      <td>0.442135</td>\n",
       "      <td>0.815065</td>\n",
       "      <td>-0.78807</td>\n",
       "      <td>1.1558</td>\n",
       "      <td>a</td>\n",
       "    </tr>\n",
       "    <tr>\n",
       "      <th>15</th>\n",
       "      <td>-0.312236</td>\n",
       "      <td>0.405971</td>\n",
       "      <td>-0.916694</td>\n",
       "      <td>-1.57086</td>\n",
       "      <td>-1.80868</td>\n",
       "      <td>-1.66297</td>\n",
       "      <td>b</td>\n",
       "    </tr>\n",
       "    <tr>\n",
       "      <th>18</th>\n",
       "      <td>-0.520655</td>\n",
       "      <td>0.520683</td>\n",
       "      <td>-0.420893</td>\n",
       "      <td>0.866483</td>\n",
       "      <td>0.707625</td>\n",
       "      <td>-2.18798</td>\n",
       "      <td>a</td>\n",
       "    </tr>\n",
       "    <tr>\n",
       "      <th>...</th>\n",
       "      <td>...</td>\n",
       "      <td>...</td>\n",
       "      <td>...</td>\n",
       "      <td>...</td>\n",
       "      <td>...</td>\n",
       "      <td>...</td>\n",
       "      <td>...</td>\n",
       "    </tr>\n",
       "    <tr>\n",
       "      <th>2979</th>\n",
       "      <td>0.419742</td>\n",
       "      <td>0.763683</td>\n",
       "      <td>-0.111488</td>\n",
       "      <td>-0.397157</td>\n",
       "      <td>-1.451</td>\n",
       "      <td>0.924899</td>\n",
       "      <td>a</td>\n",
       "    </tr>\n",
       "    <tr>\n",
       "      <th>2982</th>\n",
       "      <td>1.54205</td>\n",
       "      <td>-0.929883</td>\n",
       "      <td>-2.27971</td>\n",
       "      <td>0.352081</td>\n",
       "      <td>-0.345532</td>\n",
       "      <td>6.11887</td>\n",
       "      <td>a</td>\n",
       "    </tr>\n",
       "    <tr>\n",
       "      <th>2985</th>\n",
       "      <td>-0.779326</td>\n",
       "      <td>0.424736</td>\n",
       "      <td>0.548876</td>\n",
       "      <td>-2.31665</td>\n",
       "      <td>1.51821</td>\n",
       "      <td>25.8329</td>\n",
       "      <td>a</td>\n",
       "    </tr>\n",
       "    <tr>\n",
       "      <th>2988</th>\n",
       "      <td>1.24554</td>\n",
       "      <td>1.01038</td>\n",
       "      <td>-1.80292</td>\n",
       "      <td>-2.58522</td>\n",
       "      <td>0.362162</td>\n",
       "      <td>-5.52813</td>\n",
       "      <td>c</td>\n",
       "    </tr>\n",
       "    <tr>\n",
       "      <th>2991</th>\n",
       "      <td>0.752105</td>\n",
       "      <td>-1.44416</td>\n",
       "      <td>-0.507737</td>\n",
       "      <td>0.018064</td>\n",
       "      <td>1.15874</td>\n",
       "      <td>-2.16891</td>\n",
       "      <td>b</td>\n",
       "    </tr>\n",
       "    <tr>\n",
       "      <th>2994</th>\n",
       "      <td>-0.68897</td>\n",
       "      <td>0.508954</td>\n",
       "      <td>-0.110612</td>\n",
       "      <td>-0.657601</td>\n",
       "      <td>-1.06193</td>\n",
       "      <td>19.8499</td>\n",
       "      <td>a</td>\n",
       "    </tr>\n",
       "    <tr>\n",
       "      <th>2997</th>\n",
       "      <td>0.208066</td>\n",
       "      <td>1.81996</td>\n",
       "      <td>-1.46195</td>\n",
       "      <td>1.94903</td>\n",
       "      <td>-0.814686</td>\n",
       "      <td>-6.50169</td>\n",
       "      <td>b</td>\n",
       "    </tr>\n",
       "  </tbody>\n",
       "</table>\n",
       "<p>1000 rows × 7 columns</p>\n",
       "</div>"
      ],
      "text/plain": [
       "             A         B          C         D         E         F  G\n",
       "0    -0.761486  -1.85696  -0.259506 -0.965839  0.595335 -0.717366  b\n",
       "3     0.730582  -1.93334   0.159036 -0.303658  0.285985  -65.1111  c\n",
       "6      1.18165 -0.308067   0.194845 -0.110363 -0.377039  -1.77518  c\n",
       "9    -0.207188  0.887225 -0.0898789   1.53522  -0.17855  -8.39008  b\n",
       "12    -1.45209  -1.67806   0.442135  0.815065  -0.78807    1.1558  a\n",
       "15   -0.312236  0.405971  -0.916694  -1.57086  -1.80868  -1.66297  b\n",
       "18   -0.520655  0.520683  -0.420893  0.866483  0.707625  -2.18798  a\n",
       "...        ...       ...        ...       ...       ...       ... ..\n",
       "2979  0.419742  0.763683  -0.111488 -0.397157    -1.451  0.924899  a\n",
       "2982   1.54205 -0.929883   -2.27971  0.352081 -0.345532   6.11887  a\n",
       "2985 -0.779326  0.424736   0.548876  -2.31665   1.51821   25.8329  a\n",
       "2988   1.24554   1.01038   -1.80292  -2.58522  0.362162  -5.52813  c\n",
       "2991  0.752105  -1.44416  -0.507737  0.018064   1.15874  -2.16891  b\n",
       "2994  -0.68897  0.508954  -0.110612 -0.657601  -1.06193   19.8499  a\n",
       "2997  0.208066   1.81996   -1.46195   1.94903 -0.814686  -6.50169  b\n",
       "\n",
       "[1000 rows x 7 columns]"
      ]
     },
     "execution_count": 138,
     "metadata": {},
     "output_type": "execute_result"
    }
   ],
   "source": [
    "u.stack().unstack()"
   ]
  },
  {
   "cell_type": "markdown",
   "metadata": {},
   "source": [
    "### Computing With `DataFrames`\n",
    "\n",
    "You can calculate with `DataFrames` or their columns (which are `Series`) the same way you could with `arrays`s"
   ]
  },
  {
   "cell_type": "code",
   "execution_count": 79,
   "metadata": {},
   "outputs": [
    {
     "data": {
      "text/plain": [
       "0     -0.717366\n",
       "3    -65.111125\n",
       "6     -1.775183\n",
       "9     -8.390081\n",
       "12     1.155803\n",
       "Name: F, dtype: float64"
      ]
     },
     "execution_count": 79,
     "metadata": {},
     "output_type": "execute_result"
    }
   ],
   "source": [
    "u['F'] = 1 / u['F']\n",
    "u['F'].head()"
   ]
  },
  {
   "cell_type": "code",
   "execution_count": 80,
   "metadata": {},
   "outputs": [
    {
     "data": {
      "text/plain": [
       "A   -0.050794\n",
       "B    0.061913\n",
       "C   -0.025466\n",
       "D    0.045786\n",
       "E    0.022753\n",
       "F   -4.038254\n",
       "dtype: float64"
      ]
     },
     "execution_count": 80,
     "metadata": {},
     "output_type": "execute_result"
    }
   ],
   "source": [
    "np.mean(u)"
   ]
  },
  {
   "cell_type": "markdown",
   "metadata": {},
   "source": [
    "You can apply functions to the whole dataset or specific columns with the `apply` command. `apply` acts on the whole column at a time (i.e. a Pandas `Series`), so you can compute things that depend on several values of the column, for instance the mean value. To apply functions in a real element-by-element basis the function `applymap` or `Series.apply` should be used."
   ]
  },
  {
   "cell_type": "code",
   "execution_count": 81,
   "metadata": {},
   "outputs": [
    {
     "data": {
      "text/plain": [
       "A   -0.050794\n",
       "B    0.061913\n",
       "C   -0.025466\n",
       "D    0.045786\n",
       "E    0.022753\n",
       "F   -4.038254\n",
       "dtype: float64"
      ]
     },
     "execution_count": 81,
     "metadata": {},
     "output_type": "execute_result"
    }
   ],
   "source": [
    "def mn(col):\n",
    "    return sum(col) / len(col)\n",
    "\n",
    "u.apply(mn)"
   ]
  },
  {
   "cell_type": "markdown",
   "metadata": {},
   "source": [
    "While most can be directly calculated (including the given example of the mean), `apply` also works on columns with strings or categorical data, where no mathematical operations are defined. The limit is the imagination."
   ]
  },
  {
   "cell_type": "markdown",
   "metadata": {},
   "source": [
    "### Combining `DataFrames`\n",
    "\n",
    "Something we will do quite often as scientists is combining data from different sources into one single source. This can be achieved by different commands in Pandas, depending on the actual goal we want.\n",
    "\n",
    "To begin with, appending new rows of data is achieved by the command `append`."
   ]
  },
  {
   "cell_type": "code",
   "execution_count": 82,
   "metadata": {},
   "outputs": [
    {
     "data": {
      "text/html": [
       "<div>\n",
       "<style scoped>\n",
       "    .dataframe tbody tr th:only-of-type {\n",
       "        vertical-align: middle;\n",
       "    }\n",
       "\n",
       "    .dataframe tbody tr th {\n",
       "        vertical-align: top;\n",
       "    }\n",
       "\n",
       "    .dataframe thead th {\n",
       "        text-align: right;\n",
       "    }\n",
       "</style>\n",
       "<table border=\"1\" class=\"dataframe\">\n",
       "  <thead>\n",
       "    <tr style=\"text-align: right;\">\n",
       "      <th></th>\n",
       "      <th>A</th>\n",
       "      <th>B</th>\n",
       "      <th>C</th>\n",
       "      <th>D</th>\n",
       "      <th>E</th>\n",
       "      <th>F</th>\n",
       "    </tr>\n",
       "  </thead>\n",
       "  <tbody>\n",
       "    <tr>\n",
       "      <th>3003</th>\n",
       "      <td>1.0</td>\n",
       "      <td>1.0</td>\n",
       "      <td>1.0</td>\n",
       "      <td>1.0</td>\n",
       "      <td>1.0</td>\n",
       "      <td>1.0</td>\n",
       "    </tr>\n",
       "    <tr>\n",
       "      <th>3006</th>\n",
       "      <td>1.0</td>\n",
       "      <td>1.0</td>\n",
       "      <td>1.0</td>\n",
       "      <td>1.0</td>\n",
       "      <td>1.0</td>\n",
       "      <td>1.0</td>\n",
       "    </tr>\n",
       "    <tr>\n",
       "      <th>3009</th>\n",
       "      <td>1.0</td>\n",
       "      <td>1.0</td>\n",
       "      <td>1.0</td>\n",
       "      <td>1.0</td>\n",
       "      <td>1.0</td>\n",
       "      <td>1.0</td>\n",
       "    </tr>\n",
       "    <tr>\n",
       "      <th>3012</th>\n",
       "      <td>1.0</td>\n",
       "      <td>1.0</td>\n",
       "      <td>1.0</td>\n",
       "      <td>1.0</td>\n",
       "      <td>1.0</td>\n",
       "      <td>1.0</td>\n",
       "    </tr>\n",
       "    <tr>\n",
       "      <th>3015</th>\n",
       "      <td>1.0</td>\n",
       "      <td>1.0</td>\n",
       "      <td>1.0</td>\n",
       "      <td>1.0</td>\n",
       "      <td>1.0</td>\n",
       "      <td>1.0</td>\n",
       "    </tr>\n",
       "  </tbody>\n",
       "</table>\n",
       "</div>"
      ],
      "text/plain": [
       "        A    B    C    D    E    F\n",
       "3003  1.0  1.0  1.0  1.0  1.0  1.0\n",
       "3006  1.0  1.0  1.0  1.0  1.0  1.0\n",
       "3009  1.0  1.0  1.0  1.0  1.0  1.0\n",
       "3012  1.0  1.0  1.0  1.0  1.0  1.0\n",
       "3015  1.0  1.0  1.0  1.0  1.0  1.0"
      ]
     },
     "execution_count": 82,
     "metadata": {},
     "output_type": "execute_result"
    }
   ],
   "source": [
    "newdata = pd.DataFrame(np.ones((5, 6)), index=np.arange(3003, 3018, 3), columns=list('ABCDEF'))\n",
    "newdata"
   ]
  },
  {
   "cell_type": "code",
   "execution_count": 83,
   "metadata": {},
   "outputs": [
    {
     "data": {
      "text/html": [
       "<div>\n",
       "<style scoped>\n",
       "    .dataframe tbody tr th:only-of-type {\n",
       "        vertical-align: middle;\n",
       "    }\n",
       "\n",
       "    .dataframe tbody tr th {\n",
       "        vertical-align: top;\n",
       "    }\n",
       "\n",
       "    .dataframe thead th {\n",
       "        text-align: right;\n",
       "    }\n",
       "</style>\n",
       "<table border=\"1\" class=\"dataframe\">\n",
       "  <thead>\n",
       "    <tr style=\"text-align: right;\">\n",
       "      <th></th>\n",
       "      <th>A</th>\n",
       "      <th>B</th>\n",
       "      <th>C</th>\n",
       "      <th>D</th>\n",
       "      <th>E</th>\n",
       "      <th>F</th>\n",
       "    </tr>\n",
       "  </thead>\n",
       "  <tbody>\n",
       "    <tr>\n",
       "      <th>2985</th>\n",
       "      <td>-0.779326</td>\n",
       "      <td>0.424736</td>\n",
       "      <td>0.548876</td>\n",
       "      <td>-2.316646</td>\n",
       "      <td>1.518206</td>\n",
       "      <td>25.832926</td>\n",
       "    </tr>\n",
       "    <tr>\n",
       "      <th>2988</th>\n",
       "      <td>1.245536</td>\n",
       "      <td>1.010383</td>\n",
       "      <td>-1.802921</td>\n",
       "      <td>-2.585215</td>\n",
       "      <td>0.362162</td>\n",
       "      <td>-5.528130</td>\n",
       "    </tr>\n",
       "    <tr>\n",
       "      <th>2991</th>\n",
       "      <td>0.752105</td>\n",
       "      <td>-1.444161</td>\n",
       "      <td>-0.507737</td>\n",
       "      <td>0.018064</td>\n",
       "      <td>1.158738</td>\n",
       "      <td>-2.168912</td>\n",
       "    </tr>\n",
       "    <tr>\n",
       "      <th>2994</th>\n",
       "      <td>-0.688970</td>\n",
       "      <td>0.508954</td>\n",
       "      <td>-0.110612</td>\n",
       "      <td>-0.657601</td>\n",
       "      <td>-1.061930</td>\n",
       "      <td>19.849865</td>\n",
       "    </tr>\n",
       "    <tr>\n",
       "      <th>2997</th>\n",
       "      <td>0.208066</td>\n",
       "      <td>1.819959</td>\n",
       "      <td>-1.461952</td>\n",
       "      <td>1.949032</td>\n",
       "      <td>-0.814686</td>\n",
       "      <td>-6.501688</td>\n",
       "    </tr>\n",
       "    <tr>\n",
       "      <th>3003</th>\n",
       "      <td>1.000000</td>\n",
       "      <td>1.000000</td>\n",
       "      <td>1.000000</td>\n",
       "      <td>1.000000</td>\n",
       "      <td>1.000000</td>\n",
       "      <td>1.000000</td>\n",
       "    </tr>\n",
       "    <tr>\n",
       "      <th>3006</th>\n",
       "      <td>1.000000</td>\n",
       "      <td>1.000000</td>\n",
       "      <td>1.000000</td>\n",
       "      <td>1.000000</td>\n",
       "      <td>1.000000</td>\n",
       "      <td>1.000000</td>\n",
       "    </tr>\n",
       "    <tr>\n",
       "      <th>3009</th>\n",
       "      <td>1.000000</td>\n",
       "      <td>1.000000</td>\n",
       "      <td>1.000000</td>\n",
       "      <td>1.000000</td>\n",
       "      <td>1.000000</td>\n",
       "      <td>1.000000</td>\n",
       "    </tr>\n",
       "    <tr>\n",
       "      <th>3012</th>\n",
       "      <td>1.000000</td>\n",
       "      <td>1.000000</td>\n",
       "      <td>1.000000</td>\n",
       "      <td>1.000000</td>\n",
       "      <td>1.000000</td>\n",
       "      <td>1.000000</td>\n",
       "    </tr>\n",
       "    <tr>\n",
       "      <th>3015</th>\n",
       "      <td>1.000000</td>\n",
       "      <td>1.000000</td>\n",
       "      <td>1.000000</td>\n",
       "      <td>1.000000</td>\n",
       "      <td>1.000000</td>\n",
       "      <td>1.000000</td>\n",
       "    </tr>\n",
       "  </tbody>\n",
       "</table>\n",
       "</div>"
      ],
      "text/plain": [
       "             A         B         C         D         E          F\n",
       "2985 -0.779326  0.424736  0.548876 -2.316646  1.518206  25.832926\n",
       "2988  1.245536  1.010383 -1.802921 -2.585215  0.362162  -5.528130\n",
       "2991  0.752105 -1.444161 -0.507737  0.018064  1.158738  -2.168912\n",
       "2994 -0.688970  0.508954 -0.110612 -0.657601 -1.061930  19.849865\n",
       "2997  0.208066  1.819959 -1.461952  1.949032 -0.814686  -6.501688\n",
       "3003  1.000000  1.000000  1.000000  1.000000  1.000000   1.000000\n",
       "3006  1.000000  1.000000  1.000000  1.000000  1.000000   1.000000\n",
       "3009  1.000000  1.000000  1.000000  1.000000  1.000000   1.000000\n",
       "3012  1.000000  1.000000  1.000000  1.000000  1.000000   1.000000\n",
       "3015  1.000000  1.000000  1.000000  1.000000  1.000000   1.000000"
      ]
     },
     "execution_count": 83,
     "metadata": {},
     "output_type": "execute_result"
    }
   ],
   "source": [
    "unew = u.append(newdata)\n",
    "unew.tail(10)"
   ]
  },
  {
   "cell_type": "markdown",
   "metadata": {},
   "source": [
    "The same result can be obtained with `concat`."
   ]
  },
  {
   "cell_type": "code",
   "execution_count": 84,
   "metadata": {},
   "outputs": [
    {
     "data": {
      "text/html": [
       "<div>\n",
       "<style scoped>\n",
       "    .dataframe tbody tr th:only-of-type {\n",
       "        vertical-align: middle;\n",
       "    }\n",
       "\n",
       "    .dataframe tbody tr th {\n",
       "        vertical-align: top;\n",
       "    }\n",
       "\n",
       "    .dataframe thead th {\n",
       "        text-align: right;\n",
       "    }\n",
       "</style>\n",
       "<table border=\"1\" class=\"dataframe\">\n",
       "  <thead>\n",
       "    <tr style=\"text-align: right;\">\n",
       "      <th></th>\n",
       "      <th>A</th>\n",
       "      <th>B</th>\n",
       "      <th>C</th>\n",
       "      <th>D</th>\n",
       "      <th>E</th>\n",
       "      <th>F</th>\n",
       "    </tr>\n",
       "  </thead>\n",
       "  <tbody>\n",
       "    <tr>\n",
       "      <th>2985</th>\n",
       "      <td>-0.779326</td>\n",
       "      <td>0.424736</td>\n",
       "      <td>0.548876</td>\n",
       "      <td>-2.316646</td>\n",
       "      <td>1.518206</td>\n",
       "      <td>25.832926</td>\n",
       "    </tr>\n",
       "    <tr>\n",
       "      <th>2988</th>\n",
       "      <td>1.245536</td>\n",
       "      <td>1.010383</td>\n",
       "      <td>-1.802921</td>\n",
       "      <td>-2.585215</td>\n",
       "      <td>0.362162</td>\n",
       "      <td>-5.528130</td>\n",
       "    </tr>\n",
       "    <tr>\n",
       "      <th>2991</th>\n",
       "      <td>0.752105</td>\n",
       "      <td>-1.444161</td>\n",
       "      <td>-0.507737</td>\n",
       "      <td>0.018064</td>\n",
       "      <td>1.158738</td>\n",
       "      <td>-2.168912</td>\n",
       "    </tr>\n",
       "    <tr>\n",
       "      <th>2994</th>\n",
       "      <td>-0.688970</td>\n",
       "      <td>0.508954</td>\n",
       "      <td>-0.110612</td>\n",
       "      <td>-0.657601</td>\n",
       "      <td>-1.061930</td>\n",
       "      <td>19.849865</td>\n",
       "    </tr>\n",
       "    <tr>\n",
       "      <th>2997</th>\n",
       "      <td>0.208066</td>\n",
       "      <td>1.819959</td>\n",
       "      <td>-1.461952</td>\n",
       "      <td>1.949032</td>\n",
       "      <td>-0.814686</td>\n",
       "      <td>-6.501688</td>\n",
       "    </tr>\n",
       "    <tr>\n",
       "      <th>3003</th>\n",
       "      <td>1.000000</td>\n",
       "      <td>1.000000</td>\n",
       "      <td>1.000000</td>\n",
       "      <td>1.000000</td>\n",
       "      <td>1.000000</td>\n",
       "      <td>1.000000</td>\n",
       "    </tr>\n",
       "    <tr>\n",
       "      <th>3006</th>\n",
       "      <td>1.000000</td>\n",
       "      <td>1.000000</td>\n",
       "      <td>1.000000</td>\n",
       "      <td>1.000000</td>\n",
       "      <td>1.000000</td>\n",
       "      <td>1.000000</td>\n",
       "    </tr>\n",
       "    <tr>\n",
       "      <th>3009</th>\n",
       "      <td>1.000000</td>\n",
       "      <td>1.000000</td>\n",
       "      <td>1.000000</td>\n",
       "      <td>1.000000</td>\n",
       "      <td>1.000000</td>\n",
       "      <td>1.000000</td>\n",
       "    </tr>\n",
       "    <tr>\n",
       "      <th>3012</th>\n",
       "      <td>1.000000</td>\n",
       "      <td>1.000000</td>\n",
       "      <td>1.000000</td>\n",
       "      <td>1.000000</td>\n",
       "      <td>1.000000</td>\n",
       "      <td>1.000000</td>\n",
       "    </tr>\n",
       "    <tr>\n",
       "      <th>3015</th>\n",
       "      <td>1.000000</td>\n",
       "      <td>1.000000</td>\n",
       "      <td>1.000000</td>\n",
       "      <td>1.000000</td>\n",
       "      <td>1.000000</td>\n",
       "      <td>1.000000</td>\n",
       "    </tr>\n",
       "  </tbody>\n",
       "</table>\n",
       "</div>"
      ],
      "text/plain": [
       "             A         B         C         D         E          F\n",
       "2985 -0.779326  0.424736  0.548876 -2.316646  1.518206  25.832926\n",
       "2988  1.245536  1.010383 -1.802921 -2.585215  0.362162  -5.528130\n",
       "2991  0.752105 -1.444161 -0.507737  0.018064  1.158738  -2.168912\n",
       "2994 -0.688970  0.508954 -0.110612 -0.657601 -1.061930  19.849865\n",
       "2997  0.208066  1.819959 -1.461952  1.949032 -0.814686  -6.501688\n",
       "3003  1.000000  1.000000  1.000000  1.000000  1.000000   1.000000\n",
       "3006  1.000000  1.000000  1.000000  1.000000  1.000000   1.000000\n",
       "3009  1.000000  1.000000  1.000000  1.000000  1.000000   1.000000\n",
       "3012  1.000000  1.000000  1.000000  1.000000  1.000000   1.000000\n",
       "3015  1.000000  1.000000  1.000000  1.000000  1.000000   1.000000"
      ]
     },
     "execution_count": 84,
     "metadata": {},
     "output_type": "execute_result"
    }
   ],
   "source": [
    "pd.concat([u, newdata]).tail(10)"
   ]
  },
  {
   "cell_type": "markdown",
   "metadata": {},
   "source": [
    "New columns of data can just be asigned or added with the command `join`."
   ]
  },
  {
   "cell_type": "code",
   "execution_count": 85,
   "metadata": {},
   "outputs": [
    {
     "data": {
      "text/html": [
       "<div>\n",
       "<style scoped>\n",
       "    .dataframe tbody tr th:only-of-type {\n",
       "        vertical-align: middle;\n",
       "    }\n",
       "\n",
       "    .dataframe tbody tr th {\n",
       "        vertical-align: top;\n",
       "    }\n",
       "\n",
       "    .dataframe thead th {\n",
       "        text-align: right;\n",
       "    }\n",
       "</style>\n",
       "<table border=\"1\" class=\"dataframe\">\n",
       "  <thead>\n",
       "    <tr style=\"text-align: right;\">\n",
       "      <th></th>\n",
       "      <th>A</th>\n",
       "      <th>B</th>\n",
       "      <th>C</th>\n",
       "      <th>D</th>\n",
       "      <th>E</th>\n",
       "      <th>F</th>\n",
       "      <th>G</th>\n",
       "    </tr>\n",
       "  </thead>\n",
       "  <tbody>\n",
       "    <tr>\n",
       "      <th>2985</th>\n",
       "      <td>-0.779326</td>\n",
       "      <td>0.424736</td>\n",
       "      <td>0.548876</td>\n",
       "      <td>-2.316646</td>\n",
       "      <td>1.518206</td>\n",
       "      <td>25.832926</td>\n",
       "      <td>a</td>\n",
       "    </tr>\n",
       "    <tr>\n",
       "      <th>2988</th>\n",
       "      <td>1.245536</td>\n",
       "      <td>1.010383</td>\n",
       "      <td>-1.802921</td>\n",
       "      <td>-2.585215</td>\n",
       "      <td>0.362162</td>\n",
       "      <td>-5.528130</td>\n",
       "      <td>c</td>\n",
       "    </tr>\n",
       "    <tr>\n",
       "      <th>2991</th>\n",
       "      <td>0.752105</td>\n",
       "      <td>-1.444161</td>\n",
       "      <td>-0.507737</td>\n",
       "      <td>0.018064</td>\n",
       "      <td>1.158738</td>\n",
       "      <td>-2.168912</td>\n",
       "      <td>b</td>\n",
       "    </tr>\n",
       "    <tr>\n",
       "      <th>2994</th>\n",
       "      <td>-0.688970</td>\n",
       "      <td>0.508954</td>\n",
       "      <td>-0.110612</td>\n",
       "      <td>-0.657601</td>\n",
       "      <td>-1.061930</td>\n",
       "      <td>19.849865</td>\n",
       "      <td>a</td>\n",
       "    </tr>\n",
       "    <tr>\n",
       "      <th>2997</th>\n",
       "      <td>0.208066</td>\n",
       "      <td>1.819959</td>\n",
       "      <td>-1.461952</td>\n",
       "      <td>1.949032</td>\n",
       "      <td>-0.814686</td>\n",
       "      <td>-6.501688</td>\n",
       "      <td>b</td>\n",
       "    </tr>\n",
       "  </tbody>\n",
       "</table>\n",
       "</div>"
      ],
      "text/plain": [
       "             A         B         C         D         E          F  G\n",
       "2985 -0.779326  0.424736  0.548876 -2.316646  1.518206  25.832926  a\n",
       "2988  1.245536  1.010383 -1.802921 -2.585215  0.362162  -5.528130  c\n",
       "2991  0.752105 -1.444161 -0.507737  0.018064  1.158738  -2.168912  b\n",
       "2994 -0.688970  0.508954 -0.110612 -0.657601 -1.061930  19.849865  a\n",
       "2997  0.208066  1.819959 -1.461952  1.949032 -0.814686  -6.501688  b"
      ]
     },
     "execution_count": 85,
     "metadata": {},
     "output_type": "execute_result"
    }
   ],
   "source": [
    "u['G'] = np.random.choice(['a', 'b', 'c'], len(u))\n",
    "u.tail()"
   ]
  },
  {
   "cell_type": "markdown",
   "metadata": {},
   "source": [
    "### Grouping Data"
   ]
  },
  {
   "cell_type": "code",
   "execution_count": 86,
   "metadata": {},
   "outputs": [
    {
     "name": "stdout",
     "output_type": "stream",
     "text": [
      "a: -0.0008421855752116789\n",
      "b: -13.980448225745274\n",
      "c: 1.5318088670645276\n"
     ]
    }
   ],
   "source": [
    "for h, group in u.groupby('G'):\n",
    "    print('{}: {}'.format(h, np.mean(group['F'])))"
   ]
  },
  {
   "cell_type": "code",
   "execution_count": 87,
   "metadata": {},
   "outputs": [
    {
     "data": {
      "text/html": [
       "<div>\n",
       "<style scoped>\n",
       "    .dataframe tbody tr th:only-of-type {\n",
       "        vertical-align: middle;\n",
       "    }\n",
       "\n",
       "    .dataframe tbody tr th {\n",
       "        vertical-align: top;\n",
       "    }\n",
       "\n",
       "    .dataframe thead tr th {\n",
       "        text-align: left;\n",
       "    }\n",
       "\n",
       "    .dataframe thead tr:last-of-type th {\n",
       "        text-align: right;\n",
       "    }\n",
       "</style>\n",
       "<table border=\"1\" class=\"dataframe\">\n",
       "  <thead>\n",
       "    <tr>\n",
       "      <th></th>\n",
       "      <th colspan=\"8\" halign=\"left\">A</th>\n",
       "      <th colspan=\"2\" halign=\"left\">B</th>\n",
       "      <th>...</th>\n",
       "      <th colspan=\"2\" halign=\"left\">E</th>\n",
       "      <th colspan=\"8\" halign=\"left\">F</th>\n",
       "    </tr>\n",
       "    <tr>\n",
       "      <th></th>\n",
       "      <th>count</th>\n",
       "      <th>mean</th>\n",
       "      <th>std</th>\n",
       "      <th>min</th>\n",
       "      <th>25%</th>\n",
       "      <th>50%</th>\n",
       "      <th>75%</th>\n",
       "      <th>max</th>\n",
       "      <th>count</th>\n",
       "      <th>mean</th>\n",
       "      <th>...</th>\n",
       "      <th>75%</th>\n",
       "      <th>max</th>\n",
       "      <th>count</th>\n",
       "      <th>mean</th>\n",
       "      <th>std</th>\n",
       "      <th>min</th>\n",
       "      <th>25%</th>\n",
       "      <th>50%</th>\n",
       "      <th>75%</th>\n",
       "      <th>max</th>\n",
       "    </tr>\n",
       "    <tr>\n",
       "      <th>G</th>\n",
       "      <th></th>\n",
       "      <th></th>\n",
       "      <th></th>\n",
       "      <th></th>\n",
       "      <th></th>\n",
       "      <th></th>\n",
       "      <th></th>\n",
       "      <th></th>\n",
       "      <th></th>\n",
       "      <th></th>\n",
       "      <th></th>\n",
       "      <th></th>\n",
       "      <th></th>\n",
       "      <th></th>\n",
       "      <th></th>\n",
       "      <th></th>\n",
       "      <th></th>\n",
       "      <th></th>\n",
       "      <th></th>\n",
       "      <th></th>\n",
       "      <th></th>\n",
       "    </tr>\n",
       "  </thead>\n",
       "  <tbody>\n",
       "    <tr>\n",
       "      <th>a</th>\n",
       "      <td>355.0</td>\n",
       "      <td>-0.054040</td>\n",
       "      <td>1.056119</td>\n",
       "      <td>-3.205216</td>\n",
       "      <td>-0.762618</td>\n",
       "      <td>-0.024805</td>\n",
       "      <td>0.642713</td>\n",
       "      <td>3.796625</td>\n",
       "      <td>355.0</td>\n",
       "      <td>0.137639</td>\n",
       "      <td>...</td>\n",
       "      <td>0.660793</td>\n",
       "      <td>3.159995</td>\n",
       "      <td>355.0</td>\n",
       "      <td>-0.000842</td>\n",
       "      <td>15.675441</td>\n",
       "      <td>-223.960885</td>\n",
       "      <td>-1.462605</td>\n",
       "      <td>-0.504428</td>\n",
       "      <td>1.587306</td>\n",
       "      <td>77.513602</td>\n",
       "    </tr>\n",
       "    <tr>\n",
       "      <th>b</th>\n",
       "      <td>324.0</td>\n",
       "      <td>-0.016923</td>\n",
       "      <td>0.979483</td>\n",
       "      <td>-2.487953</td>\n",
       "      <td>-0.717918</td>\n",
       "      <td>-0.057716</td>\n",
       "      <td>0.681434</td>\n",
       "      <td>3.356327</td>\n",
       "      <td>324.0</td>\n",
       "      <td>0.040709</td>\n",
       "      <td>...</td>\n",
       "      <td>0.662474</td>\n",
       "      <td>3.060963</td>\n",
       "      <td>324.0</td>\n",
       "      <td>-13.980448</td>\n",
       "      <td>264.328321</td>\n",
       "      <td>-4752.187932</td>\n",
       "      <td>-1.289143</td>\n",
       "      <td>-0.438322</td>\n",
       "      <td>1.574061</td>\n",
       "      <td>110.350988</td>\n",
       "    </tr>\n",
       "    <tr>\n",
       "      <th>c</th>\n",
       "      <td>321.0</td>\n",
       "      <td>-0.081392</td>\n",
       "      <td>1.023785</td>\n",
       "      <td>-2.690009</td>\n",
       "      <td>-0.809986</td>\n",
       "      <td>-0.109089</td>\n",
       "      <td>0.596933</td>\n",
       "      <td>2.553238</td>\n",
       "      <td>321.0</td>\n",
       "      <td>-0.000431</td>\n",
       "      <td>...</td>\n",
       "      <td>0.885457</td>\n",
       "      <td>2.829819</td>\n",
       "      <td>321.0</td>\n",
       "      <td>1.531809</td>\n",
       "      <td>44.547577</td>\n",
       "      <td>-142.745170</td>\n",
       "      <td>-1.451198</td>\n",
       "      <td>-0.483571</td>\n",
       "      <td>1.372699</td>\n",
       "      <td>762.072499</td>\n",
       "    </tr>\n",
       "  </tbody>\n",
       "</table>\n",
       "<p>3 rows × 48 columns</p>\n",
       "</div>"
      ],
      "text/plain": [
       "       A                                                              \\\n",
       "   count      mean       std       min       25%       50%       75%   \n",
       "G                                                                      \n",
       "a  355.0 -0.054040  1.056119 -3.205216 -0.762618 -0.024805  0.642713   \n",
       "b  324.0 -0.016923  0.979483 -2.487953 -0.717918 -0.057716  0.681434   \n",
       "c  321.0 -0.081392  1.023785 -2.690009 -0.809986 -0.109089  0.596933   \n",
       "\n",
       "                 B               ...             E                F  \\\n",
       "        max  count      mean     ...           75%       max  count   \n",
       "G                                ...                                  \n",
       "a  3.796625  355.0  0.137639     ...      0.660793  3.159995  355.0   \n",
       "b  3.356327  324.0  0.040709     ...      0.662474  3.060963  324.0   \n",
       "c  2.553238  321.0 -0.000431     ...      0.885457  2.829819  321.0   \n",
       "\n",
       "                                                                     \\\n",
       "        mean         std          min       25%       50%       75%   \n",
       "G                                                                     \n",
       "a  -0.000842   15.675441  -223.960885 -1.462605 -0.504428  1.587306   \n",
       "b -13.980448  264.328321 -4752.187932 -1.289143 -0.438322  1.574061   \n",
       "c   1.531809   44.547577  -142.745170 -1.451198 -0.483571  1.372699   \n",
       "\n",
       "               \n",
       "          max  \n",
       "G              \n",
       "a   77.513602  \n",
       "b  110.350988  \n",
       "c  762.072499  \n",
       "\n",
       "[3 rows x 48 columns]"
      ]
     },
     "execution_count": 87,
     "metadata": {},
     "output_type": "execute_result"
    }
   ],
   "source": [
    "u.groupby('G').describe()"
   ]
  },
  {
   "cell_type": "code",
   "execution_count": 98,
   "metadata": {},
   "outputs": [
    {
     "data": {
      "text/html": [
       "<div>\n",
       "<style scoped>\n",
       "    .dataframe tbody tr th:only-of-type {\n",
       "        vertical-align: middle;\n",
       "    }\n",
       "\n",
       "    .dataframe tbody tr th {\n",
       "        vertical-align: top;\n",
       "    }\n",
       "\n",
       "    .dataframe thead th {\n",
       "        text-align: right;\n",
       "    }\n",
       "</style>\n",
       "<table border=\"1\" class=\"dataframe\">\n",
       "  <thead>\n",
       "    <tr style=\"text-align: right;\">\n",
       "      <th></th>\n",
       "      <th>A</th>\n",
       "      <th>B</th>\n",
       "      <th>C</th>\n",
       "      <th>D</th>\n",
       "      <th>E</th>\n",
       "      <th>F</th>\n",
       "    </tr>\n",
       "    <tr>\n",
       "      <th>G</th>\n",
       "      <th></th>\n",
       "      <th></th>\n",
       "      <th></th>\n",
       "      <th></th>\n",
       "      <th></th>\n",
       "      <th></th>\n",
       "    </tr>\n",
       "  </thead>\n",
       "  <tbody>\n",
       "    <tr>\n",
       "      <th>a</th>\n",
       "      <td>-0.054040</td>\n",
       "      <td>0.137639</td>\n",
       "      <td>-0.028253</td>\n",
       "      <td>-0.024943</td>\n",
       "      <td>-0.038171</td>\n",
       "      <td>-0.000842</td>\n",
       "    </tr>\n",
       "    <tr>\n",
       "      <th>b</th>\n",
       "      <td>-0.016923</td>\n",
       "      <td>0.040709</td>\n",
       "      <td>-0.090043</td>\n",
       "      <td>0.116645</td>\n",
       "      <td>-0.014294</td>\n",
       "      <td>-13.980448</td>\n",
       "    </tr>\n",
       "    <tr>\n",
       "      <th>c</th>\n",
       "      <td>-0.081392</td>\n",
       "      <td>-0.000431</td>\n",
       "      <td>0.042796</td>\n",
       "      <td>0.052485</td>\n",
       "      <td>0.127525</td>\n",
       "      <td>1.531809</td>\n",
       "    </tr>\n",
       "  </tbody>\n",
       "</table>\n",
       "</div>"
      ],
      "text/plain": [
       "          A         B         C         D         E          F\n",
       "G                                                             \n",
       "a -0.054040  0.137639 -0.028253 -0.024943 -0.038171  -0.000842\n",
       "b -0.016923  0.040709 -0.090043  0.116645 -0.014294 -13.980448\n",
       "c -0.081392 -0.000431  0.042796  0.052485  0.127525   1.531809"
      ]
     },
     "execution_count": 98,
     "metadata": {},
     "output_type": "execute_result"
    }
   ],
   "source": [
    "u.pivot_table(index='G', aggfunc='mean')"
   ]
  },
  {
   "cell_type": "markdown",
   "metadata": {},
   "source": [
    "### Loading and saving dataframes\n",
    "\n",
    "To load and save Pandas dataframes we will use the `to_csv` and `read_csv` commands"
   ]
  },
  {
   "cell_type": "code",
   "execution_count": 107,
   "metadata": {},
   "outputs": [
    {
     "data": {
      "text/html": [
       "<div>\n",
       "<style scoped>\n",
       "    .dataframe tbody tr th:only-of-type {\n",
       "        vertical-align: middle;\n",
       "    }\n",
       "\n",
       "    .dataframe tbody tr th {\n",
       "        vertical-align: top;\n",
       "    }\n",
       "\n",
       "    .dataframe thead th {\n",
       "        text-align: right;\n",
       "    }\n",
       "</style>\n",
       "<table border=\"1\" class=\"dataframe\">\n",
       "  <thead>\n",
       "    <tr style=\"text-align: right;\">\n",
       "      <th></th>\n",
       "      <th>A</th>\n",
       "      <th>B</th>\n",
       "      <th>C</th>\n",
       "      <th>D</th>\n",
       "      <th>E</th>\n",
       "      <th>F</th>\n",
       "      <th>G</th>\n",
       "    </tr>\n",
       "  </thead>\n",
       "  <tbody>\n",
       "    <tr>\n",
       "      <th>0</th>\n",
       "      <td>-0.761486</td>\n",
       "      <td>-1.856963</td>\n",
       "      <td>-0.259506</td>\n",
       "      <td>-0.965839</td>\n",
       "      <td>0.595335</td>\n",
       "      <td>-0.717366</td>\n",
       "      <td>b</td>\n",
       "    </tr>\n",
       "    <tr>\n",
       "      <th>3</th>\n",
       "      <td>0.730582</td>\n",
       "      <td>-1.933338</td>\n",
       "      <td>0.159036</td>\n",
       "      <td>-0.303658</td>\n",
       "      <td>0.285985</td>\n",
       "      <td>-65.111125</td>\n",
       "      <td>c</td>\n",
       "    </tr>\n",
       "    <tr>\n",
       "      <th>6</th>\n",
       "      <td>1.181648</td>\n",
       "      <td>-0.308067</td>\n",
       "      <td>0.194845</td>\n",
       "      <td>-0.110363</td>\n",
       "      <td>-0.377039</td>\n",
       "      <td>-1.775183</td>\n",
       "      <td>c</td>\n",
       "    </tr>\n",
       "    <tr>\n",
       "      <th>9</th>\n",
       "      <td>-0.207188</td>\n",
       "      <td>0.887225</td>\n",
       "      <td>-0.089879</td>\n",
       "      <td>1.535221</td>\n",
       "      <td>-0.178550</td>\n",
       "      <td>-8.390081</td>\n",
       "      <td>b</td>\n",
       "    </tr>\n",
       "    <tr>\n",
       "      <th>12</th>\n",
       "      <td>-1.452087</td>\n",
       "      <td>-1.678056</td>\n",
       "      <td>0.442135</td>\n",
       "      <td>0.815065</td>\n",
       "      <td>-0.788070</td>\n",
       "      <td>1.155803</td>\n",
       "      <td>a</td>\n",
       "    </tr>\n",
       "  </tbody>\n",
       "</table>\n",
       "</div>"
      ],
      "text/plain": [
       "           A         B         C         D         E          F  G\n",
       "0  -0.761486 -1.856963 -0.259506 -0.965839  0.595335  -0.717366  b\n",
       "3   0.730582 -1.933338  0.159036 -0.303658  0.285985 -65.111125  c\n",
       "6   1.181648 -0.308067  0.194845 -0.110363 -0.377039  -1.775183  c\n",
       "9  -0.207188  0.887225 -0.089879  1.535221 -0.178550  -8.390081  b\n",
       "12 -1.452087 -1.678056  0.442135  0.815065 -0.788070   1.155803  a"
      ]
     },
     "execution_count": 107,
     "metadata": {},
     "output_type": "execute_result"
    }
   ],
   "source": [
    "u.to_csv('test.csv')\n",
    "v = pd.read_csv('test.csv', index_col=0)\n",
    "v.head()"
   ]
  },
  {
   "cell_type": "markdown",
   "metadata": {},
   "source": [
    "But, as an addition, Pandas has special commands to load and save Excel spreadsheets (yay!). However, to use it you'll need the `openpyxl` and `xlrd` packages."
   ]
  },
  {
   "cell_type": "code",
   "execution_count": 108,
   "metadata": {},
   "outputs": [
    {
     "data": {
      "text/html": [
       "<div>\n",
       "<style scoped>\n",
       "    .dataframe tbody tr th:only-of-type {\n",
       "        vertical-align: middle;\n",
       "    }\n",
       "\n",
       "    .dataframe tbody tr th {\n",
       "        vertical-align: top;\n",
       "    }\n",
       "\n",
       "    .dataframe thead th {\n",
       "        text-align: right;\n",
       "    }\n",
       "</style>\n",
       "<table border=\"1\" class=\"dataframe\">\n",
       "  <thead>\n",
       "    <tr style=\"text-align: right;\">\n",
       "      <th></th>\n",
       "      <th>A</th>\n",
       "      <th>B</th>\n",
       "      <th>C</th>\n",
       "      <th>D</th>\n",
       "      <th>E</th>\n",
       "      <th>F</th>\n",
       "      <th>G</th>\n",
       "    </tr>\n",
       "  </thead>\n",
       "  <tbody>\n",
       "    <tr>\n",
       "      <th>0</th>\n",
       "      <td>-0.761486</td>\n",
       "      <td>-1.856963</td>\n",
       "      <td>-0.259506</td>\n",
       "      <td>-0.965839</td>\n",
       "      <td>0.595335</td>\n",
       "      <td>-0.717366</td>\n",
       "      <td>b</td>\n",
       "    </tr>\n",
       "    <tr>\n",
       "      <th>3</th>\n",
       "      <td>0.730582</td>\n",
       "      <td>-1.933338</td>\n",
       "      <td>0.159036</td>\n",
       "      <td>-0.303658</td>\n",
       "      <td>0.285985</td>\n",
       "      <td>-65.111125</td>\n",
       "      <td>c</td>\n",
       "    </tr>\n",
       "    <tr>\n",
       "      <th>6</th>\n",
       "      <td>1.181648</td>\n",
       "      <td>-0.308067</td>\n",
       "      <td>0.194845</td>\n",
       "      <td>-0.110363</td>\n",
       "      <td>-0.377039</td>\n",
       "      <td>-1.775183</td>\n",
       "      <td>c</td>\n",
       "    </tr>\n",
       "    <tr>\n",
       "      <th>9</th>\n",
       "      <td>-0.207188</td>\n",
       "      <td>0.887225</td>\n",
       "      <td>-0.089879</td>\n",
       "      <td>1.535221</td>\n",
       "      <td>-0.178550</td>\n",
       "      <td>-8.390081</td>\n",
       "      <td>b</td>\n",
       "    </tr>\n",
       "    <tr>\n",
       "      <th>12</th>\n",
       "      <td>-1.452087</td>\n",
       "      <td>-1.678056</td>\n",
       "      <td>0.442135</td>\n",
       "      <td>0.815065</td>\n",
       "      <td>-0.788070</td>\n",
       "      <td>1.155803</td>\n",
       "      <td>a</td>\n",
       "    </tr>\n",
       "  </tbody>\n",
       "</table>\n",
       "</div>"
      ],
      "text/plain": [
       "           A         B         C         D         E          F  G\n",
       "0  -0.761486 -1.856963 -0.259506 -0.965839  0.595335  -0.717366  b\n",
       "3   0.730582 -1.933338  0.159036 -0.303658  0.285985 -65.111125  c\n",
       "6   1.181648 -0.308067  0.194845 -0.110363 -0.377039  -1.775183  c\n",
       "9  -0.207188  0.887225 -0.089879  1.535221 -0.178550  -8.390081  b\n",
       "12 -1.452087 -1.678056  0.442135  0.815065 -0.788070   1.155803  a"
      ]
     },
     "execution_count": 108,
     "metadata": {},
     "output_type": "execute_result"
    }
   ],
   "source": [
    "u.to_excel('test.xlsx', sheet_name='My sheet')\n",
    "pd.read_excel('test.xlsx', 'My sheet', index_col=0).head()"
   ]
  },
  {
   "cell_type": "markdown",
   "metadata": {},
   "source": [
    "**Exercise 5**: Download [this dataset](https://raw.githubusercontent.com/ChihChengLiang/pokemongor/master/data-raw/pokemons.csv) and load it, using the first column as the index. Take a look at it, and do the following things:\n",
    "- Choose the columns 'Identifier', 'BaseStamina', 'BaseAttack', 'BaseDefense', 'Type1' and 'Type2' \n",
    "- Create a function that lowercases strings and apply it to 'Type1' and 'Type2' (*Extra: just capitalize the strings, i.e., leave the first letter uppercase and lowercase the rest*)\n",
    "- Create a function that returns a Boolean value (don't be afraif by this, it is a function that returns either True or False) that tells if a Pokémon has high stamina (BaseStamina>170) or not. Store this information in a new column and show the list of Pokémon with high stamina\n",
    "- Show the instructor the last 15 rows of your dataset"
   ]
  },
  {
   "cell_type": "code",
   "execution_count": 109,
   "metadata": {},
   "outputs": [
    {
     "name": "stdout",
     "output_type": "stream",
     "text": [
      "PkMn\n",
      "31      Nidoqueen\n",
      "36       Clefable\n",
      "39     Jigglypuff\n",
      "40     Wigglytuff\n",
      "59       Arcanine\n",
      "62      Poliwrath\n",
      "68        Machamp\n",
      "          ...    \n",
      "143       Snorlax\n",
      "144      Articuno\n",
      "145        Zapdos\n",
      "146       Moltres\n",
      "149     Dragonite\n",
      "150        Mewtwo\n",
      "151           Mew\n",
      "Name: Identifier, Length: 26, dtype: object\n"
     ]
    },
    {
     "data": {
      "text/html": [
       "<div>\n",
       "<style scoped>\n",
       "    .dataframe tbody tr th:only-of-type {\n",
       "        vertical-align: middle;\n",
       "    }\n",
       "\n",
       "    .dataframe tbody tr th {\n",
       "        vertical-align: top;\n",
       "    }\n",
       "\n",
       "    .dataframe thead th {\n",
       "        text-align: right;\n",
       "    }\n",
       "</style>\n",
       "<table border=\"1\" class=\"dataframe\">\n",
       "  <thead>\n",
       "    <tr style=\"text-align: right;\">\n",
       "      <th></th>\n",
       "      <th>Identifier</th>\n",
       "      <th>BaseStamina</th>\n",
       "      <th>BaseAttack</th>\n",
       "      <th>BaseDefense</th>\n",
       "      <th>Type1</th>\n",
       "      <th>Type2</th>\n",
       "      <th>HighStamina</th>\n",
       "    </tr>\n",
       "    <tr>\n",
       "      <th>PkMn</th>\n",
       "      <th></th>\n",
       "      <th></th>\n",
       "      <th></th>\n",
       "      <th></th>\n",
       "      <th></th>\n",
       "      <th></th>\n",
       "      <th></th>\n",
       "    </tr>\n",
       "  </thead>\n",
       "  <tbody>\n",
       "    <tr>\n",
       "      <th>137</th>\n",
       "      <td>Porygon</td>\n",
       "      <td>130</td>\n",
       "      <td>156</td>\n",
       "      <td>158</td>\n",
       "      <td>Normal</td>\n",
       "      <td>None</td>\n",
       "      <td>False</td>\n",
       "    </tr>\n",
       "    <tr>\n",
       "      <th>138</th>\n",
       "      <td>Omanyte</td>\n",
       "      <td>70</td>\n",
       "      <td>132</td>\n",
       "      <td>160</td>\n",
       "      <td>Rock</td>\n",
       "      <td>Water</td>\n",
       "      <td>False</td>\n",
       "    </tr>\n",
       "    <tr>\n",
       "      <th>139</th>\n",
       "      <td>Omastar</td>\n",
       "      <td>140</td>\n",
       "      <td>180</td>\n",
       "      <td>202</td>\n",
       "      <td>Rock</td>\n",
       "      <td>Water</td>\n",
       "      <td>False</td>\n",
       "    </tr>\n",
       "    <tr>\n",
       "      <th>140</th>\n",
       "      <td>Kabuto</td>\n",
       "      <td>60</td>\n",
       "      <td>148</td>\n",
       "      <td>142</td>\n",
       "      <td>Rock</td>\n",
       "      <td>Water</td>\n",
       "      <td>False</td>\n",
       "    </tr>\n",
       "    <tr>\n",
       "      <th>141</th>\n",
       "      <td>Kabutops</td>\n",
       "      <td>120</td>\n",
       "      <td>190</td>\n",
       "      <td>190</td>\n",
       "      <td>Rock</td>\n",
       "      <td>Water</td>\n",
       "      <td>False</td>\n",
       "    </tr>\n",
       "    <tr>\n",
       "      <th>142</th>\n",
       "      <td>Aerodactyl</td>\n",
       "      <td>160</td>\n",
       "      <td>182</td>\n",
       "      <td>162</td>\n",
       "      <td>Rock</td>\n",
       "      <td>Flying</td>\n",
       "      <td>False</td>\n",
       "    </tr>\n",
       "    <tr>\n",
       "      <th>143</th>\n",
       "      <td>Snorlax</td>\n",
       "      <td>320</td>\n",
       "      <td>180</td>\n",
       "      <td>180</td>\n",
       "      <td>Normal</td>\n",
       "      <td>None</td>\n",
       "      <td>True</td>\n",
       "    </tr>\n",
       "    <tr>\n",
       "      <th>144</th>\n",
       "      <td>Articuno</td>\n",
       "      <td>180</td>\n",
       "      <td>198</td>\n",
       "      <td>242</td>\n",
       "      <td>Ice</td>\n",
       "      <td>Flying</td>\n",
       "      <td>True</td>\n",
       "    </tr>\n",
       "    <tr>\n",
       "      <th>145</th>\n",
       "      <td>Zapdos</td>\n",
       "      <td>180</td>\n",
       "      <td>232</td>\n",
       "      <td>194</td>\n",
       "      <td>Electric</td>\n",
       "      <td>Flying</td>\n",
       "      <td>True</td>\n",
       "    </tr>\n",
       "    <tr>\n",
       "      <th>146</th>\n",
       "      <td>Moltres</td>\n",
       "      <td>180</td>\n",
       "      <td>242</td>\n",
       "      <td>194</td>\n",
       "      <td>Fire</td>\n",
       "      <td>Flying</td>\n",
       "      <td>True</td>\n",
       "    </tr>\n",
       "    <tr>\n",
       "      <th>147</th>\n",
       "      <td>Dratini</td>\n",
       "      <td>82</td>\n",
       "      <td>128</td>\n",
       "      <td>110</td>\n",
       "      <td>Dragon</td>\n",
       "      <td>None</td>\n",
       "      <td>False</td>\n",
       "    </tr>\n",
       "    <tr>\n",
       "      <th>148</th>\n",
       "      <td>Dragonair</td>\n",
       "      <td>122</td>\n",
       "      <td>170</td>\n",
       "      <td>152</td>\n",
       "      <td>Dragon</td>\n",
       "      <td>None</td>\n",
       "      <td>False</td>\n",
       "    </tr>\n",
       "    <tr>\n",
       "      <th>149</th>\n",
       "      <td>Dragonite</td>\n",
       "      <td>182</td>\n",
       "      <td>250</td>\n",
       "      <td>212</td>\n",
       "      <td>Dragon</td>\n",
       "      <td>Flying</td>\n",
       "      <td>True</td>\n",
       "    </tr>\n",
       "    <tr>\n",
       "      <th>150</th>\n",
       "      <td>Mewtwo</td>\n",
       "      <td>212</td>\n",
       "      <td>284</td>\n",
       "      <td>202</td>\n",
       "      <td>Psychic</td>\n",
       "      <td>None</td>\n",
       "      <td>True</td>\n",
       "    </tr>\n",
       "    <tr>\n",
       "      <th>151</th>\n",
       "      <td>Mew</td>\n",
       "      <td>200</td>\n",
       "      <td>220</td>\n",
       "      <td>220</td>\n",
       "      <td>Psychic</td>\n",
       "      <td>None</td>\n",
       "      <td>True</td>\n",
       "    </tr>\n",
       "  </tbody>\n",
       "</table>\n",
       "</div>"
      ],
      "text/plain": [
       "      Identifier  BaseStamina  BaseAttack  BaseDefense     Type1   Type2  \\\n",
       "PkMn                                                                       \n",
       "137      Porygon          130         156          158    Normal    None   \n",
       "138      Omanyte           70         132          160      Rock   Water   \n",
       "139      Omastar          140         180          202      Rock   Water   \n",
       "140       Kabuto           60         148          142      Rock   Water   \n",
       "141     Kabutops          120         190          190      Rock   Water   \n",
       "142   Aerodactyl          160         182          162      Rock  Flying   \n",
       "143      Snorlax          320         180          180    Normal    None   \n",
       "144     Articuno          180         198          242       Ice  Flying   \n",
       "145       Zapdos          180         232          194  Electric  Flying   \n",
       "146      Moltres          180         242          194      Fire  Flying   \n",
       "147      Dratini           82         128          110    Dragon    None   \n",
       "148    Dragonair          122         170          152    Dragon    None   \n",
       "149    Dragonite          182         250          212    Dragon  Flying   \n",
       "150       Mewtwo          212         284          202   Psychic    None   \n",
       "151          Mew          200         220          220   Psychic    None   \n",
       "\n",
       "      HighStamina  \n",
       "PkMn               \n",
       "137         False  \n",
       "138         False  \n",
       "139         False  \n",
       "140         False  \n",
       "141         False  \n",
       "142         False  \n",
       "143          True  \n",
       "144          True  \n",
       "145          True  \n",
       "146          True  \n",
       "147         False  \n",
       "148         False  \n",
       "149          True  \n",
       "150          True  \n",
       "151          True  "
      ]
     },
     "execution_count": 109,
     "metadata": {},
     "output_type": "execute_result"
    }
   ],
   "source": [
    "df = pd.read_csv('https://raw.githubusercontent.com/ChihChengLiang/pokemongor/master/data-raw/pokemons.csv', \n",
    "                 index_col=0)\n",
    "\n",
    "df = df[['Identifier', 'BaseStamina', 'BaseAttack', 'BaseDefense', 'Type1', 'Type2']]\n",
    "\n",
    "capitalize = lambda st: st.capitalize()\n",
    "\n",
    "for col in ['Type1', 'Type2']:\n",
    "    df[col] = df[col].apply(capitalize)\n",
    "    \n",
    "def highstamina(x):\n",
    "    return True if x > 170 else False\n",
    "\n",
    "df['HighStamina'] = df.BaseStamina.apply(highstamina)\n",
    "\n",
    "print(df[df['HighStamina'] == True].Identifier)\n",
    "\n",
    "df.tail(15)"
   ]
  }
 ],
 "metadata": {
  "kernelspec": {
   "display_name": "Python [default]",
   "language": "python",
   "name": "python3"
  },
  "language_info": {
   "codemirror_mode": {
    "name": "ipython",
    "version": 3
   },
   "file_extension": ".py",
   "mimetype": "text/x-python",
   "name": "python",
   "nbconvert_exporter": "python",
   "pygments_lexer": "ipython3",
   "version": "3.6.6"
  }
 },
 "nbformat": 4,
 "nbformat_minor": 2
}
