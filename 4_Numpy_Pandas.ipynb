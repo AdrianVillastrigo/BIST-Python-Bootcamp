{
 "cells": [
  {
   "cell_type": "markdown",
   "metadata": {},
   "source": [
    "# 4 NumPy and Pandas\n",
    "\n",
    "## Introduction\n",
    "\n",
    "After getting used to how Python works, it is the moment to begin getting our hands dirty with data analysis. We will study two packages: [NumPy](http://www.numpy.org/) is the fundamental numeric computing and linear algebra package in Python, that allows for decent data analysis. We will learn it not only for the data analysis, but more importantly because it will be a package that will be always present in our `import` section as scientists. After NumPy we will go to [Pandas](http://pandas.pydata.org/). Pandas is a dedicated data analysis package with a lot more functionalities than NumPy, making our life much easier in terms of data visualization and manipulation. All the power of Pandas will be completely unleashed in Section 5, where we will see how to visualize information in plots.\n",
    "\n",
    "As usual, we begin importing the necessary packages"
   ]
  },
  {
   "cell_type": "code",
   "execution_count": 1,
   "metadata": {},
   "outputs": [
    {
     "name": "stdout",
     "output_type": "stream",
     "text": [
      "NumPy: 1.13.1\n",
      "Pandas: 0.20.3\n"
     ]
    }
   ],
   "source": [
    "import numpy as np\n",
    "import pandas as pd\n",
    "print(\"NumPy:\", np.__version__)\n",
    "print(\"Pandas:\", pd.__version__)"
   ]
  },
  {
   "cell_type": "markdown",
   "metadata": {},
   "source": [
    "## Numeric Python (NumPy)\n",
    "\n",
    "NumPy is an open-source add-on module to Python that provides common mathematical and numerical routines in pre-compiled, fast functions. These are growing into highly mature packages that provide functionality that meets, or perhaps exceeds, that\n",
    "associated with common commercial software like MATLAB. The [NumPy](http://www.numpy.org/) (Numeric Python) package provides basic routines for manipulating large arrays and matrices of numeric data. The main object NumPy works with is a *homogeneous multidimensional array*. Despite its intimidating name, these are nothing but tables of numbers, each labelled by a tuple of indices.\n",
    "\n",
    "We will now explore some capabilities of NumPy that will prove very useful not only for data analyisis, but throughout all our life with Python."
   ]
  },
  {
   "cell_type": "markdown",
   "metadata": {},
   "source": [
    "### Creating Arrays\n",
    "\n",
    "As mentioned before, the main object in NumPy is the *array*. Creating one is as easy as calling the command `array`"
   ]
  },
  {
   "cell_type": "code",
   "execution_count": 2,
   "metadata": {},
   "outputs": [
    {
     "data": {
      "text/plain": [
       "array([1, 2, 3])"
      ]
     },
     "execution_count": 2,
     "metadata": {},
     "output_type": "execute_result"
    }
   ],
   "source": [
    "mylist = [1, 2, 3]\n",
    "x = np.array(mylist)\n",
    "x"
   ]
  },
  {
   "cell_type": "code",
   "execution_count": 3,
   "metadata": {},
   "outputs": [
    {
     "data": {
      "text/plain": [
       "numpy.ndarray"
      ]
     },
     "execution_count": 3,
     "metadata": {},
     "output_type": "execute_result"
    }
   ],
   "source": [
    "type(x)"
   ]
  },
  {
   "cell_type": "markdown",
   "metadata": {},
   "source": [
    "The same applies to multidimensional arrays"
   ]
  },
  {
   "cell_type": "code",
   "execution_count": 4,
   "metadata": {},
   "outputs": [
    {
     "data": {
      "text/plain": [
       "array([[[ 7,  8,  9],\n",
       "        [10, 11, 12]],\n",
       "\n",
       "       [[ 1,  2,  3],\n",
       "        [ 4,  5,  6]]])"
      ]
     },
     "execution_count": 4,
     "metadata": {},
     "output_type": "execute_result"
    }
   ],
   "source": [
    "m = np.array([[[7, 8, 9], [10, 11, 12]], [[1, 2, 3], [4, 5, 6]]])\n",
    "m"
   ]
  },
  {
   "cell_type": "markdown",
   "metadata": {},
   "source": [
    "There is one restriction with respect to the use of lists: while you could create lists with data of different type, all the data in an array has to be of the same type, and it will be converted automatically."
   ]
  },
  {
   "cell_type": "code",
   "execution_count": 5,
   "metadata": {},
   "outputs": [
    {
     "name": "stdout",
     "output_type": "stream",
     "text": [
      "<class 'float'>\n",
      "<class 'numpy.str_'>\n"
     ]
    }
   ],
   "source": [
    "lst = [1., 'cat']\n",
    "print(type(lst[0]))\n",
    "\n",
    "arr = np.array(lst)\n",
    "print(type(arr[0]))"
   ]
  },
  {
   "cell_type": "markdown",
   "metadata": {},
   "source": [
    "(We will go deeper into indexing in a while)\n",
    "\n",
    "-----\n",
    "A NumPy array has a number of dimensions (or *axes*). To obtain the number of axes and the size of each of them you use the command `shape`. For 2-dimensional arrays (matrices), the order corresponds to (rows, columns)\n",
    "\n",
    "There are two different ways of calling the `shape` command, either with `np.shape(arr)` or `arr.shape`. This is not the only command that works in both formats, and we will be finding some more in our way."
   ]
  },
  {
   "cell_type": "code",
   "execution_count": 6,
   "metadata": {},
   "outputs": [
    {
     "name": "stdout",
     "output_type": "stream",
     "text": [
      "(3,)\n",
      "(2, 2, 3)\n"
     ]
    }
   ],
   "source": [
    "print(x.shape)\n",
    "print(np.shape(m))"
   ]
  },
  {
   "cell_type": "markdown",
   "metadata": {},
   "source": [
    "### Special Arrays\n",
    "\n",
    "Now we review some built-in functions that create matrices commonly used. `ones` and `zeros` return arrays of given shape and type (default is float64), filled with ones or zeros, respectively."
   ]
  },
  {
   "cell_type": "code",
   "execution_count": 7,
   "metadata": {
    "collapsed": true
   },
   "outputs": [],
   "source": [
    "array_zeros=np.zeros((3, 2))\n",
    "array_ones=np.ones((3, 2, 4), dtype=np.int8)"
   ]
  },
  {
   "cell_type": "code",
   "execution_count": 8,
   "metadata": {},
   "outputs": [
    {
     "data": {
      "text/plain": [
       "array([[ 0.,  0.],\n",
       "       [ 0.,  0.],\n",
       "       [ 0.,  0.]])"
      ]
     },
     "execution_count": 8,
     "metadata": {},
     "output_type": "execute_result"
    }
   ],
   "source": [
    "array_zeros"
   ]
  },
  {
   "cell_type": "code",
   "execution_count": 9,
   "metadata": {},
   "outputs": [
    {
     "data": {
      "text/plain": [
       "array([[[1, 1, 1, 1],\n",
       "        [1, 1, 1, 1]],\n",
       "\n",
       "       [[1, 1, 1, 1],\n",
       "        [1, 1, 1, 1]],\n",
       "\n",
       "       [[1, 1, 1, 1],\n",
       "        [1, 1, 1, 1]]], dtype=int8)"
      ]
     },
     "execution_count": 9,
     "metadata": {},
     "output_type": "execute_result"
    }
   ],
   "source": [
    "array_ones"
   ]
  },
  {
   "cell_type": "markdown",
   "metadata": {},
   "source": [
    "`eye(d)` returns a 2-D, dimension-$d$ array with ones on the diagonal and zeros elsewhere."
   ]
  },
  {
   "cell_type": "code",
   "execution_count": 10,
   "metadata": {},
   "outputs": [
    {
     "data": {
      "text/plain": [
       "array([[ 1.,  0.,  0.],\n",
       "       [ 0.,  1.,  0.],\n",
       "       [ 0.,  0.,  1.]])"
      ]
     },
     "execution_count": 10,
     "metadata": {},
     "output_type": "execute_result"
    }
   ],
   "source": [
    "np.eye(3)"
   ]
  },
  {
   "cell_type": "markdown",
   "metadata": {},
   "source": [
    "`eye` can also create arrays with ones in upper and lower diagonals. To achieve this, you must call `eye(d, d, k)` where $k$ denotes the diagonal (positive for above the center diagonal, negative for below), or `eye(d, k=num)`"
   ]
  },
  {
   "cell_type": "code",
   "execution_count": 11,
   "metadata": {},
   "outputs": [
    {
     "name": "stdout",
     "output_type": "stream",
     "text": [
      "[[ 0.  0.  1.  0.  0.]\n",
      " [ 0.  0.  0.  1.  0.]\n",
      " [ 0.  0.  0.  0.  1.]\n",
      " [ 0.  0.  0.  0.  0.]\n",
      " [ 0.  0.  0.  0.  0.]]\n"
     ]
    },
    {
     "data": {
      "text/plain": [
       "array([[ 0.,  0.,  0.,  0.,  0.],\n",
       "       [ 1.,  0.,  0.,  0.,  0.],\n",
       "       [ 0.,  1.,  0.,  0.,  0.],\n",
       "       [ 0.,  0.,  1.,  0.,  0.],\n",
       "       [ 0.,  0.,  0.,  1.,  0.]])"
      ]
     },
     "execution_count": 11,
     "metadata": {},
     "output_type": "execute_result"
    }
   ],
   "source": [
    "print(np.eye(5, 5, 2))\n",
    "np.eye(5, k=-1)"
   ]
  },
  {
   "cell_type": "markdown",
   "metadata": {},
   "source": [
    "`diag`, depending on the input, either extracts a diagonal from a matrix (if the input is a 2-D array), or constructs a diagonal array (if the input is a vector)."
   ]
  },
  {
   "cell_type": "code",
   "execution_count": 12,
   "metadata": {},
   "outputs": [
    {
     "data": {
      "text/plain": [
       "array([[0, 1, 0, 0],\n",
       "       [0, 0, 2, 0],\n",
       "       [0, 0, 0, 3],\n",
       "       [0, 0, 0, 0]])"
      ]
     },
     "execution_count": 12,
     "metadata": {},
     "output_type": "execute_result"
    }
   ],
   "source": [
    "np.diag(x, 1)"
   ]
  },
  {
   "cell_type": "code",
   "execution_count": 13,
   "metadata": {},
   "outputs": [
    {
     "name": "stdout",
     "output_type": "stream",
     "text": [
      "[ 1  6 11 16]\n"
     ]
    },
    {
     "data": {
      "text/plain": [
       "array([[ 1,  0,  0,  0],\n",
       "       [ 0,  6,  0,  0],\n",
       "       [ 0,  0, 11,  0],\n",
       "       [ 0,  0,  0, 16]])"
      ]
     },
     "execution_count": 13,
     "metadata": {},
     "output_type": "execute_result"
    }
   ],
   "source": [
    "y = np.array([[1, 2, 3, 4], [5, 6, 7, 8], [9, 10, 11, 12], [13, 14, 15, 16]])\n",
    "print(np.diag(y))\n",
    "np.diag(np.diag(y))"
   ]
  },
  {
   "cell_type": "markdown",
   "metadata": {},
   "source": [
    "`arange(begin, end, step)` returns evenly spaced values within a given interval. Note that the beginning point is included, but not the ending."
   ]
  },
  {
   "cell_type": "code",
   "execution_count": 14,
   "metadata": {},
   "outputs": [
    {
     "data": {
      "text/plain": [
       "array([ 0,  2,  4,  6,  8, 10, 12, 14, 16, 18, 20, 22, 24, 26, 28])"
      ]
     },
     "execution_count": 14,
     "metadata": {},
     "output_type": "execute_result"
    }
   ],
   "source": [
    "n = np.arange(0, 30, 2) # start at 0 count up by 2, stop before 30\n",
    "n"
   ]
  },
  {
   "cell_type": "code",
   "execution_count": 15,
   "metadata": {},
   "outputs": [
    {
     "data": {
      "text/plain": [
       "15"
      ]
     },
     "execution_count": 15,
     "metadata": {},
     "output_type": "execute_result"
    }
   ],
   "source": [
    "len(n)"
   ]
  },
  {
   "cell_type": "markdown",
   "metadata": {},
   "source": [
    "**Exercise 1 **: Create an array of the first million of odd numbers, both with `arange` and using loops. Try timing both methods to see which one is faster. For that, use `%timeit`."
   ]
  },
  {
   "cell_type": "code",
   "execution_count": 16,
   "metadata": {},
   "outputs": [
    {
     "name": "stdout",
     "output_type": "stream",
     "text": [
      "1.09 ms ± 28.6 µs per loop (mean ± std. dev. of 7 runs, 1000 loops each)\n",
      "225 ms ± 11 ms per loop (mean ± std. dev. of 7 runs, 1 loop each)\n"
     ]
    }
   ],
   "source": [
    "%timeit np.arange(0, 2e6, 2)\n",
    "\n",
    "%timeit [i for i in range(2000000) if i % 2 == 0]"
   ]
  },
  {
   "cell_type": "markdown",
   "metadata": {},
   "source": [
    "Similarly, `linspace(begin, end, points)` returns evenly spaced numbers over a specified interval. Here, instead of specifying the step, you specify the amount of points you want. Also with `linspace` you include the ending of the interval."
   ]
  },
  {
   "cell_type": "code",
   "execution_count": 17,
   "metadata": {},
   "outputs": [
    {
     "data": {
      "text/plain": [
       "array([  0.        ,   2.14285714,   4.28571429,   6.42857143,\n",
       "         8.57142857,  10.71428571,  12.85714286,  15.        ,\n",
       "        17.14285714,  19.28571429,  21.42857143,  23.57142857,\n",
       "        25.71428571,  27.85714286,  30.        ])"
      ]
     },
     "execution_count": 17,
     "metadata": {},
     "output_type": "execute_result"
    }
   ],
   "source": [
    "o = np.linspace(0, 30, 15)\n",
    "o"
   ]
  },
  {
   "cell_type": "code",
   "execution_count": 18,
   "metadata": {},
   "outputs": [
    {
     "data": {
      "text/plain": [
       "15"
      ]
     },
     "execution_count": 18,
     "metadata": {},
     "output_type": "execute_result"
    }
   ],
   "source": [
    "len(o)"
   ]
  },
  {
   "cell_type": "markdown",
   "metadata": {},
   "source": [
    "`reshape` changes the shape of an array, but not its data. This is another of the commands that can be called before or after the array."
   ]
  },
  {
   "cell_type": "code",
   "execution_count": 19,
   "metadata": {
    "scrolled": true
   },
   "outputs": [
    {
     "name": "stdout",
     "output_type": "stream",
     "text": [
      "[[ 0  2  4  6  8]\n",
      " [10 12 14 16 18]\n",
      " [20 22 24 26 28]]\n"
     ]
    },
    {
     "data": {
      "text/plain": [
       "array([[ 0,  2,  4],\n",
       "       [ 6,  8, 10],\n",
       "       [12, 14, 16],\n",
       "       [18, 20, 22],\n",
       "       [24, 26, 28]])"
      ]
     },
     "execution_count": 19,
     "metadata": {},
     "output_type": "execute_result"
    }
   ],
   "source": [
    "print(n.reshape(3, 5))\n",
    "np.reshape(n, (5, 3))"
   ]
  },
  {
   "cell_type": "markdown",
   "metadata": {},
   "source": [
    "Note however that, in order for these changes to be permanent, you should do a reassignment of the variable"
   ]
  },
  {
   "cell_type": "code",
   "execution_count": 20,
   "metadata": {},
   "outputs": [
    {
     "name": "stdout",
     "output_type": "stream",
     "text": [
      "[ 0  2  4  6  8 10 12 14 16 18 20 22 24 26 28]\n"
     ]
    },
    {
     "data": {
      "text/plain": [
       "array([[ 0,  2,  4,  6,  8],\n",
       "       [10, 12, 14, 16, 18],\n",
       "       [20, 22, 24, 26, 28]])"
      ]
     },
     "execution_count": 20,
     "metadata": {},
     "output_type": "execute_result"
    }
   ],
   "source": [
    "print(n)  # After the reshapings above, the original array stays being the same\n",
    "\n",
    "n = n.reshape(3, 5)\n",
    "n   # Now that we have reassigned it is when it definitely changes shape"
   ]
  },
  {
   "cell_type": "markdown",
   "metadata": {},
   "source": [
    "### Combining Arrays\n",
    "\n",
    "The most general command for combining arrays is `concatenate(arrs, d)`. It takes a list of arrays and concatenates them along axis $d$"
   ]
  },
  {
   "cell_type": "code",
   "execution_count": 21,
   "metadata": {},
   "outputs": [
    {
     "data": {
      "text/plain": [
       "array([[[ 1.,  1.],\n",
       "        [ 1.,  1.]],\n",
       "\n",
       "       [[ 1.,  1.],\n",
       "        [ 1.,  1.]]])"
      ]
     },
     "execution_count": 21,
     "metadata": {},
     "output_type": "execute_result"
    }
   ],
   "source": [
    "p = np.ones([2, 2, 2])\n",
    "p"
   ]
  },
  {
   "cell_type": "code",
   "execution_count": 22,
   "metadata": {},
   "outputs": [
    {
     "data": {
      "text/plain": [
       "array([[[ 1.,  1.],\n",
       "        [ 1.,  1.]],\n",
       "\n",
       "       [[ 1.,  1.],\n",
       "        [ 1.,  1.]],\n",
       "\n",
       "       [[ 2.,  2.],\n",
       "        [ 2.,  2.]],\n",
       "\n",
       "       [[ 2.,  2.],\n",
       "        [ 2.,  2.]]])"
      ]
     },
     "execution_count": 22,
     "metadata": {},
     "output_type": "execute_result"
    }
   ],
   "source": [
    "np.concatenate([p, 2 * p], 0)"
   ]
  },
  {
   "cell_type": "code",
   "execution_count": 23,
   "metadata": {},
   "outputs": [
    {
     "data": {
      "text/plain": [
       "array([[[ 1.,  1.],\n",
       "        [ 1.,  1.],\n",
       "        [ 2.,  2.],\n",
       "        [ 2.,  2.]],\n",
       "\n",
       "       [[ 1.,  1.],\n",
       "        [ 1.,  1.],\n",
       "        [ 2.,  2.],\n",
       "        [ 2.,  2.]]])"
      ]
     },
     "execution_count": 23,
     "metadata": {},
     "output_type": "execute_result"
    }
   ],
   "source": [
    "np.concatenate([p, 2 * p], 1)"
   ]
  },
  {
   "cell_type": "code",
   "execution_count": 24,
   "metadata": {},
   "outputs": [
    {
     "data": {
      "text/plain": [
       "array([[[ 1.,  1.,  2.,  2.],\n",
       "        [ 1.,  1.,  2.,  2.]],\n",
       "\n",
       "       [[ 1.,  1.,  2.,  2.],\n",
       "        [ 1.,  1.,  2.,  2.]]])"
      ]
     },
     "execution_count": 24,
     "metadata": {},
     "output_type": "execute_result"
    }
   ],
   "source": [
    "np.concatenate([p, 2 * p], 2)"
   ]
  },
  {
   "cell_type": "markdown",
   "metadata": {},
   "source": [
    "However, for common combinations there exist special commands. Use `vstack` to stack arrays in sequence vertically (row wise), `hstack` to stack arrays in sequence horizontally (column wise), and `block` to create arrays out of blocks (only available in versions 1.13.0+)"
   ]
  },
  {
   "cell_type": "code",
   "execution_count": 25,
   "metadata": {},
   "outputs": [
    {
     "data": {
      "text/plain": [
       "array([[ 1.,  1.],\n",
       "       [ 1.,  1.],\n",
       "       [ 2.,  2.],\n",
       "       [ 2.,  2.]])"
      ]
     },
     "execution_count": 25,
     "metadata": {},
     "output_type": "execute_result"
    }
   ],
   "source": [
    "q = np.ones((2, 2))\n",
    "np.vstack([q, 2 * q])"
   ]
  },
  {
   "cell_type": "code",
   "execution_count": 26,
   "metadata": {},
   "outputs": [
    {
     "data": {
      "text/plain": [
       "array([[ 1.,  1.,  2.,  2.],\n",
       "       [ 1.,  1.,  2.,  2.]])"
      ]
     },
     "execution_count": 26,
     "metadata": {},
     "output_type": "execute_result"
    }
   ],
   "source": [
    "np.hstack([q, 2 * q])"
   ]
  },
  {
   "cell_type": "code",
   "execution_count": 27,
   "metadata": {},
   "outputs": [
    {
     "data": {
      "text/plain": [
       "array([[ 1.,  1.,  0.,  0.],\n",
       "       [ 1.,  1.,  0.,  0.],\n",
       "       [ 0.,  0.,  2.,  2.],\n",
       "       [ 0.,  0.,  2.,  2.]])"
      ]
     },
     "execution_count": 27,
     "metadata": {},
     "output_type": "execute_result"
    }
   ],
   "source": [
    "np.block([[q, np.zeros((2, 2))], [np.zeros((2, 2)), 2 * q]])"
   ]
  },
  {
   "cell_type": "markdown",
   "metadata": {},
   "source": [
    "### Operations\n",
    "\n",
    "You can perform easily element-wise operations on arrays of any shape. Use the typical symbols, +, -, \\*, / and \\*\\* to perform element-wise addition, subtraction, multiplication, division and power."
   ]
  },
  {
   "cell_type": "code",
   "execution_count": 28,
   "metadata": {},
   "outputs": [
    {
     "name": "stdout",
     "output_type": "stream",
     "text": [
      "[1 2 3]\n",
      "[11 12 13]\n",
      "[3 6 9]\n",
      "[ 1.          0.5         0.33333333]\n",
      "[ 1.          0.62996052  0.48074986]\n",
      "[2 4 8]\n"
     ]
    }
   ],
   "source": [
    "x = np.array([1, 2, 3])\n",
    "print(x)\n",
    "print(x + 10)\n",
    "print(3 * x)\n",
    "print(1 / x)\n",
    "print(x ** (-2 / 3))\n",
    "print(2 ** x)"
   ]
  },
  {
   "cell_type": "markdown",
   "metadata": {},
   "source": [
    "Also (and obviously) these symbols can be used to operate between two arrays, which must be of the same shape. If this is the case, they also do element-wise operations"
   ]
  },
  {
   "cell_type": "code",
   "execution_count": 29,
   "metadata": {},
   "outputs": [
    {
     "name": "stdout",
     "output_type": "stream",
     "text": [
      "[5 7 9]\n",
      "[ 4 10 18]\n",
      "[ 0.25  0.4   0.5 ]\n",
      "[  1  32 729]\n"
     ]
    }
   ],
   "source": [
    "y = np.arange(4, 7, 1)\n",
    "print(x + y)     # [1+4, 2+5, 3+6]\n",
    "print(x * y)     # [1*4, 2*5, 3*6]\n",
    "print(x / y)     # [1/4, 2/5, 3/6]\n",
    "print(x ** y)    # [1**4, 2**5, 3**6]"
   ]
  },
  {
   "cell_type": "markdown",
   "metadata": {},
   "source": [
    "For doing vector or matrix multiplication, the command to be used is `dot`"
   ]
  },
  {
   "cell_type": "code",
   "execution_count": 30,
   "metadata": {},
   "outputs": [
    {
     "data": {
      "text/plain": [
       "32"
      ]
     },
     "execution_count": 30,
     "metadata": {},
     "output_type": "execute_result"
    }
   ],
   "source": [
    "x.dot(y) # 1*4 + 2*5 + 3*6"
   ]
  },
  {
   "cell_type": "markdown",
   "metadata": {},
   "source": [
    "With python 3.5 matrix multiplication got it's own operator"
   ]
  },
  {
   "cell_type": "code",
   "execution_count": 31,
   "metadata": {},
   "outputs": [
    {
     "data": {
      "text/plain": [
       "32"
      ]
     },
     "execution_count": 31,
     "metadata": {},
     "output_type": "execute_result"
    }
   ],
   "source": [
    "x@y"
   ]
  },
  {
   "cell_type": "code",
   "execution_count": 32,
   "metadata": {},
   "outputs": [
    {
     "name": "stdout",
     "output_type": "stream",
     "text": [
      "[[3 4 5]\n",
      " [4 5 6]\n",
      " [5 6 7]]\n",
      "\n",
      "[[0 4 0]\n",
      " [0 0 6]\n",
      " [5 0 0]]\n"
     ]
    },
    {
     "data": {
      "text/plain": [
       "array([[5, 3, 4],\n",
       "       [6, 4, 5],\n",
       "       [7, 5, 6]])"
      ]
     },
     "execution_count": 32,
     "metadata": {},
     "output_type": "execute_result"
    }
   ],
   "source": [
    "X = np.array([[i + j for i in range(3, 6)] for j in range(3)])\n",
    "Y = np.diag([1, 1], 1) + np.diag([1], -2)\n",
    "\n",
    "print('{}\\n'.format(X))\n",
    "print(X * Y)\n",
    "np.dot(X, Y)"
   ]
  },
  {
   "cell_type": "markdown",
   "metadata": {},
   "source": [
    "**Exercise 2**: Take a 10x2 matrix representing $(x1,x2)$ coordinates and transform them into polar coordinates $(r,\\theta)$.\n",
    "\n",
    "*Hint 1: the inverse transformation is given by $x1 = r\\cos\\theta$, $x2 = r\\sin\\theta$*\n",
    "\n",
    "*Hint 2: generate random numbers with the functions in numpy.random*"
   ]
  },
  {
   "cell_type": "code",
   "execution_count": 33,
   "metadata": {},
   "outputs": [
    {
     "name": "stdout",
     "output_type": "stream",
     "text": [
      "[ 1.01238542  0.92547189  0.67252168  0.43065403  0.92116711  0.81600157\n",
      "  1.0470755   0.38573654  0.84806441  0.90163748]\n",
      "[ 1.05586934  0.3753704   1.37931721  0.33137075  0.19440469  0.35880173\n",
      "  1.25204823  0.94770635  1.01710347  0.11118113]\n"
     ]
    }
   ],
   "source": [
    "z = np.random.random((10, 2))\n",
    "x1, x2 = z[:, 0], z[:, 1]\n",
    "R = np.sqrt(x1 ** 2 + x2 ** 2)\n",
    "T = np.arctan2(x2, x1)\n",
    "print(R)\n",
    "print(T)"
   ]
  },
  {
   "cell_type": "markdown",
   "metadata": {},
   "source": [
    "#### Transposing\n",
    "\n",
    "Transposition is a very important operation for linear algebra. Although NumPy is capable of correctly doing matrix-vector products correctly regardless of the orientation of the vector, it is not the case for products of matrices"
   ]
  },
  {
   "cell_type": "code",
   "execution_count": 34,
   "metadata": {
    "collapsed": true
   },
   "outputs": [],
   "source": [
    "Z = np.arange(0, 12, 1).reshape((4, 3))"
   ]
  },
  {
   "cell_type": "code",
   "execution_count": 35,
   "metadata": {},
   "outputs": [
    {
     "data": {
      "text/plain": [
       "array([ 17,  62, 107, 152])"
      ]
     },
     "execution_count": 35,
     "metadata": {},
     "output_type": "execute_result"
    }
   ],
   "source": [
    "np.dot(Z, y)"
   ]
  },
  {
   "cell_type": "code",
   "execution_count": 36,
   "metadata": {},
   "outputs": [
    {
     "data": {
      "text/plain": [
       "array([ 17,  62, 107, 152])"
      ]
     },
     "execution_count": 36,
     "metadata": {},
     "output_type": "execute_result"
    }
   ],
   "source": [
    "np.dot(Z, y.T)"
   ]
  },
  {
   "cell_type": "code",
   "execution_count": 37,
   "metadata": {},
   "outputs": [
    {
     "data": {
      "text/plain": [
       "array([[ 14,  17,  20],\n",
       "       [ 50,  62,  74],\n",
       "       [ 86, 107, 128],\n",
       "       [122, 152, 182]])"
      ]
     },
     "execution_count": 37,
     "metadata": {},
     "output_type": "execute_result"
    }
   ],
   "source": [
    "Z.dot(X)"
   ]
  },
  {
   "cell_type": "code",
   "execution_count": 38,
   "metadata": {},
   "outputs": [
    {
     "ename": "ValueError",
     "evalue": "shapes (3,4) and (3,3) not aligned: 4 (dim 1) != 3 (dim 0)",
     "output_type": "error",
     "traceback": [
      "\u001b[0;31m---------------------------------------------------------------------------\u001b[0m",
      "\u001b[0;31mValueError\u001b[0m                                Traceback (most recent call last)",
      "\u001b[0;32m<ipython-input-38-7da420228c9f>\u001b[0m in \u001b[0;36m<module>\u001b[0;34m()\u001b[0m\n\u001b[0;32m----> 1\u001b[0;31m \u001b[0;34m(\u001b[0m\u001b[0mZ\u001b[0m\u001b[0;34m.\u001b[0m\u001b[0mT\u001b[0m\u001b[0;34m)\u001b[0m\u001b[0;34m.\u001b[0m\u001b[0mdot\u001b[0m\u001b[0;34m(\u001b[0m\u001b[0mX\u001b[0m\u001b[0;34m)\u001b[0m\u001b[0;34m\u001b[0m\u001b[0m\n\u001b[0m",
      "\u001b[0;31mValueError\u001b[0m: shapes (3,4) and (3,3) not aligned: 4 (dim 1) != 3 (dim 0)"
     ]
    }
   ],
   "source": [
    "(Z.T).dot(X)"
   ]
  },
  {
   "cell_type": "markdown",
   "metadata": {},
   "source": [
    "#### Array Methods\n",
    "\n",
    "To not have to go from NumPy arrays to lists back and forth, NumPy contains some functions to know properties of your arrays. Actually, there are more of these functions than in standard Python."
   ]
  },
  {
   "cell_type": "code",
   "execution_count": 39,
   "metadata": {},
   "outputs": [
    {
     "name": "stdout",
     "output_type": "stream",
     "text": [
      "5\n",
      "-4\n",
      "3\n",
      "0.6\n",
      "3.26190128606\n"
     ]
    }
   ],
   "source": [
    "a = np.array([-4, -2, 1, 3, 5])\n",
    "print(a.max())\n",
    "print(a.min())\n",
    "print(a.sum())\n",
    "print(a.mean())\n",
    "print(a.std())"
   ]
  },
  {
   "cell_type": "markdown",
   "metadata": {},
   "source": [
    "Some interesting functions are `argmax` and `argmin`, which return the index of the maximum and minimum values in the array."
   ]
  },
  {
   "cell_type": "code",
   "execution_count": 40,
   "metadata": {},
   "outputs": [
    {
     "name": "stdout",
     "output_type": "stream",
     "text": [
      "4\n",
      "0\n"
     ]
    }
   ],
   "source": [
    "print(a.argmax())\n",
    "print(a.argmin())"
   ]
  },
  {
   "cell_type": "markdown",
   "metadata": {},
   "source": [
    "### Indexing/Slicing\n",
    "\n",
    "We have already seen briefly that to access individual elements you use the bracket notation: `array[ax_0, ax_1, ...]`, where the `ax_i` denotes the coordinate in the `i`-th axis. You can even use this to assign new values to your elements."
   ]
  },
  {
   "cell_type": "code",
   "execution_count": 41,
   "metadata": {},
   "outputs": [
    {
     "name": "stdout",
     "output_type": "stream",
     "text": [
      "6\n"
     ]
    },
    {
     "data": {
      "text/plain": [
       "[198, 5, 6, 7]"
      ]
     },
     "execution_count": 41,
     "metadata": {},
     "output_type": "execute_result"
    }
   ],
   "source": [
    "r = [4, 5, 6, 7]\n",
    "print(r[2])\n",
    "r[0] = 198\n",
    "r"
   ]
  },
  {
   "cell_type": "markdown",
   "metadata": {},
   "source": [
    "To select a range of rows or columns you can use a colon :. A second : can be used to indicate the step size. `array[start:stop:stepsize]`. If you leave `start` (`stop`) blank, the selection will go from the very beginning (until the very end) of the array"
   ]
  },
  {
   "cell_type": "code",
   "execution_count": 42,
   "metadata": {},
   "outputs": [
    {
     "name": "stdout",
     "output_type": "stream",
     "text": [
      "[  0   1   4   9  16  25  36  49  64  81 100 121 144]\n",
      "[ 9 16 25 36 49 64]\n",
      "[ 4 25 64]\n"
     ]
    },
    {
     "data": {
      "text/plain": [
       "array([64, 36, 16,  4,  0])"
      ]
     },
     "execution_count": 42,
     "metadata": {},
     "output_type": "execute_result"
    }
   ],
   "source": [
    "s = np.arange(13)**2\n",
    "print(s)\n",
    "print(s[3:9])\n",
    "print(s[2:10:3])\n",
    "s[-5::-2]"
   ]
  },
  {
   "cell_type": "markdown",
   "metadata": {},
   "source": [
    "The same applies to matrices or higher-dimensional arrays"
   ]
  },
  {
   "cell_type": "code",
   "execution_count": 43,
   "metadata": {},
   "outputs": [
    {
     "data": {
      "text/plain": [
       "array([[ 0,  1,  2,  3,  4,  5],\n",
       "       [ 6,  7,  8,  9, 10, 11],\n",
       "       [12, 13, 14, 15, 16, 17],\n",
       "       [18, 19, 20, 21, 22, 23],\n",
       "       [24, 25, 26, 27, 28, 29],\n",
       "       [30, 31, 32, 33, 34, 35]])"
      ]
     },
     "execution_count": 43,
     "metadata": {},
     "output_type": "execute_result"
    }
   ],
   "source": [
    "r = np.arange(36).reshape((6, 6))\n",
    "r"
   ]
  },
  {
   "cell_type": "code",
   "execution_count": 44,
   "metadata": {},
   "outputs": [
    {
     "data": {
      "text/plain": [
       "array([[13, 14],\n",
       "       [19, 20],\n",
       "       [25, 26]])"
      ]
     },
     "execution_count": 44,
     "metadata": {},
     "output_type": "execute_result"
    }
   ],
   "source": [
    "r[2:5, 1:3]"
   ]
  },
  {
   "cell_type": "markdown",
   "metadata": {},
   "source": [
    "You can also select specific rows and columns, separated by commas"
   ]
  },
  {
   "cell_type": "code",
   "execution_count": 45,
   "metadata": {},
   "outputs": [
    {
     "data": {
      "text/plain": [
       "array([[ 7,  8],\n",
       "       [19, 20],\n",
       "       [25, 26]])"
      ]
     },
     "execution_count": 45,
     "metadata": {},
     "output_type": "execute_result"
    }
   ],
   "source": [
    "r[[1, 3, 4], 1:3]"
   ]
  },
  {
   "cell_type": "markdown",
   "metadata": {},
   "source": [
    "A very useful tool is *conditional indexing*, where we apply a function, assignment... only to those elements of an array that satisfy some condition"
   ]
  },
  {
   "cell_type": "code",
   "execution_count": 46,
   "metadata": {},
   "outputs": [
    {
     "data": {
      "text/plain": [
       "array([[ 0,  1,  2,  3,  4,  5],\n",
       "       [ 6,  7,  8,  9, 10, 11],\n",
       "       [12, 13, 14, 15, 16, 17],\n",
       "       [18, 19, 20, 21, 22, 23],\n",
       "       [24, 25, 26, 27, 28, 29],\n",
       "       [30, 30, 30, 30, 30, 30]])"
      ]
     },
     "execution_count": 46,
     "metadata": {},
     "output_type": "execute_result"
    }
   ],
   "source": [
    "r[r > 30] = 30\n",
    "r"
   ]
  },
  {
   "cell_type": "markdown",
   "metadata": {},
   "source": [
    "**Exercise 3**: Create a random 1-dimensional array, and find which element is closest to 0.7"
   ]
  },
  {
   "cell_type": "code",
   "execution_count": 47,
   "metadata": {},
   "outputs": [
    {
     "name": "stdout",
     "output_type": "stream",
     "text": [
      "0.703501053849\n"
     ]
    }
   ],
   "source": [
    "Z = np.random.uniform(0,1,100)\n",
    "z = 0.7\n",
    "m = Z[np.abs(Z - z).argmin()]\n",
    "print(m)"
   ]
  },
  {
   "cell_type": "markdown",
   "metadata": {},
   "source": [
    "#### Copying Data\n",
    "\n",
    "**Be very careful with copying and modifying arrays in NumPy!** You will see the reason right now. Let's begin defining `r2` as a slice of r"
   ]
  },
  {
   "cell_type": "code",
   "execution_count": 48,
   "metadata": {},
   "outputs": [
    {
     "data": {
      "text/plain": [
       "array([[ 0,  1,  2],\n",
       "       [ 6,  7,  8],\n",
       "       [12, 13, 14]])"
      ]
     },
     "execution_count": 48,
     "metadata": {},
     "output_type": "execute_result"
    }
   ],
   "source": [
    "r2 = r[:3,:3]\n",
    "r2"
   ]
  },
  {
   "cell_type": "markdown",
   "metadata": {},
   "source": [
    "And now let's set all its elements to zero"
   ]
  },
  {
   "cell_type": "code",
   "execution_count": 49,
   "metadata": {},
   "outputs": [
    {
     "data": {
      "text/plain": [
       "array([[0, 0, 0],\n",
       "       [0, 0, 0],\n",
       "       [0, 0, 0]])"
      ]
     },
     "execution_count": 49,
     "metadata": {},
     "output_type": "execute_result"
    }
   ],
   "source": [
    "r2[:] = 0\n",
    "r2"
   ]
  },
  {
   "cell_type": "markdown",
   "metadata": {},
   "source": [
    "When looking at `r`, we see that it has also been changed!"
   ]
  },
  {
   "cell_type": "code",
   "execution_count": 50,
   "metadata": {},
   "outputs": [
    {
     "data": {
      "text/plain": [
       "array([[ 0,  0,  0,  3,  4,  5],\n",
       "       [ 0,  0,  0,  9, 10, 11],\n",
       "       [ 0,  0,  0, 15, 16, 17],\n",
       "       [18, 19, 20, 21, 22, 23],\n",
       "       [24, 25, 26, 27, 28, 29],\n",
       "       [30, 30, 30, 30, 30, 30]])"
      ]
     },
     "execution_count": 50,
     "metadata": {},
     "output_type": "execute_result"
    }
   ],
   "source": [
    "r"
   ]
  },
  {
   "cell_type": "markdown",
   "metadata": {},
   "source": [
    "The proper way of handling selections without modifying the original arrays is through the `copy` command."
   ]
  },
  {
   "cell_type": "code",
   "execution_count": 51,
   "metadata": {},
   "outputs": [
    {
     "data": {
      "text/plain": [
       "array([[ 0,  0,  0,  3,  4,  5],\n",
       "       [ 0,  0,  0,  9, 10, 11],\n",
       "       [ 0,  0,  0, 15, 16, 17],\n",
       "       [18, 19, 20, 21, 22, 23],\n",
       "       [24, 25, 26, 27, 28, 29],\n",
       "       [30, 30, 30, 30, 30, 30]])"
      ]
     },
     "execution_count": 51,
     "metadata": {},
     "output_type": "execute_result"
    }
   ],
   "source": [
    "r_copy = r.copy()\n",
    "r_copy"
   ]
  },
  {
   "cell_type": "markdown",
   "metadata": {},
   "source": [
    "Now we can safely modify `r_copy` without affecting `r`."
   ]
  },
  {
   "cell_type": "code",
   "execution_count": 52,
   "metadata": {},
   "outputs": [
    {
     "name": "stdout",
     "output_type": "stream",
     "text": [
      "[[10 10 10 10 10 10]\n",
      " [10 10 10 10 10 10]\n",
      " [10 10 10 10 10 10]\n",
      " [10 10 10 10 10 10]\n",
      " [10 10 10 10 10 10]\n",
      " [10 10 10 10 10 10]]\n",
      "\n"
     ]
    },
    {
     "data": {
      "text/plain": [
       "array([[ 0,  0,  0,  3,  4,  5],\n",
       "       [ 0,  0,  0,  9, 10, 11],\n",
       "       [ 0,  0,  0, 15, 16, 17],\n",
       "       [18, 19, 20, 21, 22, 23],\n",
       "       [24, 25, 26, 27, 28, 29],\n",
       "       [30, 30, 30, 30, 30, 30]])"
      ]
     },
     "execution_count": 52,
     "metadata": {},
     "output_type": "execute_result"
    }
   ],
   "source": [
    "r_copy[:] = 10\n",
    "print('{}\\n'.format(r_copy))\n",
    "r"
   ]
  },
  {
   "cell_type": "markdown",
   "metadata": {},
   "source": [
    "### Iterating Over Arrays"
   ]
  },
  {
   "cell_type": "markdown",
   "metadata": {},
   "source": [
    "Finally, you can iterate over arrays in the same way as you iterate over lists"
   ]
  },
  {
   "cell_type": "code",
   "execution_count": 53,
   "metadata": {},
   "outputs": [
    {
     "data": {
      "text/plain": [
       "array([[7, 7, 2],\n",
       "       [0, 1, 3],\n",
       "       [7, 6, 1],\n",
       "       [9, 6, 8]])"
      ]
     },
     "execution_count": 53,
     "metadata": {},
     "output_type": "execute_result"
    }
   ],
   "source": [
    "test = np.random.randint(0, 10, (4,3))\n",
    "test"
   ]
  },
  {
   "cell_type": "markdown",
   "metadata": {},
   "source": [
    "You can iterate by row:"
   ]
  },
  {
   "cell_type": "code",
   "execution_count": 54,
   "metadata": {},
   "outputs": [
    {
     "name": "stdout",
     "output_type": "stream",
     "text": [
      "[7 7 2]\n",
      "[0 1 3]\n",
      "[7 6 1]\n",
      "[9 6 8]\n"
     ]
    }
   ],
   "source": [
    "for row in test:\n",
    "    print(row)"
   ]
  },
  {
   "cell_type": "markdown",
   "metadata": {},
   "source": [
    "Or by row index"
   ]
  },
  {
   "cell_type": "code",
   "execution_count": 55,
   "metadata": {},
   "outputs": [
    {
     "name": "stdout",
     "output_type": "stream",
     "text": [
      "[7 7 2]\n",
      "[0 1 3]\n",
      "[7 6 1]\n",
      "[9 6 8]\n"
     ]
    }
   ],
   "source": [
    "for i in range(len(test)):\n",
    "    print(test[i])"
   ]
  },
  {
   "cell_type": "markdown",
   "metadata": {},
   "source": [
    "Or by row and index:"
   ]
  },
  {
   "cell_type": "code",
   "execution_count": 56,
   "metadata": {},
   "outputs": [
    {
     "name": "stdout",
     "output_type": "stream",
     "text": [
      "Row 0 is [7 7 2]\n",
      "Row 1 is [0 1 3]\n",
      "Row 2 is [7 6 1]\n",
      "Row 3 is [9 6 8]\n"
     ]
    }
   ],
   "source": [
    "for i, row in enumerate(test):\n",
    "    print('Row {} is {}'.format(i, row))"
   ]
  },
  {
   "cell_type": "markdown",
   "metadata": {},
   "source": [
    "In the same way as with lists, you can use `zip` to iterate over multiple iterables."
   ]
  },
  {
   "cell_type": "code",
   "execution_count": 57,
   "metadata": {},
   "outputs": [
    {
     "data": {
      "text/plain": [
       "array([[49, 49,  4],\n",
       "       [ 0,  1,  9],\n",
       "       [49, 36,  1],\n",
       "       [81, 36, 64]])"
      ]
     },
     "execution_count": 57,
     "metadata": {},
     "output_type": "execute_result"
    }
   ],
   "source": [
    "test2 = test**2\n",
    "test2"
   ]
  },
  {
   "cell_type": "code",
   "execution_count": 58,
   "metadata": {
    "scrolled": true
   },
   "outputs": [
    {
     "name": "stdout",
     "output_type": "stream",
     "text": [
      "[7 7 2] + [49 49  4] = [56 56  6]\n",
      "[0 1 3] + [0 1 9] = [ 0  2 12]\n",
      "[7 6 1] + [49 36  1] = [56 42  2]\n",
      "[9 6 8] + [81 36 64] = [90 42 72]\n"
     ]
    }
   ],
   "source": [
    "for i, j in zip(test, test2):\n",
    "    print('{} + {} = {}'.format(i, j, i + j))"
   ]
  },
  {
   "cell_type": "markdown",
   "metadata": {},
   "source": [
    "**Exercise 4**: Create a function that iterates over the columns of a 2-dimensional array"
   ]
  },
  {
   "cell_type": "code",
   "execution_count": 59,
   "metadata": {},
   "outputs": [
    {
     "name": "stdout",
     "output_type": "stream",
     "text": [
      "Column 0 is [[7]\n",
      " [0]\n",
      " [7]\n",
      " [9]]\n",
      "Column 1 is [[7]\n",
      " [1]\n",
      " [6]\n",
      " [6]]\n",
      "Column 2 is [[2]\n",
      " [3]\n",
      " [1]\n",
      " [8]]\n"
     ]
    }
   ],
   "source": [
    "def iterate(df):\n",
    "    for i, row in enumerate(df):\n",
    "        shp = row.shape\n",
    "        row.shape = shp + (1,)\n",
    "        print('Column {} is {}'.format(i, row))\n",
    "\n",
    "iterate(test.T)"
   ]
  },
  {
   "cell_type": "markdown",
   "metadata": {},
   "source": [
    "### Loading and Saving Data\n",
    "\n",
    "To load and save data NumPy has the `loadtxt` and `savetxt` commands. However, they only work for two-dimensional arrays"
   ]
  },
  {
   "cell_type": "code",
   "execution_count": 60,
   "metadata": {},
   "outputs": [
    {
     "data": {
      "text/plain": [
       "array([[ 7.,  7.,  2.],\n",
       "       [ 0.,  1.,  3.],\n",
       "       [ 7.,  6.,  1.],\n",
       "       [ 9.,  6.,  8.]])"
      ]
     },
     "execution_count": 60,
     "metadata": {},
     "output_type": "execute_result"
    }
   ],
   "source": [
    "np.savetxt('numpytest.txt', test)\n",
    "np.loadtxt('numpytest.txt')"
   ]
  },
  {
   "cell_type": "markdown",
   "metadata": {},
   "source": [
    "## Pandas\n",
    "\n",
    "When dealing with numeric matrices and vectors in Python, NumPy makes life a lot easier. For more complex data, however, it leaves a bit to be desired. For those used to working with dedicated languages like R, doing data analysis directly with numpy feels like a step back. Fortunately, some nice folks have written the Python Data Analysis Library (a.k.a. [pandas](http://pandas.pydata.org/)). Pandas provides an R-like DataFrame, produces high quality plots with matplotlib, and integrates nicely with other libraries that expect NumPy arrays.\n",
    "\n",
    "Pandas works with `Series` of data, that then are arranged in `DataFrame`s. A dataframe will be the object closest to an Excel spreadsheet that you will see throughout the course (but of course, given that it is integrated in Python and can be combined with so many different packages, dataframes are much more powerful than Excel spreadsheets). The data in the series can be either qualitative or quantitative data. Creating a series is as easy as creating a NumPy array from a one-dimensional list."
   ]
  },
  {
   "cell_type": "code",
   "execution_count": 61,
   "metadata": {},
   "outputs": [
    {
     "data": {
      "text/plain": [
       "0    Tiger\n",
       "1     Bear\n",
       "2    Moose\n",
       "dtype: object"
      ]
     },
     "execution_count": 61,
     "metadata": {},
     "output_type": "execute_result"
    }
   ],
   "source": [
    "animals = ['Tiger', 'Bear', 'Moose']\n",
    "pd.Series(animals)"
   ]
  },
  {
   "cell_type": "code",
   "execution_count": 62,
   "metadata": {},
   "outputs": [
    {
     "data": {
      "text/plain": [
       "0    1\n",
       "1    2\n",
       "2    3\n",
       "dtype: int64"
      ]
     },
     "execution_count": 62,
     "metadata": {},
     "output_type": "execute_result"
    }
   ],
   "source": [
    "numbers = [1, 2, 3]\n",
    "pd.Series(numbers)"
   ]
  },
  {
   "cell_type": "markdown",
   "metadata": {},
   "source": [
    "Notice that the series is indexed by default by integers. You can change this indexing by using a dictionary instead of a list for creating the series."
   ]
  },
  {
   "cell_type": "code",
   "execution_count": 63,
   "metadata": {},
   "outputs": [
    {
     "data": {
      "text/plain": [
       "Archery           Bhutan\n",
       "Golf            Scotland\n",
       "Sumo               Japan\n",
       "Taekwondo    South Korea\n",
       "dtype: object"
      ]
     },
     "execution_count": 63,
     "metadata": {},
     "output_type": "execute_result"
    }
   ],
   "source": [
    "sports = {'Archery': 'Bhutan',\n",
    "          'Golf': 'Scotland',\n",
    "          'Sumo': 'Japan',\n",
    "          'Taekwondo': 'South Korea'}\n",
    "s = pd.Series(sports)\n",
    "s"
   ]
  },
  {
   "cell_type": "markdown",
   "metadata": {},
   "source": [
    "On the other hand, `DataFrame`s can be built from two-dimensional arrays, with the ability of labelling columns and indexing the rows"
   ]
  },
  {
   "cell_type": "code",
   "execution_count": 64,
   "metadata": {},
   "outputs": [
    {
     "data": {
      "text/html": [
       "<div>\n",
       "<style>\n",
       "    .dataframe thead tr:only-child th {\n",
       "        text-align: right;\n",
       "    }\n",
       "\n",
       "    .dataframe thead th {\n",
       "        text-align: left;\n",
       "    }\n",
       "\n",
       "    .dataframe tbody tr th {\n",
       "        vertical-align: top;\n",
       "    }\n",
       "</style>\n",
       "<table border=\"1\" class=\"dataframe\">\n",
       "  <thead>\n",
       "    <tr style=\"text-align: right;\">\n",
       "      <th></th>\n",
       "      <th>A</th>\n",
       "      <th>B</th>\n",
       "      <th>C</th>\n",
       "      <th>D</th>\n",
       "      <th>E</th>\n",
       "      <th>F</th>\n",
       "    </tr>\n",
       "  </thead>\n",
       "  <tbody>\n",
       "    <tr>\n",
       "      <th>0</th>\n",
       "      <td>-2.027348</td>\n",
       "      <td>-0.760066</td>\n",
       "      <td>1.818686</td>\n",
       "      <td>-0.616385</td>\n",
       "      <td>0.552074</td>\n",
       "      <td>-1.224706</td>\n",
       "    </tr>\n",
       "    <tr>\n",
       "      <th>3</th>\n",
       "      <td>-0.240134</td>\n",
       "      <td>-1.034095</td>\n",
       "      <td>0.678209</td>\n",
       "      <td>-0.204445</td>\n",
       "      <td>-0.439685</td>\n",
       "      <td>1.754732</td>\n",
       "    </tr>\n",
       "    <tr>\n",
       "      <th>6</th>\n",
       "      <td>0.152990</td>\n",
       "      <td>-0.655726</td>\n",
       "      <td>-1.630595</td>\n",
       "      <td>0.101850</td>\n",
       "      <td>-0.064469</td>\n",
       "      <td>-0.753385</td>\n",
       "    </tr>\n",
       "    <tr>\n",
       "      <th>9</th>\n",
       "      <td>-0.357923</td>\n",
       "      <td>-1.487928</td>\n",
       "      <td>-1.013571</td>\n",
       "      <td>2.227863</td>\n",
       "      <td>0.939255</td>\n",
       "      <td>-0.461609</td>\n",
       "    </tr>\n",
       "    <tr>\n",
       "      <th>12</th>\n",
       "      <td>0.304958</td>\n",
       "      <td>-1.514211</td>\n",
       "      <td>-0.053739</td>\n",
       "      <td>0.276051</td>\n",
       "      <td>-0.733645</td>\n",
       "      <td>0.942726</td>\n",
       "    </tr>\n",
       "    <tr>\n",
       "      <th>15</th>\n",
       "      <td>-0.239578</td>\n",
       "      <td>0.608844</td>\n",
       "      <td>1.739310</td>\n",
       "      <td>-0.543123</td>\n",
       "      <td>0.675398</td>\n",
       "      <td>1.665416</td>\n",
       "    </tr>\n",
       "    <tr>\n",
       "      <th>18</th>\n",
       "      <td>-0.883210</td>\n",
       "      <td>0.904198</td>\n",
       "      <td>0.378123</td>\n",
       "      <td>-1.176221</td>\n",
       "      <td>-1.243975</td>\n",
       "      <td>1.467087</td>\n",
       "    </tr>\n",
       "    <tr>\n",
       "      <th>21</th>\n",
       "      <td>-0.422791</td>\n",
       "      <td>-0.259483</td>\n",
       "      <td>-1.682882</td>\n",
       "      <td>-0.518549</td>\n",
       "      <td>-0.009037</td>\n",
       "      <td>-0.972062</td>\n",
       "    </tr>\n",
       "    <tr>\n",
       "      <th>24</th>\n",
       "      <td>1.254290</td>\n",
       "      <td>-1.980355</td>\n",
       "      <td>-0.208856</td>\n",
       "      <td>-0.106617</td>\n",
       "      <td>0.855234</td>\n",
       "      <td>0.195338</td>\n",
       "    </tr>\n",
       "    <tr>\n",
       "      <th>27</th>\n",
       "      <td>-0.411384</td>\n",
       "      <td>1.370993</td>\n",
       "      <td>-0.605932</td>\n",
       "      <td>-0.376451</td>\n",
       "      <td>0.590043</td>\n",
       "      <td>0.180325</td>\n",
       "    </tr>\n",
       "    <tr>\n",
       "      <th>30</th>\n",
       "      <td>-1.057850</td>\n",
       "      <td>-0.631944</td>\n",
       "      <td>0.555904</td>\n",
       "      <td>1.097064</td>\n",
       "      <td>-1.387151</td>\n",
       "      <td>0.353236</td>\n",
       "    </tr>\n",
       "    <tr>\n",
       "      <th>33</th>\n",
       "      <td>-0.711113</td>\n",
       "      <td>-0.169546</td>\n",
       "      <td>0.171976</td>\n",
       "      <td>-0.212092</td>\n",
       "      <td>-1.132355</td>\n",
       "      <td>1.315146</td>\n",
       "    </tr>\n",
       "    <tr>\n",
       "      <th>36</th>\n",
       "      <td>0.829969</td>\n",
       "      <td>0.297953</td>\n",
       "      <td>-0.302928</td>\n",
       "      <td>-0.945781</td>\n",
       "      <td>-0.242724</td>\n",
       "      <td>1.312581</td>\n",
       "    </tr>\n",
       "    <tr>\n",
       "      <th>39</th>\n",
       "      <td>-0.697625</td>\n",
       "      <td>1.229031</td>\n",
       "      <td>1.987020</td>\n",
       "      <td>0.343909</td>\n",
       "      <td>2.364586</td>\n",
       "      <td>0.450260</td>\n",
       "    </tr>\n",
       "    <tr>\n",
       "      <th>42</th>\n",
       "      <td>1.269170</td>\n",
       "      <td>-1.206863</td>\n",
       "      <td>0.878972</td>\n",
       "      <td>0.837160</td>\n",
       "      <td>-0.437905</td>\n",
       "      <td>0.348167</td>\n",
       "    </tr>\n",
       "    <tr>\n",
       "      <th>45</th>\n",
       "      <td>-0.407344</td>\n",
       "      <td>-0.071046</td>\n",
       "      <td>1.459191</td>\n",
       "      <td>1.619865</td>\n",
       "      <td>-0.440274</td>\n",
       "      <td>0.539111</td>\n",
       "    </tr>\n",
       "    <tr>\n",
       "      <th>48</th>\n",
       "      <td>0.374244</td>\n",
       "      <td>-0.697430</td>\n",
       "      <td>0.450782</td>\n",
       "      <td>-0.308440</td>\n",
       "      <td>0.228700</td>\n",
       "      <td>0.421094</td>\n",
       "    </tr>\n",
       "    <tr>\n",
       "      <th>51</th>\n",
       "      <td>-0.100464</td>\n",
       "      <td>1.401493</td>\n",
       "      <td>0.856901</td>\n",
       "      <td>-1.714850</td>\n",
       "      <td>-0.726944</td>\n",
       "      <td>-0.307432</td>\n",
       "    </tr>\n",
       "    <tr>\n",
       "      <th>54</th>\n",
       "      <td>1.227898</td>\n",
       "      <td>0.029258</td>\n",
       "      <td>0.303557</td>\n",
       "      <td>0.058012</td>\n",
       "      <td>0.911842</td>\n",
       "      <td>-0.323239</td>\n",
       "    </tr>\n",
       "    <tr>\n",
       "      <th>57</th>\n",
       "      <td>0.260521</td>\n",
       "      <td>0.902231</td>\n",
       "      <td>0.767018</td>\n",
       "      <td>-1.457077</td>\n",
       "      <td>-1.540407</td>\n",
       "      <td>0.214406</td>\n",
       "    </tr>\n",
       "    <tr>\n",
       "      <th>60</th>\n",
       "      <td>0.021719</td>\n",
       "      <td>-0.581770</td>\n",
       "      <td>-0.412024</td>\n",
       "      <td>0.199358</td>\n",
       "      <td>1.186086</td>\n",
       "      <td>1.977274</td>\n",
       "    </tr>\n",
       "    <tr>\n",
       "      <th>63</th>\n",
       "      <td>0.192915</td>\n",
       "      <td>1.176450</td>\n",
       "      <td>-0.215527</td>\n",
       "      <td>1.906917</td>\n",
       "      <td>0.590545</td>\n",
       "      <td>-1.208706</td>\n",
       "    </tr>\n",
       "    <tr>\n",
       "      <th>66</th>\n",
       "      <td>0.617869</td>\n",
       "      <td>-0.012514</td>\n",
       "      <td>-0.028533</td>\n",
       "      <td>0.506198</td>\n",
       "      <td>-0.256584</td>\n",
       "      <td>-0.535241</td>\n",
       "    </tr>\n",
       "    <tr>\n",
       "      <th>69</th>\n",
       "      <td>0.675479</td>\n",
       "      <td>1.217800</td>\n",
       "      <td>-0.078125</td>\n",
       "      <td>-1.803885</td>\n",
       "      <td>0.117571</td>\n",
       "      <td>0.667392</td>\n",
       "    </tr>\n",
       "    <tr>\n",
       "      <th>72</th>\n",
       "      <td>-0.406723</td>\n",
       "      <td>-0.155374</td>\n",
       "      <td>-1.444615</td>\n",
       "      <td>-0.637595</td>\n",
       "      <td>-1.395026</td>\n",
       "      <td>0.266084</td>\n",
       "    </tr>\n",
       "    <tr>\n",
       "      <th>75</th>\n",
       "      <td>0.198348</td>\n",
       "      <td>0.602034</td>\n",
       "      <td>-1.474521</td>\n",
       "      <td>0.306232</td>\n",
       "      <td>3.149443</td>\n",
       "      <td>2.307441</td>\n",
       "    </tr>\n",
       "    <tr>\n",
       "      <th>78</th>\n",
       "      <td>-0.793300</td>\n",
       "      <td>0.067512</td>\n",
       "      <td>0.437059</td>\n",
       "      <td>-0.252246</td>\n",
       "      <td>0.623072</td>\n",
       "      <td>0.594353</td>\n",
       "    </tr>\n",
       "    <tr>\n",
       "      <th>81</th>\n",
       "      <td>-1.085852</td>\n",
       "      <td>2.311401</td>\n",
       "      <td>-1.244005</td>\n",
       "      <td>0.247349</td>\n",
       "      <td>0.157492</td>\n",
       "      <td>-1.245686</td>\n",
       "    </tr>\n",
       "    <tr>\n",
       "      <th>84</th>\n",
       "      <td>0.247839</td>\n",
       "      <td>-0.077916</td>\n",
       "      <td>-0.762923</td>\n",
       "      <td>-0.555147</td>\n",
       "      <td>-0.114645</td>\n",
       "      <td>0.627074</td>\n",
       "    </tr>\n",
       "    <tr>\n",
       "      <th>87</th>\n",
       "      <td>-0.681611</td>\n",
       "      <td>0.226183</td>\n",
       "      <td>-0.976978</td>\n",
       "      <td>1.660791</td>\n",
       "      <td>-0.766767</td>\n",
       "      <td>1.677164</td>\n",
       "    </tr>\n",
       "    <tr>\n",
       "      <th>...</th>\n",
       "      <td>...</td>\n",
       "      <td>...</td>\n",
       "      <td>...</td>\n",
       "      <td>...</td>\n",
       "      <td>...</td>\n",
       "      <td>...</td>\n",
       "    </tr>\n",
       "    <tr>\n",
       "      <th>2910</th>\n",
       "      <td>-0.541525</td>\n",
       "      <td>1.038404</td>\n",
       "      <td>0.418874</td>\n",
       "      <td>1.730242</td>\n",
       "      <td>1.382714</td>\n",
       "      <td>0.991357</td>\n",
       "    </tr>\n",
       "    <tr>\n",
       "      <th>2913</th>\n",
       "      <td>-0.072480</td>\n",
       "      <td>-0.725895</td>\n",
       "      <td>1.516190</td>\n",
       "      <td>-1.728947</td>\n",
       "      <td>-0.041549</td>\n",
       "      <td>0.139706</td>\n",
       "    </tr>\n",
       "    <tr>\n",
       "      <th>2916</th>\n",
       "      <td>0.163878</td>\n",
       "      <td>-0.636558</td>\n",
       "      <td>0.553073</td>\n",
       "      <td>-1.364876</td>\n",
       "      <td>0.496830</td>\n",
       "      <td>0.312249</td>\n",
       "    </tr>\n",
       "    <tr>\n",
       "      <th>2919</th>\n",
       "      <td>0.686492</td>\n",
       "      <td>0.094363</td>\n",
       "      <td>0.835299</td>\n",
       "      <td>1.702522</td>\n",
       "      <td>1.135436</td>\n",
       "      <td>1.675020</td>\n",
       "    </tr>\n",
       "    <tr>\n",
       "      <th>2922</th>\n",
       "      <td>-0.027295</td>\n",
       "      <td>0.163613</td>\n",
       "      <td>-0.616894</td>\n",
       "      <td>-1.705558</td>\n",
       "      <td>0.762044</td>\n",
       "      <td>0.042091</td>\n",
       "    </tr>\n",
       "    <tr>\n",
       "      <th>2925</th>\n",
       "      <td>-2.315108</td>\n",
       "      <td>1.015217</td>\n",
       "      <td>1.062335</td>\n",
       "      <td>1.936149</td>\n",
       "      <td>1.821366</td>\n",
       "      <td>0.648717</td>\n",
       "    </tr>\n",
       "    <tr>\n",
       "      <th>2928</th>\n",
       "      <td>-0.411829</td>\n",
       "      <td>-0.732997</td>\n",
       "      <td>1.219275</td>\n",
       "      <td>-0.046593</td>\n",
       "      <td>-0.046027</td>\n",
       "      <td>3.003399</td>\n",
       "    </tr>\n",
       "    <tr>\n",
       "      <th>2931</th>\n",
       "      <td>-0.992891</td>\n",
       "      <td>0.501892</td>\n",
       "      <td>-0.630952</td>\n",
       "      <td>0.223819</td>\n",
       "      <td>-0.646514</td>\n",
       "      <td>-1.224562</td>\n",
       "    </tr>\n",
       "    <tr>\n",
       "      <th>2934</th>\n",
       "      <td>-0.550826</td>\n",
       "      <td>0.522783</td>\n",
       "      <td>-0.271546</td>\n",
       "      <td>1.439498</td>\n",
       "      <td>-0.013425</td>\n",
       "      <td>0.582987</td>\n",
       "    </tr>\n",
       "    <tr>\n",
       "      <th>2937</th>\n",
       "      <td>0.410123</td>\n",
       "      <td>-0.127677</td>\n",
       "      <td>-0.229596</td>\n",
       "      <td>-0.830667</td>\n",
       "      <td>0.071714</td>\n",
       "      <td>0.747561</td>\n",
       "    </tr>\n",
       "    <tr>\n",
       "      <th>2940</th>\n",
       "      <td>0.087771</td>\n",
       "      <td>0.252386</td>\n",
       "      <td>-0.959825</td>\n",
       "      <td>0.340264</td>\n",
       "      <td>-2.200490</td>\n",
       "      <td>-0.074453</td>\n",
       "    </tr>\n",
       "    <tr>\n",
       "      <th>2943</th>\n",
       "      <td>-3.003522</td>\n",
       "      <td>-1.629006</td>\n",
       "      <td>0.641945</td>\n",
       "      <td>-0.404185</td>\n",
       "      <td>0.716316</td>\n",
       "      <td>0.786389</td>\n",
       "    </tr>\n",
       "    <tr>\n",
       "      <th>2946</th>\n",
       "      <td>0.745290</td>\n",
       "      <td>-0.641602</td>\n",
       "      <td>1.073723</td>\n",
       "      <td>-0.448407</td>\n",
       "      <td>-0.046598</td>\n",
       "      <td>0.168012</td>\n",
       "    </tr>\n",
       "    <tr>\n",
       "      <th>2949</th>\n",
       "      <td>-2.961654</td>\n",
       "      <td>0.697773</td>\n",
       "      <td>-0.411028</td>\n",
       "      <td>-0.823714</td>\n",
       "      <td>1.253074</td>\n",
       "      <td>0.921263</td>\n",
       "    </tr>\n",
       "    <tr>\n",
       "      <th>2952</th>\n",
       "      <td>0.461372</td>\n",
       "      <td>0.963166</td>\n",
       "      <td>-0.387544</td>\n",
       "      <td>-1.167225</td>\n",
       "      <td>0.449699</td>\n",
       "      <td>0.416678</td>\n",
       "    </tr>\n",
       "    <tr>\n",
       "      <th>2955</th>\n",
       "      <td>0.643405</td>\n",
       "      <td>0.192321</td>\n",
       "      <td>1.981152</td>\n",
       "      <td>0.603926</td>\n",
       "      <td>-1.279414</td>\n",
       "      <td>1.097114</td>\n",
       "    </tr>\n",
       "    <tr>\n",
       "      <th>2958</th>\n",
       "      <td>0.122122</td>\n",
       "      <td>0.813402</td>\n",
       "      <td>-0.739232</td>\n",
       "      <td>0.547289</td>\n",
       "      <td>-1.337955</td>\n",
       "      <td>-1.105406</td>\n",
       "    </tr>\n",
       "    <tr>\n",
       "      <th>2961</th>\n",
       "      <td>-0.813555</td>\n",
       "      <td>-0.941517</td>\n",
       "      <td>-0.532860</td>\n",
       "      <td>0.754205</td>\n",
       "      <td>-1.290289</td>\n",
       "      <td>-0.612412</td>\n",
       "    </tr>\n",
       "    <tr>\n",
       "      <th>2964</th>\n",
       "      <td>-0.024280</td>\n",
       "      <td>0.542704</td>\n",
       "      <td>-0.594932</td>\n",
       "      <td>0.099559</td>\n",
       "      <td>-0.992261</td>\n",
       "      <td>0.596028</td>\n",
       "    </tr>\n",
       "    <tr>\n",
       "      <th>2967</th>\n",
       "      <td>-2.427947</td>\n",
       "      <td>0.160422</td>\n",
       "      <td>0.527004</td>\n",
       "      <td>1.206161</td>\n",
       "      <td>0.998892</td>\n",
       "      <td>0.529822</td>\n",
       "    </tr>\n",
       "    <tr>\n",
       "      <th>2970</th>\n",
       "      <td>-0.016148</td>\n",
       "      <td>1.763208</td>\n",
       "      <td>-1.034053</td>\n",
       "      <td>0.872201</td>\n",
       "      <td>-0.758887</td>\n",
       "      <td>-0.753172</td>\n",
       "    </tr>\n",
       "    <tr>\n",
       "      <th>2973</th>\n",
       "      <td>1.674303</td>\n",
       "      <td>-0.387506</td>\n",
       "      <td>-2.254331</td>\n",
       "      <td>-1.773518</td>\n",
       "      <td>0.615029</td>\n",
       "      <td>-1.716148</td>\n",
       "    </tr>\n",
       "    <tr>\n",
       "      <th>2976</th>\n",
       "      <td>2.119215</td>\n",
       "      <td>0.767200</td>\n",
       "      <td>0.782669</td>\n",
       "      <td>-0.044936</td>\n",
       "      <td>0.923013</td>\n",
       "      <td>0.825720</td>\n",
       "    </tr>\n",
       "    <tr>\n",
       "      <th>2979</th>\n",
       "      <td>-0.595234</td>\n",
       "      <td>0.600849</td>\n",
       "      <td>0.316792</td>\n",
       "      <td>0.253311</td>\n",
       "      <td>0.153847</td>\n",
       "      <td>-0.369398</td>\n",
       "    </tr>\n",
       "    <tr>\n",
       "      <th>2982</th>\n",
       "      <td>-0.708021</td>\n",
       "      <td>-1.713307</td>\n",
       "      <td>-0.552180</td>\n",
       "      <td>-0.307223</td>\n",
       "      <td>-0.939053</td>\n",
       "      <td>-0.820910</td>\n",
       "    </tr>\n",
       "    <tr>\n",
       "      <th>2985</th>\n",
       "      <td>-1.573937</td>\n",
       "      <td>0.308366</td>\n",
       "      <td>-1.662245</td>\n",
       "      <td>0.570210</td>\n",
       "      <td>-0.653210</td>\n",
       "      <td>-0.314402</td>\n",
       "    </tr>\n",
       "    <tr>\n",
       "      <th>2988</th>\n",
       "      <td>-1.194555</td>\n",
       "      <td>1.977206</td>\n",
       "      <td>0.754842</td>\n",
       "      <td>0.305322</td>\n",
       "      <td>1.198796</td>\n",
       "      <td>1.473283</td>\n",
       "    </tr>\n",
       "    <tr>\n",
       "      <th>2991</th>\n",
       "      <td>1.869433</td>\n",
       "      <td>-0.589284</td>\n",
       "      <td>0.759278</td>\n",
       "      <td>-0.351937</td>\n",
       "      <td>-0.536819</td>\n",
       "      <td>0.777580</td>\n",
       "    </tr>\n",
       "    <tr>\n",
       "      <th>2994</th>\n",
       "      <td>0.368289</td>\n",
       "      <td>-0.466715</td>\n",
       "      <td>-0.429377</td>\n",
       "      <td>0.289506</td>\n",
       "      <td>-0.339652</td>\n",
       "      <td>-0.339438</td>\n",
       "    </tr>\n",
       "    <tr>\n",
       "      <th>2997</th>\n",
       "      <td>-1.470242</td>\n",
       "      <td>1.698912</td>\n",
       "      <td>0.687847</td>\n",
       "      <td>-0.045696</td>\n",
       "      <td>0.683194</td>\n",
       "      <td>1.892945</td>\n",
       "    </tr>\n",
       "  </tbody>\n",
       "</table>\n",
       "<p>1000 rows × 6 columns</p>\n",
       "</div>"
      ],
      "text/plain": [
       "             A         B         C         D         E         F\n",
       "0    -2.027348 -0.760066  1.818686 -0.616385  0.552074 -1.224706\n",
       "3    -0.240134 -1.034095  0.678209 -0.204445 -0.439685  1.754732\n",
       "6     0.152990 -0.655726 -1.630595  0.101850 -0.064469 -0.753385\n",
       "9    -0.357923 -1.487928 -1.013571  2.227863  0.939255 -0.461609\n",
       "12    0.304958 -1.514211 -0.053739  0.276051 -0.733645  0.942726\n",
       "15   -0.239578  0.608844  1.739310 -0.543123  0.675398  1.665416\n",
       "18   -0.883210  0.904198  0.378123 -1.176221 -1.243975  1.467087\n",
       "21   -0.422791 -0.259483 -1.682882 -0.518549 -0.009037 -0.972062\n",
       "24    1.254290 -1.980355 -0.208856 -0.106617  0.855234  0.195338\n",
       "27   -0.411384  1.370993 -0.605932 -0.376451  0.590043  0.180325\n",
       "30   -1.057850 -0.631944  0.555904  1.097064 -1.387151  0.353236\n",
       "33   -0.711113 -0.169546  0.171976 -0.212092 -1.132355  1.315146\n",
       "36    0.829969  0.297953 -0.302928 -0.945781 -0.242724  1.312581\n",
       "39   -0.697625  1.229031  1.987020  0.343909  2.364586  0.450260\n",
       "42    1.269170 -1.206863  0.878972  0.837160 -0.437905  0.348167\n",
       "45   -0.407344 -0.071046  1.459191  1.619865 -0.440274  0.539111\n",
       "48    0.374244 -0.697430  0.450782 -0.308440  0.228700  0.421094\n",
       "51   -0.100464  1.401493  0.856901 -1.714850 -0.726944 -0.307432\n",
       "54    1.227898  0.029258  0.303557  0.058012  0.911842 -0.323239\n",
       "57    0.260521  0.902231  0.767018 -1.457077 -1.540407  0.214406\n",
       "60    0.021719 -0.581770 -0.412024  0.199358  1.186086  1.977274\n",
       "63    0.192915  1.176450 -0.215527  1.906917  0.590545 -1.208706\n",
       "66    0.617869 -0.012514 -0.028533  0.506198 -0.256584 -0.535241\n",
       "69    0.675479  1.217800 -0.078125 -1.803885  0.117571  0.667392\n",
       "72   -0.406723 -0.155374 -1.444615 -0.637595 -1.395026  0.266084\n",
       "75    0.198348  0.602034 -1.474521  0.306232  3.149443  2.307441\n",
       "78   -0.793300  0.067512  0.437059 -0.252246  0.623072  0.594353\n",
       "81   -1.085852  2.311401 -1.244005  0.247349  0.157492 -1.245686\n",
       "84    0.247839 -0.077916 -0.762923 -0.555147 -0.114645  0.627074\n",
       "87   -0.681611  0.226183 -0.976978  1.660791 -0.766767  1.677164\n",
       "...        ...       ...       ...       ...       ...       ...\n",
       "2910 -0.541525  1.038404  0.418874  1.730242  1.382714  0.991357\n",
       "2913 -0.072480 -0.725895  1.516190 -1.728947 -0.041549  0.139706\n",
       "2916  0.163878 -0.636558  0.553073 -1.364876  0.496830  0.312249\n",
       "2919  0.686492  0.094363  0.835299  1.702522  1.135436  1.675020\n",
       "2922 -0.027295  0.163613 -0.616894 -1.705558  0.762044  0.042091\n",
       "2925 -2.315108  1.015217  1.062335  1.936149  1.821366  0.648717\n",
       "2928 -0.411829 -0.732997  1.219275 -0.046593 -0.046027  3.003399\n",
       "2931 -0.992891  0.501892 -0.630952  0.223819 -0.646514 -1.224562\n",
       "2934 -0.550826  0.522783 -0.271546  1.439498 -0.013425  0.582987\n",
       "2937  0.410123 -0.127677 -0.229596 -0.830667  0.071714  0.747561\n",
       "2940  0.087771  0.252386 -0.959825  0.340264 -2.200490 -0.074453\n",
       "2943 -3.003522 -1.629006  0.641945 -0.404185  0.716316  0.786389\n",
       "2946  0.745290 -0.641602  1.073723 -0.448407 -0.046598  0.168012\n",
       "2949 -2.961654  0.697773 -0.411028 -0.823714  1.253074  0.921263\n",
       "2952  0.461372  0.963166 -0.387544 -1.167225  0.449699  0.416678\n",
       "2955  0.643405  0.192321  1.981152  0.603926 -1.279414  1.097114\n",
       "2958  0.122122  0.813402 -0.739232  0.547289 -1.337955 -1.105406\n",
       "2961 -0.813555 -0.941517 -0.532860  0.754205 -1.290289 -0.612412\n",
       "2964 -0.024280  0.542704 -0.594932  0.099559 -0.992261  0.596028\n",
       "2967 -2.427947  0.160422  0.527004  1.206161  0.998892  0.529822\n",
       "2970 -0.016148  1.763208 -1.034053  0.872201 -0.758887 -0.753172\n",
       "2973  1.674303 -0.387506 -2.254331 -1.773518  0.615029 -1.716148\n",
       "2976  2.119215  0.767200  0.782669 -0.044936  0.923013  0.825720\n",
       "2979 -0.595234  0.600849  0.316792  0.253311  0.153847 -0.369398\n",
       "2982 -0.708021 -1.713307 -0.552180 -0.307223 -0.939053 -0.820910\n",
       "2985 -1.573937  0.308366 -1.662245  0.570210 -0.653210 -0.314402\n",
       "2988 -1.194555  1.977206  0.754842  0.305322  1.198796  1.473283\n",
       "2991  1.869433 -0.589284  0.759278 -0.351937 -0.536819  0.777580\n",
       "2994  0.368289 -0.466715 -0.429377  0.289506 -0.339652 -0.339438\n",
       "2997 -1.470242  1.698912  0.687847 -0.045696  0.683194  1.892945\n",
       "\n",
       "[1000 rows x 6 columns]"
      ]
     },
     "execution_count": 64,
     "metadata": {},
     "output_type": "execute_result"
    }
   ],
   "source": [
    "u = pd.DataFrame(np.random.randn(1000,6), index=np.arange(0, 3000, 3), \n",
    "                 columns=['A', 'B', 'C', 'D', 'E', 'F'])\n",
    "u"
   ]
  },
  {
   "cell_type": "markdown",
   "metadata": {},
   "source": [
    "As you might have noticed, it is a bit ugly to deal with large dataframes. There are however some functions that allows to have an idea of the data in a frame."
   ]
  },
  {
   "cell_type": "code",
   "execution_count": 65,
   "metadata": {},
   "outputs": [
    {
     "data": {
      "text/html": [
       "<div>\n",
       "<style>\n",
       "    .dataframe thead tr:only-child th {\n",
       "        text-align: right;\n",
       "    }\n",
       "\n",
       "    .dataframe thead th {\n",
       "        text-align: left;\n",
       "    }\n",
       "\n",
       "    .dataframe tbody tr th {\n",
       "        vertical-align: top;\n",
       "    }\n",
       "</style>\n",
       "<table border=\"1\" class=\"dataframe\">\n",
       "  <thead>\n",
       "    <tr style=\"text-align: right;\">\n",
       "      <th></th>\n",
       "      <th>A</th>\n",
       "      <th>B</th>\n",
       "      <th>C</th>\n",
       "      <th>D</th>\n",
       "      <th>E</th>\n",
       "      <th>F</th>\n",
       "    </tr>\n",
       "  </thead>\n",
       "  <tbody>\n",
       "    <tr>\n",
       "      <th>0</th>\n",
       "      <td>-2.027348</td>\n",
       "      <td>-0.760066</td>\n",
       "      <td>1.818686</td>\n",
       "      <td>-0.616385</td>\n",
       "      <td>0.552074</td>\n",
       "      <td>-1.224706</td>\n",
       "    </tr>\n",
       "    <tr>\n",
       "      <th>3</th>\n",
       "      <td>-0.240134</td>\n",
       "      <td>-1.034095</td>\n",
       "      <td>0.678209</td>\n",
       "      <td>-0.204445</td>\n",
       "      <td>-0.439685</td>\n",
       "      <td>1.754732</td>\n",
       "    </tr>\n",
       "    <tr>\n",
       "      <th>6</th>\n",
       "      <td>0.152990</td>\n",
       "      <td>-0.655726</td>\n",
       "      <td>-1.630595</td>\n",
       "      <td>0.101850</td>\n",
       "      <td>-0.064469</td>\n",
       "      <td>-0.753385</td>\n",
       "    </tr>\n",
       "    <tr>\n",
       "      <th>9</th>\n",
       "      <td>-0.357923</td>\n",
       "      <td>-1.487928</td>\n",
       "      <td>-1.013571</td>\n",
       "      <td>2.227863</td>\n",
       "      <td>0.939255</td>\n",
       "      <td>-0.461609</td>\n",
       "    </tr>\n",
       "    <tr>\n",
       "      <th>12</th>\n",
       "      <td>0.304958</td>\n",
       "      <td>-1.514211</td>\n",
       "      <td>-0.053739</td>\n",
       "      <td>0.276051</td>\n",
       "      <td>-0.733645</td>\n",
       "      <td>0.942726</td>\n",
       "    </tr>\n",
       "  </tbody>\n",
       "</table>\n",
       "</div>"
      ],
      "text/plain": [
       "           A         B         C         D         E         F\n",
       "0  -2.027348 -0.760066  1.818686 -0.616385  0.552074 -1.224706\n",
       "3  -0.240134 -1.034095  0.678209 -0.204445 -0.439685  1.754732\n",
       "6   0.152990 -0.655726 -1.630595  0.101850 -0.064469 -0.753385\n",
       "9  -0.357923 -1.487928 -1.013571  2.227863  0.939255 -0.461609\n",
       "12  0.304958 -1.514211 -0.053739  0.276051 -0.733645  0.942726"
      ]
     },
     "execution_count": 65,
     "metadata": {},
     "output_type": "execute_result"
    }
   ],
   "source": [
    "u.head()"
   ]
  },
  {
   "cell_type": "code",
   "execution_count": 66,
   "metadata": {},
   "outputs": [
    {
     "data": {
      "text/html": [
       "<div>\n",
       "<style>\n",
       "    .dataframe thead tr:only-child th {\n",
       "        text-align: right;\n",
       "    }\n",
       "\n",
       "    .dataframe thead th {\n",
       "        text-align: left;\n",
       "    }\n",
       "\n",
       "    .dataframe tbody tr th {\n",
       "        vertical-align: top;\n",
       "    }\n",
       "</style>\n",
       "<table border=\"1\" class=\"dataframe\">\n",
       "  <thead>\n",
       "    <tr style=\"text-align: right;\">\n",
       "      <th></th>\n",
       "      <th>A</th>\n",
       "      <th>B</th>\n",
       "      <th>C</th>\n",
       "      <th>D</th>\n",
       "      <th>E</th>\n",
       "      <th>F</th>\n",
       "    </tr>\n",
       "  </thead>\n",
       "  <tbody>\n",
       "    <tr>\n",
       "      <th>2985</th>\n",
       "      <td>-1.573937</td>\n",
       "      <td>0.308366</td>\n",
       "      <td>-1.662245</td>\n",
       "      <td>0.570210</td>\n",
       "      <td>-0.653210</td>\n",
       "      <td>-0.314402</td>\n",
       "    </tr>\n",
       "    <tr>\n",
       "      <th>2988</th>\n",
       "      <td>-1.194555</td>\n",
       "      <td>1.977206</td>\n",
       "      <td>0.754842</td>\n",
       "      <td>0.305322</td>\n",
       "      <td>1.198796</td>\n",
       "      <td>1.473283</td>\n",
       "    </tr>\n",
       "    <tr>\n",
       "      <th>2991</th>\n",
       "      <td>1.869433</td>\n",
       "      <td>-0.589284</td>\n",
       "      <td>0.759278</td>\n",
       "      <td>-0.351937</td>\n",
       "      <td>-0.536819</td>\n",
       "      <td>0.777580</td>\n",
       "    </tr>\n",
       "    <tr>\n",
       "      <th>2994</th>\n",
       "      <td>0.368289</td>\n",
       "      <td>-0.466715</td>\n",
       "      <td>-0.429377</td>\n",
       "      <td>0.289506</td>\n",
       "      <td>-0.339652</td>\n",
       "      <td>-0.339438</td>\n",
       "    </tr>\n",
       "    <tr>\n",
       "      <th>2997</th>\n",
       "      <td>-1.470242</td>\n",
       "      <td>1.698912</td>\n",
       "      <td>0.687847</td>\n",
       "      <td>-0.045696</td>\n",
       "      <td>0.683194</td>\n",
       "      <td>1.892945</td>\n",
       "    </tr>\n",
       "  </tbody>\n",
       "</table>\n",
       "</div>"
      ],
      "text/plain": [
       "             A         B         C         D         E         F\n",
       "2985 -1.573937  0.308366 -1.662245  0.570210 -0.653210 -0.314402\n",
       "2988 -1.194555  1.977206  0.754842  0.305322  1.198796  1.473283\n",
       "2991  1.869433 -0.589284  0.759278 -0.351937 -0.536819  0.777580\n",
       "2994  0.368289 -0.466715 -0.429377  0.289506 -0.339652 -0.339438\n",
       "2997 -1.470242  1.698912  0.687847 -0.045696  0.683194  1.892945"
      ]
     },
     "execution_count": 66,
     "metadata": {},
     "output_type": "execute_result"
    }
   ],
   "source": [
    "u.tail()"
   ]
  },
  {
   "cell_type": "code",
   "execution_count": 67,
   "metadata": {},
   "outputs": [
    {
     "data": {
      "text/html": [
       "<div>\n",
       "<style>\n",
       "    .dataframe thead tr:only-child th {\n",
       "        text-align: right;\n",
       "    }\n",
       "\n",
       "    .dataframe thead th {\n",
       "        text-align: left;\n",
       "    }\n",
       "\n",
       "    .dataframe tbody tr th {\n",
       "        vertical-align: top;\n",
       "    }\n",
       "</style>\n",
       "<table border=\"1\" class=\"dataframe\">\n",
       "  <thead>\n",
       "    <tr style=\"text-align: right;\">\n",
       "      <th></th>\n",
       "      <th>A</th>\n",
       "      <th>B</th>\n",
       "      <th>C</th>\n",
       "      <th>D</th>\n",
       "      <th>E</th>\n",
       "      <th>F</th>\n",
       "    </tr>\n",
       "  </thead>\n",
       "  <tbody>\n",
       "    <tr>\n",
       "      <th>count</th>\n",
       "      <td>1000.000000</td>\n",
       "      <td>1000.000000</td>\n",
       "      <td>1000.000000</td>\n",
       "      <td>1000.000000</td>\n",
       "      <td>1000.000000</td>\n",
       "      <td>1000.000000</td>\n",
       "    </tr>\n",
       "    <tr>\n",
       "      <th>mean</th>\n",
       "      <td>-0.015098</td>\n",
       "      <td>0.008872</td>\n",
       "      <td>-0.016395</td>\n",
       "      <td>0.037659</td>\n",
       "      <td>0.037678</td>\n",
       "      <td>0.044510</td>\n",
       "    </tr>\n",
       "    <tr>\n",
       "      <th>std</th>\n",
       "      <td>0.984677</td>\n",
       "      <td>1.027124</td>\n",
       "      <td>1.006594</td>\n",
       "      <td>1.005640</td>\n",
       "      <td>0.996846</td>\n",
       "      <td>0.995552</td>\n",
       "    </tr>\n",
       "    <tr>\n",
       "      <th>min</th>\n",
       "      <td>-3.003522</td>\n",
       "      <td>-3.206353</td>\n",
       "      <td>-3.043352</td>\n",
       "      <td>-3.009298</td>\n",
       "      <td>-3.261136</td>\n",
       "      <td>-3.081977</td>\n",
       "    </tr>\n",
       "    <tr>\n",
       "      <th>25%</th>\n",
       "      <td>-0.684861</td>\n",
       "      <td>-0.632450</td>\n",
       "      <td>-0.669521</td>\n",
       "      <td>-0.669034</td>\n",
       "      <td>-0.632347</td>\n",
       "      <td>-0.665800</td>\n",
       "    </tr>\n",
       "    <tr>\n",
       "      <th>50%</th>\n",
       "      <td>-0.017722</td>\n",
       "      <td>0.014125</td>\n",
       "      <td>-0.003506</td>\n",
       "      <td>0.021587</td>\n",
       "      <td>0.034067</td>\n",
       "      <td>0.010477</td>\n",
       "    </tr>\n",
       "    <tr>\n",
       "      <th>75%</th>\n",
       "      <td>0.647753</td>\n",
       "      <td>0.677340</td>\n",
       "      <td>0.672168</td>\n",
       "      <td>0.737131</td>\n",
       "      <td>0.684883</td>\n",
       "      <td>0.695083</td>\n",
       "    </tr>\n",
       "    <tr>\n",
       "      <th>max</th>\n",
       "      <td>3.102455</td>\n",
       "      <td>3.762320</td>\n",
       "      <td>3.692530</td>\n",
       "      <td>2.788648</td>\n",
       "      <td>4.026294</td>\n",
       "      <td>3.120739</td>\n",
       "    </tr>\n",
       "  </tbody>\n",
       "</table>\n",
       "</div>"
      ],
      "text/plain": [
       "                 A            B            C            D            E  \\\n",
       "count  1000.000000  1000.000000  1000.000000  1000.000000  1000.000000   \n",
       "mean     -0.015098     0.008872    -0.016395     0.037659     0.037678   \n",
       "std       0.984677     1.027124     1.006594     1.005640     0.996846   \n",
       "min      -3.003522    -3.206353    -3.043352    -3.009298    -3.261136   \n",
       "25%      -0.684861    -0.632450    -0.669521    -0.669034    -0.632347   \n",
       "50%      -0.017722     0.014125    -0.003506     0.021587     0.034067   \n",
       "75%       0.647753     0.677340     0.672168     0.737131     0.684883   \n",
       "max       3.102455     3.762320     3.692530     2.788648     4.026294   \n",
       "\n",
       "                 F  \n",
       "count  1000.000000  \n",
       "mean      0.044510  \n",
       "std       0.995552  \n",
       "min      -3.081977  \n",
       "25%      -0.665800  \n",
       "50%       0.010477  \n",
       "75%       0.695083  \n",
       "max       3.120739  "
      ]
     },
     "execution_count": 67,
     "metadata": {},
     "output_type": "execute_result"
    }
   ],
   "source": [
    "u.describe()"
   ]
  },
  {
   "cell_type": "markdown",
   "metadata": {},
   "source": [
    "### Indexing/Slicing in Pandas\n",
    "\n",
    "The easiest way of accessing information in a Pandas dataframe, equivalent to the way used in NumPy, is using the `iloc` command. With this you can also set specific values, do conditional indexing... all that we have seen before in section 2.4"
   ]
  },
  {
   "cell_type": "code",
   "execution_count": 68,
   "metadata": {},
   "outputs": [
    {
     "data": {
      "text/html": [
       "<div>\n",
       "<style>\n",
       "    .dataframe thead tr:only-child th {\n",
       "        text-align: right;\n",
       "    }\n",
       "\n",
       "    .dataframe thead th {\n",
       "        text-align: left;\n",
       "    }\n",
       "\n",
       "    .dataframe tbody tr th {\n",
       "        vertical-align: top;\n",
       "    }\n",
       "</style>\n",
       "<table border=\"1\" class=\"dataframe\">\n",
       "  <thead>\n",
       "    <tr style=\"text-align: right;\">\n",
       "      <th></th>\n",
       "      <th>A</th>\n",
       "      <th>C</th>\n",
       "      <th>F</th>\n",
       "    </tr>\n",
       "  </thead>\n",
       "  <tbody>\n",
       "    <tr>\n",
       "      <th>375</th>\n",
       "      <td>0.201490</td>\n",
       "      <td>-0.013349</td>\n",
       "      <td>0.894859</td>\n",
       "    </tr>\n",
       "    <tr>\n",
       "      <th>378</th>\n",
       "      <td>0.611214</td>\n",
       "      <td>0.054397</td>\n",
       "      <td>1.552808</td>\n",
       "    </tr>\n",
       "    <tr>\n",
       "      <th>381</th>\n",
       "      <td>-0.201816</td>\n",
       "      <td>-1.238886</td>\n",
       "      <td>-0.260646</td>\n",
       "    </tr>\n",
       "    <tr>\n",
       "      <th>384</th>\n",
       "      <td>0.234758</td>\n",
       "      <td>-0.459057</td>\n",
       "      <td>0.237965</td>\n",
       "    </tr>\n",
       "    <tr>\n",
       "      <th>387</th>\n",
       "      <td>-0.045797</td>\n",
       "      <td>-0.648149</td>\n",
       "      <td>-1.852657</td>\n",
       "    </tr>\n",
       "    <tr>\n",
       "      <th>390</th>\n",
       "      <td>1.387895</td>\n",
       "      <td>-1.123883</td>\n",
       "      <td>0.032155</td>\n",
       "    </tr>\n",
       "    <tr>\n",
       "      <th>393</th>\n",
       "      <td>1.381102</td>\n",
       "      <td>0.245459</td>\n",
       "      <td>0.437701</td>\n",
       "    </tr>\n",
       "  </tbody>\n",
       "</table>\n",
       "</div>"
      ],
      "text/plain": [
       "            A         C         F\n",
       "375  0.201490 -0.013349  0.894859\n",
       "378  0.611214  0.054397  1.552808\n",
       "381 -0.201816 -1.238886 -0.260646\n",
       "384  0.234758 -0.459057  0.237965\n",
       "387 -0.045797 -0.648149 -1.852657\n",
       "390  1.387895 -1.123883  0.032155\n",
       "393  1.381102  0.245459  0.437701"
      ]
     },
     "execution_count": 68,
     "metadata": {},
     "output_type": "execute_result"
    }
   ],
   "source": [
    "u.iloc[125:132,[0, 2, 5]]"
   ]
  },
  {
   "cell_type": "markdown",
   "metadata": {},
   "source": [
    "However, there are a few different ways of accessing the data in a Pandas dataframe, that typically have a more \"direct\" connection with the actual content fo the dataframe. Individual or sets of columns can also be accessed by their column names. Choosing one single column will give a Series, while two or more will produce a Dataset"
   ]
  },
  {
   "cell_type": "code",
   "execution_count": 69,
   "metadata": {},
   "outputs": [
    {
     "data": {
      "text/plain": [
       "0    -2.027348\n",
       "3    -0.240134\n",
       "6     0.152990\n",
       "9    -0.357923\n",
       "12    0.304958\n",
       "Name: A, dtype: float64"
      ]
     },
     "execution_count": 69,
     "metadata": {},
     "output_type": "execute_result"
    }
   ],
   "source": [
    "u['A'].head()"
   ]
  },
  {
   "cell_type": "code",
   "execution_count": 70,
   "metadata": {},
   "outputs": [
    {
     "data": {
      "text/html": [
       "<div>\n",
       "<style>\n",
       "    .dataframe thead tr:only-child th {\n",
       "        text-align: right;\n",
       "    }\n",
       "\n",
       "    .dataframe thead th {\n",
       "        text-align: left;\n",
       "    }\n",
       "\n",
       "    .dataframe tbody tr th {\n",
       "        vertical-align: top;\n",
       "    }\n",
       "</style>\n",
       "<table border=\"1\" class=\"dataframe\">\n",
       "  <thead>\n",
       "    <tr style=\"text-align: right;\">\n",
       "      <th></th>\n",
       "      <th>A</th>\n",
       "      <th>D</th>\n",
       "    </tr>\n",
       "  </thead>\n",
       "  <tbody>\n",
       "    <tr>\n",
       "      <th>0</th>\n",
       "      <td>-2.027348</td>\n",
       "      <td>-0.616385</td>\n",
       "    </tr>\n",
       "    <tr>\n",
       "      <th>3</th>\n",
       "      <td>-0.240134</td>\n",
       "      <td>-0.204445</td>\n",
       "    </tr>\n",
       "    <tr>\n",
       "      <th>6</th>\n",
       "      <td>0.152990</td>\n",
       "      <td>0.101850</td>\n",
       "    </tr>\n",
       "    <tr>\n",
       "      <th>9</th>\n",
       "      <td>-0.357923</td>\n",
       "      <td>2.227863</td>\n",
       "    </tr>\n",
       "    <tr>\n",
       "      <th>12</th>\n",
       "      <td>0.304958</td>\n",
       "      <td>0.276051</td>\n",
       "    </tr>\n",
       "  </tbody>\n",
       "</table>\n",
       "</div>"
      ],
      "text/plain": [
       "           A         D\n",
       "0  -2.027348 -0.616385\n",
       "3  -0.240134 -0.204445\n",
       "6   0.152990  0.101850\n",
       "9  -0.357923  2.227863\n",
       "12  0.304958  0.276051"
      ]
     },
     "execution_count": 70,
     "metadata": {},
     "output_type": "execute_result"
    }
   ],
   "source": [
    "u[['A', 'D']].head()"
   ]
  },
  {
   "cell_type": "markdown",
   "metadata": {},
   "source": [
    "Not only that, you can access a single column without the need of brackets []"
   ]
  },
  {
   "cell_type": "code",
   "execution_count": 71,
   "metadata": {},
   "outputs": [
    {
     "data": {
      "text/plain": [
       "0    -2.027348\n",
       "3    -0.240134\n",
       "6     0.152990\n",
       "9    -0.357923\n",
       "12    0.304958\n",
       "Name: A, dtype: float64"
      ]
     },
     "execution_count": 71,
     "metadata": {},
     "output_type": "execute_result"
    }
   ],
   "source": [
    "u.A.head()"
   ]
  },
  {
   "cell_type": "markdown",
   "metadata": {},
   "source": [
    "The usual [] will select specific rows according to the row number"
   ]
  },
  {
   "cell_type": "code",
   "execution_count": 72,
   "metadata": {
    "scrolled": false
   },
   "outputs": [
    {
     "data": {
      "text/html": [
       "<div>\n",
       "<style>\n",
       "    .dataframe thead tr:only-child th {\n",
       "        text-align: right;\n",
       "    }\n",
       "\n",
       "    .dataframe thead th {\n",
       "        text-align: left;\n",
       "    }\n",
       "\n",
       "    .dataframe tbody tr th {\n",
       "        vertical-align: top;\n",
       "    }\n",
       "</style>\n",
       "<table border=\"1\" class=\"dataframe\">\n",
       "  <thead>\n",
       "    <tr style=\"text-align: right;\">\n",
       "      <th></th>\n",
       "      <th>B</th>\n",
       "      <th>C</th>\n",
       "      <th>F</th>\n",
       "    </tr>\n",
       "  </thead>\n",
       "  <tbody>\n",
       "    <tr>\n",
       "      <th>0</th>\n",
       "      <td>-0.760066</td>\n",
       "      <td>1.818686</td>\n",
       "      <td>-1.224706</td>\n",
       "    </tr>\n",
       "    <tr>\n",
       "      <th>3</th>\n",
       "      <td>-1.034095</td>\n",
       "      <td>0.678209</td>\n",
       "      <td>1.754732</td>\n",
       "    </tr>\n",
       "    <tr>\n",
       "      <th>6</th>\n",
       "      <td>-0.655726</td>\n",
       "      <td>-1.630595</td>\n",
       "      <td>-0.753385</td>\n",
       "    </tr>\n",
       "    <tr>\n",
       "      <th>9</th>\n",
       "      <td>-1.487928</td>\n",
       "      <td>-1.013571</td>\n",
       "      <td>-0.461609</td>\n",
       "    </tr>\n",
       "    <tr>\n",
       "      <th>12</th>\n",
       "      <td>-1.514211</td>\n",
       "      <td>-0.053739</td>\n",
       "      <td>0.942726</td>\n",
       "    </tr>\n",
       "    <tr>\n",
       "      <th>15</th>\n",
       "      <td>0.608844</td>\n",
       "      <td>1.739310</td>\n",
       "      <td>1.665416</td>\n",
       "    </tr>\n",
       "    <tr>\n",
       "      <th>18</th>\n",
       "      <td>0.904198</td>\n",
       "      <td>0.378123</td>\n",
       "      <td>1.467087</td>\n",
       "    </tr>\n",
       "    <tr>\n",
       "      <th>21</th>\n",
       "      <td>-0.259483</td>\n",
       "      <td>-1.682882</td>\n",
       "      <td>-0.972062</td>\n",
       "    </tr>\n",
       "    <tr>\n",
       "      <th>24</th>\n",
       "      <td>-1.980355</td>\n",
       "      <td>-0.208856</td>\n",
       "      <td>0.195338</td>\n",
       "    </tr>\n",
       "    <tr>\n",
       "      <th>27</th>\n",
       "      <td>1.370993</td>\n",
       "      <td>-0.605932</td>\n",
       "      <td>0.180325</td>\n",
       "    </tr>\n",
       "  </tbody>\n",
       "</table>\n",
       "</div>"
      ],
      "text/plain": [
       "           B         C         F\n",
       "0  -0.760066  1.818686 -1.224706\n",
       "3  -1.034095  0.678209  1.754732\n",
       "6  -0.655726 -1.630595 -0.753385\n",
       "9  -1.487928 -1.013571 -0.461609\n",
       "12 -1.514211 -0.053739  0.942726\n",
       "15  0.608844  1.739310  1.665416\n",
       "18  0.904198  0.378123  1.467087\n",
       "21 -0.259483 -1.682882 -0.972062\n",
       "24 -1.980355 -0.208856  0.195338\n",
       "27  1.370993 -0.605932  0.180325"
      ]
     },
     "execution_count": 72,
     "metadata": {},
     "output_type": "execute_result"
    }
   ],
   "source": [
    "u[0:10][list('BCF')]"
   ]
  },
  {
   "cell_type": "markdown",
   "metadata": {},
   "source": [
    "You can also choose specific rows according to their indices with the `loc` command"
   ]
  },
  {
   "cell_type": "code",
   "execution_count": 73,
   "metadata": {},
   "outputs": [
    {
     "data": {
      "text/html": [
       "<div>\n",
       "<style>\n",
       "    .dataframe thead tr:only-child th {\n",
       "        text-align: right;\n",
       "    }\n",
       "\n",
       "    .dataframe thead th {\n",
       "        text-align: left;\n",
       "    }\n",
       "\n",
       "    .dataframe tbody tr th {\n",
       "        vertical-align: top;\n",
       "    }\n",
       "</style>\n",
       "<table border=\"1\" class=\"dataframe\">\n",
       "  <thead>\n",
       "    <tr style=\"text-align: right;\">\n",
       "      <th></th>\n",
       "      <th>A</th>\n",
       "      <th>B</th>\n",
       "      <th>C</th>\n",
       "      <th>D</th>\n",
       "      <th>E</th>\n",
       "      <th>F</th>\n",
       "    </tr>\n",
       "  </thead>\n",
       "  <tbody>\n",
       "    <tr>\n",
       "      <th>6</th>\n",
       "      <td>0.152990</td>\n",
       "      <td>-0.655726</td>\n",
       "      <td>-1.630595</td>\n",
       "      <td>0.101850</td>\n",
       "      <td>-0.064469</td>\n",
       "      <td>-0.753385</td>\n",
       "    </tr>\n",
       "    <tr>\n",
       "      <th>9</th>\n",
       "      <td>-0.357923</td>\n",
       "      <td>-1.487928</td>\n",
       "      <td>-1.013571</td>\n",
       "      <td>2.227863</td>\n",
       "      <td>0.939255</td>\n",
       "      <td>-0.461609</td>\n",
       "    </tr>\n",
       "    <tr>\n",
       "      <th>12</th>\n",
       "      <td>0.304958</td>\n",
       "      <td>-1.514211</td>\n",
       "      <td>-0.053739</td>\n",
       "      <td>0.276051</td>\n",
       "      <td>-0.733645</td>\n",
       "      <td>0.942726</td>\n",
       "    </tr>\n",
       "    <tr>\n",
       "      <th>15</th>\n",
       "      <td>-0.239578</td>\n",
       "      <td>0.608844</td>\n",
       "      <td>1.739310</td>\n",
       "      <td>-0.543123</td>\n",
       "      <td>0.675398</td>\n",
       "      <td>1.665416</td>\n",
       "    </tr>\n",
       "  </tbody>\n",
       "</table>\n",
       "</div>"
      ],
      "text/plain": [
       "           A         B         C         D         E         F\n",
       "6   0.152990 -0.655726 -1.630595  0.101850 -0.064469 -0.753385\n",
       "9  -0.357923 -1.487928 -1.013571  2.227863  0.939255 -0.461609\n",
       "12  0.304958 -1.514211 -0.053739  0.276051 -0.733645  0.942726\n",
       "15 -0.239578  0.608844  1.739310 -0.543123  0.675398  1.665416"
      ]
     },
     "execution_count": 73,
     "metadata": {},
     "output_type": "execute_result"
    }
   ],
   "source": [
    "u.loc[6:15]"
   ]
  },
  {
   "cell_type": "markdown",
   "metadata": {},
   "source": [
    "Or, you can access just the elements that satisfy some condition"
   ]
  },
  {
   "cell_type": "code",
   "execution_count": 74,
   "metadata": {},
   "outputs": [
    {
     "data": {
      "text/html": [
       "<div>\n",
       "<style>\n",
       "    .dataframe thead tr:only-child th {\n",
       "        text-align: right;\n",
       "    }\n",
       "\n",
       "    .dataframe thead th {\n",
       "        text-align: left;\n",
       "    }\n",
       "\n",
       "    .dataframe tbody tr th {\n",
       "        vertical-align: top;\n",
       "    }\n",
       "</style>\n",
       "<table border=\"1\" class=\"dataframe\">\n",
       "  <thead>\n",
       "    <tr style=\"text-align: right;\">\n",
       "      <th></th>\n",
       "      <th>A</th>\n",
       "      <th>B</th>\n",
       "      <th>C</th>\n",
       "      <th>D</th>\n",
       "      <th>E</th>\n",
       "      <th>F</th>\n",
       "    </tr>\n",
       "  </thead>\n",
       "  <tbody>\n",
       "    <tr>\n",
       "      <th>9</th>\n",
       "      <td>-0.357923</td>\n",
       "      <td>-1.487928</td>\n",
       "      <td>-1.013571</td>\n",
       "      <td>2.227863</td>\n",
       "      <td>0.939255</td>\n",
       "      <td>-0.461609</td>\n",
       "    </tr>\n",
       "    <tr>\n",
       "      <th>279</th>\n",
       "      <td>-1.693827</td>\n",
       "      <td>0.678455</td>\n",
       "      <td>0.251834</td>\n",
       "      <td>2.019776</td>\n",
       "      <td>-1.457883</td>\n",
       "      <td>-0.378174</td>\n",
       "    </tr>\n",
       "    <tr>\n",
       "      <th>309</th>\n",
       "      <td>0.185012</td>\n",
       "      <td>1.612854</td>\n",
       "      <td>1.842629</td>\n",
       "      <td>2.221449</td>\n",
       "      <td>-1.200267</td>\n",
       "      <td>-0.338037</td>\n",
       "    </tr>\n",
       "    <tr>\n",
       "      <th>630</th>\n",
       "      <td>-0.175075</td>\n",
       "      <td>0.683090</td>\n",
       "      <td>0.231274</td>\n",
       "      <td>2.788648</td>\n",
       "      <td>1.643279</td>\n",
       "      <td>-1.421536</td>\n",
       "    </tr>\n",
       "    <tr>\n",
       "      <th>633</th>\n",
       "      <td>0.985910</td>\n",
       "      <td>-1.817685</td>\n",
       "      <td>-1.244910</td>\n",
       "      <td>2.331280</td>\n",
       "      <td>0.245652</td>\n",
       "      <td>-0.570783</td>\n",
       "    </tr>\n",
       "    <tr>\n",
       "      <th>816</th>\n",
       "      <td>0.157696</td>\n",
       "      <td>0.677015</td>\n",
       "      <td>-0.339310</td>\n",
       "      <td>2.678451</td>\n",
       "      <td>-1.286623</td>\n",
       "      <td>-0.323133</td>\n",
       "    </tr>\n",
       "    <tr>\n",
       "      <th>822</th>\n",
       "      <td>-0.686627</td>\n",
       "      <td>-1.318971</td>\n",
       "      <td>0.607398</td>\n",
       "      <td>2.096694</td>\n",
       "      <td>0.537781</td>\n",
       "      <td>-0.765181</td>\n",
       "    </tr>\n",
       "    <tr>\n",
       "      <th>903</th>\n",
       "      <td>-0.404014</td>\n",
       "      <td>0.318842</td>\n",
       "      <td>0.454519</td>\n",
       "      <td>2.339301</td>\n",
       "      <td>-0.142463</td>\n",
       "      <td>0.577325</td>\n",
       "    </tr>\n",
       "    <tr>\n",
       "      <th>927</th>\n",
       "      <td>0.287234</td>\n",
       "      <td>0.516245</td>\n",
       "      <td>-0.599014</td>\n",
       "      <td>2.383027</td>\n",
       "      <td>-1.322511</td>\n",
       "      <td>1.252123</td>\n",
       "    </tr>\n",
       "    <tr>\n",
       "      <th>960</th>\n",
       "      <td>1.336699</td>\n",
       "      <td>0.097779</td>\n",
       "      <td>0.645317</td>\n",
       "      <td>2.114679</td>\n",
       "      <td>1.757087</td>\n",
       "      <td>-2.788128</td>\n",
       "    </tr>\n",
       "    <tr>\n",
       "      <th>1026</th>\n",
       "      <td>1.182023</td>\n",
       "      <td>-1.446403</td>\n",
       "      <td>-1.131362</td>\n",
       "      <td>2.254902</td>\n",
       "      <td>-0.771892</td>\n",
       "      <td>1.751744</td>\n",
       "    </tr>\n",
       "    <tr>\n",
       "      <th>1029</th>\n",
       "      <td>1.104195</td>\n",
       "      <td>0.602310</td>\n",
       "      <td>-1.168000</td>\n",
       "      <td>2.048645</td>\n",
       "      <td>0.290548</td>\n",
       "      <td>2.232469</td>\n",
       "    </tr>\n",
       "    <tr>\n",
       "      <th>1446</th>\n",
       "      <td>1.020657</td>\n",
       "      <td>1.612534</td>\n",
       "      <td>-0.058113</td>\n",
       "      <td>2.132320</td>\n",
       "      <td>-1.411498</td>\n",
       "      <td>0.048077</td>\n",
       "    </tr>\n",
       "    <tr>\n",
       "      <th>1533</th>\n",
       "      <td>-0.025136</td>\n",
       "      <td>0.707659</td>\n",
       "      <td>0.973447</td>\n",
       "      <td>2.225149</td>\n",
       "      <td>0.399693</td>\n",
       "      <td>0.959352</td>\n",
       "    </tr>\n",
       "    <tr>\n",
       "      <th>1587</th>\n",
       "      <td>-0.526426</td>\n",
       "      <td>-0.814235</td>\n",
       "      <td>-0.625573</td>\n",
       "      <td>2.667335</td>\n",
       "      <td>-0.724050</td>\n",
       "      <td>-0.834328</td>\n",
       "    </tr>\n",
       "    <tr>\n",
       "      <th>1626</th>\n",
       "      <td>-0.159947</td>\n",
       "      <td>1.272708</td>\n",
       "      <td>0.948115</td>\n",
       "      <td>2.094850</td>\n",
       "      <td>0.204254</td>\n",
       "      <td>1.049992</td>\n",
       "    </tr>\n",
       "    <tr>\n",
       "      <th>1680</th>\n",
       "      <td>0.391908</td>\n",
       "      <td>0.079890</td>\n",
       "      <td>-0.482793</td>\n",
       "      <td>2.634528</td>\n",
       "      <td>-0.104643</td>\n",
       "      <td>0.216905</td>\n",
       "    </tr>\n",
       "    <tr>\n",
       "      <th>1704</th>\n",
       "      <td>0.967906</td>\n",
       "      <td>2.143141</td>\n",
       "      <td>1.532862</td>\n",
       "      <td>2.038358</td>\n",
       "      <td>0.273596</td>\n",
       "      <td>-0.525668</td>\n",
       "    </tr>\n",
       "    <tr>\n",
       "      <th>1833</th>\n",
       "      <td>0.564158</td>\n",
       "      <td>0.078882</td>\n",
       "      <td>0.859239</td>\n",
       "      <td>2.560362</td>\n",
       "      <td>-0.022691</td>\n",
       "      <td>1.057235</td>\n",
       "    </tr>\n",
       "    <tr>\n",
       "      <th>2037</th>\n",
       "      <td>2.796273</td>\n",
       "      <td>1.516203</td>\n",
       "      <td>-0.497648</td>\n",
       "      <td>2.080990</td>\n",
       "      <td>1.451618</td>\n",
       "      <td>-1.027465</td>\n",
       "    </tr>\n",
       "    <tr>\n",
       "      <th>2142</th>\n",
       "      <td>-0.649937</td>\n",
       "      <td>1.082551</td>\n",
       "      <td>-1.224972</td>\n",
       "      <td>2.753773</td>\n",
       "      <td>-1.782158</td>\n",
       "      <td>-0.746023</td>\n",
       "    </tr>\n",
       "    <tr>\n",
       "      <th>2145</th>\n",
       "      <td>0.342255</td>\n",
       "      <td>0.450953</td>\n",
       "      <td>0.699056</td>\n",
       "      <td>2.195256</td>\n",
       "      <td>0.825626</td>\n",
       "      <td>-0.044388</td>\n",
       "    </tr>\n",
       "    <tr>\n",
       "      <th>2244</th>\n",
       "      <td>-0.675831</td>\n",
       "      <td>0.507642</td>\n",
       "      <td>0.456629</td>\n",
       "      <td>2.702892</td>\n",
       "      <td>-0.122744</td>\n",
       "      <td>1.610458</td>\n",
       "    </tr>\n",
       "    <tr>\n",
       "      <th>2352</th>\n",
       "      <td>0.043378</td>\n",
       "      <td>-1.032648</td>\n",
       "      <td>-1.502572</td>\n",
       "      <td>2.317046</td>\n",
       "      <td>-0.588368</td>\n",
       "      <td>0.436327</td>\n",
       "    </tr>\n",
       "    <tr>\n",
       "      <th>2379</th>\n",
       "      <td>0.456208</td>\n",
       "      <td>-0.033626</td>\n",
       "      <td>0.301799</td>\n",
       "      <td>2.348761</td>\n",
       "      <td>-0.102677</td>\n",
       "      <td>-1.196005</td>\n",
       "    </tr>\n",
       "    <tr>\n",
       "      <th>2547</th>\n",
       "      <td>-0.656553</td>\n",
       "      <td>-0.165790</td>\n",
       "      <td>0.237938</td>\n",
       "      <td>2.627635</td>\n",
       "      <td>-0.387519</td>\n",
       "      <td>-1.425041</td>\n",
       "    </tr>\n",
       "    <tr>\n",
       "      <th>2595</th>\n",
       "      <td>-0.869080</td>\n",
       "      <td>-0.109001</td>\n",
       "      <td>0.058407</td>\n",
       "      <td>2.380108</td>\n",
       "      <td>-0.208447</td>\n",
       "      <td>-0.457142</td>\n",
       "    </tr>\n",
       "    <tr>\n",
       "      <th>2688</th>\n",
       "      <td>-0.142271</td>\n",
       "      <td>-0.031213</td>\n",
       "      <td>2.070437</td>\n",
       "      <td>2.381172</td>\n",
       "      <td>-0.647984</td>\n",
       "      <td>-0.236080</td>\n",
       "    </tr>\n",
       "    <tr>\n",
       "      <th>2871</th>\n",
       "      <td>-0.336001</td>\n",
       "      <td>0.398215</td>\n",
       "      <td>-1.434569</td>\n",
       "      <td>2.109727</td>\n",
       "      <td>-0.660467</td>\n",
       "      <td>1.161468</td>\n",
       "    </tr>\n",
       "  </tbody>\n",
       "</table>\n",
       "</div>"
      ],
      "text/plain": [
       "             A         B         C         D         E         F\n",
       "9    -0.357923 -1.487928 -1.013571  2.227863  0.939255 -0.461609\n",
       "279  -1.693827  0.678455  0.251834  2.019776 -1.457883 -0.378174\n",
       "309   0.185012  1.612854  1.842629  2.221449 -1.200267 -0.338037\n",
       "630  -0.175075  0.683090  0.231274  2.788648  1.643279 -1.421536\n",
       "633   0.985910 -1.817685 -1.244910  2.331280  0.245652 -0.570783\n",
       "816   0.157696  0.677015 -0.339310  2.678451 -1.286623 -0.323133\n",
       "822  -0.686627 -1.318971  0.607398  2.096694  0.537781 -0.765181\n",
       "903  -0.404014  0.318842  0.454519  2.339301 -0.142463  0.577325\n",
       "927   0.287234  0.516245 -0.599014  2.383027 -1.322511  1.252123\n",
       "960   1.336699  0.097779  0.645317  2.114679  1.757087 -2.788128\n",
       "1026  1.182023 -1.446403 -1.131362  2.254902 -0.771892  1.751744\n",
       "1029  1.104195  0.602310 -1.168000  2.048645  0.290548  2.232469\n",
       "1446  1.020657  1.612534 -0.058113  2.132320 -1.411498  0.048077\n",
       "1533 -0.025136  0.707659  0.973447  2.225149  0.399693  0.959352\n",
       "1587 -0.526426 -0.814235 -0.625573  2.667335 -0.724050 -0.834328\n",
       "1626 -0.159947  1.272708  0.948115  2.094850  0.204254  1.049992\n",
       "1680  0.391908  0.079890 -0.482793  2.634528 -0.104643  0.216905\n",
       "1704  0.967906  2.143141  1.532862  2.038358  0.273596 -0.525668\n",
       "1833  0.564158  0.078882  0.859239  2.560362 -0.022691  1.057235\n",
       "2037  2.796273  1.516203 -0.497648  2.080990  1.451618 -1.027465\n",
       "2142 -0.649937  1.082551 -1.224972  2.753773 -1.782158 -0.746023\n",
       "2145  0.342255  0.450953  0.699056  2.195256  0.825626 -0.044388\n",
       "2244 -0.675831  0.507642  0.456629  2.702892 -0.122744  1.610458\n",
       "2352  0.043378 -1.032648 -1.502572  2.317046 -0.588368  0.436327\n",
       "2379  0.456208 -0.033626  0.301799  2.348761 -0.102677 -1.196005\n",
       "2547 -0.656553 -0.165790  0.237938  2.627635 -0.387519 -1.425041\n",
       "2595 -0.869080 -0.109001  0.058407  2.380108 -0.208447 -0.457142\n",
       "2688 -0.142271 -0.031213  2.070437  2.381172 -0.647984 -0.236080\n",
       "2871 -0.336001  0.398215 -1.434569  2.109727 -0.660467  1.161468"
      ]
     },
     "execution_count": 74,
     "metadata": {},
     "output_type": "execute_result"
    }
   ],
   "source": [
    "u[u.D > 2]"
   ]
  },
  {
   "cell_type": "code",
   "execution_count": 76,
   "metadata": {},
   "outputs": [
    {
     "data": {
      "text/html": [
       "<div>\n",
       "<style>\n",
       "    .dataframe thead tr:only-child th {\n",
       "        text-align: right;\n",
       "    }\n",
       "\n",
       "    .dataframe thead th {\n",
       "        text-align: left;\n",
       "    }\n",
       "\n",
       "    .dataframe tbody tr th {\n",
       "        vertical-align: top;\n",
       "    }\n",
       "</style>\n",
       "<table border=\"1\" class=\"dataframe\">\n",
       "  <thead>\n",
       "    <tr style=\"text-align: right;\">\n",
       "      <th></th>\n",
       "      <th>A</th>\n",
       "      <th>B</th>\n",
       "      <th>C</th>\n",
       "      <th>D</th>\n",
       "      <th>E</th>\n",
       "      <th>F</th>\n",
       "    </tr>\n",
       "  </thead>\n",
       "  <tbody>\n",
       "    <tr>\n",
       "      <th>0</th>\n",
       "      <td>-2.027348</td>\n",
       "      <td>-0.760066</td>\n",
       "      <td>1.818686</td>\n",
       "      <td>-0.616385</td>\n",
       "      <td>0.552074</td>\n",
       "      <td>-1.224706</td>\n",
       "    </tr>\n",
       "    <tr>\n",
       "      <th>3</th>\n",
       "      <td>-0.240134</td>\n",
       "      <td>-1.034095</td>\n",
       "      <td>0.678209</td>\n",
       "      <td>-0.204445</td>\n",
       "      <td>-0.439685</td>\n",
       "      <td>1.754732</td>\n",
       "    </tr>\n",
       "    <tr>\n",
       "      <th>6</th>\n",
       "      <td>0.152990</td>\n",
       "      <td>-0.655726</td>\n",
       "      <td>-1.630595</td>\n",
       "      <td>0.101850</td>\n",
       "      <td>-0.064469</td>\n",
       "      <td>-0.753385</td>\n",
       "    </tr>\n",
       "    <tr>\n",
       "      <th>12</th>\n",
       "      <td>0.304958</td>\n",
       "      <td>-1.514211</td>\n",
       "      <td>-0.053739</td>\n",
       "      <td>0.276051</td>\n",
       "      <td>-0.733645</td>\n",
       "      <td>0.942726</td>\n",
       "    </tr>\n",
       "    <tr>\n",
       "      <th>15</th>\n",
       "      <td>-0.239578</td>\n",
       "      <td>0.608844</td>\n",
       "      <td>1.739310</td>\n",
       "      <td>-0.543123</td>\n",
       "      <td>0.675398</td>\n",
       "      <td>1.665416</td>\n",
       "    </tr>\n",
       "    <tr>\n",
       "      <th>18</th>\n",
       "      <td>-0.883210</td>\n",
       "      <td>0.904198</td>\n",
       "      <td>0.378123</td>\n",
       "      <td>-1.176221</td>\n",
       "      <td>-1.243975</td>\n",
       "      <td>1.467087</td>\n",
       "    </tr>\n",
       "    <tr>\n",
       "      <th>21</th>\n",
       "      <td>-0.422791</td>\n",
       "      <td>-0.259483</td>\n",
       "      <td>-1.682882</td>\n",
       "      <td>-0.518549</td>\n",
       "      <td>-0.009037</td>\n",
       "      <td>-0.972062</td>\n",
       "    </tr>\n",
       "    <tr>\n",
       "      <th>24</th>\n",
       "      <td>1.254290</td>\n",
       "      <td>-1.980355</td>\n",
       "      <td>-0.208856</td>\n",
       "      <td>-0.106617</td>\n",
       "      <td>0.855234</td>\n",
       "      <td>0.195338</td>\n",
       "    </tr>\n",
       "    <tr>\n",
       "      <th>27</th>\n",
       "      <td>-0.411384</td>\n",
       "      <td>1.370993</td>\n",
       "      <td>-0.605932</td>\n",
       "      <td>-0.376451</td>\n",
       "      <td>0.590043</td>\n",
       "      <td>0.180325</td>\n",
       "    </tr>\n",
       "    <tr>\n",
       "      <th>30</th>\n",
       "      <td>-1.057850</td>\n",
       "      <td>-0.631944</td>\n",
       "      <td>0.555904</td>\n",
       "      <td>1.097064</td>\n",
       "      <td>-1.387151</td>\n",
       "      <td>0.353236</td>\n",
       "    </tr>\n",
       "    <tr>\n",
       "      <th>33</th>\n",
       "      <td>-0.711113</td>\n",
       "      <td>-0.169546</td>\n",
       "      <td>0.171976</td>\n",
       "      <td>-0.212092</td>\n",
       "      <td>-1.132355</td>\n",
       "      <td>1.315146</td>\n",
       "    </tr>\n",
       "    <tr>\n",
       "      <th>36</th>\n",
       "      <td>0.829969</td>\n",
       "      <td>0.297953</td>\n",
       "      <td>-0.302928</td>\n",
       "      <td>-0.945781</td>\n",
       "      <td>-0.242724</td>\n",
       "      <td>1.312581</td>\n",
       "    </tr>\n",
       "    <tr>\n",
       "      <th>39</th>\n",
       "      <td>-0.697625</td>\n",
       "      <td>1.229031</td>\n",
       "      <td>1.987020</td>\n",
       "      <td>0.343909</td>\n",
       "      <td>2.364586</td>\n",
       "      <td>0.450260</td>\n",
       "    </tr>\n",
       "    <tr>\n",
       "      <th>42</th>\n",
       "      <td>1.269170</td>\n",
       "      <td>-1.206863</td>\n",
       "      <td>0.878972</td>\n",
       "      <td>0.837160</td>\n",
       "      <td>-0.437905</td>\n",
       "      <td>0.348167</td>\n",
       "    </tr>\n",
       "    <tr>\n",
       "      <th>45</th>\n",
       "      <td>-0.407344</td>\n",
       "      <td>-0.071046</td>\n",
       "      <td>1.459191</td>\n",
       "      <td>1.619865</td>\n",
       "      <td>-0.440274</td>\n",
       "      <td>0.539111</td>\n",
       "    </tr>\n",
       "    <tr>\n",
       "      <th>48</th>\n",
       "      <td>0.374244</td>\n",
       "      <td>-0.697430</td>\n",
       "      <td>0.450782</td>\n",
       "      <td>-0.308440</td>\n",
       "      <td>0.228700</td>\n",
       "      <td>0.421094</td>\n",
       "    </tr>\n",
       "    <tr>\n",
       "      <th>51</th>\n",
       "      <td>-0.100464</td>\n",
       "      <td>1.401493</td>\n",
       "      <td>0.856901</td>\n",
       "      <td>-1.714850</td>\n",
       "      <td>-0.726944</td>\n",
       "      <td>-0.307432</td>\n",
       "    </tr>\n",
       "    <tr>\n",
       "      <th>54</th>\n",
       "      <td>1.227898</td>\n",
       "      <td>0.029258</td>\n",
       "      <td>0.303557</td>\n",
       "      <td>0.058012</td>\n",
       "      <td>0.911842</td>\n",
       "      <td>-0.323239</td>\n",
       "    </tr>\n",
       "    <tr>\n",
       "      <th>57</th>\n",
       "      <td>0.260521</td>\n",
       "      <td>0.902231</td>\n",
       "      <td>0.767018</td>\n",
       "      <td>-1.457077</td>\n",
       "      <td>-1.540407</td>\n",
       "      <td>0.214406</td>\n",
       "    </tr>\n",
       "    <tr>\n",
       "      <th>60</th>\n",
       "      <td>0.021719</td>\n",
       "      <td>-0.581770</td>\n",
       "      <td>-0.412024</td>\n",
       "      <td>0.199358</td>\n",
       "      <td>1.186086</td>\n",
       "      <td>1.977274</td>\n",
       "    </tr>\n",
       "    <tr>\n",
       "      <th>63</th>\n",
       "      <td>0.192915</td>\n",
       "      <td>1.176450</td>\n",
       "      <td>-0.215527</td>\n",
       "      <td>1.906917</td>\n",
       "      <td>0.590545</td>\n",
       "      <td>-1.208706</td>\n",
       "    </tr>\n",
       "    <tr>\n",
       "      <th>66</th>\n",
       "      <td>0.617869</td>\n",
       "      <td>-0.012514</td>\n",
       "      <td>-0.028533</td>\n",
       "      <td>0.506198</td>\n",
       "      <td>-0.256584</td>\n",
       "      <td>-0.535241</td>\n",
       "    </tr>\n",
       "    <tr>\n",
       "      <th>69</th>\n",
       "      <td>0.675479</td>\n",
       "      <td>1.217800</td>\n",
       "      <td>-0.078125</td>\n",
       "      <td>-1.803885</td>\n",
       "      <td>0.117571</td>\n",
       "      <td>0.667392</td>\n",
       "    </tr>\n",
       "    <tr>\n",
       "      <th>72</th>\n",
       "      <td>-0.406723</td>\n",
       "      <td>-0.155374</td>\n",
       "      <td>-1.444615</td>\n",
       "      <td>-0.637595</td>\n",
       "      <td>-1.395026</td>\n",
       "      <td>0.266084</td>\n",
       "    </tr>\n",
       "    <tr>\n",
       "      <th>75</th>\n",
       "      <td>0.198348</td>\n",
       "      <td>0.602034</td>\n",
       "      <td>-1.474521</td>\n",
       "      <td>0.306232</td>\n",
       "      <td>3.149443</td>\n",
       "      <td>2.307441</td>\n",
       "    </tr>\n",
       "    <tr>\n",
       "      <th>78</th>\n",
       "      <td>-0.793300</td>\n",
       "      <td>0.067512</td>\n",
       "      <td>0.437059</td>\n",
       "      <td>-0.252246</td>\n",
       "      <td>0.623072</td>\n",
       "      <td>0.594353</td>\n",
       "    </tr>\n",
       "    <tr>\n",
       "      <th>81</th>\n",
       "      <td>-1.085852</td>\n",
       "      <td>2.311401</td>\n",
       "      <td>-1.244005</td>\n",
       "      <td>0.247349</td>\n",
       "      <td>0.157492</td>\n",
       "      <td>-1.245686</td>\n",
       "    </tr>\n",
       "    <tr>\n",
       "      <th>84</th>\n",
       "      <td>0.247839</td>\n",
       "      <td>-0.077916</td>\n",
       "      <td>-0.762923</td>\n",
       "      <td>-0.555147</td>\n",
       "      <td>-0.114645</td>\n",
       "      <td>0.627074</td>\n",
       "    </tr>\n",
       "    <tr>\n",
       "      <th>87</th>\n",
       "      <td>-0.681611</td>\n",
       "      <td>0.226183</td>\n",
       "      <td>-0.976978</td>\n",
       "      <td>1.660791</td>\n",
       "      <td>-0.766767</td>\n",
       "      <td>1.677164</td>\n",
       "    </tr>\n",
       "    <tr>\n",
       "      <th>90</th>\n",
       "      <td>0.427013</td>\n",
       "      <td>0.126773</td>\n",
       "      <td>0.179123</td>\n",
       "      <td>0.020950</td>\n",
       "      <td>0.268516</td>\n",
       "      <td>0.776483</td>\n",
       "    </tr>\n",
       "    <tr>\n",
       "      <th>...</th>\n",
       "      <td>...</td>\n",
       "      <td>...</td>\n",
       "      <td>...</td>\n",
       "      <td>...</td>\n",
       "      <td>...</td>\n",
       "      <td>...</td>\n",
       "    </tr>\n",
       "    <tr>\n",
       "      <th>2910</th>\n",
       "      <td>-0.541525</td>\n",
       "      <td>1.038404</td>\n",
       "      <td>0.418874</td>\n",
       "      <td>1.730242</td>\n",
       "      <td>1.382714</td>\n",
       "      <td>0.991357</td>\n",
       "    </tr>\n",
       "    <tr>\n",
       "      <th>2913</th>\n",
       "      <td>-0.072480</td>\n",
       "      <td>-0.725895</td>\n",
       "      <td>1.516190</td>\n",
       "      <td>-1.728947</td>\n",
       "      <td>-0.041549</td>\n",
       "      <td>0.139706</td>\n",
       "    </tr>\n",
       "    <tr>\n",
       "      <th>2916</th>\n",
       "      <td>0.163878</td>\n",
       "      <td>-0.636558</td>\n",
       "      <td>0.553073</td>\n",
       "      <td>-1.364876</td>\n",
       "      <td>0.496830</td>\n",
       "      <td>0.312249</td>\n",
       "    </tr>\n",
       "    <tr>\n",
       "      <th>2919</th>\n",
       "      <td>0.686492</td>\n",
       "      <td>0.094363</td>\n",
       "      <td>0.835299</td>\n",
       "      <td>1.702522</td>\n",
       "      <td>1.135436</td>\n",
       "      <td>1.675020</td>\n",
       "    </tr>\n",
       "    <tr>\n",
       "      <th>2922</th>\n",
       "      <td>-0.027295</td>\n",
       "      <td>0.163613</td>\n",
       "      <td>-0.616894</td>\n",
       "      <td>-1.705558</td>\n",
       "      <td>0.762044</td>\n",
       "      <td>0.042091</td>\n",
       "    </tr>\n",
       "    <tr>\n",
       "      <th>2925</th>\n",
       "      <td>-2.315108</td>\n",
       "      <td>1.015217</td>\n",
       "      <td>1.062335</td>\n",
       "      <td>1.936149</td>\n",
       "      <td>1.821366</td>\n",
       "      <td>0.648717</td>\n",
       "    </tr>\n",
       "    <tr>\n",
       "      <th>2928</th>\n",
       "      <td>-0.411829</td>\n",
       "      <td>-0.732997</td>\n",
       "      <td>1.219275</td>\n",
       "      <td>-0.046593</td>\n",
       "      <td>-0.046027</td>\n",
       "      <td>3.003399</td>\n",
       "    </tr>\n",
       "    <tr>\n",
       "      <th>2931</th>\n",
       "      <td>-0.992891</td>\n",
       "      <td>0.501892</td>\n",
       "      <td>-0.630952</td>\n",
       "      <td>0.223819</td>\n",
       "      <td>-0.646514</td>\n",
       "      <td>-1.224562</td>\n",
       "    </tr>\n",
       "    <tr>\n",
       "      <th>2934</th>\n",
       "      <td>-0.550826</td>\n",
       "      <td>0.522783</td>\n",
       "      <td>-0.271546</td>\n",
       "      <td>1.439498</td>\n",
       "      <td>-0.013425</td>\n",
       "      <td>0.582987</td>\n",
       "    </tr>\n",
       "    <tr>\n",
       "      <th>2937</th>\n",
       "      <td>0.410123</td>\n",
       "      <td>-0.127677</td>\n",
       "      <td>-0.229596</td>\n",
       "      <td>-0.830667</td>\n",
       "      <td>0.071714</td>\n",
       "      <td>0.747561</td>\n",
       "    </tr>\n",
       "    <tr>\n",
       "      <th>2940</th>\n",
       "      <td>0.087771</td>\n",
       "      <td>0.252386</td>\n",
       "      <td>-0.959825</td>\n",
       "      <td>0.340264</td>\n",
       "      <td>-2.200490</td>\n",
       "      <td>-0.074453</td>\n",
       "    </tr>\n",
       "    <tr>\n",
       "      <th>2943</th>\n",
       "      <td>-3.003522</td>\n",
       "      <td>-1.629006</td>\n",
       "      <td>0.641945</td>\n",
       "      <td>-0.404185</td>\n",
       "      <td>0.716316</td>\n",
       "      <td>0.786389</td>\n",
       "    </tr>\n",
       "    <tr>\n",
       "      <th>2946</th>\n",
       "      <td>0.745290</td>\n",
       "      <td>-0.641602</td>\n",
       "      <td>1.073723</td>\n",
       "      <td>-0.448407</td>\n",
       "      <td>-0.046598</td>\n",
       "      <td>0.168012</td>\n",
       "    </tr>\n",
       "    <tr>\n",
       "      <th>2949</th>\n",
       "      <td>-2.961654</td>\n",
       "      <td>0.697773</td>\n",
       "      <td>-0.411028</td>\n",
       "      <td>-0.823714</td>\n",
       "      <td>1.253074</td>\n",
       "      <td>0.921263</td>\n",
       "    </tr>\n",
       "    <tr>\n",
       "      <th>2952</th>\n",
       "      <td>0.461372</td>\n",
       "      <td>0.963166</td>\n",
       "      <td>-0.387544</td>\n",
       "      <td>-1.167225</td>\n",
       "      <td>0.449699</td>\n",
       "      <td>0.416678</td>\n",
       "    </tr>\n",
       "    <tr>\n",
       "      <th>2955</th>\n",
       "      <td>0.643405</td>\n",
       "      <td>0.192321</td>\n",
       "      <td>1.981152</td>\n",
       "      <td>0.603926</td>\n",
       "      <td>-1.279414</td>\n",
       "      <td>1.097114</td>\n",
       "    </tr>\n",
       "    <tr>\n",
       "      <th>2958</th>\n",
       "      <td>0.122122</td>\n",
       "      <td>0.813402</td>\n",
       "      <td>-0.739232</td>\n",
       "      <td>0.547289</td>\n",
       "      <td>-1.337955</td>\n",
       "      <td>-1.105406</td>\n",
       "    </tr>\n",
       "    <tr>\n",
       "      <th>2961</th>\n",
       "      <td>-0.813555</td>\n",
       "      <td>-0.941517</td>\n",
       "      <td>-0.532860</td>\n",
       "      <td>0.754205</td>\n",
       "      <td>-1.290289</td>\n",
       "      <td>-0.612412</td>\n",
       "    </tr>\n",
       "    <tr>\n",
       "      <th>2964</th>\n",
       "      <td>-0.024280</td>\n",
       "      <td>0.542704</td>\n",
       "      <td>-0.594932</td>\n",
       "      <td>0.099559</td>\n",
       "      <td>-0.992261</td>\n",
       "      <td>0.596028</td>\n",
       "    </tr>\n",
       "    <tr>\n",
       "      <th>2967</th>\n",
       "      <td>-2.427947</td>\n",
       "      <td>0.160422</td>\n",
       "      <td>0.527004</td>\n",
       "      <td>1.206161</td>\n",
       "      <td>0.998892</td>\n",
       "      <td>0.529822</td>\n",
       "    </tr>\n",
       "    <tr>\n",
       "      <th>2970</th>\n",
       "      <td>-0.016148</td>\n",
       "      <td>1.763208</td>\n",
       "      <td>-1.034053</td>\n",
       "      <td>0.872201</td>\n",
       "      <td>-0.758887</td>\n",
       "      <td>-0.753172</td>\n",
       "    </tr>\n",
       "    <tr>\n",
       "      <th>2973</th>\n",
       "      <td>1.674303</td>\n",
       "      <td>-0.387506</td>\n",
       "      <td>-2.254331</td>\n",
       "      <td>-1.773518</td>\n",
       "      <td>0.615029</td>\n",
       "      <td>-1.716148</td>\n",
       "    </tr>\n",
       "    <tr>\n",
       "      <th>2976</th>\n",
       "      <td>2.119215</td>\n",
       "      <td>0.767200</td>\n",
       "      <td>0.782669</td>\n",
       "      <td>-0.044936</td>\n",
       "      <td>0.923013</td>\n",
       "      <td>0.825720</td>\n",
       "    </tr>\n",
       "    <tr>\n",
       "      <th>2979</th>\n",
       "      <td>-0.595234</td>\n",
       "      <td>0.600849</td>\n",
       "      <td>0.316792</td>\n",
       "      <td>0.253311</td>\n",
       "      <td>0.153847</td>\n",
       "      <td>-0.369398</td>\n",
       "    </tr>\n",
       "    <tr>\n",
       "      <th>2982</th>\n",
       "      <td>-0.708021</td>\n",
       "      <td>-1.713307</td>\n",
       "      <td>-0.552180</td>\n",
       "      <td>-0.307223</td>\n",
       "      <td>-0.939053</td>\n",
       "      <td>-0.820910</td>\n",
       "    </tr>\n",
       "    <tr>\n",
       "      <th>2985</th>\n",
       "      <td>-1.573937</td>\n",
       "      <td>0.308366</td>\n",
       "      <td>-1.662245</td>\n",
       "      <td>0.570210</td>\n",
       "      <td>-0.653210</td>\n",
       "      <td>-0.314402</td>\n",
       "    </tr>\n",
       "    <tr>\n",
       "      <th>2988</th>\n",
       "      <td>-1.194555</td>\n",
       "      <td>1.977206</td>\n",
       "      <td>0.754842</td>\n",
       "      <td>0.305322</td>\n",
       "      <td>1.198796</td>\n",
       "      <td>1.473283</td>\n",
       "    </tr>\n",
       "    <tr>\n",
       "      <th>2991</th>\n",
       "      <td>1.869433</td>\n",
       "      <td>-0.589284</td>\n",
       "      <td>0.759278</td>\n",
       "      <td>-0.351937</td>\n",
       "      <td>-0.536819</td>\n",
       "      <td>0.777580</td>\n",
       "    </tr>\n",
       "    <tr>\n",
       "      <th>2994</th>\n",
       "      <td>0.368289</td>\n",
       "      <td>-0.466715</td>\n",
       "      <td>-0.429377</td>\n",
       "      <td>0.289506</td>\n",
       "      <td>-0.339652</td>\n",
       "      <td>-0.339438</td>\n",
       "    </tr>\n",
       "    <tr>\n",
       "      <th>2997</th>\n",
       "      <td>-1.470242</td>\n",
       "      <td>1.698912</td>\n",
       "      <td>0.687847</td>\n",
       "      <td>-0.045696</td>\n",
       "      <td>0.683194</td>\n",
       "      <td>1.892945</td>\n",
       "    </tr>\n",
       "  </tbody>\n",
       "</table>\n",
       "<p>971 rows × 6 columns</p>\n",
       "</div>"
      ],
      "text/plain": [
       "             A         B         C         D         E         F\n",
       "0    -2.027348 -0.760066  1.818686 -0.616385  0.552074 -1.224706\n",
       "3    -0.240134 -1.034095  0.678209 -0.204445 -0.439685  1.754732\n",
       "6     0.152990 -0.655726 -1.630595  0.101850 -0.064469 -0.753385\n",
       "12    0.304958 -1.514211 -0.053739  0.276051 -0.733645  0.942726\n",
       "15   -0.239578  0.608844  1.739310 -0.543123  0.675398  1.665416\n",
       "18   -0.883210  0.904198  0.378123 -1.176221 -1.243975  1.467087\n",
       "21   -0.422791 -0.259483 -1.682882 -0.518549 -0.009037 -0.972062\n",
       "24    1.254290 -1.980355 -0.208856 -0.106617  0.855234  0.195338\n",
       "27   -0.411384  1.370993 -0.605932 -0.376451  0.590043  0.180325\n",
       "30   -1.057850 -0.631944  0.555904  1.097064 -1.387151  0.353236\n",
       "33   -0.711113 -0.169546  0.171976 -0.212092 -1.132355  1.315146\n",
       "36    0.829969  0.297953 -0.302928 -0.945781 -0.242724  1.312581\n",
       "39   -0.697625  1.229031  1.987020  0.343909  2.364586  0.450260\n",
       "42    1.269170 -1.206863  0.878972  0.837160 -0.437905  0.348167\n",
       "45   -0.407344 -0.071046  1.459191  1.619865 -0.440274  0.539111\n",
       "48    0.374244 -0.697430  0.450782 -0.308440  0.228700  0.421094\n",
       "51   -0.100464  1.401493  0.856901 -1.714850 -0.726944 -0.307432\n",
       "54    1.227898  0.029258  0.303557  0.058012  0.911842 -0.323239\n",
       "57    0.260521  0.902231  0.767018 -1.457077 -1.540407  0.214406\n",
       "60    0.021719 -0.581770 -0.412024  0.199358  1.186086  1.977274\n",
       "63    0.192915  1.176450 -0.215527  1.906917  0.590545 -1.208706\n",
       "66    0.617869 -0.012514 -0.028533  0.506198 -0.256584 -0.535241\n",
       "69    0.675479  1.217800 -0.078125 -1.803885  0.117571  0.667392\n",
       "72   -0.406723 -0.155374 -1.444615 -0.637595 -1.395026  0.266084\n",
       "75    0.198348  0.602034 -1.474521  0.306232  3.149443  2.307441\n",
       "78   -0.793300  0.067512  0.437059 -0.252246  0.623072  0.594353\n",
       "81   -1.085852  2.311401 -1.244005  0.247349  0.157492 -1.245686\n",
       "84    0.247839 -0.077916 -0.762923 -0.555147 -0.114645  0.627074\n",
       "87   -0.681611  0.226183 -0.976978  1.660791 -0.766767  1.677164\n",
       "90    0.427013  0.126773  0.179123  0.020950  0.268516  0.776483\n",
       "...        ...       ...       ...       ...       ...       ...\n",
       "2910 -0.541525  1.038404  0.418874  1.730242  1.382714  0.991357\n",
       "2913 -0.072480 -0.725895  1.516190 -1.728947 -0.041549  0.139706\n",
       "2916  0.163878 -0.636558  0.553073 -1.364876  0.496830  0.312249\n",
       "2919  0.686492  0.094363  0.835299  1.702522  1.135436  1.675020\n",
       "2922 -0.027295  0.163613 -0.616894 -1.705558  0.762044  0.042091\n",
       "2925 -2.315108  1.015217  1.062335  1.936149  1.821366  0.648717\n",
       "2928 -0.411829 -0.732997  1.219275 -0.046593 -0.046027  3.003399\n",
       "2931 -0.992891  0.501892 -0.630952  0.223819 -0.646514 -1.224562\n",
       "2934 -0.550826  0.522783 -0.271546  1.439498 -0.013425  0.582987\n",
       "2937  0.410123 -0.127677 -0.229596 -0.830667  0.071714  0.747561\n",
       "2940  0.087771  0.252386 -0.959825  0.340264 -2.200490 -0.074453\n",
       "2943 -3.003522 -1.629006  0.641945 -0.404185  0.716316  0.786389\n",
       "2946  0.745290 -0.641602  1.073723 -0.448407 -0.046598  0.168012\n",
       "2949 -2.961654  0.697773 -0.411028 -0.823714  1.253074  0.921263\n",
       "2952  0.461372  0.963166 -0.387544 -1.167225  0.449699  0.416678\n",
       "2955  0.643405  0.192321  1.981152  0.603926 -1.279414  1.097114\n",
       "2958  0.122122  0.813402 -0.739232  0.547289 -1.337955 -1.105406\n",
       "2961 -0.813555 -0.941517 -0.532860  0.754205 -1.290289 -0.612412\n",
       "2964 -0.024280  0.542704 -0.594932  0.099559 -0.992261  0.596028\n",
       "2967 -2.427947  0.160422  0.527004  1.206161  0.998892  0.529822\n",
       "2970 -0.016148  1.763208 -1.034053  0.872201 -0.758887 -0.753172\n",
       "2973  1.674303 -0.387506 -2.254331 -1.773518  0.615029 -1.716148\n",
       "2976  2.119215  0.767200  0.782669 -0.044936  0.923013  0.825720\n",
       "2979 -0.595234  0.600849  0.316792  0.253311  0.153847 -0.369398\n",
       "2982 -0.708021 -1.713307 -0.552180 -0.307223 -0.939053 -0.820910\n",
       "2985 -1.573937  0.308366 -1.662245  0.570210 -0.653210 -0.314402\n",
       "2988 -1.194555  1.977206  0.754842  0.305322  1.198796  1.473283\n",
       "2991  1.869433 -0.589284  0.759278 -0.351937 -0.536819  0.777580\n",
       "2994  0.368289 -0.466715 -0.429377  0.289506 -0.339652 -0.339438\n",
       "2997 -1.470242  1.698912  0.687847 -0.045696  0.683194  1.892945\n",
       "\n",
       "[971 rows x 6 columns]"
      ]
     },
     "execution_count": 76,
     "metadata": {},
     "output_type": "execute_result"
    }
   ],
   "source": [
    "u[~(u.D > 2)]  # For the inverse of u.D > 2"
   ]
  },
  {
   "cell_type": "markdown",
   "metadata": {},
   "source": [
    "### Computing With `DataFrames`\n",
    "\n",
    "You can calculate with `DataFrames` or their columns (which are `Series`) the same way you could with `arrays`s"
   ]
  },
  {
   "cell_type": "code",
   "execution_count": 77,
   "metadata": {},
   "outputs": [
    {
     "data": {
      "text/plain": [
       "0    -0.816522\n",
       "3     0.569888\n",
       "6    -1.327342\n",
       "9    -2.166337\n",
       "12    1.060754\n",
       "Name: F, dtype: float64"
      ]
     },
     "execution_count": 77,
     "metadata": {},
     "output_type": "execute_result"
    }
   ],
   "source": [
    "u['F'] = 1 / u['F']\n",
    "u['F'].head()"
   ]
  },
  {
   "cell_type": "code",
   "execution_count": 78,
   "metadata": {},
   "outputs": [
    {
     "data": {
      "text/plain": [
       "A   -0.015098\n",
       "B    0.008872\n",
       "C   -0.016395\n",
       "D    0.037659\n",
       "E    0.037678\n",
       "F    0.165918\n",
       "dtype: float64"
      ]
     },
     "execution_count": 78,
     "metadata": {},
     "output_type": "execute_result"
    }
   ],
   "source": [
    "np.mean(u)"
   ]
  },
  {
   "cell_type": "markdown",
   "metadata": {},
   "source": [
    "You can apply functions to the whole dataset or specific columns with the `apply` command. `apply` acts on the whole column at a time (i.e. a Pandas `Series`), so you can compute things that depend on several values of the column, for instance the mean value. To apply functions in a real element-by-element basis the function `applymap` or `Series.apply` should be used."
   ]
  },
  {
   "cell_type": "code",
   "execution_count": 79,
   "metadata": {},
   "outputs": [
    {
     "data": {
      "text/plain": [
       "A   -0.015098\n",
       "B    0.008872\n",
       "C   -0.016395\n",
       "D    0.037659\n",
       "E    0.037678\n",
       "F    0.165918\n",
       "dtype: float64"
      ]
     },
     "execution_count": 79,
     "metadata": {},
     "output_type": "execute_result"
    }
   ],
   "source": [
    "def mn(col):\n",
    "    return sum(col) / len(col)\n",
    "\n",
    "u.apply(mn)"
   ]
  },
  {
   "cell_type": "markdown",
   "metadata": {},
   "source": [
    "While most can be directly calculated (including the given example of the mean), `apply` also works on columns with strings or categorical data, where no mathematical operations are defined. The limit is the imagination."
   ]
  },
  {
   "cell_type": "markdown",
   "metadata": {},
   "source": [
    "### Combining `DataFrames`\n",
    "\n",
    "Something we will do quite often as scientists is combining data from different sources into one single source. This can be achieved by different commands in Pandas, depending on the actual goal we want.\n",
    "\n",
    "To begin with, appending new rows of data is achieved by the command `append`."
   ]
  },
  {
   "cell_type": "code",
   "execution_count": 80,
   "metadata": {},
   "outputs": [
    {
     "data": {
      "text/html": [
       "<div>\n",
       "<style>\n",
       "    .dataframe thead tr:only-child th {\n",
       "        text-align: right;\n",
       "    }\n",
       "\n",
       "    .dataframe thead th {\n",
       "        text-align: left;\n",
       "    }\n",
       "\n",
       "    .dataframe tbody tr th {\n",
       "        vertical-align: top;\n",
       "    }\n",
       "</style>\n",
       "<table border=\"1\" class=\"dataframe\">\n",
       "  <thead>\n",
       "    <tr style=\"text-align: right;\">\n",
       "      <th></th>\n",
       "      <th>A</th>\n",
       "      <th>B</th>\n",
       "      <th>C</th>\n",
       "      <th>D</th>\n",
       "      <th>E</th>\n",
       "      <th>F</th>\n",
       "    </tr>\n",
       "  </thead>\n",
       "  <tbody>\n",
       "    <tr>\n",
       "      <th>3003</th>\n",
       "      <td>1.0</td>\n",
       "      <td>1.0</td>\n",
       "      <td>1.0</td>\n",
       "      <td>1.0</td>\n",
       "      <td>1.0</td>\n",
       "      <td>1.0</td>\n",
       "    </tr>\n",
       "    <tr>\n",
       "      <th>3006</th>\n",
       "      <td>1.0</td>\n",
       "      <td>1.0</td>\n",
       "      <td>1.0</td>\n",
       "      <td>1.0</td>\n",
       "      <td>1.0</td>\n",
       "      <td>1.0</td>\n",
       "    </tr>\n",
       "    <tr>\n",
       "      <th>3009</th>\n",
       "      <td>1.0</td>\n",
       "      <td>1.0</td>\n",
       "      <td>1.0</td>\n",
       "      <td>1.0</td>\n",
       "      <td>1.0</td>\n",
       "      <td>1.0</td>\n",
       "    </tr>\n",
       "    <tr>\n",
       "      <th>3012</th>\n",
       "      <td>1.0</td>\n",
       "      <td>1.0</td>\n",
       "      <td>1.0</td>\n",
       "      <td>1.0</td>\n",
       "      <td>1.0</td>\n",
       "      <td>1.0</td>\n",
       "    </tr>\n",
       "    <tr>\n",
       "      <th>3015</th>\n",
       "      <td>1.0</td>\n",
       "      <td>1.0</td>\n",
       "      <td>1.0</td>\n",
       "      <td>1.0</td>\n",
       "      <td>1.0</td>\n",
       "      <td>1.0</td>\n",
       "    </tr>\n",
       "  </tbody>\n",
       "</table>\n",
       "</div>"
      ],
      "text/plain": [
       "        A    B    C    D    E    F\n",
       "3003  1.0  1.0  1.0  1.0  1.0  1.0\n",
       "3006  1.0  1.0  1.0  1.0  1.0  1.0\n",
       "3009  1.0  1.0  1.0  1.0  1.0  1.0\n",
       "3012  1.0  1.0  1.0  1.0  1.0  1.0\n",
       "3015  1.0  1.0  1.0  1.0  1.0  1.0"
      ]
     },
     "execution_count": 80,
     "metadata": {},
     "output_type": "execute_result"
    }
   ],
   "source": [
    "newdata = pd.DataFrame(np.ones((5, 6)), index=np.arange(3003, 3018, 3), columns=list('ABCDEF'))\n",
    "newdata"
   ]
  },
  {
   "cell_type": "code",
   "execution_count": 81,
   "metadata": {},
   "outputs": [
    {
     "data": {
      "text/html": [
       "<div>\n",
       "<style>\n",
       "    .dataframe thead tr:only-child th {\n",
       "        text-align: right;\n",
       "    }\n",
       "\n",
       "    .dataframe thead th {\n",
       "        text-align: left;\n",
       "    }\n",
       "\n",
       "    .dataframe tbody tr th {\n",
       "        vertical-align: top;\n",
       "    }\n",
       "</style>\n",
       "<table border=\"1\" class=\"dataframe\">\n",
       "  <thead>\n",
       "    <tr style=\"text-align: right;\">\n",
       "      <th></th>\n",
       "      <th>A</th>\n",
       "      <th>B</th>\n",
       "      <th>C</th>\n",
       "      <th>D</th>\n",
       "      <th>E</th>\n",
       "      <th>F</th>\n",
       "    </tr>\n",
       "  </thead>\n",
       "  <tbody>\n",
       "    <tr>\n",
       "      <th>2985</th>\n",
       "      <td>-1.573937</td>\n",
       "      <td>0.308366</td>\n",
       "      <td>-1.662245</td>\n",
       "      <td>0.570210</td>\n",
       "      <td>-0.653210</td>\n",
       "      <td>-3.180637</td>\n",
       "    </tr>\n",
       "    <tr>\n",
       "      <th>2988</th>\n",
       "      <td>-1.194555</td>\n",
       "      <td>1.977206</td>\n",
       "      <td>0.754842</td>\n",
       "      <td>0.305322</td>\n",
       "      <td>1.198796</td>\n",
       "      <td>0.678756</td>\n",
       "    </tr>\n",
       "    <tr>\n",
       "      <th>2991</th>\n",
       "      <td>1.869433</td>\n",
       "      <td>-0.589284</td>\n",
       "      <td>0.759278</td>\n",
       "      <td>-0.351937</td>\n",
       "      <td>-0.536819</td>\n",
       "      <td>1.286042</td>\n",
       "    </tr>\n",
       "    <tr>\n",
       "      <th>2994</th>\n",
       "      <td>0.368289</td>\n",
       "      <td>-0.466715</td>\n",
       "      <td>-0.429377</td>\n",
       "      <td>0.289506</td>\n",
       "      <td>-0.339652</td>\n",
       "      <td>-2.946043</td>\n",
       "    </tr>\n",
       "    <tr>\n",
       "      <th>2997</th>\n",
       "      <td>-1.470242</td>\n",
       "      <td>1.698912</td>\n",
       "      <td>0.687847</td>\n",
       "      <td>-0.045696</td>\n",
       "      <td>0.683194</td>\n",
       "      <td>0.528277</td>\n",
       "    </tr>\n",
       "    <tr>\n",
       "      <th>3003</th>\n",
       "      <td>1.000000</td>\n",
       "      <td>1.000000</td>\n",
       "      <td>1.000000</td>\n",
       "      <td>1.000000</td>\n",
       "      <td>1.000000</td>\n",
       "      <td>1.000000</td>\n",
       "    </tr>\n",
       "    <tr>\n",
       "      <th>3006</th>\n",
       "      <td>1.000000</td>\n",
       "      <td>1.000000</td>\n",
       "      <td>1.000000</td>\n",
       "      <td>1.000000</td>\n",
       "      <td>1.000000</td>\n",
       "      <td>1.000000</td>\n",
       "    </tr>\n",
       "    <tr>\n",
       "      <th>3009</th>\n",
       "      <td>1.000000</td>\n",
       "      <td>1.000000</td>\n",
       "      <td>1.000000</td>\n",
       "      <td>1.000000</td>\n",
       "      <td>1.000000</td>\n",
       "      <td>1.000000</td>\n",
       "    </tr>\n",
       "    <tr>\n",
       "      <th>3012</th>\n",
       "      <td>1.000000</td>\n",
       "      <td>1.000000</td>\n",
       "      <td>1.000000</td>\n",
       "      <td>1.000000</td>\n",
       "      <td>1.000000</td>\n",
       "      <td>1.000000</td>\n",
       "    </tr>\n",
       "    <tr>\n",
       "      <th>3015</th>\n",
       "      <td>1.000000</td>\n",
       "      <td>1.000000</td>\n",
       "      <td>1.000000</td>\n",
       "      <td>1.000000</td>\n",
       "      <td>1.000000</td>\n",
       "      <td>1.000000</td>\n",
       "    </tr>\n",
       "  </tbody>\n",
       "</table>\n",
       "</div>"
      ],
      "text/plain": [
       "             A         B         C         D         E         F\n",
       "2985 -1.573937  0.308366 -1.662245  0.570210 -0.653210 -3.180637\n",
       "2988 -1.194555  1.977206  0.754842  0.305322  1.198796  0.678756\n",
       "2991  1.869433 -0.589284  0.759278 -0.351937 -0.536819  1.286042\n",
       "2994  0.368289 -0.466715 -0.429377  0.289506 -0.339652 -2.946043\n",
       "2997 -1.470242  1.698912  0.687847 -0.045696  0.683194  0.528277\n",
       "3003  1.000000  1.000000  1.000000  1.000000  1.000000  1.000000\n",
       "3006  1.000000  1.000000  1.000000  1.000000  1.000000  1.000000\n",
       "3009  1.000000  1.000000  1.000000  1.000000  1.000000  1.000000\n",
       "3012  1.000000  1.000000  1.000000  1.000000  1.000000  1.000000\n",
       "3015  1.000000  1.000000  1.000000  1.000000  1.000000  1.000000"
      ]
     },
     "execution_count": 81,
     "metadata": {},
     "output_type": "execute_result"
    }
   ],
   "source": [
    "unew = u.append(newdata)\n",
    "unew.tail(10)"
   ]
  },
  {
   "cell_type": "markdown",
   "metadata": {},
   "source": [
    "The same result can be obtained with `concat`."
   ]
  },
  {
   "cell_type": "code",
   "execution_count": 82,
   "metadata": {},
   "outputs": [
    {
     "data": {
      "text/html": [
       "<div>\n",
       "<style>\n",
       "    .dataframe thead tr:only-child th {\n",
       "        text-align: right;\n",
       "    }\n",
       "\n",
       "    .dataframe thead th {\n",
       "        text-align: left;\n",
       "    }\n",
       "\n",
       "    .dataframe tbody tr th {\n",
       "        vertical-align: top;\n",
       "    }\n",
       "</style>\n",
       "<table border=\"1\" class=\"dataframe\">\n",
       "  <thead>\n",
       "    <tr style=\"text-align: right;\">\n",
       "      <th></th>\n",
       "      <th>A</th>\n",
       "      <th>B</th>\n",
       "      <th>C</th>\n",
       "      <th>D</th>\n",
       "      <th>E</th>\n",
       "      <th>F</th>\n",
       "    </tr>\n",
       "  </thead>\n",
       "  <tbody>\n",
       "    <tr>\n",
       "      <th>2985</th>\n",
       "      <td>-1.573937</td>\n",
       "      <td>0.308366</td>\n",
       "      <td>-1.662245</td>\n",
       "      <td>0.570210</td>\n",
       "      <td>-0.653210</td>\n",
       "      <td>-3.180637</td>\n",
       "    </tr>\n",
       "    <tr>\n",
       "      <th>2988</th>\n",
       "      <td>-1.194555</td>\n",
       "      <td>1.977206</td>\n",
       "      <td>0.754842</td>\n",
       "      <td>0.305322</td>\n",
       "      <td>1.198796</td>\n",
       "      <td>0.678756</td>\n",
       "    </tr>\n",
       "    <tr>\n",
       "      <th>2991</th>\n",
       "      <td>1.869433</td>\n",
       "      <td>-0.589284</td>\n",
       "      <td>0.759278</td>\n",
       "      <td>-0.351937</td>\n",
       "      <td>-0.536819</td>\n",
       "      <td>1.286042</td>\n",
       "    </tr>\n",
       "    <tr>\n",
       "      <th>2994</th>\n",
       "      <td>0.368289</td>\n",
       "      <td>-0.466715</td>\n",
       "      <td>-0.429377</td>\n",
       "      <td>0.289506</td>\n",
       "      <td>-0.339652</td>\n",
       "      <td>-2.946043</td>\n",
       "    </tr>\n",
       "    <tr>\n",
       "      <th>2997</th>\n",
       "      <td>-1.470242</td>\n",
       "      <td>1.698912</td>\n",
       "      <td>0.687847</td>\n",
       "      <td>-0.045696</td>\n",
       "      <td>0.683194</td>\n",
       "      <td>0.528277</td>\n",
       "    </tr>\n",
       "    <tr>\n",
       "      <th>3003</th>\n",
       "      <td>1.000000</td>\n",
       "      <td>1.000000</td>\n",
       "      <td>1.000000</td>\n",
       "      <td>1.000000</td>\n",
       "      <td>1.000000</td>\n",
       "      <td>1.000000</td>\n",
       "    </tr>\n",
       "    <tr>\n",
       "      <th>3006</th>\n",
       "      <td>1.000000</td>\n",
       "      <td>1.000000</td>\n",
       "      <td>1.000000</td>\n",
       "      <td>1.000000</td>\n",
       "      <td>1.000000</td>\n",
       "      <td>1.000000</td>\n",
       "    </tr>\n",
       "    <tr>\n",
       "      <th>3009</th>\n",
       "      <td>1.000000</td>\n",
       "      <td>1.000000</td>\n",
       "      <td>1.000000</td>\n",
       "      <td>1.000000</td>\n",
       "      <td>1.000000</td>\n",
       "      <td>1.000000</td>\n",
       "    </tr>\n",
       "    <tr>\n",
       "      <th>3012</th>\n",
       "      <td>1.000000</td>\n",
       "      <td>1.000000</td>\n",
       "      <td>1.000000</td>\n",
       "      <td>1.000000</td>\n",
       "      <td>1.000000</td>\n",
       "      <td>1.000000</td>\n",
       "    </tr>\n",
       "    <tr>\n",
       "      <th>3015</th>\n",
       "      <td>1.000000</td>\n",
       "      <td>1.000000</td>\n",
       "      <td>1.000000</td>\n",
       "      <td>1.000000</td>\n",
       "      <td>1.000000</td>\n",
       "      <td>1.000000</td>\n",
       "    </tr>\n",
       "  </tbody>\n",
       "</table>\n",
       "</div>"
      ],
      "text/plain": [
       "             A         B         C         D         E         F\n",
       "2985 -1.573937  0.308366 -1.662245  0.570210 -0.653210 -3.180637\n",
       "2988 -1.194555  1.977206  0.754842  0.305322  1.198796  0.678756\n",
       "2991  1.869433 -0.589284  0.759278 -0.351937 -0.536819  1.286042\n",
       "2994  0.368289 -0.466715 -0.429377  0.289506 -0.339652 -2.946043\n",
       "2997 -1.470242  1.698912  0.687847 -0.045696  0.683194  0.528277\n",
       "3003  1.000000  1.000000  1.000000  1.000000  1.000000  1.000000\n",
       "3006  1.000000  1.000000  1.000000  1.000000  1.000000  1.000000\n",
       "3009  1.000000  1.000000  1.000000  1.000000  1.000000  1.000000\n",
       "3012  1.000000  1.000000  1.000000  1.000000  1.000000  1.000000\n",
       "3015  1.000000  1.000000  1.000000  1.000000  1.000000  1.000000"
      ]
     },
     "execution_count": 82,
     "metadata": {},
     "output_type": "execute_result"
    }
   ],
   "source": [
    "pd.concat([u, newdata]).tail(10)"
   ]
  },
  {
   "cell_type": "markdown",
   "metadata": {},
   "source": [
    "New columns of data can just be asigned or added with the command `join`."
   ]
  },
  {
   "cell_type": "code",
   "execution_count": 83,
   "metadata": {},
   "outputs": [
    {
     "data": {
      "text/html": [
       "<div>\n",
       "<style>\n",
       "    .dataframe thead tr:only-child th {\n",
       "        text-align: right;\n",
       "    }\n",
       "\n",
       "    .dataframe thead th {\n",
       "        text-align: left;\n",
       "    }\n",
       "\n",
       "    .dataframe tbody tr th {\n",
       "        vertical-align: top;\n",
       "    }\n",
       "</style>\n",
       "<table border=\"1\" class=\"dataframe\">\n",
       "  <thead>\n",
       "    <tr style=\"text-align: right;\">\n",
       "      <th></th>\n",
       "      <th>A</th>\n",
       "      <th>B</th>\n",
       "      <th>C</th>\n",
       "      <th>D</th>\n",
       "      <th>E</th>\n",
       "      <th>F</th>\n",
       "      <th>G</th>\n",
       "    </tr>\n",
       "  </thead>\n",
       "  <tbody>\n",
       "    <tr>\n",
       "      <th>2985</th>\n",
       "      <td>-1.573937</td>\n",
       "      <td>0.308366</td>\n",
       "      <td>-1.662245</td>\n",
       "      <td>0.570210</td>\n",
       "      <td>-0.653210</td>\n",
       "      <td>-3.180637</td>\n",
       "      <td>a</td>\n",
       "    </tr>\n",
       "    <tr>\n",
       "      <th>2988</th>\n",
       "      <td>-1.194555</td>\n",
       "      <td>1.977206</td>\n",
       "      <td>0.754842</td>\n",
       "      <td>0.305322</td>\n",
       "      <td>1.198796</td>\n",
       "      <td>0.678756</td>\n",
       "      <td>c</td>\n",
       "    </tr>\n",
       "    <tr>\n",
       "      <th>2991</th>\n",
       "      <td>1.869433</td>\n",
       "      <td>-0.589284</td>\n",
       "      <td>0.759278</td>\n",
       "      <td>-0.351937</td>\n",
       "      <td>-0.536819</td>\n",
       "      <td>1.286042</td>\n",
       "      <td>a</td>\n",
       "    </tr>\n",
       "    <tr>\n",
       "      <th>2994</th>\n",
       "      <td>0.368289</td>\n",
       "      <td>-0.466715</td>\n",
       "      <td>-0.429377</td>\n",
       "      <td>0.289506</td>\n",
       "      <td>-0.339652</td>\n",
       "      <td>-2.946043</td>\n",
       "      <td>c</td>\n",
       "    </tr>\n",
       "    <tr>\n",
       "      <th>2997</th>\n",
       "      <td>-1.470242</td>\n",
       "      <td>1.698912</td>\n",
       "      <td>0.687847</td>\n",
       "      <td>-0.045696</td>\n",
       "      <td>0.683194</td>\n",
       "      <td>0.528277</td>\n",
       "      <td>b</td>\n",
       "    </tr>\n",
       "  </tbody>\n",
       "</table>\n",
       "</div>"
      ],
      "text/plain": [
       "             A         B         C         D         E         F  G\n",
       "2985 -1.573937  0.308366 -1.662245  0.570210 -0.653210 -3.180637  a\n",
       "2988 -1.194555  1.977206  0.754842  0.305322  1.198796  0.678756  c\n",
       "2991  1.869433 -0.589284  0.759278 -0.351937 -0.536819  1.286042  a\n",
       "2994  0.368289 -0.466715 -0.429377  0.289506 -0.339652 -2.946043  c\n",
       "2997 -1.470242  1.698912  0.687847 -0.045696  0.683194  0.528277  b"
      ]
     },
     "execution_count": 83,
     "metadata": {},
     "output_type": "execute_result"
    }
   ],
   "source": [
    "u['G'] = np.random.choice(['a', 'b', 'c'], len(u))\n",
    "u.tail()"
   ]
  },
  {
   "cell_type": "markdown",
   "metadata": {},
   "source": [
    "### Grouping Data"
   ]
  },
  {
   "cell_type": "code",
   "execution_count": 84,
   "metadata": {},
   "outputs": [
    {
     "name": "stdout",
     "output_type": "stream",
     "text": [
      "a: 1.957942920266536\n",
      "b: -1.9937857963520162\n",
      "c: 0.3156890666121583\n"
     ]
    }
   ],
   "source": [
    "for h, group in u.groupby('G'):\n",
    "    print('{}: {}'.format(h, np.mean(group['F'])))"
   ]
  },
  {
   "cell_type": "code",
   "execution_count": 85,
   "metadata": {},
   "outputs": [
    {
     "data": {
      "text/html": [
       "<div>\n",
       "<style>\n",
       "    .dataframe thead tr:only-child th {\n",
       "        text-align: right;\n",
       "    }\n",
       "\n",
       "    .dataframe thead th {\n",
       "        text-align: left;\n",
       "    }\n",
       "\n",
       "    .dataframe tbody tr th {\n",
       "        vertical-align: top;\n",
       "    }\n",
       "</style>\n",
       "<table border=\"1\" class=\"dataframe\">\n",
       "  <thead>\n",
       "    <tr>\n",
       "      <th></th>\n",
       "      <th colspan=\"8\" halign=\"left\">A</th>\n",
       "      <th colspan=\"2\" halign=\"left\">B</th>\n",
       "      <th>...</th>\n",
       "      <th colspan=\"2\" halign=\"left\">E</th>\n",
       "      <th colspan=\"8\" halign=\"left\">F</th>\n",
       "    </tr>\n",
       "    <tr>\n",
       "      <th></th>\n",
       "      <th>count</th>\n",
       "      <th>mean</th>\n",
       "      <th>std</th>\n",
       "      <th>min</th>\n",
       "      <th>25%</th>\n",
       "      <th>50%</th>\n",
       "      <th>75%</th>\n",
       "      <th>max</th>\n",
       "      <th>count</th>\n",
       "      <th>mean</th>\n",
       "      <th>...</th>\n",
       "      <th>75%</th>\n",
       "      <th>max</th>\n",
       "      <th>count</th>\n",
       "      <th>mean</th>\n",
       "      <th>std</th>\n",
       "      <th>min</th>\n",
       "      <th>25%</th>\n",
       "      <th>50%</th>\n",
       "      <th>75%</th>\n",
       "      <th>max</th>\n",
       "    </tr>\n",
       "    <tr>\n",
       "      <th>G</th>\n",
       "      <th></th>\n",
       "      <th></th>\n",
       "      <th></th>\n",
       "      <th></th>\n",
       "      <th></th>\n",
       "      <th></th>\n",
       "      <th></th>\n",
       "      <th></th>\n",
       "      <th></th>\n",
       "      <th></th>\n",
       "      <th></th>\n",
       "      <th></th>\n",
       "      <th></th>\n",
       "      <th></th>\n",
       "      <th></th>\n",
       "      <th></th>\n",
       "      <th></th>\n",
       "      <th></th>\n",
       "      <th></th>\n",
       "      <th></th>\n",
       "      <th></th>\n",
       "    </tr>\n",
       "  </thead>\n",
       "  <tbody>\n",
       "    <tr>\n",
       "      <th>a</th>\n",
       "      <td>356.0</td>\n",
       "      <td>0.000166</td>\n",
       "      <td>1.033033</td>\n",
       "      <td>-2.961654</td>\n",
       "      <td>-0.692794</td>\n",
       "      <td>0.015768</td>\n",
       "      <td>0.698239</td>\n",
       "      <td>3.073027</td>\n",
       "      <td>356.0</td>\n",
       "      <td>-0.032244</td>\n",
       "      <td>...</td>\n",
       "      <td>0.567163</td>\n",
       "      <td>3.149443</td>\n",
       "      <td>356.0</td>\n",
       "      <td>1.957943</td>\n",
       "      <td>16.775948</td>\n",
       "      <td>-27.646558</td>\n",
       "      <td>-1.549306</td>\n",
       "      <td>0.358729</td>\n",
       "      <td>1.382375</td>\n",
       "      <td>149.85515</td>\n",
       "    </tr>\n",
       "    <tr>\n",
       "      <th>b</th>\n",
       "      <td>318.0</td>\n",
       "      <td>0.004829</td>\n",
       "      <td>0.964332</td>\n",
       "      <td>-3.003522</td>\n",
       "      <td>-0.694332</td>\n",
       "      <td>-0.020203</td>\n",
       "      <td>0.669275</td>\n",
       "      <td>3.102455</td>\n",
       "      <td>318.0</td>\n",
       "      <td>-0.035534</td>\n",
       "      <td>...</td>\n",
       "      <td>0.679460</td>\n",
       "      <td>4.026294</td>\n",
       "      <td>318.0</td>\n",
       "      <td>-1.993786</td>\n",
       "      <td>26.693357</td>\n",
       "      <td>-375.840536</td>\n",
       "      <td>-1.373964</td>\n",
       "      <td>0.452339</td>\n",
       "      <td>1.415654</td>\n",
       "      <td>136.67762</td>\n",
       "    </tr>\n",
       "    <tr>\n",
       "      <th>c</th>\n",
       "      <td>326.0</td>\n",
       "      <td>-0.051205</td>\n",
       "      <td>0.951685</td>\n",
       "      <td>-2.772829</td>\n",
       "      <td>-0.671136</td>\n",
       "      <td>-0.065995</td>\n",
       "      <td>0.601250</td>\n",
       "      <td>2.365839</td>\n",
       "      <td>326.0</td>\n",
       "      <td>0.097088</td>\n",
       "      <td>...</td>\n",
       "      <td>0.821539</td>\n",
       "      <td>3.218986</td>\n",
       "      <td>326.0</td>\n",
       "      <td>0.315689</td>\n",
       "      <td>20.031013</td>\n",
       "      <td>-199.245125</td>\n",
       "      <td>-1.460392</td>\n",
       "      <td>0.379434</td>\n",
       "      <td>1.618884</td>\n",
       "      <td>221.08552</td>\n",
       "    </tr>\n",
       "  </tbody>\n",
       "</table>\n",
       "<p>3 rows × 48 columns</p>\n",
       "</div>"
      ],
      "text/plain": [
       "       A                                                              \\\n",
       "   count      mean       std       min       25%       50%       75%   \n",
       "G                                                                      \n",
       "a  356.0  0.000166  1.033033 -2.961654 -0.692794  0.015768  0.698239   \n",
       "b  318.0  0.004829  0.964332 -3.003522 -0.694332 -0.020203  0.669275   \n",
       "c  326.0 -0.051205  0.951685 -2.772829 -0.671136 -0.065995  0.601250   \n",
       "\n",
       "                 B              ...             E                F            \\\n",
       "        max  count      mean    ...           75%       max  count      mean   \n",
       "G                               ...                                            \n",
       "a  3.073027  356.0 -0.032244    ...      0.567163  3.149443  356.0  1.957943   \n",
       "b  3.102455  318.0 -0.035534    ...      0.679460  4.026294  318.0 -1.993786   \n",
       "c  2.365839  326.0  0.097088    ...      0.821539  3.218986  326.0  0.315689   \n",
       "\n",
       "                                                                   \n",
       "         std         min       25%       50%       75%        max  \n",
       "G                                                                  \n",
       "a  16.775948  -27.646558 -1.549306  0.358729  1.382375  149.85515  \n",
       "b  26.693357 -375.840536 -1.373964  0.452339  1.415654  136.67762  \n",
       "c  20.031013 -199.245125 -1.460392  0.379434  1.618884  221.08552  \n",
       "\n",
       "[3 rows x 48 columns]"
      ]
     },
     "execution_count": 85,
     "metadata": {},
     "output_type": "execute_result"
    }
   ],
   "source": [
    "u.groupby('G').describe()"
   ]
  },
  {
   "cell_type": "markdown",
   "metadata": {},
   "source": [
    "### Loading and saving dataframes\n",
    "\n",
    "To load and save Pandas dataframes we will use the `to_csv` and `read_csv` commands"
   ]
  },
  {
   "cell_type": "code",
   "execution_count": 86,
   "metadata": {},
   "outputs": [
    {
     "data": {
      "text/html": [
       "<div>\n",
       "<style>\n",
       "    .dataframe thead tr:only-child th {\n",
       "        text-align: right;\n",
       "    }\n",
       "\n",
       "    .dataframe thead th {\n",
       "        text-align: left;\n",
       "    }\n",
       "\n",
       "    .dataframe tbody tr th {\n",
       "        vertical-align: top;\n",
       "    }\n",
       "</style>\n",
       "<table border=\"1\" class=\"dataframe\">\n",
       "  <thead>\n",
       "    <tr style=\"text-align: right;\">\n",
       "      <th></th>\n",
       "      <th>A</th>\n",
       "      <th>B</th>\n",
       "      <th>C</th>\n",
       "      <th>D</th>\n",
       "      <th>E</th>\n",
       "      <th>F</th>\n",
       "      <th>G</th>\n",
       "    </tr>\n",
       "  </thead>\n",
       "  <tbody>\n",
       "    <tr>\n",
       "      <th>0</th>\n",
       "      <td>-2.027348</td>\n",
       "      <td>-0.760066</td>\n",
       "      <td>1.818686</td>\n",
       "      <td>-0.616385</td>\n",
       "      <td>0.552074</td>\n",
       "      <td>-0.816522</td>\n",
       "      <td>a</td>\n",
       "    </tr>\n",
       "    <tr>\n",
       "      <th>3</th>\n",
       "      <td>-0.240134</td>\n",
       "      <td>-1.034095</td>\n",
       "      <td>0.678209</td>\n",
       "      <td>-0.204445</td>\n",
       "      <td>-0.439685</td>\n",
       "      <td>0.569888</td>\n",
       "      <td>b</td>\n",
       "    </tr>\n",
       "    <tr>\n",
       "      <th>6</th>\n",
       "      <td>0.152990</td>\n",
       "      <td>-0.655726</td>\n",
       "      <td>-1.630595</td>\n",
       "      <td>0.101850</td>\n",
       "      <td>-0.064469</td>\n",
       "      <td>-1.327342</td>\n",
       "      <td>a</td>\n",
       "    </tr>\n",
       "    <tr>\n",
       "      <th>9</th>\n",
       "      <td>-0.357923</td>\n",
       "      <td>-1.487928</td>\n",
       "      <td>-1.013571</td>\n",
       "      <td>2.227863</td>\n",
       "      <td>0.939255</td>\n",
       "      <td>-2.166337</td>\n",
       "      <td>c</td>\n",
       "    </tr>\n",
       "    <tr>\n",
       "      <th>12</th>\n",
       "      <td>0.304958</td>\n",
       "      <td>-1.514211</td>\n",
       "      <td>-0.053739</td>\n",
       "      <td>0.276051</td>\n",
       "      <td>-0.733645</td>\n",
       "      <td>1.060754</td>\n",
       "      <td>a</td>\n",
       "    </tr>\n",
       "  </tbody>\n",
       "</table>\n",
       "</div>"
      ],
      "text/plain": [
       "           A         B         C         D         E         F  G\n",
       "0  -2.027348 -0.760066  1.818686 -0.616385  0.552074 -0.816522  a\n",
       "3  -0.240134 -1.034095  0.678209 -0.204445 -0.439685  0.569888  b\n",
       "6   0.152990 -0.655726 -1.630595  0.101850 -0.064469 -1.327342  a\n",
       "9  -0.357923 -1.487928 -1.013571  2.227863  0.939255 -2.166337  c\n",
       "12  0.304958 -1.514211 -0.053739  0.276051 -0.733645  1.060754  a"
      ]
     },
     "execution_count": 86,
     "metadata": {},
     "output_type": "execute_result"
    }
   ],
   "source": [
    "u.to_csv('test.csv')\n",
    "v = pd.read_csv('test.csv', index_col=0)\n",
    "v.head()"
   ]
  },
  {
   "cell_type": "markdown",
   "metadata": {},
   "source": [
    "But, as an addition, Pandas has special commands to load and save Excel spreadsheets (yay!). However, to use it you'll need the `openpyxl` and `xlrd` packages."
   ]
  },
  {
   "cell_type": "code",
   "execution_count": 87,
   "metadata": {},
   "outputs": [
    {
     "data": {
      "text/html": [
       "<div>\n",
       "<style>\n",
       "    .dataframe thead tr:only-child th {\n",
       "        text-align: right;\n",
       "    }\n",
       "\n",
       "    .dataframe thead th {\n",
       "        text-align: left;\n",
       "    }\n",
       "\n",
       "    .dataframe tbody tr th {\n",
       "        vertical-align: top;\n",
       "    }\n",
       "</style>\n",
       "<table border=\"1\" class=\"dataframe\">\n",
       "  <thead>\n",
       "    <tr style=\"text-align: right;\">\n",
       "      <th></th>\n",
       "      <th>A</th>\n",
       "      <th>B</th>\n",
       "      <th>C</th>\n",
       "      <th>D</th>\n",
       "      <th>E</th>\n",
       "      <th>F</th>\n",
       "      <th>G</th>\n",
       "    </tr>\n",
       "  </thead>\n",
       "  <tbody>\n",
       "    <tr>\n",
       "      <th>0</th>\n",
       "      <td>-2.027348</td>\n",
       "      <td>-0.760066</td>\n",
       "      <td>1.818686</td>\n",
       "      <td>-0.616385</td>\n",
       "      <td>0.552074</td>\n",
       "      <td>-0.816522</td>\n",
       "      <td>a</td>\n",
       "    </tr>\n",
       "    <tr>\n",
       "      <th>3</th>\n",
       "      <td>-0.240134</td>\n",
       "      <td>-1.034095</td>\n",
       "      <td>0.678209</td>\n",
       "      <td>-0.204445</td>\n",
       "      <td>-0.439685</td>\n",
       "      <td>0.569888</td>\n",
       "      <td>b</td>\n",
       "    </tr>\n",
       "    <tr>\n",
       "      <th>6</th>\n",
       "      <td>0.152990</td>\n",
       "      <td>-0.655726</td>\n",
       "      <td>-1.630595</td>\n",
       "      <td>0.101850</td>\n",
       "      <td>-0.064469</td>\n",
       "      <td>-1.327342</td>\n",
       "      <td>a</td>\n",
       "    </tr>\n",
       "    <tr>\n",
       "      <th>9</th>\n",
       "      <td>-0.357923</td>\n",
       "      <td>-1.487928</td>\n",
       "      <td>-1.013571</td>\n",
       "      <td>2.227863</td>\n",
       "      <td>0.939255</td>\n",
       "      <td>-2.166337</td>\n",
       "      <td>c</td>\n",
       "    </tr>\n",
       "    <tr>\n",
       "      <th>12</th>\n",
       "      <td>0.304958</td>\n",
       "      <td>-1.514211</td>\n",
       "      <td>-0.053739</td>\n",
       "      <td>0.276051</td>\n",
       "      <td>-0.733645</td>\n",
       "      <td>1.060754</td>\n",
       "      <td>a</td>\n",
       "    </tr>\n",
       "  </tbody>\n",
       "</table>\n",
       "</div>"
      ],
      "text/plain": [
       "           A         B         C         D         E         F  G\n",
       "0  -2.027348 -0.760066  1.818686 -0.616385  0.552074 -0.816522  a\n",
       "3  -0.240134 -1.034095  0.678209 -0.204445 -0.439685  0.569888  b\n",
       "6   0.152990 -0.655726 -1.630595  0.101850 -0.064469 -1.327342  a\n",
       "9  -0.357923 -1.487928 -1.013571  2.227863  0.939255 -2.166337  c\n",
       "12  0.304958 -1.514211 -0.053739  0.276051 -0.733645  1.060754  a"
      ]
     },
     "execution_count": 87,
     "metadata": {},
     "output_type": "execute_result"
    }
   ],
   "source": [
    "u.to_excel('test.xlsx', sheet_name='My sheet')\n",
    "pd.read_excel('test.xlsx', 'My sheet', index_col=0).head()"
   ]
  },
  {
   "cell_type": "markdown",
   "metadata": {},
   "source": [
    "**Exercise 5**: Download [this dataset](https://raw.githubusercontent.com/ChihChengLiang/pokemongor/master/data-raw/pokemons.csv) and load it, using the first column as the index. Take a look at it, and do the following things:\n",
    "- Choose the columns 'Identifier', 'BaseStamina', 'BaseAttack', 'BaseDefense', 'Type1' and 'Type2' \n",
    "- Create a function that lowercases strings and apply it to 'Type1' and 'Type2' (*Extra: just capitalize the strings, i.e., leave the first letter uppercase and lowercase the rest*)\n",
    "- Create a function that returns a Boolean value (don't be afraif by this, it is a function that returns either True or False) that tells if a Pokémon has high stamina (BaseStamina>170) or not. Store this information in a new column and show the list of Pokémon with high stamina\n",
    "- Show the instructor the last 15 rows of your dataset"
   ]
  },
  {
   "cell_type": "code",
   "execution_count": 88,
   "metadata": {},
   "outputs": [
    {
     "name": "stdout",
     "output_type": "stream",
     "text": [
      "PkMn\n",
      "31      Nidoqueen\n",
      "36       Clefable\n",
      "39     Jigglypuff\n",
      "40     Wigglytuff\n",
      "59       Arcanine\n",
      "62      Poliwrath\n",
      "68        Machamp\n",
      "79       Slowpoke\n",
      "80        Slowbro\n",
      "87        Dewgong\n",
      "89            Muk\n",
      "103     Exeggutor\n",
      "108     Lickitung\n",
      "112        Rhydon\n",
      "113       Chansey\n",
      "115    Kangaskhan\n",
      "130      Gyarados\n",
      "131        Lapras\n",
      "134      Vaporeon\n",
      "143       Snorlax\n",
      "144      Articuno\n",
      "145        Zapdos\n",
      "146       Moltres\n",
      "149     Dragonite\n",
      "150        Mewtwo\n",
      "151           Mew\n",
      "Name: Identifier, dtype: object\n"
     ]
    },
    {
     "data": {
      "text/html": [
       "<div>\n",
       "<style>\n",
       "    .dataframe thead tr:only-child th {\n",
       "        text-align: right;\n",
       "    }\n",
       "\n",
       "    .dataframe thead th {\n",
       "        text-align: left;\n",
       "    }\n",
       "\n",
       "    .dataframe tbody tr th {\n",
       "        vertical-align: top;\n",
       "    }\n",
       "</style>\n",
       "<table border=\"1\" class=\"dataframe\">\n",
       "  <thead>\n",
       "    <tr style=\"text-align: right;\">\n",
       "      <th></th>\n",
       "      <th>Identifier</th>\n",
       "      <th>BaseStamina</th>\n",
       "      <th>BaseAttack</th>\n",
       "      <th>BaseDefense</th>\n",
       "      <th>Type1</th>\n",
       "      <th>Type2</th>\n",
       "      <th>HighStamina</th>\n",
       "    </tr>\n",
       "    <tr>\n",
       "      <th>PkMn</th>\n",
       "      <th></th>\n",
       "      <th></th>\n",
       "      <th></th>\n",
       "      <th></th>\n",
       "      <th></th>\n",
       "      <th></th>\n",
       "      <th></th>\n",
       "    </tr>\n",
       "  </thead>\n",
       "  <tbody>\n",
       "    <tr>\n",
       "      <th>137</th>\n",
       "      <td>Porygon</td>\n",
       "      <td>130</td>\n",
       "      <td>156</td>\n",
       "      <td>158</td>\n",
       "      <td>Normal</td>\n",
       "      <td>None</td>\n",
       "      <td>False</td>\n",
       "    </tr>\n",
       "    <tr>\n",
       "      <th>138</th>\n",
       "      <td>Omanyte</td>\n",
       "      <td>70</td>\n",
       "      <td>132</td>\n",
       "      <td>160</td>\n",
       "      <td>Rock</td>\n",
       "      <td>Water</td>\n",
       "      <td>False</td>\n",
       "    </tr>\n",
       "    <tr>\n",
       "      <th>139</th>\n",
       "      <td>Omastar</td>\n",
       "      <td>140</td>\n",
       "      <td>180</td>\n",
       "      <td>202</td>\n",
       "      <td>Rock</td>\n",
       "      <td>Water</td>\n",
       "      <td>False</td>\n",
       "    </tr>\n",
       "    <tr>\n",
       "      <th>140</th>\n",
       "      <td>Kabuto</td>\n",
       "      <td>60</td>\n",
       "      <td>148</td>\n",
       "      <td>142</td>\n",
       "      <td>Rock</td>\n",
       "      <td>Water</td>\n",
       "      <td>False</td>\n",
       "    </tr>\n",
       "    <tr>\n",
       "      <th>141</th>\n",
       "      <td>Kabutops</td>\n",
       "      <td>120</td>\n",
       "      <td>190</td>\n",
       "      <td>190</td>\n",
       "      <td>Rock</td>\n",
       "      <td>Water</td>\n",
       "      <td>False</td>\n",
       "    </tr>\n",
       "    <tr>\n",
       "      <th>142</th>\n",
       "      <td>Aerodactyl</td>\n",
       "      <td>160</td>\n",
       "      <td>182</td>\n",
       "      <td>162</td>\n",
       "      <td>Rock</td>\n",
       "      <td>Flying</td>\n",
       "      <td>False</td>\n",
       "    </tr>\n",
       "    <tr>\n",
       "      <th>143</th>\n",
       "      <td>Snorlax</td>\n",
       "      <td>320</td>\n",
       "      <td>180</td>\n",
       "      <td>180</td>\n",
       "      <td>Normal</td>\n",
       "      <td>None</td>\n",
       "      <td>True</td>\n",
       "    </tr>\n",
       "    <tr>\n",
       "      <th>144</th>\n",
       "      <td>Articuno</td>\n",
       "      <td>180</td>\n",
       "      <td>198</td>\n",
       "      <td>242</td>\n",
       "      <td>Ice</td>\n",
       "      <td>Flying</td>\n",
       "      <td>True</td>\n",
       "    </tr>\n",
       "    <tr>\n",
       "      <th>145</th>\n",
       "      <td>Zapdos</td>\n",
       "      <td>180</td>\n",
       "      <td>232</td>\n",
       "      <td>194</td>\n",
       "      <td>Electric</td>\n",
       "      <td>Flying</td>\n",
       "      <td>True</td>\n",
       "    </tr>\n",
       "    <tr>\n",
       "      <th>146</th>\n",
       "      <td>Moltres</td>\n",
       "      <td>180</td>\n",
       "      <td>242</td>\n",
       "      <td>194</td>\n",
       "      <td>Fire</td>\n",
       "      <td>Flying</td>\n",
       "      <td>True</td>\n",
       "    </tr>\n",
       "    <tr>\n",
       "      <th>147</th>\n",
       "      <td>Dratini</td>\n",
       "      <td>82</td>\n",
       "      <td>128</td>\n",
       "      <td>110</td>\n",
       "      <td>Dragon</td>\n",
       "      <td>None</td>\n",
       "      <td>False</td>\n",
       "    </tr>\n",
       "    <tr>\n",
       "      <th>148</th>\n",
       "      <td>Dragonair</td>\n",
       "      <td>122</td>\n",
       "      <td>170</td>\n",
       "      <td>152</td>\n",
       "      <td>Dragon</td>\n",
       "      <td>None</td>\n",
       "      <td>False</td>\n",
       "    </tr>\n",
       "    <tr>\n",
       "      <th>149</th>\n",
       "      <td>Dragonite</td>\n",
       "      <td>182</td>\n",
       "      <td>250</td>\n",
       "      <td>212</td>\n",
       "      <td>Dragon</td>\n",
       "      <td>Flying</td>\n",
       "      <td>True</td>\n",
       "    </tr>\n",
       "    <tr>\n",
       "      <th>150</th>\n",
       "      <td>Mewtwo</td>\n",
       "      <td>212</td>\n",
       "      <td>284</td>\n",
       "      <td>202</td>\n",
       "      <td>Psychic</td>\n",
       "      <td>None</td>\n",
       "      <td>True</td>\n",
       "    </tr>\n",
       "    <tr>\n",
       "      <th>151</th>\n",
       "      <td>Mew</td>\n",
       "      <td>200</td>\n",
       "      <td>220</td>\n",
       "      <td>220</td>\n",
       "      <td>Psychic</td>\n",
       "      <td>None</td>\n",
       "      <td>True</td>\n",
       "    </tr>\n",
       "  </tbody>\n",
       "</table>\n",
       "</div>"
      ],
      "text/plain": [
       "      Identifier  BaseStamina  BaseAttack  BaseDefense     Type1   Type2  \\\n",
       "PkMn                                                                       \n",
       "137      Porygon          130         156          158    Normal    None   \n",
       "138      Omanyte           70         132          160      Rock   Water   \n",
       "139      Omastar          140         180          202      Rock   Water   \n",
       "140       Kabuto           60         148          142      Rock   Water   \n",
       "141     Kabutops          120         190          190      Rock   Water   \n",
       "142   Aerodactyl          160         182          162      Rock  Flying   \n",
       "143      Snorlax          320         180          180    Normal    None   \n",
       "144     Articuno          180         198          242       Ice  Flying   \n",
       "145       Zapdos          180         232          194  Electric  Flying   \n",
       "146      Moltres          180         242          194      Fire  Flying   \n",
       "147      Dratini           82         128          110    Dragon    None   \n",
       "148    Dragonair          122         170          152    Dragon    None   \n",
       "149    Dragonite          182         250          212    Dragon  Flying   \n",
       "150       Mewtwo          212         284          202   Psychic    None   \n",
       "151          Mew          200         220          220   Psychic    None   \n",
       "\n",
       "      HighStamina  \n",
       "PkMn               \n",
       "137         False  \n",
       "138         False  \n",
       "139         False  \n",
       "140         False  \n",
       "141         False  \n",
       "142         False  \n",
       "143          True  \n",
       "144          True  \n",
       "145          True  \n",
       "146          True  \n",
       "147         False  \n",
       "148         False  \n",
       "149          True  \n",
       "150          True  \n",
       "151          True  "
      ]
     },
     "execution_count": 88,
     "metadata": {},
     "output_type": "execute_result"
    }
   ],
   "source": [
    "df = pd.read_csv('https://raw.githubusercontent.com/ChihChengLiang/pokemongor/master/data-raw/pokemons.csv', \n",
    "                 index_col=0)\n",
    "\n",
    "df = df[['Identifier', 'BaseStamina', 'BaseAttack', 'BaseDefense', 'Type1', 'Type2']]\n",
    "\n",
    "capitalize = lambda st: st.capitalize()\n",
    "\n",
    "for col in ['Type1', 'Type2']:\n",
    "    df[col] = df[col].apply(capitalize)\n",
    "    \n",
    "def highstamina(x):\n",
    "    return True if x > 170 else False\n",
    "\n",
    "df['HighStamina'] = df.BaseStamina.apply(highstamina)\n",
    "\n",
    "print(df[df['HighStamina'] == True].Identifier)\n",
    "\n",
    "df.tail(15)"
   ]
  }
 ],
 "metadata": {
  "kernelspec": {
   "display_name": "Python [default]",
   "language": "python",
   "name": "python3"
  },
  "language_info": {
   "codemirror_mode": {
    "name": "ipython",
    "version": 3
   },
   "file_extension": ".py",
   "mimetype": "text/x-python",
   "name": "python",
   "nbconvert_exporter": "python",
   "pygments_lexer": "ipython3",
   "version": "3.6.2"
  }
 },
 "nbformat": 4,
 "nbformat_minor": 2
}
