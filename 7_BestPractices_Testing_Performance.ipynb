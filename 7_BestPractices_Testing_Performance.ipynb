{
 "cells": [
  {
   "cell_type": "markdown",
   "metadata": {},
   "source": [
    "# 7 Best Practices, Testing and Performance"
   ]
  },
  {
   "cell_type": "markdown",
   "metadata": {},
   "source": [
    "## The Zen of Python"
   ]
  },
  {
   "cell_type": "code",
   "execution_count": 1,
   "metadata": {
    "collapsed": false
   },
   "outputs": [
    {
     "name": "stdout",
     "output_type": "stream",
     "text": [
      "The Zen of Python, by Tim Peters\n",
      "\n",
      "Beautiful is better than ugly.\n",
      "Explicit is better than implicit.\n",
      "Simple is better than complex.\n",
      "Complex is better than complicated.\n",
      "Flat is better than nested.\n",
      "Sparse is better than dense.\n",
      "Readability counts.\n",
      "Special cases aren't special enough to break the rules.\n",
      "Although practicality beats purity.\n",
      "Errors should never pass silently.\n",
      "Unless explicitly silenced.\n",
      "In the face of ambiguity, refuse the temptation to guess.\n",
      "There should be one-- and preferably only one --obvious way to do it.\n",
      "Although that way may not be obvious at first unless you're Dutch.\n",
      "Now is better than never.\n",
      "Although never is often better than *right* now.\n",
      "If the implementation is hard to explain, it's a bad idea.\n",
      "If the implementation is easy to explain, it may be a good idea.\n",
      "Namespaces are one honking great idea -- let's do more of those!\n"
     ]
    }
   ],
   "source": [
    "import this"
   ]
  },
  {
   "cell_type": "markdown",
   "metadata": {},
   "source": [
    "## Pep8"
   ]
  },
  {
   "cell_type": "markdown",
   "metadata": {},
   "source": [
    "## Documentation\n",
    "\n",
    "* Document why and not what (what states the code)\n",
    "\n",
    "* False (usually out-dated) documentation is worse than none\n",
    "\n",
    "* Write [self-documenting code](https://testing.googleblog.com/2017/07/code-health-to-comment-or-not-to-comment.html), e.g. (from real-life C++) change\n",
    "```C++\n",
    "if ((j != k) and (d_type[d_lattice->d_cell_id[j]] == mesenchyme)\n",
    "        and (d_type[d_lattice->d_cell_id[k]] == mesenchyme)\n",
    "        and (dist < r_link)\n",
    "        and (fabs(r.w/(d_X[d_lattice->d_cell_id[j]].w + d_X[d_lattice->d_cell_id[k]].w)) > 0.2)) {\n",
    "    d_link[i].a = d_lattice->d_cell_id[j];\n",
    "    d_link[i].b = d_lattice->d_cell_id[k];\n",
    "}\n",
    "```\n",
    "to\n",
    "```C++\n",
    "auto both_mesenchyme = (d_type[d_lattice->d_cell_id[j]] == mesenchyme)\n",
    "    and (d_type[d_lattice->d_cell_id[k]] == mesenchyme);\n",
    "auto along_w = fabs(r.w/(d_X[d_lattice->d_cell_id[j]].w + d_X[d_lattice->d_cell_id[k]].w)) > 0.2;\n",
    "if (both_mesenchyme and (dist < r_link) and along_w) {\n",
    "    d_link[i].a = d_lattice->d_cell_id[j];\n",
    "    d_link[i].b = d_lattice->d_cell_id[k];\n",
    "}\n",
    "```\n",
    "\n",
    "* Turn questions (yours or others) into documentation\n",
    "\n",
    "* Use `docstrings`: \n",
    "```python\n",
    "def documented_function():\n",
    "    \"\"\"This is a docstring\"\"\"\n",
    "    pass\n",
    "```\n",
    "\n",
    "* Turn documentation into code using `docopt`:"
   ]
  },
  {
   "cell_type": "markdown",
   "metadata": {},
   "source": [
    "```python\n",
    "\"\"\"Naval Fate.\n",
    "\n",
    "Usage:\n",
    "  naval_fate.py ship new <name>...\n",
    "  naval_fate.py ship <name> move <x> <y> [--speed=<kn>]\n",
    "  naval_fate.py ship shoot <x> <y>\n",
    "  naval_fate.py mine (set|remove) <x> <y> [--moored | --drifting]\n",
    "  naval_fate.py (-h | --help)\n",
    "  naval_fate.py --version\n",
    "\n",
    "Options:\n",
    "  -h --help     Show this screen.\n",
    "  --version     Show version.\n",
    "  --speed=<kn>  Speed in knots [default: 10].\n",
    "  --moored      Moored (anchored) mine.\n",
    "  --drifting    Drifting mine.\n",
    "\n",
    "\"\"\"\n",
    "from docopt import docopt\n",
    "\n",
    "\n",
    "if __name__ == '__main__':\n",
    "    arguments = docopt(__doc__, version='Naval Fate 2.0')\n",
    "    print(arguments)\n",
    "```\n",
    "Results in\n",
    "```bash\n",
    "$ python naval_fate.py \n",
    "Usage:\n",
    "  naval_fate.py ship new <name>...\n",
    "  naval_fate.py ship <name> move <x> <y> [--speed=<kn>]\n",
    "  naval_fate.py ship shoot <x> <y>\n",
    "  naval_fate.py mine (set|remove) <x> <y> [--moored | --drifting]\n",
    "  naval_fate.py (-h | --help)\n",
    "  naval_fate.py --version\n",
    "\n",
    "$ python naval_fate.py --version\n",
    "Naval Fate 2.0\n",
    "\n",
    "$ python naval_fate.py ship new Titanic\n",
    "{'--drifting': False,\n",
    " '--help': False,\n",
    " '--moored': False,\n",
    " '--speed': '10',\n",
    " '--version': False,\n",
    " '<name>': ['Titanic'],\n",
    " '<x>': None,\n",
    " '<y>': None,\n",
    " 'mine': False,\n",
    " 'move': False,\n",
    " 'new': True,\n",
    " 'remove': False,\n",
    " 'set': False,\n",
    " 'ship': True,\n",
    " 'shoot': False}\n",
    "\n",
    "```"
   ]
  },
  {
   "cell_type": "markdown",
   "metadata": {},
   "source": [
    "## Testing"
   ]
  },
  {
   "cell_type": "markdown",
   "metadata": {},
   "source": [
    "## Optimizing Performance"
   ]
  }
 ],
 "metadata": {
  "kernelspec": {
   "display_name": "Python [conda root]",
   "language": "python",
   "name": "conda-root-py"
  },
  "language_info": {
   "codemirror_mode": {
    "name": "ipython",
    "version": 3
   },
   "file_extension": ".py",
   "mimetype": "text/x-python",
   "name": "python",
   "nbconvert_exporter": "python",
   "pygments_lexer": "ipython3",
   "version": "3.5.2"
  }
 },
 "nbformat": 4,
 "nbformat_minor": 2
}
