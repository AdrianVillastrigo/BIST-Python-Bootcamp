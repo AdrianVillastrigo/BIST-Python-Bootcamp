{
 "cells": [
  {
   "cell_type": "markdown",
   "metadata": {},
   "source": [
    "# 8 Final Projects"
   ]
  },
  {
   "cell_type": "markdown",
   "metadata": {},
   "source": [
    "## Double Pendulum\n",
    "\n",
    "If you connect a pendulum of length $l_1$ and mass $m_1$ to a second pendulum with length $l_2$ and mass $m_2$ you get a double pendulum. The coordinates of the two masses are given by\n",
    "\n",
    "$$ \\begin{eqnarray*}\n",
    "x_{1} & = & l_{1}\\sin\\theta_{1}\\\\\n",
    "y_{1} & = & -l_{1}\\cos\\theta_{1}\\\\\n",
    "x_{2} & = & l_{1}\\sin\\theta_{1}+l_{2}\\sin\\theta_{2}\\\\\n",
    "y_{2} & = & -l_{1}\\cos\\theta_{1}-l_{2}\\cos\\theta_{2}\\end{eqnarray*} $$\n",
    "\n",
    "and the angles evolve according to the following [differential equations](https://www.myphysicslab.com/pendulum/double-pendulum-en.html)\n",
    "\n",
    "$$ \\begin{eqnarray*}\n",
    "\\ddot{\\theta}_{1} & = & \\frac{-g(2m_{1}+m_{2})\\sin\\theta_{1}-m_{2}g\\sin(\\theta_{1}-2\\theta_{2})-2\\sin(\\theta_{1}-\\theta_{2})m_{2}(\\dot{\\theta}_{2}^{2}l_{2}+\\dot{\\theta}_{1}^{2}l_{1}\\cos(\\theta_{1}-\\theta_{2}))}{l_{1}(2m_{1}+m_{2}-m_{2}\\cos(2\\theta_{1}-2\\theta_{2})}\\\\\n",
    "\\ddot{\\theta}_{2} & = & \\frac{2\\sin(\\theta_{1}-\\theta_{2})(\\dot{\\theta}_{1}^{2}l_{1}(m_{1}+m_{2})+g(m_{1}+m_{2})\\cos\\theta_{1}+\\dot{\\theta}_{2}^{2}l_{2}m_{2}\\cos(\\theta_{1}-\\theta_{2}))}{l_{2}(2m_{1}+m_{2}-m_{2}\\cos(2\\theta_{1}-2\\theta_{2})}\\end{eqnarray*}$$\n",
    "\n",
    "where $g=9.81m/s^{2}$.\n",
    "\n",
    "Show that such a systems is chaotic, i.e. tiny changes in the initial conditions can lead to completely different evolutions over time."
   ]
  },
  {
   "cell_type": "markdown",
   "metadata": {},
   "source": [
    "## N-Body Problem\n",
    "\n",
    "The force $\\vec{F}_{ij}$ between two bodies $i$ and $j$ is\n",
    "\n",
    "$$ \\vec{F}_{ij}=-G\\frac{m_{i}m_{j}}{|\\vec{r}_{ij}|^{3}}\\cdot\\vec{r}_{ij} $$\n",
    "\n",
    "where $\\vec{r}_{ij}=\\vec{x}_{i}-\\vec{x}_{j}$ and $G$ is Newton's constant. Integrate\n",
    "\n",
    "$$ m_i\\ddot{\\vec{x_i}}=\\vec{F_i} $$\n",
    "\n",
    "where $\\vec{F_i}$ is the sum of the pairwise forces for each body to get a moon orbiting a planet orbiting a sun."
   ]
  },
  {
   "cell_type": "markdown",
   "metadata": {},
   "source": [
    "## Turing Pattern\n",
    "\n",
    "Alan Turing found that in a system with two diffusing morphogenes $u$ and $v$\n",
    "\n",
    "$$ \\begin{eqnarray*}\n",
    "\\dot u & = & D_1 \\Delta u + f(u, v) \\\\\n",
    "\\dot u & = & D_1 \\Delta u + f(u, v)\n",
    "\\end{eqnarray*}$$\n",
    "\n",
    "diffusion can drive instabilities to pattern tissues if\n",
    "\n",
    "$$ \\begin{eqnarray*}\n",
    "f_u + g_v & < & 0 \\\\\n",
    "f_u g_v - f_v g_u & > & 0 \\\\\n",
    "D_1 g_v + D_2 f_u & > & 0.\n",
    "\\end{eqnarray*}$$\n",
    "\n",
    "One Turing system is the Schnakenberg model\n",
    "\n",
    "$$ \\begin{eqnarray*}\n",
    "f(u, v) & = & k_1 - k_2u + k_3u^2v \\\\\n",
    "g(u, v) & = & k_4 - k_3u^2v.\n",
    "\\end{eqnarray*}$$\n",
    "\n",
    "Find parameters $k_i$ satisfying the conditions and solve the system to get some waves (1D) or spots and stripes (2D)."
   ]
  }
 ],
 "metadata": {
  "kernelspec": {
   "display_name": "Python [conda root]",
   "language": "python",
   "name": "conda-root-py"
  },
  "language_info": {
   "codemirror_mode": {
    "name": "ipython",
    "version": 3
   },
   "file_extension": ".py",
   "mimetype": "text/x-python",
   "name": "python",
   "nbconvert_exporter": "python",
   "pygments_lexer": "ipython3",
   "version": "3.5.2"
  }
 },
 "nbformat": 4,
 "nbformat_minor": 2
}
